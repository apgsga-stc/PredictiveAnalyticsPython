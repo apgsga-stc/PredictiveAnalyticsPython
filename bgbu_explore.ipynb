{
 "cells": [
  {
   "cell_type": "markdown",
   "metadata": {
    "toc-hr-collapsed": false
   },
   "source": [
    "# Budgetbuchung Analyse: Exploration"
   ]
  },
  {
   "cell_type": "code",
   "execution_count": null,
   "metadata": {},
   "outputs": [],
   "source": [
    "import pandas as pd\n",
    "import qgrid\n",
    "from datetime import datetime as dtt\n",
    "\n",
    "from pa_lib.data import data_files, load_bin, store_bin\n",
    "from pa_lib.data import calc_col_partitioned, clean_up_categoricals, flatten, replace_col, cond_col\n",
    "from pa_lib.util import obj_size\n",
    "from pa_lib.log import time_log\n",
    "\n",
    "# display long columns completely\n",
    "pd.set_option('display.max_colwidth', 200)"
   ]
  },
  {
   "cell_type": "code",
   "execution_count": null,
   "metadata": {},
   "outputs": [],
   "source": [
    "data_files()"
   ]
  },
  {
   "cell_type": "code",
   "execution_count": null,
   "metadata": {},
   "outputs": [],
   "source": [
    "pv_bd = load_bin('pv_bd_raw.feather')\n",
    "pv_data = load_bin('pv_data.feather')\n",
    "pv_info = load_bin('pv_info.feather').set_index('PvNr')"
   ]
  },
  {
   "cell_type": "markdown",
   "metadata": {
    "toc-hr-collapsed": false
   },
   "source": [
    "# Rangliste der Verträge nach Umsatz\n",
    "\n",
    "Nur Verträge, die seit 2017 jedes Jahr Umsatz generieren, sortiert nach Gesamtumsatz absteigend"
   ]
  },
  {
   "cell_type": "code",
   "execution_count": null,
   "metadata": {},
   "outputs": [],
   "source": [
    "pv_liste = tuple(pv_info.query('Netto_Aus_2017 > 0 and Netto_Aus_2018 > 0 and Netto_Aus_2019 > 0')\n",
    "                        .eval('SortNetto = Netto_Aus_2017 + Netto_Aus_2018 + Netto_Aus_2019')\n",
    "                        .sort_values('SortNetto', ascending=False).index.values)\n",
    "pv_liste[:20]"
   ]
  },
  {
   "cell_type": "code",
   "execution_count": null,
   "metadata": {},
   "outputs": [],
   "source": [
    "qgrid.show_grid(pv_info)"
   ]
  },
  {
   "cell_type": "markdown",
   "metadata": {},
   "source": [
    "### Check: Buchungen zu Top-20 Verträgen ansehen"
   ]
  },
  {
   "cell_type": "code",
   "execution_count": null,
   "metadata": {},
   "outputs": [],
   "source": [
    "pv_top20 = pv_data.loc[pv_data['PvNr'].isin(pv_liste[:20])]\n",
    "qgrid.show_grid(pv_top20)"
   ]
  },
  {
   "cell_type": "markdown",
   "metadata": {},
   "source": [
    "## Aushang und Reservation zusammen per Vertrag und Woche\n",
    "Getrennte Aggregierung nach Vertrag/Jahr/Woche, dann outer Join und beidseitig auffüllen"
   ]
  },
  {
   "cell_type": "code",
   "execution_count": null,
   "metadata": {},
   "outputs": [],
   "source": [
    "from concurrent.futures import ProcessPoolExecutor\n",
    "\n",
    "def sum_calc(param):\n",
    "    (df, col_year, col_week) = param\n",
    "    return (df.loc[df[col_year] > 2016].pipe(clean_up_categoricals)\n",
    "              .groupby(['PvNr', col_year, col_week], observed=False, as_index=False)[['optNettoNetto']].agg('sum'))\n",
    "\n",
    "with time_log('calculating sums'):\n",
    "    with ProcessPoolExecutor(max_workers=2) as executor:\n",
    "        (pv_res, pv_aus) = tuple(executor.map(sum_calc, [(pv_bd, 'RJahr', 'RKw'), (pv_bd, 'AJahr', 'AKw')]))\n",
    "\n",
    "    pv_by_week = (pv_res.merge(pv_aus,  left_on=['PvNr', 'RJahr', 'RKw'], right_on=['PvNr', 'AJahr', 'AKw'], \n",
    "                               how='outer', suffixes=('_res', '_aus'))\n",
    "                  .rename({'RJahr': 'Jahr', 'RKw': 'Kw', 'optNettoNetto_res': 'Res', 'optNettoNetto_aus': 'Aus'}, axis='columns'))\n",
    "\n",
    "    pv_by_week = (pv_by_week.fillna({'Jahr': pv_by_week.AJahr, 'Kw': pv_by_week.AKw, 'Res': 0, 'Aus': 0})\n",
    "                            .drop(['AJahr', 'AKw'], axis='columns')\n",
    "                            .sort_values(['Jahr', 'PvNr', 'Kw'])\n",
    "                            .reset_index(drop=True))\n",
    "\n",
    "store_bin(pv_by_week, 'pv_by_week.feather')"
   ]
  },
  {
   "cell_type": "markdown",
   "metadata": {},
   "source": [
    "## Auswahl der Partnerverträge für Analyse\n",
    "Um genügend Daten zu haben, werden nur Verträge betrachtet, für die wir mindestens das ganze letzte Jahr (2018) an Daten haben."
   ]
  },
  {
   "cell_type": "code",
   "execution_count": null,
   "metadata": {},
   "outputs": [],
   "source": [
    "pvAListe = pv_info.query('Netto_Aus_2017 > 0 and Netto_Aus_2018 > 0').index.values\n",
    "pvRListe = pv_info.query('Netto_Res_2017 > 0 and Netto_Res_2018 > 0').index.values"
   ]
  },
  {
   "cell_type": "markdown",
   "metadata": {},
   "source": [
    "Daten filtern und bereinigen"
   ]
  },
  {
   "cell_type": "code",
   "execution_count": null,
   "metadata": {},
   "outputs": [],
   "source": [
    "pv_data_a = (pv_data.loc[pv_data['PvNr'].isin(pvAListe)]\n",
    "                .reset_index(drop=True)\n",
    "                .pipe(clean_up_categoricals))\n",
    "pv_data_r = (pv_data.loc[pv_bd['PvNr'].isin(pvRListe)]\n",
    "                .reset_index(drop=True)\n",
    "                .pipe(clean_up_categoricals))"
   ]
  },
  {
   "cell_type": "markdown",
   "metadata": {},
   "source": [
    "# Nach Vertrag, Jahr und Woche ausmultipliziert\n",
    "Werte von 2016 werden verworfen, da dieses Jahr nicht komplett vorhanden ist"
   ]
  },
  {
   "cell_type": "code",
   "execution_count": null,
   "metadata": {},
   "outputs": [],
   "source": [
    "pv_data_a = pv_data_a.query('AJahr > 2016').pipe(clean_up_categoricals)\n",
    "pv_data_r = pv_data_r.query('RJahr > 2016').pipe(clean_up_categoricals)"
   ]
  },
  {
   "cell_type": "code",
   "execution_count": null,
   "metadata": {},
   "outputs": [],
   "source": [
    "pv_akw = pv_data_a.groupby(['PvNr', 'AJahr', 'AKw'], observed=False)\n",
    "pv_rkw = pv_data_r.groupby(['PvNr', 'RJahr', 'RKw'], observed=False)"
   ]
  },
  {
   "cell_type": "markdown",
   "metadata": {},
   "source": [
    "Nettoumsatz pro Vertrag und Jahr/Woche"
   ]
  },
  {
   "cell_type": "code",
   "execution_count": null,
   "metadata": {},
   "outputs": [],
   "source": [
    "pv_akw_netto = (pv_akw[['optNettoNetto']].agg('sum').fillna(0)\n",
    "                .reset_index()\n",
    "                .rename(columns={'optNettoNetto': 'Netto', 'AJahr': 'Jahr', 'AKw': 'Kw'}))\n",
    "pv_rkw_netto = (pv_rkw[['optNettoNetto']].agg('sum').fillna(0)\n",
    "                .reset_index()\n",
    "                .rename(columns={'optNettoNetto': 'Netto', 'RJahr': 'Jahr', 'RKw': 'Kw'}))"
   ]
  },
  {
   "cell_type": "code",
   "execution_count": null,
   "metadata": {},
   "outputs": [],
   "source": [
    "store_bin(pv_akw_netto, 'pv_akw_netto.feather')\n",
    "store_bin(pv_rkw_netto, 'pv_rkw_netto.feather')"
   ]
  },
  {
   "cell_type": "markdown",
   "metadata": {},
   "source": [
    "# Aggregationen hinzufügen"
   ]
  },
  {
   "cell_type": "markdown",
   "metadata": {},
   "source": [
    "#### Jahres-Summenkurven für Nettoumsatz pro Partner/Vertrag/Position\n",
    "\n",
    "Fürs aktuelle Jahr werden die Jahressummen vom letzten Jahr benutzt. Dies impliziert, dass derselbe Umsatz erwartet wird. \n",
    "So zeigt die Summenkurve die Zielerreichung relativ zum Vorjahr."
   ]
  },
  {
   "cell_type": "code",
   "execution_count": null,
   "metadata": {},
   "outputs": [],
   "source": [
    "def make_year_grp_sumcurve(df, year_col, grp_col, data_col):\n",
    "    # rowmasks for this/last year\n",
    "    this_year = (df[year_col] == dtt.today().year)\n",
    "    last_year = (df[year_col] == dtt.today().year-1)\n",
    "\n",
    "    # build new columns with sum/cumsum per year/grp\n",
    "    df = (df\n",
    "          .pipe(calc_col_partitioned, 'sumJahr', fun='sum',    on=data_col, part_by=[year_col, grp_col])\n",
    "          .pipe(calc_col_partitioned, 'cumJahr', fun='cumsum', on=data_col, part_by=[year_col, grp_col]))\n",
    "\n",
    "    # replace this year's sums with last year's\n",
    "    last_year_sum_map = df.loc[last_year].groupby(grp_col)[data_col].agg('sum')\n",
    "    df.loc[this_year, 'sumJahr'] = df.loc[this_year, grp_col].apply(lambda x: last_year_sum_map[x])\n",
    "\n",
    "    # divide cumsum by sum to get sum curve [0, 1], show in %\n",
    "    df = (df.eval('crvJahr = (cumJahr / sumJahr) * 100 + 0.5')\n",
    "            .astype({'crvJahr': 'int'}))\n",
    "    return df"
   ]
  },
  {
   "cell_type": "markdown",
   "metadata": {},
   "source": [
    "#### Auf Rohdaten"
   ]
  },
  {
   "cell_type": "code",
   "execution_count": null,
   "metadata": {},
   "outputs": [],
   "source": [
    "pv_bd_a = make_year_grp_sumcurve(pv_bd_a, year_col='AJahr', grp_col='PvNr', data_col='optNettoNetto')"
   ]
  },
  {
   "cell_type": "code",
   "execution_count": null,
   "metadata": {},
   "outputs": [],
   "source": [
    "qgrid.show_grid(\n",
    "    pv_bd_a.query('PvNr == 311225').loc[:,['AushangBeginn', 'PvNr', 'PvPosNr', 'optNettoNetto', 'sumJahr', 'cumJahr', 'crvJahr']]\n",
    ")"
   ]
  },
  {
   "cell_type": "markdown",
   "metadata": {},
   "source": [
    "#### Auf Aggregationen"
   ]
  },
  {
   "cell_type": "code",
   "execution_count": null,
   "metadata": {},
   "outputs": [],
   "source": [
    "pv_akw_netto = make_year_grp_sumcurve(pv_akw_netto.reset_index(), year_col='Jahr', grp_col='PvNr', data_col='Netto')\n",
    "pv_rkw_netto = make_year_grp_sumcurve(pv_rkw_netto.reset_index(), year_col='Jahr', grp_col='PvNr', data_col='Netto')"
   ]
  },
  {
   "cell_type": "code",
   "execution_count": null,
   "metadata": {},
   "outputs": [],
   "source": [
    "qgrid.show_grid(pv_akw_netto)"
   ]
  },
  {
   "cell_type": "markdown",
   "metadata": {},
   "source": [
    "# Buchungsverlauf graphisch zeigen"
   ]
  },
  {
   "cell_type": "code",
   "execution_count": null,
   "metadata": {},
   "outputs": [],
   "source": [
    "def select_Pv(df, PvNr):\n",
    "    return df.loc[df.PvNr.isin(flatten(PvNr))]"
   ]
  },
  {
   "cell_type": "markdown",
   "metadata": {},
   "source": [
    "#### Alle Buchungen\n",
    "Verträge: Top 20 ohne SBB"
   ]
  },
  {
   "cell_type": "code",
   "execution_count": null,
   "metadata": {},
   "outputs": [],
   "source": [
    "import bokeh\n",
    "from bokeh.plotting import figure, show\n",
    "from bokeh.io import output_notebook\n",
    "\n",
    "output_notebook()\n",
    "\n",
    "p = figure(title=\"Buchungen über Aushang\", x_axis_type='datetime', y_axis_label='Netto', plot_width=900)\n",
    "for PvNr in pv_liste[1:31]:\n",
    "    p.circle(x='AushangBeginn', y='optNettoNetto', source=select_Pv(pv_bd, PvNr), line_color='navy')\n",
    "show(p)\n",
    "p = figure(title=\"Buchungen über Reservation\", x_axis_type='datetime', y_axis_label='Netto', plot_width=900)\n",
    "for PvNr in pv_liste[1:31]:\n",
    "    p.circle(x='ResDatum', y='optNettoNetto', source=select_Pv(pv_bd, PvNr), line_color='navy')\n",
    "show(p)"
   ]
  },
  {
   "cell_type": "markdown",
   "metadata": {},
   "source": [
    "#### Jahresverlauf vergleichen\n",
    "Verträge: Top 20 ohne SBB"
   ]
  },
  {
   "cell_type": "code",
   "execution_count": null,
   "metadata": {},
   "outputs": [],
   "source": [
    "def graph_jahresverlauf(PvNr, typ='aushang'):\n",
    "    \"\"\"Jahres-Buchungsverlauf zeigen. PvNr kann >=1 PvNr enthalten, typ in ('aushang', 'reservation') oder Abk.\"\"\"\n",
    "    import altair as alt\n",
    "\n",
    "    if typ[:3] == 'aus':\n",
    "        data = select_Pv(pv_akw_netto, PvNr)\n",
    "    elif typ[:3] == 'res':\n",
    "        data = select_Pv(pv_akw_netto, PvNr)\n",
    "\n",
    "    pv_select = alt.selection_multi(fields=['PvNr'], nearest=True)\n",
    "    pv_color = alt.condition(pv_select,\n",
    "                             alt.Color('PvNr:N', legend=None),\n",
    "                             alt.value('lightgray'))\n",
    "\n",
    "    yr_select = alt.selection_multi(fields=['Jahr'])\n",
    "    yr_color = alt.condition(yr_select,\n",
    "                             alt.value('black'),\n",
    "                             alt.value('lightgray'))\n",
    "\n",
    "    # X axis: no auto-scaling per category\n",
    "    kw_axis = alt.X('Kw', scale=alt.Scale(rangeStep=None))\n",
    "\n",
    "    # line graphs\n",
    "    lines = alt.Chart(data).mark_line(strokeWidth=3, interpolate='linear').encode(\n",
    "        x=kw_axis,\n",
    "        color=pv_color,\n",
    "        opacity=alt.Opacity('Jahr', legend=None),\n",
    "        tooltip=['Kw', 'Jahr', 'cumJahr', 'crvJahr']\n",
    "    ).add_selection(\n",
    "        pv_select\n",
    "    ).transform_filter(\n",
    "        pv_select\n",
    "    ).transform_filter(\n",
    "        yr_select\n",
    "    )\n",
    "    lines_cum = lines.encode(y='cumJahr')\n",
    "    lines_crv = lines.encode(y='crvJahr')\n",
    "\n",
    "    # clickable Pv legend\n",
    "    pv_legend = alt.Chart(data).mark_rect().encode(\n",
    "        y=alt.Y('PvNr:N', sort=pv_top20, axis=alt.Axis(orient='right')),\n",
    "        color=pv_color\n",
    "    ).add_selection(\n",
    "        pv_select\n",
    "    )\n",
    "\n",
    "    # clickable AJahr legend\n",
    "    yr_legend = alt.Chart(data).mark_circle(size=150).encode(\n",
    "        y=alt.Y('Jahr:N', axis=alt.Axis(orient='right')),\n",
    "        color=yr_color,\n",
    "        opacity=alt.condition(yr_select,\n",
    "                              alt.Opacity('Jahr:N', legend=None),\n",
    "                              alt.value(0.25))\n",
    "    ).add_selection(\n",
    "        yr_select\n",
    "    )\n",
    "\n",
    "    # lay out graphs\n",
    "    return ((lines_cum | (pv_legend | yr_legend)) & \n",
    "            (lines_crv | (pv_legend | yr_legend))\n",
    "           ).configure_view(height=400, width=700)"
   ]
  },
  {
   "cell_type": "code",
   "execution_count": null,
   "metadata": {},
   "outputs": [],
   "source": [
    "pv_top20 = pv_liste[1:21]\n",
    "graph_jahresverlauf(pv_top20, 'reservation').display()"
   ]
  },
  {
   "cell_type": "markdown",
   "metadata": {},
   "source": [
    "# Aushang per Vertrag per Datum\n",
    "Mit Vergleich zu Vorjahren (gleiche KW)"
   ]
  },
  {
   "cell_type": "code",
   "execution_count": null,
   "metadata": {},
   "outputs": [],
   "source": [
    "def aushang(date):\n",
    "    (jahr, kw) = date.isocalendar()[:2]\n",
    "    \n",
    "    result_columns = ['PvNr', 'Jahr', 'sumJahr', 'cumJahr', 'crvJahr']\n",
    "    result_labels  = ['PvNr', 'Jahr', 'total', 'cum', 'prc']\n",
    "    tab = (pv_akw_netto.query('Kw == @kw')\n",
    "                       .loc[:,result_columns]\n",
    "                       .rename(columns=dict(zip(result_columns, result_labels)))\n",
    "                       .pivot(index='PvNr', columns='Jahr', values=['total', 'cum', 'prc']))\n",
    "    cols = [f'{lbl}_{yr}' for (lbl, yr) in tab.columns.to_flat_index()]\n",
    "    tab.set_axis(labels=cols, axis='columns', inplace=True)\n",
    "    return tab"
   ]
  },
  {
   "cell_type": "markdown",
   "metadata": {},
   "source": [
    "### Aushang bis heute"
   ]
  },
  {
   "cell_type": "code",
   "execution_count": null,
   "metadata": {},
   "outputs": [],
   "source": [
    "aus_per_heute = aushang(dtt.today())\n",
    "\n",
    "alle_pv = aus_per_heute.loc[:,['total_2018', 'cum_2019', 'cum_2018', 'cum_2017']].sum(axis=0).astype('int')\n",
    "print(f'Über alle Verträge:\\n{alle_pv}')\n",
    "\n",
    "aus_per_heute.query('total_2018 > 20000')"
   ]
  },
  {
   "cell_type": "markdown",
   "metadata": {
    "toc-hr-collapsed": false
   },
   "source": [
    "### Bereits gebuchter Aushang bis Ende Jahr\n",
    "\n",
    "**Achtung:** Der 28. Dezember ist gemäss ISO-Logik der letzte Tag, der sicher noch in diesem Geschäftsjahr liegt"
   ]
  },
  {
   "cell_type": "code",
   "execution_count": null,
   "metadata": {},
   "outputs": [],
   "source": [
    "aus_per_ende_jahr = aushang(dtt(dtt.today().year, month=12, day=28))\n",
    "\n",
    "alle_pv = aus_per_ende_jahr.loc[:,['total_2018', 'cum_2019']].sum(axis=0).astype('int')\n",
    "print(f'Über alle Verträge:\\n{alle_pv}')\n",
    "\n",
    "aus_per_ende_jahr.query('total_2018 > 20000')"
   ]
  },
  {
   "cell_type": "markdown",
   "metadata": {},
   "source": [
    "# Reservation per Vertrag per Datum\n",
    "Mit Vergleich zu Vorjahren (gleiche KW)"
   ]
  },
  {
   "cell_type": "code",
   "execution_count": null,
   "metadata": {},
   "outputs": [],
   "source": [
    "def reservation(date):\n",
    "    (jahr, kw) = date.isocalendar()[:2]\n",
    "    \n",
    "    result_columns = ['PvNr', 'Jahr', 'sumJahr', 'cumJahr', 'crvJahr']\n",
    "    result_labels  = ['PvNr', 'Jahr', 'total', 'cum', 'prc']\n",
    "    tab = (pv_rkw_netto.query('Kw == @kw')\n",
    "                       .loc[:,result_columns]\n",
    "                       .rename(columns=dict(zip(result_columns, result_labels)))\n",
    "                       .pivot(index='PvNr', columns='Jahr', values=['total', 'cum', 'prc']))\n",
    "    cols = [f'{lbl}_{yr}' for (lbl, yr) in tab.columns.to_flat_index()]\n",
    "    tab.set_axis(labels=cols, axis='columns', inplace=True)\n",
    "    return tab"
   ]
  },
  {
   "cell_type": "markdown",
   "metadata": {},
   "source": [
    "### Reservation bis heute"
   ]
  },
  {
   "cell_type": "code",
   "execution_count": null,
   "metadata": {},
   "outputs": [],
   "source": [
    "res_per_heute = reservation(dtt.today())\n",
    "\n",
    "alle_pv = res_per_heute.loc[:,['total_2018', 'cum_2019', 'cum_2018', 'cum_2017']].sum(axis=0).astype('int')\n",
    "print(f'Über alle Verträge:\\n{alle_pv}')\n",
    "\n",
    "res_per_heute"
   ]
  },
  {
   "cell_type": "markdown",
   "metadata": {},
   "source": [
    "### Berechne prozentuelle Abweichung auf tiefstes Vorjahr, Betragsabweichung (skaliert auf Vorjahr)"
   ]
  },
  {
   "cell_type": "code",
   "execution_count": null,
   "metadata": {},
   "outputs": [],
   "source": [
    "def make_diff_cols(df):\n",
    "    df = (df.assign(prc_diff = df.prc_2019 - np.minimum(df.prc_2017, df.prc_2018))\n",
    "            .eval('cum_diff = prc_diff/100 * total_2018'))\n",
    "    return df"
   ]
  },
  {
   "cell_type": "code",
   "execution_count": null,
   "metadata": {},
   "outputs": [],
   "source": [
    "r = make_diff_cols(res_per_heute)"
   ]
  },
  {
   "cell_type": "code",
   "execution_count": null,
   "metadata": {},
   "outputs": [],
   "source": [
    "r[['total_2018', 'prc_diff', 'cum_diff']].describe()"
   ]
  },
  {
   "cell_type": "code",
   "execution_count": null,
   "metadata": {},
   "outputs": [],
   "source": [
    "r.sort_values(by='prc_diff', ascending=False).head(10)"
   ]
  },
  {
   "cell_type": "markdown",
   "metadata": {},
   "source": [
    "### Plot: % Vorjahr vs. % dieses Jahr, Grösse ~ Umsatz Vorjahr"
   ]
  },
  {
   "cell_type": "code",
   "execution_count": null,
   "metadata": {},
   "outputs": [],
   "source": [
    "import altair as alt\n",
    "\n",
    "# Neue Spalte 'pv_size' = srqt(Umsatz 2018)\n",
    "data = (r.query('total_2018 > 1000')\n",
    "         .assign(pv_size=np.sqrt(r.total_2018))\n",
    "         .reset_index().sort_values('total_2018'))\n",
    "\n",
    "points = alt.Chart(data).mark_circle(clip=True).encode(\n",
    "    x=alt.X('prc_2018'),\n",
    "    y=alt.Y('prc_2019', scale=alt.Scale(domain=[0, 100])),\n",
    "    size='pv_size',\n",
    "    tooltip=['PvNr'],\n",
    "    #color='pv_size'\n",
    ")\n",
    "\n",
    "# Norm-Diagonale\n",
    "diag = alt.Chart(\n",
    "    pd.DataFrame({'x': [0, 100], 'y': [0, 100]})\n",
    ").mark_line(color='lightgray', strokeWidth=1).encode(x='x', y='y')\n",
    "\n",
    "(diag + points).configure_view(width=600, height=600).interactive()"
   ]
  }
 ],
 "metadata": {
  "kernelspec": {
   "display_name": "Python 3",
   "language": "python",
   "name": "python3"
  },
  "language_info": {
   "codemirror_mode": {
    "name": "ipython",
    "version": 3
   },
   "file_extension": ".py",
   "mimetype": "text/x-python",
   "name": "python",
   "nbconvert_exporter": "python",
   "pygments_lexer": "ipython3",
   "version": "3.7.3"
  },
  "toc-autonumbering": false,
  "toc-showcode": false,
  "toc-showmarkdowntxt": false,
  "toc-showtags": false
 },
 "nbformat": 4,
 "nbformat_minor": 2
}
