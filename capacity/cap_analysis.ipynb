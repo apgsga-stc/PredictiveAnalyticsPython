{
 "cells": [
  {
   "cell_type": "code",
   "execution_count": 12,
   "metadata": {
    "pycharm": {
     "is_executing": false
    }
   },
   "outputs": [
    {
     "traceback": [
      "\u001b[0;31m---------------------------------------------------------------------------\u001b[0m",
      "\u001b[0;31mModuleNotFoundError\u001b[0m                       Traceback (most recent call last)",
      "\u001b[0;32m<ipython-input-12-bf75fd99d79b>\u001b[0m in \u001b[0;36m<module>\u001b[0;34m\u001b[0m\n\u001b[1;32m      6\u001b[0m \u001b[0msys\u001b[0m\u001b[0;34m.\u001b[0m\u001b[0mpath\u001b[0m\u001b[0;34m.\u001b[0m\u001b[0mappend\u001b[0m\u001b[0;34m(\u001b[0m\u001b[0mstr\u001b[0m\u001b[0;34m(\u001b[0m\u001b[0mparent_dir\u001b[0m\u001b[0;34m)\u001b[0m\u001b[0;34m)\u001b[0m\u001b[0;34m\u001b[0m\u001b[0;34m\u001b[0m\u001b[0m\n\u001b[1;32m      7\u001b[0m \u001b[0;34m\u001b[0m\u001b[0m\n\u001b[0;32m----> 8\u001b[0;31m \u001b[0;32mfrom\u001b[0m \u001b[0mcapacity\u001b[0m\u001b[0;34m.\u001b[0m\u001b[0mcap_lib\u001b[0m \u001b[0;32mimport\u001b[0m \u001b[0msimulate_cap_data\u001b[0m\u001b[0;34m,\u001b[0m \u001b[0mstore_cap_data\u001b[0m\u001b[0;34m,\u001b[0m \u001b[0mload_cap_data\u001b[0m\u001b[0;34m,\u001b[0m \u001b[0mN_FLAECHEN\u001b[0m\u001b[0;34m\u001b[0m\u001b[0;34m\u001b[0m\u001b[0m\n\u001b[0m\u001b[1;32m      9\u001b[0m \u001b[0;34m\u001b[0m\u001b[0m\n",
      "\u001b[0;31mModuleNotFoundError\u001b[0m: No module named 'capacity.cap_lib'; 'capacity' is not a package"
     ],
     "ename": "ModuleNotFoundError",
     "evalue": "No module named 'capacity.cap_lib'; 'capacity' is not a package",
     "output_type": "error"
    }
   ],
   "source": [
    "import sys\n",
    "from pathlib import Path\n",
    "\n",
    "file_dir = Path.cwd()\n",
    "parent_dir = file_dir.parent\n",
    "sys.path.append(str(parent_dir))\n",
    "\n",
    "from cap_lib import simulate_cap_data, store_cap_data, load_cap_data, N_FLAECHEN"
   ]
  },
  {
   "cell_type": "markdown",
   "metadata": {},
   "source": [
    "# Load data"
   ]
  },
  {
   "cell_type": "code",
   "execution_count": 8,
   "metadata": {
    "pycharm": {
     "is_executing": false
    }
   },
   "outputs": [
    {
     "name": "stdout",
     "text": [
      "20:53:59 [INFO] Started loading pickle file ...\n",
      "20:53:59 [INFO] Reading from file /Users/kpflugshaupt/data/capacity/simulation.pkl\n",
      "20:53:59 [INFO] ... finished loading pickle file in 0.01s (0.01s CPU)\n"
     ],
     "output_type": "stream"
    }
   ],
   "source": [
    "#cap_data = simulate_cap_data(1000)\n",
    "#store_cap_data(cap_data, file_name=\"simulation.pkl\")\n",
    "\n",
    "cap_data = load_cap_data(\"simulation.pkl\")"
   ]
  },
  {
   "cell_type": "code",
   "execution_count": 9,
   "metadata": {
    "pycharm": {
     "is_executing": false
    }
   },
   "outputs": [
    {
     "data": {
      "text/plain": "   year  kw  fl_nr      prob  belegt\n0  2016   1  10000  0.515679       1\n1  2016   1  10001  0.701675       1\n2  2016   1  10002  0.513100       1\n3  2016   1  10003  0.585118       1\n4  2016   1  10004  0.788474       1",
      "text/html": "<div>\n<style scoped>\n    .dataframe tbody tr th:only-of-type {\n        vertical-align: middle;\n    }\n\n    .dataframe tbody tr th {\n        vertical-align: top;\n    }\n\n    .dataframe thead th {\n        text-align: right;\n    }\n</style>\n<table border=\"1\" class=\"dataframe\">\n  <thead>\n    <tr style=\"text-align: right;\">\n      <th></th>\n      <th>year</th>\n      <th>kw</th>\n      <th>fl_nr</th>\n      <th>prob</th>\n      <th>belegt</th>\n    </tr>\n  </thead>\n  <tbody>\n    <tr>\n      <th>0</th>\n      <td>2016</td>\n      <td>1</td>\n      <td>10000</td>\n      <td>0.515679</td>\n      <td>1</td>\n    </tr>\n    <tr>\n      <th>1</th>\n      <td>2016</td>\n      <td>1</td>\n      <td>10001</td>\n      <td>0.701675</td>\n      <td>1</td>\n    </tr>\n    <tr>\n      <th>2</th>\n      <td>2016</td>\n      <td>1</td>\n      <td>10002</td>\n      <td>0.513100</td>\n      <td>1</td>\n    </tr>\n    <tr>\n      <th>3</th>\n      <td>2016</td>\n      <td>1</td>\n      <td>10003</td>\n      <td>0.585118</td>\n      <td>1</td>\n    </tr>\n    <tr>\n      <th>4</th>\n      <td>2016</td>\n      <td>1</td>\n      <td>10004</td>\n      <td>0.788474</td>\n      <td>1</td>\n    </tr>\n  </tbody>\n</table>\n</div>"
     },
     "metadata": {},
     "output_type": "execute_result",
     "execution_count": 9
    }
   ],
   "source": [
    "cap_data.head()"
   ]
  },
  {
   "cell_type": "markdown",
   "metadata": {},
   "source": [
    "# Analysis"
   ]
  },
  {
   "cell_type": "code",
   "execution_count": 10,
   "metadata": {
    "pycharm": {
     "is_executing": false
    }
   },
   "outputs": [
    {
     "data": {
      "text/plain": "     year  kw  belegt\n0    2016   1   0.884\n1    2016   2   0.831\n2    2016   3   1.000\n3    2016   4   0.236\n4    2016   5   0.581\n..    ...  ..     ...\n203  2019  48   0.000\n204  2019  49   0.000\n205  2019  50   0.662\n206  2019  51   0.390\n207  2019  52   0.347\n\n[208 rows x 3 columns]",
      "text/html": "<div>\n<style scoped>\n    .dataframe tbody tr th:only-of-type {\n        vertical-align: middle;\n    }\n\n    .dataframe tbody tr th {\n        vertical-align: top;\n    }\n\n    .dataframe thead th {\n        text-align: right;\n    }\n</style>\n<table border=\"1\" class=\"dataframe\">\n  <thead>\n    <tr style=\"text-align: right;\">\n      <th></th>\n      <th>year</th>\n      <th>kw</th>\n      <th>belegt</th>\n    </tr>\n  </thead>\n  <tbody>\n    <tr>\n      <th>0</th>\n      <td>2016</td>\n      <td>1</td>\n      <td>0.884</td>\n    </tr>\n    <tr>\n      <th>1</th>\n      <td>2016</td>\n      <td>2</td>\n      <td>0.831</td>\n    </tr>\n    <tr>\n      <th>2</th>\n      <td>2016</td>\n      <td>3</td>\n      <td>1.000</td>\n    </tr>\n    <tr>\n      <th>3</th>\n      <td>2016</td>\n      <td>4</td>\n      <td>0.236</td>\n    </tr>\n    <tr>\n      <th>4</th>\n      <td>2016</td>\n      <td>5</td>\n      <td>0.581</td>\n    </tr>\n    <tr>\n      <th>...</th>\n      <td>...</td>\n      <td>...</td>\n      <td>...</td>\n    </tr>\n    <tr>\n      <th>203</th>\n      <td>2019</td>\n      <td>48</td>\n      <td>0.000</td>\n    </tr>\n    <tr>\n      <th>204</th>\n      <td>2019</td>\n      <td>49</td>\n      <td>0.000</td>\n    </tr>\n    <tr>\n      <th>205</th>\n      <td>2019</td>\n      <td>50</td>\n      <td>0.662</td>\n    </tr>\n    <tr>\n      <th>206</th>\n      <td>2019</td>\n      <td>51</td>\n      <td>0.390</td>\n    </tr>\n    <tr>\n      <th>207</th>\n      <td>2019</td>\n      <td>52</td>\n      <td>0.347</td>\n    </tr>\n  </tbody>\n</table>\n<p>208 rows × 3 columns</p>\n</div>"
     },
     "metadata": {},
     "output_type": "execute_result",
     "execution_count": 10
    }
   ],
   "source": [
    "cap_per_kw = cap_data.groupby([\"year\", \"kw\"])[[\"belegt\"]].agg(\"sum\").reset_index()\n",
    "\n",
    "cap_per_kw[\"belegt\"] /= N_FLAECHEN\n",
    "cap_per_kw"
   ]
  },
  {
   "cell_type": "code",
   "execution_count": null,
   "metadata": {},
   "outputs": [],
   "source": []
  }
 ],
 "metadata": {
  "kernelspec": {
   "display_name": "Python 3",
   "language": "python",
   "name": "python3"
  },
  "language_info": {
   "codemirror_mode": {
    "name": "ipython",
    "version": 3
   },
   "file_extension": ".py",
   "mimetype": "text/x-python",
   "name": "python",
   "nbconvert_exporter": "python",
   "pygments_lexer": "ipython3",
   "version": "3.7.6"
  },
  "pycharm": {
   "stem_cell": {
    "cell_type": "raw",
    "source": [],
    "metadata": {
     "collapsed": false
    }
   }
  }
 },
 "nbformat": 4,
 "nbformat_minor": 4
}