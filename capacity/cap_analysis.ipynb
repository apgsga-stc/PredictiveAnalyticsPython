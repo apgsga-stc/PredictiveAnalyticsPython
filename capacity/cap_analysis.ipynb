{
 "cells": [
  {
   "cell_type": "code",
   "execution_count": 2,
   "metadata": {
    "pycharm": {
     "is_executing": false
    }
   },
   "outputs": [],
   "source": [
    "import sys\n",
    "from pathlib import Path\n",
    "\n",
    "file_dir = Path.cwd()\n",
    "parent_dir = file_dir.parent\n",
    "sys.path.append(str(parent_dir))\n",
    "\n",
    "from cap_lib import simulate_cap_data, store_cap_data, load_cap_data, N_FLAECHEN"
   ]
  },
  {
   "cell_type": "markdown",
   "metadata": {},
   "source": [
    "# Load data"
   ]
  },
  {
   "cell_type": "code",
   "execution_count": 3,
   "metadata": {
    "pycharm": {
     "is_executing": false
    }
   },
   "outputs": [
    {
     "name": "stdout",
     "output_type": "stream",
     "text": [
      "18:27:34 [INFO] Started loading pickle file ...\n",
      "18:27:34 [INFO] Reading from file C:\\Users\\kpf\\data\\capacity\\simulation.pkl\n",
      "18:27:34 [INFO] ... finished loading pickle file in 0.03s (0.05s CPU)\n"
     ]
    }
   ],
   "source": [
    "#cap_data = simulate_cap_data(1000)\n",
    "#store_cap_data(cap_data, file_name=\"simulation.pkl\")\n",
    "\n",
    "cap_data = load_cap_data(\"simulation.pkl\")"
   ]
  },
  {
   "cell_type": "code",
   "execution_count": 4,
   "metadata": {
    "pycharm": {
     "is_executing": false
    }
   },
   "outputs": [
    {
     "data": {
      "text/html": [
       "<div>\n",
       "<style scoped>\n",
       "    .dataframe tbody tr th:only-of-type {\n",
       "        vertical-align: middle;\n",
       "    }\n",
       "\n",
       "    .dataframe tbody tr th {\n",
       "        vertical-align: top;\n",
       "    }\n",
       "\n",
       "    .dataframe thead th {\n",
       "        text-align: right;\n",
       "    }\n",
       "</style>\n",
       "<table border=\"1\" class=\"dataframe\">\n",
       "  <thead>\n",
       "    <tr style=\"text-align: right;\">\n",
       "      <th></th>\n",
       "      <th>year</th>\n",
       "      <th>kw</th>\n",
       "      <th>fl_nr</th>\n",
       "      <th>prob</th>\n",
       "      <th>belegt</th>\n",
       "    </tr>\n",
       "  </thead>\n",
       "  <tbody>\n",
       "    <tr>\n",
       "      <th>0</th>\n",
       "      <td>2016</td>\n",
       "      <td>1</td>\n",
       "      <td>10000</td>\n",
       "      <td>0.515679</td>\n",
       "      <td>1</td>\n",
       "    </tr>\n",
       "    <tr>\n",
       "      <th>1</th>\n",
       "      <td>2016</td>\n",
       "      <td>1</td>\n",
       "      <td>10001</td>\n",
       "      <td>0.701675</td>\n",
       "      <td>1</td>\n",
       "    </tr>\n",
       "    <tr>\n",
       "      <th>2</th>\n",
       "      <td>2016</td>\n",
       "      <td>1</td>\n",
       "      <td>10002</td>\n",
       "      <td>0.513100</td>\n",
       "      <td>1</td>\n",
       "    </tr>\n",
       "    <tr>\n",
       "      <th>3</th>\n",
       "      <td>2016</td>\n",
       "      <td>1</td>\n",
       "      <td>10003</td>\n",
       "      <td>0.585118</td>\n",
       "      <td>1</td>\n",
       "    </tr>\n",
       "    <tr>\n",
       "      <th>4</th>\n",
       "      <td>2016</td>\n",
       "      <td>1</td>\n",
       "      <td>10004</td>\n",
       "      <td>0.788474</td>\n",
       "      <td>1</td>\n",
       "    </tr>\n",
       "  </tbody>\n",
       "</table>\n",
       "</div>"
      ],
      "text/plain": [
       "   year  kw  fl_nr      prob  belegt\n",
       "0  2016   1  10000  0.515679       1\n",
       "1  2016   1  10001  0.701675       1\n",
       "2  2016   1  10002  0.513100       1\n",
       "3  2016   1  10003  0.585118       1\n",
       "4  2016   1  10004  0.788474       1"
      ]
     },
     "execution_count": 4,
     "metadata": {},
     "output_type": "execute_result"
    }
   ],
   "source": [
    "cap_data.head()"
   ]
  },
  {
   "cell_type": "markdown",
   "metadata": {},
   "source": [
    "# Analysis"
   ]
  },
  {
   "cell_type": "code",
   "execution_count": 5,
   "metadata": {
    "pycharm": {
     "is_executing": false
    }
   },
   "outputs": [
    {
     "data": {
      "text/html": [
       "<div>\n",
       "<style scoped>\n",
       "    .dataframe tbody tr th:only-of-type {\n",
       "        vertical-align: middle;\n",
       "    }\n",
       "\n",
       "    .dataframe tbody tr th {\n",
       "        vertical-align: top;\n",
       "    }\n",
       "\n",
       "    .dataframe thead th {\n",
       "        text-align: right;\n",
       "    }\n",
       "</style>\n",
       "<table border=\"1\" class=\"dataframe\">\n",
       "  <thead>\n",
       "    <tr style=\"text-align: right;\">\n",
       "      <th></th>\n",
       "      <th>year</th>\n",
       "      <th>kw</th>\n",
       "      <th>belegt</th>\n",
       "    </tr>\n",
       "  </thead>\n",
       "  <tbody>\n",
       "    <tr>\n",
       "      <th>0</th>\n",
       "      <td>2016</td>\n",
       "      <td>1</td>\n",
       "      <td>0.884</td>\n",
       "    </tr>\n",
       "    <tr>\n",
       "      <th>1</th>\n",
       "      <td>2016</td>\n",
       "      <td>2</td>\n",
       "      <td>0.831</td>\n",
       "    </tr>\n",
       "    <tr>\n",
       "      <th>2</th>\n",
       "      <td>2016</td>\n",
       "      <td>3</td>\n",
       "      <td>1.000</td>\n",
       "    </tr>\n",
       "    <tr>\n",
       "      <th>3</th>\n",
       "      <td>2016</td>\n",
       "      <td>4</td>\n",
       "      <td>0.236</td>\n",
       "    </tr>\n",
       "    <tr>\n",
       "      <th>4</th>\n",
       "      <td>2016</td>\n",
       "      <td>5</td>\n",
       "      <td>0.581</td>\n",
       "    </tr>\n",
       "    <tr>\n",
       "      <th>...</th>\n",
       "      <td>...</td>\n",
       "      <td>...</td>\n",
       "      <td>...</td>\n",
       "    </tr>\n",
       "    <tr>\n",
       "      <th>203</th>\n",
       "      <td>2019</td>\n",
       "      <td>48</td>\n",
       "      <td>0.000</td>\n",
       "    </tr>\n",
       "    <tr>\n",
       "      <th>204</th>\n",
       "      <td>2019</td>\n",
       "      <td>49</td>\n",
       "      <td>0.000</td>\n",
       "    </tr>\n",
       "    <tr>\n",
       "      <th>205</th>\n",
       "      <td>2019</td>\n",
       "      <td>50</td>\n",
       "      <td>0.662</td>\n",
       "    </tr>\n",
       "    <tr>\n",
       "      <th>206</th>\n",
       "      <td>2019</td>\n",
       "      <td>51</td>\n",
       "      <td>0.390</td>\n",
       "    </tr>\n",
       "    <tr>\n",
       "      <th>207</th>\n",
       "      <td>2019</td>\n",
       "      <td>52</td>\n",
       "      <td>0.347</td>\n",
       "    </tr>\n",
       "  </tbody>\n",
       "</table>\n",
       "<p>208 rows × 3 columns</p>\n",
       "</div>"
      ],
      "text/plain": [
       "     year  kw  belegt\n",
       "0    2016   1   0.884\n",
       "1    2016   2   0.831\n",
       "2    2016   3   1.000\n",
       "3    2016   4   0.236\n",
       "4    2016   5   0.581\n",
       "..    ...  ..     ...\n",
       "203  2019  48   0.000\n",
       "204  2019  49   0.000\n",
       "205  2019  50   0.662\n",
       "206  2019  51   0.390\n",
       "207  2019  52   0.347\n",
       "\n",
       "[208 rows x 3 columns]"
      ]
     },
     "execution_count": 5,
     "metadata": {},
     "output_type": "execute_result"
    }
   ],
   "source": [
    "cap_per_kw = cap_data.groupby([\"year\", \"kw\"])[[\"belegt\"]].agg(\"sum\").reset_index()\n",
    "\n",
    "cap_per_kw[\"belegt\"] /= N_FLAECHEN\n",
    "cap_per_kw"
   ]
  },
  {
   "cell_type": "code",
   "execution_count": 6,
   "metadata": {},
   "outputs": [],
   "source": [
    "import altair as alt"
   ]
  },
  {
   "cell_type": "code",
   "execution_count": 7,
   "metadata": {},
   "outputs": [
    {
     "data": {
      "text/html": [
       "\n",
       "<div id=\"altair-viz-1782436e0ab540048cd66a8da80bc5af\"></div>\n",
       "<script type=\"text/javascript\">\n",
       "  (function(spec, embedOpt){\n",
       "    const outputDiv = document.getElementById(\"altair-viz-1782436e0ab540048cd66a8da80bc5af\");\n",
       "    const paths = {\n",
       "      \"vega\": \"https://cdn.jsdelivr.net/npm//vega@5?noext\",\n",
       "      \"vega-lib\": \"https://cdn.jsdelivr.net/npm//vega-lib?noext\",\n",
       "      \"vega-lite\": \"https://cdn.jsdelivr.net/npm//vega-lite@4.0.2?noext\",\n",
       "      \"vega-embed\": \"https://cdn.jsdelivr.net/npm//vega-embed@6?noext\",\n",
       "    };\n",
       "\n",
       "    function loadScript(lib) {\n",
       "      return new Promise(function(resolve, reject) {\n",
       "        var s = document.createElement('script');\n",
       "        s.src = paths[lib];\n",
       "        s.async = true;\n",
       "        s.onload = () => resolve(paths[lib]);\n",
       "        s.onerror = () => reject(`Error loading script: ${paths[lib]}`);\n",
       "        document.getElementsByTagName(\"head\")[0].appendChild(s);\n",
       "      });\n",
       "    }\n",
       "\n",
       "    function showError(err) {\n",
       "      outputDiv.innerHTML = `<div class=\"error\" style=\"color:red;\">${err}</div>`;\n",
       "      throw err;\n",
       "    }\n",
       "\n",
       "    function displayChart(vegaEmbed) {\n",
       "      vegaEmbed(outputDiv, spec, embedOpt)\n",
       "        .catch(err => showError(`Javascript Error: ${err.message}<br>This usually means there's a typo in your chart specification. See the javascript console for the full traceback.`));\n",
       "    }\n",
       "\n",
       "    if(typeof define === \"function\" && define.amd) {\n",
       "      requirejs.config({paths});\n",
       "      require([\"vega-embed\"], displayChart, err => showError(`Error loading script: ${err.message}`));\n",
       "    } else if (typeof vegaEmbed === \"function\") {\n",
       "      displayChart(vegaEmbed);\n",
       "    } else {\n",
       "      loadScript(\"vega\")\n",
       "        .then(() => loadScript(\"vega-lite\"))\n",
       "        .then(() => loadScript(\"vega-embed\"))\n",
       "        .catch(showError)\n",
       "        .then(() => displayChart(vegaEmbed));\n",
       "    }\n",
       "  })({\"config\": {\"view\": {\"continuousWidth\": 400, \"continuousHeight\": 300}}, \"data\": {\"name\": \"data-89f5d84282263ff472727c150a8c7d3f\"}, \"mark\": \"line\", \"encoding\": {}, \"$schema\": \"https://vega.github.io/schema/vega-lite/v4.0.2.json\", \"datasets\": {\"data-89f5d84282263ff472727c150a8c7d3f\": [{\"year\": 2016, \"kw\": 1, \"belegt\": 0.884}, {\"year\": 2016, \"kw\": 2, \"belegt\": 0.831}, {\"year\": 2016, \"kw\": 3, \"belegt\": 1.0}, {\"year\": 2016, \"kw\": 4, \"belegt\": 0.236}, {\"year\": 2016, \"kw\": 5, \"belegt\": 0.581}, {\"year\": 2016, \"kw\": 6, \"belegt\": 0.183}, {\"year\": 2016, \"kw\": 7, \"belegt\": 0.372}, {\"year\": 2016, \"kw\": 8, \"belegt\": 0.653}, {\"year\": 2016, \"kw\": 9, \"belegt\": 0.179}, {\"year\": 2016, \"kw\": 10, \"belegt\": 0.352}, {\"year\": 2016, \"kw\": 11, \"belegt\": 0.808}, {\"year\": 2016, \"kw\": 12, \"belegt\": 0.684}, {\"year\": 2016, \"kw\": 13, \"belegt\": 0.375}, {\"year\": 2016, \"kw\": 14, \"belegt\": 0.732}, {\"year\": 2016, \"kw\": 15, \"belegt\": 0.956}, {\"year\": 2016, \"kw\": 16, \"belegt\": 0.158}, {\"year\": 2016, \"kw\": 17, \"belegt\": 0.953}, {\"year\": 2016, \"kw\": 18, \"belegt\": 0.849}, {\"year\": 2016, \"kw\": 19, \"belegt\": 0.501}, {\"year\": 2016, \"kw\": 20, \"belegt\": 0.306}, {\"year\": 2016, \"kw\": 21, \"belegt\": 1.0}, {\"year\": 2016, \"kw\": 22, \"belegt\": 0.497}, {\"year\": 2016, \"kw\": 23, \"belegt\": 0.239}, {\"year\": 2016, \"kw\": 24, \"belegt\": 0.245}, {\"year\": 2016, \"kw\": 25, \"belegt\": 0.987}, {\"year\": 2016, \"kw\": 26, \"belegt\": 0.75}, {\"year\": 2016, \"kw\": 27, \"belegt\": 0.954}, {\"year\": 2016, \"kw\": 28, \"belegt\": 0.875}, {\"year\": 2016, \"kw\": 29, \"belegt\": 0.676}, {\"year\": 2016, \"kw\": 30, \"belegt\": 1.0}, {\"year\": 2016, \"kw\": 31, \"belegt\": 0.536}, {\"year\": 2016, \"kw\": 32, \"belegt\": 0.693}, {\"year\": 2016, \"kw\": 33, \"belegt\": 0.97}, {\"year\": 2016, \"kw\": 34, \"belegt\": 0.77}, {\"year\": 2016, \"kw\": 35, \"belegt\": 1.0}, {\"year\": 2016, \"kw\": 36, \"belegt\": 0.719}, {\"year\": 2016, \"kw\": 37, \"belegt\": 0.854}, {\"year\": 2016, \"kw\": 38, \"belegt\": 0.199}, {\"year\": 2016, \"kw\": 39, \"belegt\": 0.386}, {\"year\": 2016, \"kw\": 40, \"belegt\": 0.443}, {\"year\": 2016, \"kw\": 41, \"belegt\": 0.231}, {\"year\": 2016, \"kw\": 42, \"belegt\": 0.391}, {\"year\": 2016, \"kw\": 43, \"belegt\": 0.25}, {\"year\": 2016, \"kw\": 44, \"belegt\": 0.432}, {\"year\": 2016, \"kw\": 45, \"belegt\": 0.787}, {\"year\": 2016, \"kw\": 46, \"belegt\": 0.52}, {\"year\": 2016, \"kw\": 47, \"belegt\": 0.527}, {\"year\": 2016, \"kw\": 48, \"belegt\": 0.365}, {\"year\": 2016, \"kw\": 49, \"belegt\": 0.422}, {\"year\": 2016, \"kw\": 50, \"belegt\": 1.0}, {\"year\": 2016, \"kw\": 51, \"belegt\": 0.803}, {\"year\": 2016, \"kw\": 52, \"belegt\": 0.754}, {\"year\": 2017, \"kw\": 1, \"belegt\": 0.278}, {\"year\": 2017, \"kw\": 2, \"belegt\": 0.211}, {\"year\": 2017, \"kw\": 3, \"belegt\": 0.432}, {\"year\": 2017, \"kw\": 4, \"belegt\": 0.0}, {\"year\": 2017, \"kw\": 5, \"belegt\": 0.0}, {\"year\": 2017, \"kw\": 6, \"belegt\": 0.0}, {\"year\": 2017, \"kw\": 7, \"belegt\": 0.0}, {\"year\": 2017, \"kw\": 8, \"belegt\": 0.036}, {\"year\": 2017, \"kw\": 9, \"belegt\": 0.0}, {\"year\": 2017, \"kw\": 10, \"belegt\": 0.0}, {\"year\": 2017, \"kw\": 11, \"belegt\": 0.188}, {\"year\": 2017, \"kw\": 12, \"belegt\": 0.08}, {\"year\": 2017, \"kw\": 13, \"belegt\": 0.0}, {\"year\": 2017, \"kw\": 14, \"belegt\": 0.116}, {\"year\": 2017, \"kw\": 15, \"belegt\": 0.348}, {\"year\": 2017, \"kw\": 16, \"belegt\": 0.0}, {\"year\": 2017, \"kw\": 17, \"belegt\": 0.346}, {\"year\": 2017, \"kw\": 18, \"belegt\": 0.234}, {\"year\": 2017, \"kw\": 19, \"belegt\": 0.0}, {\"year\": 2017, \"kw\": 20, \"belegt\": 0.0}, {\"year\": 2017, \"kw\": 21, \"belegt\": 0.502}, {\"year\": 2017, \"kw\": 22, \"belegt\": 0.0}, {\"year\": 2017, \"kw\": 23, \"belegt\": 0.0}, {\"year\": 2017, \"kw\": 24, \"belegt\": 0.0}, {\"year\": 2017, \"kw\": 25, \"belegt\": 0.391}, {\"year\": 2017, \"kw\": 26, \"belegt\": 0.135}, {\"year\": 2017, \"kw\": 27, \"belegt\": 0.347}, {\"year\": 2017, \"kw\": 28, \"belegt\": 0.269}, {\"year\": 2017, \"kw\": 29, \"belegt\": 0.074}, {\"year\": 2017, \"kw\": 30, \"belegt\": 0.516}, {\"year\": 2017, \"kw\": 31, \"belegt\": 0.0}, {\"year\": 2017, \"kw\": 32, \"belegt\": 0.087}, {\"year\": 2017, \"kw\": 33, \"belegt\": 0.371}, {\"year\": 2017, \"kw\": 34, \"belegt\": 0.157}, {\"year\": 2017, \"kw\": 35, \"belegt\": 0.403}, {\"year\": 2017, \"kw\": 36, \"belegt\": 0.112}, {\"year\": 2017, \"kw\": 37, \"belegt\": 0.238}, {\"year\": 2017, \"kw\": 38, \"belegt\": 0.0}, {\"year\": 2017, \"kw\": 39, \"belegt\": 0.0}, {\"year\": 2017, \"kw\": 40, \"belegt\": 0.0}, {\"year\": 2017, \"kw\": 41, \"belegt\": 0.0}, {\"year\": 2017, \"kw\": 42, \"belegt\": 0.0}, {\"year\": 2017, \"kw\": 43, \"belegt\": 0.0}, {\"year\": 2017, \"kw\": 44, \"belegt\": 0.0}, {\"year\": 2017, \"kw\": 45, \"belegt\": 0.174}, {\"year\": 2017, \"kw\": 46, \"belegt\": 0.0}, {\"year\": 2017, \"kw\": 47, \"belegt\": 0.0}, {\"year\": 2017, \"kw\": 48, \"belegt\": 0.0}, {\"year\": 2017, \"kw\": 49, \"belegt\": 0.0}, {\"year\": 2017, \"kw\": 50, \"belegt\": 0.483}, {\"year\": 2017, \"kw\": 51, \"belegt\": 0.187}, {\"year\": 2017, \"kw\": 52, \"belegt\": 0.141}, {\"year\": 2018, \"kw\": 1, \"belegt\": 0.531}, {\"year\": 2018, \"kw\": 2, \"belegt\": 0.466}, {\"year\": 2018, \"kw\": 3, \"belegt\": 0.669}, {\"year\": 2018, \"kw\": 4, \"belegt\": 0.0}, {\"year\": 2018, \"kw\": 5, \"belegt\": 0.208}, {\"year\": 2018, \"kw\": 6, \"belegt\": 0.0}, {\"year\": 2018, \"kw\": 7, \"belegt\": 0.0}, {\"year\": 2018, \"kw\": 8, \"belegt\": 0.293}, {\"year\": 2018, \"kw\": 9, \"belegt\": 0.0}, {\"year\": 2018, \"kw\": 10, \"belegt\": 0.0}, {\"year\": 2018, \"kw\": 11, \"belegt\": 0.439}, {\"year\": 2018, \"kw\": 12, \"belegt\": 0.33}, {\"year\": 2018, \"kw\": 13, \"belegt\": 0.0}, {\"year\": 2018, \"kw\": 14, \"belegt\": 0.381}, {\"year\": 2018, \"kw\": 15, \"belegt\": 0.61}, {\"year\": 2018, \"kw\": 16, \"belegt\": 0.0}, {\"year\": 2018, \"kw\": 17, \"belegt\": 0.607}, {\"year\": 2018, \"kw\": 18, \"belegt\": 0.494}, {\"year\": 2018, \"kw\": 19, \"belegt\": 0.116}, {\"year\": 2018, \"kw\": 20, \"belegt\": 0.0}, {\"year\": 2018, \"kw\": 21, \"belegt\": 0.736}, {\"year\": 2018, \"kw\": 22, \"belegt\": 0.115}, {\"year\": 2018, \"kw\": 23, \"belegt\": 0.0}, {\"year\": 2018, \"kw\": 24, \"belegt\": 0.0}, {\"year\": 2018, \"kw\": 25, \"belegt\": 0.645}, {\"year\": 2018, \"kw\": 26, \"belegt\": 0.397}, {\"year\": 2018, \"kw\": 27, \"belegt\": 0.609}, {\"year\": 2018, \"kw\": 28, \"belegt\": 0.521}, {\"year\": 2018, \"kw\": 29, \"belegt\": 0.324}, {\"year\": 2018, \"kw\": 30, \"belegt\": 0.754}, {\"year\": 2018, \"kw\": 31, \"belegt\": 0.171}, {\"year\": 2018, \"kw\": 32, \"belegt\": 0.337}, {\"year\": 2018, \"kw\": 33, \"belegt\": 0.632}, {\"year\": 2018, \"kw\": 34, \"belegt\": 0.411}, {\"year\": 2018, \"kw\": 35, \"belegt\": 0.651}, {\"year\": 2018, \"kw\": 36, \"belegt\": 0.369}, {\"year\": 2018, \"kw\": 37, \"belegt\": 0.501}, {\"year\": 2018, \"kw\": 38, \"belegt\": 0.0}, {\"year\": 2018, \"kw\": 39, \"belegt\": 0.007}, {\"year\": 2018, \"kw\": 40, \"belegt\": 0.074}, {\"year\": 2018, \"kw\": 41, \"belegt\": 0.0}, {\"year\": 2018, \"kw\": 42, \"belegt\": 0.014}, {\"year\": 2018, \"kw\": 43, \"belegt\": 0.0}, {\"year\": 2018, \"kw\": 44, \"belegt\": 0.062}, {\"year\": 2018, \"kw\": 45, \"belegt\": 0.423}, {\"year\": 2018, \"kw\": 46, \"belegt\": 0.151}, {\"year\": 2018, \"kw\": 47, \"belegt\": 0.158}, {\"year\": 2018, \"kw\": 48, \"belegt\": 0.0}, {\"year\": 2018, \"kw\": 49, \"belegt\": 0.051}, {\"year\": 2018, \"kw\": 50, \"belegt\": 0.715}, {\"year\": 2018, \"kw\": 51, \"belegt\": 0.437}, {\"year\": 2018, \"kw\": 52, \"belegt\": 0.402}, {\"year\": 2019, \"kw\": 1, \"belegt\": 0.476}, {\"year\": 2019, \"kw\": 2, \"belegt\": 0.417}, {\"year\": 2019, \"kw\": 3, \"belegt\": 0.636}, {\"year\": 2019, \"kw\": 4, \"belegt\": 0.0}, {\"year\": 2019, \"kw\": 5, \"belegt\": 0.158}, {\"year\": 2019, \"kw\": 6, \"belegt\": 0.0}, {\"year\": 2019, \"kw\": 7, \"belegt\": 0.0}, {\"year\": 2019, \"kw\": 8, \"belegt\": 0.237}, {\"year\": 2019, \"kw\": 9, \"belegt\": 0.0}, {\"year\": 2019, \"kw\": 10, \"belegt\": 0.0}, {\"year\": 2019, \"kw\": 11, \"belegt\": 0.393}, {\"year\": 2019, \"kw\": 12, \"belegt\": 0.281}, {\"year\": 2019, \"kw\": 13, \"belegt\": 0.0}, {\"year\": 2019, \"kw\": 14, \"belegt\": 0.325}, {\"year\": 2019, \"kw\": 15, \"belegt\": 0.549}, {\"year\": 2019, \"kw\": 16, \"belegt\": 0.0}, {\"year\": 2019, \"kw\": 17, \"belegt\": 0.545}, {\"year\": 2019, \"kw\": 18, \"belegt\": 0.437}, {\"year\": 2019, \"kw\": 19, \"belegt\": 0.074}, {\"year\": 2019, \"kw\": 20, \"belegt\": 0.0}, {\"year\": 2019, \"kw\": 21, \"belegt\": 0.682}, {\"year\": 2019, \"kw\": 22, \"belegt\": 0.072}, {\"year\": 2019, \"kw\": 23, \"belegt\": 0.0}, {\"year\": 2019, \"kw\": 24, \"belegt\": 0.0}, {\"year\": 2019, \"kw\": 25, \"belegt\": 0.592}, {\"year\": 2019, \"kw\": 26, \"belegt\": 0.337}, {\"year\": 2019, \"kw\": 27, \"belegt\": 0.546}, {\"year\": 2019, \"kw\": 28, \"belegt\": 0.468}, {\"year\": 2019, \"kw\": 29, \"belegt\": 0.277}, {\"year\": 2019, \"kw\": 30, \"belegt\": 0.701}, {\"year\": 2019, \"kw\": 31, \"belegt\": 0.111}, {\"year\": 2019, \"kw\": 32, \"belegt\": 0.286}, {\"year\": 2019, \"kw\": 33, \"belegt\": 0.572}, {\"year\": 2019, \"kw\": 34, \"belegt\": 0.356}, {\"year\": 2019, \"kw\": 35, \"belegt\": 0.61}, {\"year\": 2019, \"kw\": 36, \"belegt\": 0.312}, {\"year\": 2019, \"kw\": 37, \"belegt\": 0.441}, {\"year\": 2019, \"kw\": 38, \"belegt\": 0.0}, {\"year\": 2019, \"kw\": 39, \"belegt\": 0.0}, {\"year\": 2019, \"kw\": 40, \"belegt\": 0.018}, {\"year\": 2019, \"kw\": 41, \"belegt\": 0.0}, {\"year\": 2019, \"kw\": 42, \"belegt\": 0.0}, {\"year\": 2019, \"kw\": 43, \"belegt\": 0.0}, {\"year\": 2019, \"kw\": 44, \"belegt\": 0.004}, {\"year\": 2019, \"kw\": 45, \"belegt\": 0.374}, {\"year\": 2019, \"kw\": 46, \"belegt\": 0.096}, {\"year\": 2019, \"kw\": 47, \"belegt\": 0.098}, {\"year\": 2019, \"kw\": 48, \"belegt\": 0.0}, {\"year\": 2019, \"kw\": 49, \"belegt\": 0.0}, {\"year\": 2019, \"kw\": 50, \"belegt\": 0.662}, {\"year\": 2019, \"kw\": 51, \"belegt\": 0.39}, {\"year\": 2019, \"kw\": 52, \"belegt\": 0.347}]}}, {\"mode\": \"vega-lite\"});\n",
       "</script>"
      ],
      "text/plain": [
       "alt.Chart(...)"
      ]
     },
     "execution_count": 7,
     "metadata": {},
     "output_type": "execute_result"
    }
   ],
   "source": [
    "alt.Chart(cap_per_kw).mark_line().encode()"
   ]
  }
 ],
 "metadata": {
  "kernelspec": {
   "display_name": "Python 3",
   "language": "python",
   "name": "python3"
  },
  "language_info": {
   "codemirror_mode": {
    "name": "ipython",
    "version": 3
   },
   "file_extension": ".py",
   "mimetype": "text/x-python",
   "name": "python",
   "nbconvert_exporter": "python",
   "pygments_lexer": "ipython3",
   "version": "3.8.2"
  },
  "pycharm": {
   "stem_cell": {
    "cell_type": "raw",
    "metadata": {
     "collapsed": false
    },
    "source": []
   }
  }
 },
 "nbformat": 4,
 "nbformat_minor": 4
}
