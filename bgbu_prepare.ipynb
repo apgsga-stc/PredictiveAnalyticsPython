{
 "cells": [
  {
   "cell_type": "markdown",
   "metadata": {
    "pycharm": {}
   },
   "source": [
    "# Budgetbuchung Analyse: Datenpräparation"
   ]
  },
  {
   "cell_type": "code",
   "execution_count": null,
   "metadata": {
    "pycharm": {
     "is_executing": false
    }
   },
   "outputs": [],
   "source": [
    "import pandas as pd\n",
    "\n",
    "from pa_lib.data import data_files, load_csv, store_bin\n",
    "from pa_lib.data import desc_col, as_dtype, as_date, split_date_iso\n",
    "from pa_lib.util import obj_size\n",
    "from pa_lib.types import dtFactor\n",
    "\n",
    "# display long columns completely\n",
    "pd.set_option('display.max_colwidth', 200)"
   ]
  },
  {
   "cell_type": "markdown",
   "metadata": {
    "pycharm": {}
   },
   "source": [
    "## Daten einlesen"
   ]
  },
  {
   "cell_type": "code",
   "execution_count": null,
   "metadata": {
    "pycharm": {}
   },
   "outputs": [],
   "source": [
    "data_files()"
   ]
  },
  {
   "cell_type": "code",
   "execution_count": null,
   "metadata": {
    "pycharm": {}
   },
   "outputs": [],
   "source": [
    "pv_bd = load_csv('pv_bd.zip', delimiter=';', encoding='cp1252', dtype='object')"
   ]
  },
  {
   "cell_type": "code",
   "execution_count": null,
   "metadata": {
    "pycharm": {}
   },
   "outputs": [],
   "source": [
    "pv_bd.head()"
   ]
  },
  {
   "cell_type": "code",
   "execution_count": null,
   "metadata": {
    "pycharm": {}
   },
   "outputs": [],
   "source": [
    "(obj_size(pv_bd), pv_bd.shape)"
   ]
  },
  {
   "cell_type": "code",
   "execution_count": null,
   "metadata": {
    "pycharm": {}
   },
   "outputs": [],
   "source": [
    "desc_col(pv_bd)"
   ]
  },
  {
   "cell_type": "markdown",
   "metadata": {
    "pycharm": {}
   },
   "source": [
    "## Spalten umbenennen, Leerwerte bereinigen, Datentypen korrigieren"
   ]
  },
  {
   "cell_type": "code",
   "execution_count": null,
   "metadata": {
    "pycharm": {}
   },
   "outputs": [],
   "source": [
    "pv_bd.columns = ['ResDatum', 'AushangBeginn', 'PvPosNr', 'PartnerNr', 'PartnerName',\n",
    "       'PvNr', 'PvTitel', 'optBrutto', 'optNetto', 'optNettoNetto']\n",
    "pv_bd = pv_bd.dropna(how='any')"
   ]
  },
  {
   "cell_type": "code",
   "execution_count": null,
   "metadata": {
    "pycharm": {}
   },
   "outputs": [],
   "source": [
    "(obj_size(pv_bd), pv_bd.shape)"
   ]
  },
  {
   "cell_type": "code",
   "execution_count": null,
   "metadata": {
    "pycharm": {}
   },
   "outputs": [],
   "source": [
    "pv_bd.loc[:,:] = (pv_bd\n",
    "                  .pipe(as_dtype, 'int', incl_pattern='.*Nr.*')\n",
    "                  .pipe(as_dtype, 'float', incl_pattern='.*tto')\n",
    "                  .pipe(as_date, format='%d.%m.%Y', incl_col=('ResDatum', 'AushangBeginn'))\n",
    "                  .pipe(as_dtype, dtFactor, incl_dtype='object'))"
   ]
  },
  {
   "cell_type": "code",
   "execution_count": null,
   "metadata": {
    "pycharm": {}
   },
   "outputs": [],
   "source": [
    "(obj_size(pv_bd), pv_bd.shape)"
   ]
  },
  {
   "cell_type": "code",
   "execution_count": 22,
   "metadata": {
    "pycharm": {}
   },
   "outputs": [
    {
     "data": {
      "text/html": [
       "<div>\n",
       "<style scoped>\n",
       "    .dataframe tbody tr th:only-of-type {\n",
       "        vertical-align: middle;\n",
       "    }\n",
       "\n",
       "    .dataframe tbody tr th {\n",
       "        vertical-align: top;\n",
       "    }\n",
       "\n",
       "    .dataframe thead th {\n",
       "        text-align: right;\n",
       "    }\n",
       "</style>\n",
       "<table border=\"1\" class=\"dataframe\">\n",
       "  <thead>\n",
       "    <tr style=\"text-align: right;\">\n",
       "      <th></th>\n",
       "      <th>DTYPE</th>\n",
       "      <th>NULLS</th>\n",
       "      <th>UNIQUE</th>\n",
       "      <th>MEM</th>\n",
       "      <th>RANGE</th>\n",
       "    </tr>\n",
       "  </thead>\n",
       "  <tbody>\n",
       "    <tr>\n",
       "      <th>ResDatum</th>\n",
       "      <td>datetime64[ns]</td>\n",
       "      <td>0/292922</td>\n",
       "      <td>687</td>\n",
       "      <td>2.2 MB</td>\n",
       "      <td>[2016-03-09 00:00:00,2019-03-29 00:00:00]</td>\n",
       "    </tr>\n",
       "    <tr>\n",
       "      <th>AushangBeginn</th>\n",
       "      <td>datetime64[ns]</td>\n",
       "      <td>0/292922</td>\n",
       "      <td>194</td>\n",
       "      <td>2.2 MB</td>\n",
       "      <td>[2016-03-28 00:00:00,2019-12-16 00:00:00]</td>\n",
       "    </tr>\n",
       "    <tr>\n",
       "      <th>PvPosNr</th>\n",
       "      <td>int64</td>\n",
       "      <td>0/292922</td>\n",
       "      <td>9821</td>\n",
       "      <td>2.2 MB</td>\n",
       "      <td>[19,80445]</td>\n",
       "    </tr>\n",
       "    <tr>\n",
       "      <th>PartnerNr</th>\n",
       "      <td>int64</td>\n",
       "      <td>0/292922</td>\n",
       "      <td>5414</td>\n",
       "      <td>2.2 MB</td>\n",
       "      <td>[100035,653959]</td>\n",
       "    </tr>\n",
       "    <tr>\n",
       "      <th>PartnerName</th>\n",
       "      <td>category</td>\n",
       "      <td>0/292922</td>\n",
       "      <td>5544</td>\n",
       "      <td>1.1 MB</td>\n",
       "      <td>[3C Champ-Colin Centre SA,zb Zentralbahn AG]</td>\n",
       "    </tr>\n",
       "    <tr>\n",
       "      <th>PvNr</th>\n",
       "      <td>int64</td>\n",
       "      <td>0/292922</td>\n",
       "      <td>6658</td>\n",
       "      <td>2.2 MB</td>\n",
       "      <td>[26,311490]</td>\n",
       "    </tr>\n",
       "    <tr>\n",
       "      <th>PvTitel</th>\n",
       "      <td>category</td>\n",
       "      <td>0/292922</td>\n",
       "      <td>7356</td>\n",
       "      <td>1.6 MB</td>\n",
       "      <td>[ Bern - Bethlehemstrasse 24,zb Zentralbahn 2 (ex LSE)]</td>\n",
       "    </tr>\n",
       "    <tr>\n",
       "      <th>optBrutto</th>\n",
       "      <td>float64</td>\n",
       "      <td>0/292922</td>\n",
       "      <td>6984</td>\n",
       "      <td>2.2 MB</td>\n",
       "      <td>[21.0,97796.0]</td>\n",
       "    </tr>\n",
       "    <tr>\n",
       "      <th>optNetto</th>\n",
       "      <td>float64</td>\n",
       "      <td>0/292922</td>\n",
       "      <td>23802</td>\n",
       "      <td>2.2 MB</td>\n",
       "      <td>[11.7,57145.5]</td>\n",
       "    </tr>\n",
       "    <tr>\n",
       "      <th>optNettoNetto</th>\n",
       "      <td>float64</td>\n",
       "      <td>0/292922</td>\n",
       "      <td>28163</td>\n",
       "      <td>2.2 MB</td>\n",
       "      <td>[11.7,54288.22]</td>\n",
       "    </tr>\n",
       "    <tr>\n",
       "      <th>RJahr</th>\n",
       "      <td>category</td>\n",
       "      <td>0/292922</td>\n",
       "      <td>4</td>\n",
       "      <td>286.3 KB</td>\n",
       "      <td>[2016,2019]</td>\n",
       "    </tr>\n",
       "    <tr>\n",
       "      <th>RKw</th>\n",
       "      <td>category</td>\n",
       "      <td>0/292922</td>\n",
       "      <td>52</td>\n",
       "      <td>289.0 KB</td>\n",
       "      <td>[1,52]</td>\n",
       "    </tr>\n",
       "    <tr>\n",
       "      <th>AJahr</th>\n",
       "      <td>category</td>\n",
       "      <td>0/292922</td>\n",
       "      <td>4</td>\n",
       "      <td>286.3 KB</td>\n",
       "      <td>[2016,2019]</td>\n",
       "    </tr>\n",
       "    <tr>\n",
       "      <th>AKw</th>\n",
       "      <td>category</td>\n",
       "      <td>0/292922</td>\n",
       "      <td>52</td>\n",
       "      <td>289.0 KB</td>\n",
       "      <td>[1,52]</td>\n",
       "    </tr>\n",
       "  </tbody>\n",
       "</table>\n",
       "</div>"
      ],
      "text/plain": [
       "                        DTYPE     NULLS UNIQUE       MEM  \\\n",
       "ResDatum       datetime64[ns]  0/292922    687    2.2 MB   \n",
       "AushangBeginn  datetime64[ns]  0/292922    194    2.2 MB   \n",
       "PvPosNr                 int64  0/292922   9821    2.2 MB   \n",
       "PartnerNr               int64  0/292922   5414    2.2 MB   \n",
       "PartnerName          category  0/292922   5544    1.1 MB   \n",
       "PvNr                    int64  0/292922   6658    2.2 MB   \n",
       "PvTitel              category  0/292922   7356    1.6 MB   \n",
       "optBrutto             float64  0/292922   6984    2.2 MB   \n",
       "optNetto              float64  0/292922  23802    2.2 MB   \n",
       "optNettoNetto         float64  0/292922  28163    2.2 MB   \n",
       "RJahr                category  0/292922      4  286.3 KB   \n",
       "RKw                  category  0/292922     52  289.0 KB   \n",
       "AJahr                category  0/292922      4  286.3 KB   \n",
       "AKw                  category  0/292922     52  289.0 KB   \n",
       "\n",
       "                                                                 RANGE  \n",
       "ResDatum                     [2016-03-09 00:00:00,2019-03-29 00:00:00]  \n",
       "AushangBeginn                [2016-03-28 00:00:00,2019-12-16 00:00:00]  \n",
       "PvPosNr                                                     [19,80445]  \n",
       "PartnerNr                                              [100035,653959]  \n",
       "PartnerName               [3C Champ-Colin Centre SA,zb Zentralbahn AG]  \n",
       "PvNr                                                       [26,311490]  \n",
       "PvTitel        [ Bern - Bethlehemstrasse 24,zb Zentralbahn 2 (ex LSE)]  \n",
       "optBrutto                                               [21.0,97796.0]  \n",
       "optNetto                                                [11.7,57145.5]  \n",
       "optNettoNetto                                          [11.7,54288.22]  \n",
       "RJahr                                                      [2016,2019]  \n",
       "RKw                                                             [1,52]  \n",
       "AJahr                                                      [2016,2019]  \n",
       "AKw                                                             [1,52]  "
      ]
     },
     "execution_count": 22,
     "metadata": {},
     "output_type": "execute_result"
    }
   ],
   "source": [
    "desc_col(pv_bd, det=True)"
   ]
  },
  {
   "cell_type": "code",
   "execution_count": null,
   "metadata": {
    "pycharm": {}
   },
   "outputs": [],
   "source": [
    "pv_bd.head()"
   ]
  },
  {
   "cell_type": "markdown",
   "metadata": {
    "pycharm": {}
   },
   "source": [
    "## Netto = 0 ausfiltern, sortieren, Geschäftsjahr und -woche für Aushang und Reservation berechnen"
   ]
  },
  {
   "cell_type": "code",
   "execution_count": null,
   "metadata": {
    "pycharm": {}
   },
   "outputs": [],
   "source": [
    "pv_bd = (pv_bd.query('optNettoNetto > 0')\n",
    "         .sort_values('AushangBeginn')\n",
    "         .pipe(split_date_iso, dt_col='ResDatum', yr_col='RJahr', kw_col='RKw')\n",
    "         .pipe(split_date_iso, dt_col='AushangBeginn', yr_col='AJahr', kw_col='AKw')\n",
    "         .reset_index(drop=True))"
   ]
  },
  {
   "cell_type": "code",
   "execution_count": null,
   "metadata": {
    "pycharm": {}
   },
   "outputs": [],
   "source": [
    "desc_col(pv_bd, det=True)"
   ]
  },
  {
   "cell_type": "markdown",
   "metadata": {},
   "source": [
    "## Vertragsinformationen extrahieren"
   ]
  },
  {
   "cell_type": "code",
   "execution_count": null,
   "metadata": {},
   "outputs": [],
   "source": [
    "pv_idx = pv_bd.groupby('PvNr', as_index=True)"
   ]
  },
  {
   "cell_type": "code",
   "execution_count": 26,
   "metadata": {},
   "outputs": [],
   "source": [
    "pv_info = pv_idx.agg({'PvTitel': 'first', 'optNettoNetto': 'sum', 'PartnerNr': 'nunique', 'PartnerName': 'first', 'PvPosNr': 'nunique',\n",
    "                      'ResDatum': ['min', 'max'], 'AushangBeginn': ['min', 'max']})\n",
    "pv_info.columns = 'Titel totalNetto nPartner Partner nPos firstRes lastRes firstAus lastAus'.split()"
   ]
  },
  {
   "cell_type": "markdown",
   "metadata": {},
   "source": [
    "#### Mehrfach-Partner: Namen zusammenfügen (Reihenfolge wie in Daten)"
   ]
  },
  {
   "cell_type": "code",
   "execution_count": 27,
   "metadata": {},
   "outputs": [],
   "source": [
    "multi_partner = pv_info.nPartner > 1\n",
    "pv_multi_prtn = pv_info.loc[multi_partner].index.values\n",
    "pv_info.loc[multi_partner, 'Partner'] = (pv_bd[pv_bd.PvNr.isin(pv_multi_prtn)].groupby('PvNr')['PartnerName']\n",
    "                                                .apply(lambda x: ' | '.join(x.unique())))"
   ]
  },
  {
   "cell_type": "markdown",
   "metadata": {},
   "source": [
    "#### Jahres-Nettoumsätze"
   ]
  },
  {
   "cell_type": "code",
   "execution_count": 28,
   "metadata": {},
   "outputs": [],
   "source": [
    "pvYearANetto = pv_bd.groupby(['PvNr', 'AJahr'], observed=True, as_index=False)[['optNettoNetto']].agg('sum')\n",
    "pvYearRNetto = pv_bd.groupby(['PvNr', 'RJahr'], observed=True, as_index=False)[['optNettoNetto']].agg('sum')\n",
    "pvANetto = pvYearANetto.pivot(index='PvNr', columns='AJahr', values='optNettoNetto').fillna(0).add_prefix('Netto_Aus_')\n",
    "pvRNetto = pvYearRNetto.pivot(index='PvNr', columns='RJahr', values='optNettoNetto').fillna(0).add_prefix('Netto_Res_')"
   ]
  },
  {
   "cell_type": "code",
   "execution_count": 29,
   "metadata": {},
   "outputs": [],
   "source": [
    "pv_info = pv_info.merge(pvANetto, on='PvNr').merge(pvRNetto, on='PvNr')"
   ]
  },
  {
   "cell_type": "markdown",
   "metadata": {
    "pycharm": {}
   },
   "source": [
    "## Konstellation Verträge/Positionen prüfen"
   ]
  },
  {
   "cell_type": "markdown",
   "metadata": {
    "pycharm": {}
   },
   "source": [
    "#### Gibt es Vertragspositionen mit mehr als einem unterschiedlichen Vertrag? (Wäre nicht toll)"
   ]
  },
  {
   "cell_type": "code",
   "execution_count": 30,
   "metadata": {
    "pycharm": {}
   },
   "outputs": [
    {
     "data": {
      "text/html": [
       "<div>\n",
       "<style scoped>\n",
       "    .dataframe tbody tr th:only-of-type {\n",
       "        vertical-align: middle;\n",
       "    }\n",
       "\n",
       "    .dataframe tbody tr th {\n",
       "        vertical-align: top;\n",
       "    }\n",
       "\n",
       "    .dataframe thead th {\n",
       "        text-align: right;\n",
       "    }\n",
       "</style>\n",
       "<table border=\"1\" class=\"dataframe\">\n",
       "  <thead>\n",
       "    <tr style=\"text-align: right;\">\n",
       "      <th></th>\n",
       "      <th>PvNr</th>\n",
       "    </tr>\n",
       "    <tr>\n",
       "      <th>PvPosNr</th>\n",
       "      <th></th>\n",
       "    </tr>\n",
       "  </thead>\n",
       "  <tbody>\n",
       "  </tbody>\n",
       "</table>\n",
       "</div>"
      ],
      "text/plain": [
       "Empty DataFrame\n",
       "Columns: [PvNr]\n",
       "Index: []"
      ]
     },
     "execution_count": 30,
     "metadata": {},
     "output_type": "execute_result"
    }
   ],
   "source": [
    "pv_bd.groupby(['PvPosNr'], observed=True)[['PvNr']].agg('nunique').query('PvNr > 1')"
   ]
  },
  {
   "cell_type": "markdown",
   "metadata": {
    "pycharm": {}
   },
   "source": [
    "## Daten speichern"
   ]
  },
  {
   "cell_type": "code",
   "execution_count": 31,
   "metadata": {
    "pycharm": {}
   },
   "outputs": [
    {
     "name": "stderr",
     "output_type": "stream",
     "text": [
      "2019-04-16 14:22:18 [INFO] Writing to file /home/pa/data/pv_bd_raw.feather\n",
      "2019-04-16 14:22:18 [INFO] Written 20.6 MB\n",
      "2019-04-16 14:22:18 [INFO] Finished storing binary file in 0.05s (0.4s CPU)\n",
      "2019-04-16 14:22:18 [INFO] Writing to file /home/pa/data/pv_data.feather\n",
      "2019-04-16 14:22:18 [INFO] Written 10.1 MB\n",
      "2019-04-16 14:22:18 [INFO] Finished storing binary file in 0.03s (0.23s CPU)\n",
      "2019-04-16 14:22:18 [INFO] Writing to file /home/pa/data/pv_info.feather\n",
      "2019-04-16 14:22:18 [INFO] Written 1.2 MB\n",
      "2019-04-16 14:22:18 [INFO] Finished storing binary file in 0.02s (0.1s CPU)\n"
     ]
    }
   ],
   "source": [
    "store_bin(pv_bd, 'pv_bd_raw.feather')\n",
    "pv_data = pv_bd.drop(['PvPosNr', 'PartnerNr', 'PartnerName', 'PvTitel', 'optBrutto', 'optNetto'], axis='columns')\n",
    "store_bin(pv_data, 'pv_data.feather')\n",
    "store_bin(pv_info, 'pv_info.feather')"
   ]
  }
 ],
 "metadata": {
  "jupytext": {
   "formats": "ipynb,md"
  },
  "kernelspec": {
   "display_name": "Python 3",
   "language": "python",
   "name": "python3"
  },
  "language_info": {
   "codemirror_mode": {
    "name": "ipython",
    "version": 3
   },
   "file_extension": ".py",
   "mimetype": "text/x-python",
   "name": "python",
   "nbconvert_exporter": "python",
   "pygments_lexer": "ipython3",
   "version": "3.7.3"
  }
 },
 "nbformat": 4,
 "nbformat_minor": 2
}
