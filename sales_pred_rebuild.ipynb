{
 "cells": [
  {
   "cell_type": "markdown",
   "metadata": {},
   "source": [
    "# Load Modules\n"
   ]
  },
  {
   "cell_type": "code",
   "execution_count": 1,
   "metadata": {},
   "outputs": [],
   "source": [
    "import numpy as np\n",
    "import pandas as pd\n",
    "import matplotlib.pyplot as plt\n",
    "#matplotlib inline\n",
    "import sklearn"
   ]
  },
  {
   "cell_type": "markdown",
   "metadata": {},
   "source": [
    "# Import Data: tds == TDS == gv_FILE_OUT_TDS"
   ]
  },
  {
   "cell_type": "code",
   "execution_count": 2,
   "metadata": {},
   "outputs": [],
   "source": [
    "TDS = pd.read_csv(\"C:/Users/stc/Documents/notebooks/Verkaufsprognose Modeling/TDS.csv\", low_memory=False, sep=';')"
   ]
  },
  {
   "cell_type": "code",
   "execution_count": 3,
   "metadata": {},
   "outputs": [
    {
     "data": {
      "text/html": [
       "<div>\n",
       "<style scoped>\n",
       "    .dataframe tbody tr th:only-of-type {\n",
       "        vertical-align: middle;\n",
       "    }\n",
       "\n",
       "    .dataframe tbody tr th {\n",
       "        vertical-align: top;\n",
       "    }\n",
       "\n",
       "    .dataframe thead th {\n",
       "        text-align: right;\n",
       "    }\n",
       "</style>\n",
       "<table border=\"1\" class=\"dataframe\">\n",
       "  <thead>\n",
       "    <tr style=\"text-align: right;\">\n",
       "      <th></th>\n",
       "      <th>ENDKUNDE_NR</th>\n",
       "      <th>AJ</th>\n",
       "      <th>AJ_01</th>\n",
       "      <th>AJ_03</th>\n",
       "      <th>AJ_05</th>\n",
       "      <th>AJ_07</th>\n",
       "      <th>AJ_09</th>\n",
       "      <th>AJ_11</th>\n",
       "      <th>AJ_13</th>\n",
       "      <th>AJ_15</th>\n",
       "      <th>...</th>\n",
       "      <th>VVVJ_KONTAKT_L2_KW33</th>\n",
       "      <th>VVVJ_KONTAKT_L2_KW35</th>\n",
       "      <th>VVVJ_KONTAKT_L2_KW37</th>\n",
       "      <th>VVVJ_KONTAKT_L2_KW39</th>\n",
       "      <th>VVVJ_KONTAKT_L2_KW41</th>\n",
       "      <th>VVVJ_KONTAKT_L2_KW43</th>\n",
       "      <th>VVVJ_KONTAKT_L2_KW45</th>\n",
       "      <th>VVVJ_KONTAKT_L2_KW47</th>\n",
       "      <th>VVVJ_KONTAKT_L2_KW49</th>\n",
       "      <th>VVVJ_KONTAKT_L2_KW51</th>\n",
       "    </tr>\n",
       "  </thead>\n",
       "  <tbody>\n",
       "    <tr>\n",
       "      <th>count</th>\n",
       "      <td>39215.000000</td>\n",
       "      <td>39215.000000</td>\n",
       "      <td>2.289300e+04</td>\n",
       "      <td>22893.000000</td>\n",
       "      <td>22893.000000</td>\n",
       "      <td>2.289300e+04</td>\n",
       "      <td>2.289300e+04</td>\n",
       "      <td>2.289300e+04</td>\n",
       "      <td>2.289300e+04</td>\n",
       "      <td>2.289300e+04</td>\n",
       "      <td>...</td>\n",
       "      <td>20858.000000</td>\n",
       "      <td>20858.000000</td>\n",
       "      <td>20858.000000</td>\n",
       "      <td>20858.000000</td>\n",
       "      <td>20858.000000</td>\n",
       "      <td>20858.000000</td>\n",
       "      <td>20858.000000</td>\n",
       "      <td>20858.000000</td>\n",
       "      <td>20858.000000</td>\n",
       "      <td>20858.000000</td>\n",
       "    </tr>\n",
       "    <tr>\n",
       "      <th>mean</th>\n",
       "      <td>470178.383297</td>\n",
       "      <td>2017.648553</td>\n",
       "      <td>1.072982e+03</td>\n",
       "      <td>1221.907002</td>\n",
       "      <td>1531.508409</td>\n",
       "      <td>1.936007e+03</td>\n",
       "      <td>1.780914e+03</td>\n",
       "      <td>1.808229e+03</td>\n",
       "      <td>2.403786e+03</td>\n",
       "      <td>2.451937e+03</td>\n",
       "      <td>...</td>\n",
       "      <td>0.028239</td>\n",
       "      <td>0.027663</td>\n",
       "      <td>0.026848</td>\n",
       "      <td>0.031882</td>\n",
       "      <td>0.033800</td>\n",
       "      <td>0.032649</td>\n",
       "      <td>0.031738</td>\n",
       "      <td>0.029821</td>\n",
       "      <td>0.029054</td>\n",
       "      <td>0.026129</td>\n",
       "    </tr>\n",
       "    <tr>\n",
       "      <th>std</th>\n",
       "      <td>195650.696262</td>\n",
       "      <td>1.187913</td>\n",
       "      <td>1.612678e+04</td>\n",
       "      <td>15427.668264</td>\n",
       "      <td>17920.347896</td>\n",
       "      <td>3.108543e+04</td>\n",
       "      <td>2.132737e+04</td>\n",
       "      <td>3.276476e+04</td>\n",
       "      <td>4.473486e+04</td>\n",
       "      <td>2.932961e+04</td>\n",
       "      <td>...</td>\n",
       "      <td>0.165658</td>\n",
       "      <td>0.164010</td>\n",
       "      <td>0.161644</td>\n",
       "      <td>0.175691</td>\n",
       "      <td>0.180718</td>\n",
       "      <td>0.177721</td>\n",
       "      <td>0.175307</td>\n",
       "      <td>0.170096</td>\n",
       "      <td>0.167961</td>\n",
       "      <td>0.159523</td>\n",
       "    </tr>\n",
       "    <tr>\n",
       "      <th>min</th>\n",
       "      <td>100034.000000</td>\n",
       "      <td>2015.000000</td>\n",
       "      <td>0.000000e+00</td>\n",
       "      <td>0.000000</td>\n",
       "      <td>0.000000</td>\n",
       "      <td>0.000000e+00</td>\n",
       "      <td>0.000000e+00</td>\n",
       "      <td>0.000000e+00</td>\n",
       "      <td>0.000000e+00</td>\n",
       "      <td>0.000000e+00</td>\n",
       "      <td>...</td>\n",
       "      <td>0.000000</td>\n",
       "      <td>0.000000</td>\n",
       "      <td>0.000000</td>\n",
       "      <td>0.000000</td>\n",
       "      <td>0.000000</td>\n",
       "      <td>0.000000</td>\n",
       "      <td>0.000000</td>\n",
       "      <td>0.000000</td>\n",
       "      <td>0.000000</td>\n",
       "      <td>0.000000</td>\n",
       "    </tr>\n",
       "    <tr>\n",
       "      <th>25%</th>\n",
       "      <td>445080.000000</td>\n",
       "      <td>2017.000000</td>\n",
       "      <td>0.000000e+00</td>\n",
       "      <td>0.000000</td>\n",
       "      <td>0.000000</td>\n",
       "      <td>0.000000e+00</td>\n",
       "      <td>0.000000e+00</td>\n",
       "      <td>0.000000e+00</td>\n",
       "      <td>0.000000e+00</td>\n",
       "      <td>0.000000e+00</td>\n",
       "      <td>...</td>\n",
       "      <td>0.000000</td>\n",
       "      <td>0.000000</td>\n",
       "      <td>0.000000</td>\n",
       "      <td>0.000000</td>\n",
       "      <td>0.000000</td>\n",
       "      <td>0.000000</td>\n",
       "      <td>0.000000</td>\n",
       "      <td>0.000000</td>\n",
       "      <td>0.000000</td>\n",
       "      <td>0.000000</td>\n",
       "    </tr>\n",
       "    <tr>\n",
       "      <th>50%</th>\n",
       "      <td>564263.000000</td>\n",
       "      <td>2018.000000</td>\n",
       "      <td>0.000000e+00</td>\n",
       "      <td>0.000000</td>\n",
       "      <td>0.000000</td>\n",
       "      <td>0.000000e+00</td>\n",
       "      <td>0.000000e+00</td>\n",
       "      <td>0.000000e+00</td>\n",
       "      <td>0.000000e+00</td>\n",
       "      <td>0.000000e+00</td>\n",
       "      <td>...</td>\n",
       "      <td>0.000000</td>\n",
       "      <td>0.000000</td>\n",
       "      <td>0.000000</td>\n",
       "      <td>0.000000</td>\n",
       "      <td>0.000000</td>\n",
       "      <td>0.000000</td>\n",
       "      <td>0.000000</td>\n",
       "      <td>0.000000</td>\n",
       "      <td>0.000000</td>\n",
       "      <td>0.000000</td>\n",
       "    </tr>\n",
       "    <tr>\n",
       "      <th>75%</th>\n",
       "      <td>614083.500000</td>\n",
       "      <td>2019.000000</td>\n",
       "      <td>0.000000e+00</td>\n",
       "      <td>0.000000</td>\n",
       "      <td>0.000000</td>\n",
       "      <td>0.000000e+00</td>\n",
       "      <td>0.000000e+00</td>\n",
       "      <td>0.000000e+00</td>\n",
       "      <td>0.000000e+00</td>\n",
       "      <td>0.000000e+00</td>\n",
       "      <td>...</td>\n",
       "      <td>0.000000</td>\n",
       "      <td>0.000000</td>\n",
       "      <td>0.000000</td>\n",
       "      <td>0.000000</td>\n",
       "      <td>0.000000</td>\n",
       "      <td>0.000000</td>\n",
       "      <td>0.000000</td>\n",
       "      <td>0.000000</td>\n",
       "      <td>0.000000</td>\n",
       "      <td>0.000000</td>\n",
       "    </tr>\n",
       "    <tr>\n",
       "      <th>max</th>\n",
       "      <td>657233.000000</td>\n",
       "      <td>2019.000000</td>\n",
       "      <td>1.245157e+06</td>\n",
       "      <td>971153.000000</td>\n",
       "      <td>904361.000000</td>\n",
       "      <td>2.011256e+06</td>\n",
       "      <td>1.423671e+06</td>\n",
       "      <td>3.430133e+06</td>\n",
       "      <td>4.189469e+06</td>\n",
       "      <td>2.774594e+06</td>\n",
       "      <td>...</td>\n",
       "      <td>1.000000</td>\n",
       "      <td>1.000000</td>\n",
       "      <td>1.000000</td>\n",
       "      <td>1.000000</td>\n",
       "      <td>1.000000</td>\n",
       "      <td>1.000000</td>\n",
       "      <td>1.000000</td>\n",
       "      <td>1.000000</td>\n",
       "      <td>1.000000</td>\n",
       "      <td>1.000000</td>\n",
       "    </tr>\n",
       "  </tbody>\n",
       "</table>\n",
       "<p>8 rows × 441 columns</p>\n",
       "</div>"
      ],
      "text/plain": [
       "         ENDKUNDE_NR            AJ         AJ_01          AJ_03  \\\n",
       "count   39215.000000  39215.000000  2.289300e+04   22893.000000   \n",
       "mean   470178.383297   2017.648553  1.072982e+03    1221.907002   \n",
       "std    195650.696262      1.187913  1.612678e+04   15427.668264   \n",
       "min    100034.000000   2015.000000  0.000000e+00       0.000000   \n",
       "25%    445080.000000   2017.000000  0.000000e+00       0.000000   \n",
       "50%    564263.000000   2018.000000  0.000000e+00       0.000000   \n",
       "75%    614083.500000   2019.000000  0.000000e+00       0.000000   \n",
       "max    657233.000000   2019.000000  1.245157e+06  971153.000000   \n",
       "\n",
       "               AJ_05         AJ_07         AJ_09         AJ_11         AJ_13  \\\n",
       "count   22893.000000  2.289300e+04  2.289300e+04  2.289300e+04  2.289300e+04   \n",
       "mean     1531.508409  1.936007e+03  1.780914e+03  1.808229e+03  2.403786e+03   \n",
       "std     17920.347896  3.108543e+04  2.132737e+04  3.276476e+04  4.473486e+04   \n",
       "min         0.000000  0.000000e+00  0.000000e+00  0.000000e+00  0.000000e+00   \n",
       "25%         0.000000  0.000000e+00  0.000000e+00  0.000000e+00  0.000000e+00   \n",
       "50%         0.000000  0.000000e+00  0.000000e+00  0.000000e+00  0.000000e+00   \n",
       "75%         0.000000  0.000000e+00  0.000000e+00  0.000000e+00  0.000000e+00   \n",
       "max    904361.000000  2.011256e+06  1.423671e+06  3.430133e+06  4.189469e+06   \n",
       "\n",
       "              AJ_15  ...  VVVJ_KONTAKT_L2_KW33  VVVJ_KONTAKT_L2_KW35  \\\n",
       "count  2.289300e+04  ...          20858.000000          20858.000000   \n",
       "mean   2.451937e+03  ...              0.028239              0.027663   \n",
       "std    2.932961e+04  ...              0.165658              0.164010   \n",
       "min    0.000000e+00  ...              0.000000              0.000000   \n",
       "25%    0.000000e+00  ...              0.000000              0.000000   \n",
       "50%    0.000000e+00  ...              0.000000              0.000000   \n",
       "75%    0.000000e+00  ...              0.000000              0.000000   \n",
       "max    2.774594e+06  ...              1.000000              1.000000   \n",
       "\n",
       "       VVVJ_KONTAKT_L2_KW37  VVVJ_KONTAKT_L2_KW39  VVVJ_KONTAKT_L2_KW41  \\\n",
       "count          20858.000000          20858.000000          20858.000000   \n",
       "mean               0.026848              0.031882              0.033800   \n",
       "std                0.161644              0.175691              0.180718   \n",
       "min                0.000000              0.000000              0.000000   \n",
       "25%                0.000000              0.000000              0.000000   \n",
       "50%                0.000000              0.000000              0.000000   \n",
       "75%                0.000000              0.000000              0.000000   \n",
       "max                1.000000              1.000000              1.000000   \n",
       "\n",
       "       VVVJ_KONTAKT_L2_KW43  VVVJ_KONTAKT_L2_KW45  VVVJ_KONTAKT_L2_KW47  \\\n",
       "count          20858.000000          20858.000000          20858.000000   \n",
       "mean               0.032649              0.031738              0.029821   \n",
       "std                0.177721              0.175307              0.170096   \n",
       "min                0.000000              0.000000              0.000000   \n",
       "25%                0.000000              0.000000              0.000000   \n",
       "50%                0.000000              0.000000              0.000000   \n",
       "75%                0.000000              0.000000              0.000000   \n",
       "max                1.000000              1.000000              1.000000   \n",
       "\n",
       "       VVVJ_KONTAKT_L2_KW49  VVVJ_KONTAKT_L2_KW51  \n",
       "count          20858.000000          20858.000000  \n",
       "mean               0.029054              0.026129  \n",
       "std                0.167961              0.159523  \n",
       "min                0.000000              0.000000  \n",
       "25%                0.000000              0.000000  \n",
       "50%                0.000000              0.000000  \n",
       "75%                0.000000              0.000000  \n",
       "max                1.000000              1.000000  \n",
       "\n",
       "[8 rows x 441 columns]"
      ]
     },
     "execution_count": 3,
     "metadata": {},
     "output_type": "execute_result"
    }
   ],
   "source": [
    "TDS.describe()"
   ]
  },
  {
   "cell_type": "code",
   "execution_count": 4,
   "metadata": {},
   "outputs": [
    {
     "data": {
      "text/html": [
       "<div>\n",
       "<style scoped>\n",
       "    .dataframe tbody tr th:only-of-type {\n",
       "        vertical-align: middle;\n",
       "    }\n",
       "\n",
       "    .dataframe tbody tr th {\n",
       "        vertical-align: top;\n",
       "    }\n",
       "\n",
       "    .dataframe thead th {\n",
       "        text-align: right;\n",
       "    }\n",
       "</style>\n",
       "<table border=\"1\" class=\"dataframe\">\n",
       "  <thead>\n",
       "    <tr style=\"text-align: right;\">\n",
       "      <th></th>\n",
       "      <th>ENDKUNDE_NR</th>\n",
       "      <th>AJ</th>\n",
       "      <th>AJ_01</th>\n",
       "      <th>AJ_03</th>\n",
       "      <th>AJ_05</th>\n",
       "      <th>AJ_07</th>\n",
       "      <th>AJ_09</th>\n",
       "      <th>AJ_11</th>\n",
       "      <th>AJ_13</th>\n",
       "      <th>AJ_15</th>\n",
       "      <th>...</th>\n",
       "      <th>VVVJ_KONTAKT_L2_KW33</th>\n",
       "      <th>VVVJ_KONTAKT_L2_KW35</th>\n",
       "      <th>VVVJ_KONTAKT_L2_KW37</th>\n",
       "      <th>VVVJ_KONTAKT_L2_KW39</th>\n",
       "      <th>VVVJ_KONTAKT_L2_KW41</th>\n",
       "      <th>VVVJ_KONTAKT_L2_KW43</th>\n",
       "      <th>VVVJ_KONTAKT_L2_KW45</th>\n",
       "      <th>VVVJ_KONTAKT_L2_KW47</th>\n",
       "      <th>VVVJ_KONTAKT_L2_KW49</th>\n",
       "      <th>VVVJ_KONTAKT_L2_KW51</th>\n",
       "    </tr>\n",
       "  </thead>\n",
       "  <tbody>\n",
       "    <tr>\n",
       "      <th>0</th>\n",
       "      <td>100034</td>\n",
       "      <td>2016</td>\n",
       "      <td>0.0</td>\n",
       "      <td>20909.0</td>\n",
       "      <td>0.0</td>\n",
       "      <td>0.0</td>\n",
       "      <td>0.0</td>\n",
       "      <td>0.0</td>\n",
       "      <td>0.0</td>\n",
       "      <td>0.0</td>\n",
       "      <td>...</td>\n",
       "      <td>0.0</td>\n",
       "      <td>1.0</td>\n",
       "      <td>0.0</td>\n",
       "      <td>1.0</td>\n",
       "      <td>0.0</td>\n",
       "      <td>1.0</td>\n",
       "      <td>1.0</td>\n",
       "      <td>1.0</td>\n",
       "      <td>0.0</td>\n",
       "      <td>0.0</td>\n",
       "    </tr>\n",
       "    <tr>\n",
       "      <th>1</th>\n",
       "      <td>100034</td>\n",
       "      <td>2017</td>\n",
       "      <td>0.0</td>\n",
       "      <td>0.0</td>\n",
       "      <td>7897.0</td>\n",
       "      <td>0.0</td>\n",
       "      <td>0.0</td>\n",
       "      <td>0.0</td>\n",
       "      <td>0.0</td>\n",
       "      <td>0.0</td>\n",
       "      <td>...</td>\n",
       "      <td>0.0</td>\n",
       "      <td>0.0</td>\n",
       "      <td>0.0</td>\n",
       "      <td>0.0</td>\n",
       "      <td>0.0</td>\n",
       "      <td>0.0</td>\n",
       "      <td>0.0</td>\n",
       "      <td>0.0</td>\n",
       "      <td>0.0</td>\n",
       "      <td>0.0</td>\n",
       "    </tr>\n",
       "    <tr>\n",
       "      <th>2</th>\n",
       "      <td>100034</td>\n",
       "      <td>2018</td>\n",
       "      <td>0.0</td>\n",
       "      <td>0.0</td>\n",
       "      <td>3963.0</td>\n",
       "      <td>0.0</td>\n",
       "      <td>0.0</td>\n",
       "      <td>0.0</td>\n",
       "      <td>0.0</td>\n",
       "      <td>0.0</td>\n",
       "      <td>...</td>\n",
       "      <td>0.0</td>\n",
       "      <td>0.0</td>\n",
       "      <td>0.0</td>\n",
       "      <td>0.0</td>\n",
       "      <td>0.0</td>\n",
       "      <td>1.0</td>\n",
       "      <td>0.0</td>\n",
       "      <td>0.0</td>\n",
       "      <td>0.0</td>\n",
       "      <td>0.0</td>\n",
       "    </tr>\n",
       "    <tr>\n",
       "      <th>3</th>\n",
       "      <td>100034</td>\n",
       "      <td>2019</td>\n",
       "      <td>0.0</td>\n",
       "      <td>0.0</td>\n",
       "      <td>0.0</td>\n",
       "      <td>0.0</td>\n",
       "      <td>0.0</td>\n",
       "      <td>0.0</td>\n",
       "      <td>0.0</td>\n",
       "      <td>0.0</td>\n",
       "      <td>...</td>\n",
       "      <td>0.0</td>\n",
       "      <td>0.0</td>\n",
       "      <td>1.0</td>\n",
       "      <td>1.0</td>\n",
       "      <td>0.0</td>\n",
       "      <td>0.0</td>\n",
       "      <td>0.0</td>\n",
       "      <td>1.0</td>\n",
       "      <td>0.0</td>\n",
       "      <td>1.0</td>\n",
       "    </tr>\n",
       "    <tr>\n",
       "      <th>4</th>\n",
       "      <td>100039</td>\n",
       "      <td>2015</td>\n",
       "      <td>0.0</td>\n",
       "      <td>0.0</td>\n",
       "      <td>0.0</td>\n",
       "      <td>0.0</td>\n",
       "      <td>0.0</td>\n",
       "      <td>0.0</td>\n",
       "      <td>0.0</td>\n",
       "      <td>0.0</td>\n",
       "      <td>...</td>\n",
       "      <td>0.0</td>\n",
       "      <td>0.0</td>\n",
       "      <td>0.0</td>\n",
       "      <td>0.0</td>\n",
       "      <td>0.0</td>\n",
       "      <td>0.0</td>\n",
       "      <td>0.0</td>\n",
       "      <td>0.0</td>\n",
       "      <td>0.0</td>\n",
       "      <td>0.0</td>\n",
       "    </tr>\n",
       "  </tbody>\n",
       "</table>\n",
       "<p>5 rows × 441 columns</p>\n",
       "</div>"
      ],
      "text/plain": [
       "   ENDKUNDE_NR    AJ  AJ_01    AJ_03   AJ_05  AJ_07  AJ_09  AJ_11  AJ_13  \\\n",
       "0       100034  2016    0.0  20909.0     0.0    0.0    0.0    0.0    0.0   \n",
       "1       100034  2017    0.0      0.0  7897.0    0.0    0.0    0.0    0.0   \n",
       "2       100034  2018    0.0      0.0  3963.0    0.0    0.0    0.0    0.0   \n",
       "3       100034  2019    0.0      0.0     0.0    0.0    0.0    0.0    0.0   \n",
       "4       100039  2015    0.0      0.0     0.0    0.0    0.0    0.0    0.0   \n",
       "\n",
       "   AJ_15  ...  VVVJ_KONTAKT_L2_KW33  VVVJ_KONTAKT_L2_KW35  \\\n",
       "0    0.0  ...                   0.0                   1.0   \n",
       "1    0.0  ...                   0.0                   0.0   \n",
       "2    0.0  ...                   0.0                   0.0   \n",
       "3    0.0  ...                   0.0                   0.0   \n",
       "4    0.0  ...                   0.0                   0.0   \n",
       "\n",
       "   VVVJ_KONTAKT_L2_KW37  VVVJ_KONTAKT_L2_KW39  VVVJ_KONTAKT_L2_KW41  \\\n",
       "0                   0.0                   1.0                   0.0   \n",
       "1                   0.0                   0.0                   0.0   \n",
       "2                   0.0                   0.0                   0.0   \n",
       "3                   1.0                   1.0                   0.0   \n",
       "4                   0.0                   0.0                   0.0   \n",
       "\n",
       "   VVVJ_KONTAKT_L2_KW43  VVVJ_KONTAKT_L2_KW45  VVVJ_KONTAKT_L2_KW47  \\\n",
       "0                   1.0                   1.0                   1.0   \n",
       "1                   0.0                   0.0                   0.0   \n",
       "2                   1.0                   0.0                   0.0   \n",
       "3                   0.0                   0.0                   1.0   \n",
       "4                   0.0                   0.0                   0.0   \n",
       "\n",
       "   VVVJ_KONTAKT_L2_KW49  VVVJ_KONTAKT_L2_KW51  \n",
       "0                   0.0                   0.0  \n",
       "1                   0.0                   0.0  \n",
       "2                   0.0                   0.0  \n",
       "3                   0.0                   1.0  \n",
       "4                   0.0                   0.0  \n",
       "\n",
       "[5 rows x 441 columns]"
      ]
     },
     "execution_count": 4,
     "metadata": {},
     "output_type": "execute_result"
    }
   ],
   "source": [
    "TDS.head(5)\n",
    "#TDS.info()"
   ]
  },
  {
   "cell_type": "markdown",
   "metadata": {},
   "source": [
    "# Training & Vorhersage"
   ]
  },
  {
   "cell_type": "markdown",
   "metadata": {},
   "source": [
    "## Merkmal- und Prediktor-Spalten festlegen"
   ]
  },
  {
   "cell_type": "markdown",
   "metadata": {},
   "source": [
    "Originale erhalten für Vorhersage"
   ]
  },
  {
   "cell_type": "code",
   "execution_count": 5,
   "metadata": {},
   "outputs": [
    {
     "data": {
      "text/plain": [
       "Index(['ENDKUNDE_NR', 'AJ', 'AJ_01', 'AJ_03', 'AJ_05', 'AJ_07', 'AJ_09',\n",
       "       'AJ_11', 'AJ_13', 'AJ_15',\n",
       "       ...\n",
       "       'VVVJ_KONTAKT_L2_KW33', 'VVVJ_KONTAKT_L2_KW35', 'VVVJ_KONTAKT_L2_KW37',\n",
       "       'VVVJ_KONTAKT_L2_KW39', 'VVVJ_KONTAKT_L2_KW41', 'VVVJ_KONTAKT_L2_KW43',\n",
       "       'VVVJ_KONTAKT_L2_KW45', 'VVVJ_KONTAKT_L2_KW47', 'VVVJ_KONTAKT_L2_KW49',\n",
       "       'VVVJ_KONTAKT_L2_KW51'],\n",
       "      dtype='object', length=441)"
      ]
     },
     "execution_count": 5,
     "metadata": {},
     "output_type": "execute_result"
    }
   ],
   "source": [
    "TDS.keys()"
   ]
  },
  {
   "cell_type": "code",
   "execution_count": 6,
   "metadata": {},
   "outputs": [],
   "source": [
    "gv_AJAW_KW = 29 # aktuelle Kalenderwoche, basierend auf gv_AJAW = Datum an dem das Script lief, 15.07.2019"
   ]
  },
  {
   "cell_type": "code",
   "execution_count": 7,
   "metadata": {},
   "outputs": [],
   "source": [
    "feature_columns   = [] # Features/Merkmale\n",
    "predictor_columns = [] # Predictores/Targets\n",
    "leftover_columns  = [] # Leftover\n",
    "for col_name in TDS.keys():\n",
    "    if (col_name.startswith(\"VJ\")  | # Umsatz Vorjahr\n",
    "        col_name.startswith(\"VVJ\") |\n",
    "        col_name.startswith(\"VVVJ\")|\n",
    "        col_name.startswith(\"B\")   ):\n",
    "        feature_columns.append(col_name)\n",
    "    elif (col_name.startswith(\"AJ_\") and len(col_name) < 6)  :\n",
    "        predictor_columns.append(col_name)\n",
    "    else:\n",
    "        leftover_columns.append(col_name)\n",
    "\n",
    "    "
   ]
  },
  {
   "cell_type": "markdown",
   "metadata": {},
   "source": [
    "Exclude ``VJ_KONTAKT_L1_KW29``:"
   ]
  },
  {
   "cell_type": "code",
   "execution_count": 8,
   "metadata": {},
   "outputs": [],
   "source": [
    "feature_columns.remove(\"VJ_KONTAKT_L1_KW29\")\n",
    "#feature_columns.remove(\"VJNet\")\n",
    "feature_columns.sort()"
   ]
  },
  {
   "cell_type": "code",
   "execution_count": 9,
   "metadata": {},
   "outputs": [
    {
     "data": {
      "text/plain": [
       "'AJ_05'"
      ]
     },
     "execution_count": 9,
     "metadata": {},
     "output_type": "execute_result"
    }
   ],
   "source": [
    "predictor_columns[2]"
   ]
  },
  {
   "cell_type": "code",
   "execution_count": 10,
   "metadata": {},
   "outputs": [
    {
     "data": {
      "text/html": [
       "<div>\n",
       "<style scoped>\n",
       "    .dataframe tbody tr th:only-of-type {\n",
       "        vertical-align: middle;\n",
       "    }\n",
       "\n",
       "    .dataframe tbody tr th {\n",
       "        vertical-align: top;\n",
       "    }\n",
       "\n",
       "    .dataframe thead th {\n",
       "        text-align: right;\n",
       "    }\n",
       "</style>\n",
       "<table border=\"1\" class=\"dataframe\">\n",
       "  <thead>\n",
       "    <tr style=\"text-align: right;\">\n",
       "      <th></th>\n",
       "      <th>B105</th>\n",
       "      <th>B110</th>\n",
       "      <th>B115</th>\n",
       "      <th>B116</th>\n",
       "      <th>B120</th>\n",
       "      <th>B125</th>\n",
       "      <th>B130</th>\n",
       "      <th>B135</th>\n",
       "      <th>B140</th>\n",
       "      <th>B145</th>\n",
       "      <th>...</th>\n",
       "      <th>VVVJ_NETKAT_02</th>\n",
       "      <th>VVVJ_NETKAT_03</th>\n",
       "      <th>VVVJ_NETKAT_04</th>\n",
       "      <th>VVVJ_NETKAT_05</th>\n",
       "      <th>VVVJ_NETKAT_06</th>\n",
       "      <th>VVVJ_NETKAT_07</th>\n",
       "      <th>VVVJ_NETKAT_08</th>\n",
       "      <th>VVVJ_NETKAT_09</th>\n",
       "      <th>VVVJ_NETKAT_10</th>\n",
       "      <th>AJ_29</th>\n",
       "    </tr>\n",
       "  </thead>\n",
       "  <tbody>\n",
       "    <tr>\n",
       "      <th>count</th>\n",
       "      <td>39215.00000</td>\n",
       "      <td>39215.000000</td>\n",
       "      <td>39215.000000</td>\n",
       "      <td>39215.000000</td>\n",
       "      <td>39215.000000</td>\n",
       "      <td>39215.000000</td>\n",
       "      <td>39215.000000</td>\n",
       "      <td>39215.000000</td>\n",
       "      <td>39215.000000</td>\n",
       "      <td>39215.000000</td>\n",
       "      <td>...</td>\n",
       "      <td>7178.000000</td>\n",
       "      <td>7178.000000</td>\n",
       "      <td>7178.000000</td>\n",
       "      <td>7178.000000</td>\n",
       "      <td>7178.000000</td>\n",
       "      <td>7178.000000</td>\n",
       "      <td>7178.000000</td>\n",
       "      <td>7178.000000</td>\n",
       "      <td>7178.000000</td>\n",
       "      <td>2.289300e+04</td>\n",
       "    </tr>\n",
       "    <tr>\n",
       "      <th>mean</th>\n",
       "      <td>0.00533</td>\n",
       "      <td>0.001097</td>\n",
       "      <td>0.000204</td>\n",
       "      <td>0.001428</td>\n",
       "      <td>0.003443</td>\n",
       "      <td>0.008084</td>\n",
       "      <td>0.004514</td>\n",
       "      <td>0.000459</td>\n",
       "      <td>0.001122</td>\n",
       "      <td>0.005049</td>\n",
       "      <td>...</td>\n",
       "      <td>0.684313</td>\n",
       "      <td>0.027166</td>\n",
       "      <td>0.019922</td>\n",
       "      <td>0.011981</td>\n",
       "      <td>0.008638</td>\n",
       "      <td>0.007662</td>\n",
       "      <td>0.006130</td>\n",
       "      <td>0.005991</td>\n",
       "      <td>0.058233</td>\n",
       "      <td>1.129062e+03</td>\n",
       "    </tr>\n",
       "    <tr>\n",
       "      <th>std</th>\n",
       "      <td>0.07281</td>\n",
       "      <td>0.033096</td>\n",
       "      <td>0.014282</td>\n",
       "      <td>0.037763</td>\n",
       "      <td>0.058573</td>\n",
       "      <td>0.089546</td>\n",
       "      <td>0.067032</td>\n",
       "      <td>0.021420</td>\n",
       "      <td>0.033478</td>\n",
       "      <td>0.070878</td>\n",
       "      <td>...</td>\n",
       "      <td>0.464821</td>\n",
       "      <td>0.162579</td>\n",
       "      <td>0.139742</td>\n",
       "      <td>0.108808</td>\n",
       "      <td>0.092542</td>\n",
       "      <td>0.087205</td>\n",
       "      <td>0.078058</td>\n",
       "      <td>0.077172</td>\n",
       "      <td>0.234201</td>\n",
       "      <td>1.651759e+04</td>\n",
       "    </tr>\n",
       "    <tr>\n",
       "      <th>min</th>\n",
       "      <td>0.00000</td>\n",
       "      <td>0.000000</td>\n",
       "      <td>0.000000</td>\n",
       "      <td>0.000000</td>\n",
       "      <td>0.000000</td>\n",
       "      <td>0.000000</td>\n",
       "      <td>0.000000</td>\n",
       "      <td>0.000000</td>\n",
       "      <td>0.000000</td>\n",
       "      <td>0.000000</td>\n",
       "      <td>...</td>\n",
       "      <td>0.000000</td>\n",
       "      <td>0.000000</td>\n",
       "      <td>0.000000</td>\n",
       "      <td>0.000000</td>\n",
       "      <td>0.000000</td>\n",
       "      <td>0.000000</td>\n",
       "      <td>0.000000</td>\n",
       "      <td>0.000000</td>\n",
       "      <td>0.000000</td>\n",
       "      <td>0.000000e+00</td>\n",
       "    </tr>\n",
       "    <tr>\n",
       "      <th>25%</th>\n",
       "      <td>0.00000</td>\n",
       "      <td>0.000000</td>\n",
       "      <td>0.000000</td>\n",
       "      <td>0.000000</td>\n",
       "      <td>0.000000</td>\n",
       "      <td>0.000000</td>\n",
       "      <td>0.000000</td>\n",
       "      <td>0.000000</td>\n",
       "      <td>0.000000</td>\n",
       "      <td>0.000000</td>\n",
       "      <td>...</td>\n",
       "      <td>0.000000</td>\n",
       "      <td>0.000000</td>\n",
       "      <td>0.000000</td>\n",
       "      <td>0.000000</td>\n",
       "      <td>0.000000</td>\n",
       "      <td>0.000000</td>\n",
       "      <td>0.000000</td>\n",
       "      <td>0.000000</td>\n",
       "      <td>0.000000</td>\n",
       "      <td>0.000000e+00</td>\n",
       "    </tr>\n",
       "    <tr>\n",
       "      <th>50%</th>\n",
       "      <td>0.00000</td>\n",
       "      <td>0.000000</td>\n",
       "      <td>0.000000</td>\n",
       "      <td>0.000000</td>\n",
       "      <td>0.000000</td>\n",
       "      <td>0.000000</td>\n",
       "      <td>0.000000</td>\n",
       "      <td>0.000000</td>\n",
       "      <td>0.000000</td>\n",
       "      <td>0.000000</td>\n",
       "      <td>...</td>\n",
       "      <td>1.000000</td>\n",
       "      <td>0.000000</td>\n",
       "      <td>0.000000</td>\n",
       "      <td>0.000000</td>\n",
       "      <td>0.000000</td>\n",
       "      <td>0.000000</td>\n",
       "      <td>0.000000</td>\n",
       "      <td>0.000000</td>\n",
       "      <td>0.000000</td>\n",
       "      <td>0.000000e+00</td>\n",
       "    </tr>\n",
       "    <tr>\n",
       "      <th>75%</th>\n",
       "      <td>0.00000</td>\n",
       "      <td>0.000000</td>\n",
       "      <td>0.000000</td>\n",
       "      <td>0.000000</td>\n",
       "      <td>0.000000</td>\n",
       "      <td>0.000000</td>\n",
       "      <td>0.000000</td>\n",
       "      <td>0.000000</td>\n",
       "      <td>0.000000</td>\n",
       "      <td>0.000000</td>\n",
       "      <td>...</td>\n",
       "      <td>1.000000</td>\n",
       "      <td>0.000000</td>\n",
       "      <td>0.000000</td>\n",
       "      <td>0.000000</td>\n",
       "      <td>0.000000</td>\n",
       "      <td>0.000000</td>\n",
       "      <td>0.000000</td>\n",
       "      <td>0.000000</td>\n",
       "      <td>0.000000</td>\n",
       "      <td>0.000000e+00</td>\n",
       "    </tr>\n",
       "    <tr>\n",
       "      <th>max</th>\n",
       "      <td>1.00000</td>\n",
       "      <td>1.000000</td>\n",
       "      <td>1.000000</td>\n",
       "      <td>1.000000</td>\n",
       "      <td>1.000000</td>\n",
       "      <td>1.000000</td>\n",
       "      <td>1.000000</td>\n",
       "      <td>1.000000</td>\n",
       "      <td>1.000000</td>\n",
       "      <td>1.000000</td>\n",
       "      <td>...</td>\n",
       "      <td>1.000000</td>\n",
       "      <td>1.000000</td>\n",
       "      <td>1.000000</td>\n",
       "      <td>1.000000</td>\n",
       "      <td>1.000000</td>\n",
       "      <td>1.000000</td>\n",
       "      <td>1.000000</td>\n",
       "      <td>1.000000</td>\n",
       "      <td>1.000000</td>\n",
       "      <td>1.157741e+06</td>\n",
       "    </tr>\n",
       "  </tbody>\n",
       "</table>\n",
       "<p>8 rows × 350 columns</p>\n",
       "</div>"
      ],
      "text/plain": [
       "              B105          B110          B115          B116          B120  \\\n",
       "count  39215.00000  39215.000000  39215.000000  39215.000000  39215.000000   \n",
       "mean       0.00533      0.001097      0.000204      0.001428      0.003443   \n",
       "std        0.07281      0.033096      0.014282      0.037763      0.058573   \n",
       "min        0.00000      0.000000      0.000000      0.000000      0.000000   \n",
       "25%        0.00000      0.000000      0.000000      0.000000      0.000000   \n",
       "50%        0.00000      0.000000      0.000000      0.000000      0.000000   \n",
       "75%        0.00000      0.000000      0.000000      0.000000      0.000000   \n",
       "max        1.00000      1.000000      1.000000      1.000000      1.000000   \n",
       "\n",
       "               B125          B130          B135          B140          B145  \\\n",
       "count  39215.000000  39215.000000  39215.000000  39215.000000  39215.000000   \n",
       "mean       0.008084      0.004514      0.000459      0.001122      0.005049   \n",
       "std        0.089546      0.067032      0.021420      0.033478      0.070878   \n",
       "min        0.000000      0.000000      0.000000      0.000000      0.000000   \n",
       "25%        0.000000      0.000000      0.000000      0.000000      0.000000   \n",
       "50%        0.000000      0.000000      0.000000      0.000000      0.000000   \n",
       "75%        0.000000      0.000000      0.000000      0.000000      0.000000   \n",
       "max        1.000000      1.000000      1.000000      1.000000      1.000000   \n",
       "\n",
       "       ...  VVVJ_NETKAT_02  VVVJ_NETKAT_03  VVVJ_NETKAT_04  VVVJ_NETKAT_05  \\\n",
       "count  ...     7178.000000     7178.000000     7178.000000     7178.000000   \n",
       "mean   ...        0.684313        0.027166        0.019922        0.011981   \n",
       "std    ...        0.464821        0.162579        0.139742        0.108808   \n",
       "min    ...        0.000000        0.000000        0.000000        0.000000   \n",
       "25%    ...        0.000000        0.000000        0.000000        0.000000   \n",
       "50%    ...        1.000000        0.000000        0.000000        0.000000   \n",
       "75%    ...        1.000000        0.000000        0.000000        0.000000   \n",
       "max    ...        1.000000        1.000000        1.000000        1.000000   \n",
       "\n",
       "       VVVJ_NETKAT_06  VVVJ_NETKAT_07  VVVJ_NETKAT_08  VVVJ_NETKAT_09  \\\n",
       "count     7178.000000     7178.000000     7178.000000     7178.000000   \n",
       "mean         0.008638        0.007662        0.006130        0.005991   \n",
       "std          0.092542        0.087205        0.078058        0.077172   \n",
       "min          0.000000        0.000000        0.000000        0.000000   \n",
       "25%          0.000000        0.000000        0.000000        0.000000   \n",
       "50%          0.000000        0.000000        0.000000        0.000000   \n",
       "75%          0.000000        0.000000        0.000000        0.000000   \n",
       "max          1.000000        1.000000        1.000000        1.000000   \n",
       "\n",
       "       VVVJ_NETKAT_10         AJ_29  \n",
       "count     7178.000000  2.289300e+04  \n",
       "mean         0.058233  1.129062e+03  \n",
       "std          0.234201  1.651759e+04  \n",
       "min          0.000000  0.000000e+00  \n",
       "25%          0.000000  0.000000e+00  \n",
       "50%          0.000000  0.000000e+00  \n",
       "75%          0.000000  0.000000e+00  \n",
       "max          1.000000  1.157741e+06  \n",
       "\n",
       "[8 rows x 350 columns]"
      ]
     },
     "execution_count": 10,
     "metadata": {},
     "output_type": "execute_result"
    }
   ],
   "source": [
    "TDS.loc[:,feature_columns+[\"AJ_29\"]].describe()"
   ]
  },
  {
   "cell_type": "code",
   "execution_count": 11,
   "metadata": {},
   "outputs": [
    {
     "data": {
      "image/png": "[encoded data removed]",
      "text/plain": [
       "<Figure size 1080x720 with 2 Axes>"
      ]
     },
     "metadata": {
      "needs_background": "light"
     },
     "output_type": "display_data"
    }
   ],
   "source": [
    "import matplotlib.mlab as mlab\n",
    "from   matplotlib.colors import Normalize\n",
    "import matplotlib.pyplot as plt\n",
    "import numpy as np\n",
    "\n",
    "x = TDS.loc[TDS.AJ_29>0 ,\"AJ_29\"]\n",
    "y = np.log(TDS.loc[TDS.AJ_29>0,\"AJ_29\"]+1)\n",
    "n_bins=50\n",
    "\n",
    "fig, axs = plt.subplots(1, 2, sharey=True, tight_layout=True, figsize=(15,10))\n",
    "\n",
    "# We can set the number of bins with the `bins` kwarg\n",
    "axs[0].hist(x, bins=n_bins)\n",
    "axs[0].grid(True)\n",
    "axs[1].hist(y, bins=n_bins)\n",
    "axs[1].grid(True)"
   ]
  },
  {
   "cell_type": "code",
   "execution_count": 12,
   "metadata": {},
   "outputs": [
    {
     "data": {
      "text/plain": [
       "18         5147.0\n",
       "19         5669.0\n",
       "20         6455.0\n",
       "33         9995.0\n",
       "50       118827.0\n",
       "63        31741.0\n",
       "104        1212.0\n",
       "120       16338.0\n",
       "140       12072.0\n",
       "163       11550.0\n",
       "210        8622.0\n",
       "217        2324.0\n",
       "218        5583.0\n",
       "219        2241.0\n",
       "234       20760.0\n",
       "235      125285.0\n",
       "236       11932.0\n",
       "237        2170.0\n",
       "265      175173.0\n",
       "268         906.0\n",
       "269        2569.0\n",
       "270       18840.0\n",
       "307       15607.0\n",
       "309         750.0\n",
       "322        5038.0\n",
       "328         689.0\n",
       "331        5015.0\n",
       "333       13306.0\n",
       "334       28023.0\n",
       "371        3867.0\n",
       "           ...   \n",
       "38246      1216.0\n",
       "38247      3279.0\n",
       "38248       553.0\n",
       "38249      1007.0\n",
       "38250       476.0\n",
       "38252      3595.0\n",
       "38253      1001.0\n",
       "38254       310.0\n",
       "38256      6277.0\n",
       "38258      3235.0\n",
       "38259       810.0\n",
       "38260      2514.0\n",
       "38261      1767.0\n",
       "38267       259.0\n",
       "38269       694.0\n",
       "38270       375.0\n",
       "38274       128.0\n",
       "38275      3851.0\n",
       "38276       286.0\n",
       "38277      4713.0\n",
       "38278      1476.0\n",
       "38279      2149.0\n",
       "38281      6236.0\n",
       "38282      3744.0\n",
       "38283       612.0\n",
       "38295      1416.0\n",
       "38329      3815.0\n",
       "38348       333.0\n",
       "38362      2588.0\n",
       "38479     14258.0\n",
       "Name: AJ_29, Length: 1267, dtype: float64"
      ]
     },
     "execution_count": 12,
     "metadata": {},
     "output_type": "execute_result"
    }
   ],
   "source": [
    "TDS.loc[TDS.AJ_29>0,\"AJ_29\"]"
   ]
  },
  {
   "cell_type": "markdown",
   "metadata": {},
   "source": [
    "## Split tds in Test und Train"
   ]
  },
  {
   "cell_type": "markdown",
   "metadata": {},
   "source": [
    "Prediktor festlegen: Aktuelle Woche basierend auf ``gv_AJAW_KW = 29``:"
   ]
  },
  {
   "cell_type": "code",
   "execution_count": 13,
   "metadata": {},
   "outputs": [],
   "source": [
    "#TDS.loc[:,\"AJ_29\"].head()"
   ]
  },
  {
   "cell_type": "code",
   "execution_count": 14,
   "metadata": {},
   "outputs": [],
   "source": [
    "df_features    = TDS.fillna(0).loc[:,feature_columns].to_numpy() # cancer.data\n",
    "df_target      = TDS.fillna(0).loc[:,\"AJ_29\"].to_numpy()          # cancer.target"
   ]
  },
  {
   "cell_type": "code",
   "execution_count": 15,
   "metadata": {},
   "outputs": [],
   "source": [
    "from sklearn.model_selection import train_test_split"
   ]
  },
  {
   "cell_type": "code",
   "execution_count": 16,
   "metadata": {},
   "outputs": [],
   "source": [
    "X_train, X_test, y_train, y_test = train_test_split(\n",
    "    df_features, df_target, train_size=0.80, random_state=42)"
   ]
  },
  {
   "cell_type": "markdown",
   "metadata": {},
   "source": [
    "Describe loaded data:"
   ]
  },
  {
   "cell_type": "code",
   "execution_count": 17,
   "metadata": {},
   "outputs": [
    {
     "name": "stdout",
     "output_type": "stream",
     "text": [
      "X_train shape: (31372, 349)\n",
      "y_train shape: (31372,)\n",
      "Feature names:\n",
      " ['B105', 'B110', 'B115', 'B116', 'B120', 'B125', 'B130', 'B135', 'B140', 'B145', 'B150', 'B155', 'B160', 'B165', 'B170', 'B185', 'B195', 'B225', 'B230', 'B240', 'B241', 'B290', 'B295', 'B325', 'B330', 'B332', 'B334', 'B339', 'B349', 'B350', 'B351', 'B352', 'B353', 'B354', 'B356', 'B357', 'B366', 'B367', 'B371', 'B390', 'B400', 'B401', 'B405', 'B410', 'B420', 'B425', 'B435', 'B436', 'B445', 'B446', 'B447', 'B448', 'B455', 'B460', 'B464', 'B465', 'B466', 'B468', 'B469', 'B470', 'B475', 'B503', 'B504', 'B508', 'B509', 'B535', 'B555', 'B556', 'B575', 'B610', 'B695', 'B705', 'B720', 'B765', 'B780', 'B795', 'B800', 'B901', 'B950', 'B960', 'B970', 'B980', 'B990', 'VJNet', 'VJ_01', 'VJ_03', 'VJ_05', 'VJ_07', 'VJ_09', 'VJ_11', 'VJ_13', 'VJ_15', 'VJ_17', 'VJ_19', 'VJ_21', 'VJ_23', 'VJ_25', 'VJ_27', 'VJ_29', 'VJ_31', 'VJ_33', 'VJ_35', 'VJ_37', 'VJ_39', 'VJ_41', 'VJ_43', 'VJ_45', 'VJ_47', 'VJ_49', 'VJ_51', 'VJ_KONTAKT_L1_KW01', 'VJ_KONTAKT_L1_KW03', 'VJ_KONTAKT_L1_KW05', 'VJ_KONTAKT_L1_KW07', 'VJ_KONTAKT_L1_KW09', 'VJ_KONTAKT_L1_KW11', 'VJ_KONTAKT_L1_KW13', 'VJ_KONTAKT_L1_KW15', 'VJ_KONTAKT_L1_KW17', 'VJ_KONTAKT_L1_KW19', 'VJ_KONTAKT_L1_KW21', 'VJ_KONTAKT_L1_KW23', 'VJ_KONTAKT_L1_KW25', 'VJ_KONTAKT_L1_KW27', 'VJ_KONTAKT_L1_KW31', 'VJ_KONTAKT_L1_KW33', 'VJ_KONTAKT_L1_KW35', 'VJ_KONTAKT_L1_KW37', 'VJ_KONTAKT_L1_KW39', 'VJ_KONTAKT_L1_KW41', 'VJ_KONTAKT_L1_KW43', 'VJ_KONTAKT_L1_KW45', 'VJ_KONTAKT_L1_KW47', 'VJ_KONTAKT_L1_KW49', 'VJ_KONTAKT_L1_KW51', 'VJ_KONTAKT_L2_KW01', 'VJ_KONTAKT_L2_KW03', 'VJ_KONTAKT_L2_KW05', 'VJ_KONTAKT_L2_KW07', 'VJ_KONTAKT_L2_KW09', 'VJ_KONTAKT_L2_KW11', 'VJ_KONTAKT_L2_KW13', 'VJ_KONTAKT_L2_KW15', 'VJ_KONTAKT_L2_KW17', 'VJ_KONTAKT_L2_KW19', 'VJ_KONTAKT_L2_KW21', 'VJ_KONTAKT_L2_KW23', 'VJ_KONTAKT_L2_KW25', 'VJ_KONTAKT_L2_KW27', 'VJ_KONTAKT_L2_KW29', 'VJ_KONTAKT_L2_KW31', 'VJ_KONTAKT_L2_KW33', 'VJ_KONTAKT_L2_KW35', 'VJ_KONTAKT_L2_KW37', 'VJ_KONTAKT_L2_KW39', 'VJ_KONTAKT_L2_KW41', 'VJ_KONTAKT_L2_KW43', 'VJ_KONTAKT_L2_KW45', 'VJ_KONTAKT_L2_KW47', 'VJ_KONTAKT_L2_KW49', 'VJ_KONTAKT_L2_KW51', 'VJ_NETKAT_01', 'VJ_NETKAT_02', 'VJ_NETKAT_03', 'VJ_NETKAT_04', 'VJ_NETKAT_05', 'VJ_NETKAT_06', 'VJ_NETKAT_07', 'VJ_NETKAT_08', 'VJ_NETKAT_09', 'VJ_NETKAT_10', 'VVJNet', 'VVJ_01', 'VVJ_03', 'VVJ_05', 'VVJ_07', 'VVJ_09', 'VVJ_11', 'VVJ_13', 'VVJ_15', 'VVJ_17', 'VVJ_19', 'VVJ_21', 'VVJ_23', 'VVJ_25', 'VVJ_27', 'VVJ_29', 'VVJ_31', 'VVJ_33', 'VVJ_35', 'VVJ_37', 'VVJ_39', 'VVJ_41', 'VVJ_43', 'VVJ_45', 'VVJ_47', 'VVJ_49', 'VVJ_51', 'VVJ_KONTAKT_L1_KW01', 'VVJ_KONTAKT_L1_KW03', 'VVJ_KONTAKT_L1_KW05', 'VVJ_KONTAKT_L1_KW07', 'VVJ_KONTAKT_L1_KW09', 'VVJ_KONTAKT_L1_KW11', 'VVJ_KONTAKT_L1_KW13', 'VVJ_KONTAKT_L1_KW15', 'VVJ_KONTAKT_L1_KW17', 'VVJ_KONTAKT_L1_KW19', 'VVJ_KONTAKT_L1_KW21', 'VVJ_KONTAKT_L1_KW23', 'VVJ_KONTAKT_L1_KW25', 'VVJ_KONTAKT_L1_KW27', 'VVJ_KONTAKT_L1_KW29', 'VVJ_KONTAKT_L1_KW31', 'VVJ_KONTAKT_L1_KW33', 'VVJ_KONTAKT_L1_KW35', 'VVJ_KONTAKT_L1_KW37', 'VVJ_KONTAKT_L1_KW39', 'VVJ_KONTAKT_L1_KW41', 'VVJ_KONTAKT_L1_KW43', 'VVJ_KONTAKT_L1_KW45', 'VVJ_KONTAKT_L1_KW47', 'VVJ_KONTAKT_L1_KW49', 'VVJ_KONTAKT_L1_KW51', 'VVJ_KONTAKT_L2_KW01', 'VVJ_KONTAKT_L2_KW03', 'VVJ_KONTAKT_L2_KW05', 'VVJ_KONTAKT_L2_KW07', 'VVJ_KONTAKT_L2_KW09', 'VVJ_KONTAKT_L2_KW11', 'VVJ_KONTAKT_L2_KW13', 'VVJ_KONTAKT_L2_KW15', 'VVJ_KONTAKT_L2_KW17', 'VVJ_KONTAKT_L2_KW19', 'VVJ_KONTAKT_L2_KW21', 'VVJ_KONTAKT_L2_KW23', 'VVJ_KONTAKT_L2_KW25', 'VVJ_KONTAKT_L2_KW27', 'VVJ_KONTAKT_L2_KW29', 'VVJ_KONTAKT_L2_KW31', 'VVJ_KONTAKT_L2_KW33', 'VVJ_KONTAKT_L2_KW35', 'VVJ_KONTAKT_L2_KW37', 'VVJ_KONTAKT_L2_KW39', 'VVJ_KONTAKT_L2_KW41', 'VVJ_KONTAKT_L2_KW43', 'VVJ_KONTAKT_L2_KW45', 'VVJ_KONTAKT_L2_KW47', 'VVJ_KONTAKT_L2_KW49', 'VVJ_KONTAKT_L2_KW51', 'VVJ_NETKAT_01', 'VVJ_NETKAT_02', 'VVJ_NETKAT_03', 'VVJ_NETKAT_04', 'VVJ_NETKAT_05', 'VVJ_NETKAT_06', 'VVJ_NETKAT_07', 'VVJ_NETKAT_08', 'VVJ_NETKAT_09', 'VVJ_NETKAT_10', 'VVVJNet', 'VVVJ_01', 'VVVJ_03', 'VVVJ_05', 'VVVJ_07', 'VVVJ_09', 'VVVJ_11', 'VVVJ_13', 'VVVJ_15', 'VVVJ_17', 'VVVJ_19', 'VVVJ_21', 'VVVJ_23', 'VVVJ_25', 'VVVJ_27', 'VVVJ_29', 'VVVJ_31', 'VVVJ_33', 'VVVJ_35', 'VVVJ_37', 'VVVJ_39', 'VVVJ_41', 'VVVJ_43', 'VVVJ_45', 'VVVJ_47', 'VVVJ_49', 'VVVJ_51', 'VVVJ_KONTAKT_L1_KW01', 'VVVJ_KONTAKT_L1_KW03', 'VVVJ_KONTAKT_L1_KW05', 'VVVJ_KONTAKT_L1_KW07', 'VVVJ_KONTAKT_L1_KW09', 'VVVJ_KONTAKT_L1_KW11', 'VVVJ_KONTAKT_L1_KW13', 'VVVJ_KONTAKT_L1_KW15', 'VVVJ_KONTAKT_L1_KW17', 'VVVJ_KONTAKT_L1_KW19', 'VVVJ_KONTAKT_L1_KW21', 'VVVJ_KONTAKT_L1_KW23', 'VVVJ_KONTAKT_L1_KW25', 'VVVJ_KONTAKT_L1_KW27', 'VVVJ_KONTAKT_L1_KW29', 'VVVJ_KONTAKT_L1_KW31', 'VVVJ_KONTAKT_L1_KW33', 'VVVJ_KONTAKT_L1_KW35', 'VVVJ_KONTAKT_L1_KW37', 'VVVJ_KONTAKT_L1_KW39', 'VVVJ_KONTAKT_L1_KW41', 'VVVJ_KONTAKT_L1_KW43', 'VVVJ_KONTAKT_L1_KW45', 'VVVJ_KONTAKT_L1_KW47', 'VVVJ_KONTAKT_L1_KW49', 'VVVJ_KONTAKT_L1_KW51', 'VVVJ_KONTAKT_L2_KW01', 'VVVJ_KONTAKT_L2_KW03', 'VVVJ_KONTAKT_L2_KW05', 'VVVJ_KONTAKT_L2_KW07', 'VVVJ_KONTAKT_L2_KW09', 'VVVJ_KONTAKT_L2_KW11', 'VVVJ_KONTAKT_L2_KW13', 'VVVJ_KONTAKT_L2_KW15', 'VVVJ_KONTAKT_L2_KW17', 'VVVJ_KONTAKT_L2_KW19', 'VVVJ_KONTAKT_L2_KW21', 'VVVJ_KONTAKT_L2_KW23', 'VVVJ_KONTAKT_L2_KW25', 'VVVJ_KONTAKT_L2_KW27', 'VVVJ_KONTAKT_L2_KW29', 'VVVJ_KONTAKT_L2_KW31', 'VVVJ_KONTAKT_L2_KW33', 'VVVJ_KONTAKT_L2_KW35', 'VVVJ_KONTAKT_L2_KW37', 'VVVJ_KONTAKT_L2_KW39', 'VVVJ_KONTAKT_L2_KW41', 'VVVJ_KONTAKT_L2_KW43', 'VVVJ_KONTAKT_L2_KW45', 'VVVJ_KONTAKT_L2_KW47', 'VVVJ_KONTAKT_L2_KW49', 'VVVJ_KONTAKT_L2_KW51', 'VVVJ_NETKAT_01', 'VVVJ_NETKAT_02', 'VVVJ_NETKAT_03', 'VVVJ_NETKAT_04', 'VVVJ_NETKAT_05', 'VVVJ_NETKAT_06', 'VVVJ_NETKAT_07', 'VVVJ_NETKAT_08', 'VVVJ_NETKAT_09', 'VVVJ_NETKAT_10']\n",
      "Target names: AJ_29\n"
     ]
    }
   ],
   "source": [
    "print(\"X_train shape:\", X_train.shape)\n",
    "print(\"y_train shape:\", y_train.shape)\n",
    "print(\"Feature names:\\n\", feature_columns)\n",
    "print(\"Target names:\", \"AJ_29\") # <= NEEDS TO BE ADJUSTED!"
   ]
  },
  {
   "cell_type": "markdown",
   "metadata": {},
   "source": [
    "## Train data: LogReg with C=1 (default)"
   ]
  },
  {
   "cell_type": "code",
   "execution_count": 18,
   "metadata": {},
   "outputs": [],
   "source": [
    "from   sklearn.linear_model import LogisticRegression\n",
    "import time"
   ]
  },
  {
   "cell_type": "code",
   "execution_count": 19,
   "metadata": {},
   "outputs": [],
   "source": [
    "def run_time(x,y):\n",
    "    start = min(x,y)\n",
    "    end   = max(x,y)\n",
    "    run_time_exact = end-start\n",
    "    run_time_sec   = int(round(run_time_exact))\n",
    "    run_time_min   = int(round(run_time_exact/60))\n",
    "    run_time_hrs   = int(round(run_time_exact/60/60))\n",
    "    run_time_days  = int(round(run_time_exact/60/60/24))\n",
    "    return print(run_time_hrs,'hrs',run_time_min%60,'min',run_time_sec%60,'sec')"
   ]
  },
  {
   "cell_type": "code",
   "execution_count": 20,
   "metadata": {},
   "outputs": [],
   "source": [
    "#type(np.log(y_train+1))\n",
    "#type(y_train)\n",
    "y_train_binary = np.array([min(y,1) for y in y_train])\n",
    "y_test_binary  = np.array([min(y,1) for y in y_test])"
   ]
  },
  {
   "cell_type": "code",
   "execution_count": 21,
   "metadata": {},
   "outputs": [
    {
     "name": "stdout",
     "output_type": "stream",
     "text": [
      "0 hrs 0 min 8 sec\n",
      "None\n",
      "Training set score: 0.940\n",
      "Test set score: 0.938\n"
     ]
    },
    {
     "name": "stderr",
     "output_type": "stream",
     "text": [
      "C:\\ProgramData\\Anaconda3\\lib\\site-packages\\sklearn\\linear_model\\sag.py:337: ConvergenceWarning: The max_iter was reached which means the coef_ did not converge\n",
      "  \"the coef_ did not converge\", ConvergenceWarning)\n"
     ]
    }
   ],
   "source": [
    "start = time.time()\n",
    "logreg = LogisticRegression(n_jobs=-1,solver=\"sag\", C=1).fit(X_train, y_train_binary)\n",
    "end = time.time()\n",
    "print(run_time(start,end))\n",
    "#logreg = LogisticRegression().fit(X_train, y_train)\n",
    "print(\"Training set score: {:.3f}\".format(logreg.score(X_train, y_train_binary)))\n",
    "print(\"Test set score: {:.3f}\".format(logreg.score(X_test, y_test_binary)))"
   ]
  },
  {
   "cell_type": "code",
   "execution_count": 22,
   "metadata": {},
   "outputs": [
    {
     "name": "stdout",
     "output_type": "stream",
     "text": [
      "Training set score: 0.940\n",
      "Test set score: 0.938\n"
     ]
    },
    {
     "name": "stderr",
     "output_type": "stream",
     "text": [
      "C:\\ProgramData\\Anaconda3\\lib\\site-packages\\sklearn\\linear_model\\sag.py:337: ConvergenceWarning: The max_iter was reached which means the coef_ did not converge\n",
      "  \"the coef_ did not converge\", ConvergenceWarning)\n"
     ]
    }
   ],
   "source": [
    "# %% Train data: LogReg with C = 0.01\n",
    "logreg001 = LogisticRegression(n_jobs=-1,solver=\"sag\", C=0.01).fit(X_train, y_train_binary)\n",
    "print(\"Training set score: {:.3f}\".format(logreg001.score(X_train, y_train_binary)))\n",
    "print(\"Test set score: {:.3f}\".format(logreg001.score(X_test, y_test_binary)))"
   ]
  },
  {
   "cell_type": "code",
   "execution_count": 23,
   "metadata": {},
   "outputs": [
    {
     "name": "stdout",
     "output_type": "stream",
     "text": [
      "Training set score: 0.940\n",
      "Test set score: 0.938\n"
     ]
    },
    {
     "name": "stderr",
     "output_type": "stream",
     "text": [
      "C:\\ProgramData\\Anaconda3\\lib\\site-packages\\sklearn\\linear_model\\sag.py:337: ConvergenceWarning: The max_iter was reached which means the coef_ did not converge\n",
      "  \"the coef_ did not converge\", ConvergenceWarning)\n"
     ]
    }
   ],
   "source": [
    "logreg100 = LogisticRegression(n_jobs=-1,solver=\"sag\", C=100).fit(X_train, y_train_binary) # bigger C\n",
    "print(\"Training set score: {:.3f}\".format(logreg100.score(X_train, y_train_binary)))\n",
    "print(\"Test set score: {:.3f}\".format(logreg100.score(X_test, y_test_binary)))"
   ]
  },
  {
   "cell_type": "code",
   "execution_count": 47,
   "metadata": {},
   "outputs": [
    {
     "data": {
      "image/png": "[encoded data removed]",
      "text/plain": [
       "<Figure size 5040x720 with 1 Axes>"
      ]
     },
     "metadata": {
      "needs_background": "light"
     },
     "output_type": "display_data"
    }
   ],
   "source": [
    "# %% Plot: Compare LogReg-coefficients for different C (1, 100, 0.001)\n",
    "plt.figure(figsize=(70,10))\n",
    "plt.grid()\n",
    "plt.plot(logreg.coef_.T,    'o', label=\"C=1\")\n",
    "plt.plot(logreg100.coef_.T, '^', label=\"C=100\")\n",
    "plt.plot(logreg001.coef_.T, 'v', label=\"C=0.001\")\n",
    "plt.xticks(range(len(feature_columns)), feature_columns, rotation=90)\n",
    "plt.hlines(0, 0, len(feature_columns))\n",
    "plt.ylim(min(logreg.coef_.T), max(logreg.coef_.T))\n",
    "plt.xlabel(\"Feature\")\n",
    "plt.ylabel(\"Coefficient magnitude\")\n",
    "plt.legend()\n",
    "plt.savefig('this_is_a_test.png')"
   ]
  },
  {
   "cell_type": "code",
   "execution_count": 45,
   "metadata": {},
   "outputs": [
    {
     "ename": "AttributeError",
     "evalue": "'Line2D' object has no property 'rotation'",
     "output_type": "error",
     "traceback": [
      "\u001b[1;31m---------------------------------------------------------------------------\u001b[0m",
      "\u001b[1;31mAttributeError\u001b[0m                            Traceback (most recent call last)",
      "\u001b[1;32m<ipython-input-45-aef76ba8fe6b>\u001b[0m in \u001b[0;36m<module>\u001b[1;34m\u001b[0m\n\u001b[0;32m      2\u001b[0m \u001b[0mplt\u001b[0m\u001b[1;33m.\u001b[0m\u001b[0mfigure\u001b[0m\u001b[1;33m(\u001b[0m\u001b[0mfigsize\u001b[0m\u001b[1;33m=\u001b[0m\u001b[1;33m(\u001b[0m\u001b[1;36m10\u001b[0m\u001b[1;33m,\u001b[0m\u001b[1;36m60\u001b[0m\u001b[1;33m)\u001b[0m\u001b[1;33m)\u001b[0m\u001b[1;33m\u001b[0m\u001b[1;33m\u001b[0m\u001b[0m\n\u001b[0;32m      3\u001b[0m \u001b[0mplt\u001b[0m\u001b[1;33m.\u001b[0m\u001b[0mgrid\u001b[0m\u001b[1;33m(\u001b[0m\u001b[1;33m)\u001b[0m\u001b[1;33m\u001b[0m\u001b[1;33m\u001b[0m\u001b[0m\n\u001b[1;32m----> 4\u001b[1;33m \u001b[0mplt\u001b[0m\u001b[1;33m.\u001b[0m\u001b[0mplot\u001b[0m\u001b[1;33m(\u001b[0m\u001b[0mlogreg\u001b[0m\u001b[1;33m.\u001b[0m\u001b[0mcoef_\u001b[0m\u001b[1;33m.\u001b[0m\u001b[0mT\u001b[0m\u001b[1;33m,\u001b[0m    \u001b[1;34m'o'\u001b[0m\u001b[1;33m,\u001b[0m \u001b[0mlabel\u001b[0m\u001b[1;33m=\u001b[0m\u001b[1;34m\"C=1\"\u001b[0m\u001b[1;33m,\u001b[0m \u001b[0mrotation\u001b[0m\u001b[1;33m=\u001b[0m\u001b[1;36m90\u001b[0m\u001b[1;33m)\u001b[0m\u001b[1;33m\u001b[0m\u001b[1;33m\u001b[0m\u001b[0m\n\u001b[0m\u001b[0;32m      5\u001b[0m \u001b[0mplt\u001b[0m\u001b[1;33m.\u001b[0m\u001b[0mplot\u001b[0m\u001b[1;33m(\u001b[0m\u001b[0mlogreg100\u001b[0m\u001b[1;33m.\u001b[0m\u001b[0mcoef_\u001b[0m\u001b[1;33m.\u001b[0m\u001b[0mT\u001b[0m\u001b[1;33m,\u001b[0m \u001b[1;34m'^'\u001b[0m\u001b[1;33m,\u001b[0m \u001b[0mlabel\u001b[0m\u001b[1;33m=\u001b[0m\u001b[1;34m\"C=100\"\u001b[0m\u001b[1;33m,\u001b[0m \u001b[0mrotation\u001b[0m\u001b[1;33m=\u001b[0m\u001b[1;36m90\u001b[0m\u001b[1;33m)\u001b[0m\u001b[1;33m\u001b[0m\u001b[1;33m\u001b[0m\u001b[0m\n\u001b[0;32m      6\u001b[0m \u001b[0mplt\u001b[0m\u001b[1;33m.\u001b[0m\u001b[0mplot\u001b[0m\u001b[1;33m(\u001b[0m\u001b[0mlogreg001\u001b[0m\u001b[1;33m.\u001b[0m\u001b[0mcoef_\u001b[0m\u001b[1;33m.\u001b[0m\u001b[0mT\u001b[0m\u001b[1;33m,\u001b[0m \u001b[1;34m'v'\u001b[0m\u001b[1;33m,\u001b[0m \u001b[0mlabel\u001b[0m\u001b[1;33m=\u001b[0m\u001b[1;34m\"C=0.001\"\u001b[0m\u001b[1;33m,\u001b[0m \u001b[0mrotation\u001b[0m\u001b[1;33m=\u001b[0m\u001b[1;36m90\u001b[0m\u001b[1;33m)\u001b[0m\u001b[1;33m\u001b[0m\u001b[1;33m\u001b[0m\u001b[0m\n",
      "\u001b[1;32mC:\\ProgramData\\Anaconda3\\lib\\site-packages\\matplotlib\\pyplot.py\u001b[0m in \u001b[0;36mplot\u001b[1;34m(scalex, scaley, data, *args, **kwargs)\u001b[0m\n\u001b[0;32m   2787\u001b[0m     return gca().plot(\n\u001b[0;32m   2788\u001b[0m         *args, scalex=scalex, scaley=scaley, **({\"data\": data} if data\n\u001b[1;32m-> 2789\u001b[1;33m         is not None else {}), **kwargs)\n\u001b[0m\u001b[0;32m   2790\u001b[0m \u001b[1;33m\u001b[0m\u001b[0m\n\u001b[0;32m   2791\u001b[0m \u001b[1;33m\u001b[0m\u001b[0m\n",
      "\u001b[1;32mC:\\ProgramData\\Anaconda3\\lib\\site-packages\\matplotlib\\axes\\_axes.py\u001b[0m in \u001b[0;36mplot\u001b[1;34m(self, scalex, scaley, data, *args, **kwargs)\u001b[0m\n\u001b[0;32m   1664\u001b[0m         \"\"\"\n\u001b[0;32m   1665\u001b[0m         \u001b[0mkwargs\u001b[0m \u001b[1;33m=\u001b[0m \u001b[0mcbook\u001b[0m\u001b[1;33m.\u001b[0m\u001b[0mnormalize_kwargs\u001b[0m\u001b[1;33m(\u001b[0m\u001b[0mkwargs\u001b[0m\u001b[1;33m,\u001b[0m \u001b[0mmlines\u001b[0m\u001b[1;33m.\u001b[0m\u001b[0mLine2D\u001b[0m\u001b[1;33m.\u001b[0m\u001b[0m_alias_map\u001b[0m\u001b[1;33m)\u001b[0m\u001b[1;33m\u001b[0m\u001b[1;33m\u001b[0m\u001b[0m\n\u001b[1;32m-> 1666\u001b[1;33m         \u001b[0mlines\u001b[0m \u001b[1;33m=\u001b[0m \u001b[1;33m[\u001b[0m\u001b[1;33m*\u001b[0m\u001b[0mself\u001b[0m\u001b[1;33m.\u001b[0m\u001b[0m_get_lines\u001b[0m\u001b[1;33m(\u001b[0m\u001b[1;33m*\u001b[0m\u001b[0margs\u001b[0m\u001b[1;33m,\u001b[0m \u001b[0mdata\u001b[0m\u001b[1;33m=\u001b[0m\u001b[0mdata\u001b[0m\u001b[1;33m,\u001b[0m \u001b[1;33m**\u001b[0m\u001b[0mkwargs\u001b[0m\u001b[1;33m)\u001b[0m\u001b[1;33m]\u001b[0m\u001b[1;33m\u001b[0m\u001b[1;33m\u001b[0m\u001b[0m\n\u001b[0m\u001b[0;32m   1667\u001b[0m         \u001b[1;32mfor\u001b[0m \u001b[0mline\u001b[0m \u001b[1;32min\u001b[0m \u001b[0mlines\u001b[0m\u001b[1;33m:\u001b[0m\u001b[1;33m\u001b[0m\u001b[1;33m\u001b[0m\u001b[0m\n\u001b[0;32m   1668\u001b[0m             \u001b[0mself\u001b[0m\u001b[1;33m.\u001b[0m\u001b[0madd_line\u001b[0m\u001b[1;33m(\u001b[0m\u001b[0mline\u001b[0m\u001b[1;33m)\u001b[0m\u001b[1;33m\u001b[0m\u001b[1;33m\u001b[0m\u001b[0m\n",
      "\u001b[1;32mC:\\ProgramData\\Anaconda3\\lib\\site-packages\\matplotlib\\axes\\_base.py\u001b[0m in \u001b[0;36m__call__\u001b[1;34m(self, *args, **kwargs)\u001b[0m\n\u001b[0;32m    223\u001b[0m                 \u001b[0mthis\u001b[0m \u001b[1;33m+=\u001b[0m \u001b[0margs\u001b[0m\u001b[1;33m[\u001b[0m\u001b[1;36m0\u001b[0m\u001b[1;33m]\u001b[0m\u001b[1;33m,\u001b[0m\u001b[1;33m\u001b[0m\u001b[1;33m\u001b[0m\u001b[0m\n\u001b[0;32m    224\u001b[0m                 \u001b[0margs\u001b[0m \u001b[1;33m=\u001b[0m \u001b[0margs\u001b[0m\u001b[1;33m[\u001b[0m\u001b[1;36m1\u001b[0m\u001b[1;33m:\u001b[0m\u001b[1;33m]\u001b[0m\u001b[1;33m\u001b[0m\u001b[1;33m\u001b[0m\u001b[0m\n\u001b[1;32m--> 225\u001b[1;33m             \u001b[1;32myield\u001b[0m \u001b[1;32mfrom\u001b[0m \u001b[0mself\u001b[0m\u001b[1;33m.\u001b[0m\u001b[0m_plot_args\u001b[0m\u001b[1;33m(\u001b[0m\u001b[0mthis\u001b[0m\u001b[1;33m,\u001b[0m \u001b[0mkwargs\u001b[0m\u001b[1;33m)\u001b[0m\u001b[1;33m\u001b[0m\u001b[1;33m\u001b[0m\u001b[0m\n\u001b[0m\u001b[0;32m    226\u001b[0m \u001b[1;33m\u001b[0m\u001b[0m\n\u001b[0;32m    227\u001b[0m     \u001b[1;32mdef\u001b[0m \u001b[0mget_next_color\u001b[0m\u001b[1;33m(\u001b[0m\u001b[0mself\u001b[0m\u001b[1;33m)\u001b[0m\u001b[1;33m:\u001b[0m\u001b[1;33m\u001b[0m\u001b[1;33m\u001b[0m\u001b[0m\n",
      "\u001b[1;32mC:\\ProgramData\\Anaconda3\\lib\\site-packages\\matplotlib\\axes\\_base.py\u001b[0m in \u001b[0;36m_plot_args\u001b[1;34m(self, tup, kwargs)\u001b[0m\n\u001b[0;32m    403\u001b[0m                 \"non-matching shapes is deprecated.\")\n\u001b[0;32m    404\u001b[0m         \u001b[1;32mfor\u001b[0m \u001b[0mj\u001b[0m \u001b[1;32min\u001b[0m \u001b[0mrange\u001b[0m\u001b[1;33m(\u001b[0m\u001b[0mmax\u001b[0m\u001b[1;33m(\u001b[0m\u001b[0mncx\u001b[0m\u001b[1;33m,\u001b[0m \u001b[0mncy\u001b[0m\u001b[1;33m)\u001b[0m\u001b[1;33m)\u001b[0m\u001b[1;33m:\u001b[0m\u001b[1;33m\u001b[0m\u001b[1;33m\u001b[0m\u001b[0m\n\u001b[1;32m--> 405\u001b[1;33m             \u001b[0mseg\u001b[0m \u001b[1;33m=\u001b[0m \u001b[0mfunc\u001b[0m\u001b[1;33m(\u001b[0m\u001b[0mx\u001b[0m\u001b[1;33m[\u001b[0m\u001b[1;33m:\u001b[0m\u001b[1;33m,\u001b[0m \u001b[0mj\u001b[0m \u001b[1;33m%\u001b[0m \u001b[0mncx\u001b[0m\u001b[1;33m]\u001b[0m\u001b[1;33m,\u001b[0m \u001b[0my\u001b[0m\u001b[1;33m[\u001b[0m\u001b[1;33m:\u001b[0m\u001b[1;33m,\u001b[0m \u001b[0mj\u001b[0m \u001b[1;33m%\u001b[0m \u001b[0mncy\u001b[0m\u001b[1;33m]\u001b[0m\u001b[1;33m,\u001b[0m \u001b[0mkw\u001b[0m\u001b[1;33m,\u001b[0m \u001b[0mkwargs\u001b[0m\u001b[1;33m)\u001b[0m\u001b[1;33m\u001b[0m\u001b[1;33m\u001b[0m\u001b[0m\n\u001b[0m\u001b[0;32m    406\u001b[0m             \u001b[0mret\u001b[0m\u001b[1;33m.\u001b[0m\u001b[0mappend\u001b[0m\u001b[1;33m(\u001b[0m\u001b[0mseg\u001b[0m\u001b[1;33m)\u001b[0m\u001b[1;33m\u001b[0m\u001b[1;33m\u001b[0m\u001b[0m\n\u001b[0;32m    407\u001b[0m         \u001b[1;32mreturn\u001b[0m \u001b[0mret\u001b[0m\u001b[1;33m\u001b[0m\u001b[1;33m\u001b[0m\u001b[0m\n",
      "\u001b[1;32mC:\\ProgramData\\Anaconda3\\lib\\site-packages\\matplotlib\\axes\\_base.py\u001b[0m in \u001b[0;36m_makeline\u001b[1;34m(self, x, y, kw, kwargs)\u001b[0m\n\u001b[0;32m    310\u001b[0m         \u001b[0mdefault_dict\u001b[0m \u001b[1;33m=\u001b[0m \u001b[0mself\u001b[0m\u001b[1;33m.\u001b[0m\u001b[0m_getdefaults\u001b[0m\u001b[1;33m(\u001b[0m\u001b[0mset\u001b[0m\u001b[1;33m(\u001b[0m\u001b[1;33m)\u001b[0m\u001b[1;33m,\u001b[0m \u001b[0mkw\u001b[0m\u001b[1;33m)\u001b[0m\u001b[1;33m\u001b[0m\u001b[1;33m\u001b[0m\u001b[0m\n\u001b[0;32m    311\u001b[0m         \u001b[0mself\u001b[0m\u001b[1;33m.\u001b[0m\u001b[0m_setdefaults\u001b[0m\u001b[1;33m(\u001b[0m\u001b[0mdefault_dict\u001b[0m\u001b[1;33m,\u001b[0m \u001b[0mkw\u001b[0m\u001b[1;33m)\u001b[0m\u001b[1;33m\u001b[0m\u001b[1;33m\u001b[0m\u001b[0m\n\u001b[1;32m--> 312\u001b[1;33m         \u001b[0mseg\u001b[0m \u001b[1;33m=\u001b[0m \u001b[0mmlines\u001b[0m\u001b[1;33m.\u001b[0m\u001b[0mLine2D\u001b[0m\u001b[1;33m(\u001b[0m\u001b[0mx\u001b[0m\u001b[1;33m,\u001b[0m \u001b[0my\u001b[0m\u001b[1;33m,\u001b[0m \u001b[1;33m**\u001b[0m\u001b[0mkw\u001b[0m\u001b[1;33m)\u001b[0m\u001b[1;33m\u001b[0m\u001b[1;33m\u001b[0m\u001b[0m\n\u001b[0m\u001b[0;32m    313\u001b[0m         \u001b[1;32mreturn\u001b[0m \u001b[0mseg\u001b[0m\u001b[1;33m\u001b[0m\u001b[1;33m\u001b[0m\u001b[0m\n\u001b[0;32m    314\u001b[0m \u001b[1;33m\u001b[0m\u001b[0m\n",
      "\u001b[1;32mC:\\ProgramData\\Anaconda3\\lib\\site-packages\\matplotlib\\lines.py\u001b[0m in \u001b[0;36m__init__\u001b[1;34m(self, xdata, ydata, linewidth, linestyle, color, marker, markersize, markeredgewidth, markeredgecolor, markerfacecolor, markerfacecoloralt, fillstyle, antialiased, dash_capstyle, solid_capstyle, dash_joinstyle, solid_joinstyle, pickradius, drawstyle, markevery, **kwargs)\u001b[0m\n\u001b[0;32m    402\u001b[0m         \u001b[1;31m# update kwargs before updating data to give the caller a\u001b[0m\u001b[1;33m\u001b[0m\u001b[1;33m\u001b[0m\u001b[1;33m\u001b[0m\u001b[0m\n\u001b[0;32m    403\u001b[0m         \u001b[1;31m# chance to init axes (and hence unit support)\u001b[0m\u001b[1;33m\u001b[0m\u001b[1;33m\u001b[0m\u001b[1;33m\u001b[0m\u001b[0m\n\u001b[1;32m--> 404\u001b[1;33m         \u001b[0mself\u001b[0m\u001b[1;33m.\u001b[0m\u001b[0mupdate\u001b[0m\u001b[1;33m(\u001b[0m\u001b[0mkwargs\u001b[0m\u001b[1;33m)\u001b[0m\u001b[1;33m\u001b[0m\u001b[1;33m\u001b[0m\u001b[0m\n\u001b[0m\u001b[0;32m    405\u001b[0m         \u001b[0mself\u001b[0m\u001b[1;33m.\u001b[0m\u001b[0mpickradius\u001b[0m \u001b[1;33m=\u001b[0m \u001b[0mpickradius\u001b[0m\u001b[1;33m\u001b[0m\u001b[1;33m\u001b[0m\u001b[0m\n\u001b[0;32m    406\u001b[0m         \u001b[0mself\u001b[0m\u001b[1;33m.\u001b[0m\u001b[0mind_offset\u001b[0m \u001b[1;33m=\u001b[0m \u001b[1;36m0\u001b[0m\u001b[1;33m\u001b[0m\u001b[1;33m\u001b[0m\u001b[0m\n",
      "\u001b[1;32mC:\\ProgramData\\Anaconda3\\lib\\site-packages\\matplotlib\\artist.py\u001b[0m in \u001b[0;36mupdate\u001b[1;34m(self, props)\u001b[0m\n\u001b[0;32m    955\u001b[0m \u001b[1;33m\u001b[0m\u001b[0m\n\u001b[0;32m    956\u001b[0m         \u001b[1;32mwith\u001b[0m \u001b[0mcbook\u001b[0m\u001b[1;33m.\u001b[0m\u001b[0m_setattr_cm\u001b[0m\u001b[1;33m(\u001b[0m\u001b[0mself\u001b[0m\u001b[1;33m,\u001b[0m \u001b[0meventson\u001b[0m\u001b[1;33m=\u001b[0m\u001b[1;32mFalse\u001b[0m\u001b[1;33m)\u001b[0m\u001b[1;33m:\u001b[0m\u001b[1;33m\u001b[0m\u001b[1;33m\u001b[0m\u001b[0m\n\u001b[1;32m--> 957\u001b[1;33m             \u001b[0mret\u001b[0m \u001b[1;33m=\u001b[0m \u001b[1;33m[\u001b[0m\u001b[0m_update_property\u001b[0m\u001b[1;33m(\u001b[0m\u001b[0mself\u001b[0m\u001b[1;33m,\u001b[0m \u001b[0mk\u001b[0m\u001b[1;33m,\u001b[0m \u001b[0mv\u001b[0m\u001b[1;33m)\u001b[0m \u001b[1;32mfor\u001b[0m \u001b[0mk\u001b[0m\u001b[1;33m,\u001b[0m \u001b[0mv\u001b[0m \u001b[1;32min\u001b[0m \u001b[0mprops\u001b[0m\u001b[1;33m.\u001b[0m\u001b[0mitems\u001b[0m\u001b[1;33m(\u001b[0m\u001b[1;33m)\u001b[0m\u001b[1;33m]\u001b[0m\u001b[1;33m\u001b[0m\u001b[1;33m\u001b[0m\u001b[0m\n\u001b[0m\u001b[0;32m    958\u001b[0m \u001b[1;33m\u001b[0m\u001b[0m\n\u001b[0;32m    959\u001b[0m         \u001b[1;32mif\u001b[0m \u001b[0mlen\u001b[0m\u001b[1;33m(\u001b[0m\u001b[0mret\u001b[0m\u001b[1;33m)\u001b[0m\u001b[1;33m:\u001b[0m\u001b[1;33m\u001b[0m\u001b[1;33m\u001b[0m\u001b[0m\n",
      "\u001b[1;32mC:\\ProgramData\\Anaconda3\\lib\\site-packages\\matplotlib\\artist.py\u001b[0m in \u001b[0;36m<listcomp>\u001b[1;34m(.0)\u001b[0m\n\u001b[0;32m    955\u001b[0m \u001b[1;33m\u001b[0m\u001b[0m\n\u001b[0;32m    956\u001b[0m         \u001b[1;32mwith\u001b[0m \u001b[0mcbook\u001b[0m\u001b[1;33m.\u001b[0m\u001b[0m_setattr_cm\u001b[0m\u001b[1;33m(\u001b[0m\u001b[0mself\u001b[0m\u001b[1;33m,\u001b[0m \u001b[0meventson\u001b[0m\u001b[1;33m=\u001b[0m\u001b[1;32mFalse\u001b[0m\u001b[1;33m)\u001b[0m\u001b[1;33m:\u001b[0m\u001b[1;33m\u001b[0m\u001b[1;33m\u001b[0m\u001b[0m\n\u001b[1;32m--> 957\u001b[1;33m             \u001b[0mret\u001b[0m \u001b[1;33m=\u001b[0m \u001b[1;33m[\u001b[0m\u001b[0m_update_property\u001b[0m\u001b[1;33m(\u001b[0m\u001b[0mself\u001b[0m\u001b[1;33m,\u001b[0m \u001b[0mk\u001b[0m\u001b[1;33m,\u001b[0m \u001b[0mv\u001b[0m\u001b[1;33m)\u001b[0m \u001b[1;32mfor\u001b[0m \u001b[0mk\u001b[0m\u001b[1;33m,\u001b[0m \u001b[0mv\u001b[0m \u001b[1;32min\u001b[0m \u001b[0mprops\u001b[0m\u001b[1;33m.\u001b[0m\u001b[0mitems\u001b[0m\u001b[1;33m(\u001b[0m\u001b[1;33m)\u001b[0m\u001b[1;33m]\u001b[0m\u001b[1;33m\u001b[0m\u001b[1;33m\u001b[0m\u001b[0m\n\u001b[0m\u001b[0;32m    958\u001b[0m \u001b[1;33m\u001b[0m\u001b[0m\n\u001b[0;32m    959\u001b[0m         \u001b[1;32mif\u001b[0m \u001b[0mlen\u001b[0m\u001b[1;33m(\u001b[0m\u001b[0mret\u001b[0m\u001b[1;33m)\u001b[0m\u001b[1;33m:\u001b[0m\u001b[1;33m\u001b[0m\u001b[1;33m\u001b[0m\u001b[0m\n",
      "\u001b[1;32mC:\\ProgramData\\Anaconda3\\lib\\site-packages\\matplotlib\\artist.py\u001b[0m in \u001b[0;36m_update_property\u001b[1;34m(self, k, v)\u001b[0m\n\u001b[0;32m    951\u001b[0m                 \u001b[1;32mif\u001b[0m \u001b[1;32mnot\u001b[0m \u001b[0mcallable\u001b[0m\u001b[1;33m(\u001b[0m\u001b[0mfunc\u001b[0m\u001b[1;33m)\u001b[0m\u001b[1;33m:\u001b[0m\u001b[1;33m\u001b[0m\u001b[1;33m\u001b[0m\u001b[0m\n\u001b[0;32m    952\u001b[0m                     raise AttributeError('{!r} object has no property {!r}'\n\u001b[1;32m--> 953\u001b[1;33m                                          .format(type(self).__name__, k))\n\u001b[0m\u001b[0;32m    954\u001b[0m                 \u001b[1;32mreturn\u001b[0m \u001b[0mfunc\u001b[0m\u001b[1;33m(\u001b[0m\u001b[0mv\u001b[0m\u001b[1;33m)\u001b[0m\u001b[1;33m\u001b[0m\u001b[1;33m\u001b[0m\u001b[0m\n\u001b[0;32m    955\u001b[0m \u001b[1;33m\u001b[0m\u001b[0m\n",
      "\u001b[1;31mAttributeError\u001b[0m: 'Line2D' object has no property 'rotation'"
     ]
    },
    {
     "data": {
      "image/png": "[encoded data removed]",
      "text/plain": [
       "<Figure size 720x4320 with 1 Axes>"
      ]
     },
     "metadata": {
      "needs_background": "light"
     },
     "output_type": "display_data"
    }
   ],
   "source": [
    "# %% Plot: Compare LogReg-coefficients for different C (1, 100, 0.001)\n",
    "plt.figure(figsize=(10,60))\n",
    "plt.grid()\n",
    "plt.plot(logreg.coef_.T,    'o', label=\"C=1\", rotation=90)\n",
    "plt.plot(logreg100.coef_.T, '^', label=\"C=100\", rotation=90)\n",
    "plt.plot(logreg001.coef_.T, 'v', label=\"C=0.001\", rotation=90)\n",
    "plt.yticks(range(len(feature_columns)), feature_columns, rotation=0)\n",
    "plt.vlines(0, 0, len(feature_columns))\n",
    "plt.xlim(min(logreg.coef_.T), max(logreg.coef_.T))\n",
    "plt.ylabel(\"Feature\")\n",
    "plt.xlabel(\"Coefficient magnitude\")\n",
    "plt.legend()"
   ]
  },
  {
   "cell_type": "markdown",
   "metadata": {},
   "source": [
    "### Univariate Statistics"
   ]
  },
  {
   "cell_type": "code",
   "execution_count": 166,
   "metadata": {},
   "outputs": [],
   "source": [
    "from sklearn.feature_selection import SelectPercentile"
   ]
  },
  {
   "cell_type": "code",
   "execution_count": 167,
   "metadata": {},
   "outputs": [
    {
     "name": "stdout",
     "output_type": "stream",
     "text": [
      "X_train.shape: (31372, 349)\n",
      "X_train_selected.shape: (31372, 174)\n"
     ]
    }
   ],
   "source": [
    "# use f_classif (the default) and SelectPercentile to select 50% of features\n",
    "select = SelectPercentile(percentile=50)\n",
    "select.fit(X_train, y_train)\n",
    "# transform training set\n",
    "X_train_selected = select.transform(X_train)\n",
    "\n",
    "print(\"X_train.shape: {}\".format(X_train.shape))\n",
    "print(\"X_train_selected.shape: {}\".format(X_train_selected.shape))"
   ]
  },
  {
   "cell_type": "code",
   "execution_count": 168,
   "metadata": {},
   "outputs": [
    {
     "name": "stdout",
     "output_type": "stream",
     "text": [
      "[False  True  True  True False False False False  True False False False\n",
      " False False False  True False False False False False False False False\n",
      "  True False False  True  True  True False False False False False False\n",
      " False False False False False False False False False False False False\n",
      " False False False False False False False False False False False False\n",
      " False False False False False False False False False False False  True\n",
      " False False False False False False False False False False False  True\n",
      "  True  True  True  True  True  True  True  True  True  True  True  True\n",
      "  True  True  True  True  True  True  True  True  True  True  True  True\n",
      "  True  True False  True False False False False False False False False\n",
      " False False False  True  True False False False False False False False\n",
      " False False False  True  True False False  True  True  True False  True\n",
      "  True  True  True  True  True  True  True  True  True  True False  True\n",
      " False False  True  True  True False False  True  True  True  True  True\n",
      " False  True  True  True  True  True  True  True  True  True  True  True\n",
      "  True False  True  True  True  True  True  True  True  True False  True\n",
      " False  True  True  True  True  True False False False False False False\n",
      " False False False False False False False False  True False  True False\n",
      " False False False False False False False False  True  True False False\n",
      "  True False False  True  True  True  True  True False  True  True  True\n",
      "  True  True  True  True  True  True  True False  True  True False False\n",
      "  True False  True  True False  True  True  True  True  True  True False\n",
      "  True  True  True  True  True  True  True  True  True  True  True  True\n",
      " False  True False  True  True  True  True  True  True  True  True False\n",
      " False False False False False False False False False False False False\n",
      " False  True  True  True False False False False False False False False\n",
      " False  True  True  True  True False  True  True  True  True  True  True\n",
      " False  True  True  True  True  True  True  True  True  True  True  True\n",
      "  True  True  True False False False False False  True False  True  True\n",
      "  True]\n"
     ]
    },
    {
     "data": {
      "text/plain": [
       "([], <a list of 0 Text yticklabel objects>)"
      ]
     },
     "execution_count": 168,
     "metadata": {},
     "output_type": "execute_result"
    },
    {
     "data": {
      "image/png": "[encoded data removed]",
      "text/plain": [
       "<Figure size 1152x144 with 1 Axes>"
      ]
     },
     "metadata": {
      "needs_background": "light"
     },
     "output_type": "display_data"
    }
   ],
   "source": [
    "mask = select.get_support()\n",
    "print(mask)\n",
    "# visualize the mask -- black is True, white is False\n",
    "plt.matshow(mask.reshape(1, -1), cmap='gray_r')\n",
    "plt.xlabel(\"Sample index\")\n",
    "plt.yticks(())"
   ]
  },
  {
   "cell_type": "code",
   "execution_count": null,
   "metadata": {},
   "outputs": [],
   "source": []
  }
 ],
 "metadata": {
  "kernelspec": {
   "display_name": "Python 3",
   "language": "python",
   "name": "python3"
  },
  "language_info": {
   "codemirror_mode": {
    "name": "ipython",
    "version": 3
   },
   "file_extension": ".py",
   "mimetype": "text/x-python",
   "name": "python",
   "nbconvert_exporter": "python",
   "pygments_lexer": "ipython3",
   "version": "3.7.3"
  }
 },
 "nbformat": 4,
 "nbformat_minor": 4
}
