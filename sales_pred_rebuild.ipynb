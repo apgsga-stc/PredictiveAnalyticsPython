{
 "cells": [
  {
   "cell_type": "markdown",
   "metadata": {},
   "source": [
    "# 1. Load Modules\n"
   ]
  },
  {
   "cell_type": "code",
   "execution_count": 1,
   "metadata": {},
   "outputs": [],
   "source": [
    "import numpy as np\n",
    "import pandas as pd\n",
    "import matplotlib.pyplot as plt\n",
    "#matplotlib inline\n",
    "import sklearn"
   ]
  },
  {
   "cell_type": "markdown",
   "metadata": {},
   "source": [
    "# 2. Import Data: tds == TDS == gv_FILE_OUT_TDS"
   ]
  },
  {
   "cell_type": "code",
   "execution_count": 2,
   "metadata": {},
   "outputs": [],
   "source": [
    "TDS = pd.read_csv(\"C:/Users/stc/Documents/notebooks/Verkaufsprognose Modeling/TDS.csv\", low_memory=False, sep=';')"
   ]
  },
  {
   "cell_type": "code",
   "execution_count": 3,
   "metadata": {},
   "outputs": [
    {
     "data": {
      "text/html": [
       "<div>\n",
       "<style scoped>\n",
       "    .dataframe tbody tr th:only-of-type {\n",
       "        vertical-align: middle;\n",
       "    }\n",
       "\n",
       "    .dataframe tbody tr th {\n",
       "        vertical-align: top;\n",
       "    }\n",
       "\n",
       "    .dataframe thead th {\n",
       "        text-align: right;\n",
       "    }\n",
       "</style>\n",
       "<table border=\"1\" class=\"dataframe\">\n",
       "  <thead>\n",
       "    <tr style=\"text-align: right;\">\n",
       "      <th></th>\n",
       "      <th>ENDKUNDE_NR</th>\n",
       "      <th>AJ</th>\n",
       "      <th>AJ_01</th>\n",
       "      <th>AJ_03</th>\n",
       "      <th>AJ_05</th>\n",
       "      <th>AJ_07</th>\n",
       "      <th>AJ_09</th>\n",
       "      <th>AJ_11</th>\n",
       "      <th>AJ_13</th>\n",
       "      <th>AJ_15</th>\n",
       "      <th>...</th>\n",
       "      <th>VVVJ_KONTAKT_L2_KW33</th>\n",
       "      <th>VVVJ_KONTAKT_L2_KW35</th>\n",
       "      <th>VVVJ_KONTAKT_L2_KW37</th>\n",
       "      <th>VVVJ_KONTAKT_L2_KW39</th>\n",
       "      <th>VVVJ_KONTAKT_L2_KW41</th>\n",
       "      <th>VVVJ_KONTAKT_L2_KW43</th>\n",
       "      <th>VVVJ_KONTAKT_L2_KW45</th>\n",
       "      <th>VVVJ_KONTAKT_L2_KW47</th>\n",
       "      <th>VVVJ_KONTAKT_L2_KW49</th>\n",
       "      <th>VVVJ_KONTAKT_L2_KW51</th>\n",
       "    </tr>\n",
       "  </thead>\n",
       "  <tbody>\n",
       "    <tr>\n",
       "      <th>count</th>\n",
       "      <td>39215.000000</td>\n",
       "      <td>39215.000000</td>\n",
       "      <td>2.289300e+04</td>\n",
       "      <td>22893.000000</td>\n",
       "      <td>22893.000000</td>\n",
       "      <td>2.289300e+04</td>\n",
       "      <td>2.289300e+04</td>\n",
       "      <td>2.289300e+04</td>\n",
       "      <td>2.289300e+04</td>\n",
       "      <td>2.289300e+04</td>\n",
       "      <td>...</td>\n",
       "      <td>20858.000000</td>\n",
       "      <td>20858.000000</td>\n",
       "      <td>20858.000000</td>\n",
       "      <td>20858.000000</td>\n",
       "      <td>20858.000000</td>\n",
       "      <td>20858.000000</td>\n",
       "      <td>20858.000000</td>\n",
       "      <td>20858.000000</td>\n",
       "      <td>20858.000000</td>\n",
       "      <td>20858.000000</td>\n",
       "    </tr>\n",
       "    <tr>\n",
       "      <th>mean</th>\n",
       "      <td>470178.383297</td>\n",
       "      <td>2017.648553</td>\n",
       "      <td>1.072982e+03</td>\n",
       "      <td>1221.907002</td>\n",
       "      <td>1531.508409</td>\n",
       "      <td>1.936007e+03</td>\n",
       "      <td>1.780914e+03</td>\n",
       "      <td>1.808229e+03</td>\n",
       "      <td>2.403786e+03</td>\n",
       "      <td>2.451937e+03</td>\n",
       "      <td>...</td>\n",
       "      <td>0.028239</td>\n",
       "      <td>0.027663</td>\n",
       "      <td>0.026848</td>\n",
       "      <td>0.031882</td>\n",
       "      <td>0.033800</td>\n",
       "      <td>0.032649</td>\n",
       "      <td>0.031738</td>\n",
       "      <td>0.029821</td>\n",
       "      <td>0.029054</td>\n",
       "      <td>0.026129</td>\n",
       "    </tr>\n",
       "    <tr>\n",
       "      <th>std</th>\n",
       "      <td>195650.696262</td>\n",
       "      <td>1.187913</td>\n",
       "      <td>1.612678e+04</td>\n",
       "      <td>15427.668264</td>\n",
       "      <td>17920.347896</td>\n",
       "      <td>3.108543e+04</td>\n",
       "      <td>2.132737e+04</td>\n",
       "      <td>3.276476e+04</td>\n",
       "      <td>4.473486e+04</td>\n",
       "      <td>2.932961e+04</td>\n",
       "      <td>...</td>\n",
       "      <td>0.165658</td>\n",
       "      <td>0.164010</td>\n",
       "      <td>0.161644</td>\n",
       "      <td>0.175691</td>\n",
       "      <td>0.180718</td>\n",
       "      <td>0.177721</td>\n",
       "      <td>0.175307</td>\n",
       "      <td>0.170096</td>\n",
       "      <td>0.167961</td>\n",
       "      <td>0.159523</td>\n",
       "    </tr>\n",
       "    <tr>\n",
       "      <th>min</th>\n",
       "      <td>100034.000000</td>\n",
       "      <td>2015.000000</td>\n",
       "      <td>0.000000e+00</td>\n",
       "      <td>0.000000</td>\n",
       "      <td>0.000000</td>\n",
       "      <td>0.000000e+00</td>\n",
       "      <td>0.000000e+00</td>\n",
       "      <td>0.000000e+00</td>\n",
       "      <td>0.000000e+00</td>\n",
       "      <td>0.000000e+00</td>\n",
       "      <td>...</td>\n",
       "      <td>0.000000</td>\n",
       "      <td>0.000000</td>\n",
       "      <td>0.000000</td>\n",
       "      <td>0.000000</td>\n",
       "      <td>0.000000</td>\n",
       "      <td>0.000000</td>\n",
       "      <td>0.000000</td>\n",
       "      <td>0.000000</td>\n",
       "      <td>0.000000</td>\n",
       "      <td>0.000000</td>\n",
       "    </tr>\n",
       "    <tr>\n",
       "      <th>25%</th>\n",
       "      <td>445080.000000</td>\n",
       "      <td>2017.000000</td>\n",
       "      <td>0.000000e+00</td>\n",
       "      <td>0.000000</td>\n",
       "      <td>0.000000</td>\n",
       "      <td>0.000000e+00</td>\n",
       "      <td>0.000000e+00</td>\n",
       "      <td>0.000000e+00</td>\n",
       "      <td>0.000000e+00</td>\n",
       "      <td>0.000000e+00</td>\n",
       "      <td>...</td>\n",
       "      <td>0.000000</td>\n",
       "      <td>0.000000</td>\n",
       "      <td>0.000000</td>\n",
       "      <td>0.000000</td>\n",
       "      <td>0.000000</td>\n",
       "      <td>0.000000</td>\n",
       "      <td>0.000000</td>\n",
       "      <td>0.000000</td>\n",
       "      <td>0.000000</td>\n",
       "      <td>0.000000</td>\n",
       "    </tr>\n",
       "    <tr>\n",
       "      <th>50%</th>\n",
       "      <td>564263.000000</td>\n",
       "      <td>2018.000000</td>\n",
       "      <td>0.000000e+00</td>\n",
       "      <td>0.000000</td>\n",
       "      <td>0.000000</td>\n",
       "      <td>0.000000e+00</td>\n",
       "      <td>0.000000e+00</td>\n",
       "      <td>0.000000e+00</td>\n",
       "      <td>0.000000e+00</td>\n",
       "      <td>0.000000e+00</td>\n",
       "      <td>...</td>\n",
       "      <td>0.000000</td>\n",
       "      <td>0.000000</td>\n",
       "      <td>0.000000</td>\n",
       "      <td>0.000000</td>\n",
       "      <td>0.000000</td>\n",
       "      <td>0.000000</td>\n",
       "      <td>0.000000</td>\n",
       "      <td>0.000000</td>\n",
       "      <td>0.000000</td>\n",
       "      <td>0.000000</td>\n",
       "    </tr>\n",
       "    <tr>\n",
       "      <th>75%</th>\n",
       "      <td>614083.500000</td>\n",
       "      <td>2019.000000</td>\n",
       "      <td>0.000000e+00</td>\n",
       "      <td>0.000000</td>\n",
       "      <td>0.000000</td>\n",
       "      <td>0.000000e+00</td>\n",
       "      <td>0.000000e+00</td>\n",
       "      <td>0.000000e+00</td>\n",
       "      <td>0.000000e+00</td>\n",
       "      <td>0.000000e+00</td>\n",
       "      <td>...</td>\n",
       "      <td>0.000000</td>\n",
       "      <td>0.000000</td>\n",
       "      <td>0.000000</td>\n",
       "      <td>0.000000</td>\n",
       "      <td>0.000000</td>\n",
       "      <td>0.000000</td>\n",
       "      <td>0.000000</td>\n",
       "      <td>0.000000</td>\n",
       "      <td>0.000000</td>\n",
       "      <td>0.000000</td>\n",
       "    </tr>\n",
       "    <tr>\n",
       "      <th>max</th>\n",
       "      <td>657233.000000</td>\n",
       "      <td>2019.000000</td>\n",
       "      <td>1.245157e+06</td>\n",
       "      <td>971153.000000</td>\n",
       "      <td>904361.000000</td>\n",
       "      <td>2.011256e+06</td>\n",
       "      <td>1.423671e+06</td>\n",
       "      <td>3.430133e+06</td>\n",
       "      <td>4.189469e+06</td>\n",
       "      <td>2.774594e+06</td>\n",
       "      <td>...</td>\n",
       "      <td>1.000000</td>\n",
       "      <td>1.000000</td>\n",
       "      <td>1.000000</td>\n",
       "      <td>1.000000</td>\n",
       "      <td>1.000000</td>\n",
       "      <td>1.000000</td>\n",
       "      <td>1.000000</td>\n",
       "      <td>1.000000</td>\n",
       "      <td>1.000000</td>\n",
       "      <td>1.000000</td>\n",
       "    </tr>\n",
       "  </tbody>\n",
       "</table>\n",
       "<p>8 rows × 441 columns</p>\n",
       "</div>"
      ],
      "text/plain": [
       "         ENDKUNDE_NR            AJ         AJ_01          AJ_03  \\\n",
       "count   39215.000000  39215.000000  2.289300e+04   22893.000000   \n",
       "mean   470178.383297   2017.648553  1.072982e+03    1221.907002   \n",
       "std    195650.696262      1.187913  1.612678e+04   15427.668264   \n",
       "min    100034.000000   2015.000000  0.000000e+00       0.000000   \n",
       "25%    445080.000000   2017.000000  0.000000e+00       0.000000   \n",
       "50%    564263.000000   2018.000000  0.000000e+00       0.000000   \n",
       "75%    614083.500000   2019.000000  0.000000e+00       0.000000   \n",
       "max    657233.000000   2019.000000  1.245157e+06  971153.000000   \n",
       "\n",
       "               AJ_05         AJ_07         AJ_09         AJ_11         AJ_13  \\\n",
       "count   22893.000000  2.289300e+04  2.289300e+04  2.289300e+04  2.289300e+04   \n",
       "mean     1531.508409  1.936007e+03  1.780914e+03  1.808229e+03  2.403786e+03   \n",
       "std     17920.347896  3.108543e+04  2.132737e+04  3.276476e+04  4.473486e+04   \n",
       "min         0.000000  0.000000e+00  0.000000e+00  0.000000e+00  0.000000e+00   \n",
       "25%         0.000000  0.000000e+00  0.000000e+00  0.000000e+00  0.000000e+00   \n",
       "50%         0.000000  0.000000e+00  0.000000e+00  0.000000e+00  0.000000e+00   \n",
       "75%         0.000000  0.000000e+00  0.000000e+00  0.000000e+00  0.000000e+00   \n",
       "max    904361.000000  2.011256e+06  1.423671e+06  3.430133e+06  4.189469e+06   \n",
       "\n",
       "              AJ_15  ...  VVVJ_KONTAKT_L2_KW33  VVVJ_KONTAKT_L2_KW35  \\\n",
       "count  2.289300e+04  ...          20858.000000          20858.000000   \n",
       "mean   2.451937e+03  ...              0.028239              0.027663   \n",
       "std    2.932961e+04  ...              0.165658              0.164010   \n",
       "min    0.000000e+00  ...              0.000000              0.000000   \n",
       "25%    0.000000e+00  ...              0.000000              0.000000   \n",
       "50%    0.000000e+00  ...              0.000000              0.000000   \n",
       "75%    0.000000e+00  ...              0.000000              0.000000   \n",
       "max    2.774594e+06  ...              1.000000              1.000000   \n",
       "\n",
       "       VVVJ_KONTAKT_L2_KW37  VVVJ_KONTAKT_L2_KW39  VVVJ_KONTAKT_L2_KW41  \\\n",
       "count          20858.000000          20858.000000          20858.000000   \n",
       "mean               0.026848              0.031882              0.033800   \n",
       "std                0.161644              0.175691              0.180718   \n",
       "min                0.000000              0.000000              0.000000   \n",
       "25%                0.000000              0.000000              0.000000   \n",
       "50%                0.000000              0.000000              0.000000   \n",
       "75%                0.000000              0.000000              0.000000   \n",
       "max                1.000000              1.000000              1.000000   \n",
       "\n",
       "       VVVJ_KONTAKT_L2_KW43  VVVJ_KONTAKT_L2_KW45  VVVJ_KONTAKT_L2_KW47  \\\n",
       "count          20858.000000          20858.000000          20858.000000   \n",
       "mean               0.032649              0.031738              0.029821   \n",
       "std                0.177721              0.175307              0.170096   \n",
       "min                0.000000              0.000000              0.000000   \n",
       "25%                0.000000              0.000000              0.000000   \n",
       "50%                0.000000              0.000000              0.000000   \n",
       "75%                0.000000              0.000000              0.000000   \n",
       "max                1.000000              1.000000              1.000000   \n",
       "\n",
       "       VVVJ_KONTAKT_L2_KW49  VVVJ_KONTAKT_L2_KW51  \n",
       "count          20858.000000          20858.000000  \n",
       "mean               0.029054              0.026129  \n",
       "std                0.167961              0.159523  \n",
       "min                0.000000              0.000000  \n",
       "25%                0.000000              0.000000  \n",
       "50%                0.000000              0.000000  \n",
       "75%                0.000000              0.000000  \n",
       "max                1.000000              1.000000  \n",
       "\n",
       "[8 rows x 441 columns]"
      ]
     },
     "execution_count": 3,
     "metadata": {},
     "output_type": "execute_result"
    }
   ],
   "source": [
    "TDS.describe()"
   ]
  },
  {
   "cell_type": "code",
   "execution_count": 4,
   "metadata": {},
   "outputs": [
    {
     "data": {
      "text/html": [
       "<div>\n",
       "<style scoped>\n",
       "    .dataframe tbody tr th:only-of-type {\n",
       "        vertical-align: middle;\n",
       "    }\n",
       "\n",
       "    .dataframe tbody tr th {\n",
       "        vertical-align: top;\n",
       "    }\n",
       "\n",
       "    .dataframe thead th {\n",
       "        text-align: right;\n",
       "    }\n",
       "</style>\n",
       "<table border=\"1\" class=\"dataframe\">\n",
       "  <thead>\n",
       "    <tr style=\"text-align: right;\">\n",
       "      <th></th>\n",
       "      <th>ENDKUNDE_NR</th>\n",
       "      <th>AJ</th>\n",
       "      <th>AJ_01</th>\n",
       "      <th>AJ_03</th>\n",
       "      <th>AJ_05</th>\n",
       "      <th>AJ_07</th>\n",
       "      <th>AJ_09</th>\n",
       "      <th>AJ_11</th>\n",
       "      <th>AJ_13</th>\n",
       "      <th>AJ_15</th>\n",
       "      <th>...</th>\n",
       "      <th>VVVJ_KONTAKT_L2_KW33</th>\n",
       "      <th>VVVJ_KONTAKT_L2_KW35</th>\n",
       "      <th>VVVJ_KONTAKT_L2_KW37</th>\n",
       "      <th>VVVJ_KONTAKT_L2_KW39</th>\n",
       "      <th>VVVJ_KONTAKT_L2_KW41</th>\n",
       "      <th>VVVJ_KONTAKT_L2_KW43</th>\n",
       "      <th>VVVJ_KONTAKT_L2_KW45</th>\n",
       "      <th>VVVJ_KONTAKT_L2_KW47</th>\n",
       "      <th>VVVJ_KONTAKT_L2_KW49</th>\n",
       "      <th>VVVJ_KONTAKT_L2_KW51</th>\n",
       "    </tr>\n",
       "  </thead>\n",
       "  <tbody>\n",
       "    <tr>\n",
       "      <th>0</th>\n",
       "      <td>100034</td>\n",
       "      <td>2016</td>\n",
       "      <td>0.0</td>\n",
       "      <td>20909.0</td>\n",
       "      <td>0.0</td>\n",
       "      <td>0.0</td>\n",
       "      <td>0.0</td>\n",
       "      <td>0.0</td>\n",
       "      <td>0.0</td>\n",
       "      <td>0.0</td>\n",
       "      <td>...</td>\n",
       "      <td>0.0</td>\n",
       "      <td>1.0</td>\n",
       "      <td>0.0</td>\n",
       "      <td>1.0</td>\n",
       "      <td>0.0</td>\n",
       "      <td>1.0</td>\n",
       "      <td>1.0</td>\n",
       "      <td>1.0</td>\n",
       "      <td>0.0</td>\n",
       "      <td>0.0</td>\n",
       "    </tr>\n",
       "    <tr>\n",
       "      <th>1</th>\n",
       "      <td>100034</td>\n",
       "      <td>2017</td>\n",
       "      <td>0.0</td>\n",
       "      <td>0.0</td>\n",
       "      <td>7897.0</td>\n",
       "      <td>0.0</td>\n",
       "      <td>0.0</td>\n",
       "      <td>0.0</td>\n",
       "      <td>0.0</td>\n",
       "      <td>0.0</td>\n",
       "      <td>...</td>\n",
       "      <td>0.0</td>\n",
       "      <td>0.0</td>\n",
       "      <td>0.0</td>\n",
       "      <td>0.0</td>\n",
       "      <td>0.0</td>\n",
       "      <td>0.0</td>\n",
       "      <td>0.0</td>\n",
       "      <td>0.0</td>\n",
       "      <td>0.0</td>\n",
       "      <td>0.0</td>\n",
       "    </tr>\n",
       "    <tr>\n",
       "      <th>2</th>\n",
       "      <td>100034</td>\n",
       "      <td>2018</td>\n",
       "      <td>0.0</td>\n",
       "      <td>0.0</td>\n",
       "      <td>3963.0</td>\n",
       "      <td>0.0</td>\n",
       "      <td>0.0</td>\n",
       "      <td>0.0</td>\n",
       "      <td>0.0</td>\n",
       "      <td>0.0</td>\n",
       "      <td>...</td>\n",
       "      <td>0.0</td>\n",
       "      <td>0.0</td>\n",
       "      <td>0.0</td>\n",
       "      <td>0.0</td>\n",
       "      <td>0.0</td>\n",
       "      <td>1.0</td>\n",
       "      <td>0.0</td>\n",
       "      <td>0.0</td>\n",
       "      <td>0.0</td>\n",
       "      <td>0.0</td>\n",
       "    </tr>\n",
       "    <tr>\n",
       "      <th>3</th>\n",
       "      <td>100034</td>\n",
       "      <td>2019</td>\n",
       "      <td>0.0</td>\n",
       "      <td>0.0</td>\n",
       "      <td>0.0</td>\n",
       "      <td>0.0</td>\n",
       "      <td>0.0</td>\n",
       "      <td>0.0</td>\n",
       "      <td>0.0</td>\n",
       "      <td>0.0</td>\n",
       "      <td>...</td>\n",
       "      <td>0.0</td>\n",
       "      <td>0.0</td>\n",
       "      <td>1.0</td>\n",
       "      <td>1.0</td>\n",
       "      <td>0.0</td>\n",
       "      <td>0.0</td>\n",
       "      <td>0.0</td>\n",
       "      <td>1.0</td>\n",
       "      <td>0.0</td>\n",
       "      <td>1.0</td>\n",
       "    </tr>\n",
       "    <tr>\n",
       "      <th>4</th>\n",
       "      <td>100039</td>\n",
       "      <td>2015</td>\n",
       "      <td>0.0</td>\n",
       "      <td>0.0</td>\n",
       "      <td>0.0</td>\n",
       "      <td>0.0</td>\n",
       "      <td>0.0</td>\n",
       "      <td>0.0</td>\n",
       "      <td>0.0</td>\n",
       "      <td>0.0</td>\n",
       "      <td>...</td>\n",
       "      <td>0.0</td>\n",
       "      <td>0.0</td>\n",
       "      <td>0.0</td>\n",
       "      <td>0.0</td>\n",
       "      <td>0.0</td>\n",
       "      <td>0.0</td>\n",
       "      <td>0.0</td>\n",
       "      <td>0.0</td>\n",
       "      <td>0.0</td>\n",
       "      <td>0.0</td>\n",
       "    </tr>\n",
       "  </tbody>\n",
       "</table>\n",
       "<p>5 rows × 441 columns</p>\n",
       "</div>"
      ],
      "text/plain": [
       "   ENDKUNDE_NR    AJ  AJ_01    AJ_03   AJ_05  AJ_07  AJ_09  AJ_11  AJ_13  \\\n",
       "0       100034  2016    0.0  20909.0     0.0    0.0    0.0    0.0    0.0   \n",
       "1       100034  2017    0.0      0.0  7897.0    0.0    0.0    0.0    0.0   \n",
       "2       100034  2018    0.0      0.0  3963.0    0.0    0.0    0.0    0.0   \n",
       "3       100034  2019    0.0      0.0     0.0    0.0    0.0    0.0    0.0   \n",
       "4       100039  2015    0.0      0.0     0.0    0.0    0.0    0.0    0.0   \n",
       "\n",
       "   AJ_15  ...  VVVJ_KONTAKT_L2_KW33  VVVJ_KONTAKT_L2_KW35  \\\n",
       "0    0.0  ...                   0.0                   1.0   \n",
       "1    0.0  ...                   0.0                   0.0   \n",
       "2    0.0  ...                   0.0                   0.0   \n",
       "3    0.0  ...                   0.0                   0.0   \n",
       "4    0.0  ...                   0.0                   0.0   \n",
       "\n",
       "   VVVJ_KONTAKT_L2_KW37  VVVJ_KONTAKT_L2_KW39  VVVJ_KONTAKT_L2_KW41  \\\n",
       "0                   0.0                   1.0                   0.0   \n",
       "1                   0.0                   0.0                   0.0   \n",
       "2                   0.0                   0.0                   0.0   \n",
       "3                   1.0                   1.0                   0.0   \n",
       "4                   0.0                   0.0                   0.0   \n",
       "\n",
       "   VVVJ_KONTAKT_L2_KW43  VVVJ_KONTAKT_L2_KW45  VVVJ_KONTAKT_L2_KW47  \\\n",
       "0                   1.0                   1.0                   1.0   \n",
       "1                   0.0                   0.0                   0.0   \n",
       "2                   1.0                   0.0                   0.0   \n",
       "3                   0.0                   0.0                   1.0   \n",
       "4                   0.0                   0.0                   0.0   \n",
       "\n",
       "   VVVJ_KONTAKT_L2_KW49  VVVJ_KONTAKT_L2_KW51  \n",
       "0                   0.0                   0.0  \n",
       "1                   0.0                   0.0  \n",
       "2                   0.0                   0.0  \n",
       "3                   0.0                   1.0  \n",
       "4                   0.0                   0.0  \n",
       "\n",
       "[5 rows x 441 columns]"
      ]
     },
     "execution_count": 4,
     "metadata": {},
     "output_type": "execute_result"
    }
   ],
   "source": [
    "TDS.head(5)\n",
    "#TDS.info()"
   ]
  },
  {
   "cell_type": "markdown",
   "metadata": {},
   "source": [
    "# 3. Data Preparation"
   ]
  },
  {
   "cell_type": "markdown",
   "metadata": {},
   "source": [
    "## 3.1 Data Selection"
   ]
  },
  {
   "cell_type": "markdown",
   "metadata": {},
   "source": [
    "Originale erhalten für Vorhersage"
   ]
  },
  {
   "cell_type": "code",
   "execution_count": 5,
   "metadata": {},
   "outputs": [
    {
     "data": {
      "text/plain": [
       "Index(['ENDKUNDE_NR', 'AJ', 'AJ_01', 'AJ_03', 'AJ_05', 'AJ_07', 'AJ_09',\n",
       "       'AJ_11', 'AJ_13', 'AJ_15',\n",
       "       ...\n",
       "       'VVVJ_KONTAKT_L2_KW33', 'VVVJ_KONTAKT_L2_KW35', 'VVVJ_KONTAKT_L2_KW37',\n",
       "       'VVVJ_KONTAKT_L2_KW39', 'VVVJ_KONTAKT_L2_KW41', 'VVVJ_KONTAKT_L2_KW43',\n",
       "       'VVVJ_KONTAKT_L2_KW45', 'VVVJ_KONTAKT_L2_KW47', 'VVVJ_KONTAKT_L2_KW49',\n",
       "       'VVVJ_KONTAKT_L2_KW51'],\n",
       "      dtype='object', length=441)"
      ]
     },
     "execution_count": 5,
     "metadata": {},
     "output_type": "execute_result"
    }
   ],
   "source": [
    "TDS.keys()"
   ]
  },
  {
   "cell_type": "code",
   "execution_count": 6,
   "metadata": {},
   "outputs": [],
   "source": [
    "gv_AJAW_KW = 29 # aktuelle Kalenderwoche, basierend auf gv_AJAW = Datum an dem das Script lief, 15.07.2019"
   ]
  },
  {
   "cell_type": "code",
   "execution_count": 7,
   "metadata": {},
   "outputs": [],
   "source": [
    "feature_columns   = [] # Features/Merkmale\n",
    "predictor_columns = [] # Predictores/Targets\n",
    "leftover_columns  = [] # Leftover\n",
    "for col_name in TDS.keys():\n",
    "    if (col_name.startswith(\"VJ\")  | # Umsatz Vorjahr\n",
    "        col_name.startswith(\"VVJ\") |\n",
    "        col_name.startswith(\"VVVJ\")|\n",
    "        col_name.startswith(\"B\")   ):\n",
    "        feature_columns.append(col_name)\n",
    "    elif (col_name.startswith(\"AJ_\") and len(col_name) < 6)  :\n",
    "        predictor_columns.append(col_name)\n",
    "    else:\n",
    "        leftover_columns.append(col_name)\n",
    "\n",
    "    "
   ]
  },
  {
   "cell_type": "markdown",
   "metadata": {},
   "source": [
    "Exclude ``VJ_KONTAKT_L1_KW29``:"
   ]
  },
  {
   "cell_type": "code",
   "execution_count": 8,
   "metadata": {},
   "outputs": [],
   "source": [
    "feature_columns.remove(\"VJ_KONTAKT_L1_KW29\")\n",
    "#feature_columns.remove(\"VJNet\")\n",
    "feature_columns.sort()"
   ]
  },
  {
   "cell_type": "markdown",
   "metadata": {},
   "source": [
    "## 3.2 Data Check"
   ]
  },
  {
   "cell_type": "code",
   "execution_count": 9,
   "metadata": {},
   "outputs": [
    {
     "data": {
      "text/html": [
       "<div>\n",
       "<style scoped>\n",
       "    .dataframe tbody tr th:only-of-type {\n",
       "        vertical-align: middle;\n",
       "    }\n",
       "\n",
       "    .dataframe tbody tr th {\n",
       "        vertical-align: top;\n",
       "    }\n",
       "\n",
       "    .dataframe thead th {\n",
       "        text-align: right;\n",
       "    }\n",
       "</style>\n",
       "<table border=\"1\" class=\"dataframe\">\n",
       "  <thead>\n",
       "    <tr style=\"text-align: right;\">\n",
       "      <th></th>\n",
       "      <th>B105</th>\n",
       "      <th>B110</th>\n",
       "      <th>B115</th>\n",
       "      <th>B116</th>\n",
       "      <th>B120</th>\n",
       "      <th>B125</th>\n",
       "      <th>B130</th>\n",
       "      <th>B135</th>\n",
       "      <th>B140</th>\n",
       "      <th>B145</th>\n",
       "      <th>...</th>\n",
       "      <th>VVVJ_NETKAT_02</th>\n",
       "      <th>VVVJ_NETKAT_03</th>\n",
       "      <th>VVVJ_NETKAT_04</th>\n",
       "      <th>VVVJ_NETKAT_05</th>\n",
       "      <th>VVVJ_NETKAT_06</th>\n",
       "      <th>VVVJ_NETKAT_07</th>\n",
       "      <th>VVVJ_NETKAT_08</th>\n",
       "      <th>VVVJ_NETKAT_09</th>\n",
       "      <th>VVVJ_NETKAT_10</th>\n",
       "      <th>AJ_29</th>\n",
       "    </tr>\n",
       "  </thead>\n",
       "  <tbody>\n",
       "    <tr>\n",
       "      <th>count</th>\n",
       "      <td>39215.00000</td>\n",
       "      <td>39215.000000</td>\n",
       "      <td>39215.000000</td>\n",
       "      <td>39215.000000</td>\n",
       "      <td>39215.000000</td>\n",
       "      <td>39215.000000</td>\n",
       "      <td>39215.000000</td>\n",
       "      <td>39215.000000</td>\n",
       "      <td>39215.000000</td>\n",
       "      <td>39215.000000</td>\n",
       "      <td>...</td>\n",
       "      <td>7178.000000</td>\n",
       "      <td>7178.000000</td>\n",
       "      <td>7178.000000</td>\n",
       "      <td>7178.000000</td>\n",
       "      <td>7178.000000</td>\n",
       "      <td>7178.000000</td>\n",
       "      <td>7178.000000</td>\n",
       "      <td>7178.000000</td>\n",
       "      <td>7178.000000</td>\n",
       "      <td>2.289300e+04</td>\n",
       "    </tr>\n",
       "    <tr>\n",
       "      <th>mean</th>\n",
       "      <td>0.00533</td>\n",
       "      <td>0.001097</td>\n",
       "      <td>0.000204</td>\n",
       "      <td>0.001428</td>\n",
       "      <td>0.003443</td>\n",
       "      <td>0.008084</td>\n",
       "      <td>0.004514</td>\n",
       "      <td>0.000459</td>\n",
       "      <td>0.001122</td>\n",
       "      <td>0.005049</td>\n",
       "      <td>...</td>\n",
       "      <td>0.684313</td>\n",
       "      <td>0.027166</td>\n",
       "      <td>0.019922</td>\n",
       "      <td>0.011981</td>\n",
       "      <td>0.008638</td>\n",
       "      <td>0.007662</td>\n",
       "      <td>0.006130</td>\n",
       "      <td>0.005991</td>\n",
       "      <td>0.058233</td>\n",
       "      <td>1.129062e+03</td>\n",
       "    </tr>\n",
       "    <tr>\n",
       "      <th>std</th>\n",
       "      <td>0.07281</td>\n",
       "      <td>0.033096</td>\n",
       "      <td>0.014282</td>\n",
       "      <td>0.037763</td>\n",
       "      <td>0.058573</td>\n",
       "      <td>0.089546</td>\n",
       "      <td>0.067032</td>\n",
       "      <td>0.021420</td>\n",
       "      <td>0.033478</td>\n",
       "      <td>0.070878</td>\n",
       "      <td>...</td>\n",
       "      <td>0.464821</td>\n",
       "      <td>0.162579</td>\n",
       "      <td>0.139742</td>\n",
       "      <td>0.108808</td>\n",
       "      <td>0.092542</td>\n",
       "      <td>0.087205</td>\n",
       "      <td>0.078058</td>\n",
       "      <td>0.077172</td>\n",
       "      <td>0.234201</td>\n",
       "      <td>1.651759e+04</td>\n",
       "    </tr>\n",
       "    <tr>\n",
       "      <th>min</th>\n",
       "      <td>0.00000</td>\n",
       "      <td>0.000000</td>\n",
       "      <td>0.000000</td>\n",
       "      <td>0.000000</td>\n",
       "      <td>0.000000</td>\n",
       "      <td>0.000000</td>\n",
       "      <td>0.000000</td>\n",
       "      <td>0.000000</td>\n",
       "      <td>0.000000</td>\n",
       "      <td>0.000000</td>\n",
       "      <td>...</td>\n",
       "      <td>0.000000</td>\n",
       "      <td>0.000000</td>\n",
       "      <td>0.000000</td>\n",
       "      <td>0.000000</td>\n",
       "      <td>0.000000</td>\n",
       "      <td>0.000000</td>\n",
       "      <td>0.000000</td>\n",
       "      <td>0.000000</td>\n",
       "      <td>0.000000</td>\n",
       "      <td>0.000000e+00</td>\n",
       "    </tr>\n",
       "    <tr>\n",
       "      <th>25%</th>\n",
       "      <td>0.00000</td>\n",
       "      <td>0.000000</td>\n",
       "      <td>0.000000</td>\n",
       "      <td>0.000000</td>\n",
       "      <td>0.000000</td>\n",
       "      <td>0.000000</td>\n",
       "      <td>0.000000</td>\n",
       "      <td>0.000000</td>\n",
       "      <td>0.000000</td>\n",
       "      <td>0.000000</td>\n",
       "      <td>...</td>\n",
       "      <td>0.000000</td>\n",
       "      <td>0.000000</td>\n",
       "      <td>0.000000</td>\n",
       "      <td>0.000000</td>\n",
       "      <td>0.000000</td>\n",
       "      <td>0.000000</td>\n",
       "      <td>0.000000</td>\n",
       "      <td>0.000000</td>\n",
       "      <td>0.000000</td>\n",
       "      <td>0.000000e+00</td>\n",
       "    </tr>\n",
       "    <tr>\n",
       "      <th>50%</th>\n",
       "      <td>0.00000</td>\n",
       "      <td>0.000000</td>\n",
       "      <td>0.000000</td>\n",
       "      <td>0.000000</td>\n",
       "      <td>0.000000</td>\n",
       "      <td>0.000000</td>\n",
       "      <td>0.000000</td>\n",
       "      <td>0.000000</td>\n",
       "      <td>0.000000</td>\n",
       "      <td>0.000000</td>\n",
       "      <td>...</td>\n",
       "      <td>1.000000</td>\n",
       "      <td>0.000000</td>\n",
       "      <td>0.000000</td>\n",
       "      <td>0.000000</td>\n",
       "      <td>0.000000</td>\n",
       "      <td>0.000000</td>\n",
       "      <td>0.000000</td>\n",
       "      <td>0.000000</td>\n",
       "      <td>0.000000</td>\n",
       "      <td>0.000000e+00</td>\n",
       "    </tr>\n",
       "    <tr>\n",
       "      <th>75%</th>\n",
       "      <td>0.00000</td>\n",
       "      <td>0.000000</td>\n",
       "      <td>0.000000</td>\n",
       "      <td>0.000000</td>\n",
       "      <td>0.000000</td>\n",
       "      <td>0.000000</td>\n",
       "      <td>0.000000</td>\n",
       "      <td>0.000000</td>\n",
       "      <td>0.000000</td>\n",
       "      <td>0.000000</td>\n",
       "      <td>...</td>\n",
       "      <td>1.000000</td>\n",
       "      <td>0.000000</td>\n",
       "      <td>0.000000</td>\n",
       "      <td>0.000000</td>\n",
       "      <td>0.000000</td>\n",
       "      <td>0.000000</td>\n",
       "      <td>0.000000</td>\n",
       "      <td>0.000000</td>\n",
       "      <td>0.000000</td>\n",
       "      <td>0.000000e+00</td>\n",
       "    </tr>\n",
       "    <tr>\n",
       "      <th>max</th>\n",
       "      <td>1.00000</td>\n",
       "      <td>1.000000</td>\n",
       "      <td>1.000000</td>\n",
       "      <td>1.000000</td>\n",
       "      <td>1.000000</td>\n",
       "      <td>1.000000</td>\n",
       "      <td>1.000000</td>\n",
       "      <td>1.000000</td>\n",
       "      <td>1.000000</td>\n",
       "      <td>1.000000</td>\n",
       "      <td>...</td>\n",
       "      <td>1.000000</td>\n",
       "      <td>1.000000</td>\n",
       "      <td>1.000000</td>\n",
       "      <td>1.000000</td>\n",
       "      <td>1.000000</td>\n",
       "      <td>1.000000</td>\n",
       "      <td>1.000000</td>\n",
       "      <td>1.000000</td>\n",
       "      <td>1.000000</td>\n",
       "      <td>1.157741e+06</td>\n",
       "    </tr>\n",
       "  </tbody>\n",
       "</table>\n",
       "<p>8 rows × 350 columns</p>\n",
       "</div>"
      ],
      "text/plain": [
       "              B105          B110          B115          B116          B120  \\\n",
       "count  39215.00000  39215.000000  39215.000000  39215.000000  39215.000000   \n",
       "mean       0.00533      0.001097      0.000204      0.001428      0.003443   \n",
       "std        0.07281      0.033096      0.014282      0.037763      0.058573   \n",
       "min        0.00000      0.000000      0.000000      0.000000      0.000000   \n",
       "25%        0.00000      0.000000      0.000000      0.000000      0.000000   \n",
       "50%        0.00000      0.000000      0.000000      0.000000      0.000000   \n",
       "75%        0.00000      0.000000      0.000000      0.000000      0.000000   \n",
       "max        1.00000      1.000000      1.000000      1.000000      1.000000   \n",
       "\n",
       "               B125          B130          B135          B140          B145  \\\n",
       "count  39215.000000  39215.000000  39215.000000  39215.000000  39215.000000   \n",
       "mean       0.008084      0.004514      0.000459      0.001122      0.005049   \n",
       "std        0.089546      0.067032      0.021420      0.033478      0.070878   \n",
       "min        0.000000      0.000000      0.000000      0.000000      0.000000   \n",
       "25%        0.000000      0.000000      0.000000      0.000000      0.000000   \n",
       "50%        0.000000      0.000000      0.000000      0.000000      0.000000   \n",
       "75%        0.000000      0.000000      0.000000      0.000000      0.000000   \n",
       "max        1.000000      1.000000      1.000000      1.000000      1.000000   \n",
       "\n",
       "       ...  VVVJ_NETKAT_02  VVVJ_NETKAT_03  VVVJ_NETKAT_04  VVVJ_NETKAT_05  \\\n",
       "count  ...     7178.000000     7178.000000     7178.000000     7178.000000   \n",
       "mean   ...        0.684313        0.027166        0.019922        0.011981   \n",
       "std    ...        0.464821        0.162579        0.139742        0.108808   \n",
       "min    ...        0.000000        0.000000        0.000000        0.000000   \n",
       "25%    ...        0.000000        0.000000        0.000000        0.000000   \n",
       "50%    ...        1.000000        0.000000        0.000000        0.000000   \n",
       "75%    ...        1.000000        0.000000        0.000000        0.000000   \n",
       "max    ...        1.000000        1.000000        1.000000        1.000000   \n",
       "\n",
       "       VVVJ_NETKAT_06  VVVJ_NETKAT_07  VVVJ_NETKAT_08  VVVJ_NETKAT_09  \\\n",
       "count     7178.000000     7178.000000     7178.000000     7178.000000   \n",
       "mean         0.008638        0.007662        0.006130        0.005991   \n",
       "std          0.092542        0.087205        0.078058        0.077172   \n",
       "min          0.000000        0.000000        0.000000        0.000000   \n",
       "25%          0.000000        0.000000        0.000000        0.000000   \n",
       "50%          0.000000        0.000000        0.000000        0.000000   \n",
       "75%          0.000000        0.000000        0.000000        0.000000   \n",
       "max          1.000000        1.000000        1.000000        1.000000   \n",
       "\n",
       "       VVVJ_NETKAT_10         AJ_29  \n",
       "count     7178.000000  2.289300e+04  \n",
       "mean         0.058233  1.129062e+03  \n",
       "std          0.234201  1.651759e+04  \n",
       "min          0.000000  0.000000e+00  \n",
       "25%          0.000000  0.000000e+00  \n",
       "50%          0.000000  0.000000e+00  \n",
       "75%          0.000000  0.000000e+00  \n",
       "max          1.000000  1.157741e+06  \n",
       "\n",
       "[8 rows x 350 columns]"
      ]
     },
     "execution_count": 9,
     "metadata": {},
     "output_type": "execute_result"
    }
   ],
   "source": [
    "TDS.loc[:,feature_columns+[\"AJ_29\"]].describe()"
   ]
  },
  {
   "cell_type": "code",
   "execution_count": 10,
   "metadata": {},
   "outputs": [
    {
     "data": {
      "image/png": "[encoded data removed]",
      "text/plain": [
       "<Figure size 1080x720 with 2 Axes>"
      ]
     },
     "metadata": {
      "needs_background": "light"
     },
     "output_type": "display_data"
    }
   ],
   "source": [
    "import matplotlib.mlab as mlab\n",
    "from   matplotlib.colors import Normalize\n",
    "import matplotlib.pyplot as plt\n",
    "import numpy as np\n",
    "\n",
    "x = TDS.loc[TDS.AJ_29>0 ,\"AJ_29\"]\n",
    "y = np.log(TDS.loc[TDS.AJ_29>0,\"AJ_29\"]+1)\n",
    "n_bins=50\n",
    "\n",
    "fig, axs = plt.subplots(1, 2, sharey=True, tight_layout=True, figsize=(15,10))\n",
    "\n",
    "# We can set the number of bins with the `bins` kwarg\n",
    "axs[0].hist(x, bins=n_bins)\n",
    "axs[0].grid(True)\n",
    "axs[1].hist(y, bins=n_bins)\n",
    "axs[1].grid(True)"
   ]
  },
  {
   "cell_type": "code",
   "execution_count": 11,
   "metadata": {},
   "outputs": [],
   "source": [
    "#TDS.loc[TDS.AJ_29>0,\"AJ_29\"]"
   ]
  },
  {
   "cell_type": "markdown",
   "metadata": {},
   "source": [
    "Prediktor festlegen: Aktuelle Woche basierend auf ``gv_AJAW_KW = 29``:"
   ]
  },
  {
   "cell_type": "code",
   "execution_count": 12,
   "metadata": {},
   "outputs": [],
   "source": [
    "#TDS.loc[:,\"AJ_29\"].head()"
   ]
  },
  {
   "cell_type": "markdown",
   "metadata": {},
   "source": [
    "## IMBALANCED DATA PROBLEM"
   ]
  },
  {
   "cell_type": "code",
   "execution_count": 13,
   "metadata": {},
   "outputs": [],
   "source": [
    "df_ft_binary = TDS.fillna(0).loc[:,feature_columns+[\"AJ_29\"]]\n",
    "for col in df_ft_binary.columns:\n",
    "    df_ft_binary[col] = df_ft_binary[col].map(lambda x: int(bool(x)))"
   ]
  },
  {
   "cell_type": "code",
   "execution_count": 14,
   "metadata": {},
   "outputs": [
    {
     "data": {
      "text/html": [
       "<div>\n",
       "<style scoped>\n",
       "    .dataframe tbody tr th:only-of-type {\n",
       "        vertical-align: middle;\n",
       "    }\n",
       "\n",
       "    .dataframe tbody tr th {\n",
       "        vertical-align: top;\n",
       "    }\n",
       "\n",
       "    .dataframe thead th {\n",
       "        text-align: right;\n",
       "    }\n",
       "</style>\n",
       "<table border=\"1\" class=\"dataframe\">\n",
       "  <thead>\n",
       "    <tr style=\"text-align: right;\">\n",
       "      <th></th>\n",
       "      <th>B105</th>\n",
       "      <th>B110</th>\n",
       "      <th>B115</th>\n",
       "      <th>B116</th>\n",
       "      <th>B120</th>\n",
       "      <th>B125</th>\n",
       "      <th>B130</th>\n",
       "      <th>B135</th>\n",
       "      <th>B140</th>\n",
       "      <th>B145</th>\n",
       "      <th>...</th>\n",
       "      <th>VVVJ_NETKAT_02</th>\n",
       "      <th>VVVJ_NETKAT_03</th>\n",
       "      <th>VVVJ_NETKAT_04</th>\n",
       "      <th>VVVJ_NETKAT_05</th>\n",
       "      <th>VVVJ_NETKAT_06</th>\n",
       "      <th>VVVJ_NETKAT_07</th>\n",
       "      <th>VVVJ_NETKAT_08</th>\n",
       "      <th>VVVJ_NETKAT_09</th>\n",
       "      <th>VVVJ_NETKAT_10</th>\n",
       "      <th>AJ_29</th>\n",
       "    </tr>\n",
       "  </thead>\n",
       "  <tbody>\n",
       "    <tr>\n",
       "      <th>count</th>\n",
       "      <td>39215.00000</td>\n",
       "      <td>39215.000000</td>\n",
       "      <td>39215.000000</td>\n",
       "      <td>39215.000000</td>\n",
       "      <td>39215.000000</td>\n",
       "      <td>39215.000000</td>\n",
       "      <td>39215.000000</td>\n",
       "      <td>39215.000000</td>\n",
       "      <td>39215.000000</td>\n",
       "      <td>39215.000000</td>\n",
       "      <td>...</td>\n",
       "      <td>39215.000000</td>\n",
       "      <td>39215.000000</td>\n",
       "      <td>39215.000000</td>\n",
       "      <td>39215.000000</td>\n",
       "      <td>39215.000000</td>\n",
       "      <td>39215.000000</td>\n",
       "      <td>39215.000000</td>\n",
       "      <td>39215.000000</td>\n",
       "      <td>39215.000000</td>\n",
       "      <td>39215.000000</td>\n",
       "    </tr>\n",
       "    <tr>\n",
       "      <th>mean</th>\n",
       "      <td>0.00533</td>\n",
       "      <td>0.001097</td>\n",
       "      <td>0.000204</td>\n",
       "      <td>0.001428</td>\n",
       "      <td>0.003443</td>\n",
       "      <td>0.008084</td>\n",
       "      <td>0.004514</td>\n",
       "      <td>0.000459</td>\n",
       "      <td>0.001122</td>\n",
       "      <td>0.005049</td>\n",
       "      <td>...</td>\n",
       "      <td>0.125258</td>\n",
       "      <td>0.004973</td>\n",
       "      <td>0.003647</td>\n",
       "      <td>0.002193</td>\n",
       "      <td>0.001581</td>\n",
       "      <td>0.001403</td>\n",
       "      <td>0.001122</td>\n",
       "      <td>0.001097</td>\n",
       "      <td>0.010659</td>\n",
       "      <td>0.032309</td>\n",
       "    </tr>\n",
       "    <tr>\n",
       "      <th>std</th>\n",
       "      <td>0.07281</td>\n",
       "      <td>0.033096</td>\n",
       "      <td>0.014282</td>\n",
       "      <td>0.037763</td>\n",
       "      <td>0.058573</td>\n",
       "      <td>0.089546</td>\n",
       "      <td>0.067032</td>\n",
       "      <td>0.021420</td>\n",
       "      <td>0.033478</td>\n",
       "      <td>0.070878</td>\n",
       "      <td>...</td>\n",
       "      <td>0.331016</td>\n",
       "      <td>0.070342</td>\n",
       "      <td>0.060277</td>\n",
       "      <td>0.046779</td>\n",
       "      <td>0.039731</td>\n",
       "      <td>0.037424</td>\n",
       "      <td>0.033478</td>\n",
       "      <td>0.033096</td>\n",
       "      <td>0.102693</td>\n",
       "      <td>0.176822</td>\n",
       "    </tr>\n",
       "    <tr>\n",
       "      <th>min</th>\n",
       "      <td>0.00000</td>\n",
       "      <td>0.000000</td>\n",
       "      <td>0.000000</td>\n",
       "      <td>0.000000</td>\n",
       "      <td>0.000000</td>\n",
       "      <td>0.000000</td>\n",
       "      <td>0.000000</td>\n",
       "      <td>0.000000</td>\n",
       "      <td>0.000000</td>\n",
       "      <td>0.000000</td>\n",
       "      <td>...</td>\n",
       "      <td>0.000000</td>\n",
       "      <td>0.000000</td>\n",
       "      <td>0.000000</td>\n",
       "      <td>0.000000</td>\n",
       "      <td>0.000000</td>\n",
       "      <td>0.000000</td>\n",
       "      <td>0.000000</td>\n",
       "      <td>0.000000</td>\n",
       "      <td>0.000000</td>\n",
       "      <td>0.000000</td>\n",
       "    </tr>\n",
       "    <tr>\n",
       "      <th>25%</th>\n",
       "      <td>0.00000</td>\n",
       "      <td>0.000000</td>\n",
       "      <td>0.000000</td>\n",
       "      <td>0.000000</td>\n",
       "      <td>0.000000</td>\n",
       "      <td>0.000000</td>\n",
       "      <td>0.000000</td>\n",
       "      <td>0.000000</td>\n",
       "      <td>0.000000</td>\n",
       "      <td>0.000000</td>\n",
       "      <td>...</td>\n",
       "      <td>0.000000</td>\n",
       "      <td>0.000000</td>\n",
       "      <td>0.000000</td>\n",
       "      <td>0.000000</td>\n",
       "      <td>0.000000</td>\n",
       "      <td>0.000000</td>\n",
       "      <td>0.000000</td>\n",
       "      <td>0.000000</td>\n",
       "      <td>0.000000</td>\n",
       "      <td>0.000000</td>\n",
       "    </tr>\n",
       "    <tr>\n",
       "      <th>50%</th>\n",
       "      <td>0.00000</td>\n",
       "      <td>0.000000</td>\n",
       "      <td>0.000000</td>\n",
       "      <td>0.000000</td>\n",
       "      <td>0.000000</td>\n",
       "      <td>0.000000</td>\n",
       "      <td>0.000000</td>\n",
       "      <td>0.000000</td>\n",
       "      <td>0.000000</td>\n",
       "      <td>0.000000</td>\n",
       "      <td>...</td>\n",
       "      <td>0.000000</td>\n",
       "      <td>0.000000</td>\n",
       "      <td>0.000000</td>\n",
       "      <td>0.000000</td>\n",
       "      <td>0.000000</td>\n",
       "      <td>0.000000</td>\n",
       "      <td>0.000000</td>\n",
       "      <td>0.000000</td>\n",
       "      <td>0.000000</td>\n",
       "      <td>0.000000</td>\n",
       "    </tr>\n",
       "    <tr>\n",
       "      <th>75%</th>\n",
       "      <td>0.00000</td>\n",
       "      <td>0.000000</td>\n",
       "      <td>0.000000</td>\n",
       "      <td>0.000000</td>\n",
       "      <td>0.000000</td>\n",
       "      <td>0.000000</td>\n",
       "      <td>0.000000</td>\n",
       "      <td>0.000000</td>\n",
       "      <td>0.000000</td>\n",
       "      <td>0.000000</td>\n",
       "      <td>...</td>\n",
       "      <td>0.000000</td>\n",
       "      <td>0.000000</td>\n",
       "      <td>0.000000</td>\n",
       "      <td>0.000000</td>\n",
       "      <td>0.000000</td>\n",
       "      <td>0.000000</td>\n",
       "      <td>0.000000</td>\n",
       "      <td>0.000000</td>\n",
       "      <td>0.000000</td>\n",
       "      <td>0.000000</td>\n",
       "    </tr>\n",
       "    <tr>\n",
       "      <th>max</th>\n",
       "      <td>1.00000</td>\n",
       "      <td>1.000000</td>\n",
       "      <td>1.000000</td>\n",
       "      <td>1.000000</td>\n",
       "      <td>1.000000</td>\n",
       "      <td>1.000000</td>\n",
       "      <td>1.000000</td>\n",
       "      <td>1.000000</td>\n",
       "      <td>1.000000</td>\n",
       "      <td>1.000000</td>\n",
       "      <td>...</td>\n",
       "      <td>1.000000</td>\n",
       "      <td>1.000000</td>\n",
       "      <td>1.000000</td>\n",
       "      <td>1.000000</td>\n",
       "      <td>1.000000</td>\n",
       "      <td>1.000000</td>\n",
       "      <td>1.000000</td>\n",
       "      <td>1.000000</td>\n",
       "      <td>1.000000</td>\n",
       "      <td>1.000000</td>\n",
       "    </tr>\n",
       "  </tbody>\n",
       "</table>\n",
       "<p>8 rows × 350 columns</p>\n",
       "</div>"
      ],
      "text/plain": [
       "              B105          B110          B115          B116          B120  \\\n",
       "count  39215.00000  39215.000000  39215.000000  39215.000000  39215.000000   \n",
       "mean       0.00533      0.001097      0.000204      0.001428      0.003443   \n",
       "std        0.07281      0.033096      0.014282      0.037763      0.058573   \n",
       "min        0.00000      0.000000      0.000000      0.000000      0.000000   \n",
       "25%        0.00000      0.000000      0.000000      0.000000      0.000000   \n",
       "50%        0.00000      0.000000      0.000000      0.000000      0.000000   \n",
       "75%        0.00000      0.000000      0.000000      0.000000      0.000000   \n",
       "max        1.00000      1.000000      1.000000      1.000000      1.000000   \n",
       "\n",
       "               B125          B130          B135          B140          B145  \\\n",
       "count  39215.000000  39215.000000  39215.000000  39215.000000  39215.000000   \n",
       "mean       0.008084      0.004514      0.000459      0.001122      0.005049   \n",
       "std        0.089546      0.067032      0.021420      0.033478      0.070878   \n",
       "min        0.000000      0.000000      0.000000      0.000000      0.000000   \n",
       "25%        0.000000      0.000000      0.000000      0.000000      0.000000   \n",
       "50%        0.000000      0.000000      0.000000      0.000000      0.000000   \n",
       "75%        0.000000      0.000000      0.000000      0.000000      0.000000   \n",
       "max        1.000000      1.000000      1.000000      1.000000      1.000000   \n",
       "\n",
       "       ...  VVVJ_NETKAT_02  VVVJ_NETKAT_03  VVVJ_NETKAT_04  VVVJ_NETKAT_05  \\\n",
       "count  ...    39215.000000    39215.000000    39215.000000    39215.000000   \n",
       "mean   ...        0.125258        0.004973        0.003647        0.002193   \n",
       "std    ...        0.331016        0.070342        0.060277        0.046779   \n",
       "min    ...        0.000000        0.000000        0.000000        0.000000   \n",
       "25%    ...        0.000000        0.000000        0.000000        0.000000   \n",
       "50%    ...        0.000000        0.000000        0.000000        0.000000   \n",
       "75%    ...        0.000000        0.000000        0.000000        0.000000   \n",
       "max    ...        1.000000        1.000000        1.000000        1.000000   \n",
       "\n",
       "       VVVJ_NETKAT_06  VVVJ_NETKAT_07  VVVJ_NETKAT_08  VVVJ_NETKAT_09  \\\n",
       "count    39215.000000    39215.000000    39215.000000    39215.000000   \n",
       "mean         0.001581        0.001403        0.001122        0.001097   \n",
       "std          0.039731        0.037424        0.033478        0.033096   \n",
       "min          0.000000        0.000000        0.000000        0.000000   \n",
       "25%          0.000000        0.000000        0.000000        0.000000   \n",
       "50%          0.000000        0.000000        0.000000        0.000000   \n",
       "75%          0.000000        0.000000        0.000000        0.000000   \n",
       "max          1.000000        1.000000        1.000000        1.000000   \n",
       "\n",
       "       VVVJ_NETKAT_10         AJ_29  \n",
       "count    39215.000000  39215.000000  \n",
       "mean         0.010659      0.032309  \n",
       "std          0.102693      0.176822  \n",
       "min          0.000000      0.000000  \n",
       "25%          0.000000      0.000000  \n",
       "50%          0.000000      0.000000  \n",
       "75%          0.000000      0.000000  \n",
       "max          1.000000      1.000000  \n",
       "\n",
       "[8 rows x 350 columns]"
      ]
     },
     "execution_count": 14,
     "metadata": {},
     "output_type": "execute_result"
    }
   ],
   "source": [
    "df_ft_binary.describe()"
   ]
  },
  {
   "cell_type": "code",
   "execution_count": 15,
   "metadata": {},
   "outputs": [
    {
     "name": "stdout",
     "output_type": "stream",
     "text": [
      "All occuring values: {0, 1}\n"
     ]
    }
   ],
   "source": [
    "final = {0}\n",
    "for x in list([set(df_ft_binary.loc[:,x]) for x in df_ft_binary.columns]):\n",
    "    final = final.union(x)\n",
    "print(\"All occuring values:\",final)"
   ]
  },
  {
   "cell_type": "markdown",
   "metadata": {},
   "source": [
    "=> ``df_ft_binary``: Dataframe with features and target, all entries as binary."
   ]
  },
  {
   "cell_type": "markdown",
   "metadata": {},
   "source": [
    "### Random Over-Sampling"
   ]
  },
  {
   "cell_type": "code",
   "execution_count": 16,
   "metadata": {},
   "outputs": [],
   "source": [
    "X_all = df_ft_binary.loc[:,feature_columns].to_numpy()\n",
    "y_all = df_ft_binary.loc[:, \"AJ_29\"].to_numpy()"
   ]
  },
  {
   "cell_type": "code",
   "execution_count": 17,
   "metadata": {},
   "outputs": [],
   "source": [
    "# pip install imblearn\n",
    "from imblearn.over_sampling import RandomOverSampler\n",
    "from imblearn.over_sampling import SMOTE\n",
    "#ros = RandomOverSampler(random_state=42)\n",
    "sm  = SMOTE(random_state=42)\n",
    "\n",
    "X_resampled, y_resampled = sm.fit_resample(X_all, y_all)"
   ]
  },
  {
   "cell_type": "code",
   "execution_count": 18,
   "metadata": {},
   "outputs": [
    {
     "name": "stdout",
     "output_type": "stream",
     "text": [
      "[(0, 37948), (1, 37948)]\n"
     ]
    }
   ],
   "source": [
    "from collections import Counter\n",
    "print(sorted(Counter(y_resampled).items()))"
   ]
  },
  {
   "cell_type": "markdown",
   "metadata": {},
   "source": [
    "# 4. Modelling"
   ]
  },
  {
   "cell_type": "markdown",
   "metadata": {},
   "source": [
    "## 4.1 Split: Training & Test"
   ]
  },
  {
   "cell_type": "code",
   "execution_count": 19,
   "metadata": {},
   "outputs": [
    {
     "name": "stdout",
     "output_type": "stream",
     "text": [
      "Data type:\n",
      "df_features: <class 'numpy.ndarray'>\n",
      "df_target: <class 'numpy.ndarray'>\n",
      "Shape:\n",
      "df_features: (39215, 349)\n",
      "df_target: (39215,)\n",
      "Column Names:\n",
      "Features:\n",
      " ['B105', 'B110', 'B115', 'B116', 'B120', 'B125', 'B130', 'B135', 'B140', 'B145', 'B150', 'B155', 'B160', 'B165', 'B170', 'B185', 'B195', 'B225', 'B230', 'B240', 'B241', 'B290', 'B295', 'B325', 'B330', 'B332', 'B334', 'B339', 'B349', 'B350', 'B351', 'B352', 'B353', 'B354', 'B356', 'B357', 'B366', 'B367', 'B371', 'B390', 'B400', 'B401', 'B405', 'B410', 'B420', 'B425', 'B435', 'B436', 'B445', 'B446', 'B447', 'B448', 'B455', 'B460', 'B464', 'B465', 'B466', 'B468', 'B469', 'B470', 'B475', 'B503', 'B504', 'B508', 'B509', 'B535', 'B555', 'B556', 'B575', 'B610', 'B695', 'B705', 'B720', 'B765', 'B780', 'B795', 'B800', 'B901', 'B950', 'B960', 'B970', 'B980', 'B990', 'VJNet', 'VJ_01', 'VJ_03', 'VJ_05', 'VJ_07', 'VJ_09', 'VJ_11', 'VJ_13', 'VJ_15', 'VJ_17', 'VJ_19', 'VJ_21', 'VJ_23', 'VJ_25', 'VJ_27', 'VJ_29', 'VJ_31', 'VJ_33', 'VJ_35', 'VJ_37', 'VJ_39', 'VJ_41', 'VJ_43', 'VJ_45', 'VJ_47', 'VJ_49', 'VJ_51', 'VJ_KONTAKT_L1_KW01', 'VJ_KONTAKT_L1_KW03', 'VJ_KONTAKT_L1_KW05', 'VJ_KONTAKT_L1_KW07', 'VJ_KONTAKT_L1_KW09', 'VJ_KONTAKT_L1_KW11', 'VJ_KONTAKT_L1_KW13', 'VJ_KONTAKT_L1_KW15', 'VJ_KONTAKT_L1_KW17', 'VJ_KONTAKT_L1_KW19', 'VJ_KONTAKT_L1_KW21', 'VJ_KONTAKT_L1_KW23', 'VJ_KONTAKT_L1_KW25', 'VJ_KONTAKT_L1_KW27', 'VJ_KONTAKT_L1_KW31', 'VJ_KONTAKT_L1_KW33', 'VJ_KONTAKT_L1_KW35', 'VJ_KONTAKT_L1_KW37', 'VJ_KONTAKT_L1_KW39', 'VJ_KONTAKT_L1_KW41', 'VJ_KONTAKT_L1_KW43', 'VJ_KONTAKT_L1_KW45', 'VJ_KONTAKT_L1_KW47', 'VJ_KONTAKT_L1_KW49', 'VJ_KONTAKT_L1_KW51', 'VJ_KONTAKT_L2_KW01', 'VJ_KONTAKT_L2_KW03', 'VJ_KONTAKT_L2_KW05', 'VJ_KONTAKT_L2_KW07', 'VJ_KONTAKT_L2_KW09', 'VJ_KONTAKT_L2_KW11', 'VJ_KONTAKT_L2_KW13', 'VJ_KONTAKT_L2_KW15', 'VJ_KONTAKT_L2_KW17', 'VJ_KONTAKT_L2_KW19', 'VJ_KONTAKT_L2_KW21', 'VJ_KONTAKT_L2_KW23', 'VJ_KONTAKT_L2_KW25', 'VJ_KONTAKT_L2_KW27', 'VJ_KONTAKT_L2_KW29', 'VJ_KONTAKT_L2_KW31', 'VJ_KONTAKT_L2_KW33', 'VJ_KONTAKT_L2_KW35', 'VJ_KONTAKT_L2_KW37', 'VJ_KONTAKT_L2_KW39', 'VJ_KONTAKT_L2_KW41', 'VJ_KONTAKT_L2_KW43', 'VJ_KONTAKT_L2_KW45', 'VJ_KONTAKT_L2_KW47', 'VJ_KONTAKT_L2_KW49', 'VJ_KONTAKT_L2_KW51', 'VJ_NETKAT_01', 'VJ_NETKAT_02', 'VJ_NETKAT_03', 'VJ_NETKAT_04', 'VJ_NETKAT_05', 'VJ_NETKAT_06', 'VJ_NETKAT_07', 'VJ_NETKAT_08', 'VJ_NETKAT_09', 'VJ_NETKAT_10', 'VVJNet', 'VVJ_01', 'VVJ_03', 'VVJ_05', 'VVJ_07', 'VVJ_09', 'VVJ_11', 'VVJ_13', 'VVJ_15', 'VVJ_17', 'VVJ_19', 'VVJ_21', 'VVJ_23', 'VVJ_25', 'VVJ_27', 'VVJ_29', 'VVJ_31', 'VVJ_33', 'VVJ_35', 'VVJ_37', 'VVJ_39', 'VVJ_41', 'VVJ_43', 'VVJ_45', 'VVJ_47', 'VVJ_49', 'VVJ_51', 'VVJ_KONTAKT_L1_KW01', 'VVJ_KONTAKT_L1_KW03', 'VVJ_KONTAKT_L1_KW05', 'VVJ_KONTAKT_L1_KW07', 'VVJ_KONTAKT_L1_KW09', 'VVJ_KONTAKT_L1_KW11', 'VVJ_KONTAKT_L1_KW13', 'VVJ_KONTAKT_L1_KW15', 'VVJ_KONTAKT_L1_KW17', 'VVJ_KONTAKT_L1_KW19', 'VVJ_KONTAKT_L1_KW21', 'VVJ_KONTAKT_L1_KW23', 'VVJ_KONTAKT_L1_KW25', 'VVJ_KONTAKT_L1_KW27', 'VVJ_KONTAKT_L1_KW29', 'VVJ_KONTAKT_L1_KW31', 'VVJ_KONTAKT_L1_KW33', 'VVJ_KONTAKT_L1_KW35', 'VVJ_KONTAKT_L1_KW37', 'VVJ_KONTAKT_L1_KW39', 'VVJ_KONTAKT_L1_KW41', 'VVJ_KONTAKT_L1_KW43', 'VVJ_KONTAKT_L1_KW45', 'VVJ_KONTAKT_L1_KW47', 'VVJ_KONTAKT_L1_KW49', 'VVJ_KONTAKT_L1_KW51', 'VVJ_KONTAKT_L2_KW01', 'VVJ_KONTAKT_L2_KW03', 'VVJ_KONTAKT_L2_KW05', 'VVJ_KONTAKT_L2_KW07', 'VVJ_KONTAKT_L2_KW09', 'VVJ_KONTAKT_L2_KW11', 'VVJ_KONTAKT_L2_KW13', 'VVJ_KONTAKT_L2_KW15', 'VVJ_KONTAKT_L2_KW17', 'VVJ_KONTAKT_L2_KW19', 'VVJ_KONTAKT_L2_KW21', 'VVJ_KONTAKT_L2_KW23', 'VVJ_KONTAKT_L2_KW25', 'VVJ_KONTAKT_L2_KW27', 'VVJ_KONTAKT_L2_KW29', 'VVJ_KONTAKT_L2_KW31', 'VVJ_KONTAKT_L2_KW33', 'VVJ_KONTAKT_L2_KW35', 'VVJ_KONTAKT_L2_KW37', 'VVJ_KONTAKT_L2_KW39', 'VVJ_KONTAKT_L2_KW41', 'VVJ_KONTAKT_L2_KW43', 'VVJ_KONTAKT_L2_KW45', 'VVJ_KONTAKT_L2_KW47', 'VVJ_KONTAKT_L2_KW49', 'VVJ_KONTAKT_L2_KW51', 'VVJ_NETKAT_01', 'VVJ_NETKAT_02', 'VVJ_NETKAT_03', 'VVJ_NETKAT_04', 'VVJ_NETKAT_05', 'VVJ_NETKAT_06', 'VVJ_NETKAT_07', 'VVJ_NETKAT_08', 'VVJ_NETKAT_09', 'VVJ_NETKAT_10', 'VVVJNet', 'VVVJ_01', 'VVVJ_03', 'VVVJ_05', 'VVVJ_07', 'VVVJ_09', 'VVVJ_11', 'VVVJ_13', 'VVVJ_15', 'VVVJ_17', 'VVVJ_19', 'VVVJ_21', 'VVVJ_23', 'VVVJ_25', 'VVVJ_27', 'VVVJ_29', 'VVVJ_31', 'VVVJ_33', 'VVVJ_35', 'VVVJ_37', 'VVVJ_39', 'VVVJ_41', 'VVVJ_43', 'VVVJ_45', 'VVVJ_47', 'VVVJ_49', 'VVVJ_51', 'VVVJ_KONTAKT_L1_KW01', 'VVVJ_KONTAKT_L1_KW03', 'VVVJ_KONTAKT_L1_KW05', 'VVVJ_KONTAKT_L1_KW07', 'VVVJ_KONTAKT_L1_KW09', 'VVVJ_KONTAKT_L1_KW11', 'VVVJ_KONTAKT_L1_KW13', 'VVVJ_KONTAKT_L1_KW15', 'VVVJ_KONTAKT_L1_KW17', 'VVVJ_KONTAKT_L1_KW19', 'VVVJ_KONTAKT_L1_KW21', 'VVVJ_KONTAKT_L1_KW23', 'VVVJ_KONTAKT_L1_KW25', 'VVVJ_KONTAKT_L1_KW27', 'VVVJ_KONTAKT_L1_KW29', 'VVVJ_KONTAKT_L1_KW31', 'VVVJ_KONTAKT_L1_KW33', 'VVVJ_KONTAKT_L1_KW35', 'VVVJ_KONTAKT_L1_KW37', 'VVVJ_KONTAKT_L1_KW39', 'VVVJ_KONTAKT_L1_KW41', 'VVVJ_KONTAKT_L1_KW43', 'VVVJ_KONTAKT_L1_KW45', 'VVVJ_KONTAKT_L1_KW47', 'VVVJ_KONTAKT_L1_KW49', 'VVVJ_KONTAKT_L1_KW51', 'VVVJ_KONTAKT_L2_KW01', 'VVVJ_KONTAKT_L2_KW03', 'VVVJ_KONTAKT_L2_KW05', 'VVVJ_KONTAKT_L2_KW07', 'VVVJ_KONTAKT_L2_KW09', 'VVVJ_KONTAKT_L2_KW11', 'VVVJ_KONTAKT_L2_KW13', 'VVVJ_KONTAKT_L2_KW15', 'VVVJ_KONTAKT_L2_KW17', 'VVVJ_KONTAKT_L2_KW19', 'VVVJ_KONTAKT_L2_KW21', 'VVVJ_KONTAKT_L2_KW23', 'VVVJ_KONTAKT_L2_KW25', 'VVVJ_KONTAKT_L2_KW27', 'VVVJ_KONTAKT_L2_KW29', 'VVVJ_KONTAKT_L2_KW31', 'VVVJ_KONTAKT_L2_KW33', 'VVVJ_KONTAKT_L2_KW35', 'VVVJ_KONTAKT_L2_KW37', 'VVVJ_KONTAKT_L2_KW39', 'VVVJ_KONTAKT_L2_KW41', 'VVVJ_KONTAKT_L2_KW43', 'VVVJ_KONTAKT_L2_KW45', 'VVVJ_KONTAKT_L2_KW47', 'VVVJ_KONTAKT_L2_KW49', 'VVVJ_KONTAKT_L2_KW51', 'VVVJ_NETKAT_01', 'VVVJ_NETKAT_02', 'VVVJ_NETKAT_03', 'VVVJ_NETKAT_04', 'VVVJ_NETKAT_05', 'VVVJ_NETKAT_06', 'VVVJ_NETKAT_07', 'VVVJ_NETKAT_08', 'VVVJ_NETKAT_09', 'VVVJ_NETKAT_10']\n",
      "Target: AJ_29\n"
     ]
    }
   ],
   "source": [
    "df_features    = TDS.fillna(0).loc[:,feature_columns].to_numpy()\n",
    "df_target      = TDS.fillna(0).loc[:,\"AJ_29\"].to_numpy()\n",
    "\n",
    "print(\"Data type:\")\n",
    "print(\"df_features:\", type(df_features))\n",
    "print(\"df_target:\", type(df_target))\n",
    "\n",
    "print(\"Shape:\")\n",
    "print(\"df_features:\", df_features.shape)\n",
    "print(\"df_target:\", df_target.shape)\n",
    "\n",
    "print(\"Column Names:\")\n",
    "print(\"Features:\\n\", feature_columns)\n",
    "print(\"Target:\", \"AJ_29\") # <= NEEDS TO BE ADJUSTED!"
   ]
  },
  {
   "cell_type": "code",
   "execution_count": 20,
   "metadata": {},
   "outputs": [],
   "source": [
    "from sklearn.model_selection import train_test_split"
   ]
  },
  {
   "cell_type": "code",
   "execution_count": 21,
   "metadata": {},
   "outputs": [],
   "source": [
    "X_train, X_test, y_train, y_test = train_test_split(\n",
    "    #df_features, df_target, train_size=0.80, random_state=42)\n",
    "    X_resampled, y_resampled, train_size=0.80, random_state=42)\n"
   ]
  },
  {
   "cell_type": "code",
   "execution_count": 22,
   "metadata": {},
   "outputs": [],
   "source": [
    "#from scipy import stats\n",
    "#stats.describe(X_train)"
   ]
  },
  {
   "cell_type": "markdown",
   "metadata": {},
   "source": [
    "## 4.2 Boxing: Features & Target-Value"
   ]
  },
  {
   "cell_type": "markdown",
   "metadata": {},
   "source": [
    "Turn all values (features and target) into 0 or 1."
   ]
  },
  {
   "cell_type": "code",
   "execution_count": 23,
   "metadata": {},
   "outputs": [],
   "source": [
    "# Features:\n",
    "X_train_binary = np.asarray([np.asarray(list(map(lambda i: int(bool(i)),x))) for x in X_train])\n",
    "X_test_binary  = np.asarray([np.asarray(list(map(lambda i: int(bool(i)),x))) for x in X_test])\n",
    "# Targets:\n",
    "y_train_binary = np.array([int(bool(y)) for y in y_train])\n",
    "y_test_binary  = np.array([int(bool(y)) for y in y_test])"
   ]
  },
  {
   "cell_type": "markdown",
   "metadata": {},
   "source": [
    "Describe loaded data:"
   ]
  },
  {
   "cell_type": "code",
   "execution_count": 24,
   "metadata": {},
   "outputs": [
    {
     "name": "stdout",
     "output_type": "stream",
     "text": [
      "Shape:\n",
      "X_train_binary: (60716, 349)\n",
      "y_train_binary: (60716,)\n",
      "X_test_binary: (15180, 349)\n",
      "y_test_binary: (15180,)\n"
     ]
    }
   ],
   "source": [
    "print(\"Shape:\")\n",
    "print(\"X_train_binary:\", X_train_binary.shape)\n",
    "print(\"y_train_binary:\", y_train_binary.shape)\n",
    "print(\"X_test_binary:\", X_test_binary.shape)\n",
    "print(\"y_test_binary:\", y_test_binary.shape)\n"
   ]
  },
  {
   "cell_type": "markdown",
   "metadata": {},
   "source": [
    "## 4.3 Train data"
   ]
  },
  {
   "cell_type": "code",
   "execution_count": 25,
   "metadata": {},
   "outputs": [],
   "source": [
    "import time\n",
    "def run_time(x,y):\n",
    "    \"\"\"Run time measuring\"\"\"\n",
    "    start = min(x,y)\n",
    "    end   = max(x,y)\n",
    "    run_time_exact = end-start\n",
    "    run_time_sec   = int(round(run_time_exact))\n",
    "    run_time_min   = int(round(run_time_exact/60))\n",
    "    run_time_hrs   = int(round(run_time_exact/60/60))\n",
    "    run_time_days  = int(round(run_time_exact/60/60/24))\n",
    "    return print(\"Runtime:\", run_time_hrs,'hrs',run_time_min%60,'min',run_time_sec%60,'sec')"
   ]
  },
  {
   "cell_type": "markdown",
   "metadata": {},
   "source": [
    "### 4.3.1 Logistic Regression"
   ]
  },
  {
   "cell_type": "code",
   "execution_count": 26,
   "metadata": {},
   "outputs": [],
   "source": [
    "from sklearn.linear_model import LogisticRegression"
   ]
  },
  {
   "cell_type": "markdown",
   "metadata": {},
   "source": [
    "1. logreg:   $C = 1$\n",
    "2. logreg01: $C = 0.1$\n",
    "3. logreg00001: $C = 0.0001$\n",
    "4. logreg100: $C = 100$"
   ]
  },
  {
   "cell_type": "code",
   "execution_count": null,
   "metadata": {},
   "outputs": [],
   "source": [
    "start = time.time()\n",
    "logreg = LogisticRegression(n_jobs=-1,\n",
    "                            solver=\"sag\",\n",
    "                            C=1 # to be adjusted\n",
    "                           ).fit(X_train_binary, y_train_binary)\n",
    "end = time.time()\n",
    "print(run_time(start,end))\n",
    "#logreg = LogisticRegression().fit(X_train, y_train)\n",
    "print(\"Training set score: {:.3f}\".format(logreg.score(X_train_binary, y_train_binary)))\n",
    "print(\"Test set score: {:.3f}\".format(logreg.score(X_test_binary, y_test_binary)))"
   ]
  },
  {
   "cell_type": "code",
   "execution_count": null,
   "metadata": {},
   "outputs": [],
   "source": [
    "# %% Train data: LogReg with C = 0.01\n",
    "start = time.time()\n",
    "logreg001 = LogisticRegression(n_jobs=-1,\n",
    "                               solver=\"sag\",\n",
    "                               C=0.01 # adjustable\n",
    "                              ).fit(X_train_binary, y_train_binary)\n",
    "end = time.time()\n",
    "print(run_time(start,end))\n",
    "print(\"Training set score: {:.3f}\".format(logreg001.score(X_train_binary, y_train_binary)))\n",
    "print(\"Test set score: {:.3f}\".format(logreg001.score(X_test_binary, y_test_binary)))"
   ]
  },
  {
   "cell_type": "code",
   "execution_count": null,
   "metadata": {},
   "outputs": [],
   "source": [
    "start = time.time()\n",
    "logreg00001 = LogisticRegression(n_jobs=-1,\n",
    "                               solver=\"sag\",\n",
    "                               C=0.0001 # adjustable\n",
    "                              ).fit(X_train_binary, y_train_binary)\n",
    "end = time.time()\n",
    "print(run_time(start,end))\n",
    "print(\"Training set score: {:.3f}\".format(logreg00001.score(X_train_binary, y_train_binary)))\n",
    "print(\"Test set score: {:.3f}\".format(logreg00001.score(X_test_binary, y_test_binary)))"
   ]
  },
  {
   "cell_type": "code",
   "execution_count": null,
   "metadata": {},
   "outputs": [],
   "source": [
    "start = time.time()\n",
    "logreg100 = LogisticRegression(n_jobs=-1,\n",
    "                               solver=\"sag\",\n",
    "                               C=100).fit(X_train_binary, y_train_binary) # bigger C\n",
    "end = time.time()\n",
    "print(run_time(start,end))\n",
    "print(\"Training set score: {:.3f}\".format(logreg100.score(X_train_binary, y_train_binary)))\n",
    "print(\"Test set score: {:.3f}\".format(logreg100.score(X_test_binary, y_test_binary)))"
   ]
  },
  {
   "cell_type": "markdown",
   "metadata": {},
   "source": [
    "#### Plot coefficients"
   ]
  },
  {
   "cell_type": "code",
   "execution_count": null,
   "metadata": {},
   "outputs": [],
   "source": [
    "temp = np.asarray([x for [x] in logreg100.coef_.T]).argsort()\n",
    "ranks= np.empty_like(temp)\n",
    "ranks[temp] = np.arange(len(temp))\n",
    "\n",
    "sorted_logreg100       = [0 for x in range(len(temp))]\n",
    "sorted_logreg          = [0 for x in range(len(temp))]\n",
    "sorted_logreg001       = [0 for x in range(len(temp))]\n",
    "sorted_logreg00001     = [0 for x in range(len(temp))]\n",
    "sorted_feature_columns = [0 for x in range(len(temp))]\n",
    "for i in range(len(temp)):\n",
    "    sorted_logreg100[ranks[i]]       = logreg100.coef_.T[i]\n",
    "    sorted_logreg[ranks[i]]          = logreg.coef_.T[i]\n",
    "    sorted_logreg001[ranks[i]]       = logreg001.coef_.T[i]\n",
    "    sorted_logreg00001[ranks[i]]     = logreg00001.coef_.T[i]\n",
    "    sorted_feature_columns[ranks[i]] = feature_columns[i]\n",
    "    \n",
    "# %% Plot: Compare LogReg-coefficients for different C (1, 100, 0.001)\n",
    "plt.figure(figsize=(70,10))\n",
    "plt.grid()\n",
    "plt.plot(sorted_logreg100 , '^', label=\"C=100\")\n",
    "plt.plot(sorted_logreg,    'o', label=\"C=1\")\n",
    "plt.plot(sorted_logreg001, 'v', label=\"C=0.001\")\n",
    "plt.plot(sorted_logreg00001, 's', label=\"C=0.0001\")\n",
    "plt.xticks(range(len(feature_columns)), sorted_feature_columns, rotation=90)\n",
    "plt.hlines(0, 0, len(feature_columns))\n",
    "plt.ylim(min(logreg100.coef_.T), max(logreg100.coef_.T))\n",
    "plt.xlabel(\"Feature\")\n",
    "plt.ylabel(\"Coefficient magnitude\")\n",
    "plt.legend()\n",
    "plt.savefig('this_is_a_test.png')"
   ]
  },
  {
   "cell_type": "code",
   "execution_count": null,
   "metadata": {},
   "outputs": [],
   "source": [
    "# %% Plot: Compare LogReg-coefficients for different C (1, 100, 0.001)\n",
    "plt.figure(figsize=(70,10))\n",
    "plt.grid()\n",
    "plt.plot(logreg100.coef_.T, '^', label=\"C=100\")\n",
    "plt.plot(logreg.coef_.T,    'o', label=\"C=1\")\n",
    "plt.plot(logreg001.coef_.T, 'v', label=\"C=0.001\")\n",
    "plt.plot(sorted_logreg00001, 's', label=\"C=0.0001\")\n",
    "plt.xticks(range(len(feature_columns)), feature_columns, rotation=90)\n",
    "plt.hlines(0, 0, len(feature_columns))\n",
    "plt.ylim(min(logreg.coef_.T), max(logreg.coef_.T))\n",
    "plt.xlabel(\"Feature\")\n",
    "plt.ylabel(\"Coefficient magnitude\")\n",
    "plt.legend()\n",
    "plt.savefig('this_is_a_test.png')"
   ]
  },
  {
   "cell_type": "markdown",
   "metadata": {},
   "source": [
    "### 4.3.2. Lasso"
   ]
  },
  {
   "cell_type": "code",
   "execution_count": null,
   "metadata": {},
   "outputs": [],
   "source": [
    "from sklearn.linear_model import Lasso"
   ]
  },
  {
   "cell_type": "code",
   "execution_count": null,
   "metadata": {},
   "outputs": [],
   "source": [
    "start = time.time()\n",
    "lasso = Lasso().fit(X_train_binary, y_train_binary)\n",
    "end   = time.time()\n",
    "run_time(start,end)\n",
    "print(\"Training set score: {:.2f}\".format(lasso.score(X_train_binary, y_train_binary)))\n",
    "print(\"Test set score: {:.2f}\".format(lasso.score(X_test_binary, y_test_binary)))\n",
    "print(\"Number of features used:\", np.sum(lasso.coef_ != 0))"
   ]
  },
  {
   "cell_type": "code",
   "execution_count": null,
   "metadata": {},
   "outputs": [],
   "source": [
    "start = time.time()\n",
    "lasso001 = Lasso(alpha=0.01, max_iter=100000).fit(X_train_binary, y_train_binary)\n",
    "end = time.time()\n",
    "run_time(start,end)\n",
    "print(\"Training set score: {:.2f}\".format(lasso001.score(X_train_binary, y_train_binary)))\n",
    "print(\"Test set score: {:.2f}\".format(lasso001.score(X_test_binary, y_test_binary)))\n",
    "print(\"Number of features used:\", np.sum(lasso001.coef_ != 0))"
   ]
  },
  {
   "cell_type": "code",
   "execution_count": null,
   "metadata": {},
   "outputs": [],
   "source": [
    "start = time.time()\n",
    "lasso00000001 = Lasso(alpha=0.0000001, max_iter=100000).fit(X_train_binary, y_train_binary)\n",
    "end = time.time()\n",
    "print(run_time(start,end))"
   ]
  },
  {
   "cell_type": "code",
   "execution_count": null,
   "metadata": {},
   "outputs": [],
   "source": [
    "print(\"Training set score: {:.2f}\".format(lasso00000001.score(X_train_binary, y_train_binary)))\n",
    "print(\"Test set score: {:.2f}\".format(lasso00000001.score(X_test_binary,      y_test_binary)))\n",
    "print(\"Number of features used:\", np.sum(lasso00000001.coef_ != 0))"
   ]
  },
  {
   "cell_type": "code",
   "execution_count": null,
   "metadata": {},
   "outputs": [],
   "source": [
    "start = time.time()\n",
    "lasso000001 = Lasso(alpha=0.0001, max_iter=100000).fit(X_train_binary, y_train_binary)\n",
    "end = time.time()\n",
    "run_time(start,end)\n",
    "print(\"Training set score: {:.2f}\".format(lasso000001.score(X_train_binary, y_train_binary)))\n",
    "print(\"Test set score: {:.2f}\".format(lasso000001.score(X_test_binary, y_test_binary)))\n",
    "print(\"Number of features used:\", np.sum(lasso000001.coef_ != 0))"
   ]
  },
  {
   "cell_type": "markdown",
   "metadata": {},
   "source": [
    "=> ALL SUPERMASSIVE CRAP"
   ]
  },
  {
   "cell_type": "markdown",
   "metadata": {},
   "source": [
    "### 4.3.3 Random Forest"
   ]
  },
  {
   "cell_type": "code",
   "execution_count": null,
   "metadata": {},
   "outputs": [],
   "source": [
    "from sklearn.ensemble import RandomForestClassifier"
   ]
  },
  {
   "cell_type": "code",
   "execution_count": null,
   "metadata": {},
   "outputs": [],
   "source": [
    "start = time.time()\n",
    "forest = RandomForestClassifier(n_estimators=10000,\n",
    "                                max_depth=35,\n",
    "                                random_state=42,\n",
    "                                n_jobs=2)\n",
    "forest.fit(X_train_binary, y_train_binary)\n",
    "end = time.time()\n",
    "print(run_time(start,end))\n",
    "\n",
    "# %% Validate Accuracy\n",
    "print(\"Accuracy on training set: {:.3f}\".format(forest.score(X_train_binary,y_train_binary)))\n",
    "print(\"Accuracy on test set: {:.3f}\".format(forest.score(X_test_binary,     y_test_binary)))"
   ]
  },
  {
   "cell_type": "code",
   "execution_count": null,
   "metadata": {},
   "outputs": [],
   "source": [
    "#[x for (x,y) in dict_feature_importance]\n",
    "#[y for (x,y) in dict_feature_importance]\n"
   ]
  },
  {
   "cell_type": "code",
   "execution_count": null,
   "metadata": {},
   "outputs": [],
   "source": [
    "# %% Plot: Feature importance\n",
    "def plot_feature_importances(model):\n",
    "    from operator import itemgetter\n",
    "    dict_feature_importance = sorted(dict(zip(feature_columns,model.feature_importances_)).items(), key=itemgetter(1))\n",
    "    plt.figure(figsize=(20,100))\n",
    "    plt.grid()\n",
    "    n_features = 349\n",
    "    plt.barh(np.arange(n_features),\n",
    "             [y for (x,y) in dict_feature_importance],\n",
    "             align='center')\n",
    "    plt.yticks(np.arange(n_features), [x for (x,y) in dict_feature_importance])\n",
    "    plt.xlabel(\"Feature importance\")\n",
    "    plt.ylabel(\"Feature\")\n",
    "    plt.ylim(-1, n_features)"
   ]
  },
  {
   "cell_type": "code",
   "execution_count": null,
   "metadata": {},
   "outputs": [],
   "source": [
    "plot_feature_importances(forest)"
   ]
  },
  {
   "cell_type": "markdown",
   "metadata": {},
   "source": [
    "### Univariate Statistics"
   ]
  },
  {
   "cell_type": "code",
   "execution_count": null,
   "metadata": {},
   "outputs": [],
   "source": [
    "from sklearn.feature_selection import SelectPercentile"
   ]
  },
  {
   "cell_type": "code",
   "execution_count": null,
   "metadata": {},
   "outputs": [],
   "source": [
    "# use f_classif (the default) and SelectPercentile to select 50% of features\n",
    "select = SelectPercentile(percentile=50)\n",
    "select.fit(X_train_binary, y_train_binary)\n",
    "# transform training set\n",
    "X_train_selected = select.transform(X_train_binary)\n",
    "\n",
    "print(\"X_train_binary.shape: {}\".format(X_train_binary.shape))\n",
    "print(\"X_train_selected.shape: {}\".format(X_train_selected.shape))"
   ]
  },
  {
   "cell_type": "code",
   "execution_count": null,
   "metadata": {},
   "outputs": [],
   "source": [
    "mask = select.get_support()\n",
    "print(mask)\n",
    "# visualize the mask -- black is True, white is False\n",
    "plt.matshow(mask.reshape(1, -1), cmap='gray_r')\n",
    "plt.xlabel(\"Sample index\")\n",
    "plt.yticks(())"
   ]
  },
  {
   "cell_type": "markdown",
   "metadata": {},
   "source": [
    "# Performance Measures"
   ]
  },
  {
   "cell_type": "markdown",
   "metadata": {},
   "source": [
    "https://learning.oreilly.com/library/view/introduction-to-machine/9781449369880/ch05.html#model-evaluation-and-improvement\n"
   ]
  },
  {
   "cell_type": "code",
   "execution_count": null,
   "metadata": {},
   "outputs": [],
   "source": [
    "from sklearn.model_selection import cross_val_score\n",
    "scores = cross_val_score(logreg,\n",
    "                         np.concatenate([X_train_binary,X_test_binary]),\n",
    "                         np.concatenate([y_train_binary,y_test_binary]), \n",
    "                         cv=5)\n",
    "print(\"Cross-validation scores: {}\".format(scores))"
   ]
  },
  {
   "cell_type": "code",
   "execution_count": null,
   "metadata": {},
   "outputs": [],
   "source": [
    "print(\"Average cross-validation score: {:.2f}\".format(scores.mean()))"
   ]
  },
  {
   "cell_type": "code",
   "execution_count": null,
   "metadata": {},
   "outputs": [],
   "source": [
    "from sklearn.model_selection import cross_validate\n",
    "res = cross_validate(logreg,\n",
    "                     np.concatenate([X_train_binary,X_test_binary]),\n",
    "                     np.concatenate([y_train_binary,y_test_binary]),\n",
    "                     cv=5,\n",
    "                     return_train_score=True)\n",
    "res_df = pd.DataFrame(res)\n",
    "display(res_df)\n",
    "print(\"Mean times and scores:\\n\", res_df.mean())"
   ]
  },
  {
   "cell_type": "markdown",
   "metadata": {},
   "source": [
    "# Confusion Matrix"
   ]
  },
  {
   "cell_type": "code",
   "execution_count": null,
   "metadata": {},
   "outputs": [],
   "source": [
    "from sklearn.metrics import confusion_matrix"
   ]
  },
  {
   "cell_type": "code",
   "execution_count": null,
   "metadata": {},
   "outputs": [],
   "source": [
    "#logreg = LogisticRegression(C=1, solver='lbfgs').fit(X_train_binary, y_train_binary)\n",
    "pred_logreg = logreg.predict(X_test_binary)\n",
    "pred_forest = forest.predict(X_test_binary)"
   ]
  },
  {
   "cell_type": "code",
   "execution_count": null,
   "metadata": {},
   "outputs": [],
   "source": [
    "confusion_logreg = confusion_matrix(y_test_binary, pred_logreg)\n",
    "confusion_forest = confusion_matrix(y_test_binary, pred_forest)\n",
    "print(\"Confusion matrix for Logistic Regression:\\n{}\".format(confusion_logreg))\n",
    "print(\"Confusion matrix for Random Forest:\\n{}\".format(confusion_forest))"
   ]
  },
  {
   "cell_type": "code",
   "execution_count": null,
   "metadata": {},
   "outputs": [],
   "source": [
    "import mglearn\n",
    "mglearn.plots.plot_binary_confusion_matrix()"
   ]
  },
  {
   "cell_type": "markdown",
   "metadata": {},
   "source": [
    "1. $Precision =\\frac{TP}{TP+FP}$\n",
    "2. $Recall =\\frac{TP}{TP+FN}$\n",
    "3. $f_{1} = 2 \\cdot \\frac{precision \\cdot recall}{precision + recall} = \\frac{2 \\cdot TP}{2 \\cdot TP + (FN + FP)}$\n",
    "4. $Accuracy = \\frac{TP + TN}{TP + TN + FP + FN}$ KPI combines Precision and Recall\n"
   ]
  },
  {
   "cell_type": "code",
   "execution_count": null,
   "metadata": {},
   "outputs": [],
   "source": [
    "from sklearn.metrics import f1_score\n",
    "print(\"f1 score Logistic Regression: {:.2f}\".format( f1_score(y_test_binary, pred_logreg)))\n",
    "print(\"f1 score Random Forest: {:.2f}\".format( f1_score(y_test_binary, pred_forest)))"
   ]
  },
  {
   "cell_type": "code",
   "execution_count": null,
   "metadata": {},
   "outputs": [],
   "source": [
    "from sklearn.metrics import classification_report\n",
    "print(\"Logistic Regression\")\n",
    "print(classification_report(y_test_binary,\n",
    "                            pred_logreg,\n",
    "                            target_names=[\"not booking = 0\", \"booking = 1\"]))\n",
    "\n",
    "print(\"Random Forest\")\n",
    "print(classification_report(y_test_binary,\n",
    "                            pred_forest,\n",
    "                            target_names=[\"not booking = 0\", \"booking = 1\"]))"
   ]
  },
  {
   "cell_type": "markdown",
   "metadata": {},
   "source": [
    "Lower the Threshold:"
   ]
  },
  {
   "cell_type": "code",
   "execution_count": null,
   "metadata": {},
   "outputs": [],
   "source": [
    "def threshold_test(number):\n",
    "    y_pred_lower_threshold = logreg.decision_function(X_test_binary) > number\n",
    "    print(classification_report(y_test_binary, y_pred_lower_threshold))"
   ]
  },
  {
   "cell_type": "code",
   "execution_count": null,
   "metadata": {},
   "outputs": [],
   "source": [
    "threshold_test(0.1)"
   ]
  },
  {
   "cell_type": "code",
   "execution_count": null,
   "metadata": {},
   "outputs": [],
   "source": [
    "threshold_test(0.2)"
   ]
  },
  {
   "cell_type": "markdown",
   "metadata": {},
   "source": [
    "### Precision-Recall curve"
   ]
  },
  {
   "cell_type": "code",
   "execution_count": null,
   "metadata": {},
   "outputs": [],
   "source": [
    "from sklearn.metrics import precision_recall_curve\n",
    "precision, recall, thresholds = precision_recall_curve(\n",
    "    y_test_binary, logreg.decision_function(X_test_binary))"
   ]
  },
  {
   "cell_type": "code",
   "execution_count": null,
   "metadata": {},
   "outputs": [],
   "source": [
    "# RandomForestClassifier has predict_proba, but not decision_function\n",
    "precision_rf, recall_rf, thresholds_rf = precision_recall_curve(\n",
    "    y_test_binary, forest.predict_proba(X_test_binary)[:, 1])"
   ]
  },
  {
   "cell_type": "code",
   "execution_count": null,
   "metadata": {},
   "outputs": [],
   "source": [
    "plt.figure(figsize=(20,15))\n",
    "plt.grid()\n",
    "\n",
    "close_zero = np.argmin(np.abs(thresholds))\n",
    "plt.plot(precision[close_zero], recall[close_zero], 'o', markersize=10,\n",
    "         label=\"threshold zero logreg\", fillstyle=\"none\", c='k', mew=2)\n",
    "plt.plot(precision_rf, recall_rf, label=\"Random Forest\")\n",
    "plt.plot(precision, recall, label=\"Logistic Regression\")\n",
    "plt.xlabel(\"Precision\")\n",
    "plt.ylabel(\"Recall\")\n",
    "plt.legend(loc=\"best\")"
   ]
  },
  {
   "cell_type": "code",
   "execution_count": null,
   "metadata": {},
   "outputs": [],
   "source": [
    "from sklearn.metrics import average_precision_score # Area under the Recall/Precision-curves\n",
    "ap_rf = average_precision_score(y_test_binary, forest.predict_proba(X_test_binary)[:, 1])\n",
    "ap_logreg = average_precision_score(y_test_binary, logreg.decision_function(X_test_binary))\n",
    "print(\"Average precision of Random Forest: {:.3f}\".format(ap_rf))\n",
    "print(\"Average precision of Logistic Regression: {:.3f}\".format(ap_logreg))"
   ]
  },
  {
   "cell_type": "markdown",
   "metadata": {},
   "source": [
    "### Receiver operating characteristics (ROC) and AUC"
   ]
  },
  {
   "cell_type": "markdown",
   "metadata": {},
   "source": [
    "1. $FPR = \\frac{FP}{FP + TN}$ \n",
    "2. $TPR = Recall$"
   ]
  },
  {
   "cell_type": "code",
   "execution_count": null,
   "metadata": {},
   "outputs": [],
   "source": [
    "from sklearn.metrics import roc_curve\n",
    "fpr, tpr, thresholds = roc_curve(y_test_binary, logreg.decision_function(X_test_binary))\n",
    "fpr_00001, tpr_00001, thresholds_00001 = roc_curve(y_test_binary, logreg00001.decision_function(X_test_binary))\n",
    "fpr_001, tpr_001, thresholds_001 = roc_curve(y_test_binary, logreg001.decision_function(X_test_binary))\n",
    "fpr_100, tpr_100, thresholds_100 = roc_curve(y_test_binary, logreg100.decision_function(X_test_binary))\n",
    "\n",
    "fpr_forest, tpr_forest, thresholds_forest = roc_curve(y_test_binary, forest.predict_proba(X_test_binary)[:, 1])\n",
    "\n",
    "plt.figure(figsize=(20,15))\n",
    "plt.grid()\n",
    "\n",
    "plt.plot(fpr,fpr,linestyle='dotted', label=\"base line\")\n",
    "plt.plot(fpr, tpr, label=\"LogReg C=1\")\n",
    "plt.plot(fpr_00001, tpr_00001, label=\"LogReg C=0.0001\")\n",
    "plt.plot(fpr_001, tpr_001, label=\"LogReg C=0.01\")\n",
    "plt.plot(fpr_100, tpr_100, label=\"LogReg C=100.0\")\n",
    "\n",
    "plt.plot(fpr_forest, tpr_forest, label=\"ROC Curve Forest\")\n",
    "\n",
    "plt.xlabel(\"FPR\")\n",
    "plt.ylabel(\"TPR (recall)\")\n",
    "# find threshold closest to zero\n",
    "close_zero = np.argmin(np.abs(thresholds))\n",
    "plt.plot(fpr[close_zero], tpr[close_zero], 'o', markersize=10,\n",
    "         label=\"threshold zero\", fillstyle=\"none\", c='k', mew=2)\n",
    "close_default_forest = np.argmin(np.abs(thresholds_forest - 0.5))\n",
    "plt.plot(fpr_forest[close_default_forest], tpr[close_default_forest], '^', markersize=10,\n",
    "         label=\"threshold 0.5 Random Forest\", fillstyle=\"none\", c='k', mew=2)\n",
    "plt.legend(loc=4)"
   ]
  },
  {
   "cell_type": "code",
   "execution_count": null,
   "metadata": {},
   "outputs": [],
   "source": [
    "from sklearn.metrics import roc_auc_score\n",
    "forest_auc = roc_auc_score(y_test_binary, forest.predict_proba(X_test_binary)[:, 1])\n",
    "logreg001_auc = roc_auc_score(y_test_binary, logreg001.decision_function(X_test_binary))\n",
    "logreg_auc = roc_auc_score(y_test_binary, logreg.decision_function(X_test_binary))\n",
    "logreg00001_auc = roc_auc_score(y_test_binary, logreg00001.decision_function(X_test_binary))\n",
    "logreg100_auc = roc_auc_score(y_test_binary, logreg100.decision_function(X_test_binary))\n",
    "\n",
    "\n",
    "print(\"AUC for Random Forest: {:.3f}\".format(forest_auc))\n",
    "print(\"AUC for LogReg C=0.0001: {:.3f}\".format(logreg00001_auc))\n",
    "print(\"AUC for LogReg C=0.001: {:.3f}\".format(logreg001_auc))\n",
    "print(\"AUC for LogReg C=1: {:.3f}\".format(logreg_auc))\n",
    "print(\"AUC for LogReg C=100: {:.3f}\".format(logreg100_auc))"
   ]
  },
  {
   "cell_type": "code",
   "execution_count": null,
   "metadata": {},
   "outputs": [],
   "source": []
  },
  {
   "cell_type": "code",
   "execution_count": null,
   "metadata": {},
   "outputs": [],
   "source": []
  }
 ],
 "metadata": {
  "kernelspec": {
   "display_name": "Python 3",
   "language": "python",
   "name": "python3"
  },
  "language_info": {
   "codemirror_mode": {
    "name": "ipython",
    "version": 3
   },
   "file_extension": ".py",
   "mimetype": "text/x-python",
   "name": "python",
   "nbconvert_exporter": "python",
   "pygments_lexer": "ipython3",
   "version": "3.7.3"
  }
 },
 "nbformat": 4,
 "nbformat_minor": 4
}
