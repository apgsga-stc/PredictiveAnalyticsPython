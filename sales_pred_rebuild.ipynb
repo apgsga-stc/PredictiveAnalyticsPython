{
 "cells": [
  {
   "cell_type": "markdown",
   "metadata": {},
   "source": [
    "# Load Modules"
   ]
  },
  {
   "cell_type": "code",
   "execution_count": 1,
   "metadata": {},
   "outputs": [],
   "source": [
    "import numpy as np\n",
    "import pandas as pd\n",
    "import matplotlib.pyplot as plt\n",
    "#matplotlib inline\n",
    "import sklearn"
   ]
  },
  {
   "cell_type": "markdown",
   "metadata": {},
   "source": [
    "# Import Data: tds == TDS == gv_FILE_OUT_TDS"
   ]
  },
  {
   "cell_type": "code",
   "execution_count": 2,
   "metadata": {},
   "outputs": [],
   "source": [
    "TDS = pd.read_csv(\"C:/Users/stc/Documents/notebooks/Verkaufsprognose Modeling/TDS.csv\", low_memory=False, sep=';')"
   ]
  },
  {
   "cell_type": "code",
   "execution_count": 3,
   "metadata": {},
   "outputs": [
    {
     "data": {
      "text/html": [
       "<div>\n",
       "<style scoped>\n",
       "    .dataframe tbody tr th:only-of-type {\n",
       "        vertical-align: middle;\n",
       "    }\n",
       "\n",
       "    .dataframe tbody tr th {\n",
       "        vertical-align: top;\n",
       "    }\n",
       "\n",
       "    .dataframe thead th {\n",
       "        text-align: right;\n",
       "    }\n",
       "</style>\n",
       "<table border=\"1\" class=\"dataframe\">\n",
       "  <thead>\n",
       "    <tr style=\"text-align: right;\">\n",
       "      <th></th>\n",
       "      <th>ENDKUNDE_NR</th>\n",
       "      <th>AJ</th>\n",
       "      <th>AJ_01</th>\n",
       "      <th>AJ_03</th>\n",
       "      <th>AJ_05</th>\n",
       "      <th>AJ_07</th>\n",
       "      <th>AJ_09</th>\n",
       "      <th>AJ_11</th>\n",
       "      <th>AJ_13</th>\n",
       "      <th>AJ_15</th>\n",
       "      <th>...</th>\n",
       "      <th>VVVJ_KONTAKT_L2_KW33</th>\n",
       "      <th>VVVJ_KONTAKT_L2_KW35</th>\n",
       "      <th>VVVJ_KONTAKT_L2_KW37</th>\n",
       "      <th>VVVJ_KONTAKT_L2_KW39</th>\n",
       "      <th>VVVJ_KONTAKT_L2_KW41</th>\n",
       "      <th>VVVJ_KONTAKT_L2_KW43</th>\n",
       "      <th>VVVJ_KONTAKT_L2_KW45</th>\n",
       "      <th>VVVJ_KONTAKT_L2_KW47</th>\n",
       "      <th>VVVJ_KONTAKT_L2_KW49</th>\n",
       "      <th>VVVJ_KONTAKT_L2_KW51</th>\n",
       "    </tr>\n",
       "  </thead>\n",
       "  <tbody>\n",
       "    <tr>\n",
       "      <th>count</th>\n",
       "      <td>39215.000000</td>\n",
       "      <td>39215.000000</td>\n",
       "      <td>2.289300e+04</td>\n",
       "      <td>22893.000000</td>\n",
       "      <td>22893.000000</td>\n",
       "      <td>2.289300e+04</td>\n",
       "      <td>2.289300e+04</td>\n",
       "      <td>2.289300e+04</td>\n",
       "      <td>2.289300e+04</td>\n",
       "      <td>2.289300e+04</td>\n",
       "      <td>...</td>\n",
       "      <td>20858.000000</td>\n",
       "      <td>20858.000000</td>\n",
       "      <td>20858.000000</td>\n",
       "      <td>20858.000000</td>\n",
       "      <td>20858.000000</td>\n",
       "      <td>20858.000000</td>\n",
       "      <td>20858.000000</td>\n",
       "      <td>20858.000000</td>\n",
       "      <td>20858.000000</td>\n",
       "      <td>20858.000000</td>\n",
       "    </tr>\n",
       "    <tr>\n",
       "      <th>mean</th>\n",
       "      <td>470178.383297</td>\n",
       "      <td>2017.648553</td>\n",
       "      <td>1.072982e+03</td>\n",
       "      <td>1221.907002</td>\n",
       "      <td>1531.508409</td>\n",
       "      <td>1.936007e+03</td>\n",
       "      <td>1.780914e+03</td>\n",
       "      <td>1.808229e+03</td>\n",
       "      <td>2.403786e+03</td>\n",
       "      <td>2.451937e+03</td>\n",
       "      <td>...</td>\n",
       "      <td>0.028239</td>\n",
       "      <td>0.027663</td>\n",
       "      <td>0.026848</td>\n",
       "      <td>0.031882</td>\n",
       "      <td>0.033800</td>\n",
       "      <td>0.032649</td>\n",
       "      <td>0.031738</td>\n",
       "      <td>0.029821</td>\n",
       "      <td>0.029054</td>\n",
       "      <td>0.026129</td>\n",
       "    </tr>\n",
       "    <tr>\n",
       "      <th>std</th>\n",
       "      <td>195650.696262</td>\n",
       "      <td>1.187913</td>\n",
       "      <td>1.612678e+04</td>\n",
       "      <td>15427.668264</td>\n",
       "      <td>17920.347896</td>\n",
       "      <td>3.108543e+04</td>\n",
       "      <td>2.132737e+04</td>\n",
       "      <td>3.276476e+04</td>\n",
       "      <td>4.473486e+04</td>\n",
       "      <td>2.932961e+04</td>\n",
       "      <td>...</td>\n",
       "      <td>0.165658</td>\n",
       "      <td>0.164010</td>\n",
       "      <td>0.161644</td>\n",
       "      <td>0.175691</td>\n",
       "      <td>0.180718</td>\n",
       "      <td>0.177721</td>\n",
       "      <td>0.175307</td>\n",
       "      <td>0.170096</td>\n",
       "      <td>0.167961</td>\n",
       "      <td>0.159523</td>\n",
       "    </tr>\n",
       "    <tr>\n",
       "      <th>min</th>\n",
       "      <td>100034.000000</td>\n",
       "      <td>2015.000000</td>\n",
       "      <td>0.000000e+00</td>\n",
       "      <td>0.000000</td>\n",
       "      <td>0.000000</td>\n",
       "      <td>0.000000e+00</td>\n",
       "      <td>0.000000e+00</td>\n",
       "      <td>0.000000e+00</td>\n",
       "      <td>0.000000e+00</td>\n",
       "      <td>0.000000e+00</td>\n",
       "      <td>...</td>\n",
       "      <td>0.000000</td>\n",
       "      <td>0.000000</td>\n",
       "      <td>0.000000</td>\n",
       "      <td>0.000000</td>\n",
       "      <td>0.000000</td>\n",
       "      <td>0.000000</td>\n",
       "      <td>0.000000</td>\n",
       "      <td>0.000000</td>\n",
       "      <td>0.000000</td>\n",
       "      <td>0.000000</td>\n",
       "    </tr>\n",
       "    <tr>\n",
       "      <th>25%</th>\n",
       "      <td>445080.000000</td>\n",
       "      <td>2017.000000</td>\n",
       "      <td>0.000000e+00</td>\n",
       "      <td>0.000000</td>\n",
       "      <td>0.000000</td>\n",
       "      <td>0.000000e+00</td>\n",
       "      <td>0.000000e+00</td>\n",
       "      <td>0.000000e+00</td>\n",
       "      <td>0.000000e+00</td>\n",
       "      <td>0.000000e+00</td>\n",
       "      <td>...</td>\n",
       "      <td>0.000000</td>\n",
       "      <td>0.000000</td>\n",
       "      <td>0.000000</td>\n",
       "      <td>0.000000</td>\n",
       "      <td>0.000000</td>\n",
       "      <td>0.000000</td>\n",
       "      <td>0.000000</td>\n",
       "      <td>0.000000</td>\n",
       "      <td>0.000000</td>\n",
       "      <td>0.000000</td>\n",
       "    </tr>\n",
       "    <tr>\n",
       "      <th>50%</th>\n",
       "      <td>564263.000000</td>\n",
       "      <td>2018.000000</td>\n",
       "      <td>0.000000e+00</td>\n",
       "      <td>0.000000</td>\n",
       "      <td>0.000000</td>\n",
       "      <td>0.000000e+00</td>\n",
       "      <td>0.000000e+00</td>\n",
       "      <td>0.000000e+00</td>\n",
       "      <td>0.000000e+00</td>\n",
       "      <td>0.000000e+00</td>\n",
       "      <td>...</td>\n",
       "      <td>0.000000</td>\n",
       "      <td>0.000000</td>\n",
       "      <td>0.000000</td>\n",
       "      <td>0.000000</td>\n",
       "      <td>0.000000</td>\n",
       "      <td>0.000000</td>\n",
       "      <td>0.000000</td>\n",
       "      <td>0.000000</td>\n",
       "      <td>0.000000</td>\n",
       "      <td>0.000000</td>\n",
       "    </tr>\n",
       "    <tr>\n",
       "      <th>75%</th>\n",
       "      <td>614083.500000</td>\n",
       "      <td>2019.000000</td>\n",
       "      <td>0.000000e+00</td>\n",
       "      <td>0.000000</td>\n",
       "      <td>0.000000</td>\n",
       "      <td>0.000000e+00</td>\n",
       "      <td>0.000000e+00</td>\n",
       "      <td>0.000000e+00</td>\n",
       "      <td>0.000000e+00</td>\n",
       "      <td>0.000000e+00</td>\n",
       "      <td>...</td>\n",
       "      <td>0.000000</td>\n",
       "      <td>0.000000</td>\n",
       "      <td>0.000000</td>\n",
       "      <td>0.000000</td>\n",
       "      <td>0.000000</td>\n",
       "      <td>0.000000</td>\n",
       "      <td>0.000000</td>\n",
       "      <td>0.000000</td>\n",
       "      <td>0.000000</td>\n",
       "      <td>0.000000</td>\n",
       "    </tr>\n",
       "    <tr>\n",
       "      <th>max</th>\n",
       "      <td>657233.000000</td>\n",
       "      <td>2019.000000</td>\n",
       "      <td>1.245157e+06</td>\n",
       "      <td>971153.000000</td>\n",
       "      <td>904361.000000</td>\n",
       "      <td>2.011256e+06</td>\n",
       "      <td>1.423671e+06</td>\n",
       "      <td>3.430133e+06</td>\n",
       "      <td>4.189469e+06</td>\n",
       "      <td>2.774594e+06</td>\n",
       "      <td>...</td>\n",
       "      <td>1.000000</td>\n",
       "      <td>1.000000</td>\n",
       "      <td>1.000000</td>\n",
       "      <td>1.000000</td>\n",
       "      <td>1.000000</td>\n",
       "      <td>1.000000</td>\n",
       "      <td>1.000000</td>\n",
       "      <td>1.000000</td>\n",
       "      <td>1.000000</td>\n",
       "      <td>1.000000</td>\n",
       "    </tr>\n",
       "  </tbody>\n",
       "</table>\n",
       "<p>8 rows × 441 columns</p>\n",
       "</div>"
      ],
      "text/plain": [
       "         ENDKUNDE_NR            AJ         AJ_01          AJ_03  \\\n",
       "count   39215.000000  39215.000000  2.289300e+04   22893.000000   \n",
       "mean   470178.383297   2017.648553  1.072982e+03    1221.907002   \n",
       "std    195650.696262      1.187913  1.612678e+04   15427.668264   \n",
       "min    100034.000000   2015.000000  0.000000e+00       0.000000   \n",
       "25%    445080.000000   2017.000000  0.000000e+00       0.000000   \n",
       "50%    564263.000000   2018.000000  0.000000e+00       0.000000   \n",
       "75%    614083.500000   2019.000000  0.000000e+00       0.000000   \n",
       "max    657233.000000   2019.000000  1.245157e+06  971153.000000   \n",
       "\n",
       "               AJ_05         AJ_07         AJ_09         AJ_11         AJ_13  \\\n",
       "count   22893.000000  2.289300e+04  2.289300e+04  2.289300e+04  2.289300e+04   \n",
       "mean     1531.508409  1.936007e+03  1.780914e+03  1.808229e+03  2.403786e+03   \n",
       "std     17920.347896  3.108543e+04  2.132737e+04  3.276476e+04  4.473486e+04   \n",
       "min         0.000000  0.000000e+00  0.000000e+00  0.000000e+00  0.000000e+00   \n",
       "25%         0.000000  0.000000e+00  0.000000e+00  0.000000e+00  0.000000e+00   \n",
       "50%         0.000000  0.000000e+00  0.000000e+00  0.000000e+00  0.000000e+00   \n",
       "75%         0.000000  0.000000e+00  0.000000e+00  0.000000e+00  0.000000e+00   \n",
       "max    904361.000000  2.011256e+06  1.423671e+06  3.430133e+06  4.189469e+06   \n",
       "\n",
       "              AJ_15  ...  VVVJ_KONTAKT_L2_KW33  VVVJ_KONTAKT_L2_KW35  \\\n",
       "count  2.289300e+04  ...          20858.000000          20858.000000   \n",
       "mean   2.451937e+03  ...              0.028239              0.027663   \n",
       "std    2.932961e+04  ...              0.165658              0.164010   \n",
       "min    0.000000e+00  ...              0.000000              0.000000   \n",
       "25%    0.000000e+00  ...              0.000000              0.000000   \n",
       "50%    0.000000e+00  ...              0.000000              0.000000   \n",
       "75%    0.000000e+00  ...              0.000000              0.000000   \n",
       "max    2.774594e+06  ...              1.000000              1.000000   \n",
       "\n",
       "       VVVJ_KONTAKT_L2_KW37  VVVJ_KONTAKT_L2_KW39  VVVJ_KONTAKT_L2_KW41  \\\n",
       "count          20858.000000          20858.000000          20858.000000   \n",
       "mean               0.026848              0.031882              0.033800   \n",
       "std                0.161644              0.175691              0.180718   \n",
       "min                0.000000              0.000000              0.000000   \n",
       "25%                0.000000              0.000000              0.000000   \n",
       "50%                0.000000              0.000000              0.000000   \n",
       "75%                0.000000              0.000000              0.000000   \n",
       "max                1.000000              1.000000              1.000000   \n",
       "\n",
       "       VVVJ_KONTAKT_L2_KW43  VVVJ_KONTAKT_L2_KW45  VVVJ_KONTAKT_L2_KW47  \\\n",
       "count          20858.000000          20858.000000          20858.000000   \n",
       "mean               0.032649              0.031738              0.029821   \n",
       "std                0.177721              0.175307              0.170096   \n",
       "min                0.000000              0.000000              0.000000   \n",
       "25%                0.000000              0.000000              0.000000   \n",
       "50%                0.000000              0.000000              0.000000   \n",
       "75%                0.000000              0.000000              0.000000   \n",
       "max                1.000000              1.000000              1.000000   \n",
       "\n",
       "       VVVJ_KONTAKT_L2_KW49  VVVJ_KONTAKT_L2_KW51  \n",
       "count          20858.000000          20858.000000  \n",
       "mean               0.029054              0.026129  \n",
       "std                0.167961              0.159523  \n",
       "min                0.000000              0.000000  \n",
       "25%                0.000000              0.000000  \n",
       "50%                0.000000              0.000000  \n",
       "75%                0.000000              0.000000  \n",
       "max                1.000000              1.000000  \n",
       "\n",
       "[8 rows x 441 columns]"
      ]
     },
     "execution_count": 3,
     "metadata": {},
     "output_type": "execute_result"
    }
   ],
   "source": [
    "TDS.describe()"
   ]
  },
  {
   "cell_type": "code",
   "execution_count": 4,
   "metadata": {},
   "outputs": [
    {
     "data": {
      "text/html": [
       "<div>\n",
       "<style scoped>\n",
       "    .dataframe tbody tr th:only-of-type {\n",
       "        vertical-align: middle;\n",
       "    }\n",
       "\n",
       "    .dataframe tbody tr th {\n",
       "        vertical-align: top;\n",
       "    }\n",
       "\n",
       "    .dataframe thead th {\n",
       "        text-align: right;\n",
       "    }\n",
       "</style>\n",
       "<table border=\"1\" class=\"dataframe\">\n",
       "  <thead>\n",
       "    <tr style=\"text-align: right;\">\n",
       "      <th></th>\n",
       "      <th>ENDKUNDE_NR</th>\n",
       "      <th>AJ</th>\n",
       "      <th>AJ_01</th>\n",
       "      <th>AJ_03</th>\n",
       "      <th>AJ_05</th>\n",
       "      <th>AJ_07</th>\n",
       "      <th>AJ_09</th>\n",
       "      <th>AJ_11</th>\n",
       "      <th>AJ_13</th>\n",
       "      <th>AJ_15</th>\n",
       "      <th>...</th>\n",
       "      <th>VVVJ_KONTAKT_L2_KW33</th>\n",
       "      <th>VVVJ_KONTAKT_L2_KW35</th>\n",
       "      <th>VVVJ_KONTAKT_L2_KW37</th>\n",
       "      <th>VVVJ_KONTAKT_L2_KW39</th>\n",
       "      <th>VVVJ_KONTAKT_L2_KW41</th>\n",
       "      <th>VVVJ_KONTAKT_L2_KW43</th>\n",
       "      <th>VVVJ_KONTAKT_L2_KW45</th>\n",
       "      <th>VVVJ_KONTAKT_L2_KW47</th>\n",
       "      <th>VVVJ_KONTAKT_L2_KW49</th>\n",
       "      <th>VVVJ_KONTAKT_L2_KW51</th>\n",
       "    </tr>\n",
       "  </thead>\n",
       "  <tbody>\n",
       "    <tr>\n",
       "      <th>0</th>\n",
       "      <td>100034</td>\n",
       "      <td>2016</td>\n",
       "      <td>0.0</td>\n",
       "      <td>20909.0</td>\n",
       "      <td>0.0</td>\n",
       "      <td>0.0</td>\n",
       "      <td>0.0</td>\n",
       "      <td>0.0</td>\n",
       "      <td>0.0</td>\n",
       "      <td>0.0</td>\n",
       "      <td>...</td>\n",
       "      <td>0.0</td>\n",
       "      <td>1.0</td>\n",
       "      <td>0.0</td>\n",
       "      <td>1.0</td>\n",
       "      <td>0.0</td>\n",
       "      <td>1.0</td>\n",
       "      <td>1.0</td>\n",
       "      <td>1.0</td>\n",
       "      <td>0.0</td>\n",
       "      <td>0.0</td>\n",
       "    </tr>\n",
       "    <tr>\n",
       "      <th>1</th>\n",
       "      <td>100034</td>\n",
       "      <td>2017</td>\n",
       "      <td>0.0</td>\n",
       "      <td>0.0</td>\n",
       "      <td>7897.0</td>\n",
       "      <td>0.0</td>\n",
       "      <td>0.0</td>\n",
       "      <td>0.0</td>\n",
       "      <td>0.0</td>\n",
       "      <td>0.0</td>\n",
       "      <td>...</td>\n",
       "      <td>0.0</td>\n",
       "      <td>0.0</td>\n",
       "      <td>0.0</td>\n",
       "      <td>0.0</td>\n",
       "      <td>0.0</td>\n",
       "      <td>0.0</td>\n",
       "      <td>0.0</td>\n",
       "      <td>0.0</td>\n",
       "      <td>0.0</td>\n",
       "      <td>0.0</td>\n",
       "    </tr>\n",
       "    <tr>\n",
       "      <th>2</th>\n",
       "      <td>100034</td>\n",
       "      <td>2018</td>\n",
       "      <td>0.0</td>\n",
       "      <td>0.0</td>\n",
       "      <td>3963.0</td>\n",
       "      <td>0.0</td>\n",
       "      <td>0.0</td>\n",
       "      <td>0.0</td>\n",
       "      <td>0.0</td>\n",
       "      <td>0.0</td>\n",
       "      <td>...</td>\n",
       "      <td>0.0</td>\n",
       "      <td>0.0</td>\n",
       "      <td>0.0</td>\n",
       "      <td>0.0</td>\n",
       "      <td>0.0</td>\n",
       "      <td>1.0</td>\n",
       "      <td>0.0</td>\n",
       "      <td>0.0</td>\n",
       "      <td>0.0</td>\n",
       "      <td>0.0</td>\n",
       "    </tr>\n",
       "    <tr>\n",
       "      <th>3</th>\n",
       "      <td>100034</td>\n",
       "      <td>2019</td>\n",
       "      <td>0.0</td>\n",
       "      <td>0.0</td>\n",
       "      <td>0.0</td>\n",
       "      <td>0.0</td>\n",
       "      <td>0.0</td>\n",
       "      <td>0.0</td>\n",
       "      <td>0.0</td>\n",
       "      <td>0.0</td>\n",
       "      <td>...</td>\n",
       "      <td>0.0</td>\n",
       "      <td>0.0</td>\n",
       "      <td>1.0</td>\n",
       "      <td>1.0</td>\n",
       "      <td>0.0</td>\n",
       "      <td>0.0</td>\n",
       "      <td>0.0</td>\n",
       "      <td>1.0</td>\n",
       "      <td>0.0</td>\n",
       "      <td>1.0</td>\n",
       "    </tr>\n",
       "    <tr>\n",
       "      <th>4</th>\n",
       "      <td>100039</td>\n",
       "      <td>2015</td>\n",
       "      <td>0.0</td>\n",
       "      <td>0.0</td>\n",
       "      <td>0.0</td>\n",
       "      <td>0.0</td>\n",
       "      <td>0.0</td>\n",
       "      <td>0.0</td>\n",
       "      <td>0.0</td>\n",
       "      <td>0.0</td>\n",
       "      <td>...</td>\n",
       "      <td>0.0</td>\n",
       "      <td>0.0</td>\n",
       "      <td>0.0</td>\n",
       "      <td>0.0</td>\n",
       "      <td>0.0</td>\n",
       "      <td>0.0</td>\n",
       "      <td>0.0</td>\n",
       "      <td>0.0</td>\n",
       "      <td>0.0</td>\n",
       "      <td>0.0</td>\n",
       "    </tr>\n",
       "  </tbody>\n",
       "</table>\n",
       "<p>5 rows × 441 columns</p>\n",
       "</div>"
      ],
      "text/plain": [
       "   ENDKUNDE_NR    AJ  AJ_01    AJ_03   AJ_05  AJ_07  AJ_09  AJ_11  AJ_13  \\\n",
       "0       100034  2016    0.0  20909.0     0.0    0.0    0.0    0.0    0.0   \n",
       "1       100034  2017    0.0      0.0  7897.0    0.0    0.0    0.0    0.0   \n",
       "2       100034  2018    0.0      0.0  3963.0    0.0    0.0    0.0    0.0   \n",
       "3       100034  2019    0.0      0.0     0.0    0.0    0.0    0.0    0.0   \n",
       "4       100039  2015    0.0      0.0     0.0    0.0    0.0    0.0    0.0   \n",
       "\n",
       "   AJ_15  ...  VVVJ_KONTAKT_L2_KW33  VVVJ_KONTAKT_L2_KW35  \\\n",
       "0    0.0  ...                   0.0                   1.0   \n",
       "1    0.0  ...                   0.0                   0.0   \n",
       "2    0.0  ...                   0.0                   0.0   \n",
       "3    0.0  ...                   0.0                   0.0   \n",
       "4    0.0  ...                   0.0                   0.0   \n",
       "\n",
       "   VVVJ_KONTAKT_L2_KW37  VVVJ_KONTAKT_L2_KW39  VVVJ_KONTAKT_L2_KW41  \\\n",
       "0                   0.0                   1.0                   0.0   \n",
       "1                   0.0                   0.0                   0.0   \n",
       "2                   0.0                   0.0                   0.0   \n",
       "3                   1.0                   1.0                   0.0   \n",
       "4                   0.0                   0.0                   0.0   \n",
       "\n",
       "   VVVJ_KONTAKT_L2_KW43  VVVJ_KONTAKT_L2_KW45  VVVJ_KONTAKT_L2_KW47  \\\n",
       "0                   1.0                   1.0                   1.0   \n",
       "1                   0.0                   0.0                   0.0   \n",
       "2                   1.0                   0.0                   0.0   \n",
       "3                   0.0                   0.0                   1.0   \n",
       "4                   0.0                   0.0                   0.0   \n",
       "\n",
       "   VVVJ_KONTAKT_L2_KW49  VVVJ_KONTAKT_L2_KW51  \n",
       "0                   0.0                   0.0  \n",
       "1                   0.0                   0.0  \n",
       "2                   0.0                   0.0  \n",
       "3                   0.0                   1.0  \n",
       "4                   0.0                   0.0  \n",
       "\n",
       "[5 rows x 441 columns]"
      ]
     },
     "execution_count": 4,
     "metadata": {},
     "output_type": "execute_result"
    }
   ],
   "source": [
    "TDS.head(5)\n",
    "#TDS.info()"
   ]
  },
  {
   "cell_type": "markdown",
   "metadata": {},
   "source": [
    "# Training & Vorhersage"
   ]
  },
  {
   "cell_type": "markdown",
   "metadata": {},
   "source": [
    "## Merkmal- und Prediktor-Spalten festlegen"
   ]
  },
  {
   "cell_type": "markdown",
   "metadata": {},
   "source": [
    "Originale erhalten für Vorhersage"
   ]
  },
  {
   "cell_type": "code",
   "execution_count": 5,
   "metadata": {},
   "outputs": [
    {
     "data": {
      "text/plain": [
       "Index(['ENDKUNDE_NR', 'AJ', 'AJ_01', 'AJ_03', 'AJ_05', 'AJ_07', 'AJ_09',\n",
       "       'AJ_11', 'AJ_13', 'AJ_15',\n",
       "       ...\n",
       "       'VVVJ_KONTAKT_L2_KW33', 'VVVJ_KONTAKT_L2_KW35', 'VVVJ_KONTAKT_L2_KW37',\n",
       "       'VVVJ_KONTAKT_L2_KW39', 'VVVJ_KONTAKT_L2_KW41', 'VVVJ_KONTAKT_L2_KW43',\n",
       "       'VVVJ_KONTAKT_L2_KW45', 'VVVJ_KONTAKT_L2_KW47', 'VVVJ_KONTAKT_L2_KW49',\n",
       "       'VVVJ_KONTAKT_L2_KW51'],\n",
       "      dtype='object', length=441)"
      ]
     },
     "execution_count": 5,
     "metadata": {},
     "output_type": "execute_result"
    }
   ],
   "source": [
    "TDS.keys()"
   ]
  },
  {
   "cell_type": "code",
   "execution_count": 6,
   "metadata": {},
   "outputs": [],
   "source": [
    "gv_AJAW_KW = 29 # aktuelle Kalenderwoche, basierend auf gv_AJAW = Datum an dem das Script lief, 15.07.2019"
   ]
  },
  {
   "cell_type": "code",
   "execution_count": 7,
   "metadata": {},
   "outputs": [],
   "source": [
    "feature_columns   = [] # Features/Merkmale\n",
    "predictor_columns = [] # Predictores/Targets\n",
    "leftover_columns  = [] # Leftover\n",
    "for col_name in TDS.keys():\n",
    "    if (col_name.startswith(\"VJ\")  | # Umsatz Vorjahr\n",
    "        col_name.startswith(\"VVJ\") |\n",
    "        col_name.startswith(\"VVVJ\")|\n",
    "        col_name.startswith(\"B\")   ):\n",
    "        feature_columns.append(col_name)\n",
    "    elif (col_name.startswith(\"AJ_\") and len(col_name) < 6)  :\n",
    "        predictor_columns.append(col_name)\n",
    "    else:\n",
    "        leftover_columns.append(col_name)\n",
    "\n",
    "    "
   ]
  },
  {
   "cell_type": "markdown",
   "metadata": {},
   "source": [
    "Exclude ``VJ_KONTAKT_L1_KW29``:"
   ]
  },
  {
   "cell_type": "code",
   "execution_count": 8,
   "metadata": {},
   "outputs": [],
   "source": [
    "feature_columns.remove(\"VJ_KONTAKT_L1_KW29\")\n",
    "#feature_columns.remove(\"VJNet\")\n",
    "feature_columns.sort()"
   ]
  },
  {
   "cell_type": "markdown",
   "metadata": {},
   "source": [
    "## Split tds in Test und Train"
   ]
  },
  {
   "cell_type": "code",
   "execution_count": 9,
   "metadata": {},
   "outputs": [],
   "source": [
    "df_features = TDS.fillna(0).loc[:,feature_columns].to_numpy() # cancer.data\n",
    "df_targets  = TDS.fillna(0).loc[:,predictor_columns].to_numpy() # cancer.target"
   ]
  },
  {
   "cell_type": "code",
   "execution_count": 10,
   "metadata": {},
   "outputs": [],
   "source": [
    "from sklearn.model_selection import train_test_split"
   ]
  },
  {
   "cell_type": "code",
   "execution_count": 11,
   "metadata": {},
   "outputs": [],
   "source": [
    "X_train, X_test, y_train, y_test = train_test_split(\n",
    "    df_features, df_targets, test_size=0.20, random_state=42)"
   ]
  },
  {
   "cell_type": "markdown",
   "metadata": {},
   "source": [
    "Describe loaded data:"
   ]
  },
  {
   "cell_type": "code",
   "execution_count": 12,
   "metadata": {},
   "outputs": [
    {
     "name": "stdout",
     "output_type": "stream",
     "text": [
      "X_train shape: (31372, 349)\n",
      "y_train shape: (31372, 26)\n",
      "Feature names:\n",
      " ['B105', 'B110', 'B115', 'B116', 'B120', 'B125', 'B130', 'B135', 'B140', 'B145', 'B150', 'B155', 'B160', 'B165', 'B170', 'B185', 'B195', 'B225', 'B230', 'B240', 'B241', 'B290', 'B295', 'B325', 'B330', 'B332', 'B334', 'B339', 'B349', 'B350', 'B351', 'B352', 'B353', 'B354', 'B356', 'B357', 'B366', 'B367', 'B371', 'B390', 'B400', 'B401', 'B405', 'B410', 'B420', 'B425', 'B435', 'B436', 'B445', 'B446', 'B447', 'B448', 'B455', 'B460', 'B464', 'B465', 'B466', 'B468', 'B469', 'B470', 'B475', 'B503', 'B504', 'B508', 'B509', 'B535', 'B555', 'B556', 'B575', 'B610', 'B695', 'B705', 'B720', 'B765', 'B780', 'B795', 'B800', 'B901', 'B950', 'B960', 'B970', 'B980', 'B990', 'VJNet', 'VJ_01', 'VJ_03', 'VJ_05', 'VJ_07', 'VJ_09', 'VJ_11', 'VJ_13', 'VJ_15', 'VJ_17', 'VJ_19', 'VJ_21', 'VJ_23', 'VJ_25', 'VJ_27', 'VJ_29', 'VJ_31', 'VJ_33', 'VJ_35', 'VJ_37', 'VJ_39', 'VJ_41', 'VJ_43', 'VJ_45', 'VJ_47', 'VJ_49', 'VJ_51', 'VJ_KONTAKT_L1_KW01', 'VJ_KONTAKT_L1_KW03', 'VJ_KONTAKT_L1_KW05', 'VJ_KONTAKT_L1_KW07', 'VJ_KONTAKT_L1_KW09', 'VJ_KONTAKT_L1_KW11', 'VJ_KONTAKT_L1_KW13', 'VJ_KONTAKT_L1_KW15', 'VJ_KONTAKT_L1_KW17', 'VJ_KONTAKT_L1_KW19', 'VJ_KONTAKT_L1_KW21', 'VJ_KONTAKT_L1_KW23', 'VJ_KONTAKT_L1_KW25', 'VJ_KONTAKT_L1_KW27', 'VJ_KONTAKT_L1_KW31', 'VJ_KONTAKT_L1_KW33', 'VJ_KONTAKT_L1_KW35', 'VJ_KONTAKT_L1_KW37', 'VJ_KONTAKT_L1_KW39', 'VJ_KONTAKT_L1_KW41', 'VJ_KONTAKT_L1_KW43', 'VJ_KONTAKT_L1_KW45', 'VJ_KONTAKT_L1_KW47', 'VJ_KONTAKT_L1_KW49', 'VJ_KONTAKT_L1_KW51', 'VJ_KONTAKT_L2_KW01', 'VJ_KONTAKT_L2_KW03', 'VJ_KONTAKT_L2_KW05', 'VJ_KONTAKT_L2_KW07', 'VJ_KONTAKT_L2_KW09', 'VJ_KONTAKT_L2_KW11', 'VJ_KONTAKT_L2_KW13', 'VJ_KONTAKT_L2_KW15', 'VJ_KONTAKT_L2_KW17', 'VJ_KONTAKT_L2_KW19', 'VJ_KONTAKT_L2_KW21', 'VJ_KONTAKT_L2_KW23', 'VJ_KONTAKT_L2_KW25', 'VJ_KONTAKT_L2_KW27', 'VJ_KONTAKT_L2_KW29', 'VJ_KONTAKT_L2_KW31', 'VJ_KONTAKT_L2_KW33', 'VJ_KONTAKT_L2_KW35', 'VJ_KONTAKT_L2_KW37', 'VJ_KONTAKT_L2_KW39', 'VJ_KONTAKT_L2_KW41', 'VJ_KONTAKT_L2_KW43', 'VJ_KONTAKT_L2_KW45', 'VJ_KONTAKT_L2_KW47', 'VJ_KONTAKT_L2_KW49', 'VJ_KONTAKT_L2_KW51', 'VJ_NETKAT_01', 'VJ_NETKAT_02', 'VJ_NETKAT_03', 'VJ_NETKAT_04', 'VJ_NETKAT_05', 'VJ_NETKAT_06', 'VJ_NETKAT_07', 'VJ_NETKAT_08', 'VJ_NETKAT_09', 'VJ_NETKAT_10', 'VVJNet', 'VVJ_01', 'VVJ_03', 'VVJ_05', 'VVJ_07', 'VVJ_09', 'VVJ_11', 'VVJ_13', 'VVJ_15', 'VVJ_17', 'VVJ_19', 'VVJ_21', 'VVJ_23', 'VVJ_25', 'VVJ_27', 'VVJ_29', 'VVJ_31', 'VVJ_33', 'VVJ_35', 'VVJ_37', 'VVJ_39', 'VVJ_41', 'VVJ_43', 'VVJ_45', 'VVJ_47', 'VVJ_49', 'VVJ_51', 'VVJ_KONTAKT_L1_KW01', 'VVJ_KONTAKT_L1_KW03', 'VVJ_KONTAKT_L1_KW05', 'VVJ_KONTAKT_L1_KW07', 'VVJ_KONTAKT_L1_KW09', 'VVJ_KONTAKT_L1_KW11', 'VVJ_KONTAKT_L1_KW13', 'VVJ_KONTAKT_L1_KW15', 'VVJ_KONTAKT_L1_KW17', 'VVJ_KONTAKT_L1_KW19', 'VVJ_KONTAKT_L1_KW21', 'VVJ_KONTAKT_L1_KW23', 'VVJ_KONTAKT_L1_KW25', 'VVJ_KONTAKT_L1_KW27', 'VVJ_KONTAKT_L1_KW29', 'VVJ_KONTAKT_L1_KW31', 'VVJ_KONTAKT_L1_KW33', 'VVJ_KONTAKT_L1_KW35', 'VVJ_KONTAKT_L1_KW37', 'VVJ_KONTAKT_L1_KW39', 'VVJ_KONTAKT_L1_KW41', 'VVJ_KONTAKT_L1_KW43', 'VVJ_KONTAKT_L1_KW45', 'VVJ_KONTAKT_L1_KW47', 'VVJ_KONTAKT_L1_KW49', 'VVJ_KONTAKT_L1_KW51', 'VVJ_KONTAKT_L2_KW01', 'VVJ_KONTAKT_L2_KW03', 'VVJ_KONTAKT_L2_KW05', 'VVJ_KONTAKT_L2_KW07', 'VVJ_KONTAKT_L2_KW09', 'VVJ_KONTAKT_L2_KW11', 'VVJ_KONTAKT_L2_KW13', 'VVJ_KONTAKT_L2_KW15', 'VVJ_KONTAKT_L2_KW17', 'VVJ_KONTAKT_L2_KW19', 'VVJ_KONTAKT_L2_KW21', 'VVJ_KONTAKT_L2_KW23', 'VVJ_KONTAKT_L2_KW25', 'VVJ_KONTAKT_L2_KW27', 'VVJ_KONTAKT_L2_KW29', 'VVJ_KONTAKT_L2_KW31', 'VVJ_KONTAKT_L2_KW33', 'VVJ_KONTAKT_L2_KW35', 'VVJ_KONTAKT_L2_KW37', 'VVJ_KONTAKT_L2_KW39', 'VVJ_KONTAKT_L2_KW41', 'VVJ_KONTAKT_L2_KW43', 'VVJ_KONTAKT_L2_KW45', 'VVJ_KONTAKT_L2_KW47', 'VVJ_KONTAKT_L2_KW49', 'VVJ_KONTAKT_L2_KW51', 'VVJ_NETKAT_01', 'VVJ_NETKAT_02', 'VVJ_NETKAT_03', 'VVJ_NETKAT_04', 'VVJ_NETKAT_05', 'VVJ_NETKAT_06', 'VVJ_NETKAT_07', 'VVJ_NETKAT_08', 'VVJ_NETKAT_09', 'VVJ_NETKAT_10', 'VVVJNet', 'VVVJ_01', 'VVVJ_03', 'VVVJ_05', 'VVVJ_07', 'VVVJ_09', 'VVVJ_11', 'VVVJ_13', 'VVVJ_15', 'VVVJ_17', 'VVVJ_19', 'VVVJ_21', 'VVVJ_23', 'VVVJ_25', 'VVVJ_27', 'VVVJ_29', 'VVVJ_31', 'VVVJ_33', 'VVVJ_35', 'VVVJ_37', 'VVVJ_39', 'VVVJ_41', 'VVVJ_43', 'VVVJ_45', 'VVVJ_47', 'VVVJ_49', 'VVVJ_51', 'VVVJ_KONTAKT_L1_KW01', 'VVVJ_KONTAKT_L1_KW03', 'VVVJ_KONTAKT_L1_KW05', 'VVVJ_KONTAKT_L1_KW07', 'VVVJ_KONTAKT_L1_KW09', 'VVVJ_KONTAKT_L1_KW11', 'VVVJ_KONTAKT_L1_KW13', 'VVVJ_KONTAKT_L1_KW15', 'VVVJ_KONTAKT_L1_KW17', 'VVVJ_KONTAKT_L1_KW19', 'VVVJ_KONTAKT_L1_KW21', 'VVVJ_KONTAKT_L1_KW23', 'VVVJ_KONTAKT_L1_KW25', 'VVVJ_KONTAKT_L1_KW27', 'VVVJ_KONTAKT_L1_KW29', 'VVVJ_KONTAKT_L1_KW31', 'VVVJ_KONTAKT_L1_KW33', 'VVVJ_KONTAKT_L1_KW35', 'VVVJ_KONTAKT_L1_KW37', 'VVVJ_KONTAKT_L1_KW39', 'VVVJ_KONTAKT_L1_KW41', 'VVVJ_KONTAKT_L1_KW43', 'VVVJ_KONTAKT_L1_KW45', 'VVVJ_KONTAKT_L1_KW47', 'VVVJ_KONTAKT_L1_KW49', 'VVVJ_KONTAKT_L1_KW51', 'VVVJ_KONTAKT_L2_KW01', 'VVVJ_KONTAKT_L2_KW03', 'VVVJ_KONTAKT_L2_KW05', 'VVVJ_KONTAKT_L2_KW07', 'VVVJ_KONTAKT_L2_KW09', 'VVVJ_KONTAKT_L2_KW11', 'VVVJ_KONTAKT_L2_KW13', 'VVVJ_KONTAKT_L2_KW15', 'VVVJ_KONTAKT_L2_KW17', 'VVVJ_KONTAKT_L2_KW19', 'VVVJ_KONTAKT_L2_KW21', 'VVVJ_KONTAKT_L2_KW23', 'VVVJ_KONTAKT_L2_KW25', 'VVVJ_KONTAKT_L2_KW27', 'VVVJ_KONTAKT_L2_KW29', 'VVVJ_KONTAKT_L2_KW31', 'VVVJ_KONTAKT_L2_KW33', 'VVVJ_KONTAKT_L2_KW35', 'VVVJ_KONTAKT_L2_KW37', 'VVVJ_KONTAKT_L2_KW39', 'VVVJ_KONTAKT_L2_KW41', 'VVVJ_KONTAKT_L2_KW43', 'VVVJ_KONTAKT_L2_KW45', 'VVVJ_KONTAKT_L2_KW47', 'VVVJ_KONTAKT_L2_KW49', 'VVVJ_KONTAKT_L2_KW51', 'VVVJ_NETKAT_01', 'VVVJ_NETKAT_02', 'VVVJ_NETKAT_03', 'VVVJ_NETKAT_04', 'VVVJ_NETKAT_05', 'VVVJ_NETKAT_06', 'VVVJ_NETKAT_07', 'VVVJ_NETKAT_08', 'VVVJ_NETKAT_09', 'VVVJ_NETKAT_10']\n",
      "Target names: ['AJ_01', 'AJ_03', 'AJ_05', 'AJ_07', 'AJ_09', 'AJ_11', 'AJ_13', 'AJ_15', 'AJ_17', 'AJ_19', 'AJ_21', 'AJ_23', 'AJ_25', 'AJ_27', 'AJ_29', 'AJ_31', 'AJ_33', 'AJ_35', 'AJ_37', 'AJ_39', 'AJ_41', 'AJ_43', 'AJ_45', 'AJ_47', 'AJ_49', 'AJ_51']\n"
     ]
    }
   ],
   "source": [
    "print(\"X_train shape:\", X_train.shape)\n",
    "print(\"y_train shape:\", y_train.shape)\n",
    "print(\"Feature names:\\n\", feature_columns)\n",
    "print(\"Target names:\", predictor_columns)"
   ]
  },
  {
   "cell_type": "markdown",
   "metadata": {},
   "source": [
    "## Train data: LogReg with C=1 (default)"
   ]
  },
  {
   "cell_type": "code",
   "execution_count": 13,
   "metadata": {},
   "outputs": [
    {
     "data": {
      "text/plain": [
       "array([0., 0., 0., ..., 0., 0., 0.])"
      ]
     },
     "execution_count": 13,
     "metadata": {},
     "output_type": "execute_result"
    }
   ],
   "source": [
    "y_train[:,25]"
   ]
  },
  {
   "cell_type": "code",
   "execution_count": 14,
   "metadata": {},
   "outputs": [
    {
     "data": {
      "text/plain": [
       "'AJ_03'"
      ]
     },
     "execution_count": 14,
     "metadata": {},
     "output_type": "execute_result"
    }
   ],
   "source": [
    "predictor_columns[1]"
   ]
  },
  {
   "cell_type": "code",
   "execution_count": 15,
   "metadata": {},
   "outputs": [],
   "source": [
    "from sklearn.linear_model    import LogisticRegression\n",
    "import time"
   ]
  },
  {
   "cell_type": "code",
   "execution_count": 16,
   "metadata": {},
   "outputs": [
    {
     "name": "stderr",
     "output_type": "stream",
     "text": [
      "C:\\ProgramData\\Anaconda3\\lib\\site-packages\\sklearn\\linear_model\\logistic.py:469: FutureWarning: Default multi_class will be changed to 'auto' in 0.22. Specify the multi_class option to silence this warning.\n",
      "  \"this warning.\", FutureWarning)\n",
      "C:\\ProgramData\\Anaconda3\\lib\\site-packages\\sklearn\\linear_model\\sag.py:337: ConvergenceWarning: The max_iter was reached which means the coef_ did not converge\n",
      "  \"the coef_ did not converge\", ConvergenceWarning)\n",
      "C:\\ProgramData\\Anaconda3\\lib\\site-packages\\sklearn\\linear_model\\logistic.py:469: FutureWarning: Default multi_class will be changed to 'auto' in 0.22. Specify the multi_class option to silence this warning.\n",
      "  \"this warning.\", FutureWarning)\n",
      "C:\\ProgramData\\Anaconda3\\lib\\site-packages\\sklearn\\linear_model\\sag.py:337: ConvergenceWarning: The max_iter was reached which means the coef_ did not converge\n",
      "  \"the coef_ did not converge\", ConvergenceWarning)\n",
      "C:\\ProgramData\\Anaconda3\\lib\\site-packages\\sklearn\\linear_model\\logistic.py:469: FutureWarning: Default multi_class will be changed to 'auto' in 0.22. Specify the multi_class option to silence this warning.\n",
      "  \"this warning.\", FutureWarning)\n",
      "C:\\ProgramData\\Anaconda3\\lib\\site-packages\\sklearn\\linear_model\\sag.py:337: ConvergenceWarning: The max_iter was reached which means the coef_ did not converge\n",
      "  \"the coef_ did not converge\", ConvergenceWarning)\n",
      "C:\\ProgramData\\Anaconda3\\lib\\site-packages\\sklearn\\linear_model\\logistic.py:469: FutureWarning: Default multi_class will be changed to 'auto' in 0.22. Specify the multi_class option to silence this warning.\n",
      "  \"this warning.\", FutureWarning)\n",
      "C:\\ProgramData\\Anaconda3\\lib\\site-packages\\sklearn\\linear_model\\sag.py:337: ConvergenceWarning: The max_iter was reached which means the coef_ did not converge\n",
      "  \"the coef_ did not converge\", ConvergenceWarning)\n",
      "C:\\ProgramData\\Anaconda3\\lib\\site-packages\\sklearn\\linear_model\\logistic.py:469: FutureWarning: Default multi_class will be changed to 'auto' in 0.22. Specify the multi_class option to silence this warning.\n",
      "  \"this warning.\", FutureWarning)\n",
      "C:\\ProgramData\\Anaconda3\\lib\\site-packages\\sklearn\\linear_model\\sag.py:337: ConvergenceWarning: The max_iter was reached which means the coef_ did not converge\n",
      "  \"the coef_ did not converge\", ConvergenceWarning)\n",
      "C:\\ProgramData\\Anaconda3\\lib\\site-packages\\sklearn\\linear_model\\logistic.py:469: FutureWarning: Default multi_class will be changed to 'auto' in 0.22. Specify the multi_class option to silence this warning.\n",
      "  \"this warning.\", FutureWarning)\n",
      "C:\\ProgramData\\Anaconda3\\lib\\site-packages\\sklearn\\linear_model\\sag.py:337: ConvergenceWarning: The max_iter was reached which means the coef_ did not converge\n",
      "  \"the coef_ did not converge\", ConvergenceWarning)\n",
      "C:\\ProgramData\\Anaconda3\\lib\\site-packages\\sklearn\\linear_model\\logistic.py:469: FutureWarning: Default multi_class will be changed to 'auto' in 0.22. Specify the multi_class option to silence this warning.\n",
      "  \"this warning.\", FutureWarning)\n",
      "C:\\ProgramData\\Anaconda3\\lib\\site-packages\\sklearn\\linear_model\\sag.py:337: ConvergenceWarning: The max_iter was reached which means the coef_ did not converge\n",
      "  \"the coef_ did not converge\", ConvergenceWarning)\n",
      "C:\\ProgramData\\Anaconda3\\lib\\site-packages\\sklearn\\linear_model\\logistic.py:469: FutureWarning: Default multi_class will be changed to 'auto' in 0.22. Specify the multi_class option to silence this warning.\n",
      "  \"this warning.\", FutureWarning)\n",
      "C:\\ProgramData\\Anaconda3\\lib\\site-packages\\sklearn\\linear_model\\sag.py:337: ConvergenceWarning: The max_iter was reached which means the coef_ did not converge\n",
      "  \"the coef_ did not converge\", ConvergenceWarning)\n",
      "C:\\ProgramData\\Anaconda3\\lib\\site-packages\\sklearn\\linear_model\\logistic.py:469: FutureWarning: Default multi_class will be changed to 'auto' in 0.22. Specify the multi_class option to silence this warning.\n",
      "  \"this warning.\", FutureWarning)\n",
      "C:\\ProgramData\\Anaconda3\\lib\\site-packages\\sklearn\\linear_model\\sag.py:337: ConvergenceWarning: The max_iter was reached which means the coef_ did not converge\n",
      "  \"the coef_ did not converge\", ConvergenceWarning)\n",
      "C:\\ProgramData\\Anaconda3\\lib\\site-packages\\sklearn\\linear_model\\logistic.py:469: FutureWarning: Default multi_class will be changed to 'auto' in 0.22. Specify the multi_class option to silence this warning.\n",
      "  \"this warning.\", FutureWarning)\n",
      "C:\\ProgramData\\Anaconda3\\lib\\site-packages\\sklearn\\linear_model\\sag.py:337: ConvergenceWarning: The max_iter was reached which means the coef_ did not converge\n",
      "  \"the coef_ did not converge\", ConvergenceWarning)\n",
      "C:\\ProgramData\\Anaconda3\\lib\\site-packages\\sklearn\\linear_model\\logistic.py:469: FutureWarning: Default multi_class will be changed to 'auto' in 0.22. Specify the multi_class option to silence this warning.\n",
      "  \"this warning.\", FutureWarning)\n",
      "C:\\ProgramData\\Anaconda3\\lib\\site-packages\\sklearn\\linear_model\\sag.py:337: ConvergenceWarning: The max_iter was reached which means the coef_ did not converge\n",
      "  \"the coef_ did not converge\", ConvergenceWarning)\n",
      "C:\\ProgramData\\Anaconda3\\lib\\site-packages\\sklearn\\linear_model\\logistic.py:469: FutureWarning: Default multi_class will be changed to 'auto' in 0.22. Specify the multi_class option to silence this warning.\n",
      "  \"this warning.\", FutureWarning)\n",
      "C:\\ProgramData\\Anaconda3\\lib\\site-packages\\sklearn\\linear_model\\sag.py:337: ConvergenceWarning: The max_iter was reached which means the coef_ did not converge\n",
      "  \"the coef_ did not converge\", ConvergenceWarning)\n",
      "C:\\ProgramData\\Anaconda3\\lib\\site-packages\\sklearn\\linear_model\\logistic.py:469: FutureWarning: Default multi_class will be changed to 'auto' in 0.22. Specify the multi_class option to silence this warning.\n",
      "  \"this warning.\", FutureWarning)\n",
      "C:\\ProgramData\\Anaconda3\\lib\\site-packages\\sklearn\\linear_model\\sag.py:337: ConvergenceWarning: The max_iter was reached which means the coef_ did not converge\n",
      "  \"the coef_ did not converge\", ConvergenceWarning)\n",
      "C:\\ProgramData\\Anaconda3\\lib\\site-packages\\sklearn\\linear_model\\logistic.py:469: FutureWarning: Default multi_class will be changed to 'auto' in 0.22. Specify the multi_class option to silence this warning.\n",
      "  \"this warning.\", FutureWarning)\n",
      "C:\\ProgramData\\Anaconda3\\lib\\site-packages\\sklearn\\linear_model\\sag.py:337: ConvergenceWarning: The max_iter was reached which means the coef_ did not converge\n",
      "  \"the coef_ did not converge\", ConvergenceWarning)\n",
      "C:\\ProgramData\\Anaconda3\\lib\\site-packages\\sklearn\\linear_model\\logistic.py:469: FutureWarning: Default multi_class will be changed to 'auto' in 0.22. Specify the multi_class option to silence this warning.\n",
      "  \"this warning.\", FutureWarning)\n",
      "C:\\ProgramData\\Anaconda3\\lib\\site-packages\\sklearn\\linear_model\\sag.py:337: ConvergenceWarning: The max_iter was reached which means the coef_ did not converge\n",
      "  \"the coef_ did not converge\", ConvergenceWarning)\n",
      "C:\\ProgramData\\Anaconda3\\lib\\site-packages\\sklearn\\linear_model\\logistic.py:469: FutureWarning: Default multi_class will be changed to 'auto' in 0.22. Specify the multi_class option to silence this warning.\n",
      "  \"this warning.\", FutureWarning)\n",
      "C:\\ProgramData\\Anaconda3\\lib\\site-packages\\sklearn\\linear_model\\sag.py:337: ConvergenceWarning: The max_iter was reached which means the coef_ did not converge\n",
      "  \"the coef_ did not converge\", ConvergenceWarning)\n",
      "C:\\ProgramData\\Anaconda3\\lib\\site-packages\\sklearn\\linear_model\\logistic.py:469: FutureWarning: Default multi_class will be changed to 'auto' in 0.22. Specify the multi_class option to silence this warning.\n",
      "  \"this warning.\", FutureWarning)\n",
      "C:\\ProgramData\\Anaconda3\\lib\\site-packages\\sklearn\\linear_model\\sag.py:337: ConvergenceWarning: The max_iter was reached which means the coef_ did not converge\n",
      "  \"the coef_ did not converge\", ConvergenceWarning)\n",
      "C:\\ProgramData\\Anaconda3\\lib\\site-packages\\sklearn\\linear_model\\logistic.py:469: FutureWarning: Default multi_class will be changed to 'auto' in 0.22. Specify the multi_class option to silence this warning.\n",
      "  \"this warning.\", FutureWarning)\n",
      "C:\\ProgramData\\Anaconda3\\lib\\site-packages\\sklearn\\linear_model\\sag.py:337: ConvergenceWarning: The max_iter was reached which means the coef_ did not converge\n",
      "  \"the coef_ did not converge\", ConvergenceWarning)\n",
      "C:\\ProgramData\\Anaconda3\\lib\\site-packages\\sklearn\\linear_model\\logistic.py:469: FutureWarning: Default multi_class will be changed to 'auto' in 0.22. Specify the multi_class option to silence this warning.\n",
      "  \"this warning.\", FutureWarning)\n",
      "C:\\ProgramData\\Anaconda3\\lib\\site-packages\\sklearn\\linear_model\\sag.py:337: ConvergenceWarning: The max_iter was reached which means the coef_ did not converge\n",
      "  \"the coef_ did not converge\", ConvergenceWarning)\n",
      "C:\\ProgramData\\Anaconda3\\lib\\site-packages\\sklearn\\linear_model\\logistic.py:469: FutureWarning: Default multi_class will be changed to 'auto' in 0.22. Specify the multi_class option to silence this warning.\n",
      "  \"this warning.\", FutureWarning)\n",
      "C:\\ProgramData\\Anaconda3\\lib\\site-packages\\sklearn\\linear_model\\sag.py:337: ConvergenceWarning: The max_iter was reached which means the coef_ did not converge\n",
      "  \"the coef_ did not converge\", ConvergenceWarning)\n",
      "C:\\ProgramData\\Anaconda3\\lib\\site-packages\\sklearn\\linear_model\\logistic.py:469: FutureWarning: Default multi_class will be changed to 'auto' in 0.22. Specify the multi_class option to silence this warning.\n",
      "  \"this warning.\", FutureWarning)\n",
      "C:\\ProgramData\\Anaconda3\\lib\\site-packages\\sklearn\\linear_model\\sag.py:337: ConvergenceWarning: The max_iter was reached which means the coef_ did not converge\n",
      "  \"the coef_ did not converge\", ConvergenceWarning)\n",
      "C:\\ProgramData\\Anaconda3\\lib\\site-packages\\sklearn\\linear_model\\logistic.py:469: FutureWarning: Default multi_class will be changed to 'auto' in 0.22. Specify the multi_class option to silence this warning.\n",
      "  \"this warning.\", FutureWarning)\n",
      "C:\\ProgramData\\Anaconda3\\lib\\site-packages\\sklearn\\linear_model\\sag.py:337: ConvergenceWarning: The max_iter was reached which means the coef_ did not converge\n",
      "  \"the coef_ did not converge\", ConvergenceWarning)\n",
      "C:\\ProgramData\\Anaconda3\\lib\\site-packages\\sklearn\\linear_model\\logistic.py:469: FutureWarning: Default multi_class will be changed to 'auto' in 0.22. Specify the multi_class option to silence this warning.\n",
      "  \"this warning.\", FutureWarning)\n",
      "C:\\ProgramData\\Anaconda3\\lib\\site-packages\\sklearn\\linear_model\\sag.py:337: ConvergenceWarning: The max_iter was reached which means the coef_ did not converge\n",
      "  \"the coef_ did not converge\", ConvergenceWarning)\n",
      "C:\\ProgramData\\Anaconda3\\lib\\site-packages\\sklearn\\linear_model\\logistic.py:469: FutureWarning: Default multi_class will be changed to 'auto' in 0.22. Specify the multi_class option to silence this warning.\n",
      "  \"this warning.\", FutureWarning)\n",
      "C:\\ProgramData\\Anaconda3\\lib\\site-packages\\sklearn\\linear_model\\sag.py:337: ConvergenceWarning: The max_iter was reached which means the coef_ did not converge\n",
      "  \"the coef_ did not converge\", ConvergenceWarning)\n",
      "C:\\ProgramData\\Anaconda3\\lib\\site-packages\\sklearn\\linear_model\\logistic.py:469: FutureWarning: Default multi_class will be changed to 'auto' in 0.22. Specify the multi_class option to silence this warning.\n",
      "  \"this warning.\", FutureWarning)\n",
      "C:\\ProgramData\\Anaconda3\\lib\\site-packages\\sklearn\\linear_model\\sag.py:337: ConvergenceWarning: The max_iter was reached which means the coef_ did not converge\n",
      "  \"the coef_ did not converge\", ConvergenceWarning)\n",
      "C:\\ProgramData\\Anaconda3\\lib\\site-packages\\sklearn\\linear_model\\logistic.py:469: FutureWarning: Default multi_class will be changed to 'auto' in 0.22. Specify the multi_class option to silence this warning.\n",
      "  \"this warning.\", FutureWarning)\n",
      "C:\\ProgramData\\Anaconda3\\lib\\site-packages\\sklearn\\linear_model\\sag.py:337: ConvergenceWarning: The max_iter was reached which means the coef_ did not converge\n",
      "  \"the coef_ did not converge\", ConvergenceWarning)\n"
     ]
    },
    {
     "name": "stdout",
     "output_type": "stream",
     "text": [
      "42142.02613210678\n"
     ]
    }
   ],
   "source": [
    "start = time.time()\n",
    "logreg = zip(predictor_columns, [LogisticRegression(n_jobs=-2, solver=\"sag\").fit(X_train, y_train[:,i]) for i in range(y_train.shape[1])])\n",
    "end = time.time()\n",
    "print(end-start)"
   ]
  },
  {
   "cell_type": "code",
   "execution_count": 32,
   "metadata": {},
   "outputs": [
    {
     "data": {
      "text/plain": [
       "[]"
      ]
     },
     "execution_count": 32,
     "metadata": {},
     "output_type": "execute_result"
    }
   ],
   "source": [
    "list(logreg)"
   ]
  },
  {
   "cell_type": "code",
   "execution_count": 34,
   "metadata": {},
   "outputs": [
    {
     "data": {
      "text/plain": [
       "{}"
      ]
     },
     "execution_count": 34,
     "metadata": {},
     "output_type": "execute_result"
    }
   ],
   "source": [
    "logreg_dict"
   ]
  },
  {
   "cell_type": "code",
   "execution_count": 19,
   "metadata": {},
   "outputs": [
    {
     "ename": "AttributeError",
     "evalue": "'zip' object has no attribute 'score'",
     "output_type": "error",
     "traceback": [
      "\u001b[1;31m---------------------------------------------------------------------------\u001b[0m",
      "\u001b[1;31mAttributeError\u001b[0m                            Traceback (most recent call last)",
      "\u001b[1;32m<ipython-input-19-0ed42aabc81f>\u001b[0m in \u001b[0;36m<module>\u001b[1;34m\u001b[0m\n\u001b[0;32m      1\u001b[0m \u001b[1;31m#logreg = LogisticRegression().fit(X_train, y_train)\u001b[0m\u001b[1;33m\u001b[0m\u001b[1;33m\u001b[0m\u001b[1;33m\u001b[0m\u001b[0m\n\u001b[1;32m----> 2\u001b[1;33m \u001b[0mprint\u001b[0m\u001b[1;33m(\u001b[0m\u001b[1;34m\"Training set score: {:.3f}\"\u001b[0m\u001b[1;33m.\u001b[0m\u001b[0mformat\u001b[0m\u001b[1;33m(\u001b[0m\u001b[0mlogreg\u001b[0m\u001b[1;33m.\u001b[0m\u001b[0mscore\u001b[0m\u001b[1;33m(\u001b[0m\u001b[0mX_train\u001b[0m\u001b[1;33m,\u001b[0m \u001b[0my_train\u001b[0m\u001b[1;33m[\u001b[0m\u001b[1;33m:\u001b[0m\u001b[1;33m,\u001b[0m\u001b[1;36m1\u001b[0m\u001b[1;33m]\u001b[0m\u001b[1;33m)\u001b[0m\u001b[1;33m)\u001b[0m\u001b[1;33m)\u001b[0m\u001b[1;33m\u001b[0m\u001b[1;33m\u001b[0m\u001b[0m\n\u001b[0m\u001b[0;32m      3\u001b[0m \u001b[0mprint\u001b[0m\u001b[1;33m(\u001b[0m\u001b[1;34m\"Test set score: {:.3f}\"\u001b[0m\u001b[1;33m.\u001b[0m\u001b[0mformat\u001b[0m\u001b[1;33m(\u001b[0m\u001b[0mlogreg\u001b[0m\u001b[1;33m.\u001b[0m\u001b[0mscore\u001b[0m\u001b[1;33m(\u001b[0m\u001b[0mX_test\u001b[0m\u001b[1;33m,\u001b[0m \u001b[0my_test\u001b[0m\u001b[1;33m[\u001b[0m\u001b[1;33m:\u001b[0m\u001b[1;33m,\u001b[0m\u001b[1;36m1\u001b[0m\u001b[1;33m]\u001b[0m\u001b[1;33m)\u001b[0m\u001b[1;33m)\u001b[0m\u001b[1;33m)\u001b[0m\u001b[1;33m\u001b[0m\u001b[1;33m\u001b[0m\u001b[0m\n",
      "\u001b[1;31mAttributeError\u001b[0m: 'zip' object has no attribute 'score'"
     ]
    }
   ],
   "source": [
    "#logreg = LogisticRegression().fit(X_train, y_train)\n",
    "print(\"Training set score: {:.3f}\".format(logreg.score(X_train, y_train[:,1])))\n",
    "print(\"Test set score: {:.3f}\".format(logreg.score(X_test, y_test[:,1])))"
   ]
  },
  {
   "cell_type": "code",
   "execution_count": 38,
   "metadata": {},
   "outputs": [
    {
     "ename": "AttributeError",
     "evalue": "'float' object has no attribute 'asint'",
     "output_type": "error",
     "traceback": [
      "\u001b[1;31m---------------------------------------------------------------------------\u001b[0m",
      "\u001b[1;31mAttributeError\u001b[0m                            Traceback (most recent call last)",
      "\u001b[1;32m<ipython-input-38-aaca24553699>\u001b[0m in \u001b[0;36m<module>\u001b[1;34m\u001b[0m\n\u001b[1;32m----> 1\u001b[1;33m \u001b[0mprint\u001b[0m\u001b[1;33m(\u001b[0m\u001b[1;33m(\u001b[0m\u001b[0mend\u001b[0m\u001b[1;33m-\u001b[0m\u001b[0mstart\u001b[0m\u001b[1;33m)\u001b[0m\u001b[1;33m.\u001b[0m\u001b[0masint\u001b[0m\u001b[1;33m(\u001b[0m\u001b[1;33m)\u001b[0m\u001b[1;33m)\u001b[0m \u001b[1;33m%\u001b[0m \u001b[1;36m60\u001b[0m\u001b[1;33m\u001b[0m\u001b[1;33m\u001b[0m\u001b[0m\n\u001b[0m",
      "\u001b[1;31mAttributeError\u001b[0m: 'float' object has no attribute 'asint'"
     ]
    }
   ],
   "source": [
    "print((end-start)) % 60"
   ]
  },
  {
   "cell_type": "code",
   "execution_count": 46,
   "metadata": {},
   "outputs": [
    {
     "name": "stdout",
     "output_type": "stream",
     "text": [
      "11 hrs 42 min 22 sec\n"
     ]
    }
   ],
   "source": [
    "print(int(round(end-start)/3600)%60,'hrs',int(round(end-start)/60)%60,'min',int(round(end-start))%60,'sec')"
   ]
  },
  {
   "cell_type": "code",
   "execution_count": null,
   "metadata": {},
   "outputs": [],
   "source": []
  }
 ],
 "metadata": {
  "kernelspec": {
   "display_name": "Python 3",
   "language": "python",
   "name": "python3"
  },
  "language_info": {
   "codemirror_mode": {
    "name": "ipython",
    "version": 3
   },
   "file_extension": ".py",
   "mimetype": "text/x-python",
   "name": "python",
   "nbconvert_exporter": "python",
   "pygments_lexer": "ipython3",
   "version": "3.7.3"
  }
 },
 "nbformat": 4,
 "nbformat_minor": 4
}
