{
 "cells": [
  {
   "cell_type": "code",
   "execution_count": 2,
   "metadata": {},
   "outputs": [
    {
     "name": "stdout",
     "output_type": "stream",
     "text": [
      "The autoreload extension is already loaded. To reload it, use:\n",
      "  %reload_ext autoreload\n"
     ]
    }
   ],
   "source": [
    "# make imports from pa_lib possible (parent directory of file's directory)\n",
    "import sys\n",
    "from pathlib import Path\n",
    "\n",
    "file_dir = Path.cwd()\n",
    "parent_dir = file_dir.parent\n",
    "sys.path.append(str(parent_dir))\n",
    "\n",
    "%load_ext autoreload\n",
    "%autoreload\n",
    "\n",
    "import pandas as pd\n",
    "import numpy as np\n",
    "\n",
    "from collections import namedtuple\n",
    "\n",
    "from pa_lib.file import (\n",
    "    store_bin,\n",
    "    project_dir,\n",
    "    data_files,\n",
    "    load_csv,\n",
    "    load_bin,\n",
    "    write_xlsx,\n",
    ")\n",
    "from pa_lib.data import as_dtype, dtFactor, desc_col, lookup, clean_up_categoricals\n",
    "from pa_lib.util import collect, value, flatten, normalize_rows, list_items\n",
    "from pa_lib.log import time_log\n",
    "from pa_lib.types import Record\n",
    "\n",
    "# display long columns completely, show more rows\n",
    "pd.set_option(\"display.max_colwidth\", 300)\n",
    "pd.set_option(\"display.max_rows\", 200)\n",
    "pd.set_option(\"display.max_columns\", 200)"
   ]
  },
  {
   "cell_type": "code",
   "execution_count": 4,
   "metadata": {},
   "outputs": [
    {
     "data": {
      "text/html": [
       "<div>\n",
       "<style scoped>\n",
       "    .dataframe tbody tr th:only-of-type {\n",
       "        vertical-align: middle;\n",
       "    }\n",
       "\n",
       "    .dataframe tbody tr th {\n",
       "        vertical-align: top;\n",
       "    }\n",
       "\n",
       "    .dataframe thead th {\n",
       "        text-align: right;\n",
       "    }\n",
       "</style>\n",
       "<table border=\"1\" class=\"dataframe\">\n",
       "  <thead>\n",
       "    <tr style=\"text-align: right;\">\n",
       "      <th></th>\n",
       "      <th>size</th>\n",
       "      <th>mtime</th>\n",
       "    </tr>\n",
       "    <tr>\n",
       "      <th>name</th>\n",
       "      <th></th>\n",
       "      <th></th>\n",
       "    </tr>\n",
       "  </thead>\n",
       "  <tbody>\n",
       "    <tr>\n",
       "      <td>BranchenProdgrp_KW_10y.csv</td>\n",
       "      <td>578.5 KB</td>\n",
       "      <td>22.10.19 11:59:26</td>\n",
       "    </tr>\n",
       "    <tr>\n",
       "      <td>BranchenProdgrp_KW_10y.xml</td>\n",
       "      <td>14.6 KB</td>\n",
       "      <td>22.10.19 12:01:44</td>\n",
       "    </tr>\n",
       "    <tr>\n",
       "      <td>BranchenWbt_KW_4y.csv</td>\n",
       "      <td>6.4 MB</td>\n",
       "      <td>22.10.19 12:43:34</td>\n",
       "    </tr>\n",
       "    <tr>\n",
       "      <td>Branchen_KW_10y.csv</td>\n",
       "      <td>119.9 KB</td>\n",
       "      <td>22.10.19 11:47:46</td>\n",
       "    </tr>\n",
       "    <tr>\n",
       "      <td>Branchen_KW_10y.xml</td>\n",
       "      <td>14.5 KB</td>\n",
       "      <td>22.10.19 11:49:38</td>\n",
       "    </tr>\n",
       "  </tbody>\n",
       "</table>\n",
       "</div>"
      ],
      "text/plain": [
       "                                size              mtime\n",
       "name                                                   \n",
       "BranchenProdgrp_KW_10y.csv  578.5 KB  22.10.19 11:59:26\n",
       "BranchenProdgrp_KW_10y.xml   14.6 KB  22.10.19 12:01:44\n",
       "BranchenWbt_KW_4y.csv         6.4 MB  22.10.19 12:43:34\n",
       "Branchen_KW_10y.csv         119.9 KB  22.10.19 11:47:46\n",
       "Branchen_KW_10y.xml          14.5 KB  22.10.19 11:49:38"
      ]
     },
     "metadata": {},
     "output_type": "display_data"
    }
   ],
   "source": [
    "with project_dir(\"MediaFocus\"):\n",
    "    display(data_files())\n",
    "    "
   ]
  }
 ],
 "metadata": {
  "kernelspec": {
   "display_name": "Python 3",
   "language": "python",
   "name": "python3"
  },
  "language_info": {
   "codemirror_mode": {
    "name": "ipython",
    "version": 3
   },
   "file_extension": ".py",
   "mimetype": "text/x-python",
   "name": "python",
   "nbconvert_exporter": "python",
   "pygments_lexer": "ipython3",
   "version": "3.7.4"
  }
 },
 "nbformat": 4,
 "nbformat_minor": 4
}
