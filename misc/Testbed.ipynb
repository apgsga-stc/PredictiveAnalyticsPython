{
 "cells": [
  {
   "cell_type": "markdown",
   "metadata": {},
   "source": [
    "# Imports"
   ]
  },
  {
   "cell_type": "code",
   "execution_count": null,
   "metadata": {},
   "outputs": [],
   "source": [
    "# make imports from pa_lib possible (parent directory of file's directory)\n",
    "import sys\n",
    "from pathlib import Path\n",
    "\n",
    "file_dir = Path.cwd()\n",
    "parent_dir = file_dir.parent\n",
    "sys.path.append(str(parent_dir))"
   ]
  },
  {
   "cell_type": "markdown",
   "metadata": {},
   "source": [
    "## Parallelization"
   ]
  },
  {
   "cell_type": "code",
   "execution_count": null,
   "metadata": {},
   "outputs": [],
   "source": [
    "import pandas as pd\n",
    "from concurrent.futures import ProcessPoolExecutor\n",
    "# from pandarallel import pandarallel\n",
    "\n",
    "from pa_lib import file\n",
    "\n",
    "# pandarallel.initialize(nb_workers=8)"
   ]
  },
  {
   "cell_type": "code",
   "execution_count": null,
   "metadata": {},
   "outputs": [],
   "source": [
    "df = pd.DataFrame(dict(id=[1,1,2,2,3,3,4,4], nr=[1,2,3,4,5,6,7,8]))"
   ]
  },
  {
   "cell_type": "code",
   "execution_count": null,
   "metadata": {},
   "outputs": [],
   "source": [
    "def f(df):\n",
    "    return df.agg(['sum', 'min', 'max'])\n",
    "\n",
    "res1 = df.groupby('id').apply(f)"
   ]
  },
  {
   "cell_type": "code",
   "execution_count": null,
   "metadata": {},
   "outputs": [],
   "source": [
    "res2 = df.groupby('id').parallel_apply(f)\n",
    "res1.equals(res2)"
   ]
  },
  {
   "cell_type": "code",
   "execution_count": null,
   "metadata": {},
   "outputs": [],
   "source": [
    "import pandas as pd\n",
    "import itertools\n",
    "import time\n",
    "import multiprocessing\n",
    "from typing import Callable, Tuple, Union\n",
    "\n",
    "def groupby_parallel(groupby_df: pd.core.groupby.DataFrameGroupBy,\n",
    "                     func: Callable[[Tuple[str, pd.DataFrame]], Union[pd.DataFrame, pd.Series]],\n",
    "                     num_cpus: int=multiprocessing.cpu_count() - 1,\n",
    "                     logger: Callable[[str], None]=print) -> pd.DataFrame:\n",
    "    \"\"\"Performs a Pandas groupby operation in parallel.\n",
    "    Example usage:\n",
    "        import pandas as pd\n",
    "        df = pd.DataFrame({'A': [0, 1], 'B': [100, 200]})\n",
    "        df.groupby(df.groupby('A'), lambda row: row['B'].sum())\n",
    "    Authors: Tamas Nagy and Douglas Myers-Turnbull\n",
    "    \"\"\"\n",
    "    start = time.time()\n",
    "    logger(\"\\nUsing {} CPUs in parallel...\".format(num_cpus))\n",
    "    with multiprocessing.Pool(num_cpus) as pool:\n",
    "        queue = multiprocessing.Manager().Queue()\n",
    "        result = pool.starmap_async(func, [(name, group) for name, group in groupby_df])\n",
    "        cycler = itertools.cycle('\\|/―')\n",
    "        while not result.ready():\n",
    "            logger(\"Percent complete: {:.0%} {}\".format(queue.qsize()/len(groupby_df), next(cycler)), end=\"\\r\")\n",
    "            time.sleep(0.4)\n",
    "        got = result.get()\n",
    "    logger(\"\\nProcessed {} rows in {:.1f}s\".format(len(got), time.time() - start))\n",
    "    return pd.concat(got)"
   ]
  },
  {
   "cell_type": "code",
   "execution_count": null,
   "metadata": {},
   "outputs": [],
   "source": [
    "df = pd.DataFrame({'A': [0, 1, 0, 1], 'B': [100, 200, 300, 400]})\n",
    "def f(df):\n",
    "    return df.loc[:,'B'].sum()\n",
    "groupby_parallel(df.groupby('A'), f)"
   ]
  },
  {
   "cell_type": "markdown",
   "metadata": {},
   "source": [
    "## Contingency Tables"
   ]
  },
  {
   "cell_type": "code",
   "execution_count": null,
   "metadata": {},
   "outputs": [],
   "source": [
    "import numpy as np\n",
    "import pandas as pd"
   ]
  },
  {
   "cell_type": "code",
   "execution_count": null,
   "metadata": {},
   "outputs": [],
   "source": [
    "import statsmodels.api as sm"
   ]
  },
  {
   "cell_type": "code",
   "execution_count": null,
   "metadata": {},
   "outputs": [],
   "source": [
    "df = sm.datasets.get_rdataset(\"Arthritis\", \"vcd\").data"
   ]
  },
  {
   "cell_type": "code",
   "execution_count": null,
   "metadata": {},
   "outputs": [],
   "source": [
    "df.dtypes"
   ]
  },
  {
   "cell_type": "code",
   "execution_count": null,
   "metadata": {},
   "outputs": [],
   "source": [
    "df.head()"
   ]
  },
  {
   "cell_type": "code",
   "execution_count": null,
   "metadata": {},
   "outputs": [],
   "source": [
    "tab = pd.crosstab(df['Treatment'], df['Improved'])"
   ]
  },
  {
   "cell_type": "code",
   "execution_count": null,
   "metadata": {},
   "outputs": [],
   "source": [
    "tab"
   ]
  },
  {
   "cell_type": "code",
   "execution_count": null,
   "metadata": {},
   "outputs": [],
   "source": [
    "tab = tab.loc[:, [\"None\", \"Some\", \"Marked\"]]\n",
    "table = sm.stats.Table(tab)"
   ]
  },
  {
   "cell_type": "code",
   "execution_count": null,
   "metadata": {},
   "outputs": [],
   "source": [
    "data = df[[\"Treatment\", \"Improved\"]]\n",
    "table = sm.stats.Table.from_data(data)"
   ]
  },
  {
   "cell_type": "code",
   "execution_count": null,
   "metadata": {},
   "outputs": [],
   "source": [
    "display(table.table_orig)\n",
    "display(table.fittedvalues)\n",
    "display(table.resid_pearson)"
   ]
  },
  {
   "cell_type": "code",
   "execution_count": null,
   "metadata": {},
   "outputs": [],
   "source": [
    "from statsmodels.graphics.mosaicplot import mosaic\n",
    "fig,_ = mosaic(data, index=[\"Treatment\", \"Improved\"], statistic=True, gap=0.01)"
   ]
  },
  {
   "cell_type": "code",
   "execution_count": null,
   "metadata": {},
   "outputs": [],
   "source": [
    "print(table.test_nominal_association())"
   ]
  },
  {
   "cell_type": "code",
   "execution_count": null,
   "metadata": {},
   "outputs": [],
   "source": [
    "print(table.test_ordinal_association())"
   ]
  },
  {
   "cell_type": "markdown",
   "metadata": {},
   "source": [
    "## XLSX Writer"
   ]
  },
  {
   "cell_type": "code",
   "execution_count": null,
   "metadata": {},
   "outputs": [],
   "source": [
    "%load_ext autoreload\n",
    "%autoreload\n",
    "\n",
    "from pa_lib.file import write_xlsx as xlsw"
   ]
  },
  {
   "cell_type": "code",
   "execution_count": null,
   "metadata": {},
   "outputs": [],
   "source": [
    "df = pd.DataFrame({'Text': 'a b c d e f g h i j l k p o i u z t r e w q a s d f g h j k l m n b'.split(), 'Nr': list(range(34))})"
   ]
  },
  {
   "cell_type": "code",
   "execution_count": null,
   "metadata": {},
   "outputs": [],
   "source": [
    "xlsw(df, 'testfile.xlsx')"
   ]
  },
  {
   "cell_type": "markdown",
   "metadata": {},
   "source": [
    "## Facets"
   ]
  },
  {
   "cell_type": "code",
   "execution_count": null,
   "metadata": {},
   "outputs": [],
   "source": [
    "from IPython.core.display import display, HTML"
   ]
  },
  {
   "cell_type": "code",
   "execution_count": null,
   "metadata": {},
   "outputs": [],
   "source": [
    "def dive(df):\n",
    "    jsonstr = df.to_json(orient='records')\n",
    "    html = f\"\"\"\n",
    "            <script src=\"https://cdnjs.cloudflare.com/ajax/libs/webcomponentsjs/1.3.3/webcomponents-lite.js\"></script>\n",
    "            <link rel=\"import\" href=\"https://raw.githubusercontent.com/PAIR-code/facets/master/facets-dist/facets-jupyter.html\">\n",
    "            <facets-dive id=\"elem\" height=\"800\"></facets-dive>\n",
    "            <script>\n",
    "              var data = {jsonstr};\n",
    "              document.querySelector(\"#elem\").data = data;\n",
    "            </script>\"\"\"\n",
    "    display(HTML(html))"
   ]
  },
  {
   "cell_type": "code",
   "execution_count": null,
   "metadata": {},
   "outputs": [],
   "source": [
    "dive(df)"
   ]
  },
  {
   "cell_type": "markdown",
   "metadata": {},
   "source": [
    "### Clustering"
   ]
  },
  {
   "cell_type": "code",
   "execution_count": null,
   "metadata": {},
   "outputs": [],
   "source": [
    "import numpy as np\n",
    "\n",
    "from sklearn.cluster import DBSCAN\n",
    "from sklearn import metrics\n",
    "from sklearn.datasets.samples_generator import make_blobs\n",
    "from sklearn.preprocessing import StandardScaler\n",
    "\n",
    "\n",
    "# #############################################################################\n",
    "# Generate sample data\n",
    "centers = [[1, 1], [-1, -1], [1, -1]]\n",
    "X, labels_true = make_blobs(n_samples=750, centers=centers, cluster_std=0.4,\n",
    "                            random_state=0)\n",
    "\n",
    "X = StandardScaler().fit_transform(X)\n",
    "\n",
    "# #############################################################################\n",
    "# Compute DBSCAN\n",
    "db = DBSCAN(eps=0.3, min_samples=10).fit(X)\n",
    "core_samples_mask = np.zeros_like(db.labels_, dtype=bool)\n",
    "core_samples_mask[db.core_sample_indices_] = True\n",
    "labels = db.labels_\n",
    "\n",
    "# Number of clusters in labels, ignoring noise if present.\n",
    "n_clusters_ = len(set(labels)) - (1 if -1 in labels else 0)\n",
    "n_noise_ = list(labels).count(-1)\n",
    "\n",
    "print('Estimated number of clusters: %d' % n_clusters_)\n",
    "print('Estimated number of noise points: %d' % n_noise_)\n",
    "print(\"Homogeneity: %0.3f\" % metrics.homogeneity_score(labels_true, labels))\n",
    "print(\"Completeness: %0.3f\" % metrics.completeness_score(labels_true, labels))\n",
    "print(\"V-measure: %0.3f\" % metrics.v_measure_score(labels_true, labels))\n",
    "print(\"Adjusted Rand Index: %0.3f\"\n",
    "      % metrics.adjusted_rand_score(labels_true, labels))\n",
    "print(\"Adjusted Mutual Information: %0.3f\"\n",
    "      % metrics.adjusted_mutual_info_score(labels_true, labels,\n",
    "                                           average_method='arithmetic'))\n",
    "print(\"Silhouette Coefficient: %0.3f\"\n",
    "      % metrics.silhouette_score(X, labels))\n",
    "\n",
    "# #############################################################################\n",
    "# Plot result\n",
    "%matplotlib inline\n",
    "import matplotlib.pyplot as plt\n",
    "\n",
    "# Black removed and is used for noise instead.\n",
    "unique_labels = set(labels)\n",
    "colors = [plt.cm.Spectral(each)\n",
    "          for each in np.linspace(0, 1, len(unique_labels))]\n",
    "for k, col in zip(unique_labels, colors):\n",
    "    if k == -1:\n",
    "        # Black used for noise.\n",
    "        col = [0, 0, 0, 1]\n",
    "\n",
    "    class_member_mask = (labels == k)\n",
    "\n",
    "    xy = X[class_member_mask & core_samples_mask]\n",
    "    plt.plot(xy[:, 0], xy[:, 1], 'o', markerfacecolor=tuple(col),\n",
    "             markeredgecolor='k', markersize=14)\n",
    "\n",
    "    xy = X[class_member_mask & ~core_samples_mask]\n",
    "    plt.plot(xy[:, 0], xy[:, 1], 'o', markerfacecolor=tuple(col),\n",
    "             markeredgecolor='k', markersize=6)\n",
    "\n",
    "plt.title('Estimated number of clusters: %d' % n_clusters_)\n",
    "plt.show()"
   ]
  },
  {
   "cell_type": "markdown",
   "metadata": {},
   "source": [
    "## Sending E-Mail"
   ]
  },
  {
   "cell_type": "code",
   "execution_count": 1,
   "metadata": {},
   "outputs": [],
   "source": [
    "from smtplib import SMTP\n",
    "\n",
    "from email.message import EmailMessage\n",
    "from email.headerregistry import Address"
   ]
  },
  {
   "cell_type": "markdown",
   "metadata": {},
   "source": [
    "#### Talk to the gateway"
   ]
  },
  {
   "cell_type": "code",
   "execution_count": null,
   "metadata": {},
   "outputs": [],
   "source": [
    "with SMTP(host='mailint.apgsga.ch') as mail_gateway:\n",
    "    mail_gateway.set_debuglevel(True)\n",
    "    mail_gateway.noop()\n",
    "    mail_gateway.helo('http://lxewi041.apgsga.ch')"
   ]
  },
  {
   "cell_type": "markdown",
   "metadata": {},
   "source": [
    "#### Send a simple message"
   ]
  },
  {
   "cell_type": "code",
   "execution_count": null,
   "metadata": {},
   "outputs": [],
   "source": [
    "with SMTP(host='mailint.apgsga.ch') as mail_gateway:\n",
    "    mail_gateway.set_debuglevel(True)\n",
    "    mail_gateway.sendmail(from_addr='predictive_analytics.apgsga.ch', \n",
    "                          to_addrs='sam.truong@apgsga.ch', \n",
    "                          msg='This is a test message')"
   ]
  },
  {
   "cell_type": "markdown",
   "metadata": {},
   "source": [
    "#### Build a complex message and send it"
   ]
  },
  {
   "cell_type": "code",
   "execution_count": 2,
   "metadata": {},
   "outputs": [
    {
     "name": "stdout",
     "output_type": "stream",
     "text": [
      "Subject: Testing sendmail\n",
      "From: Predictive Analytics <predictive_analytics@apgsga.ch>\n",
      "To: Sam Truong <sam.truong@apgsga.ch>, Sam Truong <sam.truong@apgsga.ch>\n",
      "MIME-Version: 1.0\n",
      "Content-Type: multipart/alternative;\n",
      " boundary=\"===============0925061350311691482==\"\n",
      "\n",
      "--===============0925061350311691482==\n",
      "Content-Type: text/plain; charset=\"utf-8\"\n",
      "Content-Transfer-Encoding: 7bit\n",
      "\n",
      "Das ist ein Test:\n",
      "\n",
      "P:\\Service\\Kennzahlen\\Verkauf\\PredictiveAnalytics\n",
      "\n",
      "--===============0925061350311691482==\n",
      "Content-Type: text/html; charset=\"utf-8\"\n",
      "Content-Transfer-Encoding: 7bit\n",
      "MIME-Version: 1.0\n",
      "\n",
      "<html>\n",
      "  <head></head>\n",
      "  <body>\n",
      "    <p>Das ist ein Test:</p>\n",
      "    <a href=\"P:\\Service\\Kennzahlen\\Verkauf\\PredictiveAnalytics\">Verzeichnis</a>\n",
      "  </body>\n",
      "</html>\n",
      "\n",
      "--===============0925061350311691482==--\n",
      "\n"
     ]
    }
   ],
   "source": [
    "msg = EmailMessage()\n",
    "msg['Subject'] = \"Testing sendmail\"\n",
    "msg['From'] = Address(\"Predictive Analytics\", \"predictive_analytics\", \"apgsga.ch\")\n",
    "msg['To'] = (Address(\"Sam Truong\", \"sam.truong\", \"apgsga.ch\"),\n",
    "             Address(\"Sam Truong\", \"sam.truong\", \"apgsga.ch\"))\n",
    "msg.set_content(\"\"\"\\\n",
    "Das ist ein Test:\n",
    "\n",
    "P:\\Service\\Kennzahlen\\Verkauf\\PredictiveAnalytics\n",
    "\"\"\")\n",
    "\n",
    "# Add the html version.  This converts the message into a multipart/alternative\n",
    "# container, with the original text message as the first part and the new html\n",
    "# message as the second part.\n",
    "msg.add_alternative(\"\"\"\\\n",
    "<html>\n",
    "  <head></head>\n",
    "  <body>\n",
    "    <p>Das ist ein Test:</p>\n",
    "    <a href=\"P:\\Service\\Kennzahlen\\Verkauf\\PredictiveAnalytics\">Verzeichnis</a>\n",
    "  </body>\n",
    "</html>\n",
    "\"\"\", subtype='html')\n",
    "\n",
    "print(msg.as_string())"
   ]
  },
  {
   "cell_type": "code",
   "execution_count": 3,
   "metadata": {},
   "outputs": [
    {
     "name": "stderr",
     "output_type": "stream",
     "text": [
      "send: 'ehlo CLZHG552433284.affichage-p.ch\\r\\n'\n",
      "reply: b'250-lxdwi034.apgsga.ch\\r\\n'\n",
      "reply: b'250-PIPELINING\\r\\n'\n",
      "reply: b'250-SIZE\\r\\n'\n",
      "reply: b'250-VRFY\\r\\n'\n",
      "reply: b'250-ETRN\\r\\n'\n",
      "reply: b'250-STARTTLS\\r\\n'\n",
      "reply: b'250-ENHANCEDSTATUSCODES\\r\\n'\n",
      "reply: b'250-8BITMIME\\r\\n'\n",
      "reply: b'250 DSN\\r\\n'\n",
      "reply: retcode (250); Msg: b'lxdwi034.apgsga.ch\\nPIPELINING\\nSIZE\\nVRFY\\nETRN\\nSTARTTLS\\nENHANCEDSTATUSCODES\\n8BITMIME\\nDSN'\n",
      "send: 'mail FROM:<predictive_analytics@apgsga.ch> size=809\\r\\n'\n",
      "reply: b'250 2.1.0 Ok\\r\\n'\n",
      "reply: retcode (250); Msg: b'2.1.0 Ok'\n",
      "send: 'rcpt TO:<sam.truong@apgsga.ch>\\r\\n'\n",
      "reply: b'250 2.1.5 Ok\\r\\n'\n",
      "reply: retcode (250); Msg: b'2.1.5 Ok'\n",
      "send: 'rcpt TO:<sam.truong@apgsga.ch>\\r\\n'\n",
      "reply: b'250 2.1.5 Ok\\r\\n'\n",
      "reply: retcode (250); Msg: b'2.1.5 Ok'\n",
      "send: 'data\\r\\n'\n",
      "reply: b'354 End data with <CR><LF>.<CR><LF>\\r\\n'\n",
      "reply: retcode (354); Msg: b'End data with <CR><LF>.<CR><LF>'\n",
      "data: (354, b'End data with <CR><LF>.<CR><LF>')\n",
      "send: b'Subject: Testing sendmail\\r\\nFrom: Predictive Analytics <predictive_analytics@apgsga.ch>\\r\\nTo: Sam Truong <sam.truong@apgsga.ch>, Sam Truong <sam.truong@apgsga.ch>\\r\\nMIME-Version: 1.0\\r\\nContent-Type: multipart/alternative;\\r\\n boundary=\"===============0925061350311691482==\"\\r\\n\\r\\n--===============0925061350311691482==\\r\\nContent-Type: text/plain; charset=\"utf-8\"\\r\\nContent-Transfer-Encoding: 7bit\\r\\n\\r\\nDas ist ein Test:\\r\\n\\r\\nP:\\\\Service\\\\Kennzahlen\\\\Verkauf\\\\PredictiveAnalytics\\r\\n\\r\\n--===============0925061350311691482==\\r\\nContent-Type: text/html; charset=\"utf-8\"\\r\\nContent-Transfer-Encoding: 7bit\\r\\nMIME-Version: 1.0\\r\\n\\r\\n<html>\\r\\n  <head></head>\\r\\n  <body>\\r\\n    <p>Das ist ein Test:</p>\\r\\n    <a href=\"P:\\\\Service\\\\Kennzahlen\\\\Verkauf\\\\PredictiveAnalytics\">Verzeichnis</a>\\r\\n  </body>\\r\\n</html>\\r\\n\\r\\n--===============0925061350311691482==--\\r\\n.\\r\\n'\n",
      "reply: b'250 2.0.0 Ok: queued as 239983E5\\r\\n'\n",
      "reply: retcode (250); Msg: b'2.0.0 Ok: queued as 239983E5'\n",
      "data: (250, b'2.0.0 Ok: queued as 239983E5')\n",
      "send: 'QUIT\\r\\n'\n",
      "reply: b'221 2.0.0 Bye\\r\\n'\n",
      "reply: retcode (221); Msg: b'2.0.0 Bye'\n"
     ]
    }
   ],
   "source": [
    "with SMTP(host='mailint.apgsga.ch') as mail_gateway:\n",
    "    mail_gateway.set_debuglevel(True)\n",
    "    mail_gateway.send_message(msg)"
   ]
  },
  {
   "cell_type": "markdown",
   "metadata": {},
   "source": [
    "# New pandas 0.25"
   ]
  },
  {
   "cell_type": "code",
   "execution_count": null,
   "metadata": {},
   "outputs": [],
   "source": [
    "animals = pd.DataFrame({'kind': ['cat', 'dog', 'cat', 'dog'],\n",
    "                        'height': [9.1, 6.0, 9.5, 34.0],\n",
    "                        'weight': [7.9, 7.5, 9.9, 198.0]})"
   ]
  },
  {
   "cell_type": "code",
   "execution_count": null,
   "metadata": {},
   "outputs": [],
   "source": [
    "animals.groupby(\"kind\").agg(\n",
    "     min_height=('height', 'min'),\n",
    "     max_height=('height', 'max'),\n",
    "     average_weight=('weight', np.mean),\n",
    ")"
   ]
  },
  {
   "cell_type": "code",
   "execution_count": null,
   "metadata": {},
   "outputs": [],
   "source": [
    "animals.groupby('kind').agg(bla=('height', lambda x: [\n",
    "    x.iloc[0], x.iloc[-1]\n",
    "]))"
   ]
  },
  {
   "cell_type": "markdown",
   "metadata": {},
   "source": [
    "# Association of classifications"
   ]
  },
  {
   "cell_type": "code",
   "execution_count": null,
   "metadata": {
    "collapsed": false,
    "jupyter": {
     "outputs_hidden": false
    },
    "pycharm": {
     "is_executing": false,
     "name": "#%%\n"
    }
   },
   "outputs": [],
   "source": [
    "import pandas as pd\n",
    "\n",
    "df1 = pd.DataFrame({'id': [1,2,3,4,5,6,7,8,9,1], 'cl1': list('aaabbbcccc')})\n",
    "df2 = pd.DataFrame({'id': [1,2,3,4,5,6,7,8,9,10], 'cl2': list('xxyyxxyyzz')})\n",
    "\n",
    "df_cls = df1.merge(df2, on='id', how='inner')"
   ]
  },
  {
   "cell_type": "code",
   "execution_count": null,
   "metadata": {
    "collapsed": false,
    "jupyter": {
     "outputs_hidden": false
    },
    "pycharm": {
     "is_executing": false,
     "name": "#%%\n"
    }
   },
   "outputs": [],
   "source": [
    "pd.crosstab(index=df_cls.cl1, columns=df_cls.cl2)\n"
   ]
  },
  {
   "cell_type": "markdown",
   "metadata": {},
   "source": [
    "# cupy"
   ]
  },
  {
   "cell_type": "code",
   "execution_count": null,
   "metadata": {},
   "outputs": [],
   "source": [
    "import numpy as np\n",
    "import cupy as cp\n",
    "import time"
   ]
  },
  {
   "cell_type": "markdown",
   "metadata": {},
   "source": [
    "### Numpy and CPU"
   ]
  },
  {
   "cell_type": "code",
   "execution_count": null,
   "metadata": {},
   "outputs": [],
   "source": [
    "%%time\n",
    "x_cpu = np.ones((200,1000,1000))"
   ]
  },
  {
   "cell_type": "markdown",
   "metadata": {},
   "source": [
    "### CuPy and GPU"
   ]
  },
  {
   "cell_type": "code",
   "execution_count": null,
   "metadata": {},
   "outputs": [],
   "source": [
    "%%time\n",
    "x_gpu = cp.ones((200,1000,1000))"
   ]
  },
  {
   "cell_type": "markdown",
   "metadata": {},
   "source": [
    "### Numpy and CPU"
   ]
  },
  {
   "cell_type": "code",
   "execution_count": null,
   "metadata": {},
   "outputs": [],
   "source": [
    "%%time\n",
    "x_cpu *= 5"
   ]
  },
  {
   "cell_type": "markdown",
   "metadata": {},
   "source": [
    "### CuPy and GPU"
   ]
  },
  {
   "cell_type": "code",
   "execution_count": null,
   "metadata": {},
   "outputs": [],
   "source": [
    "%%time\n",
    "x_gpu *= 5"
   ]
  },
  {
   "cell_type": "markdown",
   "metadata": {},
   "source": [
    "### Numpy and CPU"
   ]
  },
  {
   "cell_type": "code",
   "execution_count": null,
   "metadata": {},
   "outputs": [],
   "source": [
    "%%time\n",
    "x_cpu *= 5\n",
    "x_cpu *= x_cpu\n",
    "x_cpu += x_cpu"
   ]
  },
  {
   "cell_type": "markdown",
   "metadata": {},
   "source": [
    "### CuPy and GPU"
   ]
  },
  {
   "cell_type": "code",
   "execution_count": null,
   "metadata": {},
   "outputs": [],
   "source": [
    "%%time\n",
    "x_gpu *= 5\n",
    "x_gpu *= x_gpu\n",
    "x_gpu += x_gpu"
   ]
  },
  {
   "cell_type": "code",
   "execution_count": null,
   "metadata": {},
   "outputs": [],
   "source": [
    "cp.show_config()"
   ]
  },
  {
   "cell_type": "code",
   "execution_count": null,
   "metadata": {},
   "outputs": [],
   "source": [
    "dir(cp.cuda.Device(0))"
   ]
  },
  {
   "cell_type": "code",
   "execution_count": null,
   "metadata": {},
   "outputs": [],
   "source": [
    "cp.cuda.Device(0).mem_info"
   ]
  },
  {
   "cell_type": "code",
   "execution_count": null,
   "metadata": {},
   "outputs": [],
   "source": [
    "x_cpu = None"
   ]
  },
  {
   "cell_type": "code",
   "execution_count": null,
   "metadata": {},
   "outputs": [],
   "source": [
    "cp.cuda.Device(0).synchronize()"
   ]
  }
 ],
 "metadata": {
  "jupytext": {
   "main_language": "python"
  },
  "kernelspec": {
   "display_name": "Python 3",
   "language": "python",
   "name": "python3"
  },
  "language_info": {
   "codemirror_mode": {
    "name": "ipython",
    "version": 3
   },
   "file_extension": ".py",
   "mimetype": "text/x-python",
   "name": "python",
   "nbconvert_exporter": "python",
   "pygments_lexer": "ipython3",
   "version": "3.7.4"
  },
  "pycharm": {
   "stem_cell": {
    "cell_type": "raw",
    "metadata": {
     "collapsed": false
    },
    "source": []
   }
  }
 },
 "nbformat": 4,
 "nbformat_minor": 4
}
