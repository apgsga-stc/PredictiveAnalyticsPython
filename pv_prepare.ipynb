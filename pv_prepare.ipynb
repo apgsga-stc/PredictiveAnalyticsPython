{
 "cells": [
  {
   "cell_type": "markdown",
   "metadata": {
    "pycharm": {}
   },
   "source": [
    "# Partnervertrag Analyse: Datenpräparation"
   ]
  },
  {
   "cell_type": "code",
   "execution_count": 1,
   "metadata": {
    "pycharm": {
     "is_executing": false
    }
   },
   "outputs": [],
   "source": [
    "%load_ext autoreload\n",
    "%autoreload\n",
    "\n",
    "import pandas as pd\n",
    "import qgrid\n",
    "\n",
    "from pa_lib.file  import store_bin\n",
    "from pa_lib.data  import desc_col, as_dtype, as_date, split_date_iso\n",
    "from pa_lib.util  import obj_size\n",
    "from pa_lib.types import dtFactor\n",
    "from pa_lib.sql   import query\n",
    "from pa_lib.ora   import Connection\n",
    "from pa_lib.log   import info\n",
    "\n",
    "# display long columns completely\n",
    "pd.set_option('display.max_colwidth', 200)"
   ]
  },
  {
   "cell_type": "markdown",
   "metadata": {
    "pycharm": {}
   },
   "source": [
    "## Daten einlesen"
   ]
  },
  {
   "cell_type": "code",
   "execution_count": 2,
   "metadata": {
    "pycharm": {}
   },
   "outputs": [],
   "source": [
    "pv_query = query('pv')"
   ]
  },
  {
   "cell_type": "code",
   "execution_count": 3,
   "metadata": {
    "pycharm": {}
   },
   "outputs": [
    {
     "name": "stderr",
     "output_type": "stream",
     "text": [
      "2019-05-15 15:26:59 [INFO] Starting PV query on APC Prod instance\n",
      "2019-05-15 15:28:10 [INFO] Finished query in 71.41s (8.54s CPU)\n",
      "2019-05-15 15:28:12 [INFO] Finished PV query, returned 232.3 MB of data: (638265, 11)\n"
     ]
    }
   ],
   "source": [
    "info('Starting PV query on APC Prod instance')\n",
    "with Connection('APC_PROD_VDWH1') as c:\n",
    "    pv_data_raw = c.long_query(pv_query)\n",
    "info(f'Finished PV query, returned {obj_size(pv_data_raw)} of data: {pv_data_raw.shape}')"
   ]
  },
  {
   "cell_type": "code",
   "execution_count": 4,
   "metadata": {
    "pycharm": {}
   },
   "outputs": [
    {
     "data": {
      "text/html": [
       "<div>\n",
       "<style scoped>\n",
       "    .dataframe tbody tr th:only-of-type {\n",
       "        vertical-align: middle;\n",
       "    }\n",
       "\n",
       "    .dataframe tbody tr th {\n",
       "        vertical-align: top;\n",
       "    }\n",
       "\n",
       "    .dataframe thead th {\n",
       "        text-align: right;\n",
       "    }\n",
       "</style>\n",
       "<table border=\"1\" class=\"dataframe\">\n",
       "  <thead>\n",
       "    <tr style=\"text-align: right;\">\n",
       "      <th></th>\n",
       "      <th>PV_NR</th>\n",
       "      <th>JAHR_KW</th>\n",
       "      <th>JAHR</th>\n",
       "      <th>KW</th>\n",
       "      <th>RES_BRUTTO</th>\n",
       "      <th>RES_NETTO</th>\n",
       "      <th>AUS_BRUTTO</th>\n",
       "      <th>AUS_NETTO</th>\n",
       "      <th>PV_TITEL</th>\n",
       "      <th>PARTNER_NR</th>\n",
       "      <th>PARTNER</th>\n",
       "    </tr>\n",
       "  </thead>\n",
       "  <tbody>\n",
       "    <tr>\n",
       "      <th>0</th>\n",
       "      <td>6343</td>\n",
       "      <td>201403</td>\n",
       "      <td>2014</td>\n",
       "      <td>03</td>\n",
       "      <td>2252.0</td>\n",
       "      <td>1607.575000</td>\n",
       "      <td>3111.807692</td>\n",
       "      <td>1551.038741</td>\n",
       "      <td>Brig-Glis - Gemeindevertrag [6343]</td>\n",
       "      <td>121149</td>\n",
       "      <td>Stadtgemeinde Brig-Glis [121149]</td>\n",
       "    </tr>\n",
       "    <tr>\n",
       "      <th>1</th>\n",
       "      <td>31591</td>\n",
       "      <td>201704</td>\n",
       "      <td>2017</td>\n",
       "      <td>04</td>\n",
       "      <td>5679.5</td>\n",
       "      <td>3371.635614</td>\n",
       "      <td>11138.653846</td>\n",
       "      <td>5038.083059</td>\n",
       "      <td>Dietikon, Rahmenvertrag Unterhaltsbezirk 3 [31591]</td>\n",
       "      <td>100988</td>\n",
       "      <td>Baudirektion Kanton Zürich [100988]</td>\n",
       "    </tr>\n",
       "    <tr>\n",
       "      <th>2</th>\n",
       "      <td>3547</td>\n",
       "      <td>201430</td>\n",
       "      <td>2014</td>\n",
       "      <td>30</td>\n",
       "      <td>19707.0</td>\n",
       "      <td>9300.944846</td>\n",
       "      <td>16007.472527</td>\n",
       "      <td>8608.231172</td>\n",
       "      <td>Sion - Convention d'affichage [3547]</td>\n",
       "      <td>118107</td>\n",
       "      <td>Municipalité de Sion [118107]</td>\n",
       "    </tr>\n",
       "    <tr>\n",
       "      <th>3</th>\n",
       "      <td>20896</td>\n",
       "      <td>201418</td>\n",
       "      <td>2014</td>\n",
       "      <td>18</td>\n",
       "      <td>11613.0</td>\n",
       "      <td>7567.459920</td>\n",
       "      <td>12694.883145</td>\n",
       "      <td>7817.615358</td>\n",
       "      <td>Vevey - Convention d'affichage [20896]</td>\n",
       "      <td>122045</td>\n",
       "      <td>Ville de Vevey [122045]</td>\n",
       "    </tr>\n",
       "    <tr>\n",
       "      <th>4</th>\n",
       "      <td>309650</td>\n",
       "      <td>201405</td>\n",
       "      <td>2014</td>\n",
       "      <td>05</td>\n",
       "      <td>302.0</td>\n",
       "      <td>119.768151</td>\n",
       "      <td>151.000000</td>\n",
       "      <td>58.446740</td>\n",
       "      <td>Olten, Sportstrasse 89 +91 [309650]</td>\n",
       "      <td>500110</td>\n",
       "      <td>Eishockey Club Olten AG EHCO [500110]</td>\n",
       "    </tr>\n",
       "  </tbody>\n",
       "</table>\n",
       "</div>"
      ],
      "text/plain": [
       "    PV_NR  JAHR_KW  JAHR  KW  RES_BRUTTO    RES_NETTO    AUS_BRUTTO  \\\n",
       "0    6343   201403  2014  03      2252.0  1607.575000   3111.807692   \n",
       "1   31591   201704  2017  04      5679.5  3371.635614  11138.653846   \n",
       "2    3547   201430  2014  30     19707.0  9300.944846  16007.472527   \n",
       "3   20896   201418  2014  18     11613.0  7567.459920  12694.883145   \n",
       "4  309650   201405  2014  05       302.0   119.768151    151.000000   \n",
       "\n",
       "     AUS_NETTO                                            PV_TITEL  \\\n",
       "0  1551.038741                  Brig-Glis - Gemeindevertrag [6343]   \n",
       "1  5038.083059  Dietikon, Rahmenvertrag Unterhaltsbezirk 3 [31591]   \n",
       "2  8608.231172                Sion - Convention d'affichage [3547]   \n",
       "3  7817.615358              Vevey - Convention d'affichage [20896]   \n",
       "4    58.446740                 Olten, Sportstrasse 89 +91 [309650]   \n",
       "\n",
       "   PARTNER_NR                                PARTNER  \n",
       "0      121149       Stadtgemeinde Brig-Glis [121149]  \n",
       "1      100988    Baudirektion Kanton Zürich [100988]  \n",
       "2      118107          Municipalité de Sion [118107]  \n",
       "3      122045                Ville de Vevey [122045]  \n",
       "4      500110  Eishockey Club Olten AG EHCO [500110]  "
      ]
     },
     "execution_count": 4,
     "metadata": {},
     "output_type": "execute_result"
    }
   ],
   "source": [
    "pv_data_raw.head()"
   ]
  },
  {
   "cell_type": "code",
   "execution_count": 6,
   "metadata": {
    "pycharm": {}
   },
   "outputs": [
    {
     "data": {
      "text/html": [
       "<div>\n",
       "<style scoped>\n",
       "    .dataframe tbody tr th:only-of-type {\n",
       "        vertical-align: middle;\n",
       "    }\n",
       "\n",
       "    .dataframe tbody tr th {\n",
       "        vertical-align: top;\n",
       "    }\n",
       "\n",
       "    .dataframe thead th {\n",
       "        text-align: right;\n",
       "    }\n",
       "</style>\n",
       "<table border=\"1\" class=\"dataframe\">\n",
       "  <thead>\n",
       "    <tr style=\"text-align: right;\">\n",
       "      <th></th>\n",
       "      <th>DTYPE</th>\n",
       "      <th>NULLS</th>\n",
       "      <th>UNIQUE</th>\n",
       "    </tr>\n",
       "  </thead>\n",
       "  <tbody>\n",
       "    <tr>\n",
       "      <th>PV_NR</th>\n",
       "      <td>int64</td>\n",
       "      <td>0/638265</td>\n",
       "      <td>7818</td>\n",
       "    </tr>\n",
       "    <tr>\n",
       "      <th>JAHR_KW</th>\n",
       "      <td>int64</td>\n",
       "      <td>0/638265</td>\n",
       "      <td>280</td>\n",
       "    </tr>\n",
       "    <tr>\n",
       "      <th>JAHR</th>\n",
       "      <td>object</td>\n",
       "      <td>0/638265</td>\n",
       "      <td>6</td>\n",
       "    </tr>\n",
       "    <tr>\n",
       "      <th>KW</th>\n",
       "      <td>object</td>\n",
       "      <td>0/638265</td>\n",
       "      <td>53</td>\n",
       "    </tr>\n",
       "    <tr>\n",
       "      <th>RES_BRUTTO</th>\n",
       "      <td>float64</td>\n",
       "      <td>0/638265</td>\n",
       "      <td>87294</td>\n",
       "    </tr>\n",
       "    <tr>\n",
       "      <th>RES_NETTO</th>\n",
       "      <td>float64</td>\n",
       "      <td>0/638265</td>\n",
       "      <td>221436</td>\n",
       "    </tr>\n",
       "    <tr>\n",
       "      <th>AUS_BRUTTO</th>\n",
       "      <td>float64</td>\n",
       "      <td>0/638265</td>\n",
       "      <td>160871</td>\n",
       "    </tr>\n",
       "    <tr>\n",
       "      <th>AUS_NETTO</th>\n",
       "      <td>float64</td>\n",
       "      <td>0/638265</td>\n",
       "      <td>307174</td>\n",
       "    </tr>\n",
       "    <tr>\n",
       "      <th>PV_TITEL</th>\n",
       "      <td>object</td>\n",
       "      <td>0/638265</td>\n",
       "      <td>7818</td>\n",
       "    </tr>\n",
       "    <tr>\n",
       "      <th>PARTNER_NR</th>\n",
       "      <td>int64</td>\n",
       "      <td>0/638265</td>\n",
       "      <td>5753</td>\n",
       "    </tr>\n",
       "    <tr>\n",
       "      <th>PARTNER</th>\n",
       "      <td>object</td>\n",
       "      <td>0/638265</td>\n",
       "      <td>5753</td>\n",
       "    </tr>\n",
       "  </tbody>\n",
       "</table>\n",
       "</div>"
      ],
      "text/plain": [
       "              DTYPE     NULLS  UNIQUE\n",
       "PV_NR         int64  0/638265    7818\n",
       "JAHR_KW       int64  0/638265     280\n",
       "JAHR         object  0/638265       6\n",
       "KW           object  0/638265      53\n",
       "RES_BRUTTO  float64  0/638265   87294\n",
       "RES_NETTO   float64  0/638265  221436\n",
       "AUS_BRUTTO  float64  0/638265  160871\n",
       "AUS_NETTO   float64  0/638265  307174\n",
       "PV_TITEL     object  0/638265    7818\n",
       "PARTNER_NR    int64  0/638265    5753\n",
       "PARTNER      object  0/638265    5753"
      ]
     },
     "execution_count": 6,
     "metadata": {},
     "output_type": "execute_result"
    }
   ],
   "source": [
    "desc_col(pv_data_raw)"
   ]
  },
  {
   "cell_type": "markdown",
   "metadata": {
    "pycharm": {}
   },
   "source": [
    "## Leerwerte bereinigen, Datentypen korrigieren"
   ]
  },
  {
   "cell_type": "code",
   "execution_count": 7,
   "metadata": {
    "pycharm": {}
   },
   "outputs": [],
   "source": [
    "pv_data_raw = pv_data_raw.dropna(how='any')"
   ]
  },
  {
   "cell_type": "code",
   "execution_count": 8,
   "metadata": {
    "pycharm": {}
   },
   "outputs": [
    {
     "data": {
      "text/plain": [
       "('254.5 MB', (638265, 11))"
      ]
     },
     "execution_count": 8,
     "metadata": {},
     "output_type": "execute_result"
    }
   ],
   "source": [
    "(obj_size(pv_data_raw), pv_data_raw.shape)"
   ]
  },
  {
   "cell_type": "code",
   "execution_count": 9,
   "metadata": {
    "pycharm": {}
   },
   "outputs": [],
   "source": [
    "pv_data_raw = pv_data_raw.pipe(as_dtype, dtFactor, incl_dtype='object')"
   ]
  },
  {
   "cell_type": "code",
   "execution_count": 10,
   "metadata": {
    "pycharm": {}
   },
   "outputs": [
    {
     "data": {
      "text/plain": [
       "('44.6 MB', (638265, 11))"
      ]
     },
     "execution_count": 10,
     "metadata": {},
     "output_type": "execute_result"
    }
   ],
   "source": [
    "(obj_size(pv_data_raw), pv_data_raw.shape)"
   ]
  },
  {
   "cell_type": "code",
   "execution_count": 11,
   "metadata": {
    "pycharm": {}
   },
   "outputs": [
    {
     "data": {
      "text/html": [
       "<div>\n",
       "<style scoped>\n",
       "    .dataframe tbody tr th:only-of-type {\n",
       "        vertical-align: middle;\n",
       "    }\n",
       "\n",
       "    .dataframe tbody tr th {\n",
       "        vertical-align: top;\n",
       "    }\n",
       "\n",
       "    .dataframe thead th {\n",
       "        text-align: right;\n",
       "    }\n",
       "</style>\n",
       "<table border=\"1\" class=\"dataframe\">\n",
       "  <thead>\n",
       "    <tr style=\"text-align: right;\">\n",
       "      <th></th>\n",
       "      <th>DTYPE</th>\n",
       "      <th>NULLS</th>\n",
       "      <th>UNIQUE</th>\n",
       "      <th>MEM</th>\n",
       "      <th>RANGE</th>\n",
       "    </tr>\n",
       "  </thead>\n",
       "  <tbody>\n",
       "    <tr>\n",
       "      <th>PV_NR</th>\n",
       "      <td>int64</td>\n",
       "      <td>0/638265</td>\n",
       "      <td>7818</td>\n",
       "      <td>9.7 MB</td>\n",
       "      <td>[26,311495]</td>\n",
       "    </tr>\n",
       "    <tr>\n",
       "      <th>JAHR_KW</th>\n",
       "      <td>int64</td>\n",
       "      <td>0/638265</td>\n",
       "      <td>280</td>\n",
       "      <td>9.7 MB</td>\n",
       "      <td>[201401,201919]</td>\n",
       "    </tr>\n",
       "    <tr>\n",
       "      <th>JAHR</th>\n",
       "      <td>category</td>\n",
       "      <td>0/638265</td>\n",
       "      <td>6</td>\n",
       "      <td>5.5 MB</td>\n",
       "      <td>[2014,2019]</td>\n",
       "    </tr>\n",
       "    <tr>\n",
       "      <th>KW</th>\n",
       "      <td>category</td>\n",
       "      <td>0/638265</td>\n",
       "      <td>53</td>\n",
       "      <td>5.5 MB</td>\n",
       "      <td>[01,53]</td>\n",
       "    </tr>\n",
       "    <tr>\n",
       "      <th>RES_BRUTTO</th>\n",
       "      <td>float64</td>\n",
       "      <td>0/638265</td>\n",
       "      <td>87294</td>\n",
       "      <td>9.7 MB</td>\n",
       "      <td>[3.55,4089637.83883066]</td>\n",
       "    </tr>\n",
       "    <tr>\n",
       "      <th>RES_NETTO</th>\n",
       "      <td>float64</td>\n",
       "      <td>0/638265</td>\n",
       "      <td>221436</td>\n",
       "      <td>9.7 MB</td>\n",
       "      <td>[-25.599412008256,3221578.3203589036]</td>\n",
       "    </tr>\n",
       "    <tr>\n",
       "      <th>AUS_BRUTTO</th>\n",
       "      <td>float64</td>\n",
       "      <td>0/638265</td>\n",
       "      <td>160871</td>\n",
       "      <td>9.7 MB</td>\n",
       "      <td>[0.692307692308,1577148.971208175]</td>\n",
       "    </tr>\n",
       "    <tr>\n",
       "      <th>AUS_NETTO</th>\n",
       "      <td>float64</td>\n",
       "      <td>0/638265</td>\n",
       "      <td>307174</td>\n",
       "      <td>9.7 MB</td>\n",
       "      <td>[-1.185886821269,940441.8088653579]</td>\n",
       "    </tr>\n",
       "    <tr>\n",
       "      <th>PV_TITEL</th>\n",
       "      <td>category</td>\n",
       "      <td>0/638265</td>\n",
       "      <td>7818</td>\n",
       "      <td>7.4 MB</td>\n",
       "      <td>[ Bern - Bethlehemstrasse 24 [26973],zb Zentralbahn AG [32060]]</td>\n",
       "    </tr>\n",
       "    <tr>\n",
       "      <th>PARTNER_NR</th>\n",
       "      <td>int64</td>\n",
       "      <td>0/638265</td>\n",
       "      <td>5753</td>\n",
       "      <td>9.7 MB</td>\n",
       "      <td>[100035,655489]</td>\n",
       "    </tr>\n",
       "    <tr>\n",
       "      <th>PARTNER</th>\n",
       "      <td>category</td>\n",
       "      <td>0/638265</td>\n",
       "      <td>5753</td>\n",
       "      <td>6.8 MB</td>\n",
       "      <td>[\"Zürich\" Versicherungs-Gesellschaft [495776],Özdemir Ökkes [614921]]</td>\n",
       "    </tr>\n",
       "  </tbody>\n",
       "</table>\n",
       "</div>"
      ],
      "text/plain": [
       "               DTYPE     NULLS  UNIQUE     MEM  \\\n",
       "PV_NR          int64  0/638265    7818  9.7 MB   \n",
       "JAHR_KW        int64  0/638265     280  9.7 MB   \n",
       "JAHR        category  0/638265       6  5.5 MB   \n",
       "KW          category  0/638265      53  5.5 MB   \n",
       "RES_BRUTTO   float64  0/638265   87294  9.7 MB   \n",
       "RES_NETTO    float64  0/638265  221436  9.7 MB   \n",
       "AUS_BRUTTO   float64  0/638265  160871  9.7 MB   \n",
       "AUS_NETTO    float64  0/638265  307174  9.7 MB   \n",
       "PV_TITEL    category  0/638265    7818  7.4 MB   \n",
       "PARTNER_NR     int64  0/638265    5753  9.7 MB   \n",
       "PARTNER     category  0/638265    5753  6.8 MB   \n",
       "\n",
       "                                                                            RANGE  \n",
       "PV_NR                                                                 [26,311495]  \n",
       "JAHR_KW                                                           [201401,201919]  \n",
       "JAHR                                                                  [2014,2019]  \n",
       "KW                                                                        [01,53]  \n",
       "RES_BRUTTO                                                [3.55,4089637.83883066]  \n",
       "RES_NETTO                                   [-25.599412008256,3221578.3203589036]  \n",
       "AUS_BRUTTO                                     [0.692307692308,1577148.971208175]  \n",
       "AUS_NETTO                                     [-1.185886821269,940441.8088653579]  \n",
       "PV_TITEL          [ Bern - Bethlehemstrasse 24 [26973],zb Zentralbahn AG [32060]]  \n",
       "PARTNER_NR                                                        [100035,655489]  \n",
       "PARTNER     [\"Zürich\" Versicherungs-Gesellschaft [495776],Özdemir Ökkes [614921]]  "
      ]
     },
     "execution_count": 11,
     "metadata": {},
     "output_type": "execute_result"
    }
   ],
   "source": [
    "desc_col(pv_data_raw, det=True)"
   ]
  },
  {
   "cell_type": "code",
   "execution_count": 13,
   "metadata": {
    "pycharm": {}
   },
   "outputs": [
    {
     "data": {
      "text/html": [
       "<div>\n",
       "<style scoped>\n",
       "    .dataframe tbody tr th:only-of-type {\n",
       "        vertical-align: middle;\n",
       "    }\n",
       "\n",
       "    .dataframe tbody tr th {\n",
       "        vertical-align: top;\n",
       "    }\n",
       "\n",
       "    .dataframe thead th {\n",
       "        text-align: right;\n",
       "    }\n",
       "</style>\n",
       "<table border=\"1\" class=\"dataframe\">\n",
       "  <thead>\n",
       "    <tr style=\"text-align: right;\">\n",
       "      <th></th>\n",
       "      <th>PV_NR</th>\n",
       "      <th>JAHR_KW</th>\n",
       "      <th>JAHR</th>\n",
       "      <th>KW</th>\n",
       "      <th>RES_BRUTTO</th>\n",
       "      <th>RES_NETTO</th>\n",
       "      <th>AUS_BRUTTO</th>\n",
       "      <th>AUS_NETTO</th>\n",
       "      <th>PV_TITEL</th>\n",
       "      <th>PARTNER_NR</th>\n",
       "      <th>PARTNER</th>\n",
       "    </tr>\n",
       "  </thead>\n",
       "  <tbody>\n",
       "    <tr>\n",
       "      <th>0</th>\n",
       "      <td>6343</td>\n",
       "      <td>201403</td>\n",
       "      <td>2014</td>\n",
       "      <td>03</td>\n",
       "      <td>2252.0</td>\n",
       "      <td>1607.575000</td>\n",
       "      <td>3111.807692</td>\n",
       "      <td>1551.038741</td>\n",
       "      <td>Brig-Glis - Gemeindevertrag [6343]</td>\n",
       "      <td>121149</td>\n",
       "      <td>Stadtgemeinde Brig-Glis [121149]</td>\n",
       "    </tr>\n",
       "    <tr>\n",
       "      <th>1</th>\n",
       "      <td>31591</td>\n",
       "      <td>201704</td>\n",
       "      <td>2017</td>\n",
       "      <td>04</td>\n",
       "      <td>5679.5</td>\n",
       "      <td>3371.635614</td>\n",
       "      <td>11138.653846</td>\n",
       "      <td>5038.083059</td>\n",
       "      <td>Dietikon, Rahmenvertrag Unterhaltsbezirk 3 [31591]</td>\n",
       "      <td>100988</td>\n",
       "      <td>Baudirektion Kanton Zürich [100988]</td>\n",
       "    </tr>\n",
       "    <tr>\n",
       "      <th>2</th>\n",
       "      <td>3547</td>\n",
       "      <td>201430</td>\n",
       "      <td>2014</td>\n",
       "      <td>30</td>\n",
       "      <td>19707.0</td>\n",
       "      <td>9300.944846</td>\n",
       "      <td>16007.472527</td>\n",
       "      <td>8608.231172</td>\n",
       "      <td>Sion - Convention d'affichage [3547]</td>\n",
       "      <td>118107</td>\n",
       "      <td>Municipalité de Sion [118107]</td>\n",
       "    </tr>\n",
       "    <tr>\n",
       "      <th>3</th>\n",
       "      <td>20896</td>\n",
       "      <td>201418</td>\n",
       "      <td>2014</td>\n",
       "      <td>18</td>\n",
       "      <td>11613.0</td>\n",
       "      <td>7567.459920</td>\n",
       "      <td>12694.883145</td>\n",
       "      <td>7817.615358</td>\n",
       "      <td>Vevey - Convention d'affichage [20896]</td>\n",
       "      <td>122045</td>\n",
       "      <td>Ville de Vevey [122045]</td>\n",
       "    </tr>\n",
       "    <tr>\n",
       "      <th>4</th>\n",
       "      <td>309650</td>\n",
       "      <td>201405</td>\n",
       "      <td>2014</td>\n",
       "      <td>05</td>\n",
       "      <td>302.0</td>\n",
       "      <td>119.768151</td>\n",
       "      <td>151.000000</td>\n",
       "      <td>58.446740</td>\n",
       "      <td>Olten, Sportstrasse 89 +91 [309650]</td>\n",
       "      <td>500110</td>\n",
       "      <td>Eishockey Club Olten AG EHCO [500110]</td>\n",
       "    </tr>\n",
       "  </tbody>\n",
       "</table>\n",
       "</div>"
      ],
      "text/plain": [
       "    PV_NR  JAHR_KW  JAHR  KW  RES_BRUTTO    RES_NETTO    AUS_BRUTTO  \\\n",
       "0    6343   201403  2014  03      2252.0  1607.575000   3111.807692   \n",
       "1   31591   201704  2017  04      5679.5  3371.635614  11138.653846   \n",
       "2    3547   201430  2014  30     19707.0  9300.944846  16007.472527   \n",
       "3   20896   201418  2014  18     11613.0  7567.459920  12694.883145   \n",
       "4  309650   201405  2014  05       302.0   119.768151    151.000000   \n",
       "\n",
       "     AUS_NETTO                                            PV_TITEL  \\\n",
       "0  1551.038741                  Brig-Glis - Gemeindevertrag [6343]   \n",
       "1  5038.083059  Dietikon, Rahmenvertrag Unterhaltsbezirk 3 [31591]   \n",
       "2  8608.231172                Sion - Convention d'affichage [3547]   \n",
       "3  7817.615358              Vevey - Convention d'affichage [20896]   \n",
       "4    58.446740                 Olten, Sportstrasse 89 +91 [309650]   \n",
       "\n",
       "   PARTNER_NR                                PARTNER  \n",
       "0      121149       Stadtgemeinde Brig-Glis [121149]  \n",
       "1      100988    Baudirektion Kanton Zürich [100988]  \n",
       "2      118107          Municipalité de Sion [118107]  \n",
       "3      122045                Ville de Vevey [122045]  \n",
       "4      500110  Eishockey Club Olten AG EHCO [500110]  "
      ]
     },
     "execution_count": 13,
     "metadata": {},
     "output_type": "execute_result"
    }
   ],
   "source": [
    "pv_data_raw.head()"
   ]
  },
  {
   "cell_type": "markdown",
   "metadata": {
    "pycharm": {}
   },
   "source": [
    "## Netto = 0 ausfiltern, sortieren, Geschäftsjahr und -woche für Aushang und Reservation berechnen"
   ]
  },
  {
   "cell_type": "code",
   "execution_count": 14,
   "metadata": {
    "pycharm": {}
   },
   "outputs": [],
   "source": [
    "pv_data = (pv_data_raw.query('AUS_NETTO > 0')\n",
    "           .sort_values(['JAHR_KW', 'PV_NR'])\n",
    "           .reset_index(drop=True))"
   ]
  },
  {
   "cell_type": "code",
   "execution_count": 15,
   "metadata": {
    "pycharm": {}
   },
   "outputs": [
    {
     "data": {
      "text/html": [
       "<div>\n",
       "<style scoped>\n",
       "    .dataframe tbody tr th:only-of-type {\n",
       "        vertical-align: middle;\n",
       "    }\n",
       "\n",
       "    .dataframe tbody tr th {\n",
       "        vertical-align: top;\n",
       "    }\n",
       "\n",
       "    .dataframe thead th {\n",
       "        text-align: right;\n",
       "    }\n",
       "</style>\n",
       "<table border=\"1\" class=\"dataframe\">\n",
       "  <thead>\n",
       "    <tr style=\"text-align: right;\">\n",
       "      <th></th>\n",
       "      <th>DTYPE</th>\n",
       "      <th>NULLS</th>\n",
       "      <th>UNIQUE</th>\n",
       "      <th>MEM</th>\n",
       "      <th>RANGE</th>\n",
       "    </tr>\n",
       "  </thead>\n",
       "  <tbody>\n",
       "    <tr>\n",
       "      <th>PV_NR</th>\n",
       "      <td>int64</td>\n",
       "      <td>0/626521</td>\n",
       "      <td>7761</td>\n",
       "      <td>4.8 MB</td>\n",
       "      <td>[26,311493]</td>\n",
       "    </tr>\n",
       "    <tr>\n",
       "      <th>JAHR_KW</th>\n",
       "      <td>int64</td>\n",
       "      <td>0/626521</td>\n",
       "      <td>280</td>\n",
       "      <td>4.8 MB</td>\n",
       "      <td>[201401,201919]</td>\n",
       "    </tr>\n",
       "    <tr>\n",
       "      <th>JAHR</th>\n",
       "      <td>category</td>\n",
       "      <td>0/626521</td>\n",
       "      <td>6</td>\n",
       "      <td>612.4 KB</td>\n",
       "      <td>[2014,2019]</td>\n",
       "    </tr>\n",
       "    <tr>\n",
       "      <th>KW</th>\n",
       "      <td>category</td>\n",
       "      <td>0/626521</td>\n",
       "      <td>53</td>\n",
       "      <td>617.5 KB</td>\n",
       "      <td>[01,53]</td>\n",
       "    </tr>\n",
       "    <tr>\n",
       "      <th>RES_BRUTTO</th>\n",
       "      <td>float64</td>\n",
       "      <td>0/626521</td>\n",
       "      <td>86638</td>\n",
       "      <td>4.8 MB</td>\n",
       "      <td>[3.55,4089637.83883066]</td>\n",
       "    </tr>\n",
       "    <tr>\n",
       "      <th>RES_NETTO</th>\n",
       "      <td>float64</td>\n",
       "      <td>0/626521</td>\n",
       "      <td>219593</td>\n",
       "      <td>4.8 MB</td>\n",
       "      <td>[-25.599412008256,3221578.3203589036]</td>\n",
       "    </tr>\n",
       "    <tr>\n",
       "      <th>AUS_BRUTTO</th>\n",
       "      <td>float64</td>\n",
       "      <td>0/626521</td>\n",
       "      <td>160613</td>\n",
       "      <td>4.8 MB</td>\n",
       "      <td>[0.692307692308,1577148.971208175]</td>\n",
       "    </tr>\n",
       "    <tr>\n",
       "      <th>AUS_NETTO</th>\n",
       "      <td>float64</td>\n",
       "      <td>0/626521</td>\n",
       "      <td>307171</td>\n",
       "      <td>4.8 MB</td>\n",
       "      <td>[0.512406219875,940441.8088653579]</td>\n",
       "    </tr>\n",
       "    <tr>\n",
       "      <th>PV_TITEL</th>\n",
       "      <td>category</td>\n",
       "      <td>0/626521</td>\n",
       "      <td>7761</td>\n",
       "      <td>2.5 MB</td>\n",
       "      <td>[ Bern - Bethlehemstrasse 24 [26973],zb Zentralbahn AG [32060]]</td>\n",
       "    </tr>\n",
       "    <tr>\n",
       "      <th>PARTNER_NR</th>\n",
       "      <td>int64</td>\n",
       "      <td>0/626521</td>\n",
       "      <td>5724</td>\n",
       "      <td>4.8 MB</td>\n",
       "      <td>[100035,655489]</td>\n",
       "    </tr>\n",
       "    <tr>\n",
       "      <th>PARTNER</th>\n",
       "      <td>category</td>\n",
       "      <td>0/626521</td>\n",
       "      <td>5724</td>\n",
       "      <td>1.9 MB</td>\n",
       "      <td>[\"Zürich\" Versicherungs-Gesellschaft [495776],Özdemir Ökkes [614921]]</td>\n",
       "    </tr>\n",
       "  </tbody>\n",
       "</table>\n",
       "</div>"
      ],
      "text/plain": [
       "               DTYPE     NULLS  UNIQUE       MEM  \\\n",
       "PV_NR          int64  0/626521    7761    4.8 MB   \n",
       "JAHR_KW        int64  0/626521     280    4.8 MB   \n",
       "JAHR        category  0/626521       6  612.4 KB   \n",
       "KW          category  0/626521      53  617.5 KB   \n",
       "RES_BRUTTO   float64  0/626521   86638    4.8 MB   \n",
       "RES_NETTO    float64  0/626521  219593    4.8 MB   \n",
       "AUS_BRUTTO   float64  0/626521  160613    4.8 MB   \n",
       "AUS_NETTO    float64  0/626521  307171    4.8 MB   \n",
       "PV_TITEL    category  0/626521    7761    2.5 MB   \n",
       "PARTNER_NR     int64  0/626521    5724    4.8 MB   \n",
       "PARTNER     category  0/626521    5724    1.9 MB   \n",
       "\n",
       "                                                                            RANGE  \n",
       "PV_NR                                                                 [26,311493]  \n",
       "JAHR_KW                                                           [201401,201919]  \n",
       "JAHR                                                                  [2014,2019]  \n",
       "KW                                                                        [01,53]  \n",
       "RES_BRUTTO                                                [3.55,4089637.83883066]  \n",
       "RES_NETTO                                   [-25.599412008256,3221578.3203589036]  \n",
       "AUS_BRUTTO                                     [0.692307692308,1577148.971208175]  \n",
       "AUS_NETTO                                      [0.512406219875,940441.8088653579]  \n",
       "PV_TITEL          [ Bern - Bethlehemstrasse 24 [26973],zb Zentralbahn AG [32060]]  \n",
       "PARTNER_NR                                                        [100035,655489]  \n",
       "PARTNER     [\"Zürich\" Versicherungs-Gesellschaft [495776],Özdemir Ökkes [614921]]  "
      ]
     },
     "execution_count": 15,
     "metadata": {},
     "output_type": "execute_result"
    }
   ],
   "source": [
    "desc_col(pv_data, det=True)"
   ]
  },
  {
   "cell_type": "markdown",
   "metadata": {},
   "source": [
    "## Vertragsinformationen extrahieren"
   ]
  },
  {
   "cell_type": "code",
   "execution_count": 23,
   "metadata": {},
   "outputs": [],
   "source": [
    "pv_idx = pv_data.groupby('PV_NR', as_index=True)"
   ]
  },
  {
   "cell_type": "code",
   "execution_count": 24,
   "metadata": {},
   "outputs": [],
   "source": [
    "pv_info = pv_idx.agg({'PV_TITEL': 'first', 'RES_BRUTTO': 'sum', 'RES_NETTO': 'sum', 'AUS_BRUTTO': 'sum', 'AUS_NETTO': 'sum', 'PARTNER_NR': 'last', 'PARTNER': 'last',\n",
    "                      'JAHR_KW': ['min', 'max']})\n",
    "pv_info.columns = 'Titel totalResBrutto, totalResNetto totalAusBrutto totalAusNetto partnerNr Partner firstKw lastKw'.split()"
   ]
  },
  {
   "cell_type": "code",
   "execution_count": 25,
   "metadata": {},
   "outputs": [
    {
     "data": {
      "text/html": [
       "<div>\n",
       "<style scoped>\n",
       "    .dataframe tbody tr th:only-of-type {\n",
       "        vertical-align: middle;\n",
       "    }\n",
       "\n",
       "    .dataframe tbody tr th {\n",
       "        vertical-align: top;\n",
       "    }\n",
       "\n",
       "    .dataframe thead th {\n",
       "        text-align: right;\n",
       "    }\n",
       "</style>\n",
       "<table border=\"1\" class=\"dataframe\">\n",
       "  <thead>\n",
       "    <tr style=\"text-align: right;\">\n",
       "      <th></th>\n",
       "      <th>DTYPE</th>\n",
       "      <th>NULLS</th>\n",
       "      <th>UNIQUE</th>\n",
       "      <th>MEM</th>\n",
       "      <th>RANGE</th>\n",
       "    </tr>\n",
       "  </thead>\n",
       "  <tbody>\n",
       "    <tr>\n",
       "      <th>Titel</th>\n",
       "      <td>object</td>\n",
       "      <td>0/7761</td>\n",
       "      <td>7761</td>\n",
       "      <td>1.1 MB</td>\n",
       "      <td>[ Bern - Bethlehemstrasse 24 [26973],zb Zentralbahn AG [32060]]</td>\n",
       "    </tr>\n",
       "    <tr>\n",
       "      <th>totalResBrutto,</th>\n",
       "      <td>float64</td>\n",
       "      <td>0/7761</td>\n",
       "      <td>7691</td>\n",
       "      <td>121.3 KB</td>\n",
       "      <td>[21.571428571429,201559729.9001885]</td>\n",
       "    </tr>\n",
       "    <tr>\n",
       "      <th>totalResNetto</th>\n",
       "      <td>float64</td>\n",
       "      <td>0/7761</td>\n",
       "      <td>7739</td>\n",
       "      <td>121.3 KB</td>\n",
       "      <td>[0.0,129567091.8999057]</td>\n",
       "    </tr>\n",
       "    <tr>\n",
       "      <th>totalAusBrutto</th>\n",
       "      <td>float64</td>\n",
       "      <td>0/7761</td>\n",
       "      <td>7695</td>\n",
       "      <td>121.3 KB</td>\n",
       "      <td>[4.153846153848,212121311.80940267]</td>\n",
       "    </tr>\n",
       "    <tr>\n",
       "      <th>totalAusNetto</th>\n",
       "      <td>float64</td>\n",
       "      <td>0/7761</td>\n",
       "      <td>7752</td>\n",
       "      <td>121.3 KB</td>\n",
       "      <td>[4.153846153848,137795544.8679387]</td>\n",
       "    </tr>\n",
       "    <tr>\n",
       "      <th>partnerNr</th>\n",
       "      <td>int64</td>\n",
       "      <td>0/7761</td>\n",
       "      <td>5724</td>\n",
       "      <td>121.3 KB</td>\n",
       "      <td>[100035,655489]</td>\n",
       "    </tr>\n",
       "    <tr>\n",
       "      <th>Partner</th>\n",
       "      <td>object</td>\n",
       "      <td>0/7761</td>\n",
       "      <td>5724</td>\n",
       "      <td>814.1 KB</td>\n",
       "      <td>[\"Zürich\" Versicherungs-Gesellschaft [495776],Özdemir Ökkes [614921]]</td>\n",
       "    </tr>\n",
       "    <tr>\n",
       "      <th>firstKw</th>\n",
       "      <td>int64</td>\n",
       "      <td>0/7761</td>\n",
       "      <td>259</td>\n",
       "      <td>121.3 KB</td>\n",
       "      <td>[201401,201919]</td>\n",
       "    </tr>\n",
       "    <tr>\n",
       "      <th>lastKw</th>\n",
       "      <td>int64</td>\n",
       "      <td>0/7761</td>\n",
       "      <td>262</td>\n",
       "      <td>121.3 KB</td>\n",
       "      <td>[201401,201919]</td>\n",
       "    </tr>\n",
       "  </tbody>\n",
       "</table>\n",
       "</div>"
      ],
      "text/plain": [
       "                   DTYPE   NULLS UNIQUE       MEM  \\\n",
       "Titel             object  0/7761   7761    1.1 MB   \n",
       "totalResBrutto,  float64  0/7761   7691  121.3 KB   \n",
       "totalResNetto    float64  0/7761   7739  121.3 KB   \n",
       "totalAusBrutto   float64  0/7761   7695  121.3 KB   \n",
       "totalAusNetto    float64  0/7761   7752  121.3 KB   \n",
       "partnerNr          int64  0/7761   5724  121.3 KB   \n",
       "Partner           object  0/7761   5724  814.1 KB   \n",
       "firstKw            int64  0/7761    259  121.3 KB   \n",
       "lastKw             int64  0/7761    262  121.3 KB   \n",
       "\n",
       "                                                                                 RANGE  \n",
       "Titel                  [ Bern - Bethlehemstrasse 24 [26973],zb Zentralbahn AG [32060]]  \n",
       "totalResBrutto,                                    [21.571428571429,201559729.9001885]  \n",
       "totalResNetto                                                  [0.0,129567091.8999057]  \n",
       "totalAusBrutto                                     [4.153846153848,212121311.80940267]  \n",
       "totalAusNetto                                       [4.153846153848,137795544.8679387]  \n",
       "partnerNr                                                              [100035,655489]  \n",
       "Partner          [\"Zürich\" Versicherungs-Gesellschaft [495776],Özdemir Ökkes [614921]]  \n",
       "firstKw                                                                [201401,201919]  \n",
       "lastKw                                                                 [201401,201919]  "
      ]
     },
     "execution_count": 25,
     "metadata": {},
     "output_type": "execute_result"
    }
   ],
   "source": [
    "desc_col(pv_info, det=True)"
   ]
  },
  {
   "cell_type": "code",
   "execution_count": 26,
   "metadata": {},
   "outputs": [
    {
     "data": {
      "application/vnd.jupyter.widget-view+json": {
       "model_id": "4122ea49bd03414e96ef5f73b17b0fe4",
       "version_major": 2,
       "version_minor": 0
      },
      "text/plain": [
       "QgridWidget(grid_options={'fullWidthRows': True, 'syncColumnCellResize': True, 'forceFitColumns': True, 'defau…"
      ]
     },
     "metadata": {},
     "output_type": "display_data"
    }
   ],
   "source": [
    "qgrid.show_grid(pv_info)"
   ]
  },
  {
   "cell_type": "markdown",
   "metadata": {},
   "source": [
    "#### Jahres-Nettoumsätze"
   ]
  },
  {
   "cell_type": "code",
   "execution_count": 20,
   "metadata": {},
   "outputs": [],
   "source": [
    "pvYearANetto = pv_data.groupby(['PV_NR', 'JAHR'], observed=True, as_index=False)[['AUS_NETTO']].agg('sum')\n",
    "pvYearRNetto = pv_data.groupby(['PV_NR', 'JAHR'], observed=True, as_index=False)[['RES_NETTO']].agg('sum')\n",
    "pvANetto = pvYearANetto.pivot(index='PV_NR', columns='JAHR', values='AUS_NETTO').fillna(0).add_prefix('Netto_Aus_')\n",
    "pvRNetto = pvYearRNetto.pivot(index='PV_NR', columns='JAHR', values='RES_NETTO').fillna(0).add_prefix('Netto_Res_')"
   ]
  },
  {
   "cell_type": "code",
   "execution_count": 21,
   "metadata": {},
   "outputs": [],
   "source": [
    "pv_info = pv_info.merge(pvANetto, on='PV_NR').merge(pvRNetto, on='PV_NR')"
   ]
  },
  {
   "cell_type": "markdown",
   "metadata": {
    "pycharm": {}
   },
   "source": [
    "## Daten speichern"
   ]
  },
  {
   "cell_type": "code",
   "execution_count": 22,
   "metadata": {
    "pycharm": {}
   },
   "outputs": [
    {
     "name": "stderr",
     "output_type": "stream",
     "text": [
      "2019-05-15 16:25:05 [INFO] Writing to file /home/pa/data/pv_data.feather\n",
      "2019-05-15 16:25:05 [INFO] Written 37.6 MB\n",
      "2019-05-15 16:25:05 [INFO] Finished storing binary file in 0.1s (0.68s CPU)\n",
      "2019-05-15 16:25:05 [INFO] Writing to file /home/pa/data/pv_info.feather\n",
      "2019-05-15 16:25:05 [INFO] Written 1.8 MB\n",
      "2019-05-15 16:25:05 [INFO] Finished storing binary file in 0.02s (0.13s CPU)\n"
     ]
    }
   ],
   "source": [
    "store_bin(pv_data, 'pv_data.feather')\n",
    "store_bin(pv_info, 'pv_info.feather')"
   ]
  }
 ],
 "metadata": {
  "jupytext": {
   "main_language": "python"
  },
  "kernelspec": {
   "display_name": "Python 3",
   "language": "python",
   "name": "python3"
  },
  "language_info": {
   "codemirror_mode": {
    "name": "ipython",
    "version": 3
   },
   "file_extension": ".py",
   "mimetype": "text/x-python",
   "name": "python",
   "nbconvert_exporter": "python",
   "pygments_lexer": "ipython3",
   "version": "3.7.3"
  }
 },
 "nbformat": 4,
 "nbformat_minor": 2
}
