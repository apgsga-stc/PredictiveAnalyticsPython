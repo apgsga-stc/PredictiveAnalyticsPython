{
 "cells": [
  {
   "cell_type": "markdown",
   "metadata": {
    "pycharm": {}
   },
   "source": [
    "# Partnervertrag Analyse: Datenpräparation"
   ]
  },
  {
   "cell_type": "code",
   "execution_count": 28,
   "metadata": {
    "pycharm": {
     "is_executing": false
    }
   },
   "outputs": [
    {
     "name": "stdout",
     "output_type": "stream",
     "text": [
      "The autoreload extension is already loaded. To reload it, use:\n",
      "  %reload_ext autoreload\n"
     ]
    }
   ],
   "source": [
    "%load_ext autoreload\n",
    "%autoreload\n",
    "\n",
    "import pandas as pd\n",
    "import qgrid\n",
    "\n",
    "from pa_lib.file  import store_bin\n",
    "from pa_lib.data  import desc_col, as_dtype, as_date, split_date_iso\n",
    "from pa_lib.util  import obj_size\n",
    "from pa_lib.types import dtFactor\n",
    "from pa_lib.sql   import query\n",
    "from pa_lib.ora   import Connection\n",
    "from pa_lib.log   import info\n",
    "\n",
    "# display long columns completely\n",
    "pd.set_option('display.max_colwidth', 200)"
   ]
  },
  {
   "cell_type": "markdown",
   "metadata": {
    "pycharm": {}
   },
   "source": [
    "## Daten einlesen"
   ]
  },
  {
   "cell_type": "code",
   "execution_count": 29,
   "metadata": {
    "pycharm": {}
   },
   "outputs": [],
   "source": [
    "pv_query = query('pv_2')"
   ]
  },
  {
   "cell_type": "code",
   "execution_count": 30,
   "metadata": {
    "pycharm": {}
   },
   "outputs": [
    {
     "name": "stderr",
     "output_type": "stream",
     "text": [
      "2019-05-20 13:20:44 [INFO] Starting PV query on APC Prod instance\n",
      "2019-05-20 13:21:22 [INFO] Finished query in 37.21s (10.12s CPU)\n",
      "2019-05-20 13:21:24 [INFO] Finished PV query, returned 344.6 MB of data: (959412, 11)\n"
     ]
    }
   ],
   "source": [
    "info('Starting PV query on APC Prod instance')\n",
    "with Connection('APC_PROD_VDWH1') as c:\n",
    "    pv_data_raw = c.long_query(pv_query)\n",
    "info(f'Finished PV query, returned {obj_size(pv_data_raw)} of data: {pv_data_raw.shape}')"
   ]
  },
  {
   "cell_type": "code",
   "execution_count": 31,
   "metadata": {
    "pycharm": {}
   },
   "outputs": [
    {
     "data": {
      "text/html": [
       "<div>\n",
       "<style scoped>\n",
       "    .dataframe tbody tr th:only-of-type {\n",
       "        vertical-align: middle;\n",
       "    }\n",
       "\n",
       "    .dataframe tbody tr th {\n",
       "        vertical-align: top;\n",
       "    }\n",
       "\n",
       "    .dataframe thead th {\n",
       "        text-align: right;\n",
       "    }\n",
       "</style>\n",
       "<table border=\"1\" class=\"dataframe\">\n",
       "  <thead>\n",
       "    <tr style=\"text-align: right;\">\n",
       "      <th></th>\n",
       "      <th>PV_NR</th>\n",
       "      <th>JAHR_KW</th>\n",
       "      <th>JAHR</th>\n",
       "      <th>KW</th>\n",
       "      <th>RES_BRUTTO</th>\n",
       "      <th>RES_NETTO</th>\n",
       "      <th>AUS_BRUTTO</th>\n",
       "      <th>AUS_NETTO</th>\n",
       "      <th>PV_TITEL</th>\n",
       "      <th>PARTNER_NR</th>\n",
       "      <th>PARTNER</th>\n",
       "    </tr>\n",
       "  </thead>\n",
       "  <tbody>\n",
       "    <tr>\n",
       "      <th>0</th>\n",
       "      <td>16278</td>\n",
       "      <td>201641</td>\n",
       "      <td>2016</td>\n",
       "      <td>41</td>\n",
       "      <td>9891.0</td>\n",
       "      <td>9613.250000</td>\n",
       "      <td>2952.750000</td>\n",
       "      <td>2095.048909</td>\n",
       "      <td>Prilly - Route de Renens\\nPassage piétons [16278]</td>\n",
       "      <td>130811</td>\n",
       "      <td>Centre Intercommunal de Glace de Malley SA [130811]</td>\n",
       "    </tr>\n",
       "    <tr>\n",
       "      <th>1</th>\n",
       "      <td>13414</td>\n",
       "      <td>201443</td>\n",
       "      <td>2014</td>\n",
       "      <td>43</td>\n",
       "      <td>1304.5</td>\n",
       "      <td>330.232953</td>\n",
       "      <td>1355.905038</td>\n",
       "      <td>969.973317</td>\n",
       "      <td>Heimberg - Gemeindegebiet  (öffentlicher Grund) [13414]</td>\n",
       "      <td>103797</td>\n",
       "      <td>Einwohnergemeinde Heimberg [103797]</td>\n",
       "    </tr>\n",
       "    <tr>\n",
       "      <th>2</th>\n",
       "      <td>24975</td>\n",
       "      <td>201533</td>\n",
       "      <td>2015</td>\n",
       "      <td>33</td>\n",
       "      <td>2407.0</td>\n",
       "      <td>2407.000000</td>\n",
       "      <td>2524.637363</td>\n",
       "      <td>2450.832005</td>\n",
       "      <td>Zug, Baudirektion des Kantons Zug, Plakatvertrag\\n [24975]</td>\n",
       "      <td>105637</td>\n",
       "      <td>Baudirektion des Kantons Zug [105637]</td>\n",
       "    </tr>\n",
       "    <tr>\n",
       "      <th>3</th>\n",
       "      <td>11565</td>\n",
       "      <td>201628</td>\n",
       "      <td>2016</td>\n",
       "      <td>28</td>\n",
       "      <td>0.0</td>\n",
       "      <td>0.000000</td>\n",
       "      <td>1294.000000</td>\n",
       "      <td>1292.600000</td>\n",
       "      <td>div. Stellen Kernzone, Bern [11565]</td>\n",
       "      <td>144093</td>\n",
       "      <td>Tiefbauamt der Stadt Bern [144093]</td>\n",
       "    </tr>\n",
       "    <tr>\n",
       "      <th>4</th>\n",
       "      <td>1151</td>\n",
       "      <td>201644</td>\n",
       "      <td>2016</td>\n",
       "      <td>44</td>\n",
       "      <td>0.0</td>\n",
       "      <td>0.000000</td>\n",
       "      <td>192.000000</td>\n",
       "      <td>66.883729</td>\n",
       "      <td>Hauptstrasse 139, 5615 Fahrwangen [1151]</td>\n",
       "      <td>106465</td>\n",
       "      <td>Rodel Walter [106465]</td>\n",
       "    </tr>\n",
       "  </tbody>\n",
       "</table>\n",
       "</div>"
      ],
      "text/plain": [
       "   PV_NR  JAHR_KW  JAHR  KW  RES_BRUTTO    RES_NETTO   AUS_BRUTTO  \\\n",
       "0  16278   201641  2016  41      9891.0  9613.250000  2952.750000   \n",
       "1  13414   201443  2014  43      1304.5   330.232953  1355.905038   \n",
       "2  24975   201533  2015  33      2407.0  2407.000000  2524.637363   \n",
       "3  11565   201628  2016  28         0.0     0.000000  1294.000000   \n",
       "4   1151   201644  2016  44         0.0     0.000000   192.000000   \n",
       "\n",
       "     AUS_NETTO                                                    PV_TITEL  \\\n",
       "0  2095.048909           Prilly - Route de Renens\\nPassage piétons [16278]   \n",
       "1   969.973317     Heimberg - Gemeindegebiet  (öffentlicher Grund) [13414]   \n",
       "2  2450.832005  Zug, Baudirektion des Kantons Zug, Plakatvertrag\\n [24975]   \n",
       "3  1292.600000                         div. Stellen Kernzone, Bern [11565]   \n",
       "4    66.883729                    Hauptstrasse 139, 5615 Fahrwangen [1151]   \n",
       "\n",
       "   PARTNER_NR                                              PARTNER  \n",
       "0      130811  Centre Intercommunal de Glace de Malley SA [130811]  \n",
       "1      103797                  Einwohnergemeinde Heimberg [103797]  \n",
       "2      105637                Baudirektion des Kantons Zug [105637]  \n",
       "3      144093                   Tiefbauamt der Stadt Bern [144093]  \n",
       "4      106465                                Rodel Walter [106465]  "
      ]
     },
     "execution_count": 31,
     "metadata": {},
     "output_type": "execute_result"
    }
   ],
   "source": [
    "pv_data_raw.head()"
   ]
  },
  {
   "cell_type": "code",
   "execution_count": 32,
   "metadata": {
    "pycharm": {}
   },
   "outputs": [
    {
     "data": {
      "text/html": [
       "<div>\n",
       "<style scoped>\n",
       "    .dataframe tbody tr th:only-of-type {\n",
       "        vertical-align: middle;\n",
       "    }\n",
       "\n",
       "    .dataframe tbody tr th {\n",
       "        vertical-align: top;\n",
       "    }\n",
       "\n",
       "    .dataframe thead th {\n",
       "        text-align: right;\n",
       "    }\n",
       "</style>\n",
       "<table border=\"1\" class=\"dataframe\">\n",
       "  <thead>\n",
       "    <tr style=\"text-align: right;\">\n",
       "      <th></th>\n",
       "      <th>DTYPE</th>\n",
       "      <th>NULLS</th>\n",
       "      <th>UNIQUE</th>\n",
       "    </tr>\n",
       "  </thead>\n",
       "  <tbody>\n",
       "    <tr>\n",
       "      <th>PV_NR</th>\n",
       "      <td>int64</td>\n",
       "      <td>0/959412</td>\n",
       "      <td>4210</td>\n",
       "    </tr>\n",
       "    <tr>\n",
       "      <th>JAHR_KW</th>\n",
       "      <td>int64</td>\n",
       "      <td>0/959412</td>\n",
       "      <td>383</td>\n",
       "    </tr>\n",
       "    <tr>\n",
       "      <th>JAHR</th>\n",
       "      <td>object</td>\n",
       "      <td>0/959412</td>\n",
       "      <td>8</td>\n",
       "    </tr>\n",
       "    <tr>\n",
       "      <th>KW</th>\n",
       "      <td>object</td>\n",
       "      <td>0/959412</td>\n",
       "      <td>53</td>\n",
       "    </tr>\n",
       "    <tr>\n",
       "      <th>RES_BRUTTO</th>\n",
       "      <td>float64</td>\n",
       "      <td>0/959412</td>\n",
       "      <td>64092</td>\n",
       "    </tr>\n",
       "    <tr>\n",
       "      <th>RES_NETTO</th>\n",
       "      <td>float64</td>\n",
       "      <td>0/959412</td>\n",
       "      <td>187229</td>\n",
       "    </tr>\n",
       "    <tr>\n",
       "      <th>AUS_BRUTTO</th>\n",
       "      <td>float64</td>\n",
       "      <td>0/959412</td>\n",
       "      <td>143078</td>\n",
       "    </tr>\n",
       "    <tr>\n",
       "      <th>AUS_NETTO</th>\n",
       "      <td>float64</td>\n",
       "      <td>0/959412</td>\n",
       "      <td>325612</td>\n",
       "    </tr>\n",
       "    <tr>\n",
       "      <th>PV_TITEL</th>\n",
       "      <td>object</td>\n",
       "      <td>0/959412</td>\n",
       "      <td>4210</td>\n",
       "    </tr>\n",
       "    <tr>\n",
       "      <th>PARTNER_NR</th>\n",
       "      <td>int64</td>\n",
       "      <td>0/959412</td>\n",
       "      <td>3176</td>\n",
       "    </tr>\n",
       "    <tr>\n",
       "      <th>PARTNER</th>\n",
       "      <td>object</td>\n",
       "      <td>0/959412</td>\n",
       "      <td>3176</td>\n",
       "    </tr>\n",
       "  </tbody>\n",
       "</table>\n",
       "</div>"
      ],
      "text/plain": [
       "              DTYPE     NULLS  UNIQUE\n",
       "PV_NR         int64  0/959412    4210\n",
       "JAHR_KW       int64  0/959412     383\n",
       "JAHR         object  0/959412       8\n",
       "KW           object  0/959412      53\n",
       "RES_BRUTTO  float64  0/959412   64092\n",
       "RES_NETTO   float64  0/959412  187229\n",
       "AUS_BRUTTO  float64  0/959412  143078\n",
       "AUS_NETTO   float64  0/959412  325612\n",
       "PV_TITEL     object  0/959412    4210\n",
       "PARTNER_NR    int64  0/959412    3176\n",
       "PARTNER      object  0/959412    3176"
      ]
     },
     "execution_count": 32,
     "metadata": {},
     "output_type": "execute_result"
    }
   ],
   "source": [
    "desc_col(pv_data_raw)"
   ]
  },
  {
   "cell_type": "markdown",
   "metadata": {
    "pycharm": {}
   },
   "source": [
    "## Leerwerte bereinigen, Datentypen korrigieren"
   ]
  },
  {
   "cell_type": "code",
   "execution_count": 33,
   "metadata": {
    "pycharm": {}
   },
   "outputs": [],
   "source": [
    "pv_data_raw = pv_data_raw.dropna(how='any')"
   ]
  },
  {
   "cell_type": "code",
   "execution_count": 34,
   "metadata": {
    "pycharm": {}
   },
   "outputs": [
    {
     "data": {
      "text/plain": [
       "('373.7 MB', (959412, 11))"
      ]
     },
     "execution_count": 34,
     "metadata": {},
     "output_type": "execute_result"
    }
   ],
   "source": [
    "(obj_size(pv_data_raw), pv_data_raw.shape)"
   ]
  },
  {
   "cell_type": "code",
   "execution_count": 35,
   "metadata": {
    "pycharm": {}
   },
   "outputs": [],
   "source": [
    "pv_data_raw = pv_data_raw.pipe(as_dtype, dtFactor, incl_dtype='object')"
   ]
  },
  {
   "cell_type": "code",
   "execution_count": 36,
   "metadata": {
    "pycharm": {}
   },
   "outputs": [
    {
     "data": {
      "text/plain": [
       "('65.2 MB', (959412, 11))"
      ]
     },
     "execution_count": 36,
     "metadata": {},
     "output_type": "execute_result"
    }
   ],
   "source": [
    "(obj_size(pv_data_raw), pv_data_raw.shape)"
   ]
  },
  {
   "cell_type": "code",
   "execution_count": 37,
   "metadata": {
    "pycharm": {}
   },
   "outputs": [
    {
     "data": {
      "text/html": [
       "<div>\n",
       "<style scoped>\n",
       "    .dataframe tbody tr th:only-of-type {\n",
       "        vertical-align: middle;\n",
       "    }\n",
       "\n",
       "    .dataframe tbody tr th {\n",
       "        vertical-align: top;\n",
       "    }\n",
       "\n",
       "    .dataframe thead th {\n",
       "        text-align: right;\n",
       "    }\n",
       "</style>\n",
       "<table border=\"1\" class=\"dataframe\">\n",
       "  <thead>\n",
       "    <tr style=\"text-align: right;\">\n",
       "      <th></th>\n",
       "      <th>DTYPE</th>\n",
       "      <th>NULLS</th>\n",
       "      <th>UNIQUE</th>\n",
       "      <th>MEM</th>\n",
       "      <th>RANGE</th>\n",
       "    </tr>\n",
       "  </thead>\n",
       "  <tbody>\n",
       "    <tr>\n",
       "      <th>PV_NR</th>\n",
       "      <td>int64</td>\n",
       "      <td>0/959412</td>\n",
       "      <td>4210</td>\n",
       "      <td>14.6 MB</td>\n",
       "      <td>[28,307931]</td>\n",
       "    </tr>\n",
       "    <tr>\n",
       "      <th>JAHR_KW</th>\n",
       "      <td>int64</td>\n",
       "      <td>0/959412</td>\n",
       "      <td>383</td>\n",
       "      <td>14.6 MB</td>\n",
       "      <td>[201401,202117]</td>\n",
       "    </tr>\n",
       "    <tr>\n",
       "      <th>JAHR</th>\n",
       "      <td>category</td>\n",
       "      <td>0/959412</td>\n",
       "      <td>8</td>\n",
       "      <td>8.2 MB</td>\n",
       "      <td>[2014,2021]</td>\n",
       "    </tr>\n",
       "    <tr>\n",
       "      <th>KW</th>\n",
       "      <td>category</td>\n",
       "      <td>0/959412</td>\n",
       "      <td>53</td>\n",
       "      <td>8.2 MB</td>\n",
       "      <td>[01,53]</td>\n",
       "    </tr>\n",
       "    <tr>\n",
       "      <th>RES_BRUTTO</th>\n",
       "      <td>float64</td>\n",
       "      <td>0/959412</td>\n",
       "      <td>64092</td>\n",
       "      <td>14.6 MB</td>\n",
       "      <td>[0.0,1818913.5130294955]</td>\n",
       "    </tr>\n",
       "    <tr>\n",
       "      <th>RES_NETTO</th>\n",
       "      <td>float64</td>\n",
       "      <td>0/959412</td>\n",
       "      <td>187229</td>\n",
       "      <td>14.6 MB</td>\n",
       "      <td>[-7.14216149067,1107719.8292558126]</td>\n",
       "    </tr>\n",
       "    <tr>\n",
       "      <th>AUS_BRUTTO</th>\n",
       "      <td>float64</td>\n",
       "      <td>0/959412</td>\n",
       "      <td>143078</td>\n",
       "      <td>14.6 MB</td>\n",
       "      <td>[0.0,429794.512849719]</td>\n",
       "    </tr>\n",
       "    <tr>\n",
       "      <th>AUS_NETTO</th>\n",
       "      <td>float64</td>\n",
       "      <td>0/959412</td>\n",
       "      <td>325612</td>\n",
       "      <td>14.6 MB</td>\n",
       "      <td>[-1.185886821269,285173.55827892455]</td>\n",
       "    </tr>\n",
       "    <tr>\n",
       "      <th>PV_TITEL</th>\n",
       "      <td>category</td>\n",
       "      <td>0/959412</td>\n",
       "      <td>4210</td>\n",
       "      <td>9.8 MB</td>\n",
       "      <td>[ 1800 Vevey - Rue du Panorama 12 [24493],öffentlicher Grund [12466]]</td>\n",
       "    </tr>\n",
       "    <tr>\n",
       "      <th>PARTNER_NR</th>\n",
       "      <td>int64</td>\n",
       "      <td>0/959412</td>\n",
       "      <td>3176</td>\n",
       "      <td>14.6 MB</td>\n",
       "      <td>[100035,655161]</td>\n",
       "    </tr>\n",
       "    <tr>\n",
       "      <th>PARTNER</th>\n",
       "      <td>category</td>\n",
       "      <td>0/959412</td>\n",
       "      <td>3176</td>\n",
       "      <td>9.6 MB</td>\n",
       "      <td>[19gale GmbH [521739],zb Zentralbahn AG [464509]]</td>\n",
       "    </tr>\n",
       "  </tbody>\n",
       "</table>\n",
       "</div>"
      ],
      "text/plain": [
       "               DTYPE     NULLS  UNIQUE      MEM  \\\n",
       "PV_NR          int64  0/959412    4210  14.6 MB   \n",
       "JAHR_KW        int64  0/959412     383  14.6 MB   \n",
       "JAHR        category  0/959412       8   8.2 MB   \n",
       "KW          category  0/959412      53   8.2 MB   \n",
       "RES_BRUTTO   float64  0/959412   64092  14.6 MB   \n",
       "RES_NETTO    float64  0/959412  187229  14.6 MB   \n",
       "AUS_BRUTTO   float64  0/959412  143078  14.6 MB   \n",
       "AUS_NETTO    float64  0/959412  325612  14.6 MB   \n",
       "PV_TITEL    category  0/959412    4210   9.8 MB   \n",
       "PARTNER_NR     int64  0/959412    3176  14.6 MB   \n",
       "PARTNER     category  0/959412    3176   9.6 MB   \n",
       "\n",
       "                                                                            RANGE  \n",
       "PV_NR                                                                 [28,307931]  \n",
       "JAHR_KW                                                           [201401,202117]  \n",
       "JAHR                                                                  [2014,2021]  \n",
       "KW                                                                        [01,53]  \n",
       "RES_BRUTTO                                               [0.0,1818913.5130294955]  \n",
       "RES_NETTO                                     [-7.14216149067,1107719.8292558126]  \n",
       "AUS_BRUTTO                                                 [0.0,429794.512849719]  \n",
       "AUS_NETTO                                    [-1.185886821269,285173.55827892455]  \n",
       "PV_TITEL    [ 1800 Vevey - Rue du Panorama 12 [24493],öffentlicher Grund [12466]]  \n",
       "PARTNER_NR                                                        [100035,655161]  \n",
       "PARTNER                         [19gale GmbH [521739],zb Zentralbahn AG [464509]]  "
      ]
     },
     "execution_count": 37,
     "metadata": {},
     "output_type": "execute_result"
    }
   ],
   "source": [
    "desc_col(pv_data_raw, det=True)"
   ]
  },
  {
   "cell_type": "code",
   "execution_count": 38,
   "metadata": {
    "pycharm": {}
   },
   "outputs": [
    {
     "data": {
      "text/html": [
       "<div>\n",
       "<style scoped>\n",
       "    .dataframe tbody tr th:only-of-type {\n",
       "        vertical-align: middle;\n",
       "    }\n",
       "\n",
       "    .dataframe tbody tr th {\n",
       "        vertical-align: top;\n",
       "    }\n",
       "\n",
       "    .dataframe thead th {\n",
       "        text-align: right;\n",
       "    }\n",
       "</style>\n",
       "<table border=\"1\" class=\"dataframe\">\n",
       "  <thead>\n",
       "    <tr style=\"text-align: right;\">\n",
       "      <th></th>\n",
       "      <th>PV_NR</th>\n",
       "      <th>JAHR_KW</th>\n",
       "      <th>JAHR</th>\n",
       "      <th>KW</th>\n",
       "      <th>RES_BRUTTO</th>\n",
       "      <th>RES_NETTO</th>\n",
       "      <th>AUS_BRUTTO</th>\n",
       "      <th>AUS_NETTO</th>\n",
       "      <th>PV_TITEL</th>\n",
       "      <th>PARTNER_NR</th>\n",
       "      <th>PARTNER</th>\n",
       "    </tr>\n",
       "  </thead>\n",
       "  <tbody>\n",
       "    <tr>\n",
       "      <th>0</th>\n",
       "      <td>16278</td>\n",
       "      <td>201641</td>\n",
       "      <td>2016</td>\n",
       "      <td>41</td>\n",
       "      <td>9891.0</td>\n",
       "      <td>9613.250000</td>\n",
       "      <td>2952.750000</td>\n",
       "      <td>2095.048909</td>\n",
       "      <td>Prilly - Route de Renens\\nPassage piétons [16278]</td>\n",
       "      <td>130811</td>\n",
       "      <td>Centre Intercommunal de Glace de Malley SA [130811]</td>\n",
       "    </tr>\n",
       "    <tr>\n",
       "      <th>1</th>\n",
       "      <td>13414</td>\n",
       "      <td>201443</td>\n",
       "      <td>2014</td>\n",
       "      <td>43</td>\n",
       "      <td>1304.5</td>\n",
       "      <td>330.232953</td>\n",
       "      <td>1355.905038</td>\n",
       "      <td>969.973317</td>\n",
       "      <td>Heimberg - Gemeindegebiet  (öffentlicher Grund) [13414]</td>\n",
       "      <td>103797</td>\n",
       "      <td>Einwohnergemeinde Heimberg [103797]</td>\n",
       "    </tr>\n",
       "    <tr>\n",
       "      <th>2</th>\n",
       "      <td>24975</td>\n",
       "      <td>201533</td>\n",
       "      <td>2015</td>\n",
       "      <td>33</td>\n",
       "      <td>2407.0</td>\n",
       "      <td>2407.000000</td>\n",
       "      <td>2524.637363</td>\n",
       "      <td>2450.832005</td>\n",
       "      <td>Zug, Baudirektion des Kantons Zug, Plakatvertrag\\n [24975]</td>\n",
       "      <td>105637</td>\n",
       "      <td>Baudirektion des Kantons Zug [105637]</td>\n",
       "    </tr>\n",
       "    <tr>\n",
       "      <th>3</th>\n",
       "      <td>11565</td>\n",
       "      <td>201628</td>\n",
       "      <td>2016</td>\n",
       "      <td>28</td>\n",
       "      <td>0.0</td>\n",
       "      <td>0.000000</td>\n",
       "      <td>1294.000000</td>\n",
       "      <td>1292.600000</td>\n",
       "      <td>div. Stellen Kernzone, Bern [11565]</td>\n",
       "      <td>144093</td>\n",
       "      <td>Tiefbauamt der Stadt Bern [144093]</td>\n",
       "    </tr>\n",
       "    <tr>\n",
       "      <th>4</th>\n",
       "      <td>1151</td>\n",
       "      <td>201644</td>\n",
       "      <td>2016</td>\n",
       "      <td>44</td>\n",
       "      <td>0.0</td>\n",
       "      <td>0.000000</td>\n",
       "      <td>192.000000</td>\n",
       "      <td>66.883729</td>\n",
       "      <td>Hauptstrasse 139, 5615 Fahrwangen [1151]</td>\n",
       "      <td>106465</td>\n",
       "      <td>Rodel Walter [106465]</td>\n",
       "    </tr>\n",
       "  </tbody>\n",
       "</table>\n",
       "</div>"
      ],
      "text/plain": [
       "   PV_NR  JAHR_KW  JAHR  KW  RES_BRUTTO    RES_NETTO   AUS_BRUTTO  \\\n",
       "0  16278   201641  2016  41      9891.0  9613.250000  2952.750000   \n",
       "1  13414   201443  2014  43      1304.5   330.232953  1355.905038   \n",
       "2  24975   201533  2015  33      2407.0  2407.000000  2524.637363   \n",
       "3  11565   201628  2016  28         0.0     0.000000  1294.000000   \n",
       "4   1151   201644  2016  44         0.0     0.000000   192.000000   \n",
       "\n",
       "     AUS_NETTO                                                    PV_TITEL  \\\n",
       "0  2095.048909           Prilly - Route de Renens\\nPassage piétons [16278]   \n",
       "1   969.973317     Heimberg - Gemeindegebiet  (öffentlicher Grund) [13414]   \n",
       "2  2450.832005  Zug, Baudirektion des Kantons Zug, Plakatvertrag\\n [24975]   \n",
       "3  1292.600000                         div. Stellen Kernzone, Bern [11565]   \n",
       "4    66.883729                    Hauptstrasse 139, 5615 Fahrwangen [1151]   \n",
       "\n",
       "   PARTNER_NR                                              PARTNER  \n",
       "0      130811  Centre Intercommunal de Glace de Malley SA [130811]  \n",
       "1      103797                  Einwohnergemeinde Heimberg [103797]  \n",
       "2      105637                Baudirektion des Kantons Zug [105637]  \n",
       "3      144093                   Tiefbauamt der Stadt Bern [144093]  \n",
       "4      106465                                Rodel Walter [106465]  "
      ]
     },
     "execution_count": 38,
     "metadata": {},
     "output_type": "execute_result"
    }
   ],
   "source": [
    "pv_data_raw.head()"
   ]
  },
  {
   "cell_type": "markdown",
   "metadata": {
    "pycharm": {}
   },
   "source": [
    "## Netto = 0 ausfiltern, sortieren, Geschäftsjahr und -woche für Aushang und Reservation berechnen"
   ]
  },
  {
   "cell_type": "code",
   "execution_count": 39,
   "metadata": {
    "pycharm": {}
   },
   "outputs": [],
   "source": [
    "pv_data = (pv_data_raw.query('AUS_NETTO > 0')\n",
    "           .sort_values(['JAHR_KW', 'PV_NR'])\n",
    "           .reset_index(drop=True))"
   ]
  },
  {
   "cell_type": "code",
   "execution_count": 40,
   "metadata": {
    "pycharm": {}
   },
   "outputs": [
    {
     "data": {
      "text/html": [
       "<div>\n",
       "<style scoped>\n",
       "    .dataframe tbody tr th:only-of-type {\n",
       "        vertical-align: middle;\n",
       "    }\n",
       "\n",
       "    .dataframe tbody tr th {\n",
       "        vertical-align: top;\n",
       "    }\n",
       "\n",
       "    .dataframe thead th {\n",
       "        text-align: right;\n",
       "    }\n",
       "</style>\n",
       "<table border=\"1\" class=\"dataframe\">\n",
       "  <thead>\n",
       "    <tr style=\"text-align: right;\">\n",
       "      <th></th>\n",
       "      <th>DTYPE</th>\n",
       "      <th>NULLS</th>\n",
       "      <th>UNIQUE</th>\n",
       "      <th>MEM</th>\n",
       "      <th>RANGE</th>\n",
       "    </tr>\n",
       "  </thead>\n",
       "  <tbody>\n",
       "    <tr>\n",
       "      <th>PV_NR</th>\n",
       "      <td>int64</td>\n",
       "      <td>0/845123</td>\n",
       "      <td>4207</td>\n",
       "      <td>6.4 MB</td>\n",
       "      <td>[28,307931]</td>\n",
       "    </tr>\n",
       "    <tr>\n",
       "      <th>JAHR_KW</th>\n",
       "      <td>int64</td>\n",
       "      <td>0/845123</td>\n",
       "      <td>383</td>\n",
       "      <td>6.4 MB</td>\n",
       "      <td>[201401,202117]</td>\n",
       "    </tr>\n",
       "    <tr>\n",
       "      <th>JAHR</th>\n",
       "      <td>category</td>\n",
       "      <td>0/845123</td>\n",
       "      <td>8</td>\n",
       "      <td>826.2 KB</td>\n",
       "      <td>[2014,2021]</td>\n",
       "    </tr>\n",
       "    <tr>\n",
       "      <th>KW</th>\n",
       "      <td>category</td>\n",
       "      <td>0/845123</td>\n",
       "      <td>53</td>\n",
       "      <td>830.9 KB</td>\n",
       "      <td>[01,53]</td>\n",
       "    </tr>\n",
       "    <tr>\n",
       "      <th>RES_BRUTTO</th>\n",
       "      <td>float64</td>\n",
       "      <td>0/845123</td>\n",
       "      <td>58542</td>\n",
       "      <td>6.4 MB</td>\n",
       "      <td>[0.0,1818913.5130294955]</td>\n",
       "    </tr>\n",
       "    <tr>\n",
       "      <th>RES_NETTO</th>\n",
       "      <td>float64</td>\n",
       "      <td>0/845123</td>\n",
       "      <td>167049</td>\n",
       "      <td>6.4 MB</td>\n",
       "      <td>[-7.14216149067,1107719.8292558126]</td>\n",
       "    </tr>\n",
       "    <tr>\n",
       "      <th>AUS_BRUTTO</th>\n",
       "      <td>float64</td>\n",
       "      <td>0/845123</td>\n",
       "      <td>142836</td>\n",
       "      <td>6.4 MB</td>\n",
       "      <td>[1.0,429794.512849719]</td>\n",
       "    </tr>\n",
       "    <tr>\n",
       "      <th>AUS_NETTO</th>\n",
       "      <td>float64</td>\n",
       "      <td>0/845123</td>\n",
       "      <td>325609</td>\n",
       "      <td>6.4 MB</td>\n",
       "      <td>[0.263904606228,285173.55827892455]</td>\n",
       "    </tr>\n",
       "    <tr>\n",
       "      <th>PV_TITEL</th>\n",
       "      <td>category</td>\n",
       "      <td>0/845123</td>\n",
       "      <td>4207</td>\n",
       "      <td>2.3 MB</td>\n",
       "      <td>[ 1800 Vevey - Rue du Panorama 12 [24493],öffentlicher Grund [12466]]</td>\n",
       "    </tr>\n",
       "    <tr>\n",
       "      <th>PARTNER_NR</th>\n",
       "      <td>int64</td>\n",
       "      <td>0/845123</td>\n",
       "      <td>3174</td>\n",
       "      <td>6.4 MB</td>\n",
       "      <td>[100035,655161]</td>\n",
       "    </tr>\n",
       "    <tr>\n",
       "      <th>PARTNER</th>\n",
       "      <td>category</td>\n",
       "      <td>0/845123</td>\n",
       "      <td>3174</td>\n",
       "      <td>2.1 MB</td>\n",
       "      <td>[19gale GmbH [521739],zb Zentralbahn AG [464509]]</td>\n",
       "    </tr>\n",
       "  </tbody>\n",
       "</table>\n",
       "</div>"
      ],
      "text/plain": [
       "               DTYPE     NULLS  UNIQUE       MEM  \\\n",
       "PV_NR          int64  0/845123    4207    6.4 MB   \n",
       "JAHR_KW        int64  0/845123     383    6.4 MB   \n",
       "JAHR        category  0/845123       8  826.2 KB   \n",
       "KW          category  0/845123      53  830.9 KB   \n",
       "RES_BRUTTO   float64  0/845123   58542    6.4 MB   \n",
       "RES_NETTO    float64  0/845123  167049    6.4 MB   \n",
       "AUS_BRUTTO   float64  0/845123  142836    6.4 MB   \n",
       "AUS_NETTO    float64  0/845123  325609    6.4 MB   \n",
       "PV_TITEL    category  0/845123    4207    2.3 MB   \n",
       "PARTNER_NR     int64  0/845123    3174    6.4 MB   \n",
       "PARTNER     category  0/845123    3174    2.1 MB   \n",
       "\n",
       "                                                                            RANGE  \n",
       "PV_NR                                                                 [28,307931]  \n",
       "JAHR_KW                                                           [201401,202117]  \n",
       "JAHR                                                                  [2014,2021]  \n",
       "KW                                                                        [01,53]  \n",
       "RES_BRUTTO                                               [0.0,1818913.5130294955]  \n",
       "RES_NETTO                                     [-7.14216149067,1107719.8292558126]  \n",
       "AUS_BRUTTO                                                 [1.0,429794.512849719]  \n",
       "AUS_NETTO                                     [0.263904606228,285173.55827892455]  \n",
       "PV_TITEL    [ 1800 Vevey - Rue du Panorama 12 [24493],öffentlicher Grund [12466]]  \n",
       "PARTNER_NR                                                        [100035,655161]  \n",
       "PARTNER                         [19gale GmbH [521739],zb Zentralbahn AG [464509]]  "
      ]
     },
     "execution_count": 40,
     "metadata": {},
     "output_type": "execute_result"
    }
   ],
   "source": [
    "desc_col(pv_data, det=True)"
   ]
  },
  {
   "cell_type": "markdown",
   "metadata": {},
   "source": [
    "## Vertragsinformationen extrahieren"
   ]
  },
  {
   "cell_type": "code",
   "execution_count": 41,
   "metadata": {},
   "outputs": [],
   "source": [
    "pv_idx = pv_data.groupby('PV_NR', as_index=True)"
   ]
  },
  {
   "cell_type": "code",
   "execution_count": 42,
   "metadata": {},
   "outputs": [],
   "source": [
    "pv_info = pv_idx.agg({'PV_TITEL': 'first', 'RES_BRUTTO': 'sum', 'RES_NETTO': 'sum', 'AUS_BRUTTO': 'sum', 'AUS_NETTO': 'sum', 'PARTNER_NR': 'last', 'PARTNER': 'last',\n",
    "                      'JAHR_KW': ['min', 'max']})\n",
    "pv_info.columns = 'Titel totalResBrutto, totalResNetto totalAusBrutto totalAusNetto partnerNr Partner firstKw lastKw'.split()"
   ]
  },
  {
   "cell_type": "code",
   "execution_count": 43,
   "metadata": {},
   "outputs": [
    {
     "data": {
      "text/html": [
       "<div>\n",
       "<style scoped>\n",
       "    .dataframe tbody tr th:only-of-type {\n",
       "        vertical-align: middle;\n",
       "    }\n",
       "\n",
       "    .dataframe tbody tr th {\n",
       "        vertical-align: top;\n",
       "    }\n",
       "\n",
       "    .dataframe thead th {\n",
       "        text-align: right;\n",
       "    }\n",
       "</style>\n",
       "<table border=\"1\" class=\"dataframe\">\n",
       "  <thead>\n",
       "    <tr style=\"text-align: right;\">\n",
       "      <th></th>\n",
       "      <th>DTYPE</th>\n",
       "      <th>NULLS</th>\n",
       "      <th>UNIQUE</th>\n",
       "      <th>MEM</th>\n",
       "      <th>RANGE</th>\n",
       "    </tr>\n",
       "  </thead>\n",
       "  <tbody>\n",
       "    <tr>\n",
       "      <th>Titel</th>\n",
       "      <td>object</td>\n",
       "      <td>0/4207</td>\n",
       "      <td>4207</td>\n",
       "      <td>546.2 KB</td>\n",
       "      <td>[ 1800 Vevey - Rue du Panorama 12 [24493],öffentlicher Grund [12466]]</td>\n",
       "    </tr>\n",
       "    <tr>\n",
       "      <th>totalResBrutto,</th>\n",
       "      <td>float64</td>\n",
       "      <td>0/4207</td>\n",
       "      <td>4066</td>\n",
       "      <td>65.7 KB</td>\n",
       "      <td>[0.0,38970086.93807321]</td>\n",
       "    </tr>\n",
       "    <tr>\n",
       "      <th>totalResNetto</th>\n",
       "      <td>float64</td>\n",
       "      <td>0/4207</td>\n",
       "      <td>4080</td>\n",
       "      <td>65.7 KB</td>\n",
       "      <td>[0.0,23869277.3785922]</td>\n",
       "    </tr>\n",
       "    <tr>\n",
       "      <th>totalAusBrutto</th>\n",
       "      <td>float64</td>\n",
       "      <td>0/4207</td>\n",
       "      <td>4119</td>\n",
       "      <td>65.7 KB</td>\n",
       "      <td>[47.0,39530357.74333258]</td>\n",
       "    </tr>\n",
       "    <tr>\n",
       "      <th>totalAusNetto</th>\n",
       "      <td>float64</td>\n",
       "      <td>0/4207</td>\n",
       "      <td>4121</td>\n",
       "      <td>65.7 KB</td>\n",
       "      <td>[39.95,24250531.60974595]</td>\n",
       "    </tr>\n",
       "    <tr>\n",
       "      <th>partnerNr</th>\n",
       "      <td>int64</td>\n",
       "      <td>0/4207</td>\n",
       "      <td>3174</td>\n",
       "      <td>65.7 KB</td>\n",
       "      <td>[100035,655161]</td>\n",
       "    </tr>\n",
       "    <tr>\n",
       "      <th>Partner</th>\n",
       "      <td>object</td>\n",
       "      <td>0/4207</td>\n",
       "      <td>3174</td>\n",
       "      <td>442.8 KB</td>\n",
       "      <td>[19gale GmbH [521739],zb Zentralbahn AG [464509]]</td>\n",
       "    </tr>\n",
       "    <tr>\n",
       "      <th>firstKw</th>\n",
       "      <td>int64</td>\n",
       "      <td>0/4207</td>\n",
       "      <td>70</td>\n",
       "      <td>65.7 KB</td>\n",
       "      <td>[201401,201845]</td>\n",
       "    </tr>\n",
       "    <tr>\n",
       "      <th>lastKw</th>\n",
       "      <td>int64</td>\n",
       "      <td>0/4207</td>\n",
       "      <td>287</td>\n",
       "      <td>65.7 KB</td>\n",
       "      <td>[201405,202117]</td>\n",
       "    </tr>\n",
       "  </tbody>\n",
       "</table>\n",
       "</div>"
      ],
      "text/plain": [
       "                   DTYPE   NULLS UNIQUE       MEM  \\\n",
       "Titel             object  0/4207   4207  546.2 KB   \n",
       "totalResBrutto,  float64  0/4207   4066   65.7 KB   \n",
       "totalResNetto    float64  0/4207   4080   65.7 KB   \n",
       "totalAusBrutto   float64  0/4207   4119   65.7 KB   \n",
       "totalAusNetto    float64  0/4207   4121   65.7 KB   \n",
       "partnerNr          int64  0/4207   3174   65.7 KB   \n",
       "Partner           object  0/4207   3174  442.8 KB   \n",
       "firstKw            int64  0/4207     70   65.7 KB   \n",
       "lastKw             int64  0/4207    287   65.7 KB   \n",
       "\n",
       "                                                                                 RANGE  \n",
       "Titel            [ 1800 Vevey - Rue du Panorama 12 [24493],öffentlicher Grund [12466]]  \n",
       "totalResBrutto,                                                [0.0,38970086.93807321]  \n",
       "totalResNetto                                                   [0.0,23869277.3785922]  \n",
       "totalAusBrutto                                                [47.0,39530357.74333258]  \n",
       "totalAusNetto                                                [39.95,24250531.60974595]  \n",
       "partnerNr                                                              [100035,655161]  \n",
       "Partner                              [19gale GmbH [521739],zb Zentralbahn AG [464509]]  \n",
       "firstKw                                                                [201401,201845]  \n",
       "lastKw                                                                 [201405,202117]  "
      ]
     },
     "execution_count": 43,
     "metadata": {},
     "output_type": "execute_result"
    }
   ],
   "source": [
    "desc_col(pv_info, det=True)"
   ]
  },
  {
   "cell_type": "code",
   "execution_count": 44,
   "metadata": {},
   "outputs": [
    {
     "data": {
      "application/vnd.jupyter.widget-view+json": {
       "model_id": "e0853264a23642e9af6ab83f02632958",
       "version_major": 2,
       "version_minor": 0
      },
      "text/plain": [
       "QgridWidget(grid_options={'fullWidthRows': True, 'syncColumnCellResize': True, 'forceFitColumns': True, 'defau…"
      ]
     },
     "metadata": {},
     "output_type": "display_data"
    }
   ],
   "source": [
    "qgrid.show_grid(pv_info)"
   ]
  },
  {
   "cell_type": "markdown",
   "metadata": {},
   "source": [
    "#### Jahres-Nettoumsätze"
   ]
  },
  {
   "cell_type": "code",
   "execution_count": 45,
   "metadata": {},
   "outputs": [],
   "source": [
    "pvYearANetto = pv_data.groupby(['PV_NR', 'JAHR'], observed=True, as_index=False)[['AUS_NETTO']].agg('sum')\n",
    "pvYearRNetto = pv_data.groupby(['PV_NR', 'JAHR'], observed=True, as_index=False)[['RES_NETTO']].agg('sum')\n",
    "pvANetto = pvYearANetto.pivot(index='PV_NR', columns='JAHR', values='AUS_NETTO').fillna(0).add_prefix('Netto_Aus_')\n",
    "pvRNetto = pvYearRNetto.pivot(index='PV_NR', columns='JAHR', values='RES_NETTO').fillna(0).add_prefix('Netto_Res_')"
   ]
  },
  {
   "cell_type": "code",
   "execution_count": 46,
   "metadata": {},
   "outputs": [],
   "source": [
    "pv_info = pv_info.merge(pvANetto, on='PV_NR').merge(pvRNetto, on='PV_NR')"
   ]
  },
  {
   "cell_type": "markdown",
   "metadata": {
    "pycharm": {}
   },
   "source": [
    "## Daten speichern"
   ]
  },
  {
   "cell_type": "code",
   "execution_count": 47,
   "metadata": {
    "pycharm": {}
   },
   "outputs": [
    {
     "name": "stderr",
     "output_type": "stream",
     "text": [
      "2019-05-20 13:24:11 [INFO] Writing to file /home/pa/data/pv_data.feather\n",
      "2019-05-20 13:24:11 [INFO] Written 50.3 MB\n",
      "2019-05-20 13:24:11 [INFO] Finished storing binary file in 0.12s (0.89s CPU)\n",
      "2019-05-20 13:24:11 [INFO] Writing to file /home/pa/data/pv_info.feather\n",
      "2019-05-20 13:24:11 [INFO] Written 1.1 MB\n",
      "2019-05-20 13:24:11 [INFO] Finished storing binary file in 0.02s (0.12s CPU)\n"
     ]
    }
   ],
   "source": [
    "store_bin(pv_data, 'pv_data.feather')\n",
    "store_bin(pv_info, 'pv_info.feather')"
   ]
  }
 ],
 "metadata": {
  "kernelspec": {
   "display_name": "Python 3",
   "language": "python",
   "name": "python3"
  },
  "language_info": {
   "codemirror_mode": {
    "name": "ipython",
    "version": 3
   },
   "file_extension": ".py",
   "mimetype": "text/x-python",
   "name": "python",
   "nbconvert_exporter": "python",
   "pygments_lexer": "ipython3",
   "version": "3.7.3"
  }
 },
 "nbformat": 4,
 "nbformat_minor": 2
}
