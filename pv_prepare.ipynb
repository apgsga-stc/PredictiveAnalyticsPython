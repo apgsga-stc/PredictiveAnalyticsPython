{
 "cells": [
  {
   "cell_type": "markdown",
   "metadata": {
    "pycharm": {}
   },
   "source": [
    "# Budgetbuchung Analyse: Datenpräparation"
   ]
  },
  {
   "cell_type": "code",
   "execution_count": 2,
   "metadata": {
    "pycharm": {
     "is_executing": false
    }
   },
   "outputs": [
    {
     "name": "stdout",
     "output_type": "stream",
     "text": [
      "The autoreload extension is already loaded. To reload it, use:\n",
      "  %reload_ext autoreload\n"
     ]
    }
   ],
   "source": [
    "%load_ext autoreload\n",
    "%autoreload\n",
    "\n",
    "import pandas as pd\n",
    "\n",
    "from pa_lib.file  import data_files, load_csv, store_bin\n",
    "from pa_lib.df    import desc_col, as_dtype, as_date, split_date_iso\n",
    "from pa_lib.util  import obj_size\n",
    "from pa_lib.types import dtFactor\n",
    "\n",
    "# display long columns completely\n",
    "pd.set_option('display.max_colwidth', 200)"
   ]
  },
  {
   "cell_type": "markdown",
   "metadata": {
    "pycharm": {}
   },
   "source": [
    "## Daten einlesen"
   ]
  },
  {
   "cell_type": "code",
   "execution_count": 3,
   "metadata": {
    "pycharm": {}
   },
   "outputs": [
    {
     "data": {
      "text/html": [
       "<div>\n",
       "<style scoped>\n",
       "    .dataframe tbody tr th:only-of-type {\n",
       "        vertical-align: middle;\n",
       "    }\n",
       "\n",
       "    .dataframe tbody tr th {\n",
       "        vertical-align: top;\n",
       "    }\n",
       "\n",
       "    .dataframe thead th {\n",
       "        text-align: right;\n",
       "    }\n",
       "</style>\n",
       "<table border=\"1\" class=\"dataframe\">\n",
       "  <thead>\n",
       "    <tr style=\"text-align: right;\">\n",
       "      <th></th>\n",
       "      <th>size</th>\n",
       "      <th>mtime</th>\n",
       "    </tr>\n",
       "    <tr>\n",
       "      <th>name</th>\n",
       "      <th></th>\n",
       "      <th></th>\n",
       "    </tr>\n",
       "  </thead>\n",
       "  <tbody>\n",
       "    <tr>\n",
       "      <th>bd_data.feather</th>\n",
       "      <td>194.2 MB</td>\n",
       "      <td>23.04.19 08:39:45</td>\n",
       "    </tr>\n",
       "    <tr>\n",
       "      <th>bd_data_vkprog.feather</th>\n",
       "      <td>100.5 MB</td>\n",
       "      <td>23.04.19 08:39:49</td>\n",
       "    </tr>\n",
       "    <tr>\n",
       "      <th>crm_data.csv.zip</th>\n",
       "      <td>18.1 MB</td>\n",
       "      <td>23.04.19 09:57:51</td>\n",
       "    </tr>\n",
       "    <tr>\n",
       "      <th>crm_data.feather</th>\n",
       "      <td>59.0 MB</td>\n",
       "      <td>23.04.19 09:58:00</td>\n",
       "    </tr>\n",
       "    <tr>\n",
       "      <th>crm_data_vkprog.feather</th>\n",
       "      <td>47.8 MB</td>\n",
       "      <td>23.04.19 09:58:01</td>\n",
       "    </tr>\n",
       "    <tr>\n",
       "      <th>plz_data.feather</th>\n",
       "      <td>135.7 KB</td>\n",
       "      <td>23.04.19 08:20:36</td>\n",
       "    </tr>\n",
       "    <tr>\n",
       "      <th>pv_akw_netto.feather</th>\n",
       "      <td>12.1 MB</td>\n",
       "      <td>16.04.19 16:16:31</td>\n",
       "    </tr>\n",
       "    <tr>\n",
       "      <th>pv_bd.zip</th>\n",
       "      <td>9.0 MB</td>\n",
       "      <td>04.04.19 16:25:03</td>\n",
       "    </tr>\n",
       "    <tr>\n",
       "      <th>pv_bd_raw.feather</th>\n",
       "      <td>20.6 MB</td>\n",
       "      <td>18.04.19 10:21:30</td>\n",
       "    </tr>\n",
       "    <tr>\n",
       "      <th>pv_by_week.feather</th>\n",
       "      <td>11.1 MB</td>\n",
       "      <td>23.04.19 15:07:06</td>\n",
       "    </tr>\n",
       "    <tr>\n",
       "      <th>pv_by_week2.feather</th>\n",
       "      <td>25.2 MB</td>\n",
       "      <td>16.04.19 18:52:43</td>\n",
       "    </tr>\n",
       "    <tr>\n",
       "      <th>pv_data.feather</th>\n",
       "      <td>10.1 MB</td>\n",
       "      <td>18.04.19 10:21:30</td>\n",
       "    </tr>\n",
       "    <tr>\n",
       "      <th>pv_info.feather</th>\n",
       "      <td>1.3 MB</td>\n",
       "      <td>18.04.19 10:21:30</td>\n",
       "    </tr>\n",
       "    <tr>\n",
       "      <th>pv_rkw_netto.feather</th>\n",
       "      <td>12.1 MB</td>\n",
       "      <td>16.04.19 16:16:31</td>\n",
       "    </tr>\n",
       "    <tr>\n",
       "      <th>res_per_pv.csv</th>\n",
       "      <td>322.1 KB</td>\n",
       "      <td>17.04.19 15:41:59</td>\n",
       "    </tr>\n",
       "    <tr>\n",
       "      <th>res_per_pv.xlsx</th>\n",
       "      <td>245.8 KB</td>\n",
       "      <td>23.04.19 15:08:58</td>\n",
       "    </tr>\n",
       "  </tbody>\n",
       "</table>\n",
       "</div>"
      ],
      "text/plain": [
       "                             size              mtime\n",
       "name                                                \n",
       "bd_data.feather          194.2 MB  23.04.19 08:39:45\n",
       "bd_data_vkprog.feather   100.5 MB  23.04.19 08:39:49\n",
       "crm_data.csv.zip          18.1 MB  23.04.19 09:57:51\n",
       "crm_data.feather          59.0 MB  23.04.19 09:58:00\n",
       "crm_data_vkprog.feather   47.8 MB  23.04.19 09:58:01\n",
       "plz_data.feather         135.7 KB  23.04.19 08:20:36\n",
       "pv_akw_netto.feather      12.1 MB  16.04.19 16:16:31\n",
       "pv_bd.zip                  9.0 MB  04.04.19 16:25:03\n",
       "pv_bd_raw.feather         20.6 MB  18.04.19 10:21:30\n",
       "pv_by_week.feather        11.1 MB  23.04.19 15:07:06\n",
       "pv_by_week2.feather       25.2 MB  16.04.19 18:52:43\n",
       "pv_data.feather           10.1 MB  18.04.19 10:21:30\n",
       "pv_info.feather            1.3 MB  18.04.19 10:21:30\n",
       "pv_rkw_netto.feather      12.1 MB  16.04.19 16:16:31\n",
       "res_per_pv.csv           322.1 KB  17.04.19 15:41:59\n",
       "res_per_pv.xlsx          245.8 KB  23.04.19 15:08:58"
      ]
     },
     "execution_count": 3,
     "metadata": {},
     "output_type": "execute_result"
    }
   ],
   "source": [
    "data_files()"
   ]
  },
  {
   "cell_type": "code",
   "execution_count": 4,
   "metadata": {
    "pycharm": {}
   },
   "outputs": [
    {
     "name": "stderr",
     "output_type": "stream",
     "text": [
      "2019-04-23 15:12:43 [INFO] Reading from file /home/pa/data/pv_bd.zip\n",
      "2019-04-23 15:12:44 [INFO] Finished loading CSV in 1.22s (1.22s CPU)\n"
     ]
    }
   ],
   "source": [
    "pv_bd = load_csv('pv_bd.zip', delimiter=';', encoding='cp1252', dtype='object')"
   ]
  },
  {
   "cell_type": "code",
   "execution_count": 33,
   "metadata": {
    "pycharm": {}
   },
   "outputs": [
    {
     "data": {
      "text/html": [
       "<div>\n",
       "<style scoped>\n",
       "    .dataframe tbody tr th:only-of-type {\n",
       "        vertical-align: middle;\n",
       "    }\n",
       "\n",
       "    .dataframe tbody tr th {\n",
       "        vertical-align: top;\n",
       "    }\n",
       "\n",
       "    .dataframe thead th {\n",
       "        text-align: right;\n",
       "    }\n",
       "</style>\n",
       "<table border=\"1\" class=\"dataframe\">\n",
       "  <thead>\n",
       "    <tr style=\"text-align: right;\">\n",
       "      <th></th>\n",
       "      <th>Res. Datum</th>\n",
       "      <th>Aushang Beginn</th>\n",
       "      <th>PVPos Nr.</th>\n",
       "      <th>PartnerNr</th>\n",
       "      <th>PartnerName</th>\n",
       "      <th>PvNr</th>\n",
       "      <th>PvTitel</th>\n",
       "      <th>opt Brutto</th>\n",
       "      <th>opt Netto</th>\n",
       "      <th>opt NettoNetto</th>\n",
       "    </tr>\n",
       "  </thead>\n",
       "  <tbody>\n",
       "    <tr>\n",
       "      <th>0</th>\n",
       "      <td>03.05.2016</td>\n",
       "      <td>01.08.2016</td>\n",
       "      <td>11825</td>\n",
       "      <td>100511</td>\n",
       "      <td>KSS Sport- und Freizeitanlagen Schaffhausen</td>\n",
       "      <td>7834</td>\n",
       "      <td>Schaffhausen, Breitenaustrasse 117 / Parkplatz Schwimmbad KSS</td>\n",
       "      <td>213</td>\n",
       "      <td>213</td>\n",
       "      <td>213</td>\n",
       "    </tr>\n",
       "    <tr>\n",
       "      <th>1</th>\n",
       "      <td>03.05.2016</td>\n",
       "      <td>01.08.2016</td>\n",
       "      <td>40040</td>\n",
       "      <td>101871</td>\n",
       "      <td>Frey Dieter</td>\n",
       "      <td>26732</td>\n",
       "      <td>Schaffhausen, Spiegelgutstrasse 54 / Gemsgasse</td>\n",
       "      <td>142</td>\n",
       "      <td>142</td>\n",
       "      <td>142</td>\n",
       "    </tr>\n",
       "    <tr>\n",
       "      <th>2</th>\n",
       "      <td>03.05.2016</td>\n",
       "      <td>01.08.2016</td>\n",
       "      <td>71574</td>\n",
       "      <td>103435</td>\n",
       "      <td>Stadt Schaffhausen</td>\n",
       "      <td>9084</td>\n",
       "      <td>Stadt Schaffhausen, Plakatierung auf offentlichem Grund</td>\n",
       "      <td>3195</td>\n",
       "      <td>3195</td>\n",
       "      <td>3195</td>\n",
       "    </tr>\n",
       "    <tr>\n",
       "      <th>3</th>\n",
       "      <td>04.07.2016</td>\n",
       "      <td>01.08.2016</td>\n",
       "      <td>0</td>\n",
       "      <td>0</td>\n",
       "      <td>NaN</td>\n",
       "      <td>0</td>\n",
       "      <td>NaN</td>\n",
       "      <td>1477</td>\n",
       "      <td>457.87</td>\n",
       "      <td>457.87</td>\n",
       "    </tr>\n",
       "    <tr>\n",
       "      <th>4</th>\n",
       "      <td>04.07.2016</td>\n",
       "      <td>01.08.2016</td>\n",
       "      <td>10023</td>\n",
       "      <td>109362</td>\n",
       "      <td>Liegenschaften der Stadt Biel</td>\n",
       "      <td>6529</td>\n",
       "      <td>Biel - Gemeindevertrag o, Biel</td>\n",
       "      <td>4316</td>\n",
       "      <td>1337.96</td>\n",
       "      <td>1337.96</td>\n",
       "    </tr>\n",
       "  </tbody>\n",
       "</table>\n",
       "</div>"
      ],
      "text/plain": [
       "   Res. Datum Aushang Beginn PVPos Nr. PartnerNr  \\\n",
       "0  03.05.2016     01.08.2016     11825    100511   \n",
       "1  03.05.2016     01.08.2016     40040    101871   \n",
       "2  03.05.2016     01.08.2016     71574    103435   \n",
       "3  04.07.2016     01.08.2016         0         0   \n",
       "4  04.07.2016     01.08.2016     10023    109362   \n",
       "\n",
       "                                   PartnerName   PvNr  \\\n",
       "0  KSS Sport- und Freizeitanlagen Schaffhausen   7834   \n",
       "1                                  Frey Dieter  26732   \n",
       "2                           Stadt Schaffhausen   9084   \n",
       "3                                          NaN      0   \n",
       "4                Liegenschaften der Stadt Biel   6529   \n",
       "\n",
       "                                                         PvTitel opt Brutto  \\\n",
       "0  Schaffhausen, Breitenaustrasse 117 / Parkplatz Schwimmbad KSS        213   \n",
       "1                 Schaffhausen, Spiegelgutstrasse 54 / Gemsgasse        142   \n",
       "2        Stadt Schaffhausen, Plakatierung auf offentlichem Grund       3195   \n",
       "3                                                            NaN       1477   \n",
       "4                                 Biel - Gemeindevertrag o, Biel       4316   \n",
       "\n",
       "  opt Netto opt NettoNetto  \n",
       "0       213            213  \n",
       "1       142            142  \n",
       "2      3195           3195  \n",
       "3    457.87         457.87  \n",
       "4   1337.96        1337.96  "
      ]
     },
     "execution_count": 33,
     "metadata": {},
     "output_type": "execute_result"
    }
   ],
   "source": [
    "pv_bd.head()"
   ]
  },
  {
   "cell_type": "code",
   "execution_count": 34,
   "metadata": {
    "pycharm": {}
   },
   "outputs": [
    {
     "data": {
      "text/plain": [
       "('206.8 MB', (316984, 10))"
      ]
     },
     "execution_count": 34,
     "metadata": {},
     "output_type": "execute_result"
    }
   ],
   "source": [
    "(obj_size(pv_bd), pv_bd.shape)"
   ]
  },
  {
   "cell_type": "code",
   "execution_count": 5,
   "metadata": {
    "pycharm": {}
   },
   "outputs": [
    {
     "data": {
      "text/html": [
       "<div>\n",
       "<style scoped>\n",
       "    .dataframe tbody tr th:only-of-type {\n",
       "        vertical-align: middle;\n",
       "    }\n",
       "\n",
       "    .dataframe tbody tr th {\n",
       "        vertical-align: top;\n",
       "    }\n",
       "\n",
       "    .dataframe thead th {\n",
       "        text-align: right;\n",
       "    }\n",
       "</style>\n",
       "<table border=\"1\" class=\"dataframe\">\n",
       "  <thead>\n",
       "    <tr style=\"text-align: right;\">\n",
       "      <th></th>\n",
       "      <th>DTYPE</th>\n",
       "      <th>NULLS</th>\n",
       "      <th>UNIQUE</th>\n",
       "    </tr>\n",
       "  </thead>\n",
       "  <tbody>\n",
       "    <tr>\n",
       "      <th>Res. Datum</th>\n",
       "      <td>object</td>\n",
       "      <td>0/316984</td>\n",
       "      <td>709</td>\n",
       "    </tr>\n",
       "    <tr>\n",
       "      <th>Aushang Beginn</th>\n",
       "      <td>object</td>\n",
       "      <td>0/316984</td>\n",
       "      <td>196</td>\n",
       "    </tr>\n",
       "    <tr>\n",
       "      <th>PVPos Nr.</th>\n",
       "      <td>object</td>\n",
       "      <td>0/316984</td>\n",
       "      <td>9847</td>\n",
       "    </tr>\n",
       "    <tr>\n",
       "      <th>PartnerNr</th>\n",
       "      <td>object</td>\n",
       "      <td>0/316984</td>\n",
       "      <td>5421</td>\n",
       "    </tr>\n",
       "    <tr>\n",
       "      <th>PartnerName</th>\n",
       "      <td>object</td>\n",
       "      <td>222/316762</td>\n",
       "      <td>5552</td>\n",
       "    </tr>\n",
       "    <tr>\n",
       "      <th>PvNr</th>\n",
       "      <td>object</td>\n",
       "      <td>0/316984</td>\n",
       "      <td>6673</td>\n",
       "    </tr>\n",
       "    <tr>\n",
       "      <th>PvTitel</th>\n",
       "      <td>object</td>\n",
       "      <td>222/316762</td>\n",
       "      <td>7374</td>\n",
       "    </tr>\n",
       "    <tr>\n",
       "      <th>opt Brutto</th>\n",
       "      <td>object</td>\n",
       "      <td>0/316984</td>\n",
       "      <td>7355</td>\n",
       "    </tr>\n",
       "    <tr>\n",
       "      <th>opt Netto</th>\n",
       "      <td>object</td>\n",
       "      <td>0/316984</td>\n",
       "      <td>23857</td>\n",
       "    </tr>\n",
       "    <tr>\n",
       "      <th>opt NettoNetto</th>\n",
       "      <td>object</td>\n",
       "      <td>0/316984</td>\n",
       "      <td>28237</td>\n",
       "    </tr>\n",
       "  </tbody>\n",
       "</table>\n",
       "</div>"
      ],
      "text/plain": [
       "                 DTYPE       NULLS UNIQUE\n",
       "Res. Datum      object    0/316984    709\n",
       "Aushang Beginn  object    0/316984    196\n",
       "PVPos Nr.       object    0/316984   9847\n",
       "PartnerNr       object    0/316984   5421\n",
       "PartnerName     object  222/316762   5552\n",
       "PvNr            object    0/316984   6673\n",
       "PvTitel         object  222/316762   7374\n",
       "opt Brutto      object    0/316984   7355\n",
       "opt Netto       object    0/316984  23857\n",
       "opt NettoNetto  object    0/316984  28237"
      ]
     },
     "execution_count": 5,
     "metadata": {},
     "output_type": "execute_result"
    }
   ],
   "source": [
    "desc_col(pv_bd)"
   ]
  },
  {
   "cell_type": "markdown",
   "metadata": {
    "pycharm": {}
   },
   "source": [
    "## Spalten umbenennen, Leerwerte bereinigen, Datentypen korrigieren"
   ]
  },
  {
   "cell_type": "code",
   "execution_count": 6,
   "metadata": {
    "pycharm": {}
   },
   "outputs": [],
   "source": [
    "pv_bd.columns = ['ResDatum', 'AushangBeginn', 'PvPosNr', 'PartnerNr', 'PartnerName',\n",
    "       'PvNr', 'PvTitel', 'optBrutto', 'optNetto', 'optNettoNetto']\n",
    "pv_bd = pv_bd.dropna(how='any')"
   ]
  },
  {
   "cell_type": "code",
   "execution_count": 37,
   "metadata": {
    "pycharm": {}
   },
   "outputs": [
    {
     "data": {
      "text/plain": [
       "('209.0 MB', (316762, 10))"
      ]
     },
     "execution_count": 37,
     "metadata": {},
     "output_type": "execute_result"
    }
   ],
   "source": [
    "(obj_size(pv_bd), pv_bd.shape)"
   ]
  },
  {
   "cell_type": "code",
   "execution_count": 7,
   "metadata": {
    "pycharm": {}
   },
   "outputs": [],
   "source": [
    "pv_bd.loc[:,:] = (pv_bd\n",
    "                  .pipe(as_dtype, 'int', incl_pattern='.*Nr.*')\n",
    "                  .pipe(as_dtype, 'float', incl_pattern='.*tto')\n",
    "                  .pipe(as_date, format_str='%d.%m.%Y', incl_col=('ResDatum', 'AushangBeginn'))\n",
    "                  .pipe(as_dtype, dtFactor, incl_dtype='object'))"
   ]
  },
  {
   "cell_type": "code",
   "execution_count": 13,
   "metadata": {
    "pycharm": {}
   },
   "outputs": [
    {
     "data": {
      "text/plain": [
       "('24.6 MB', (316762, 10))"
      ]
     },
     "execution_count": 13,
     "metadata": {},
     "output_type": "execute_result"
    }
   ],
   "source": [
    "(obj_size(pv_bd), pv_bd.shape)"
   ]
  },
  {
   "cell_type": "code",
   "execution_count": 8,
   "metadata": {
    "pycharm": {}
   },
   "outputs": [
    {
     "data": {
      "text/html": [
       "<div>\n",
       "<style scoped>\n",
       "    .dataframe tbody tr th:only-of-type {\n",
       "        vertical-align: middle;\n",
       "    }\n",
       "\n",
       "    .dataframe tbody tr th {\n",
       "        vertical-align: top;\n",
       "    }\n",
       "\n",
       "    .dataframe thead th {\n",
       "        text-align: right;\n",
       "    }\n",
       "</style>\n",
       "<table border=\"1\" class=\"dataframe\">\n",
       "  <thead>\n",
       "    <tr style=\"text-align: right;\">\n",
       "      <th></th>\n",
       "      <th>DTYPE</th>\n",
       "      <th>NULLS</th>\n",
       "      <th>UNIQUE</th>\n",
       "      <th>MEM</th>\n",
       "      <th>RANGE</th>\n",
       "    </tr>\n",
       "  </thead>\n",
       "  <tbody>\n",
       "    <tr>\n",
       "      <th>ResDatum</th>\n",
       "      <td>datetime64[ns]</td>\n",
       "      <td>0/316762</td>\n",
       "      <td>709</td>\n",
       "      <td>4.8 MB</td>\n",
       "      <td>[2016-03-09 00:00:00,2019-03-29 00:00:00]</td>\n",
       "    </tr>\n",
       "    <tr>\n",
       "      <th>AushangBeginn</th>\n",
       "      <td>datetime64[ns]</td>\n",
       "      <td>0/316762</td>\n",
       "      <td>196</td>\n",
       "      <td>4.8 MB</td>\n",
       "      <td>[2016-03-21 00:00:00,2019-12-16 00:00:00]</td>\n",
       "    </tr>\n",
       "    <tr>\n",
       "      <th>PvPosNr</th>\n",
       "      <td>int64</td>\n",
       "      <td>0/316762</td>\n",
       "      <td>9846</td>\n",
       "      <td>4.8 MB</td>\n",
       "      <td>[19,80445]</td>\n",
       "    </tr>\n",
       "    <tr>\n",
       "      <th>PartnerNr</th>\n",
       "      <td>int64</td>\n",
       "      <td>0/316762</td>\n",
       "      <td>5420</td>\n",
       "      <td>4.8 MB</td>\n",
       "      <td>[100035,653959]</td>\n",
       "    </tr>\n",
       "    <tr>\n",
       "      <th>PartnerName</th>\n",
       "      <td>category</td>\n",
       "      <td>0/316762</td>\n",
       "      <td>5552</td>\n",
       "      <td>3.6 MB</td>\n",
       "      <td>[3C Champ-Colin Centre SA,zb Zentralbahn AG]</td>\n",
       "    </tr>\n",
       "    <tr>\n",
       "      <th>PvNr</th>\n",
       "      <td>int64</td>\n",
       "      <td>0/316762</td>\n",
       "      <td>6672</td>\n",
       "      <td>4.8 MB</td>\n",
       "      <td>[26,311490]</td>\n",
       "    </tr>\n",
       "    <tr>\n",
       "      <th>PvTitel</th>\n",
       "      <td>category</td>\n",
       "      <td>0/316762</td>\n",
       "      <td>7374</td>\n",
       "      <td>4.1 MB</td>\n",
       "      <td>[ Bern - Bethlehemstrasse 24,zb Zentralbahn 2 (ex LSE)]</td>\n",
       "    </tr>\n",
       "    <tr>\n",
       "      <th>optBrutto</th>\n",
       "      <td>float64</td>\n",
       "      <td>0/316762</td>\n",
       "      <td>7330</td>\n",
       "      <td>4.8 MB</td>\n",
       "      <td>[0.0,266459.5]</td>\n",
       "    </tr>\n",
       "    <tr>\n",
       "      <th>optNetto</th>\n",
       "      <td>float64</td>\n",
       "      <td>0/316762</td>\n",
       "      <td>23803</td>\n",
       "      <td>4.8 MB</td>\n",
       "      <td>[0.0,57145.5]</td>\n",
       "    </tr>\n",
       "    <tr>\n",
       "      <th>optNettoNetto</th>\n",
       "      <td>float64</td>\n",
       "      <td>0/316762</td>\n",
       "      <td>28164</td>\n",
       "      <td>4.8 MB</td>\n",
       "      <td>[0.0,54288.22]</td>\n",
       "    </tr>\n",
       "  </tbody>\n",
       "</table>\n",
       "</div>"
      ],
      "text/plain": [
       "                        DTYPE     NULLS UNIQUE     MEM  \\\n",
       "ResDatum       datetime64[ns]  0/316762    709  4.8 MB   \n",
       "AushangBeginn  datetime64[ns]  0/316762    196  4.8 MB   \n",
       "PvPosNr                 int64  0/316762   9846  4.8 MB   \n",
       "PartnerNr               int64  0/316762   5420  4.8 MB   \n",
       "PartnerName          category  0/316762   5552  3.6 MB   \n",
       "PvNr                    int64  0/316762   6672  4.8 MB   \n",
       "PvTitel              category  0/316762   7374  4.1 MB   \n",
       "optBrutto             float64  0/316762   7330  4.8 MB   \n",
       "optNetto              float64  0/316762  23803  4.8 MB   \n",
       "optNettoNetto         float64  0/316762  28164  4.8 MB   \n",
       "\n",
       "                                                                 RANGE  \n",
       "ResDatum                     [2016-03-09 00:00:00,2019-03-29 00:00:00]  \n",
       "AushangBeginn                [2016-03-21 00:00:00,2019-12-16 00:00:00]  \n",
       "PvPosNr                                                     [19,80445]  \n",
       "PartnerNr                                              [100035,653959]  \n",
       "PartnerName               [3C Champ-Colin Centre SA,zb Zentralbahn AG]  \n",
       "PvNr                                                       [26,311490]  \n",
       "PvTitel        [ Bern - Bethlehemstrasse 24,zb Zentralbahn 2 (ex LSE)]  \n",
       "optBrutto                                               [0.0,266459.5]  \n",
       "optNetto                                                 [0.0,57145.5]  \n",
       "optNettoNetto                                           [0.0,54288.22]  "
      ]
     },
     "execution_count": 8,
     "metadata": {},
     "output_type": "execute_result"
    }
   ],
   "source": [
    "desc_col(pv_bd, det=True)"
   ]
  },
  {
   "cell_type": "code",
   "execution_count": 15,
   "metadata": {
    "pycharm": {}
   },
   "outputs": [
    {
     "data": {
      "text/html": [
       "<div>\n",
       "<style scoped>\n",
       "    .dataframe tbody tr th:only-of-type {\n",
       "        vertical-align: middle;\n",
       "    }\n",
       "\n",
       "    .dataframe tbody tr th {\n",
       "        vertical-align: top;\n",
       "    }\n",
       "\n",
       "    .dataframe thead th {\n",
       "        text-align: right;\n",
       "    }\n",
       "</style>\n",
       "<table border=\"1\" class=\"dataframe\">\n",
       "  <thead>\n",
       "    <tr style=\"text-align: right;\">\n",
       "      <th></th>\n",
       "      <th>ResDatum</th>\n",
       "      <th>AushangBeginn</th>\n",
       "      <th>PvPosNr</th>\n",
       "      <th>PartnerNr</th>\n",
       "      <th>PartnerName</th>\n",
       "      <th>PvNr</th>\n",
       "      <th>PvTitel</th>\n",
       "      <th>optBrutto</th>\n",
       "      <th>optNetto</th>\n",
       "      <th>optNettoNetto</th>\n",
       "    </tr>\n",
       "  </thead>\n",
       "  <tbody>\n",
       "    <tr>\n",
       "      <th>0</th>\n",
       "      <td>2016-05-03</td>\n",
       "      <td>2016-08-01</td>\n",
       "      <td>11825</td>\n",
       "      <td>100511</td>\n",
       "      <td>KSS Sport- und Freizeitanlagen Schaffhausen</td>\n",
       "      <td>7834</td>\n",
       "      <td>Schaffhausen, Breitenaustrasse 117 / Parkplatz Schwimmbad KSS</td>\n",
       "      <td>213.0</td>\n",
       "      <td>213.00</td>\n",
       "      <td>213.00</td>\n",
       "    </tr>\n",
       "    <tr>\n",
       "      <th>1</th>\n",
       "      <td>2016-05-03</td>\n",
       "      <td>2016-08-01</td>\n",
       "      <td>40040</td>\n",
       "      <td>101871</td>\n",
       "      <td>Frey Dieter</td>\n",
       "      <td>26732</td>\n",
       "      <td>Schaffhausen, Spiegelgutstrasse 54 / Gemsgasse</td>\n",
       "      <td>142.0</td>\n",
       "      <td>142.00</td>\n",
       "      <td>142.00</td>\n",
       "    </tr>\n",
       "    <tr>\n",
       "      <th>2</th>\n",
       "      <td>2016-05-03</td>\n",
       "      <td>2016-08-01</td>\n",
       "      <td>71574</td>\n",
       "      <td>103435</td>\n",
       "      <td>Stadt Schaffhausen</td>\n",
       "      <td>9084</td>\n",
       "      <td>Stadt Schaffhausen, Plakatierung auf offentlichem Grund</td>\n",
       "      <td>3195.0</td>\n",
       "      <td>3195.00</td>\n",
       "      <td>3195.00</td>\n",
       "    </tr>\n",
       "    <tr>\n",
       "      <th>4</th>\n",
       "      <td>2016-07-04</td>\n",
       "      <td>2016-08-01</td>\n",
       "      <td>10023</td>\n",
       "      <td>109362</td>\n",
       "      <td>Liegenschaften der Stadt Biel</td>\n",
       "      <td>6529</td>\n",
       "      <td>Biel - Gemeindevertrag o, Biel</td>\n",
       "      <td>4316.0</td>\n",
       "      <td>1337.96</td>\n",
       "      <td>1337.96</td>\n",
       "    </tr>\n",
       "    <tr>\n",
       "      <th>5</th>\n",
       "      <td>2016-07-04</td>\n",
       "      <td>2016-08-01</td>\n",
       "      <td>10444</td>\n",
       "      <td>109362</td>\n",
       "      <td>Liegenschaften der Stadt Biel</td>\n",
       "      <td>6529</td>\n",
       "      <td>Biel - Gemeindevertrag o, Biel</td>\n",
       "      <td>3269.0</td>\n",
       "      <td>1013.39</td>\n",
       "      <td>1013.39</td>\n",
       "    </tr>\n",
       "  </tbody>\n",
       "</table>\n",
       "</div>"
      ],
      "text/plain": [
       "    ResDatum AushangBeginn  PvPosNr  PartnerNr  \\\n",
       "0 2016-05-03    2016-08-01    11825     100511   \n",
       "1 2016-05-03    2016-08-01    40040     101871   \n",
       "2 2016-05-03    2016-08-01    71574     103435   \n",
       "4 2016-07-04    2016-08-01    10023     109362   \n",
       "5 2016-07-04    2016-08-01    10444     109362   \n",
       "\n",
       "                                   PartnerName   PvNr  \\\n",
       "0  KSS Sport- und Freizeitanlagen Schaffhausen   7834   \n",
       "1                                  Frey Dieter  26732   \n",
       "2                           Stadt Schaffhausen   9084   \n",
       "4                Liegenschaften der Stadt Biel   6529   \n",
       "5                Liegenschaften der Stadt Biel   6529   \n",
       "\n",
       "                                                         PvTitel  optBrutto  \\\n",
       "0  Schaffhausen, Breitenaustrasse 117 / Parkplatz Schwimmbad KSS      213.0   \n",
       "1                 Schaffhausen, Spiegelgutstrasse 54 / Gemsgasse      142.0   \n",
       "2        Stadt Schaffhausen, Plakatierung auf offentlichem Grund     3195.0   \n",
       "4                                 Biel - Gemeindevertrag o, Biel     4316.0   \n",
       "5                                 Biel - Gemeindevertrag o, Biel     3269.0   \n",
       "\n",
       "   optNetto  optNettoNetto  \n",
       "0    213.00         213.00  \n",
       "1    142.00         142.00  \n",
       "2   3195.00        3195.00  \n",
       "4   1337.96        1337.96  \n",
       "5   1013.39        1013.39  "
      ]
     },
     "execution_count": 15,
     "metadata": {},
     "output_type": "execute_result"
    }
   ],
   "source": [
    "pv_bd.head()"
   ]
  },
  {
   "cell_type": "markdown",
   "metadata": {
    "pycharm": {}
   },
   "source": [
    "## Netto = 0 ausfiltern, sortieren, Geschäftsjahr und -woche für Aushang und Reservation berechnen"
   ]
  },
  {
   "cell_type": "code",
   "execution_count": 9,
   "metadata": {
    "pycharm": {}
   },
   "outputs": [],
   "source": [
    "pv_bd = (pv_bd.query('optNettoNetto > 0')\n",
    "         .sort_values('AushangBeginn')\n",
    "         .pipe(split_date_iso, dt_col='ResDatum', yr_col='RJahr', kw_col='RKw')\n",
    "         .pipe(split_date_iso, dt_col='AushangBeginn', yr_col='AJahr', kw_col='AKw')\n",
    "         .reset_index(drop=True))"
   ]
  },
  {
   "cell_type": "code",
   "execution_count": 10,
   "metadata": {
    "pycharm": {}
   },
   "outputs": [
    {
     "data": {
      "text/html": [
       "<div>\n",
       "<style scoped>\n",
       "    .dataframe tbody tr th:only-of-type {\n",
       "        vertical-align: middle;\n",
       "    }\n",
       "\n",
       "    .dataframe tbody tr th {\n",
       "        vertical-align: top;\n",
       "    }\n",
       "\n",
       "    .dataframe thead th {\n",
       "        text-align: right;\n",
       "    }\n",
       "</style>\n",
       "<table border=\"1\" class=\"dataframe\">\n",
       "  <thead>\n",
       "    <tr style=\"text-align: right;\">\n",
       "      <th></th>\n",
       "      <th>DTYPE</th>\n",
       "      <th>NULLS</th>\n",
       "      <th>UNIQUE</th>\n",
       "      <th>MEM</th>\n",
       "      <th>RANGE</th>\n",
       "    </tr>\n",
       "  </thead>\n",
       "  <tbody>\n",
       "    <tr>\n",
       "      <th>ResDatum</th>\n",
       "      <td>datetime64[ns]</td>\n",
       "      <td>0/292922</td>\n",
       "      <td>687</td>\n",
       "      <td>2.2 MB</td>\n",
       "      <td>[2016-03-09 00:00:00,2019-03-29 00:00:00]</td>\n",
       "    </tr>\n",
       "    <tr>\n",
       "      <th>AushangBeginn</th>\n",
       "      <td>datetime64[ns]</td>\n",
       "      <td>0/292922</td>\n",
       "      <td>194</td>\n",
       "      <td>2.2 MB</td>\n",
       "      <td>[2016-03-28 00:00:00,2019-12-16 00:00:00]</td>\n",
       "    </tr>\n",
       "    <tr>\n",
       "      <th>PvPosNr</th>\n",
       "      <td>int64</td>\n",
       "      <td>0/292922</td>\n",
       "      <td>9821</td>\n",
       "      <td>2.2 MB</td>\n",
       "      <td>[19,80445]</td>\n",
       "    </tr>\n",
       "    <tr>\n",
       "      <th>PartnerNr</th>\n",
       "      <td>int64</td>\n",
       "      <td>0/292922</td>\n",
       "      <td>5414</td>\n",
       "      <td>2.2 MB</td>\n",
       "      <td>[100035,653959]</td>\n",
       "    </tr>\n",
       "    <tr>\n",
       "      <th>PartnerName</th>\n",
       "      <td>category</td>\n",
       "      <td>0/292922</td>\n",
       "      <td>5544</td>\n",
       "      <td>1.1 MB</td>\n",
       "      <td>[3C Champ-Colin Centre SA,zb Zentralbahn AG]</td>\n",
       "    </tr>\n",
       "    <tr>\n",
       "      <th>PvNr</th>\n",
       "      <td>int64</td>\n",
       "      <td>0/292922</td>\n",
       "      <td>6658</td>\n",
       "      <td>2.2 MB</td>\n",
       "      <td>[26,311490]</td>\n",
       "    </tr>\n",
       "    <tr>\n",
       "      <th>PvTitel</th>\n",
       "      <td>category</td>\n",
       "      <td>0/292922</td>\n",
       "      <td>7356</td>\n",
       "      <td>1.6 MB</td>\n",
       "      <td>[ Bern - Bethlehemstrasse 24,zb Zentralbahn 2 (ex LSE)]</td>\n",
       "    </tr>\n",
       "    <tr>\n",
       "      <th>optBrutto</th>\n",
       "      <td>float64</td>\n",
       "      <td>0/292922</td>\n",
       "      <td>6984</td>\n",
       "      <td>2.2 MB</td>\n",
       "      <td>[21.0,97796.0]</td>\n",
       "    </tr>\n",
       "    <tr>\n",
       "      <th>optNetto</th>\n",
       "      <td>float64</td>\n",
       "      <td>0/292922</td>\n",
       "      <td>23802</td>\n",
       "      <td>2.2 MB</td>\n",
       "      <td>[11.7,57145.5]</td>\n",
       "    </tr>\n",
       "    <tr>\n",
       "      <th>optNettoNetto</th>\n",
       "      <td>float64</td>\n",
       "      <td>0/292922</td>\n",
       "      <td>28163</td>\n",
       "      <td>2.2 MB</td>\n",
       "      <td>[11.7,54288.22]</td>\n",
       "    </tr>\n",
       "    <tr>\n",
       "      <th>RJahr</th>\n",
       "      <td>category</td>\n",
       "      <td>0/292922</td>\n",
       "      <td>4</td>\n",
       "      <td>286.3 KB</td>\n",
       "      <td>[2016,2019]</td>\n",
       "    </tr>\n",
       "    <tr>\n",
       "      <th>RKw</th>\n",
       "      <td>category</td>\n",
       "      <td>0/292922</td>\n",
       "      <td>52</td>\n",
       "      <td>289.0 KB</td>\n",
       "      <td>[1,52]</td>\n",
       "    </tr>\n",
       "    <tr>\n",
       "      <th>AJahr</th>\n",
       "      <td>category</td>\n",
       "      <td>0/292922</td>\n",
       "      <td>4</td>\n",
       "      <td>286.3 KB</td>\n",
       "      <td>[2016,2019]</td>\n",
       "    </tr>\n",
       "    <tr>\n",
       "      <th>AKw</th>\n",
       "      <td>category</td>\n",
       "      <td>0/292922</td>\n",
       "      <td>52</td>\n",
       "      <td>289.0 KB</td>\n",
       "      <td>[1,52]</td>\n",
       "    </tr>\n",
       "  </tbody>\n",
       "</table>\n",
       "</div>"
      ],
      "text/plain": [
       "                        DTYPE     NULLS UNIQUE       MEM  \\\n",
       "ResDatum       datetime64[ns]  0/292922    687    2.2 MB   \n",
       "AushangBeginn  datetime64[ns]  0/292922    194    2.2 MB   \n",
       "PvPosNr                 int64  0/292922   9821    2.2 MB   \n",
       "PartnerNr               int64  0/292922   5414    2.2 MB   \n",
       "PartnerName          category  0/292922   5544    1.1 MB   \n",
       "PvNr                    int64  0/292922   6658    2.2 MB   \n",
       "PvTitel              category  0/292922   7356    1.6 MB   \n",
       "optBrutto             float64  0/292922   6984    2.2 MB   \n",
       "optNetto              float64  0/292922  23802    2.2 MB   \n",
       "optNettoNetto         float64  0/292922  28163    2.2 MB   \n",
       "RJahr                category  0/292922      4  286.3 KB   \n",
       "RKw                  category  0/292922     52  289.0 KB   \n",
       "AJahr                category  0/292922      4  286.3 KB   \n",
       "AKw                  category  0/292922     52  289.0 KB   \n",
       "\n",
       "                                                                 RANGE  \n",
       "ResDatum                     [2016-03-09 00:00:00,2019-03-29 00:00:00]  \n",
       "AushangBeginn                [2016-03-28 00:00:00,2019-12-16 00:00:00]  \n",
       "PvPosNr                                                     [19,80445]  \n",
       "PartnerNr                                              [100035,653959]  \n",
       "PartnerName               [3C Champ-Colin Centre SA,zb Zentralbahn AG]  \n",
       "PvNr                                                       [26,311490]  \n",
       "PvTitel        [ Bern - Bethlehemstrasse 24,zb Zentralbahn 2 (ex LSE)]  \n",
       "optBrutto                                               [21.0,97796.0]  \n",
       "optNetto                                                [11.7,57145.5]  \n",
       "optNettoNetto                                          [11.7,54288.22]  \n",
       "RJahr                                                      [2016,2019]  \n",
       "RKw                                                             [1,52]  \n",
       "AJahr                                                      [2016,2019]  \n",
       "AKw                                                             [1,52]  "
      ]
     },
     "execution_count": 10,
     "metadata": {},
     "output_type": "execute_result"
    }
   ],
   "source": [
    "desc_col(pv_bd, det=True)"
   ]
  },
  {
   "cell_type": "markdown",
   "metadata": {},
   "source": [
    "## Vertragsinformationen extrahieren"
   ]
  },
  {
   "cell_type": "code",
   "execution_count": 11,
   "metadata": {},
   "outputs": [],
   "source": [
    "pv_idx = pv_bd.sort_values(['PvNr', 'ResDatum']).groupby('PvNr', as_index=True)"
   ]
  },
  {
   "cell_type": "code",
   "execution_count": 12,
   "metadata": {},
   "outputs": [],
   "source": [
    "pv_info = pv_idx.agg({'PvTitel': 'first', 'optNettoNetto': 'sum', 'PartnerNr': 'nunique', 'PartnerName': 'last', 'PvPosNr': 'nunique',\n",
    "                      'ResDatum': ['min', 'max'], 'AushangBeginn': ['min', 'max']})\n",
    "pv_info.columns = 'Titel totalNetto nPartner Partner nPos firstRes lastRes firstAus lastAus'.split()"
   ]
  },
  {
   "cell_type": "code",
   "execution_count": 13,
   "metadata": {},
   "outputs": [
    {
     "data": {
      "text/html": [
       "<div>\n",
       "<style scoped>\n",
       "    .dataframe tbody tr th:only-of-type {\n",
       "        vertical-align: middle;\n",
       "    }\n",
       "\n",
       "    .dataframe tbody tr th {\n",
       "        vertical-align: top;\n",
       "    }\n",
       "\n",
       "    .dataframe thead th {\n",
       "        text-align: right;\n",
       "    }\n",
       "</style>\n",
       "<table border=\"1\" class=\"dataframe\">\n",
       "  <thead>\n",
       "    <tr style=\"text-align: right;\">\n",
       "      <th></th>\n",
       "      <th>DTYPE</th>\n",
       "      <th>NULLS</th>\n",
       "      <th>UNIQUE</th>\n",
       "      <th>MEM</th>\n",
       "      <th>RANGE</th>\n",
       "    </tr>\n",
       "  </thead>\n",
       "  <tbody>\n",
       "    <tr>\n",
       "      <th>Titel</th>\n",
       "      <td>object</td>\n",
       "      <td>0/6658</td>\n",
       "      <td>6529</td>\n",
       "      <td>687.1 KB</td>\n",
       "      <td>[ Bern - Bethlehemstrasse 24,zb Zentralbahn 2 (ex LSE)]</td>\n",
       "    </tr>\n",
       "    <tr>\n",
       "      <th>totalNetto</th>\n",
       "      <td>float64</td>\n",
       "      <td>0/6658</td>\n",
       "      <td>6631</td>\n",
       "      <td>104.0 KB</td>\n",
       "      <td>[40.38,6333770.714299988]</td>\n",
       "    </tr>\n",
       "    <tr>\n",
       "      <th>nPartner</th>\n",
       "      <td>int64</td>\n",
       "      <td>0/6658</td>\n",
       "      <td>3</td>\n",
       "      <td>104.0 KB</td>\n",
       "      <td>[1,3]</td>\n",
       "    </tr>\n",
       "    <tr>\n",
       "      <th>Partner</th>\n",
       "      <td>object</td>\n",
       "      <td>0/6658</td>\n",
       "      <td>5052</td>\n",
       "      <td>558.2 KB</td>\n",
       "      <td>[A&amp;A Liegenschaften Schweiz AG,zb Zentralbahn AG]</td>\n",
       "    </tr>\n",
       "    <tr>\n",
       "      <th>nPos</th>\n",
       "      <td>int64</td>\n",
       "      <td>0/6658</td>\n",
       "      <td>33</td>\n",
       "      <td>104.0 KB</td>\n",
       "      <td>[1,401]</td>\n",
       "    </tr>\n",
       "    <tr>\n",
       "      <th>firstRes</th>\n",
       "      <td>datetime64[ns]</td>\n",
       "      <td>0/6658</td>\n",
       "      <td>333</td>\n",
       "      <td>104.0 KB</td>\n",
       "      <td>[2016-03-09 00:00:00,2019-03-21 00:00:00]</td>\n",
       "    </tr>\n",
       "    <tr>\n",
       "      <th>lastRes</th>\n",
       "      <td>datetime64[ns]</td>\n",
       "      <td>0/6658</td>\n",
       "      <td>416</td>\n",
       "      <td>104.0 KB</td>\n",
       "      <td>[2016-03-17 00:00:00,2019-03-29 00:00:00]</td>\n",
       "    </tr>\n",
       "    <tr>\n",
       "      <th>firstAus</th>\n",
       "      <td>datetime64[ns]</td>\n",
       "      <td>0/6658</td>\n",
       "      <td>146</td>\n",
       "      <td>104.0 KB</td>\n",
       "      <td>[2016-03-28 00:00:00,2019-10-14 00:00:00]</td>\n",
       "    </tr>\n",
       "    <tr>\n",
       "      <th>lastAus</th>\n",
       "      <td>datetime64[ns]</td>\n",
       "      <td>0/6658</td>\n",
       "      <td>173</td>\n",
       "      <td>104.0 KB</td>\n",
       "      <td>[2016-05-16 00:00:00,2019-12-16 00:00:00]</td>\n",
       "    </tr>\n",
       "  </tbody>\n",
       "</table>\n",
       "</div>"
      ],
      "text/plain": [
       "                     DTYPE   NULLS UNIQUE       MEM  \\\n",
       "Titel               object  0/6658   6529  687.1 KB   \n",
       "totalNetto         float64  0/6658   6631  104.0 KB   \n",
       "nPartner             int64  0/6658      3  104.0 KB   \n",
       "Partner             object  0/6658   5052  558.2 KB   \n",
       "nPos                 int64  0/6658     33  104.0 KB   \n",
       "firstRes    datetime64[ns]  0/6658    333  104.0 KB   \n",
       "lastRes     datetime64[ns]  0/6658    416  104.0 KB   \n",
       "firstAus    datetime64[ns]  0/6658    146  104.0 KB   \n",
       "lastAus     datetime64[ns]  0/6658    173  104.0 KB   \n",
       "\n",
       "                                                              RANGE  \n",
       "Titel       [ Bern - Bethlehemstrasse 24,zb Zentralbahn 2 (ex LSE)]  \n",
       "totalNetto                                [40.38,6333770.714299988]  \n",
       "nPartner                                                      [1,3]  \n",
       "Partner           [A&A Liegenschaften Schweiz AG,zb Zentralbahn AG]  \n",
       "nPos                                                        [1,401]  \n",
       "firstRes                  [2016-03-09 00:00:00,2019-03-21 00:00:00]  \n",
       "lastRes                   [2016-03-17 00:00:00,2019-03-29 00:00:00]  \n",
       "firstAus                  [2016-03-28 00:00:00,2019-10-14 00:00:00]  \n",
       "lastAus                   [2016-05-16 00:00:00,2019-12-16 00:00:00]  "
      ]
     },
     "execution_count": 13,
     "metadata": {},
     "output_type": "execute_result"
    }
   ],
   "source": [
    "desc_col(pv_info, det=True)"
   ]
  },
  {
   "cell_type": "markdown",
   "metadata": {},
   "source": [
    "#### Mehrfach-Partner: Namen zusammenfügen (Reihenfolge wie in Daten)"
   ]
  },
  {
   "cell_type": "code",
   "execution_count": 14,
   "metadata": {},
   "outputs": [],
   "source": [
    "pv_info.assign(allPartner = pv_info.Partner, inplace=True)\n",
    "multi_partner = pv_info.nPartner > 1\n",
    "pv_multi_prtn = pv_info.loc[multi_partner].index.values\n",
    "pv_info.loc[multi_partner, 'allPartner'] = (pv_bd[pv_bd.PvNr.isin(pv_multi_prtn)].groupby('PvNr')['PartnerName']\n",
    "                                                .apply(lambda x: ' | '.join(x.unique())))"
   ]
  },
  {
   "cell_type": "markdown",
   "metadata": {},
   "source": [
    "#### Jahres-Nettoumsätze"
   ]
  },
  {
   "cell_type": "code",
   "execution_count": 15,
   "metadata": {},
   "outputs": [],
   "source": [
    "pvYearANetto = pv_bd.groupby(['PvNr', 'AJahr'], observed=True, as_index=False)[['optNettoNetto']].agg('sum')\n",
    "pvYearRNetto = pv_bd.groupby(['PvNr', 'RJahr'], observed=True, as_index=False)[['optNettoNetto']].agg('sum')\n",
    "pvANetto = pvYearANetto.pivot(index='PvNr', columns='AJahr', values='optNettoNetto').fillna(0).add_prefix('Netto_Aus_')\n",
    "pvRNetto = pvYearRNetto.pivot(index='PvNr', columns='RJahr', values='optNettoNetto').fillna(0).add_prefix('Netto_Res_')"
   ]
  },
  {
   "cell_type": "code",
   "execution_count": 16,
   "metadata": {},
   "outputs": [],
   "source": [
    "pv_info = pv_info.merge(pvANetto, on='PvNr').merge(pvRNetto, on='PvNr')"
   ]
  },
  {
   "cell_type": "markdown",
   "metadata": {
    "pycharm": {}
   },
   "source": [
    "## Konstellation Verträge/Positionen prüfen"
   ]
  },
  {
   "cell_type": "markdown",
   "metadata": {
    "pycharm": {}
   },
   "source": [
    "#### Gibt es Vertragspositionen mit mehr als einem unterschiedlichen Vertrag? (Wäre nicht toll)"
   ]
  },
  {
   "cell_type": "code",
   "execution_count": 17,
   "metadata": {
    "pycharm": {}
   },
   "outputs": [
    {
     "data": {
      "text/html": [
       "<div>\n",
       "<style scoped>\n",
       "    .dataframe tbody tr th:only-of-type {\n",
       "        vertical-align: middle;\n",
       "    }\n",
       "\n",
       "    .dataframe tbody tr th {\n",
       "        vertical-align: top;\n",
       "    }\n",
       "\n",
       "    .dataframe thead th {\n",
       "        text-align: right;\n",
       "    }\n",
       "</style>\n",
       "<table border=\"1\" class=\"dataframe\">\n",
       "  <thead>\n",
       "    <tr style=\"text-align: right;\">\n",
       "      <th></th>\n",
       "      <th>PvNr</th>\n",
       "    </tr>\n",
       "    <tr>\n",
       "      <th>PvPosNr</th>\n",
       "      <th></th>\n",
       "    </tr>\n",
       "  </thead>\n",
       "  <tbody>\n",
       "  </tbody>\n",
       "</table>\n",
       "</div>"
      ],
      "text/plain": [
       "Empty DataFrame\n",
       "Columns: [PvNr]\n",
       "Index: []"
      ]
     },
     "execution_count": 17,
     "metadata": {},
     "output_type": "execute_result"
    }
   ],
   "source": [
    "pv_bd.groupby(['PvPosNr'], observed=True)[['PvNr']].agg('nunique').query('PvNr > 1')"
   ]
  },
  {
   "cell_type": "markdown",
   "metadata": {
    "pycharm": {}
   },
   "source": [
    "## Daten speichern"
   ]
  },
  {
   "cell_type": "code",
   "execution_count": 18,
   "metadata": {
    "pycharm": {}
   },
   "outputs": [
    {
     "name": "stderr",
     "output_type": "stream",
     "text": [
      "2019-04-23 15:14:11 [INFO] Writing to file /home/pa/data/pv_bd_raw.feather\n",
      "2019-04-23 15:14:11 [INFO] Written 20.6 MB\n",
      "2019-04-23 15:14:11 [INFO] Finished storing binary file in 0.08s (0.58s CPU)\n",
      "2019-04-23 15:14:11 [INFO] Writing to file /home/pa/data/pv_data.feather\n",
      "2019-04-23 15:14:11 [INFO] Written 10.1 MB\n",
      "2019-04-23 15:14:11 [INFO] Finished storing binary file in 0.03s (0.26s CPU)\n",
      "2019-04-23 15:14:11 [INFO] Writing to file /home/pa/data/pv_info.feather\n",
      "2019-04-23 15:14:11 [INFO] Written 1.3 MB\n",
      "2019-04-23 15:14:11 [INFO] Finished storing binary file in 0.02s (0.12s CPU)\n"
     ]
    }
   ],
   "source": [
    "store_bin(pv_bd, 'pv_bd_raw.feather')\n",
    "pv_data = pv_bd.drop(['PvPosNr', 'PartnerNr', 'PartnerName', 'PvTitel', 'optBrutto', 'optNetto'], axis='columns')\n",
    "store_bin(pv_data, 'pv_data.feather')\n",
    "store_bin(pv_info, 'pv_info.feather')"
   ]
  },
  {
   "cell_type": "code",
   "execution_count": null,
   "metadata": {},
   "outputs": [],
   "source": []
  }
 ],
 "metadata": {
  "jupytext": {
   "formats": "ipynb,md"
  },
  "kernelspec": {
   "display_name": "Python 3",
   "language": "python",
   "name": "python3"
  },
  "language_info": {
   "codemirror_mode": {
    "name": "ipython",
    "version": 3
   },
   "file_extension": ".py",
   "mimetype": "text/x-python",
   "name": "python",
   "nbconvert_exporter": "python",
   "pygments_lexer": "ipython3",
   "version": "3.7.3"
  }
 },
 "nbformat": 4,
 "nbformat_minor": 2
}
