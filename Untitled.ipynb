{
 "cells": [
  {
   "cell_type": "code",
   "execution_count": 1,
   "metadata": {},
   "outputs": [],
   "source": [
    "print(__doc__)\n",
    "\n",
    "import matplotlib.pyplot as plt\n",
    "from sklearn.svm import SVC\n",
    "from sklearn.model_selection import StratifiedKFold\n",
    "from sklearn.feature_selection import RFECV\n",
    "from sklearn.datasets import make_classification\n",
    "\n",
    "# Build a classification task using 3 informative features\n",
    "X, y = make_classification(n_samples=1000, n_features=25, n_informative=3,\n",
    "                           n_redundant=2, n_repeated=0, n_classes=8,\n",
    "                           n_clusters_per_class=1, random_state=0)\n",
    "\n",
    "# Create the RFE object and compute a cross-validated score.\n",
    "svc = SVC(kernel=\"linear\")\n",
    "# The \"accuracy\" scoring is proportional to the number of correct\n",
    "# classifications\n",
    "rfecv = RFECV(estimator=svc, step=1, cv=StratifiedKFold(2),\n",
    "              scoring='accuracy')\n",
    "rfecv.fit(X, y)\n",
    "\n",
    "print(\"Optimal number of features : %d\" % rfecv.n_features_)"
   ]
  },
  {
   "cell_type": "code",
   "execution_count": 2,
   "metadata": {},
   "outputs": [
    {
     "data": {
      "image/png": "[encoded data removed]",
      "text/plain": [
       "<Figure size 432x288 with 1 Axes>"
      ]
     },
     "metadata": {
      "needs_background": "light"
     },
     "output_type": "display_data"
    }
   ],
   "source": [
    "# Plot number of features VS. cross-validation scores\n",
    "plt.figure()\n",
    "plt.xlabel(\"Number of features selected\")\n",
    "plt.ylabel(\"Cross validation score (nb of correct classifications)\")\n",
    "plt.plot(range(1, len(rfecv.grid_scores_) + 1), rfecv.grid_scores_)\n",
    "plt.show()"
   ]
  },
  {
   "cell_type": "code",
   "execution_count": 4,
   "metadata": {},
   "outputs": [
    {
     "data": {
      "text/plain": [
       "array([1, 3, 6, 5, 6, 7, 2, 5, 0, 5, 3, 7, 0, 1, 5, 0, 3, 5, 5, 6, 5, 5,\n",
       "       3, 1, 1, 4, 1, 5, 4, 0, 1, 6, 7, 1, 4, 2, 3, 0, 1, 3, 0, 5, 6, 2,\n",
       "       4, 3, 6, 4, 7, 2, 0, 7, 0, 1, 7, 4, 4, 2, 4, 3, 6, 3, 4, 2, 0, 5,\n",
       "       4, 6, 3, 1, 0, 1, 3, 4, 6, 3, 7, 0, 1, 1, 1, 2, 5, 6, 6, 2, 5, 0,\n",
       "       3, 0, 7, 4, 2, 5, 3, 6, 7, 5, 1, 0, 4, 7, 5, 2, 6, 0, 3, 0, 5, 2,\n",
       "       2, 2, 7, 6, 6, 5, 5, 2, 1, 6, 5, 1, 0, 2, 4, 6, 7, 7, 7, 6, 0, 7,\n",
       "       6, 1, 6, 5, 7, 3, 3, 5, 6, 3, 0, 1, 3, 1, 4, 4, 1, 2, 0, 7, 5, 4,\n",
       "       7, 6, 7, 4, 4, 6, 3, 5, 2, 4, 6, 7, 0, 2, 3, 1, 4, 4, 0, 6, 2, 5,\n",
       "       3, 3, 5, 1, 4, 5, 2, 7, 6, 5, 5, 7, 4, 5, 0, 6, 0, 4, 1, 4, 3, 1,\n",
       "       5, 2, 5, 2, 6, 1, 4, 7, 5, 0, 4, 5, 5, 6, 3, 4, 2, 1, 3, 0, 0, 1,\n",
       "       2, 0, 5, 0, 5, 1, 6, 6, 6, 0, 3, 3, 0, 1, 0, 5, 7, 7, 1, 5, 4, 0,\n",
       "       0, 0, 4, 0, 5, 6, 1, 5, 5, 1, 2, 6, 2, 4, 2, 1, 0, 7, 5, 4, 6, 5,\n",
       "       6, 2, 4, 2, 0, 2, 5, 7, 1, 7, 2, 2, 5, 1, 0, 6, 7, 6, 4, 5, 0, 0,\n",
       "       4, 3, 7, 5, 0, 0, 5, 0, 1, 2, 0, 6, 6, 6, 4, 0, 4, 1, 4, 3, 6, 5,\n",
       "       7, 1, 4, 0, 4, 7, 3, 5, 0, 3, 3, 1, 5, 2, 7, 0, 7, 7, 6, 0, 1, 6,\n",
       "       0, 0, 0, 4, 4, 1, 1, 6, 7, 7, 0, 3, 6, 5, 0, 1, 3, 4, 0, 5, 6, 3,\n",
       "       2, 3, 2, 3, 3, 0, 3, 3, 7, 6, 1, 4, 7, 4, 5, 4, 6, 6, 4, 2, 7, 0,\n",
       "       4, 2, 1, 4, 3, 5, 5, 0, 2, 0, 2, 5, 1, 5, 6, 0, 4, 4, 1, 7, 6, 5,\n",
       "       2, 6, 1, 7, 5, 4, 0, 1, 1, 1, 4, 7, 4, 5, 0, 7, 3, 7, 0, 3, 4, 5,\n",
       "       1, 7, 5, 3, 5, 2, 6, 4, 7, 7, 4, 7, 4, 4, 7, 0, 6, 5, 2, 4, 3, 7,\n",
       "       6, 4, 2, 3, 3, 3, 1, 6, 1, 0, 3, 0, 3, 3, 5, 0, 4, 7, 5, 6, 3, 4,\n",
       "       7, 7, 2, 7, 5, 2, 3, 1, 1, 3, 6, 3, 2, 4, 4, 7, 2, 4, 6, 2, 3, 0,\n",
       "       5, 2, 5, 7, 1, 7, 0, 7, 4, 3, 4, 3, 6, 2, 6, 6, 0, 5, 6, 1, 0, 2,\n",
       "       6, 4, 3, 6, 3, 5, 5, 2, 7, 7, 4, 1, 5, 7, 2, 2, 0, 3, 6, 1, 1, 4,\n",
       "       2, 5, 6, 3, 0, 7, 7, 2, 7, 3, 5, 7, 2, 3, 1, 2, 2, 2, 1, 2, 1, 3,\n",
       "       5, 3, 4, 0, 3, 4, 0, 1, 2, 6, 7, 4, 2, 5, 6, 2, 6, 4, 7, 7, 2, 2,\n",
       "       6, 3, 6, 5, 3, 3, 2, 5, 2, 4, 0, 0, 2, 5, 1, 4, 2, 7, 3, 2, 2, 6,\n",
       "       3, 0, 7, 2, 2, 3, 3, 6, 4, 3, 2, 0, 7, 5, 3, 1, 0, 4, 5, 7, 4, 1,\n",
       "       6, 7, 3, 2, 3, 0, 0, 1, 6, 3, 2, 7, 3, 1, 6, 4, 0, 3, 0, 6, 0, 3,\n",
       "       6, 5, 2, 0, 6, 3, 1, 4, 4, 0, 2, 6, 4, 2, 2, 4, 6, 4, 1, 1, 3, 1,\n",
       "       0, 1, 3, 4, 7, 0, 0, 5, 7, 1, 4, 6, 1, 3, 4, 6, 0, 7, 3, 5, 4, 1,\n",
       "       6, 2, 0, 2, 7, 5, 7, 4, 6, 5, 3, 3, 0, 7, 4, 7, 6, 7, 7, 5, 5, 4,\n",
       "       1, 7, 5, 1, 3, 0, 6, 2, 4, 1, 3, 6, 5, 3, 1, 2, 6, 7, 0, 3, 4, 2,\n",
       "       7, 6, 7, 1, 3, 1, 1, 0, 4, 4, 1, 0, 4, 5, 3, 3, 2, 6, 2, 4, 3, 2,\n",
       "       7, 1, 6, 0, 3, 6, 6, 7, 4, 5, 1, 6, 5, 4, 1, 6, 2, 4, 6, 3, 5, 5,\n",
       "       3, 3, 7, 4, 1, 6, 0, 7, 0, 6, 1, 4, 0, 2, 0, 3, 0, 4, 1, 2, 7, 4,\n",
       "       3, 7, 0, 1, 5, 0, 4, 4, 6, 5, 5, 4, 5, 3, 3, 2, 2, 0, 1, 5, 7, 1,\n",
       "       1, 6, 2, 5, 2, 1, 3, 4, 6, 7, 5, 2, 5, 6, 0, 6, 2, 6, 5, 2, 7, 5,\n",
       "       3, 7, 7, 6, 1, 3, 2, 6, 2, 6, 7, 6, 1, 7, 5, 2, 2, 0, 2, 0, 2, 2,\n",
       "       2, 3, 7, 4, 1, 7, 3, 3, 6, 5, 2, 2, 1, 6, 0, 0, 7, 5, 0, 0, 7, 3,\n",
       "       5, 4, 4, 4, 2, 4, 6, 0, 0, 7, 1, 3, 2, 0, 5, 4, 1, 7, 5, 3, 3, 2,\n",
       "       1, 1, 7, 5, 2, 6, 7, 2, 0, 4, 0, 1, 1, 6, 1, 7, 2, 3, 5, 5, 7, 1,\n",
       "       0, 4, 6, 7, 1, 7, 6, 6, 7, 1, 6, 2, 6, 0, 2, 1, 7, 3, 3, 6, 7, 4,\n",
       "       0, 5, 3, 4, 4, 2, 3, 0, 1, 1, 3, 2, 1, 0, 7, 6, 1, 1, 3, 6, 4, 1,\n",
       "       6, 7, 3, 7, 2, 1, 5, 2, 5, 2, 6, 7, 0, 4, 1, 7, 4, 3, 7, 6, 7, 1,\n",
       "       3, 2, 2, 5, 5, 1, 7, 1, 7, 1])"
      ]
     },
     "execution_count": 4,
     "metadata": {},
     "output_type": "execute_result"
    }
   ],
   "source": [
    "y"
   ]
  },
  {
   "cell_type": "code",
   "execution_count": null,
   "metadata": {},
   "outputs": [],
   "source": []
  }
 ],
 "metadata": {
  "kernelspec": {
   "display_name": "Python 3",
   "language": "python",
   "name": "python3"
  },
  "language_info": {
   "codemirror_mode": {
    "name": "ipython",
    "version": 3
   },
   "file_extension": ".py",
   "mimetype": "text/x-python",
   "name": "python",
   "nbconvert_exporter": "python",
   "pygments_lexer": "ipython3",
   "version": "3.7.4"
  }
 },
 "nbformat": 4,
 "nbformat_minor": 4
}
