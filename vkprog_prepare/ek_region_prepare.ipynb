{
 "cells": [
  {
   "cell_type": "markdown",
   "metadata": {},
   "source": [
    "# Imports & Settings"
   ]
  },
  {
   "cell_type": "code",
   "execution_count": 1,
   "metadata": {},
   "outputs": [],
   "source": [
    "# make imports from pa_lib possible (parent directory of file's directory)\n",
    "import sys\n",
    "from pathlib import Path\n",
    "\n",
    "file_dir = Path.cwd()\n",
    "parent_dir = file_dir.parent\n",
    "sys.path.append(str(parent_dir))"
   ]
  },
  {
   "cell_type": "code",
   "execution_count": 3,
   "metadata": {},
   "outputs": [
    {
     "name": "stdout",
     "output_type": "stream",
     "text": [
      "The autoreload extension is already loaded. To reload it, use:\n",
      "  %reload_ext autoreload\n"
     ]
    }
   ],
   "source": [
    "%load_ext autoreload\n",
    "%autoreload\n",
    "%matplotlib inline\n",
    "\n",
    "import pandas as pd\n",
    "import numpy as np\n",
    "import qgrid\n",
    "from datetime import datetime as dtt\n",
    "\n",
    "from pa_lib.file import data_files, load_bin, store_bin, load_csv, write_xlsx, load_xlsx\n",
    "from pa_lib.data import (\n",
    "    calc_col_partitioned,\n",
    "    clean_up_categoricals,\n",
    "    unfactorize,\n",
    "    flatten,\n",
    "    replace_col,\n",
    "    cond_col,\n",
    "    desc_col,\n",
    "    unfactorize,\n",
    "    as_dtype,\n",
    "    flatten_multi_index_cols,\n",
    ")\n",
    "from pa_lib.util import obj_size, cap_words, normalize_rows, clear_row_max\n",
    "from pa_lib.log import time_log, info\n",
    "from pa_lib.vis import dive\n",
    "\n",
    "# display long columns completely, show more rows\n",
    "pd.set_option(\"display.max_colwidth\", 200)\n",
    "pd.set_option(\"display.max_rows\", 100)\n",
    "pd.set_option(\"display.max_columns\", 200)"
   ]
  },
  {
   "cell_type": "markdown",
   "metadata": {},
   "source": [
    "# Load EK data"
   ]
  },
  {
   "cell_type": "code",
   "execution_count": 324,
   "metadata": {},
   "outputs": [
    {
     "data": {
      "text/html": [
       "<div>\n",
       "<style scoped>\n",
       "    .dataframe tbody tr th:only-of-type {\n",
       "        vertical-align: middle;\n",
       "    }\n",
       "\n",
       "    .dataframe tbody tr th {\n",
       "        vertical-align: top;\n",
       "    }\n",
       "\n",
       "    .dataframe thead th {\n",
       "        text-align: right;\n",
       "    }\n",
       "</style>\n",
       "<table border=\"1\" class=\"dataframe\">\n",
       "  <thead>\n",
       "    <tr style=\"text-align: right;\">\n",
       "      <th></th>\n",
       "      <th>size</th>\n",
       "      <th>mtime</th>\n",
       "    </tr>\n",
       "    <tr>\n",
       "      <th>name</th>\n",
       "      <th></th>\n",
       "      <th></th>\n",
       "    </tr>\n",
       "  </thead>\n",
       "  <tbody>\n",
       "    <tr>\n",
       "      <th>bd_by_week.feather</th>\n",
       "      <td>24.1 MB</td>\n",
       "      <td>10.07.19 15:56:05</td>\n",
       "    </tr>\n",
       "    <tr>\n",
       "      <th>bd_cluster_ek_info.feather</th>\n",
       "      <td>4.1 MB</td>\n",
       "      <td>15.08.19 15:46:00</td>\n",
       "    </tr>\n",
       "    <tr>\n",
       "      <th>bd_ek_minmax.feather</th>\n",
       "      <td>1.9 MB</td>\n",
       "      <td>10.07.19 15:34:53</td>\n",
       "    </tr>\n",
       "    <tr>\n",
       "      <th>bd_long_by_week.feather</th>\n",
       "      <td>23.3 MB</td>\n",
       "      <td>10.07.19 10:25:41</td>\n",
       "    </tr>\n",
       "    <tr>\n",
       "      <th>ek_region.feather</th>\n",
       "      <td>2.1 MB</td>\n",
       "      <td>22.08.19 09:45:06</td>\n",
       "    </tr>\n",
       "    <tr>\n",
       "      <th>pv_by_week.feather</th>\n",
       "      <td>11.1 MB</td>\n",
       "      <td>22.05.19 18:01:14</td>\n",
       "    </tr>\n",
       "  </tbody>\n",
       "</table>\n",
       "</div>"
      ],
      "text/plain": [
       "                               size              mtime\n",
       "name                                                  \n",
       "bd_by_week.feather          24.1 MB  10.07.19 15:56:05\n",
       "bd_cluster_ek_info.feather   4.1 MB  15.08.19 15:46:00\n",
       "bd_ek_minmax.feather         1.9 MB  10.07.19 15:34:53\n",
       "bd_long_by_week.feather     23.3 MB  10.07.19 10:25:41\n",
       "ek_region.feather            2.1 MB  22.08.19 09:45:06\n",
       "pv_by_week.feather          11.1 MB  22.05.19 18:01:14"
      ]
     },
     "execution_count": 324,
     "metadata": {},
     "output_type": "execute_result"
    }
   ],
   "source": [
    "data_files('*ek*')"
   ]
  },
  {
   "cell_type": "code",
   "execution_count": 325,
   "metadata": {},
   "outputs": [
    {
     "name": "stderr",
     "output_type": "stream",
     "text": [
      "2019-08-22 15:15:51 [INFO] Reading from file C:\\Users\\kpf\\data\\bd_cluster_ek_info.feather\n",
      "C:\\ProgramData\\Anaconda3\\lib\\site-packages\\pyarrow\\pandas_compat.py:752: FutureWarning: .labels was deprecated in version 0.24.0. Use .codes instead.\n",
      "  labels, = index.labels\n",
      "2019-08-22 15:15:51 [INFO] Finished loading binary file in 0.02s (0.02s CPU)\n"
     ]
    }
   ],
   "source": [
    "ek_info = load_bin('bd_cluster_ek_info.feather')"
   ]
  },
  {
   "cell_type": "markdown",
   "metadata": {},
   "source": [
    "# Prepare PLZ mapping data"
   ]
  },
  {
   "cell_type": "code",
   "execution_count": 326,
   "metadata": {},
   "outputs": [
    {
     "data": {
      "text/html": [
       "<div>\n",
       "<style scoped>\n",
       "    .dataframe tbody tr th:only-of-type {\n",
       "        vertical-align: middle;\n",
       "    }\n",
       "\n",
       "    .dataframe tbody tr th {\n",
       "        vertical-align: top;\n",
       "    }\n",
       "\n",
       "    .dataframe thead th {\n",
       "        text-align: right;\n",
       "    }\n",
       "</style>\n",
       "<table border=\"1\" class=\"dataframe\">\n",
       "  <thead>\n",
       "    <tr style=\"text-align: right;\">\n",
       "      <th></th>\n",
       "      <th>size</th>\n",
       "      <th>mtime</th>\n",
       "    </tr>\n",
       "    <tr>\n",
       "      <th>name</th>\n",
       "      <th></th>\n",
       "      <th></th>\n",
       "    </tr>\n",
       "  </thead>\n",
       "  <tbody>\n",
       "    <tr>\n",
       "      <th>Raumgliederungen.xlsx</th>\n",
       "      <td>112.0 KB</td>\n",
       "      <td>20.08.19 14:57:46</td>\n",
       "    </tr>\n",
       "    <tr>\n",
       "      <th>do-t-09.02-gwr-37.xlsx</th>\n",
       "      <td>414.7 KB</td>\n",
       "      <td>20.08.19 17:00:54</td>\n",
       "    </tr>\n",
       "    <tr>\n",
       "      <th>ppi_data.xlsx</th>\n",
       "      <td>74.5 MB</td>\n",
       "      <td>18.07.19 17:13:43</td>\n",
       "    </tr>\n",
       "    <tr>\n",
       "      <th>ppi_kamp.xlsx</th>\n",
       "      <td>122.3 KB</td>\n",
       "      <td>31.07.19 15:26:30</td>\n",
       "    </tr>\n",
       "    <tr>\n",
       "      <th>ppi_kamp_by_std_publ.xlsx</th>\n",
       "      <td>10.1 KB</td>\n",
       "      <td>18.07.19 17:14:16</td>\n",
       "    </tr>\n",
       "    <tr>\n",
       "      <th>ppi_kamp_hilo.xlsx</th>\n",
       "      <td>150.3 KB</td>\n",
       "      <td>18.07.19 17:15:20</td>\n",
       "    </tr>\n",
       "    <tr>\n",
       "      <th>ppi_kamp_hilo_by_std_publ.xlsx</th>\n",
       "      <td>18.7 KB</td>\n",
       "      <td>18.07.19 17:15:24</td>\n",
       "    </tr>\n",
       "    <tr>\n",
       "      <th>sbbnutz_columns_2014.xlsx</th>\n",
       "      <td>16.0 KB</td>\n",
       "      <td>03.07.19 16:42:07</td>\n",
       "    </tr>\n",
       "    <tr>\n",
       "      <th>sbbnutz_data_2014.xlsx</th>\n",
       "      <td>1.6 MB</td>\n",
       "      <td>03.07.19 16:42:07</td>\n",
       "    </tr>\n",
       "    <tr>\n",
       "      <th>test.xlsx</th>\n",
       "      <td>9.9 KB</td>\n",
       "      <td>11.07.19 16:57:20</td>\n",
       "    </tr>\n",
       "    <tr>\n",
       "      <th>testfile.xlsx</th>\n",
       "      <td>5.9 KB</td>\n",
       "      <td>18.06.19 11:30:10</td>\n",
       "    </tr>\n",
       "    <tr>\n",
       "      <th>vkber_data.xlsx</th>\n",
       "      <td>9.9 KB</td>\n",
       "      <td>11.07.19 17:18:59</td>\n",
       "    </tr>\n",
       "    <tr>\n",
       "      <th>~$do-t-09.02-gwr-37.xlsx</th>\n",
       "      <td>165 B</td>\n",
       "      <td>20.08.19 17:00:54</td>\n",
       "    </tr>\n",
       "  </tbody>\n",
       "</table>\n",
       "</div>"
      ],
      "text/plain": [
       "                                    size              mtime\n",
       "name                                                       \n",
       "Raumgliederungen.xlsx           112.0 KB  20.08.19 14:57:46\n",
       "do-t-09.02-gwr-37.xlsx          414.7 KB  20.08.19 17:00:54\n",
       "ppi_data.xlsx                    74.5 MB  18.07.19 17:13:43\n",
       "ppi_kamp.xlsx                   122.3 KB  31.07.19 15:26:30\n",
       "ppi_kamp_by_std_publ.xlsx        10.1 KB  18.07.19 17:14:16\n",
       "ppi_kamp_hilo.xlsx              150.3 KB  18.07.19 17:15:20\n",
       "ppi_kamp_hilo_by_std_publ.xlsx   18.7 KB  18.07.19 17:15:24\n",
       "sbbnutz_columns_2014.xlsx        16.0 KB  03.07.19 16:42:07\n",
       "sbbnutz_data_2014.xlsx            1.6 MB  03.07.19 16:42:07\n",
       "test.xlsx                         9.9 KB  11.07.19 16:57:20\n",
       "testfile.xlsx                     5.9 KB  18.06.19 11:30:10\n",
       "vkber_data.xlsx                   9.9 KB  11.07.19 17:18:59\n",
       "~$do-t-09.02-gwr-37.xlsx           165 B  20.08.19 17:00:54"
      ]
     },
     "execution_count": 326,
     "metadata": {},
     "output_type": "execute_result"
    }
   ],
   "source": [
    "data_files('*.xlsx')"
   ]
  },
  {
   "cell_type": "code",
   "execution_count": 327,
   "metadata": {},
   "outputs": [
    {
     "name": "stderr",
     "output_type": "stream",
     "text": [
      "2019-08-22 15:15:54 [INFO] Reading from file C:\\Users\\kpf\\data\\do-t-09.02-gwr-37.xlsx\n",
      "2019-08-22 15:15:54 [INFO] Finished loading xlsx file in 0.77s (0.77s CPU)\n"
     ]
    }
   ],
   "source": [
    "plz = load_xlsx(\"do-t-09.02-gwr-37.xlsx\", sheet_name=\"PLZ4\").rename(\n",
    "    columns={\"PLZ4\": \"PLZ\", \"%_IN_GDE\": \"PRC\", \"KTKZ\": \"KANTON\", \"GDENAMK\": \"NAME\"}\n",
    ")"
   ]
  },
  {
   "cell_type": "code",
   "execution_count": 328,
   "metadata": {},
   "outputs": [
    {
     "data": {
      "text/html": [
       "<div>\n",
       "<style scoped>\n",
       "    .dataframe tbody tr th:only-of-type {\n",
       "        vertical-align: middle;\n",
       "    }\n",
       "\n",
       "    .dataframe tbody tr th {\n",
       "        vertical-align: top;\n",
       "    }\n",
       "\n",
       "    .dataframe thead th {\n",
       "        text-align: right;\n",
       "    }\n",
       "</style>\n",
       "<table border=\"1\" class=\"dataframe\">\n",
       "  <thead>\n",
       "    <tr style=\"text-align: right;\">\n",
       "      <th></th>\n",
       "      <th>PLZ</th>\n",
       "      <th>PRC</th>\n",
       "      <th>KANTON</th>\n",
       "      <th>GDENR</th>\n",
       "      <th>NAME</th>\n",
       "    </tr>\n",
       "  </thead>\n",
       "  <tbody>\n",
       "    <tr>\n",
       "      <th>0</th>\n",
       "      <td>8914</td>\n",
       "      <td>100.00</td>\n",
       "      <td>ZH</td>\n",
       "      <td>1</td>\n",
       "      <td>Aeugst am Albis</td>\n",
       "    </tr>\n",
       "    <tr>\n",
       "      <th>1</th>\n",
       "      <td>8909</td>\n",
       "      <td>14.34</td>\n",
       "      <td>ZH</td>\n",
       "      <td>2</td>\n",
       "      <td>Affoltern am Albis</td>\n",
       "    </tr>\n",
       "    <tr>\n",
       "      <th>2</th>\n",
       "      <td>8910</td>\n",
       "      <td>85.66</td>\n",
       "      <td>ZH</td>\n",
       "      <td>2</td>\n",
       "      <td>Affoltern am Albis</td>\n",
       "    </tr>\n",
       "    <tr>\n",
       "      <th>3</th>\n",
       "      <td>8906</td>\n",
       "      <td>100.00</td>\n",
       "      <td>ZH</td>\n",
       "      <td>3</td>\n",
       "      <td>Bonstetten</td>\n",
       "    </tr>\n",
       "    <tr>\n",
       "      <th>4</th>\n",
       "      <td>6340</td>\n",
       "      <td>0.77</td>\n",
       "      <td>ZH</td>\n",
       "      <td>4</td>\n",
       "      <td>Hausen am Albis</td>\n",
       "    </tr>\n",
       "    <tr>\n",
       "      <th>5</th>\n",
       "      <td>8915</td>\n",
       "      <td>72.06</td>\n",
       "      <td>ZH</td>\n",
       "      <td>4</td>\n",
       "      <td>Hausen am Albis</td>\n",
       "    </tr>\n",
       "    <tr>\n",
       "      <th>6</th>\n",
       "      <td>8925</td>\n",
       "      <td>27.17</td>\n",
       "      <td>ZH</td>\n",
       "      <td>4</td>\n",
       "      <td>Hausen am Albis</td>\n",
       "    </tr>\n",
       "    <tr>\n",
       "      <th>7</th>\n",
       "      <td>8908</td>\n",
       "      <td>100.00</td>\n",
       "      <td>ZH</td>\n",
       "      <td>5</td>\n",
       "      <td>Hedingen</td>\n",
       "    </tr>\n",
       "    <tr>\n",
       "      <th>8</th>\n",
       "      <td>8926</td>\n",
       "      <td>100.00</td>\n",
       "      <td>ZH</td>\n",
       "      <td>6</td>\n",
       "      <td>Kappel am Albis</td>\n",
       "    </tr>\n",
       "    <tr>\n",
       "      <th>9</th>\n",
       "      <td>8934</td>\n",
       "      <td>100.00</td>\n",
       "      <td>ZH</td>\n",
       "      <td>7</td>\n",
       "      <td>Knonau</td>\n",
       "    </tr>\n",
       "  </tbody>\n",
       "</table>\n",
       "</div>"
      ],
      "text/plain": [
       "    PLZ     PRC KANTON  GDENR                NAME\n",
       "0  8914  100.00     ZH      1     Aeugst am Albis\n",
       "1  8909   14.34     ZH      2  Affoltern am Albis\n",
       "2  8910   85.66     ZH      2  Affoltern am Albis\n",
       "3  8906  100.00     ZH      3          Bonstetten\n",
       "4  6340    0.77     ZH      4     Hausen am Albis\n",
       "5  8915   72.06     ZH      4     Hausen am Albis\n",
       "6  8925   27.17     ZH      4     Hausen am Albis\n",
       "7  8908  100.00     ZH      5            Hedingen\n",
       "8  8926  100.00     ZH      6     Kappel am Albis\n",
       "9  8934  100.00     ZH      7              Knonau"
      ]
     },
     "execution_count": 328,
     "metadata": {},
     "output_type": "execute_result"
    }
   ],
   "source": [
    "plz.head(10)"
   ]
  },
  {
   "cell_type": "markdown",
   "metadata": {},
   "source": [
    "### PLZ are not uniquely mapped to towns, not even cantons!"
   ]
  },
  {
   "cell_type": "code",
   "execution_count": 329,
   "metadata": {},
   "outputs": [
    {
     "data": {
      "text/plain": [
       "1148    8\n",
       "3053    7\n",
       "9107    7\n",
       "2345    7\n",
       "6110    7\n",
       "8500    6\n",
       "3800    6\n",
       "9427    6\n",
       "2720    6\n",
       "2523    6\n",
       "Name: PLZ, dtype: int64"
      ]
     },
     "execution_count": 329,
     "metadata": {},
     "output_type": "execute_result"
    }
   ],
   "source": [
    "plz.PLZ.value_counts().head(10)"
   ]
  },
  {
   "cell_type": "code",
   "execution_count": 330,
   "metadata": {},
   "outputs": [
    {
     "data": {
      "text/html": [
       "<div>\n",
       "<style scoped>\n",
       "    .dataframe tbody tr th:only-of-type {\n",
       "        vertical-align: middle;\n",
       "    }\n",
       "\n",
       "    .dataframe tbody tr th {\n",
       "        vertical-align: top;\n",
       "    }\n",
       "\n",
       "    .dataframe thead tr th {\n",
       "        text-align: left;\n",
       "    }\n",
       "\n",
       "    .dataframe thead tr:last-of-type th {\n",
       "        text-align: right;\n",
       "    }\n",
       "</style>\n",
       "<table border=\"1\" class=\"dataframe\">\n",
       "  <thead>\n",
       "    <tr>\n",
       "      <th></th>\n",
       "      <th colspan=\"2\" halign=\"left\">KANTON</th>\n",
       "    </tr>\n",
       "    <tr>\n",
       "      <th></th>\n",
       "      <th>nunique</th>\n",
       "      <th>collect</th>\n",
       "    </tr>\n",
       "    <tr>\n",
       "      <th>PLZ</th>\n",
       "      <th></th>\n",
       "      <th></th>\n",
       "    </tr>\n",
       "  </thead>\n",
       "  <tbody>\n",
       "    <tr>\n",
       "      <th>9107</th>\n",
       "      <td>3</td>\n",
       "      <td>AR,AI,SG</td>\n",
       "    </tr>\n",
       "    <tr>\n",
       "      <th>2814</th>\n",
       "      <td>3</td>\n",
       "      <td>SO,BL,JU</td>\n",
       "    </tr>\n",
       "    <tr>\n",
       "      <th>6390</th>\n",
       "      <td>3</td>\n",
       "      <td>UR,OW,NW</td>\n",
       "    </tr>\n",
       "    <tr>\n",
       "      <th>2827</th>\n",
       "      <td>3</td>\n",
       "      <td>BE,SO,JU</td>\n",
       "    </tr>\n",
       "    <tr>\n",
       "      <th>9428</th>\n",
       "      <td>3</td>\n",
       "      <td>AR,AI,SG</td>\n",
       "    </tr>\n",
       "    <tr>\n",
       "      <th>9427</th>\n",
       "      <td>3</td>\n",
       "      <td>AR,AI,SG</td>\n",
       "    </tr>\n",
       "    <tr>\n",
       "      <th>6010</th>\n",
       "      <td>3</td>\n",
       "      <td>LU,OW,NW</td>\n",
       "    </tr>\n",
       "    <tr>\n",
       "      <th>9450</th>\n",
       "      <td>3</td>\n",
       "      <td>AR,AI,SG</td>\n",
       "    </tr>\n",
       "    <tr>\n",
       "      <th>3254</th>\n",
       "      <td>2</td>\n",
       "      <td>BE,SO</td>\n",
       "    </tr>\n",
       "    <tr>\n",
       "      <th>9100</th>\n",
       "      <td>2</td>\n",
       "      <td>AR,SG</td>\n",
       "    </tr>\n",
       "  </tbody>\n",
       "</table>\n",
       "</div>"
      ],
      "text/plain": [
       "      KANTON          \n",
       "     nunique   collect\n",
       "PLZ                   \n",
       "9107       3  AR,AI,SG\n",
       "2814       3  SO,BL,JU\n",
       "6390       3  UR,OW,NW\n",
       "2827       3  BE,SO,JU\n",
       "9428       3  AR,AI,SG\n",
       "9427       3  AR,AI,SG\n",
       "6010       3  LU,OW,NW\n",
       "9450       3  AR,AI,SG\n",
       "3254       2     BE,SO\n",
       "9100       2     AR,SG"
      ]
     },
     "execution_count": 330,
     "metadata": {},
     "output_type": "execute_result"
    }
   ],
   "source": [
    "def collect(s, sep=\",\"):\n",
    "    return sep.join(map(str, s[s.notna()].unique()))\n",
    "\n",
    "\n",
    "plz.groupby(\"PLZ\").agg({\"KANTON\": [\"nunique\", collect]}).sort_values(\n",
    "    (\"KANTON\", \"nunique\"), ascending=False\n",
    ").head(10)"
   ]
  },
  {
   "cell_type": "markdown",
   "metadata": {},
   "source": [
    "### Find best matches for town and canton by maximising PRC per PLZ"
   ]
  },
  {
   "cell_type": "code",
   "execution_count": 331,
   "metadata": {},
   "outputs": [],
   "source": [
    "def main_features(df):\n",
    "    return df.loc[df.PRC.idxmax(), ['GDENR', 'NAME', 'KANTON']]\n",
    "\n",
    "plz_unique = plz.groupby('PLZ').apply(main_name)"
   ]
  },
  {
   "cell_type": "markdown",
   "metadata": {},
   "source": [
    "# Load data on economic regions"
   ]
  },
  {
   "cell_type": "code",
   "execution_count": 332,
   "metadata": {},
   "outputs": [
    {
     "name": "stderr",
     "output_type": "stream",
     "text": [
      "2019-08-22 15:16:02 [INFO] Reading from file C:\\Users\\kpf\\data\\Raumgliederungen.xlsx\n",
      "2019-08-22 15:16:02 [INFO] Finished loading xlsx file in 0.19s (0.19s CPU)\n"
     ]
    }
   ],
   "source": [
    "reg = load_xlsx(\"Raumgliederungen.xlsx\", sheet_name=\"Daten\", skiprows=0, header=1)\n",
    "\n",
    "# drop unused\n",
    "reg.drop(0, axis=\"index\", inplace=True)\n",
    "reg.drop([\"Bezirks-nummer\", \"Kantons-nummer\"], axis=\"columns\", inplace=True)\n",
    "\n",
    "# rename columns\n",
    "reg.rename(\n",
    "    columns={\n",
    "        \"BFS Gde-nummer\": \"GDENR\",\n",
    "        \"Gemeindename\": \"NAME\",\n",
    "        \"Kanton\": \"KANTON\",\n",
    "        \"Bezirksname\": \"BEZIRK\",\n",
    "        \"Arbeitsmarktgrossregionen 2018\": \"GROSSREGION_ID\",\n",
    "        \"Arbeitsmarktregionen 2018\": \"REGION_ID\",\n",
    "    },\n",
    "    inplace=True,\n",
    ")\n",
    "\n",
    "# fix data types\n",
    "reg = reg.astype({\"GDENR\": \"int64\", \"GROSSREGION_ID\": \"int64\", \"REGION_ID\": \"int64\"})"
   ]
  },
  {
   "cell_type": "code",
   "execution_count": 333,
   "metadata": {},
   "outputs": [
    {
     "data": {
      "text/html": [
       "<div>\n",
       "<style scoped>\n",
       "    .dataframe tbody tr th:only-of-type {\n",
       "        vertical-align: middle;\n",
       "    }\n",
       "\n",
       "    .dataframe tbody tr th {\n",
       "        vertical-align: top;\n",
       "    }\n",
       "\n",
       "    .dataframe thead th {\n",
       "        text-align: right;\n",
       "    }\n",
       "</style>\n",
       "<table border=\"1\" class=\"dataframe\">\n",
       "  <thead>\n",
       "    <tr style=\"text-align: right;\">\n",
       "      <th></th>\n",
       "      <th>GDENR</th>\n",
       "      <th>NAME</th>\n",
       "      <th>KANTON</th>\n",
       "      <th>BEZIRK</th>\n",
       "      <th>GROSSREGION_ID</th>\n",
       "      <th>REGION_ID</th>\n",
       "    </tr>\n",
       "  </thead>\n",
       "  <tbody>\n",
       "    <tr>\n",
       "      <th>1</th>\n",
       "      <td>1</td>\n",
       "      <td>Aeugst am Albis</td>\n",
       "      <td>ZH</td>\n",
       "      <td>Affoltern</td>\n",
       "      <td>12</td>\n",
       "      <td>12031</td>\n",
       "    </tr>\n",
       "    <tr>\n",
       "      <th>2</th>\n",
       "      <td>2</td>\n",
       "      <td>Affoltern am Albis</td>\n",
       "      <td>ZH</td>\n",
       "      <td>Affoltern</td>\n",
       "      <td>12</td>\n",
       "      <td>12031</td>\n",
       "    </tr>\n",
       "    <tr>\n",
       "      <th>3</th>\n",
       "      <td>3</td>\n",
       "      <td>Bonstetten</td>\n",
       "      <td>ZH</td>\n",
       "      <td>Affoltern</td>\n",
       "      <td>12</td>\n",
       "      <td>12034</td>\n",
       "    </tr>\n",
       "    <tr>\n",
       "      <th>4</th>\n",
       "      <td>4</td>\n",
       "      <td>Hausen am Albis</td>\n",
       "      <td>ZH</td>\n",
       "      <td>Affoltern</td>\n",
       "      <td>11</td>\n",
       "      <td>11060</td>\n",
       "    </tr>\n",
       "    <tr>\n",
       "      <th>5</th>\n",
       "      <td>5</td>\n",
       "      <td>Hedingen</td>\n",
       "      <td>ZH</td>\n",
       "      <td>Affoltern</td>\n",
       "      <td>12</td>\n",
       "      <td>12031</td>\n",
       "    </tr>\n",
       "  </tbody>\n",
       "</table>\n",
       "</div>"
      ],
      "text/plain": [
       "   GDENR                NAME KANTON     BEZIRK  GROSSREGION_ID  REGION_ID\n",
       "1      1     Aeugst am Albis     ZH  Affoltern              12      12031\n",
       "2      2  Affoltern am Albis     ZH  Affoltern              12      12031\n",
       "3      3          Bonstetten     ZH  Affoltern              12      12034\n",
       "4      4     Hausen am Albis     ZH  Affoltern              11      11060\n",
       "5      5            Hedingen     ZH  Affoltern              12      12031"
      ]
     },
     "execution_count": 333,
     "metadata": {},
     "output_type": "execute_result"
    }
   ],
   "source": [
    "reg.head()"
   ]
  },
  {
   "cell_type": "markdown",
   "metadata": {},
   "source": [
    "### Grossregionen"
   ]
  },
  {
   "cell_type": "code",
   "execution_count": 334,
   "metadata": {},
   "outputs": [
    {
     "name": "stderr",
     "output_type": "stream",
     "text": [
      "2019-08-22 15:16:04 [INFO] Reading from file C:\\Users\\kpf\\data\\Raumgliederungen.xlsx\n",
      "2019-08-22 15:16:04 [INFO] Finished loading xlsx file in 0.17s (0.17s CPU)\n"
     ]
    }
   ],
   "source": [
    "reg_grossreg = load_xlsx(\n",
    "    \"Raumgliederungen.xlsx\",\n",
    "    sheet_name=\"CH1+CL_GBAE2018+1.0\",\n",
    "    skiprows=0,\n",
    "    header=1,\n",
    "    index_col=0,\n",
    ")"
   ]
  },
  {
   "cell_type": "code",
   "execution_count": 335,
   "metadata": {},
   "outputs": [
    {
     "data": {
      "text/html": [
       "<div>\n",
       "<style scoped>\n",
       "    .dataframe tbody tr th:only-of-type {\n",
       "        vertical-align: middle;\n",
       "    }\n",
       "\n",
       "    .dataframe tbody tr th {\n",
       "        vertical-align: top;\n",
       "    }\n",
       "\n",
       "    .dataframe thead th {\n",
       "        text-align: right;\n",
       "    }\n",
       "</style>\n",
       "<table border=\"1\" class=\"dataframe\">\n",
       "  <thead>\n",
       "    <tr style=\"text-align: right;\">\n",
       "      <th></th>\n",
       "      <th>Label</th>\n",
       "    </tr>\n",
       "    <tr>\n",
       "      <th>Code</th>\n",
       "      <th></th>\n",
       "    </tr>\n",
       "  </thead>\n",
       "  <tbody>\n",
       "    <tr>\n",
       "      <th>1</th>\n",
       "      <td>Region Genf</td>\n",
       "    </tr>\n",
       "    <tr>\n",
       "      <th>2</th>\n",
       "      <td>Region Lausanne</td>\n",
       "    </tr>\n",
       "    <tr>\n",
       "      <th>3</th>\n",
       "      <td>Region Neuenburg</td>\n",
       "    </tr>\n",
       "    <tr>\n",
       "      <th>4</th>\n",
       "      <td>Region Freiburg</td>\n",
       "    </tr>\n",
       "    <tr>\n",
       "      <th>5</th>\n",
       "      <td>Region Biel–Jura</td>\n",
       "    </tr>\n",
       "  </tbody>\n",
       "</table>\n",
       "</div>"
      ],
      "text/plain": [
       "                 Label\n",
       "Code                  \n",
       "1          Region Genf\n",
       "2      Region Lausanne\n",
       "3     Region Neuenburg\n",
       "4      Region Freiburg\n",
       "5     Region Biel–Jura"
      ]
     },
     "execution_count": 335,
     "metadata": {},
     "output_type": "execute_result"
    }
   ],
   "source": [
    "reg_grossreg.head()"
   ]
  },
  {
   "cell_type": "markdown",
   "metadata": {},
   "source": [
    "### Regionen"
   ]
  },
  {
   "cell_type": "code",
   "execution_count": 336,
   "metadata": {},
   "outputs": [
    {
     "name": "stderr",
     "output_type": "stream",
     "text": [
      "2019-08-22 15:16:06 [INFO] Reading from file C:\\Users\\kpf\\data\\Raumgliederungen.xlsx\n",
      "2019-08-22 15:16:06 [INFO] Finished loading xlsx file in 0.17s (0.17s CPU)\n"
     ]
    }
   ],
   "source": [
    "reg_reg = load_xlsx(\n",
    "    \"Raumgliederungen.xlsx\",\n",
    "    sheet_name=\"CH1+CL_BAE2018+1.0\",\n",
    "    skiprows=0,\n",
    "    header=1,\n",
    "    index_col=0,\n",
    ")"
   ]
  },
  {
   "cell_type": "code",
   "execution_count": 337,
   "metadata": {},
   "outputs": [
    {
     "data": {
      "text/html": [
       "<div>\n",
       "<style scoped>\n",
       "    .dataframe tbody tr th:only-of-type {\n",
       "        vertical-align: middle;\n",
       "    }\n",
       "\n",
       "    .dataframe tbody tr th {\n",
       "        vertical-align: top;\n",
       "    }\n",
       "\n",
       "    .dataframe thead th {\n",
       "        text-align: right;\n",
       "    }\n",
       "</style>\n",
       "<table border=\"1\" class=\"dataframe\">\n",
       "  <thead>\n",
       "    <tr style=\"text-align: right;\">\n",
       "      <th></th>\n",
       "      <th>Label</th>\n",
       "    </tr>\n",
       "    <tr>\n",
       "      <th>Code</th>\n",
       "      <th></th>\n",
       "    </tr>\n",
       "  </thead>\n",
       "  <tbody>\n",
       "    <tr>\n",
       "      <th>1011</th>\n",
       "      <td>Vernier–Lancy</td>\n",
       "    </tr>\n",
       "    <tr>\n",
       "      <th>1012</th>\n",
       "      <td>Genève</td>\n",
       "    </tr>\n",
       "    <tr>\n",
       "      <th>1013</th>\n",
       "      <td>Le Grand-Saconnex</td>\n",
       "    </tr>\n",
       "    <tr>\n",
       "      <th>1014</th>\n",
       "      <td>Nyon</td>\n",
       "    </tr>\n",
       "    <tr>\n",
       "      <th>1015</th>\n",
       "      <td>Thônex–Chêne-Bougeries</td>\n",
       "    </tr>\n",
       "  </tbody>\n",
       "</table>\n",
       "</div>"
      ],
      "text/plain": [
       "                       Label\n",
       "Code                        \n",
       "1011           Vernier–Lancy\n",
       "1012                  Genève\n",
       "1013       Le Grand-Saconnex\n",
       "1014                    Nyon\n",
       "1015  Thônex–Chêne-Bougeries"
      ]
     },
     "execution_count": 337,
     "metadata": {},
     "output_type": "execute_result"
    }
   ],
   "source": [
    "reg_reg.head()"
   ]
  },
  {
   "cell_type": "markdown",
   "metadata": {},
   "source": [
    "### Merge Grossregionen and Regionen"
   ]
  },
  {
   "cell_type": "code",
   "execution_count": 338,
   "metadata": {},
   "outputs": [],
   "source": [
    "reg = (\n",
    "    reg.assign(\n",
    "        REGION=reg_reg.loc[reg.REGION_ID].values,\n",
    "        GROSSREGION=reg_grossreg.loc[reg.GROSSREGION_ID].values,\n",
    "    )\n",
    "    .drop([\"GROSSREGION_ID\", \"REGION_ID\"], axis=\"columns\")\n",
    "    .set_index(\"GDENR\")\n",
    ")"
   ]
  },
  {
   "cell_type": "code",
   "execution_count": 339,
   "metadata": {},
   "outputs": [
    {
     "data": {
      "text/html": [
       "<div>\n",
       "<style scoped>\n",
       "    .dataframe tbody tr th:only-of-type {\n",
       "        vertical-align: middle;\n",
       "    }\n",
       "\n",
       "    .dataframe tbody tr th {\n",
       "        vertical-align: top;\n",
       "    }\n",
       "\n",
       "    .dataframe thead th {\n",
       "        text-align: right;\n",
       "    }\n",
       "</style>\n",
       "<table border=\"1\" class=\"dataframe\">\n",
       "  <thead>\n",
       "    <tr style=\"text-align: right;\">\n",
       "      <th></th>\n",
       "      <th>NAME</th>\n",
       "      <th>KANTON</th>\n",
       "      <th>BEZIRK</th>\n",
       "      <th>REGION</th>\n",
       "      <th>GROSSREGION</th>\n",
       "    </tr>\n",
       "    <tr>\n",
       "      <th>GDENR</th>\n",
       "      <th></th>\n",
       "      <th></th>\n",
       "      <th></th>\n",
       "      <th></th>\n",
       "      <th></th>\n",
       "    </tr>\n",
       "  </thead>\n",
       "  <tbody>\n",
       "    <tr>\n",
       "      <th>1</th>\n",
       "      <td>Aeugst am Albis</td>\n",
       "      <td>ZH</td>\n",
       "      <td>Affoltern</td>\n",
       "      <td>Dietikon–Schlieren</td>\n",
       "      <td>Region Zürich</td>\n",
       "    </tr>\n",
       "    <tr>\n",
       "      <th>2</th>\n",
       "      <td>Affoltern am Albis</td>\n",
       "      <td>ZH</td>\n",
       "      <td>Affoltern</td>\n",
       "      <td>Dietikon–Schlieren</td>\n",
       "      <td>Region Zürich</td>\n",
       "    </tr>\n",
       "    <tr>\n",
       "      <th>3</th>\n",
       "      <td>Bonstetten</td>\n",
       "      <td>ZH</td>\n",
       "      <td>Affoltern</td>\n",
       "      <td>Horgen–Wädenswil</td>\n",
       "      <td>Region Zürich</td>\n",
       "    </tr>\n",
       "    <tr>\n",
       "      <th>4</th>\n",
       "      <td>Hausen am Albis</td>\n",
       "      <td>ZH</td>\n",
       "      <td>Affoltern</td>\n",
       "      <td>Zug</td>\n",
       "      <td>Zentralschweiz</td>\n",
       "    </tr>\n",
       "    <tr>\n",
       "      <th>5</th>\n",
       "      <td>Hedingen</td>\n",
       "      <td>ZH</td>\n",
       "      <td>Affoltern</td>\n",
       "      <td>Dietikon–Schlieren</td>\n",
       "      <td>Region Zürich</td>\n",
       "    </tr>\n",
       "  </tbody>\n",
       "</table>\n",
       "</div>"
      ],
      "text/plain": [
       "                     NAME KANTON     BEZIRK              REGION  \\\n",
       "GDENR                                                             \n",
       "1         Aeugst am Albis     ZH  Affoltern  Dietikon–Schlieren   \n",
       "2      Affoltern am Albis     ZH  Affoltern  Dietikon–Schlieren   \n",
       "3              Bonstetten     ZH  Affoltern    Horgen–Wädenswil   \n",
       "4         Hausen am Albis     ZH  Affoltern                 Zug   \n",
       "5                Hedingen     ZH  Affoltern  Dietikon–Schlieren   \n",
       "\n",
       "          GROSSREGION  \n",
       "GDENR                  \n",
       "1       Region Zürich  \n",
       "2       Region Zürich  \n",
       "3       Region Zürich  \n",
       "4      Zentralschweiz  \n",
       "5       Region Zürich  "
      ]
     },
     "execution_count": 339,
     "metadata": {},
     "output_type": "execute_result"
    }
   ],
   "source": [
    "reg.head()"
   ]
  },
  {
   "cell_type": "markdown",
   "metadata": {},
   "source": [
    "# Add region info to customers"
   ]
  },
  {
   "cell_type": "markdown",
   "metadata": {},
   "source": [
    "### Find a GDENR for each swiss customer"
   ]
  },
  {
   "cell_type": "code",
   "execution_count": 340,
   "metadata": {},
   "outputs": [],
   "source": [
    "swiss_customer = ek_info.EK_Land == \"SCHWEIZ\""
   ]
  },
  {
   "cell_type": "markdown",
   "metadata": {},
   "source": [
    "#### First, match by PLZ"
   ]
  },
  {
   "cell_type": "code",
   "execution_count": 341,
   "metadata": {},
   "outputs": [],
   "source": [
    "ek_info[\"GDENR_PLZ\"] = plz_unique.reindex(\n",
    "    pd.to_numeric(ek_info.EK_Plz, errors=\"coerce\").fillna(-1).astype(\"int64\")\n",
    ").GDENR.values"
   ]
  },
  {
   "cell_type": "markdown",
   "metadata": {},
   "source": [
    "#### Then, match by full town name"
   ]
  },
  {
   "cell_type": "code",
   "execution_count": 342,
   "metadata": {},
   "outputs": [],
   "source": [
    "gdenr_by_name = plz.groupby('NAME').agg({'GDENR': 'first'})\n",
    "\n",
    "ek_info[\"GDENR_NAME\"] = (\n",
    "    gdenr_by_name.reindex(ek_info.EK_Ort).values\n",
    ")"
   ]
  },
  {
   "cell_type": "markdown",
   "metadata": {},
   "source": [
    "#### Then, match by first word of town name (for, e.g. *Laufen (BL)*)"
   ]
  },
  {
   "cell_type": "code",
   "execution_count": 343,
   "metadata": {},
   "outputs": [],
   "source": [
    "def firstnames(s):\n",
    "    s = s.fillna(\"\")\n",
    "    return s.str.partition(expand=False).apply(lambda x: x[0])\n",
    "\n",
    "\n",
    "gdenr_by_firstname = (\n",
    "    plz.assign(FIRSTNAME=firstnames(plz.NAME))\n",
    "    .groupby(\"FIRSTNAME\")\n",
    "    .agg({\"GDENR\": \"first\"})\n",
    ")\n",
    "\n",
    "ek_info[\"GDENR_FIRSTNAME\"] = gdenr_by_firstname.reindex(\n",
    "    firstnames(ek_info.EK_Ort)\n",
    ").values"
   ]
  },
  {
   "cell_type": "markdown",
   "metadata": {},
   "source": [
    "#### Finally, match some special cases by remapping them to the closest town, then match by full name"
   ]
  },
  {
   "cell_type": "code",
   "execution_count": 344,
   "metadata": {},
   "outputs": [],
   "source": [
    "ek_info[\"GDENR_SPECIAL\"] = gdenr_by_name.reindex(\n",
    "    ek_info.EK_Ort.replace(\n",
    "        {\n",
    "            \"Schönbühl Einkaufszentrum\": \"Urtenen-Schönbühl\",\n",
    "            \"Emmenbrücke 1\": \"Emmen\",\n",
    "            \"Glattzentrum b. Wallisellen\": \"Wallisellen\",\n",
    "            \"Zürich-Flughafen\": \"Kloten\",\n",
    "            \"Büsingen\": \"Schaffhausen\",\n",
    "            \"Serfontana\": \"Chiasso\",\n",
    "            \"Triesen\": \"Sevelen\",\n",
    "            \"Campione d'Italia\": \"Bissone\",\n",
    "        }\n",
    "    )\n",
    ").values"
   ]
  },
  {
   "cell_type": "markdown",
   "metadata": {},
   "source": [
    "#### Merge all matches by successive fallback"
   ]
  },
  {
   "cell_type": "code",
   "execution_count": 345,
   "metadata": {},
   "outputs": [],
   "source": [
    "ek_info[\"GDENR\"] = (\n",
    "    ek_info.GDENR_PLZ\n",
    "    .fillna(ek_info.GDENR_NAME)\n",
    "    .fillna(ek_info.GDENR_FIRSTNAME)\n",
    "    .fillna(ek_info.GDENR_SPECIAL)\n",
    ")\n",
    "\n",
    "# Delete matches of non-swiss customers (e.g. by PLZ or first name)\n",
    "ek_info.loc[~swiss_customer, 'GDENR'] = None\n",
    "\n",
    "ek_info.drop(\n",
    "    \"GDENR_PLZ GDENR_NAME GDENR_FIRSTNAME GDENR_SPECIAL\".split(), axis=\"columns\", inplace=True\n",
    ")"
   ]
  },
  {
   "cell_type": "markdown",
   "metadata": {},
   "source": [
    "#### Sanity check: this should be empty!"
   ]
  },
  {
   "cell_type": "code",
   "execution_count": 346,
   "metadata": {},
   "outputs": [
    {
     "data": {
      "text/html": [
       "<div>\n",
       "<style scoped>\n",
       "    .dataframe tbody tr th:only-of-type {\n",
       "        vertical-align: middle;\n",
       "    }\n",
       "\n",
       "    .dataframe tbody tr th {\n",
       "        vertical-align: top;\n",
       "    }\n",
       "\n",
       "    .dataframe thead th {\n",
       "        text-align: right;\n",
       "    }\n",
       "</style>\n",
       "<table border=\"1\" class=\"dataframe\">\n",
       "  <thead>\n",
       "    <tr style=\"text-align: right;\">\n",
       "      <th></th>\n",
       "      <th>EK_Plz</th>\n",
       "      <th>EK_Ort</th>\n",
       "    </tr>\n",
       "  </thead>\n",
       "  <tbody>\n",
       "  </tbody>\n",
       "</table>\n",
       "</div>"
      ],
      "text/plain": [
       "Empty DataFrame\n",
       "Columns: [EK_Plz, EK_Ort]\n",
       "Index: []"
      ]
     },
     "execution_count": 346,
     "metadata": {},
     "output_type": "execute_result"
    }
   ],
   "source": [
    "not_matched = ek_info.loc[\n",
    "    ek_info.GDENR.isnull()\n",
    "    & swiss_customer,\n",
    "    [\"EK_Plz\", \"EK_Ort\"],\n",
    "]\n",
    "\n",
    "not_matched"
   ]
  },
  {
   "cell_type": "markdown",
   "metadata": {},
   "source": [
    "### Join region info on GDENR"
   ]
  },
  {
   "cell_type": "code",
   "execution_count": 347,
   "metadata": {},
   "outputs": [
    {
     "data": {
      "text/html": [
       "<div>\n",
       "<style scoped>\n",
       "    .dataframe tbody tr th:only-of-type {\n",
       "        vertical-align: middle;\n",
       "    }\n",
       "\n",
       "    .dataframe tbody tr th {\n",
       "        vertical-align: top;\n",
       "    }\n",
       "\n",
       "    .dataframe thead th {\n",
       "        text-align: right;\n",
       "    }\n",
       "</style>\n",
       "<table border=\"1\" class=\"dataframe\">\n",
       "  <thead>\n",
       "    <tr style=\"text-align: right;\">\n",
       "      <th></th>\n",
       "      <th>Endkunde_NR</th>\n",
       "      <th>NAME</th>\n",
       "      <th>KANTON</th>\n",
       "      <th>BEZIRK</th>\n",
       "      <th>REGION</th>\n",
       "      <th>GROSSREGION</th>\n",
       "    </tr>\n",
       "  </thead>\n",
       "  <tbody>\n",
       "    <tr>\n",
       "      <th>0</th>\n",
       "      <td>100034</td>\n",
       "      <td>Winterthur</td>\n",
       "      <td>ZH</td>\n",
       "      <td>Winterthur</td>\n",
       "      <td>Winterthur</td>\n",
       "      <td>Region Zürich</td>\n",
       "    </tr>\n",
       "    <tr>\n",
       "      <th>1</th>\n",
       "      <td>100039</td>\n",
       "      <td>Uster</td>\n",
       "      <td>ZH</td>\n",
       "      <td>Uster</td>\n",
       "      <td>Uster–Dübendorf</td>\n",
       "      <td>Region Zürich</td>\n",
       "    </tr>\n",
       "    <tr>\n",
       "      <th>2</th>\n",
       "      <td>100061</td>\n",
       "      <td>Winterthur</td>\n",
       "      <td>ZH</td>\n",
       "      <td>Winterthur</td>\n",
       "      <td>Winterthur</td>\n",
       "      <td>Region Zürich</td>\n",
       "    </tr>\n",
       "    <tr>\n",
       "      <th>3</th>\n",
       "      <td>100064</td>\n",
       "      <td>Uster</td>\n",
       "      <td>ZH</td>\n",
       "      <td>Uster</td>\n",
       "      <td>Uster–Dübendorf</td>\n",
       "      <td>Region Zürich</td>\n",
       "    </tr>\n",
       "    <tr>\n",
       "      <th>4</th>\n",
       "      <td>100066</td>\n",
       "      <td>Uster</td>\n",
       "      <td>ZH</td>\n",
       "      <td>Uster</td>\n",
       "      <td>Uster–Dübendorf</td>\n",
       "      <td>Region Zürich</td>\n",
       "    </tr>\n",
       "    <tr>\n",
       "      <th>5</th>\n",
       "      <td>100083</td>\n",
       "      <td>Volketswil</td>\n",
       "      <td>ZH</td>\n",
       "      <td>Uster</td>\n",
       "      <td>Uster–Dübendorf</td>\n",
       "      <td>Region Zürich</td>\n",
       "    </tr>\n",
       "    <tr>\n",
       "      <th>6</th>\n",
       "      <td>100092</td>\n",
       "      <td>Zürich</td>\n",
       "      <td>ZH</td>\n",
       "      <td>Zürich</td>\n",
       "      <td>Zürich</td>\n",
       "      <td>Region Zürich</td>\n",
       "    </tr>\n",
       "    <tr>\n",
       "      <th>7</th>\n",
       "      <td>100095</td>\n",
       "      <td>Wetzikon (ZH)</td>\n",
       "      <td>ZH</td>\n",
       "      <td>Hinwil</td>\n",
       "      <td>Wetzikon (ZH)</td>\n",
       "      <td>Region Zürich</td>\n",
       "    </tr>\n",
       "    <tr>\n",
       "      <th>8</th>\n",
       "      <td>100097</td>\n",
       "      <td>Dübendorf</td>\n",
       "      <td>ZH</td>\n",
       "      <td>Uster</td>\n",
       "      <td>Uster–Dübendorf</td>\n",
       "      <td>Region Zürich</td>\n",
       "    </tr>\n",
       "    <tr>\n",
       "      <th>9</th>\n",
       "      <td>100098</td>\n",
       "      <td>Wallisellen</td>\n",
       "      <td>ZH</td>\n",
       "      <td>Bülach</td>\n",
       "      <td>Uster–Dübendorf</td>\n",
       "      <td>Region Zürich</td>\n",
       "    </tr>\n",
       "    <tr>\n",
       "      <th>10</th>\n",
       "      <td>100104</td>\n",
       "      <td>Mönchaltorf</td>\n",
       "      <td>ZH</td>\n",
       "      <td>Uster</td>\n",
       "      <td>Uster–Dübendorf</td>\n",
       "      <td>Region Zürich</td>\n",
       "    </tr>\n",
       "    <tr>\n",
       "      <th>11</th>\n",
       "      <td>100109</td>\n",
       "      <td>Uster</td>\n",
       "      <td>ZH</td>\n",
       "      <td>Uster</td>\n",
       "      <td>Uster–Dübendorf</td>\n",
       "      <td>Region Zürich</td>\n",
       "    </tr>\n",
       "    <tr>\n",
       "      <th>12</th>\n",
       "      <td>100112</td>\n",
       "      <td>Bachenbülach</td>\n",
       "      <td>ZH</td>\n",
       "      <td>Bülach</td>\n",
       "      <td>Kloten</td>\n",
       "      <td>Region Zürich</td>\n",
       "    </tr>\n",
       "    <tr>\n",
       "      <th>13</th>\n",
       "      <td>100121</td>\n",
       "      <td>Volketswil</td>\n",
       "      <td>ZH</td>\n",
       "      <td>Uster</td>\n",
       "      <td>Uster–Dübendorf</td>\n",
       "      <td>Region Zürich</td>\n",
       "    </tr>\n",
       "    <tr>\n",
       "      <th>14</th>\n",
       "      <td>100128</td>\n",
       "      <td>Brugg</td>\n",
       "      <td>AG</td>\n",
       "      <td>Brugg</td>\n",
       "      <td>Baden</td>\n",
       "      <td>Region Zürich</td>\n",
       "    </tr>\n",
       "    <tr>\n",
       "      <th>15</th>\n",
       "      <td>100135</td>\n",
       "      <td>Dietlikon</td>\n",
       "      <td>ZH</td>\n",
       "      <td>Bülach</td>\n",
       "      <td>Uster–Dübendorf</td>\n",
       "      <td>Region Zürich</td>\n",
       "    </tr>\n",
       "    <tr>\n",
       "      <th>16</th>\n",
       "      <td>100137</td>\n",
       "      <td>Rümlang</td>\n",
       "      <td>ZH</td>\n",
       "      <td>Dielsdorf</td>\n",
       "      <td>Kloten</td>\n",
       "      <td>Region Zürich</td>\n",
       "    </tr>\n",
       "    <tr>\n",
       "      <th>17</th>\n",
       "      <td>100143</td>\n",
       "      <td>Basel</td>\n",
       "      <td>BS</td>\n",
       "      <td>Kt. Basel-Stadt</td>\n",
       "      <td>Basel</td>\n",
       "      <td>Region Basel</td>\n",
       "    </tr>\n",
       "    <tr>\n",
       "      <th>18</th>\n",
       "      <td>100145</td>\n",
       "      <td>Richterswil</td>\n",
       "      <td>ZH</td>\n",
       "      <td>Horgen</td>\n",
       "      <td>Horgen–Wädenswil</td>\n",
       "      <td>Region Zürich</td>\n",
       "    </tr>\n",
       "    <tr>\n",
       "      <th>19</th>\n",
       "      <td>100148</td>\n",
       "      <td>Spreitenbach</td>\n",
       "      <td>AG</td>\n",
       "      <td>Baden</td>\n",
       "      <td>Baden</td>\n",
       "      <td>Region Zürich</td>\n",
       "    </tr>\n",
       "  </tbody>\n",
       "</table>\n",
       "</div>"
      ],
      "text/plain": [
       "    Endkunde_NR           NAME KANTON           BEZIRK            REGION  \\\n",
       "0        100034     Winterthur     ZH       Winterthur        Winterthur   \n",
       "1        100039          Uster     ZH            Uster   Uster–Dübendorf   \n",
       "2        100061     Winterthur     ZH       Winterthur        Winterthur   \n",
       "3        100064          Uster     ZH            Uster   Uster–Dübendorf   \n",
       "4        100066          Uster     ZH            Uster   Uster–Dübendorf   \n",
       "5        100083     Volketswil     ZH            Uster   Uster–Dübendorf   \n",
       "6        100092         Zürich     ZH           Zürich            Zürich   \n",
       "7        100095  Wetzikon (ZH)     ZH           Hinwil     Wetzikon (ZH)   \n",
       "8        100097      Dübendorf     ZH            Uster   Uster–Dübendorf   \n",
       "9        100098    Wallisellen     ZH           Bülach   Uster–Dübendorf   \n",
       "10       100104    Mönchaltorf     ZH            Uster   Uster–Dübendorf   \n",
       "11       100109          Uster     ZH            Uster   Uster–Dübendorf   \n",
       "12       100112   Bachenbülach     ZH           Bülach            Kloten   \n",
       "13       100121     Volketswil     ZH            Uster   Uster–Dübendorf   \n",
       "14       100128          Brugg     AG            Brugg             Baden   \n",
       "15       100135      Dietlikon     ZH           Bülach   Uster–Dübendorf   \n",
       "16       100137        Rümlang     ZH        Dielsdorf            Kloten   \n",
       "17       100143          Basel     BS  Kt. Basel-Stadt             Basel   \n",
       "18       100145    Richterswil     ZH           Horgen  Horgen–Wädenswil   \n",
       "19       100148   Spreitenbach     AG            Baden             Baden   \n",
       "\n",
       "      GROSSREGION  \n",
       "0   Region Zürich  \n",
       "1   Region Zürich  \n",
       "2   Region Zürich  \n",
       "3   Region Zürich  \n",
       "4   Region Zürich  \n",
       "5   Region Zürich  \n",
       "6   Region Zürich  \n",
       "7   Region Zürich  \n",
       "8   Region Zürich  \n",
       "9   Region Zürich  \n",
       "10  Region Zürich  \n",
       "11  Region Zürich  \n",
       "12  Region Zürich  \n",
       "13  Region Zürich  \n",
       "14  Region Zürich  \n",
       "15  Region Zürich  \n",
       "16  Region Zürich  \n",
       "17   Region Basel  \n",
       "18  Region Zürich  \n",
       "19  Region Zürich  "
      ]
     },
     "execution_count": 347,
     "metadata": {},
     "output_type": "execute_result"
    }
   ],
   "source": [
    "ek_region = (\n",
    "    ek_info[[\"Endkunde_NR\", \"GDENR\"]]\n",
    "    .merge(reg, on=\"GDENR\", how=\"left\")\n",
    "    .drop(\"GDENR\", axis=\"columns\")\n",
    "    .reset_index(drop=True)\n",
    ")\n",
    "\n",
    "ek_region.head(20)"
   ]
  },
  {
   "cell_type": "markdown",
   "metadata": {},
   "source": [
    "#### Sanity check: this should be empty!"
   ]
  },
  {
   "cell_type": "code",
   "execution_count": 348,
   "metadata": {},
   "outputs": [
    {
     "data": {
      "text/html": [
       "<div>\n",
       "<style scoped>\n",
       "    .dataframe tbody tr th:only-of-type {\n",
       "        vertical-align: middle;\n",
       "    }\n",
       "\n",
       "    .dataframe tbody tr th {\n",
       "        vertical-align: top;\n",
       "    }\n",
       "\n",
       "    .dataframe thead th {\n",
       "        text-align: right;\n",
       "    }\n",
       "</style>\n",
       "<table border=\"1\" class=\"dataframe\">\n",
       "  <thead>\n",
       "    <tr style=\"text-align: right;\">\n",
       "      <th></th>\n",
       "      <th>Endkunde_NR</th>\n",
       "      <th>Endkunde</th>\n",
       "      <th>EK_Aktiv</th>\n",
       "      <th>EK_Land</th>\n",
       "      <th>EK_Plz</th>\n",
       "      <th>EK_Ort</th>\n",
       "      <th>Agentur</th>\n",
       "      <th>EK_BG</th>\n",
       "      <th>EK_BG_ID</th>\n",
       "      <th>Auftrag_BG_ID</th>\n",
       "      <th>Auftrag_BG_Anz</th>\n",
       "      <th>Kamp_Erfass_Jahr_min</th>\n",
       "      <th>Kamp_Erfass_Jahr_max</th>\n",
       "      <th>GDENR</th>\n",
       "    </tr>\n",
       "  </thead>\n",
       "  <tbody>\n",
       "  </tbody>\n",
       "</table>\n",
       "</div>"
      ],
      "text/plain": [
       "Empty DataFrame\n",
       "Columns: [Endkunde_NR, Endkunde, EK_Aktiv, EK_Land, EK_Plz, EK_Ort, Agentur, EK_BG, EK_BG_ID, Auftrag_BG_ID, Auftrag_BG_Anz, Kamp_Erfass_Jahr_min, Kamp_Erfass_Jahr_max, GDENR]\n",
       "Index: []"
      ]
     },
     "execution_count": 348,
     "metadata": {},
     "output_type": "execute_result"
    }
   ],
   "source": [
    "ek_info.loc[~swiss_customer & ek_region.KANTON.notnull()]"
   ]
  },
  {
   "cell_type": "markdown",
   "metadata": {},
   "source": [
    "# Write out result"
   ]
  },
  {
   "cell_type": "code",
   "execution_count": 349,
   "metadata": {},
   "outputs": [
    {
     "name": "stderr",
     "output_type": "stream",
     "text": [
      "2019-08-22 15:16:55 [INFO] Writing to file C:\\Users\\kpf\\data\\ek_region.feather\n",
      "2019-08-22 15:16:55 [INFO] Written 2.1 MB\n",
      "2019-08-22 15:16:55 [INFO] Finished storing binary file in 0.01s (0.02s CPU)\n"
     ]
    }
   ],
   "source": [
    "store_bin(ek_region, 'ek_region.feather')"
   ]
  },
  {
   "cell_type": "code",
   "execution_count": null,
   "metadata": {},
   "outputs": [],
   "source": []
  }
 ],
 "metadata": {
  "kernelspec": {
   "display_name": "Python 3",
   "language": "python",
   "name": "python3"
  },
  "language_info": {
   "codemirror_mode": {
    "name": "ipython",
    "version": 3
   },
   "file_extension": ".py",
   "mimetype": "text/x-python",
   "name": "python",
   "nbconvert_exporter": "python",
   "pygments_lexer": "ipython3",
   "version": "3.7.3"
  }
 },
 "nbformat": 4,
 "nbformat_minor": 4
}
