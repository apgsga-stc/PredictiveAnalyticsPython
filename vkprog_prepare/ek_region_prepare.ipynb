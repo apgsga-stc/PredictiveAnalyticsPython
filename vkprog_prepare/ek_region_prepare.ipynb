{
 "cells": [
  {
   "cell_type": "markdown",
   "metadata": {},
   "source": [
    "# Imports & Settings"
   ]
  },
  {
   "cell_type": "code",
   "execution_count": 1,
   "metadata": {},
   "outputs": [],
   "source": [
    "# make imports from pa_lib possible (parent directory of file's directory)\n",
    "import sys\n",
    "from pathlib import Path\n",
    "\n",
    "file_dir = Path.cwd()\n",
    "parent_dir = file_dir.parent\n",
    "sys.path.append(str(parent_dir))"
   ]
  },
  {
   "cell_type": "code",
   "execution_count": 2,
   "metadata": {},
   "outputs": [],
   "source": [
    "%load_ext autoreload\n",
    "%autoreload\n",
    "%matplotlib inline\n",
    "\n",
    "import pandas as pd\n",
    "import numpy as np\n",
    "import qgrid\n",
    "from datetime import datetime as dtt\n",
    "\n",
    "from pa_lib.file import data_files, load_bin, store_bin, load_csv, write_xlsx, load_xlsx, set_project_dir\n",
    "from pa_lib.data import (\n",
    "    calc_col_partitioned,\n",
    "    clean_up_categoricals,\n",
    "    unfactorize,\n",
    "    flatten,\n",
    "    replace_col,\n",
    "    cond_col,\n",
    "    desc_col,\n",
    "    unfactorize,\n",
    "    as_dtype,\n",
    "    flatten_multi_index_cols,\n",
    ")\n",
    "from pa_lib.util import obj_size, cap_words, normalize_rows, clear_row_max\n",
    "from pa_lib.log import time_log, info\n",
    "from pa_lib.vis import dive\n",
    "\n",
    "# display long columns completely, show more rows\n",
    "pd.set_option(\"display.max_colwidth\", 200)\n",
    "pd.set_option(\"display.max_rows\", 100)\n",
    "pd.set_option(\"display.max_columns\", 200)"
   ]
  },
  {
   "cell_type": "markdown",
   "metadata": {},
   "source": [
    "# Load EK data"
   ]
  },
  {
   "cell_type": "code",
   "execution_count": 4,
   "metadata": {},
   "outputs": [
    {
     "data": {
      "text/html": [
       "<div>\n",
       "<style scoped>\n",
       "    .dataframe tbody tr th:only-of-type {\n",
       "        vertical-align: middle;\n",
       "    }\n",
       "\n",
       "    .dataframe tbody tr th {\n",
       "        vertical-align: top;\n",
       "    }\n",
       "\n",
       "    .dataframe thead th {\n",
       "        text-align: right;\n",
       "    }\n",
       "</style>\n",
       "<table border=\"1\" class=\"dataframe\">\n",
       "  <thead>\n",
       "    <tr style=\"text-align: right;\">\n",
       "      <th></th>\n",
       "      <th>size</th>\n",
       "      <th>mtime</th>\n",
       "    </tr>\n",
       "    <tr>\n",
       "      <th>name</th>\n",
       "      <th></th>\n",
       "      <th></th>\n",
       "    </tr>\n",
       "  </thead>\n",
       "  <tbody>\n",
       "    <tr>\n",
       "      <td>bd_cluster_ek_info.feather</td>\n",
       "      <td>4.2 MB</td>\n",
       "      <td>04.09.19 11:28:49</td>\n",
       "    </tr>\n",
       "  </tbody>\n",
       "</table>\n",
       "</div>"
      ],
      "text/plain": [
       "                              size              mtime\n",
       "name                                                 \n",
       "bd_cluster_ek_info.feather  4.2 MB  04.09.19 11:28:49"
      ]
     },
     "execution_count": 4,
     "metadata": {},
     "output_type": "execute_result"
    }
   ],
   "source": [
    "set_project_dir('vkprog')\n",
    "\n",
    "data_files('*ek*')"
   ]
  },
  {
   "cell_type": "code",
   "execution_count": 5,
   "metadata": {},
   "outputs": [
    {
     "name": "stderr",
     "output_type": "stream",
     "text": [
      "2019-09-04 11:29:03 [INFO] Reading from file C:\\Users\\kpf\\data\\vkprog\\bd_cluster_ek_info.feather\n",
      "2019-09-04 11:29:03 [INFO] Finished loading binary file in 0.05s (0.05s CPU)\n"
     ]
    }
   ],
   "source": [
    "ek_info = load_bin('bd_cluster_ek_info.feather')"
   ]
  },
  {
   "cell_type": "markdown",
   "metadata": {},
   "source": [
    "# Prepare PLZ mapping data"
   ]
  },
  {
   "cell_type": "code",
   "execution_count": 7,
   "metadata": {},
   "outputs": [
    {
     "data": {
      "text/html": [
       "<div>\n",
       "<style scoped>\n",
       "    .dataframe tbody tr th:only-of-type {\n",
       "        vertical-align: middle;\n",
       "    }\n",
       "\n",
       "    .dataframe tbody tr th {\n",
       "        vertical-align: top;\n",
       "    }\n",
       "\n",
       "    .dataframe thead th {\n",
       "        text-align: right;\n",
       "    }\n",
       "</style>\n",
       "<table border=\"1\" class=\"dataframe\">\n",
       "  <thead>\n",
       "    <tr style=\"text-align: right;\">\n",
       "      <th></th>\n",
       "      <th>size</th>\n",
       "      <th>mtime</th>\n",
       "    </tr>\n",
       "    <tr>\n",
       "      <th>name</th>\n",
       "      <th></th>\n",
       "      <th></th>\n",
       "    </tr>\n",
       "  </thead>\n",
       "  <tbody>\n",
       "    <tr>\n",
       "      <td>Raumgliederungen.xlsx</td>\n",
       "      <td>112.0 KB</td>\n",
       "      <td>20.08.19 14:57:46</td>\n",
       "    </tr>\n",
       "    <tr>\n",
       "      <td>do-t-09.02-gwr-37.xlsx</td>\n",
       "      <td>414.7 KB</td>\n",
       "      <td>20.08.19 17:00:54</td>\n",
       "    </tr>\n",
       "  </tbody>\n",
       "</table>\n",
       "</div>"
      ],
      "text/plain": [
       "                            size              mtime\n",
       "name                                               \n",
       "Raumgliederungen.xlsx   112.0 KB  20.08.19 14:57:46\n",
       "do-t-09.02-gwr-37.xlsx  414.7 KB  20.08.19 17:00:54"
      ]
     },
     "execution_count": 7,
     "metadata": {},
     "output_type": "execute_result"
    }
   ],
   "source": [
    "set_project_dir('Raumgliederung')\n",
    "\n",
    "data_files('*.xlsx')"
   ]
  },
  {
   "cell_type": "code",
   "execution_count": 8,
   "metadata": {},
   "outputs": [
    {
     "name": "stderr",
     "output_type": "stream",
     "text": [
      "2019-09-04 11:30:27 [INFO] Reading from file C:\\Users\\kpf\\data\\Raumgliederung\\do-t-09.02-gwr-37.xlsx\n",
      "2019-09-04 11:30:28 [INFO] Finished loading xlsx file in 0.55s (0.55s CPU)\n"
     ]
    }
   ],
   "source": [
    "plz = load_xlsx(\"do-t-09.02-gwr-37.xlsx\", sheet_name=\"PLZ4\").rename(\n",
    "    columns={\"PLZ4\": \"PLZ\", \"%_IN_GDE\": \"PRC\", \"KTKZ\": \"KANTON\", \"GDENAMK\": \"NAME\"}\n",
    ")"
   ]
  },
  {
   "cell_type": "code",
   "execution_count": 9,
   "metadata": {},
   "outputs": [
    {
     "data": {
      "text/html": [
       "<div>\n",
       "<style scoped>\n",
       "    .dataframe tbody tr th:only-of-type {\n",
       "        vertical-align: middle;\n",
       "    }\n",
       "\n",
       "    .dataframe tbody tr th {\n",
       "        vertical-align: top;\n",
       "    }\n",
       "\n",
       "    .dataframe thead th {\n",
       "        text-align: right;\n",
       "    }\n",
       "</style>\n",
       "<table border=\"1\" class=\"dataframe\">\n",
       "  <thead>\n",
       "    <tr style=\"text-align: right;\">\n",
       "      <th></th>\n",
       "      <th>PLZ</th>\n",
       "      <th>PRC</th>\n",
       "      <th>KANTON</th>\n",
       "      <th>GDENR</th>\n",
       "      <th>NAME</th>\n",
       "    </tr>\n",
       "  </thead>\n",
       "  <tbody>\n",
       "    <tr>\n",
       "      <td>0</td>\n",
       "      <td>8914</td>\n",
       "      <td>100.00</td>\n",
       "      <td>ZH</td>\n",
       "      <td>1</td>\n",
       "      <td>Aeugst am Albis</td>\n",
       "    </tr>\n",
       "    <tr>\n",
       "      <td>1</td>\n",
       "      <td>8909</td>\n",
       "      <td>14.34</td>\n",
       "      <td>ZH</td>\n",
       "      <td>2</td>\n",
       "      <td>Affoltern am Albis</td>\n",
       "    </tr>\n",
       "    <tr>\n",
       "      <td>2</td>\n",
       "      <td>8910</td>\n",
       "      <td>85.66</td>\n",
       "      <td>ZH</td>\n",
       "      <td>2</td>\n",
       "      <td>Affoltern am Albis</td>\n",
       "    </tr>\n",
       "    <tr>\n",
       "      <td>3</td>\n",
       "      <td>8906</td>\n",
       "      <td>100.00</td>\n",
       "      <td>ZH</td>\n",
       "      <td>3</td>\n",
       "      <td>Bonstetten</td>\n",
       "    </tr>\n",
       "    <tr>\n",
       "      <td>4</td>\n",
       "      <td>6340</td>\n",
       "      <td>0.77</td>\n",
       "      <td>ZH</td>\n",
       "      <td>4</td>\n",
       "      <td>Hausen am Albis</td>\n",
       "    </tr>\n",
       "    <tr>\n",
       "      <td>5</td>\n",
       "      <td>8915</td>\n",
       "      <td>72.06</td>\n",
       "      <td>ZH</td>\n",
       "      <td>4</td>\n",
       "      <td>Hausen am Albis</td>\n",
       "    </tr>\n",
       "    <tr>\n",
       "      <td>6</td>\n",
       "      <td>8925</td>\n",
       "      <td>27.17</td>\n",
       "      <td>ZH</td>\n",
       "      <td>4</td>\n",
       "      <td>Hausen am Albis</td>\n",
       "    </tr>\n",
       "    <tr>\n",
       "      <td>7</td>\n",
       "      <td>8908</td>\n",
       "      <td>100.00</td>\n",
       "      <td>ZH</td>\n",
       "      <td>5</td>\n",
       "      <td>Hedingen</td>\n",
       "    </tr>\n",
       "    <tr>\n",
       "      <td>8</td>\n",
       "      <td>8926</td>\n",
       "      <td>100.00</td>\n",
       "      <td>ZH</td>\n",
       "      <td>6</td>\n",
       "      <td>Kappel am Albis</td>\n",
       "    </tr>\n",
       "    <tr>\n",
       "      <td>9</td>\n",
       "      <td>8934</td>\n",
       "      <td>100.00</td>\n",
       "      <td>ZH</td>\n",
       "      <td>7</td>\n",
       "      <td>Knonau</td>\n",
       "    </tr>\n",
       "  </tbody>\n",
       "</table>\n",
       "</div>"
      ],
      "text/plain": [
       "    PLZ     PRC KANTON  GDENR                NAME\n",
       "0  8914  100.00     ZH      1     Aeugst am Albis\n",
       "1  8909   14.34     ZH      2  Affoltern am Albis\n",
       "2  8910   85.66     ZH      2  Affoltern am Albis\n",
       "3  8906  100.00     ZH      3          Bonstetten\n",
       "4  6340    0.77     ZH      4     Hausen am Albis\n",
       "5  8915   72.06     ZH      4     Hausen am Albis\n",
       "6  8925   27.17     ZH      4     Hausen am Albis\n",
       "7  8908  100.00     ZH      5            Hedingen\n",
       "8  8926  100.00     ZH      6     Kappel am Albis\n",
       "9  8934  100.00     ZH      7              Knonau"
      ]
     },
     "execution_count": 9,
     "metadata": {},
     "output_type": "execute_result"
    }
   ],
   "source": [
    "plz.head(10)"
   ]
  },
  {
   "cell_type": "markdown",
   "metadata": {},
   "source": [
    "### PLZ are not uniquely mapped to towns, not even cantons!"
   ]
  },
  {
   "cell_type": "code",
   "execution_count": 10,
   "metadata": {},
   "outputs": [
    {
     "data": {
      "text/plain": [
       "1148    8\n",
       "3053    7\n",
       "9107    7\n",
       "2345    7\n",
       "6110    7\n",
       "8500    6\n",
       "3800    6\n",
       "9427    6\n",
       "2720    6\n",
       "2523    6\n",
       "Name: PLZ, dtype: int64"
      ]
     },
     "execution_count": 10,
     "metadata": {},
     "output_type": "execute_result"
    }
   ],
   "source": [
    "plz.PLZ.value_counts().head(10)"
   ]
  },
  {
   "cell_type": "code",
   "execution_count": 11,
   "metadata": {},
   "outputs": [
    {
     "data": {
      "text/html": [
       "<div>\n",
       "<style scoped>\n",
       "    .dataframe tbody tr th:only-of-type {\n",
       "        vertical-align: middle;\n",
       "    }\n",
       "\n",
       "    .dataframe tbody tr th {\n",
       "        vertical-align: top;\n",
       "    }\n",
       "\n",
       "    .dataframe thead tr th {\n",
       "        text-align: left;\n",
       "    }\n",
       "\n",
       "    .dataframe thead tr:last-of-type th {\n",
       "        text-align: right;\n",
       "    }\n",
       "</style>\n",
       "<table border=\"1\" class=\"dataframe\">\n",
       "  <thead>\n",
       "    <tr>\n",
       "      <th></th>\n",
       "      <th colspan=\"2\" halign=\"left\">KANTON</th>\n",
       "    </tr>\n",
       "    <tr>\n",
       "      <th></th>\n",
       "      <th>nunique</th>\n",
       "      <th>collect</th>\n",
       "    </tr>\n",
       "    <tr>\n",
       "      <th>PLZ</th>\n",
       "      <th></th>\n",
       "      <th></th>\n",
       "    </tr>\n",
       "  </thead>\n",
       "  <tbody>\n",
       "    <tr>\n",
       "      <td>9107</td>\n",
       "      <td>3</td>\n",
       "      <td>AR,AI,SG</td>\n",
       "    </tr>\n",
       "    <tr>\n",
       "      <td>2814</td>\n",
       "      <td>3</td>\n",
       "      <td>SO,BL,JU</td>\n",
       "    </tr>\n",
       "    <tr>\n",
       "      <td>6390</td>\n",
       "      <td>3</td>\n",
       "      <td>UR,OW,NW</td>\n",
       "    </tr>\n",
       "    <tr>\n",
       "      <td>2827</td>\n",
       "      <td>3</td>\n",
       "      <td>BE,SO,JU</td>\n",
       "    </tr>\n",
       "    <tr>\n",
       "      <td>9428</td>\n",
       "      <td>3</td>\n",
       "      <td>AR,AI,SG</td>\n",
       "    </tr>\n",
       "    <tr>\n",
       "      <td>9427</td>\n",
       "      <td>3</td>\n",
       "      <td>AR,AI,SG</td>\n",
       "    </tr>\n",
       "    <tr>\n",
       "      <td>6010</td>\n",
       "      <td>3</td>\n",
       "      <td>LU,OW,NW</td>\n",
       "    </tr>\n",
       "    <tr>\n",
       "      <td>9450</td>\n",
       "      <td>3</td>\n",
       "      <td>AR,AI,SG</td>\n",
       "    </tr>\n",
       "    <tr>\n",
       "      <td>3254</td>\n",
       "      <td>2</td>\n",
       "      <td>BE,SO</td>\n",
       "    </tr>\n",
       "    <tr>\n",
       "      <td>9100</td>\n",
       "      <td>2</td>\n",
       "      <td>AR,SG</td>\n",
       "    </tr>\n",
       "  </tbody>\n",
       "</table>\n",
       "</div>"
      ],
      "text/plain": [
       "      KANTON          \n",
       "     nunique   collect\n",
       "PLZ                   \n",
       "9107       3  AR,AI,SG\n",
       "2814       3  SO,BL,JU\n",
       "6390       3  UR,OW,NW\n",
       "2827       3  BE,SO,JU\n",
       "9428       3  AR,AI,SG\n",
       "9427       3  AR,AI,SG\n",
       "6010       3  LU,OW,NW\n",
       "9450       3  AR,AI,SG\n",
       "3254       2     BE,SO\n",
       "9100       2     AR,SG"
      ]
     },
     "execution_count": 11,
     "metadata": {},
     "output_type": "execute_result"
    }
   ],
   "source": [
    "def collect(s, sep=\",\"):\n",
    "    return sep.join(map(str, s[s.notna()].unique()))\n",
    "\n",
    "\n",
    "plz.groupby(\"PLZ\").agg({\"KANTON\": [\"nunique\", collect]}).sort_values(\n",
    "    (\"KANTON\", \"nunique\"), ascending=False\n",
    ").head(10)"
   ]
  },
  {
   "cell_type": "markdown",
   "metadata": {},
   "source": [
    "### Find best matches for town and canton by maximising PRC per PLZ"
   ]
  },
  {
   "cell_type": "code",
   "execution_count": 13,
   "metadata": {},
   "outputs": [],
   "source": [
    "def main_features(df):\n",
    "    return df.loc[df.PRC.idxmax(), ['GDENR', 'NAME', 'KANTON']]\n",
    "\n",
    "plz_unique = plz.groupby('PLZ').apply(main_features)"
   ]
  },
  {
   "cell_type": "markdown",
   "metadata": {},
   "source": [
    "# Load data on economic regions"
   ]
  },
  {
   "cell_type": "code",
   "execution_count": 14,
   "metadata": {},
   "outputs": [
    {
     "name": "stderr",
     "output_type": "stream",
     "text": [
      "2019-09-04 11:32:17 [INFO] Reading from file C:\\Users\\kpf\\data\\Raumgliederung\\Raumgliederungen.xlsx\n",
      "2019-09-04 11:32:17 [INFO] Finished loading xlsx file in 0.19s (0.19s CPU)\n"
     ]
    }
   ],
   "source": [
    "reg = load_xlsx(\"Raumgliederungen.xlsx\", sheet_name=\"Daten\", skiprows=0, header=1)\n",
    "\n",
    "# drop unused\n",
    "reg.drop(0, axis=\"index\", inplace=True)\n",
    "reg.drop([\"Bezirks-nummer\", \"Kantons-nummer\"], axis=\"columns\", inplace=True)\n",
    "\n",
    "# rename columns\n",
    "reg.rename(\n",
    "    columns={\n",
    "        \"BFS Gde-nummer\": \"GDENR\",\n",
    "        \"Gemeindename\": \"NAME\",\n",
    "        \"Kanton\": \"KANTON\",\n",
    "        \"Bezirksname\": \"BEZIRK\",\n",
    "        \"Arbeitsmarktgrossregionen 2018\": \"GROSSREGION_ID\",\n",
    "        \"Arbeitsmarktregionen 2018\": \"REGION_ID\",\n",
    "    },\n",
    "    inplace=True,\n",
    ")\n",
    "\n",
    "# fix data types\n",
    "reg = reg.astype({\"GDENR\": \"int64\", \"GROSSREGION_ID\": \"int64\", \"REGION_ID\": \"int64\"})"
   ]
  },
  {
   "cell_type": "code",
   "execution_count": 15,
   "metadata": {},
   "outputs": [
    {
     "data": {
      "text/html": [
       "<div>\n",
       "<style scoped>\n",
       "    .dataframe tbody tr th:only-of-type {\n",
       "        vertical-align: middle;\n",
       "    }\n",
       "\n",
       "    .dataframe tbody tr th {\n",
       "        vertical-align: top;\n",
       "    }\n",
       "\n",
       "    .dataframe thead th {\n",
       "        text-align: right;\n",
       "    }\n",
       "</style>\n",
       "<table border=\"1\" class=\"dataframe\">\n",
       "  <thead>\n",
       "    <tr style=\"text-align: right;\">\n",
       "      <th></th>\n",
       "      <th>GDENR</th>\n",
       "      <th>NAME</th>\n",
       "      <th>KANTON</th>\n",
       "      <th>BEZIRK</th>\n",
       "      <th>GROSSREGION_ID</th>\n",
       "      <th>REGION_ID</th>\n",
       "    </tr>\n",
       "  </thead>\n",
       "  <tbody>\n",
       "    <tr>\n",
       "      <td>1</td>\n",
       "      <td>1</td>\n",
       "      <td>Aeugst am Albis</td>\n",
       "      <td>ZH</td>\n",
       "      <td>Affoltern</td>\n",
       "      <td>12</td>\n",
       "      <td>12031</td>\n",
       "    </tr>\n",
       "    <tr>\n",
       "      <td>2</td>\n",
       "      <td>2</td>\n",
       "      <td>Affoltern am Albis</td>\n",
       "      <td>ZH</td>\n",
       "      <td>Affoltern</td>\n",
       "      <td>12</td>\n",
       "      <td>12031</td>\n",
       "    </tr>\n",
       "    <tr>\n",
       "      <td>3</td>\n",
       "      <td>3</td>\n",
       "      <td>Bonstetten</td>\n",
       "      <td>ZH</td>\n",
       "      <td>Affoltern</td>\n",
       "      <td>12</td>\n",
       "      <td>12034</td>\n",
       "    </tr>\n",
       "    <tr>\n",
       "      <td>4</td>\n",
       "      <td>4</td>\n",
       "      <td>Hausen am Albis</td>\n",
       "      <td>ZH</td>\n",
       "      <td>Affoltern</td>\n",
       "      <td>11</td>\n",
       "      <td>11060</td>\n",
       "    </tr>\n",
       "    <tr>\n",
       "      <td>5</td>\n",
       "      <td>5</td>\n",
       "      <td>Hedingen</td>\n",
       "      <td>ZH</td>\n",
       "      <td>Affoltern</td>\n",
       "      <td>12</td>\n",
       "      <td>12031</td>\n",
       "    </tr>\n",
       "  </tbody>\n",
       "</table>\n",
       "</div>"
      ],
      "text/plain": [
       "   GDENR                NAME KANTON     BEZIRK  GROSSREGION_ID  REGION_ID\n",
       "1      1     Aeugst am Albis     ZH  Affoltern              12      12031\n",
       "2      2  Affoltern am Albis     ZH  Affoltern              12      12031\n",
       "3      3          Bonstetten     ZH  Affoltern              12      12034\n",
       "4      4     Hausen am Albis     ZH  Affoltern              11      11060\n",
       "5      5            Hedingen     ZH  Affoltern              12      12031"
      ]
     },
     "execution_count": 15,
     "metadata": {},
     "output_type": "execute_result"
    }
   ],
   "source": [
    "reg.head()"
   ]
  },
  {
   "cell_type": "markdown",
   "metadata": {},
   "source": [
    "### Grossregionen"
   ]
  },
  {
   "cell_type": "code",
   "execution_count": 16,
   "metadata": {},
   "outputs": [
    {
     "name": "stderr",
     "output_type": "stream",
     "text": [
      "2019-09-04 11:32:25 [INFO] Reading from file C:\\Users\\kpf\\data\\Raumgliederung\\Raumgliederungen.xlsx\n",
      "2019-09-04 11:32:25 [INFO] Finished loading xlsx file in 0.17s (0.16s CPU)\n"
     ]
    }
   ],
   "source": [
    "reg_grossreg = load_xlsx(\n",
    "    \"Raumgliederungen.xlsx\",\n",
    "    sheet_name=\"CH1+CL_GBAE2018+1.0\",\n",
    "    skiprows=0,\n",
    "    header=1,\n",
    "    index_col=0,\n",
    ")"
   ]
  },
  {
   "cell_type": "code",
   "execution_count": 17,
   "metadata": {},
   "outputs": [
    {
     "data": {
      "text/html": [
       "<div>\n",
       "<style scoped>\n",
       "    .dataframe tbody tr th:only-of-type {\n",
       "        vertical-align: middle;\n",
       "    }\n",
       "\n",
       "    .dataframe tbody tr th {\n",
       "        vertical-align: top;\n",
       "    }\n",
       "\n",
       "    .dataframe thead th {\n",
       "        text-align: right;\n",
       "    }\n",
       "</style>\n",
       "<table border=\"1\" class=\"dataframe\">\n",
       "  <thead>\n",
       "    <tr style=\"text-align: right;\">\n",
       "      <th></th>\n",
       "      <th>Label</th>\n",
       "    </tr>\n",
       "    <tr>\n",
       "      <th>Code</th>\n",
       "      <th></th>\n",
       "    </tr>\n",
       "  </thead>\n",
       "  <tbody>\n",
       "    <tr>\n",
       "      <td>1</td>\n",
       "      <td>Region Genf</td>\n",
       "    </tr>\n",
       "    <tr>\n",
       "      <td>2</td>\n",
       "      <td>Region Lausanne</td>\n",
       "    </tr>\n",
       "    <tr>\n",
       "      <td>3</td>\n",
       "      <td>Region Neuenburg</td>\n",
       "    </tr>\n",
       "    <tr>\n",
       "      <td>4</td>\n",
       "      <td>Region Freiburg</td>\n",
       "    </tr>\n",
       "    <tr>\n",
       "      <td>5</td>\n",
       "      <td>Region Biel–Jura</td>\n",
       "    </tr>\n",
       "  </tbody>\n",
       "</table>\n",
       "</div>"
      ],
      "text/plain": [
       "                 Label\n",
       "Code                  \n",
       "1          Region Genf\n",
       "2      Region Lausanne\n",
       "3     Region Neuenburg\n",
       "4      Region Freiburg\n",
       "5     Region Biel–Jura"
      ]
     },
     "execution_count": 17,
     "metadata": {},
     "output_type": "execute_result"
    }
   ],
   "source": [
    "reg_grossreg.head()"
   ]
  },
  {
   "cell_type": "markdown",
   "metadata": {},
   "source": [
    "### Regionen"
   ]
  },
  {
   "cell_type": "code",
   "execution_count": 18,
   "metadata": {},
   "outputs": [
    {
     "name": "stderr",
     "output_type": "stream",
     "text": [
      "2019-09-04 11:32:30 [INFO] Reading from file C:\\Users\\kpf\\data\\Raumgliederung\\Raumgliederungen.xlsx\n",
      "2019-09-04 11:32:30 [INFO] Finished loading xlsx file in 0.18s (0.19s CPU)\n"
     ]
    }
   ],
   "source": [
    "reg_reg = load_xlsx(\n",
    "    \"Raumgliederungen.xlsx\",\n",
    "    sheet_name=\"CH1+CL_BAE2018+1.0\",\n",
    "    skiprows=0,\n",
    "    header=1,\n",
    "    index_col=0,\n",
    ")"
   ]
  },
  {
   "cell_type": "code",
   "execution_count": 19,
   "metadata": {},
   "outputs": [
    {
     "data": {
      "text/html": [
       "<div>\n",
       "<style scoped>\n",
       "    .dataframe tbody tr th:only-of-type {\n",
       "        vertical-align: middle;\n",
       "    }\n",
       "\n",
       "    .dataframe tbody tr th {\n",
       "        vertical-align: top;\n",
       "    }\n",
       "\n",
       "    .dataframe thead th {\n",
       "        text-align: right;\n",
       "    }\n",
       "</style>\n",
       "<table border=\"1\" class=\"dataframe\">\n",
       "  <thead>\n",
       "    <tr style=\"text-align: right;\">\n",
       "      <th></th>\n",
       "      <th>Label</th>\n",
       "    </tr>\n",
       "    <tr>\n",
       "      <th>Code</th>\n",
       "      <th></th>\n",
       "    </tr>\n",
       "  </thead>\n",
       "  <tbody>\n",
       "    <tr>\n",
       "      <td>1011</td>\n",
       "      <td>Vernier–Lancy</td>\n",
       "    </tr>\n",
       "    <tr>\n",
       "      <td>1012</td>\n",
       "      <td>Genève</td>\n",
       "    </tr>\n",
       "    <tr>\n",
       "      <td>1013</td>\n",
       "      <td>Le Grand-Saconnex</td>\n",
       "    </tr>\n",
       "    <tr>\n",
       "      <td>1014</td>\n",
       "      <td>Nyon</td>\n",
       "    </tr>\n",
       "    <tr>\n",
       "      <td>1015</td>\n",
       "      <td>Thônex–Chêne-Bougeries</td>\n",
       "    </tr>\n",
       "  </tbody>\n",
       "</table>\n",
       "</div>"
      ],
      "text/plain": [
       "                       Label\n",
       "Code                        \n",
       "1011           Vernier–Lancy\n",
       "1012                  Genève\n",
       "1013       Le Grand-Saconnex\n",
       "1014                    Nyon\n",
       "1015  Thônex–Chêne-Bougeries"
      ]
     },
     "execution_count": 19,
     "metadata": {},
     "output_type": "execute_result"
    }
   ],
   "source": [
    "reg_reg.head()"
   ]
  },
  {
   "cell_type": "markdown",
   "metadata": {},
   "source": [
    "### Merge Grossregionen and Regionen"
   ]
  },
  {
   "cell_type": "code",
   "execution_count": 20,
   "metadata": {},
   "outputs": [],
   "source": [
    "reg = (\n",
    "    reg.assign(\n",
    "        REGION=reg_reg.loc[reg.REGION_ID].values,\n",
    "        GROSSREGION=reg_grossreg.loc[reg.GROSSREGION_ID].values,\n",
    "    )\n",
    "    .drop([\"GROSSREGION_ID\", \"REGION_ID\"], axis=\"columns\")\n",
    "    .set_index(\"GDENR\")\n",
    ")"
   ]
  },
  {
   "cell_type": "code",
   "execution_count": 21,
   "metadata": {},
   "outputs": [
    {
     "data": {
      "text/html": [
       "<div>\n",
       "<style scoped>\n",
       "    .dataframe tbody tr th:only-of-type {\n",
       "        vertical-align: middle;\n",
       "    }\n",
       "\n",
       "    .dataframe tbody tr th {\n",
       "        vertical-align: top;\n",
       "    }\n",
       "\n",
       "    .dataframe thead th {\n",
       "        text-align: right;\n",
       "    }\n",
       "</style>\n",
       "<table border=\"1\" class=\"dataframe\">\n",
       "  <thead>\n",
       "    <tr style=\"text-align: right;\">\n",
       "      <th></th>\n",
       "      <th>NAME</th>\n",
       "      <th>KANTON</th>\n",
       "      <th>BEZIRK</th>\n",
       "      <th>REGION</th>\n",
       "      <th>GROSSREGION</th>\n",
       "    </tr>\n",
       "    <tr>\n",
       "      <th>GDENR</th>\n",
       "      <th></th>\n",
       "      <th></th>\n",
       "      <th></th>\n",
       "      <th></th>\n",
       "      <th></th>\n",
       "    </tr>\n",
       "  </thead>\n",
       "  <tbody>\n",
       "    <tr>\n",
       "      <td>1</td>\n",
       "      <td>Aeugst am Albis</td>\n",
       "      <td>ZH</td>\n",
       "      <td>Affoltern</td>\n",
       "      <td>Dietikon–Schlieren</td>\n",
       "      <td>Region Zürich</td>\n",
       "    </tr>\n",
       "    <tr>\n",
       "      <td>2</td>\n",
       "      <td>Affoltern am Albis</td>\n",
       "      <td>ZH</td>\n",
       "      <td>Affoltern</td>\n",
       "      <td>Dietikon–Schlieren</td>\n",
       "      <td>Region Zürich</td>\n",
       "    </tr>\n",
       "    <tr>\n",
       "      <td>3</td>\n",
       "      <td>Bonstetten</td>\n",
       "      <td>ZH</td>\n",
       "      <td>Affoltern</td>\n",
       "      <td>Horgen–Wädenswil</td>\n",
       "      <td>Region Zürich</td>\n",
       "    </tr>\n",
       "    <tr>\n",
       "      <td>4</td>\n",
       "      <td>Hausen am Albis</td>\n",
       "      <td>ZH</td>\n",
       "      <td>Affoltern</td>\n",
       "      <td>Zug</td>\n",
       "      <td>Zentralschweiz</td>\n",
       "    </tr>\n",
       "    <tr>\n",
       "      <td>5</td>\n",
       "      <td>Hedingen</td>\n",
       "      <td>ZH</td>\n",
       "      <td>Affoltern</td>\n",
       "      <td>Dietikon–Schlieren</td>\n",
       "      <td>Region Zürich</td>\n",
       "    </tr>\n",
       "  </tbody>\n",
       "</table>\n",
       "</div>"
      ],
      "text/plain": [
       "                     NAME KANTON     BEZIRK              REGION  \\\n",
       "GDENR                                                             \n",
       "1         Aeugst am Albis     ZH  Affoltern  Dietikon–Schlieren   \n",
       "2      Affoltern am Albis     ZH  Affoltern  Dietikon–Schlieren   \n",
       "3              Bonstetten     ZH  Affoltern    Horgen–Wädenswil   \n",
       "4         Hausen am Albis     ZH  Affoltern                 Zug   \n",
       "5                Hedingen     ZH  Affoltern  Dietikon–Schlieren   \n",
       "\n",
       "          GROSSREGION  \n",
       "GDENR                  \n",
       "1       Region Zürich  \n",
       "2       Region Zürich  \n",
       "3       Region Zürich  \n",
       "4      Zentralschweiz  \n",
       "5       Region Zürich  "
      ]
     },
     "execution_count": 21,
     "metadata": {},
     "output_type": "execute_result"
    }
   ],
   "source": [
    "reg.head()"
   ]
  },
  {
   "cell_type": "markdown",
   "metadata": {},
   "source": [
    "# Add region info to customers"
   ]
  },
  {
   "cell_type": "code",
   "execution_count": 22,
   "metadata": {},
   "outputs": [],
   "source": [
    "swiss_customer = ek_info.EK_Land == \"SCHWEIZ\""
   ]
  },
  {
   "cell_type": "markdown",
   "metadata": {},
   "source": [
    "### Find a GDENR for each swiss customer"
   ]
  },
  {
   "cell_type": "markdown",
   "metadata": {},
   "source": [
    "#### First, match by PLZ"
   ]
  },
  {
   "cell_type": "code",
   "execution_count": 23,
   "metadata": {},
   "outputs": [],
   "source": [
    "ek_info[\"GDENR_PLZ\"] = plz_unique.reindex(\n",
    "    pd.to_numeric(ek_info.EK_Plz, errors=\"coerce\").fillna(-1).astype(\"int64\")\n",
    ").GDENR.values"
   ]
  },
  {
   "cell_type": "markdown",
   "metadata": {},
   "source": [
    "#### Then, match by full town name"
   ]
  },
  {
   "cell_type": "code",
   "execution_count": 24,
   "metadata": {},
   "outputs": [],
   "source": [
    "gdenr_by_name = plz.groupby('NAME').agg({'GDENR': 'first'})\n",
    "\n",
    "ek_info[\"GDENR_NAME\"] = (\n",
    "    gdenr_by_name.reindex(ek_info.EK_Ort).values\n",
    ")"
   ]
  },
  {
   "cell_type": "markdown",
   "metadata": {},
   "source": [
    "#### Then, match by first word of town name (for, e.g. *Laufen (BL)*)"
   ]
  },
  {
   "cell_type": "code",
   "execution_count": 25,
   "metadata": {},
   "outputs": [],
   "source": [
    "def firstnames(s):\n",
    "    s = s.fillna(\"\")\n",
    "    return s.str.partition(expand=False).apply(lambda x: x[0])\n",
    "\n",
    "\n",
    "gdenr_by_firstname = (\n",
    "    plz.assign(FIRSTNAME=firstnames(plz.NAME))\n",
    "    .groupby(\"FIRSTNAME\")\n",
    "    .agg({\"GDENR\": \"first\"})\n",
    ")\n",
    "\n",
    "ek_info[\"GDENR_FIRSTNAME\"] = gdenr_by_firstname.reindex(\n",
    "    firstnames(ek_info.EK_Ort)\n",
    ").values"
   ]
  },
  {
   "cell_type": "markdown",
   "metadata": {},
   "source": [
    "#### Finally, match some special cases by remapping them to the closest town, then match by full name"
   ]
  },
  {
   "cell_type": "code",
   "execution_count": 26,
   "metadata": {},
   "outputs": [],
   "source": [
    "ek_info[\"GDENR_SPECIAL\"] = gdenr_by_name.reindex(\n",
    "    ek_info.EK_Ort.replace(\n",
    "        {\n",
    "            \"Schönbühl Einkaufszentrum\": \"Urtenen-Schönbühl\",\n",
    "            \"Emmenbrücke 1\": \"Emmen\",\n",
    "            \"Glattzentrum b. Wallisellen\": \"Wallisellen\",\n",
    "            \"Zürich-Flughafen\": \"Kloten\",\n",
    "            \"Büsingen\": \"Schaffhausen\",\n",
    "            \"Serfontana\": \"Chiasso\",\n",
    "            \"Triesen\": \"Sevelen\",\n",
    "            \"Campione d'Italia\": \"Bissone\",\n",
    "        }\n",
    "    )\n",
    ").values"
   ]
  },
  {
   "cell_type": "markdown",
   "metadata": {},
   "source": [
    "#### Merge all matches by successive fallback"
   ]
  },
  {
   "cell_type": "code",
   "execution_count": 27,
   "metadata": {},
   "outputs": [],
   "source": [
    "ek_info[\"GDENR\"] = (\n",
    "    ek_info.GDENR_PLZ\n",
    "    .fillna(ek_info.GDENR_NAME)\n",
    "    .fillna(ek_info.GDENR_FIRSTNAME)\n",
    "    .fillna(ek_info.GDENR_SPECIAL)\n",
    ")\n",
    "\n",
    "# Delete matches of non-swiss customers (e.g. by PLZ or first name)\n",
    "ek_info.loc[~swiss_customer, 'GDENR'] = None\n",
    "\n",
    "ek_info.drop(\n",
    "    \"GDENR_PLZ GDENR_NAME GDENR_FIRSTNAME GDENR_SPECIAL\".split(), axis=\"columns\", inplace=True\n",
    ")"
   ]
  },
  {
   "cell_type": "markdown",
   "metadata": {},
   "source": [
    "#### Sanity check: this should be empty!"
   ]
  },
  {
   "cell_type": "code",
   "execution_count": 28,
   "metadata": {},
   "outputs": [
    {
     "data": {
      "text/html": [
       "<div>\n",
       "<style scoped>\n",
       "    .dataframe tbody tr th:only-of-type {\n",
       "        vertical-align: middle;\n",
       "    }\n",
       "\n",
       "    .dataframe tbody tr th {\n",
       "        vertical-align: top;\n",
       "    }\n",
       "\n",
       "    .dataframe thead th {\n",
       "        text-align: right;\n",
       "    }\n",
       "</style>\n",
       "<table border=\"1\" class=\"dataframe\">\n",
       "  <thead>\n",
       "    <tr style=\"text-align: right;\">\n",
       "      <th></th>\n",
       "      <th>EK_Plz</th>\n",
       "      <th>EK_Ort</th>\n",
       "    </tr>\n",
       "  </thead>\n",
       "  <tbody>\n",
       "  </tbody>\n",
       "</table>\n",
       "</div>"
      ],
      "text/plain": [
       "Empty DataFrame\n",
       "Columns: [EK_Plz, EK_Ort]\n",
       "Index: []"
      ]
     },
     "execution_count": 28,
     "metadata": {},
     "output_type": "execute_result"
    }
   ],
   "source": [
    "not_matched = ek_info.loc[\n",
    "    ek_info.GDENR.isnull()\n",
    "    & swiss_customer,\n",
    "    [\"EK_Plz\", \"EK_Ort\"],\n",
    "]\n",
    "\n",
    "not_matched"
   ]
  },
  {
   "cell_type": "markdown",
   "metadata": {},
   "source": [
    "### Join region info on GDENR"
   ]
  },
  {
   "cell_type": "code",
   "execution_count": 29,
   "metadata": {},
   "outputs": [
    {
     "data": {
      "text/html": [
       "<div>\n",
       "<style scoped>\n",
       "    .dataframe tbody tr th:only-of-type {\n",
       "        vertical-align: middle;\n",
       "    }\n",
       "\n",
       "    .dataframe tbody tr th {\n",
       "        vertical-align: top;\n",
       "    }\n",
       "\n",
       "    .dataframe thead th {\n",
       "        text-align: right;\n",
       "    }\n",
       "</style>\n",
       "<table border=\"1\" class=\"dataframe\">\n",
       "  <thead>\n",
       "    <tr style=\"text-align: right;\">\n",
       "      <th></th>\n",
       "      <th>Endkunde_NR</th>\n",
       "      <th>NAME</th>\n",
       "      <th>KANTON</th>\n",
       "      <th>BEZIRK</th>\n",
       "      <th>REGION</th>\n",
       "      <th>GROSSREGION</th>\n",
       "    </tr>\n",
       "  </thead>\n",
       "  <tbody>\n",
       "    <tr>\n",
       "      <td>0</td>\n",
       "      <td>100034</td>\n",
       "      <td>Winterthur</td>\n",
       "      <td>ZH</td>\n",
       "      <td>Winterthur</td>\n",
       "      <td>Winterthur</td>\n",
       "      <td>Region Zürich</td>\n",
       "    </tr>\n",
       "    <tr>\n",
       "      <td>1</td>\n",
       "      <td>100039</td>\n",
       "      <td>Uster</td>\n",
       "      <td>ZH</td>\n",
       "      <td>Uster</td>\n",
       "      <td>Uster–Dübendorf</td>\n",
       "      <td>Region Zürich</td>\n",
       "    </tr>\n",
       "    <tr>\n",
       "      <td>2</td>\n",
       "      <td>100061</td>\n",
       "      <td>Winterthur</td>\n",
       "      <td>ZH</td>\n",
       "      <td>Winterthur</td>\n",
       "      <td>Winterthur</td>\n",
       "      <td>Region Zürich</td>\n",
       "    </tr>\n",
       "    <tr>\n",
       "      <td>3</td>\n",
       "      <td>100064</td>\n",
       "      <td>Uster</td>\n",
       "      <td>ZH</td>\n",
       "      <td>Uster</td>\n",
       "      <td>Uster–Dübendorf</td>\n",
       "      <td>Region Zürich</td>\n",
       "    </tr>\n",
       "    <tr>\n",
       "      <td>4</td>\n",
       "      <td>100066</td>\n",
       "      <td>Uster</td>\n",
       "      <td>ZH</td>\n",
       "      <td>Uster</td>\n",
       "      <td>Uster–Dübendorf</td>\n",
       "      <td>Region Zürich</td>\n",
       "    </tr>\n",
       "    <tr>\n",
       "      <td>5</td>\n",
       "      <td>100083</td>\n",
       "      <td>Volketswil</td>\n",
       "      <td>ZH</td>\n",
       "      <td>Uster</td>\n",
       "      <td>Uster–Dübendorf</td>\n",
       "      <td>Region Zürich</td>\n",
       "    </tr>\n",
       "    <tr>\n",
       "      <td>6</td>\n",
       "      <td>100092</td>\n",
       "      <td>Zürich</td>\n",
       "      <td>ZH</td>\n",
       "      <td>Zürich</td>\n",
       "      <td>Zürich</td>\n",
       "      <td>Region Zürich</td>\n",
       "    </tr>\n",
       "    <tr>\n",
       "      <td>7</td>\n",
       "      <td>100095</td>\n",
       "      <td>Wetzikon (ZH)</td>\n",
       "      <td>ZH</td>\n",
       "      <td>Hinwil</td>\n",
       "      <td>Wetzikon (ZH)</td>\n",
       "      <td>Region Zürich</td>\n",
       "    </tr>\n",
       "    <tr>\n",
       "      <td>8</td>\n",
       "      <td>100097</td>\n",
       "      <td>Dübendorf</td>\n",
       "      <td>ZH</td>\n",
       "      <td>Uster</td>\n",
       "      <td>Uster–Dübendorf</td>\n",
       "      <td>Region Zürich</td>\n",
       "    </tr>\n",
       "    <tr>\n",
       "      <td>9</td>\n",
       "      <td>100098</td>\n",
       "      <td>Wallisellen</td>\n",
       "      <td>ZH</td>\n",
       "      <td>Bülach</td>\n",
       "      <td>Uster–Dübendorf</td>\n",
       "      <td>Region Zürich</td>\n",
       "    </tr>\n",
       "    <tr>\n",
       "      <td>10</td>\n",
       "      <td>100104</td>\n",
       "      <td>Mönchaltorf</td>\n",
       "      <td>ZH</td>\n",
       "      <td>Uster</td>\n",
       "      <td>Uster–Dübendorf</td>\n",
       "      <td>Region Zürich</td>\n",
       "    </tr>\n",
       "    <tr>\n",
       "      <td>11</td>\n",
       "      <td>100109</td>\n",
       "      <td>Uster</td>\n",
       "      <td>ZH</td>\n",
       "      <td>Uster</td>\n",
       "      <td>Uster–Dübendorf</td>\n",
       "      <td>Region Zürich</td>\n",
       "    </tr>\n",
       "    <tr>\n",
       "      <td>12</td>\n",
       "      <td>100112</td>\n",
       "      <td>Bachenbülach</td>\n",
       "      <td>ZH</td>\n",
       "      <td>Bülach</td>\n",
       "      <td>Kloten</td>\n",
       "      <td>Region Zürich</td>\n",
       "    </tr>\n",
       "    <tr>\n",
       "      <td>13</td>\n",
       "      <td>100121</td>\n",
       "      <td>Volketswil</td>\n",
       "      <td>ZH</td>\n",
       "      <td>Uster</td>\n",
       "      <td>Uster–Dübendorf</td>\n",
       "      <td>Region Zürich</td>\n",
       "    </tr>\n",
       "    <tr>\n",
       "      <td>14</td>\n",
       "      <td>100128</td>\n",
       "      <td>Brugg</td>\n",
       "      <td>AG</td>\n",
       "      <td>Brugg</td>\n",
       "      <td>Baden</td>\n",
       "      <td>Region Zürich</td>\n",
       "    </tr>\n",
       "    <tr>\n",
       "      <td>15</td>\n",
       "      <td>100135</td>\n",
       "      <td>Dietlikon</td>\n",
       "      <td>ZH</td>\n",
       "      <td>Bülach</td>\n",
       "      <td>Uster–Dübendorf</td>\n",
       "      <td>Region Zürich</td>\n",
       "    </tr>\n",
       "    <tr>\n",
       "      <td>16</td>\n",
       "      <td>100137</td>\n",
       "      <td>Rümlang</td>\n",
       "      <td>ZH</td>\n",
       "      <td>Dielsdorf</td>\n",
       "      <td>Kloten</td>\n",
       "      <td>Region Zürich</td>\n",
       "    </tr>\n",
       "    <tr>\n",
       "      <td>17</td>\n",
       "      <td>100143</td>\n",
       "      <td>Basel</td>\n",
       "      <td>BS</td>\n",
       "      <td>Kt. Basel-Stadt</td>\n",
       "      <td>Basel</td>\n",
       "      <td>Region Basel</td>\n",
       "    </tr>\n",
       "    <tr>\n",
       "      <td>18</td>\n",
       "      <td>100145</td>\n",
       "      <td>Richterswil</td>\n",
       "      <td>ZH</td>\n",
       "      <td>Horgen</td>\n",
       "      <td>Horgen–Wädenswil</td>\n",
       "      <td>Region Zürich</td>\n",
       "    </tr>\n",
       "    <tr>\n",
       "      <td>19</td>\n",
       "      <td>100148</td>\n",
       "      <td>Spreitenbach</td>\n",
       "      <td>AG</td>\n",
       "      <td>Baden</td>\n",
       "      <td>Baden</td>\n",
       "      <td>Region Zürich</td>\n",
       "    </tr>\n",
       "  </tbody>\n",
       "</table>\n",
       "</div>"
      ],
      "text/plain": [
       "    Endkunde_NR           NAME KANTON           BEZIRK            REGION  \\\n",
       "0        100034     Winterthur     ZH       Winterthur        Winterthur   \n",
       "1        100039          Uster     ZH            Uster   Uster–Dübendorf   \n",
       "2        100061     Winterthur     ZH       Winterthur        Winterthur   \n",
       "3        100064          Uster     ZH            Uster   Uster–Dübendorf   \n",
       "4        100066          Uster     ZH            Uster   Uster–Dübendorf   \n",
       "5        100083     Volketswil     ZH            Uster   Uster–Dübendorf   \n",
       "6        100092         Zürich     ZH           Zürich            Zürich   \n",
       "7        100095  Wetzikon (ZH)     ZH           Hinwil     Wetzikon (ZH)   \n",
       "8        100097      Dübendorf     ZH            Uster   Uster–Dübendorf   \n",
       "9        100098    Wallisellen     ZH           Bülach   Uster–Dübendorf   \n",
       "10       100104    Mönchaltorf     ZH            Uster   Uster–Dübendorf   \n",
       "11       100109          Uster     ZH            Uster   Uster–Dübendorf   \n",
       "12       100112   Bachenbülach     ZH           Bülach            Kloten   \n",
       "13       100121     Volketswil     ZH            Uster   Uster–Dübendorf   \n",
       "14       100128          Brugg     AG            Brugg             Baden   \n",
       "15       100135      Dietlikon     ZH           Bülach   Uster–Dübendorf   \n",
       "16       100137        Rümlang     ZH        Dielsdorf            Kloten   \n",
       "17       100143          Basel     BS  Kt. Basel-Stadt             Basel   \n",
       "18       100145    Richterswil     ZH           Horgen  Horgen–Wädenswil   \n",
       "19       100148   Spreitenbach     AG            Baden             Baden   \n",
       "\n",
       "      GROSSREGION  \n",
       "0   Region Zürich  \n",
       "1   Region Zürich  \n",
       "2   Region Zürich  \n",
       "3   Region Zürich  \n",
       "4   Region Zürich  \n",
       "5   Region Zürich  \n",
       "6   Region Zürich  \n",
       "7   Region Zürich  \n",
       "8   Region Zürich  \n",
       "9   Region Zürich  \n",
       "10  Region Zürich  \n",
       "11  Region Zürich  \n",
       "12  Region Zürich  \n",
       "13  Region Zürich  \n",
       "14  Region Zürich  \n",
       "15  Region Zürich  \n",
       "16  Region Zürich  \n",
       "17   Region Basel  \n",
       "18  Region Zürich  \n",
       "19  Region Zürich  "
      ]
     },
     "execution_count": 29,
     "metadata": {},
     "output_type": "execute_result"
    }
   ],
   "source": [
    "ek_region = (\n",
    "    ek_info[[\"Endkunde_NR\", \"GDENR\"]]\n",
    "    .merge(reg, on=\"GDENR\", how=\"left\")\n",
    "    .drop(\"GDENR\", axis=\"columns\")\n",
    "    .reset_index(drop=True)\n",
    ")\n",
    "\n",
    "ek_region.head(20)"
   ]
  },
  {
   "cell_type": "markdown",
   "metadata": {},
   "source": [
    "#### Sanity check: this should be empty!"
   ]
  },
  {
   "cell_type": "code",
   "execution_count": 30,
   "metadata": {},
   "outputs": [
    {
     "data": {
      "text/html": [
       "<div>\n",
       "<style scoped>\n",
       "    .dataframe tbody tr th:only-of-type {\n",
       "        vertical-align: middle;\n",
       "    }\n",
       "\n",
       "    .dataframe tbody tr th {\n",
       "        vertical-align: top;\n",
       "    }\n",
       "\n",
       "    .dataframe thead th {\n",
       "        text-align: right;\n",
       "    }\n",
       "</style>\n",
       "<table border=\"1\" class=\"dataframe\">\n",
       "  <thead>\n",
       "    <tr style=\"text-align: right;\">\n",
       "      <th></th>\n",
       "      <th>Endkunde_NR</th>\n",
       "      <th>Endkunde</th>\n",
       "      <th>EK_Aktiv</th>\n",
       "      <th>EK_Land</th>\n",
       "      <th>EK_Plz</th>\n",
       "      <th>EK_Ort</th>\n",
       "      <th>Agentur</th>\n",
       "      <th>EK_BG</th>\n",
       "      <th>EK_BG_ID</th>\n",
       "      <th>Auftrag_BG_ID</th>\n",
       "      <th>Auftrag_BG_Anz</th>\n",
       "      <th>Kamp_Erfass_Jahr_min</th>\n",
       "      <th>Kamp_Erfass_Jahr_max</th>\n",
       "      <th>GDENR</th>\n",
       "    </tr>\n",
       "  </thead>\n",
       "  <tbody>\n",
       "  </tbody>\n",
       "</table>\n",
       "</div>"
      ],
      "text/plain": [
       "Empty DataFrame\n",
       "Columns: [Endkunde_NR, Endkunde, EK_Aktiv, EK_Land, EK_Plz, EK_Ort, Agentur, EK_BG, EK_BG_ID, Auftrag_BG_ID, Auftrag_BG_Anz, Kamp_Erfass_Jahr_min, Kamp_Erfass_Jahr_max, GDENR]\n",
       "Index: []"
      ]
     },
     "execution_count": 30,
     "metadata": {},
     "output_type": "execute_result"
    }
   ],
   "source": [
    "ek_info.loc[~swiss_customer & ek_region.KANTON.notnull()]"
   ]
  },
  {
   "cell_type": "markdown",
   "metadata": {},
   "source": [
    "# Write out result"
   ]
  },
  {
   "cell_type": "code",
   "execution_count": 31,
   "metadata": {},
   "outputs": [
    {
     "name": "stderr",
     "output_type": "stream",
     "text": [
      "2019-09-04 11:35:54 [INFO] Writing to file C:\\Users\\kpf\\data\\Raumgliederung\\ek_region.feather\n",
      "2019-09-04 11:35:54 [INFO] Written 2.1 MB\n",
      "2019-09-04 11:35:54 [INFO] Finished storing binary file in 0.02s (0.02s CPU)\n"
     ]
    }
   ],
   "source": [
    "store_bin(ek_region, 'ek_region.feather')"
   ]
  },
  {
   "cell_type": "code",
   "execution_count": null,
   "metadata": {},
   "outputs": [],
   "source": []
  }
 ],
 "metadata": {
  "kernelspec": {
   "display_name": "Python 3",
   "language": "python",
   "name": "python3"
  },
  "language_info": {
   "codemirror_mode": {
    "name": "ipython",
    "version": 3
   },
   "file_extension": ".py",
   "mimetype": "text/x-python",
   "name": "python",
   "nbconvert_exporter": "python",
   "pygments_lexer": "ipython3",
   "version": "3.7.4"
  }
 },
 "nbformat": 4,
 "nbformat_minor": 4
}
