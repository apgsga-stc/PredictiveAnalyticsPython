{
 "cells": [
  {
   "cell_type": "code",
   "execution_count": 6,
   "metadata": {},
   "outputs": [],
   "source": [
    "import pandas as pd\n",
    "import beakerx as bx\n",
    "\n",
    "from pa_lib.file import load_bin, data_files"
   ]
  },
  {
   "cell_type": "code",
   "execution_count": 2,
   "metadata": {},
   "outputs": [
    {
     "data": {
      "text/html": [
       "<div>\n",
       "<style scoped>\n",
       "    .dataframe tbody tr th:only-of-type {\n",
       "        vertical-align: middle;\n",
       "    }\n",
       "\n",
       "    .dataframe tbody tr th {\n",
       "        vertical-align: top;\n",
       "    }\n",
       "\n",
       "    .dataframe thead th {\n",
       "        text-align: right;\n",
       "    }\n",
       "</style>\n",
       "<table border=\"1\" class=\"dataframe\">\n",
       "  <thead>\n",
       "    <tr style=\"text-align: right;\">\n",
       "      <th></th>\n",
       "      <th>size</th>\n",
       "      <th>mtime</th>\n",
       "    </tr>\n",
       "    <tr>\n",
       "      <th>name</th>\n",
       "      <th></th>\n",
       "      <th></th>\n",
       "    </tr>\n",
       "  </thead>\n",
       "  <tbody>\n",
       "    <tr>\n",
       "      <th>bd_data.feather</th>\n",
       "      <td>194.2 MB</td>\n",
       "      <td>23.04.19 08:39:45</td>\n",
       "    </tr>\n",
       "    <tr>\n",
       "      <th>bd_data_vkprog.feather</th>\n",
       "      <td>100.5 MB</td>\n",
       "      <td>23.04.19 08:39:49</td>\n",
       "    </tr>\n",
       "    <tr>\n",
       "      <th>crm_data.csv.zip</th>\n",
       "      <td>18.1 MB</td>\n",
       "      <td>23.04.19 09:57:51</td>\n",
       "    </tr>\n",
       "    <tr>\n",
       "      <th>crm_data.feather</th>\n",
       "      <td>59.0 MB</td>\n",
       "      <td>23.04.19 09:58:00</td>\n",
       "    </tr>\n",
       "    <tr>\n",
       "      <th>crm_data_vkprog.feather</th>\n",
       "      <td>47.8 MB</td>\n",
       "      <td>23.04.19 09:58:01</td>\n",
       "    </tr>\n",
       "    <tr>\n",
       "      <th>plz_data.feather</th>\n",
       "      <td>135.7 KB</td>\n",
       "      <td>23.04.19 08:20:36</td>\n",
       "    </tr>\n",
       "    <tr>\n",
       "      <th>pv_akw_netto.feather</th>\n",
       "      <td>12.1 MB</td>\n",
       "      <td>16.04.19 16:16:31</td>\n",
       "    </tr>\n",
       "    <tr>\n",
       "      <th>pv_bd.zip</th>\n",
       "      <td>9.0 MB</td>\n",
       "      <td>04.04.19 16:25:03</td>\n",
       "    </tr>\n",
       "    <tr>\n",
       "      <th>pv_bd_raw.feather</th>\n",
       "      <td>20.6 MB</td>\n",
       "      <td>23.04.19 15:14:11</td>\n",
       "    </tr>\n",
       "    <tr>\n",
       "      <th>pv_by_week.feather</th>\n",
       "      <td>11.1 MB</td>\n",
       "      <td>23.04.19 15:07:06</td>\n",
       "    </tr>\n",
       "    <tr>\n",
       "      <th>pv_by_week2.feather</th>\n",
       "      <td>25.2 MB</td>\n",
       "      <td>16.04.19 18:52:43</td>\n",
       "    </tr>\n",
       "    <tr>\n",
       "      <th>pv_data.feather</th>\n",
       "      <td>10.1 MB</td>\n",
       "      <td>23.04.19 15:14:11</td>\n",
       "    </tr>\n",
       "    <tr>\n",
       "      <th>pv_info.feather</th>\n",
       "      <td>1.3 MB</td>\n",
       "      <td>23.04.19 15:14:11</td>\n",
       "    </tr>\n",
       "    <tr>\n",
       "      <th>pv_rkw_netto.feather</th>\n",
       "      <td>12.1 MB</td>\n",
       "      <td>16.04.19 16:16:31</td>\n",
       "    </tr>\n",
       "    <tr>\n",
       "      <th>res_per_pv.csv</th>\n",
       "      <td>322.1 KB</td>\n",
       "      <td>17.04.19 15:41:59</td>\n",
       "    </tr>\n",
       "    <tr>\n",
       "      <th>res_per_pv.xlsx</th>\n",
       "      <td>245.8 KB</td>\n",
       "      <td>23.04.19 15:08:58</td>\n",
       "    </tr>\n",
       "  </tbody>\n",
       "</table>\n",
       "</div>"
      ],
      "text/plain": [
       "                             size              mtime\n",
       "name                                                \n",
       "bd_data.feather          194.2 MB  23.04.19 08:39:45\n",
       "bd_data_vkprog.feather   100.5 MB  23.04.19 08:39:49\n",
       "crm_data.csv.zip          18.1 MB  23.04.19 09:57:51\n",
       "crm_data.feather          59.0 MB  23.04.19 09:58:00\n",
       "crm_data_vkprog.feather   47.8 MB  23.04.19 09:58:01\n",
       "plz_data.feather         135.7 KB  23.04.19 08:20:36\n",
       "pv_akw_netto.feather      12.1 MB  16.04.19 16:16:31\n",
       "pv_bd.zip                  9.0 MB  04.04.19 16:25:03\n",
       "pv_bd_raw.feather         20.6 MB  23.04.19 15:14:11\n",
       "pv_by_week.feather        11.1 MB  23.04.19 15:07:06\n",
       "pv_by_week2.feather       25.2 MB  16.04.19 18:52:43\n",
       "pv_data.feather           10.1 MB  23.04.19 15:14:11\n",
       "pv_info.feather            1.3 MB  23.04.19 15:14:11\n",
       "pv_rkw_netto.feather      12.1 MB  16.04.19 16:16:31\n",
       "res_per_pv.csv           322.1 KB  17.04.19 15:41:59\n",
       "res_per_pv.xlsx          245.8 KB  23.04.19 15:08:58"
      ]
     },
     "execution_count": 2,
     "metadata": {},
     "output_type": "execute_result"
    }
   ],
   "source": [
    "data_files()"
   ]
  },
  {
   "cell_type": "code",
   "execution_count": 11,
   "metadata": {},
   "outputs": [
    {
     "name": "stderr",
     "output_type": "stream",
     "text": [
      "2019-04-24 16:11:06 [INFO] Reading from file /home/pa/data/bd_data_raw.feather\n",
      "2019-04-24 16:11:09 [INFO] Finished loading binary file in 2.68s (3.11s CPU)\n",
      "2019-04-24 16:11:09 [INFO] Reading from file /home/pa/data/bd_data.feather\n",
      "2019-04-24 16:11:09 [INFO] Finished loading binary file in 0.18s (0.47s CPU)\n"
     ]
    }
   ],
   "source": [
    "bd_data_raw = load_bin('bd_data_raw.feather')\n",
    "bd_data = load_bin('bd_data.feather')"
   ]
  },
  {
   "cell_type": "code",
   "execution_count": 13,
   "metadata": {},
   "outputs": [],
   "source": [
    "bd_kurzz_raw = (bd_data_raw.sort_values('KAMPAGNE_ERFASSUNGSDATUM', ascending=False)\n",
    "                .loc[:,['ENDKUNDE_NR', 'EK_HB_APG_KURZZ', 'HAUPTBETREUER', 'VERKAUFSBERATER']])"
   ]
  },
  {
   "cell_type": "code",
   "execution_count": 14,
   "metadata": {},
   "outputs": [
    {
     "name": "stderr",
     "output_type": "stream",
     "text": [
      "/home/pa/anaconda3/lib/python3.7/site-packages/pandas/core/indexing.py:1494: FutureWarning: \n",
      "Passing list-likes to .loc or [] with any missing label will raise\n",
      "KeyError in the future, you can use .reindex() as an alternative.\n",
      "\n",
      "See the documentation here:\n",
      "https://pandas.pydata.org/pandas-docs/stable/indexing.html#deprecate-loc-reindex-listlike\n",
      "  return self._getitem_tuple(key)\n"
     ]
    }
   ],
   "source": [
    "bd_kurzz = (bd_data.sort_values('KAMPAGNE_ERFASSUNGSDATUM', ascending=False)\n",
    "            .loc[:,['ENDKUNDE_NR', 'EK_HB_APG_KURZZ', 'HAUPTBETREUER', 'VERKAUFSBERATER']])"
   ]
  },
  {
   "cell_type": "code",
   "execution_count": 12,
   "metadata": {},
   "outputs": [],
   "source": [
    "ek_vb_raw = bd_kurzz_raw.groupby('ENDKUNDE_NR').agg(lambda x: ', '.join(np.unique(list(map(str, x)))))"
   ]
  },
  {
   "cell_type": "code",
   "execution_count": 12,
   "metadata": {},
   "outputs": [],
   "source": [
    "ek_vb = bd_kurzz.groupby('ENDKUNDE_NR').agg(lambda x: ', '.join(np.unique(list(map(str, x)))))"
   ]
  },
  {
   "cell_type": "code",
   "execution_count": 10,
   "metadata": {},
   "outputs": [
    {
     "data": {
      "application/vnd.jupyter.widget-view+json": {
       "model_id": "474153f63e7e4fd18c8a3dafaac738fb",
       "version_major": 2,
       "version_minor": 0
      }
     },
     "metadata": {},
     "output_type": "display_data"
    }
   ],
   "source": [
    "bx.TableDisplay(ek_vb)"
   ]
  },
  {
   "cell_type": "code",
   "execution_count": 21,
   "metadata": {},
   "outputs": [
    {
     "data": {
      "application/vnd.jupyter.widget-view+json": {
       "model_id": "d101c8a15ceb47db8464cef56b758e19",
       "version_major": 2,
       "version_minor": 0
      }
     },
     "metadata": {},
     "output_type": "display_data"
    }
   ],
   "source": [
    "tmp = bd_data_raw.loc[(bd_data_raw.EK_HB_APG_KURZZ.isna()) & \n",
    "                      (bd_data_raw.SEGMENT == 'APG|SGA') &\n",
    "                      (bd_data_raw.EK_AKTIV == 1) &\n",
    "                      (bd_data_raw.NETTO > 0)].sort_values('KAMPAGNE_ERFASSUNGSDATUM', ascending=False)\n",
    "\n",
    "bx.TableDisplay(tmp)"
   ]
  },
  {
   "cell_type": "code",
   "execution_count": null,
   "metadata": {},
   "outputs": [],
   "source": []
  }
 ],
 "metadata": {
  "jupytext": {
   "main_language": "python"
  },
  "kernelspec": {
   "display_name": "Python 3",
   "language": "python",
   "name": "python3"
  },
  "language_info": {
   "codemirror_mode": {
    "name": "ipython",
    "version": 3
   },
   "file_extension": ".py",
   "mimetype": "text/x-python",
   "name": "python",
   "nbconvert_exporter": "python",
   "pygments_lexer": "ipython3",
   "version": "3.7.3"
  }
 },
 "nbformat": 4,
 "nbformat_minor": 2
}
