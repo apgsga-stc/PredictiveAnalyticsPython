{
 "cells": [
  {
   "cell_type": "markdown",
   "metadata": {},
   "source": [
    "# Verkaufsprognose to Excels (vp2xlsx)"
   ]
  },
  {
   "cell_type": "markdown",
   "metadata": {},
   "source": [
    "Für die Verkaufsprognose sollen automatisch Excels für die Verkaufsberater generiert werden. Dies soll in ``Python`` geschehen mit Hilfe des Moduls ``xlsxwriter``."
   ]
  },
  {
   "cell_type": "markdown",
   "metadata": {},
   "source": [
    "## Load general modules"
   ]
  },
  {
   "cell_type": "code",
   "execution_count": 1,
   "metadata": {},
   "outputs": [],
   "source": [
    "# make imports from pa_lib possible (parent directory of file's directory)\n",
    "import sys\n",
    "from pathlib import Path\n",
    "\n",
    "file_dir = Path.cwd()\n",
    "parent_dir = file_dir.parent\n",
    "sys.path.append(str(parent_dir))"
   ]
  },
  {
   "cell_type": "code",
   "execution_count": 3,
   "metadata": {},
   "outputs": [
    {
     "data": {
      "text/plain": [
       "WindowsPath('C:/Users/kpf/data')"
      ]
     },
     "execution_count": 3,
     "metadata": {},
     "output_type": "execute_result"
    }
   ],
   "source": [
    "import pandas as pd\n",
    "import numpy as np\n",
    "import xlsxwriter as xlsx\n",
    "from datetime import datetime, date \n",
    "from pa_lib.file import load_csv\n",
    "from pa_lib.const import PA_DATA_DIR\n",
    "PA_DATA_DIR"
   ]
  },
  {
   "cell_type": "markdown",
   "metadata": {},
   "source": [
    "## Load Data"
   ]
  },
  {
   "cell_type": "markdown",
   "metadata": {},
   "source": [
    "Input files:\n",
    "\n",
    "- ``EK_LIST_KOMPLETT.csv``: Current deployment file with all computed leads.\n",
    "- ``vkber_data.csv``:       The new VB list, needs to be updated as well every 2 weeks before deployment."
   ]
  },
  {
   "cell_type": "code",
   "execution_count": 177,
   "metadata": {},
   "outputs": [
    {
     "name": "stderr",
     "output_type": "stream",
     "text": [
      "2019-07-16 11:57:10 [INFO] Reading from file C:\\Users\\stc\\data\\EK_LIST_2W_KOMPLETT.csv\n",
      "2019-07-16 11:57:10 [INFO] Finished loading CSV in 0.12s (0.14s CPU)\n"
     ]
    }
   ],
   "source": [
    "ek_list = load_csv('EK_LIST_2W_KOMPLETT.csv',sep=';', encoding='ANSI' )"
   ]
  },
  {
   "cell_type": "code",
   "execution_count": 182,
   "metadata": {},
   "outputs": [
    {
     "name": "stderr",
     "output_type": "stream",
     "text": [
      "2019-07-16 12:01:54 [INFO] Reading from file C:\\Users\\stc\\data\\vkber_data.csv\n",
      "2019-07-16 12:01:54 [INFO] Finished loading CSV in 0.0s (0.0s CPU)\n"
     ]
    }
   ],
   "source": [
    "gv_VB_KUERZ_new_raw             = load_csv('vkber_data.csv',sep=',', encoding='UTF-8' )\n",
    "gv_VB_KUERZ_new_raw['Vorname']  = [x.split(' ')[-1]            for x     in gv_VB_KUERZ_new_raw['KOMBI_NAME']]\n",
    "gv_VB_KUERZ_new_raw['Nachname'] = [' '.join(x.split(' ')[:-1]) for x     in gv_VB_KUERZ_new_raw['KOMBI_NAME']]\n",
    "\n",
    "vkber_list = gv_VB_KUERZ_new_raw.loc[:,[\"Vorname\", \"Nachname\", \"E_MAIL\", \"FUNKTION\", \"KURZZEICHEN\"]].set_index(\"KURZZEICHEN\")"
   ]
  },
  {
   "cell_type": "code",
   "execution_count": 185,
   "metadata": {},
   "outputs": [
    {
     "data": {
      "text/html": [
       "<div>\n",
       "<style scoped>\n",
       "    .dataframe tbody tr th:only-of-type {\n",
       "        vertical-align: middle;\n",
       "    }\n",
       "\n",
       "    .dataframe tbody tr th {\n",
       "        vertical-align: top;\n",
       "    }\n",
       "\n",
       "    .dataframe thead th {\n",
       "        text-align: right;\n",
       "    }\n",
       "</style>\n",
       "<table border=\"1\" class=\"dataframe\">\n",
       "  <thead>\n",
       "    <tr style=\"text-align: right;\">\n",
       "      <th></th>\n",
       "      <th>Vorname</th>\n",
       "      <th>Nachname</th>\n",
       "      <th>E_MAIL</th>\n",
       "      <th>FUNKTION</th>\n",
       "    </tr>\n",
       "    <tr>\n",
       "      <th>KURZZEICHEN</th>\n",
       "      <th></th>\n",
       "      <th></th>\n",
       "      <th></th>\n",
       "      <th></th>\n",
       "    </tr>\n",
       "  </thead>\n",
       "  <tbody>\n",
       "    <tr>\n",
       "      <th>ABS</th>\n",
       "      <td>Bernhard</td>\n",
       "      <td>Schnyder</td>\n",
       "      <td>bernhard.schnyder@apgsga.ch</td>\n",
       "      <td>Key Account Management</td>\n",
       "    </tr>\n",
       "    <tr>\n",
       "      <th>ACO</th>\n",
       "      <td>Alma</td>\n",
       "      <td>Coralic</td>\n",
       "      <td>alma.coralic@apgsga.ch</td>\n",
       "      <td>Verkaufsberatung Südost Aussendienst</td>\n",
       "    </tr>\n",
       "    <tr>\n",
       "      <th>AST</th>\n",
       "      <td>Andreas</td>\n",
       "      <td>Steltzlen</td>\n",
       "      <td>andreas.steltzlen@apgsga.ch</td>\n",
       "      <td>Leitung Verkaufsberatung Bern Mitte</td>\n",
       "    </tr>\n",
       "    <tr>\n",
       "      <th>BAM</th>\n",
       "      <td>Marcel</td>\n",
       "      <td>Baumann</td>\n",
       "      <td>marcel.baumann@apgsga.ch</td>\n",
       "      <td>Leitung KAM Cross Solutions</td>\n",
       "    </tr>\n",
       "    <tr>\n",
       "      <th>BBO</th>\n",
       "      <td>Barbara</td>\n",
       "      <td>Borri</td>\n",
       "      <td>barbara.borri@apgsga.ch</td>\n",
       "      <td>Key Account Management</td>\n",
       "    </tr>\n",
       "  </tbody>\n",
       "</table>\n",
       "</div>"
      ],
      "text/plain": [
       "              Vorname   Nachname                       E_MAIL  \\\n",
       "KURZZEICHEN                                                     \n",
       "ABS          Bernhard   Schnyder  bernhard.schnyder@apgsga.ch   \n",
       "ACO              Alma    Coralic       alma.coralic@apgsga.ch   \n",
       "AST           Andreas  Steltzlen  andreas.steltzlen@apgsga.ch   \n",
       "BAM            Marcel    Baumann     marcel.baumann@apgsga.ch   \n",
       "BBO           Barbara      Borri      barbara.borri@apgsga.ch   \n",
       "\n",
       "                                         FUNKTION  \n",
       "KURZZEICHEN                                        \n",
       "ABS                        Key Account Management  \n",
       "ACO          Verkaufsberatung Südost Aussendienst  \n",
       "AST           Leitung Verkaufsberatung Bern Mitte  \n",
       "BAM                   Leitung KAM Cross Solutions  \n",
       "BBO                        Key Account Management  "
      ]
     },
     "execution_count": 185,
     "metadata": {},
     "output_type": "execute_result"
    }
   ],
   "source": [
    "vkber_list.head(5)"
   ]
  },
  {
   "cell_type": "code",
   "execution_count": null,
   "metadata": {},
   "outputs": [],
   "source": []
  },
  {
   "cell_type": "code",
   "execution_count": 31,
   "metadata": {},
   "outputs": [],
   "source": [
    "\"\"\"\n",
    "gv_VB_KUERZ = {\"ACO\":[\"ACO\"], \"OSS\":[\"OSS\"], \"RIN\":[\"RIN\"], \n",
    "               \"FCO\":[\"FCO\", \"LPA\", \"TRA\"], \n",
    "               \"YAM\":[\"YAM\", \"ANS\"],\n",
    "               \"ADA\":[\"ADA\", \"LPA\", \"TRA\"],\n",
    "               \"CKT\":[\"CKT\"], \"LPA\":[\"LPA\"], \"JAN\":[\"JAN\"],\n",
    "               \"JCO\":[\"JCO\"], \"RFO\":[\"RFO\"], \"RPO\":[\"RPO\", \"ROF\"],\n",
    "               \"RUC\":[\"RUC\"], \"TRA\":[\"TRA\"], \"REM\":[\"REM\"],\n",
    "               \"AST\":[\"AST\"]} ## Mapping für die einzelnen Top 20 Excel Listen pro VB\n",
    "\"\"\"\n",
    "gv_VB_KUERZ = {x: [y] for (x,y) in zip(gv_VB_KUERZ_new_raw['KURZZEICHEN'],gv_VB_KUERZ_new_raw['KURZZEICHEN'])}"
   ]
  },
  {
   "cell_type": "markdown",
   "metadata": {},
   "source": [
    "## Spaltenauswahl & DType-Bereinigung"
   ]
  },
  {
   "cell_type": "code",
   "execution_count": 32,
   "metadata": {},
   "outputs": [],
   "source": [
    "ek_list_ultrakompakt = (ek_list.loc[(pd.isna(ek_list.Kleinkunde) & \n",
    "                                     pd.isna(ek_list.Neukunde) & \n",
    "                                     pd.isna(ek_list.Insolvenz) & \n",
    "                                     pd.isna(ek_list.Umsatz_erreicht) & \n",
    "                                     pd.isna(ek_list.kuerzlich_gebucht) & \n",
    "                                     pd.isna(ek_list.kuerzlich_im_aushang) & \n",
    "                                     pd.isna(ek_list.kuerzlich_im_kontakt) & \n",
    "                                     pd.isna(ek_list.VB_FILTER_AKTIV)), ## Zeilen-Bedinungen\n",
    "                                     \"ENDKUNDE_NR Endkunde HB_APG Agentur HB_Agentur PLZ Ort\".split() + \n",
    "                                     [col for col in ek_list.columns if 'Net_2'in col] +\n",
    "                                     \"letzte_VBs letzter_Kontakt KZ_letzter_Ktkt Kanal Betreff letzte_Kamp_erfasst letzte_Kamp_Beginn Verkaufsgebiet VB_VK_Geb\".split()+\n",
    "                                     [col for col in ek_list.columns if 'prob_KW' in col]]) ## Spalten-Auswahl\n"
   ]
  },
  {
   "cell_type": "code",
   "execution_count": 171,
   "metadata": {},
   "outputs": [],
   "source": [
    "ek_list_ultrakompakt[\"PLZ\"]                 = ek_list_ultrakompakt[\"PLZ\"].fillna(0).astype(np.int64)\n",
    "ek_list_ultrakompakt[\"ENDKUNDE_NR\"]         = ek_list_ultrakompakt[\"ENDKUNDE_NR\"].fillna(0).astype(np.int64) # Zur schoeneren Darstellung im Excel\n",
    "\n",
    "for x in ek_list_ultrakompakt.keys():\n",
    "    if 'Net_' in x:\n",
    "        ek_list_ultrakompakt[x] = ek_list_ultrakompakt[x].fillna(0).astype(np.int64)\n",
    "\n",
    "ek_list_ultrakompakt['letzter_Kontakt']     = pd.to_datetime(ek_list_ultrakompakt['letzter_Kontakt'],     format='%Y-%m-%d')\n",
    "ek_list_ultrakompakt['letzte_Kamp_erfasst'] = pd.to_datetime(ek_list_ultrakompakt['letzte_Kamp_erfasst'], format='%Y-%m-%d')\n",
    "ek_list_ultrakompakt['letzte_Kamp_Beginn']  = pd.to_datetime(ek_list_ultrakompakt['letzte_Kamp_Beginn'],  format='%Y-%m-%d')"
   ]
  },
  {
   "cell_type": "markdown",
   "metadata": {},
   "source": [
    "## Zuteilung und die einzelnen VBs\n"
   ]
  },
  {
   "cell_type": "code",
   "execution_count": 172,
   "metadata": {},
   "outputs": [],
   "source": [
    "ek_list_vb_dict = {}\n",
    "for x in gv_VB_KUERZ.keys():\n",
    "    ek_list_vb_dict[x] = (ek_list_ultrakompakt[ek_list_ultrakompakt.HB_APG.isin(gv_VB_KUERZ[x]) |             # VB Endkunde\n",
    "                                               ek_list_ultrakompakt.HB_Agentur.isin(gv_VB_KUERZ[x])]          # VB Agentur\n",
    "                         .sort_values([col for col in ek_list.columns if 'prob_KW' in col], ascending=False)) # highest probability first."
   ]
  },
  {
   "cell_type": "code",
   "execution_count": 173,
   "metadata": {},
   "outputs": [
    {
     "data": {
      "text/html": [
       "<div>\n",
       "<style scoped>\n",
       "    .dataframe tbody tr th:only-of-type {\n",
       "        vertical-align: middle;\n",
       "    }\n",
       "\n",
       "    .dataframe tbody tr th {\n",
       "        vertical-align: top;\n",
       "    }\n",
       "\n",
       "    .dataframe thead th {\n",
       "        text-align: right;\n",
       "    }\n",
       "</style>\n",
       "<table border=\"1\" class=\"dataframe\">\n",
       "  <thead>\n",
       "    <tr style=\"text-align: right;\">\n",
       "      <th></th>\n",
       "      <th>total_leads</th>\n",
       "    </tr>\n",
       "  </thead>\n",
       "  <tbody>\n",
       "    <tr>\n",
       "      <th>ABS</th>\n",
       "      <td>27</td>\n",
       "    </tr>\n",
       "    <tr>\n",
       "      <th>ACO</th>\n",
       "      <td>172</td>\n",
       "    </tr>\n",
       "    <tr>\n",
       "      <th>AST</th>\n",
       "      <td>0</td>\n",
       "    </tr>\n",
       "    <tr>\n",
       "      <th>BAM</th>\n",
       "      <td>97</td>\n",
       "    </tr>\n",
       "  </tbody>\n",
       "</table>\n",
       "</div>"
      ],
      "text/plain": [
       "     total_leads\n",
       "ABS           27\n",
       "ACO          172\n",
       "AST            0\n",
       "BAM           97"
      ]
     },
     "execution_count": 173,
     "metadata": {},
     "output_type": "execute_result"
    }
   ],
   "source": [
    "dict_vb_num_leads = {x : ek_list_vb_dict[x].shape[0] for x in ek_list_vb_dict.keys()}\n",
    "test_dict = pd.DataFrame.from_dict(dict_vb_num_leads, \n",
    "                                   orient= 'index',\n",
    "                                   columns=['total_leads'])\n",
    "test_dict.head(4)"
   ]
  },
  {
   "cell_type": "code",
   "execution_count": 186,
   "metadata": {},
   "outputs": [],
   "source": [
    "vkber_list = vkber_list.merge(test_dict, left_index=True, right_index=True)"
   ]
  },
  {
   "cell_type": "code",
   "execution_count": 190,
   "metadata": {},
   "outputs": [
    {
     "data": {
      "text/html": [
       "<div>\n",
       "<style scoped>\n",
       "    .dataframe tbody tr th:only-of-type {\n",
       "        vertical-align: middle;\n",
       "    }\n",
       "\n",
       "    .dataframe tbody tr th {\n",
       "        vertical-align: top;\n",
       "    }\n",
       "\n",
       "    .dataframe thead th {\n",
       "        text-align: right;\n",
       "    }\n",
       "</style>\n",
       "<table border=\"1\" class=\"dataframe\">\n",
       "  <thead>\n",
       "    <tr style=\"text-align: right;\">\n",
       "      <th></th>\n",
       "      <th>Vorname</th>\n",
       "      <th>Nachname</th>\n",
       "      <th>E_MAIL</th>\n",
       "      <th>FUNKTION</th>\n",
       "      <th>total_leads</th>\n",
       "    </tr>\n",
       "    <tr>\n",
       "      <th>KURZZEICHEN</th>\n",
       "      <th></th>\n",
       "      <th></th>\n",
       "      <th></th>\n",
       "      <th></th>\n",
       "      <th></th>\n",
       "    </tr>\n",
       "  </thead>\n",
       "  <tbody>\n",
       "    <tr>\n",
       "      <th>ABS</th>\n",
       "      <td>Bernhard</td>\n",
       "      <td>Schnyder</td>\n",
       "      <td>bernhard.schnyder@apgsga.ch</td>\n",
       "      <td>Key Account Management</td>\n",
       "      <td>27</td>\n",
       "    </tr>\n",
       "    <tr>\n",
       "      <th>ACO</th>\n",
       "      <td>Alma</td>\n",
       "      <td>Coralic</td>\n",
       "      <td>alma.coralic@apgsga.ch</td>\n",
       "      <td>Verkaufsberatung Südost Aussendienst</td>\n",
       "      <td>172</td>\n",
       "    </tr>\n",
       "    <tr>\n",
       "      <th>AST</th>\n",
       "      <td>Andreas</td>\n",
       "      <td>Steltzlen</td>\n",
       "      <td>andreas.steltzlen@apgsga.ch</td>\n",
       "      <td>Leitung Verkaufsberatung Bern Mitte</td>\n",
       "      <td>0</td>\n",
       "    </tr>\n",
       "    <tr>\n",
       "      <th>BAM</th>\n",
       "      <td>Marcel</td>\n",
       "      <td>Baumann</td>\n",
       "      <td>marcel.baumann@apgsga.ch</td>\n",
       "      <td>Leitung KAM Cross Solutions</td>\n",
       "      <td>97</td>\n",
       "    </tr>\n",
       "    <tr>\n",
       "      <th>BBO</th>\n",
       "      <td>Barbara</td>\n",
       "      <td>Borri</td>\n",
       "      <td>barbara.borri@apgsga.ch</td>\n",
       "      <td>Key Account Management</td>\n",
       "      <td>0</td>\n",
       "    </tr>\n",
       "  </tbody>\n",
       "</table>\n",
       "</div>"
      ],
      "text/plain": [
       "              Vorname   Nachname                       E_MAIL  \\\n",
       "KURZZEICHEN                                                     \n",
       "ABS          Bernhard   Schnyder  bernhard.schnyder@apgsga.ch   \n",
       "ACO              Alma    Coralic       alma.coralic@apgsga.ch   \n",
       "AST           Andreas  Steltzlen  andreas.steltzlen@apgsga.ch   \n",
       "BAM            Marcel    Baumann     marcel.baumann@apgsga.ch   \n",
       "BBO           Barbara      Borri      barbara.borri@apgsga.ch   \n",
       "\n",
       "                                         FUNKTION  total_leads  \n",
       "KURZZEICHEN                                                     \n",
       "ABS                        Key Account Management           27  \n",
       "ACO          Verkaufsberatung Südost Aussendienst          172  \n",
       "AST           Leitung Verkaufsberatung Bern Mitte            0  \n",
       "BAM                   Leitung KAM Cross Solutions           97  \n",
       "BBO                        Key Account Management            0  "
      ]
     },
     "execution_count": 190,
     "metadata": {},
     "output_type": "execute_result"
    }
   ],
   "source": [
    "vkber_list.head(5)#sort_values(\"total_leads\", ascending= False)"
   ]
  },
  {
   "cell_type": "code",
   "execution_count": 199,
   "metadata": {},
   "outputs": [],
   "source": [
    "del write_xlsx\n",
    "from pa_lib.file import write_xlsx"
   ]
  },
  {
   "cell_type": "code",
   "execution_count": 200,
   "metadata": {},
   "outputs": [],
   "source": [
    "write_xlsx(vkber_list, \"temp01.xlsx\", sheet_name='VK')"
   ]
  },
  {
   "cell_type": "markdown",
   "metadata": {},
   "source": []
  },
  {
   "cell_type": "markdown",
   "metadata": {},
   "source": [
    "## XlsxWriter"
   ]
  },
  {
   "cell_type": "markdown",
   "metadata": {},
   "source": [
    "### Spezielle Spaltennamen und Info-Texte im Excel (definiert durch JLU)"
   ]
  },
  {
   "cell_type": "code",
   "execution_count": 125,
   "metadata": {},
   "outputs": [],
   "source": [
    "dict_xlsx_col_names = dict(zip(ek_list_ultrakompakt.keys(),ek_list_ultrakompakt.keys())) # map all names on itself, then adjust those which need to be adjusted:\n",
    "dict_xlsx_col_names['ENDKUNDE_NR']         = 'Gepard-Nr. Endkunde'\n",
    "dict_xlsx_col_names['HB_APG']              = 'VB Endkunde'\n",
    "dict_xlsx_col_names['HB_Agentur']          = 'VB Agentur'\n",
    "dict_xlsx_col_names['letzte_VBs']          = 'VBs letzte Kampagnen'\n",
    "dict_xlsx_col_names['letzter_Kontakt']     = 'Letzter CRM-Kontakt'\n",
    "dict_xlsx_col_names['KZ_letzter_Ktkt']     = 'Kz letzter Kontakt'\n",
    "dict_xlsx_col_names['letzte_Kamp_erfasst'] = 'Letzte Kampagne erfasst am'\n",
    "dict_xlsx_col_names['letzte_Kamp_Beginn']  = 'Beginn letzte Kampagne'\n",
    "dict_xlsx_col_names['VB_VK_Geb']           = 'Gebiets-VB'\n",
    "for x in dict_jlu.keys():\n",
    "    if 'prob_' in x:\n",
    "        dict_xlsx_col_names[x]           = 'Chance'"
   ]
  },
  {
   "cell_type": "code",
   "execution_count": 57,
   "metadata": {},
   "outputs": [],
   "source": [
    "info_text = \"\"\"Liste von potenziell interessanten Kundenkontakten.\n",
    "Die Liste wird alle 2 Wochen bereitgestellt.\\n\n",
    "Bitte in den letzten 2 Spalten Feedback eintragen, auch Vorschläge für die Verbesserung der Liste sind willkommen. Vielen Dank.\"\"\""
   ]
  },
  {
   "cell_type": "code",
   "execution_count": null,
   "metadata": {},
   "outputs": [],
   "source": []
  },
  {
   "cell_type": "code",
   "execution_count": 106,
   "metadata": {},
   "outputs": [
    {
     "name": "stdout",
     "output_type": "stream",
     "text": [
      "AxesSubplot(0.125,0.125;0.775x0.755)\n"
     ]
    },
    {
     "data": {
      "image/png": "[encoded data removed]",
      "text/plain": [
       "<Figure size 1440x3600 with 1 Axes>"
      ]
     },
     "metadata": {
      "needs_background": "light"
     },
     "output_type": "display_data"
    }
   ],
   "source": [
    "print(test_dict.sort_values(\"total_leads\").plot.barh(figsize=(20,50)))"
   ]
  },
  {
   "cell_type": "code",
   "execution_count": 118,
   "metadata": {},
   "outputs": [
    {
     "name": "stdout",
     "output_type": "stream",
     "text": [
      "[[<matplotlib.axes._subplots.AxesSubplot object at 0x0000023E81A7A710>]]\n"
     ]
    },
    {
     "data": {
      "image/png": "[encoded data removed]",
      "text/plain": [
       "<Figure size 2160x1440 with 1 Axes>"
      ]
     },
     "metadata": {
      "needs_background": "light"
     },
     "output_type": "display_data"
    }
   ],
   "source": [
    "print(test_dict.hist(figsize=(30,20), bins=50))"
   ]
  },
  {
   "cell_type": "code",
   "execution_count": 89,
   "metadata": {},
   "outputs": [],
   "source": [
    "#help(test_dict.plot.bar)"
   ]
  },
  {
   "cell_type": "code",
   "execution_count": 128,
   "metadata": {},
   "outputs": [],
   "source": [
    "def make_excel(dict_vb_df,gv_VB_TOP_N=20):\n",
    "    \"\"\"\n",
    "    Input: Dictionary mit VBs als Keys und Dataframes (Top20 pro VB) als value.\n",
    "    Output: Pro VB wird ein formartiertes Excel generiert.\n",
    "    \"\"\"\n",
    "    file_name_templ = 'EK_LIST_2W_KOMPAKT_{0}'\n",
    "    global no_leads\n",
    "    no_leads = []  # This will be filled with VBs without leads.\n",
    "    for vb in dict_vb_df.keys():\n",
    "        if len(dict_vb_df[vb]) == 0:\n",
    "            #print('Verkaufsberater '+ vb +' hat keine Leads.')\n",
    "            no_leads += [vb]\n",
    "            continue\n",
    "        \n",
    "        ## Technical Definitions:\n",
    "        df_vb        = dict_vb_df[vb].head(gv_VB_TOP_N)\n",
    "        column_names = df_vb.keys()                                                             # Column names, titles\n",
    "        alphabet     = 'ABCDEFGHIJKLMNOPQRSTUVWXYZ'                                             # Alphabet\n",
    "        W            = alphabet[len(column_names)]                                              # Feedback-Spalte, sollte Spalte W sein\n",
    "        X            = alphabet[len(column_names)+1]                                            # Kommentar-Spalte, sollte Spalte X sein\n",
    "        lengths      = list(np.vectorize(len)(df_vb.values.astype(str)).max(axis=0))            # Maximal character length for each column\n",
    "        types        = dict(df_vb.dtypes.astype(str))                                           # Types for each column\n",
    "        #excel_dict    = {letter: column  for (letter, column) in zip(letters, columns)}\n",
    "        excel_dict   = {alphabet[i]: column_names[i] for i in range(0, len(column_names))}      # Dictionary: Column to Name\n",
    "        excel_width  = {alphabet[i]: lengths[i]+1    for i in range(0, len(column_names))}      # Dictionary: Column to Widths\n",
    "        #dict(ek_list_vb_dict[\"ACO\"].astype('str').apply(lambda s: max(s.str.len())))\n",
    "        \n",
    "        ## Define feedback list for Drop-Down:\n",
    "        feedback = {'validate': 'list',\n",
    "                      'source': ['hilfreich', 'nicht hilfreich', 'nicht bearbeitet'],\n",
    "                 'input_title': 'Bitte beurteilen:',\n",
    "               'input_message': '- hilfreich\\n- nicht hilfreich\\n- nicht bearbeitet',\n",
    "                 'error_title': 'Eingabe ungültig',\n",
    "               'error_message': 'Bitte auswählen:\\n  - hilfreich\\n  - nicht hilfreich\\n  - nicht bearbeitet'}\n",
    "\n",
    "        ## Create a Pandas Excel writer using XlsxWriter as the engine:\n",
    "        writer = pd.ExcelWriter(file_name_templ.format(vb)+'.xlsx', engine='xlsxwriter', datetime_format=\"dd.mm.yyyy\")\n",
    "\n",
    "        ## Convert the dataframe to an XlsxWriter Excel object:\n",
    "        df_vb.to_excel(writer, sheet_name=file_name_templ.format(vb), index=False, freeze_panes=(1,5)) #, header=True)\n",
    "\n",
    "        ## Create xlsxwriter workbook object:\n",
    "        workbook  = writer.book\n",
    "        worksheet = writer.sheets[file_name_templ.format(vb)]\n",
    "        \n",
    "        ## Define column formats:\n",
    "        column_format_text     = workbook.add_format({'align': 'left',   'valign': 'bottom'})\n",
    "        column_format_txt_wrap = workbook.add_format({'align': 'left',   'valign': 'bottom', 'text_wrap': True})     # Commentary fields need\n",
    "        column_format_umsatz   = workbook.add_format({'align': 'right',  'valign': 'bottom', 'num_format': \"#,###\"}) # Netto-Umsatz!\n",
    "        column_format_prob     = workbook.add_format({'align': 'right',  'valign': 'bottom', 'num_format': \"#.0\"})   # Probability\n",
    "        column_format_integer  = workbook.add_format({'align': 'right',  'valign': 'bottom', 'num_format': \"#\"})     # Integers for PLZ and Gepard-Nr\n",
    "        column_format_right    = workbook.add_format({'align': 'right',  'valign': 'bottom'}) # \n",
    "        column_format_left     = workbook.add_format({'align': 'left',   'valign': 'bottom'}) # \n",
    "        column_format_dropdown = workbook.add_format({'align': 'left',   'valign': 'bottom', 'bg_color': '#EAEAEA'})\n",
    "        column_format_error    = workbook.add_format({'bg_color': 'black'})\n",
    "\n",
    "        ## Define templates for special cell formats:\n",
    "        cell_color_yellow      = workbook.add_format({'align': 'center', 'valign': 'bottom', 'bg_color': '#ffff00', 'bold': True,  'text_wrap' : True, 'rotation': 90})\n",
    "        cell_color_blue        = workbook.add_format({'align': 'right',  'valign': 'bottom', 'bg_color': '#bdd7ee', 'bold': False, 'text_wrap' : True})\n",
    "        cell_color_rotate      = workbook.add_format({'align': 'center', 'valign': 'bottom', 'bg_color': '#EAEAEA', 'bold': True,  'text_wrap' : True, 'rotation': 90})\n",
    "        cell_color_norot       = workbook.add_format({'align': 'left',   'valign': 'bottom', 'bg_color': '#EAEAEA', 'bold': True,  'text_wrap' : True})\n",
    "\n",
    "        ## Automised Setting/formating columns and top-row cells:\n",
    "        for i in excel_dict.keys():\n",
    "            # Write Columns:\n",
    "            if types[excel_dict[i]] == 'float64':\n",
    "                worksheet.set_column(i+':'+i, 5, column_format_prob) # Fixed length! Net values. \n",
    "            elif types[excel_dict[i]] == 'int64':\n",
    "                if \"Net_\" in excel_dict[i]:\n",
    "                    worksheet.set_column(i+':'+i, excel_width[i]+1, column_format_umsatz)\n",
    "                else:\n",
    "                    worksheet.set_column(i+':'+i, excel_width[i], column_format_integer) # Should only effect PLZ and Gepard-Nr.\n",
    "            elif types[excel_dict[i]] == 'datetime64[ns]':\n",
    "                worksheet.set_column(i+':'+i, 10, column_format_text) # Fixed length!\n",
    "            elif types[excel_dict[i]] == 'object':\n",
    "                if \"Betreff\" in excel_dict[i]:\n",
    "                    worksheet.set_column(i+':'+i, 40, column_format_text) # Fixed length, Betreff contains comments on last contact with customer. can be long\n",
    "                else:\n",
    "                    worksheet.set_column(i+':'+i, excel_width[i], column_format_text)\n",
    "            else:\n",
    "                worksheet.set_column(i+':'+i, excel_width[i], column_format_error) # If this gets triggered, these cells are turned black\n",
    "            \n",
    "            \n",
    "            # Write Top-row cells:\n",
    "            if excel_width[i] - 10 < len(dict_jlu[excel_dict[i]]):\n",
    "                worksheet.write(i+'1',  dict_xlsx_col_names[excel_dict[i]], cell_color_rotate)\n",
    "            else:\n",
    "                worksheet.write(i+'1',  dict_xlsx_col_names[excel_dict[i]], cell_color_norot)\n",
    "\n",
    "        ## Manual Setting/formating columns and top-row cells:\n",
    "        \n",
    "        #Info-text box, should be vsible under the list on the left side:\n",
    "        worksheet.insert_textbox('B'+str(gv_VB_TOP_N+2+1),\n",
    "                                 info_text,\n",
    "                                 {'width': 480, 'height': 100, 'fill': {'color': '#ddd9c3'}, 'line': {'width': 3.25}})\n",
    "\n",
    "        #Feedback-column, W:\n",
    "        worksheet.set_column(W +':'+ W, 15, column_format_left)\n",
    "        worksheet.write(W+'1',  'Feedback - bitte auswählen', cell_color_yellow)\n",
    "        for i in range(2,gv_VB_TOP_N+2):\n",
    "            worksheet.write(W + str(i),'', column_format_dropdown)\n",
    "        worksheet.data_validation(W +'2:'+ W +str(gv_VB_TOP_N+2), feedback)\n",
    "        \n",
    "        # General feedback, below list, aligned with Feedback-column W:\n",
    "        worksheet.merge_range(alphabet[len(column_names)-5]+str(gv_VB_TOP_N+3)+':'+alphabet[len(column_names)-1]+str(gv_VB_TOP_N+3),\n",
    "                              'hier ein generelles Feedback wählen:',\n",
    "                              cell_color_blue)\n",
    "        worksheet.data_validation(W + str(gv_VB_TOP_N+3), feedback)\n",
    "        worksheet.write(W + str(gv_VB_TOP_N+3),'', column_format_dropdown) # Leave empty cell, so VBs have to fill out.\n",
    "        \n",
    "        # Comment column, X:\n",
    "        worksheet.write(X + '1',\n",
    "                        'falls nicht hilfreich, bitte hier einen kurzen Kommentar angeben - entweder pro Zeile oder für die Gesamt-Liste',\n",
    "                        cell_color_norot)\n",
    "        worksheet.set_column(X+':'+X, 44, column_format_txt_wrap)\n",
    "\n",
    "        # Write file into working folder\n",
    "        writer.save()"
   ]
  },
  {
   "cell_type": "code",
   "execution_count": 127,
   "metadata": {},
   "outputs": [],
   "source": [
    "make_excel(ek_list_vb_dict, 20) # this is a test"
   ]
  }
 ],
 "metadata": {
  "kernelspec": {
   "display_name": "Python 3",
   "language": "python",
   "name": "python3"
  },
  "language_info": {
   "codemirror_mode": {
    "name": "ipython",
    "version": 3
   },
   "file_extension": ".py",
   "mimetype": "text/x-python",
   "name": "python",
   "nbconvert_exporter": "python",
   "pygments_lexer": "ipython3",
   "version": "3.7.3"
  }
 },
 "nbformat": 4,
 "nbformat_minor": 4
}
