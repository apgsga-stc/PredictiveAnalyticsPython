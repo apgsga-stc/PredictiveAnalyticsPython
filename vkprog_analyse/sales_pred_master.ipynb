{
 "cells": [
  {
   "cell_type": "markdown",
   "metadata": {},
   "source": [
    "# Master File"
   ]
  },
  {
   "cell_type": "markdown",
   "metadata": {},
   "source": [
    "# Tools & Libraries"
   ]
  },
  {
   "cell_type": "code",
   "execution_count": 1,
   "metadata": {},
   "outputs": [
    {
     "name": "stdout",
     "output_type": "stream",
     "text": [
      "C:\\Users\\stc\\Documents\\GitHub\\PredictiveAnalyticsPython\\vkprog_analyse\n",
      "C:\\Users\\stc\\Documents\\GitHub\\PredictiveAnalyticsPython\n"
     ]
    }
   ],
   "source": [
    "# make imports from pa_lib possible (parent directory of file's directory)\n",
    "import sys\n",
    "from pathlib import Path\n",
    "\n",
    "file_dir = Path.cwd()\n",
    "print(file_dir)\n",
    "parent_dir = file_dir.parent\n",
    "print(parent_dir)\n",
    "sys.path.append(str(parent_dir))"
   ]
  },
  {
   "cell_type": "code",
   "execution_count": 2,
   "metadata": {},
   "outputs": [],
   "source": [
    "%load_ext autoreload\n",
    "%autoreload\n",
    "import pandas as pd\n",
    "import seaborn as sns\n",
    "import matplotlib.pyplot as plt\n",
    "import numpy as np\n",
    "from pa_lib.data import boxplot_histogram"
   ]
  },
  {
   "cell_type": "code",
   "execution_count": 3,
   "metadata": {},
   "outputs": [],
   "source": [
    "from pa_lib.data import desc_col"
   ]
  },
  {
   "cell_type": "markdown",
   "metadata": {},
   "source": [
    "# Load Dataset (Data Preparation)"
   ]
  },
  {
   "cell_type": "code",
   "execution_count": 4,
   "metadata": {},
   "outputs": [],
   "source": [
    "from vkprog_data_prep import bd_train_scoring"
   ]
  },
  {
   "cell_type": "code",
   "execution_count": 5,
   "metadata": {},
   "outputs": [
    {
     "name": "stderr",
     "output_type": "stream",
     "text": [
      "2019-09-24 16:57:50 [INFO] Reading from file C:\\Users\\stc\\data\\vkprog\\bd_data.feather\n",
      "2019-09-24 16:57:51 [INFO] Finished loading binary file in 0.18s (0.73s CPU)\n",
      "2019-09-24 16:57:52 [INFO] Period: KW_2\n",
      "2019-09-24 16:57:52 [INFO] Calculate Reservation...\n",
      "2019-09-24 16:57:52 [INFO] Calculate Aushang...\n",
      "2019-09-24 16:57:52 [INFO] Merge Results...\n",
      "2019-09-24 16:57:53 [INFO] aggregate_bookings: Done.\n",
      "2019-09-24 16:57:53 [INFO] current_yyyykw: 201939\n",
      "2019-09-24 16:57:53 [INFO] training_yyyykw:201839\n",
      "2019-09-24 16:57:53 [INFO] Computing: Pivot Table\n",
      "2019-09-24 16:57:53 [INFO] Running: booking_yearly_totals(YYYYKW, year_span) \n",
      "2019-09-24 16:57:53 [INFO] Computing: Yearly total sums\n",
      "2019-09-24 16:57:53 [INFO] Merging: Left-Join to Container dataframe\n",
      "2019-09-24 16:57:53 [INFO] Merging: Left-Join to Container dataframe\n",
      "2019-09-24 16:57:53 [INFO] Merging: Left-Join to Container dataframe\n",
      "2019-09-24 16:57:53 [INFO] Merging: Left-Join to Container dataframe\n",
      "2019-09-24 16:57:53 [INFO] Final merge\n",
      "2019-09-24 16:57:54 [INFO] Computing: Pivot Table\n",
      "2019-09-24 16:57:54 [INFO] Running: booking_yearly_totals(YYYYKW, year_span) \n",
      "2019-09-24 16:57:54 [INFO] Computing: Yearly total sums\n",
      "2019-09-24 16:57:54 [INFO] Merging: Left-Join to Container dataframe\n",
      "2019-09-24 16:57:54 [INFO] Merging: Left-Join to Container dataframe\n",
      "2019-09-24 16:57:54 [INFO] Merging: Left-Join to Container dataframe\n",
      "2019-09-24 16:57:54 [INFO] Merging: Left-Join to Container dataframe\n",
      "2019-09-24 16:57:54 [INFO] Final merge\n",
      "2019-09-24 16:57:57 [INFO] Scaling features\n",
      "2019-09-24 16:58:00 [INFO] Finished.\n"
     ]
    },
    {
     "name": "stdout",
     "output_type": "stream",
     "text": [
      "Wall time: 10 s\n"
     ]
    }
   ],
   "source": [
    "%%time\n",
    "\n",
    "(training_all, scoring_all, feature_colnames_bd, feature_colnames_dates) = bd_train_scoring(\n",
    "    day=23,\n",
    "    month=9,\n",
    "    year_score=2019,\n",
    "    year_train=2018,\n",
    "    year_span=4,\n",
    "    scale_features=True)"
   ]
  },
  {
   "cell_type": "code",
   "execution_count": 6,
   "metadata": {},
   "outputs": [
    {
     "data": {
      "text/html": [
       "<div>\n",
       "<style scoped>\n",
       "    .dataframe tbody tr th:only-of-type {\n",
       "        vertical-align: middle;\n",
       "    }\n",
       "\n",
       "    .dataframe tbody tr th {\n",
       "        vertical-align: top;\n",
       "    }\n",
       "\n",
       "    .dataframe thead th {\n",
       "        text-align: right;\n",
       "    }\n",
       "</style>\n",
       "<table border=\"1\" class=\"dataframe\">\n",
       "  <thead>\n",
       "    <tr style=\"text-align: right;\">\n",
       "      <th></th>\n",
       "      <th>Endkunde_NR</th>\n",
       "      <th>Erste_Buchung_Delta</th>\n",
       "      <th>Letzte_Buchung_Delta</th>\n",
       "      <th>Erste_Letzte_Buchung_Delta</th>\n",
       "      <th>Netto_Sum_Aus_RY_0_KW_1</th>\n",
       "      <th>Netto_Sum_Aus_RY_0_KW_11</th>\n",
       "      <th>Netto_Sum_Aus_RY_0_KW_13</th>\n",
       "      <th>Netto_Sum_Aus_RY_0_KW_15</th>\n",
       "      <th>Netto_Sum_Aus_RY_0_KW_17</th>\n",
       "      <th>Netto_Sum_Aus_RY_0_KW_19</th>\n",
       "      <th>...</th>\n",
       "      <th>Target_Sum_Aus_RY_0_KW_39</th>\n",
       "      <th>Target_Sum_Res_RY_0_KW_39</th>\n",
       "      <th>Netto_Sum_Aus_RY_0</th>\n",
       "      <th>Netto_Sum_Res_RY_0</th>\n",
       "      <th>Netto_Sum_Aus_RY_1</th>\n",
       "      <th>Netto_Sum_Res_RY_1</th>\n",
       "      <th>Netto_Sum_Aus_RY_2</th>\n",
       "      <th>Netto_Sum_Res_RY_2</th>\n",
       "      <th>Netto_Sum_Aus_RY_3</th>\n",
       "      <th>Netto_Sum_Res_RY_3</th>\n",
       "    </tr>\n",
       "  </thead>\n",
       "  <tbody>\n",
       "    <tr>\n",
       "      <th>count</th>\n",
       "      <td>18003.000000</td>\n",
       "      <td>18003.000000</td>\n",
       "      <td>18003.000000</td>\n",
       "      <td>18003.000000</td>\n",
       "      <td>18003.000000</td>\n",
       "      <td>18003.000000</td>\n",
       "      <td>18003.000000</td>\n",
       "      <td>18003.000000</td>\n",
       "      <td>18003.000000</td>\n",
       "      <td>18003.000000</td>\n",
       "      <td>...</td>\n",
       "      <td>18003.000000</td>\n",
       "      <td>18003.000000</td>\n",
       "      <td>18003.000000</td>\n",
       "      <td>18003.000000</td>\n",
       "      <td>18003.000000</td>\n",
       "      <td>18003.000000</td>\n",
       "      <td>18003.000000</td>\n",
       "      <td>18003.000000</td>\n",
       "      <td>18003.000000</td>\n",
       "      <td>18003.000000</td>\n",
       "    </tr>\n",
       "    <tr>\n",
       "      <th>mean</th>\n",
       "      <td>485050.424096</td>\n",
       "      <td>0.391571</td>\n",
       "      <td>0.135616</td>\n",
       "      <td>0.292941</td>\n",
       "      <td>0.032810</td>\n",
       "      <td>0.018464</td>\n",
       "      <td>0.028818</td>\n",
       "      <td>0.017104</td>\n",
       "      <td>0.030254</td>\n",
       "      <td>0.017269</td>\n",
       "      <td>...</td>\n",
       "      <td>0.023409</td>\n",
       "      <td>0.023380</td>\n",
       "      <td>0.266975</td>\n",
       "      <td>0.259632</td>\n",
       "      <td>0.267759</td>\n",
       "      <td>0.262583</td>\n",
       "      <td>0.279641</td>\n",
       "      <td>0.271942</td>\n",
       "      <td>0.279279</td>\n",
       "      <td>0.278762</td>\n",
       "    </tr>\n",
       "    <tr>\n",
       "      <th>std</th>\n",
       "      <td>186662.811738</td>\n",
       "      <td>0.289579</td>\n",
       "      <td>0.152127</td>\n",
       "      <td>0.307696</td>\n",
       "      <td>0.143494</td>\n",
       "      <td>0.107028</td>\n",
       "      <td>0.129294</td>\n",
       "      <td>0.102330</td>\n",
       "      <td>0.135663</td>\n",
       "      <td>0.104390</td>\n",
       "      <td>...</td>\n",
       "      <td>0.120170</td>\n",
       "      <td>0.118754</td>\n",
       "      <td>0.284604</td>\n",
       "      <td>0.284913</td>\n",
       "      <td>0.276718</td>\n",
       "      <td>0.281474</td>\n",
       "      <td>0.280691</td>\n",
       "      <td>0.279344</td>\n",
       "      <td>0.291397</td>\n",
       "      <td>0.290046</td>\n",
       "    </tr>\n",
       "    <tr>\n",
       "      <th>min</th>\n",
       "      <td>100034.000000</td>\n",
       "      <td>0.000000</td>\n",
       "      <td>0.000000</td>\n",
       "      <td>0.000000</td>\n",
       "      <td>0.000000</td>\n",
       "      <td>0.000000</td>\n",
       "      <td>0.000000</td>\n",
       "      <td>0.000000</td>\n",
       "      <td>0.000000</td>\n",
       "      <td>0.000000</td>\n",
       "      <td>...</td>\n",
       "      <td>0.000000</td>\n",
       "      <td>0.000000</td>\n",
       "      <td>0.000000</td>\n",
       "      <td>0.000000</td>\n",
       "      <td>0.000000</td>\n",
       "      <td>0.000000</td>\n",
       "      <td>0.000000</td>\n",
       "      <td>0.000000</td>\n",
       "      <td>0.000000</td>\n",
       "      <td>0.000000</td>\n",
       "    </tr>\n",
       "    <tr>\n",
       "      <th>25%</th>\n",
       "      <td>472931.500000</td>\n",
       "      <td>0.181818</td>\n",
       "      <td>0.000000</td>\n",
       "      <td>0.000000</td>\n",
       "      <td>0.000000</td>\n",
       "      <td>0.000000</td>\n",
       "      <td>0.000000</td>\n",
       "      <td>0.000000</td>\n",
       "      <td>0.000000</td>\n",
       "      <td>0.000000</td>\n",
       "      <td>...</td>\n",
       "      <td>0.000000</td>\n",
       "      <td>0.000000</td>\n",
       "      <td>0.000000</td>\n",
       "      <td>0.000000</td>\n",
       "      <td>0.000000</td>\n",
       "      <td>0.000000</td>\n",
       "      <td>0.000000</td>\n",
       "      <td>0.000000</td>\n",
       "      <td>0.000000</td>\n",
       "      <td>0.000000</td>\n",
       "    </tr>\n",
       "    <tr>\n",
       "      <th>50%</th>\n",
       "      <td>574381.000000</td>\n",
       "      <td>0.272727</td>\n",
       "      <td>0.125000</td>\n",
       "      <td>0.181818</td>\n",
       "      <td>0.000000</td>\n",
       "      <td>0.000000</td>\n",
       "      <td>0.000000</td>\n",
       "      <td>0.000000</td>\n",
       "      <td>0.000000</td>\n",
       "      <td>0.000000</td>\n",
       "      <td>...</td>\n",
       "      <td>0.000000</td>\n",
       "      <td>0.000000</td>\n",
       "      <td>0.000000</td>\n",
       "      <td>0.000000</td>\n",
       "      <td>0.000000</td>\n",
       "      <td>0.000000</td>\n",
       "      <td>0.371506</td>\n",
       "      <td>0.317957</td>\n",
       "      <td>0.000000</td>\n",
       "      <td>0.000000</td>\n",
       "    </tr>\n",
       "    <tr>\n",
       "      <th>75%</th>\n",
       "      <td>614320.500000</td>\n",
       "      <td>0.727273</td>\n",
       "      <td>0.250000</td>\n",
       "      <td>0.545455</td>\n",
       "      <td>0.000000</td>\n",
       "      <td>0.000000</td>\n",
       "      <td>0.000000</td>\n",
       "      <td>0.000000</td>\n",
       "      <td>0.000000</td>\n",
       "      <td>0.000000</td>\n",
       "      <td>...</td>\n",
       "      <td>0.000000</td>\n",
       "      <td>0.000000</td>\n",
       "      <td>0.540298</td>\n",
       "      <td>0.540294</td>\n",
       "      <td>0.526841</td>\n",
       "      <td>0.533050</td>\n",
       "      <td>0.537117</td>\n",
       "      <td>0.532386</td>\n",
       "      <td>0.553616</td>\n",
       "      <td>0.551227</td>\n",
       "    </tr>\n",
       "    <tr>\n",
       "      <th>max</th>\n",
       "      <td>651482.000000</td>\n",
       "      <td>1.000000</td>\n",
       "      <td>1.000000</td>\n",
       "      <td>1.000000</td>\n",
       "      <td>1.000000</td>\n",
       "      <td>1.000000</td>\n",
       "      <td>1.000000</td>\n",
       "      <td>1.000000</td>\n",
       "      <td>1.000000</td>\n",
       "      <td>1.000000</td>\n",
       "      <td>...</td>\n",
       "      <td>1.000000</td>\n",
       "      <td>1.000000</td>\n",
       "      <td>1.000000</td>\n",
       "      <td>1.000000</td>\n",
       "      <td>1.000000</td>\n",
       "      <td>1.000000</td>\n",
       "      <td>1.000000</td>\n",
       "      <td>1.000000</td>\n",
       "      <td>1.000000</td>\n",
       "      <td>1.000000</td>\n",
       "    </tr>\n",
       "  </tbody>\n",
       "</table>\n",
       "<p>8 rows × 222 columns</p>\n",
       "</div>"
      ],
      "text/plain": [
       "         Endkunde_NR  Erste_Buchung_Delta  Letzte_Buchung_Delta  \\\n",
       "count   18003.000000         18003.000000          18003.000000   \n",
       "mean   485050.424096             0.391571              0.135616   \n",
       "std    186662.811738             0.289579              0.152127   \n",
       "min    100034.000000             0.000000              0.000000   \n",
       "25%    472931.500000             0.181818              0.000000   \n",
       "50%    574381.000000             0.272727              0.125000   \n",
       "75%    614320.500000             0.727273              0.250000   \n",
       "max    651482.000000             1.000000              1.000000   \n",
       "\n",
       "       Erste_Letzte_Buchung_Delta  Netto_Sum_Aus_RY_0_KW_1  \\\n",
       "count                18003.000000             18003.000000   \n",
       "mean                     0.292941                 0.032810   \n",
       "std                      0.307696                 0.143494   \n",
       "min                      0.000000                 0.000000   \n",
       "25%                      0.000000                 0.000000   \n",
       "50%                      0.181818                 0.000000   \n",
       "75%                      0.545455                 0.000000   \n",
       "max                      1.000000                 1.000000   \n",
       "\n",
       "       Netto_Sum_Aus_RY_0_KW_11  Netto_Sum_Aus_RY_0_KW_13  \\\n",
       "count              18003.000000              18003.000000   \n",
       "mean                   0.018464                  0.028818   \n",
       "std                    0.107028                  0.129294   \n",
       "min                    0.000000                  0.000000   \n",
       "25%                    0.000000                  0.000000   \n",
       "50%                    0.000000                  0.000000   \n",
       "75%                    0.000000                  0.000000   \n",
       "max                    1.000000                  1.000000   \n",
       "\n",
       "       Netto_Sum_Aus_RY_0_KW_15  Netto_Sum_Aus_RY_0_KW_17  \\\n",
       "count              18003.000000              18003.000000   \n",
       "mean                   0.017104                  0.030254   \n",
       "std                    0.102330                  0.135663   \n",
       "min                    0.000000                  0.000000   \n",
       "25%                    0.000000                  0.000000   \n",
       "50%                    0.000000                  0.000000   \n",
       "75%                    0.000000                  0.000000   \n",
       "max                    1.000000                  1.000000   \n",
       "\n",
       "       Netto_Sum_Aus_RY_0_KW_19  ...  Target_Sum_Aus_RY_0_KW_39  \\\n",
       "count              18003.000000  ...               18003.000000   \n",
       "mean                   0.017269  ...                   0.023409   \n",
       "std                    0.104390  ...                   0.120170   \n",
       "min                    0.000000  ...                   0.000000   \n",
       "25%                    0.000000  ...                   0.000000   \n",
       "50%                    0.000000  ...                   0.000000   \n",
       "75%                    0.000000  ...                   0.000000   \n",
       "max                    1.000000  ...                   1.000000   \n",
       "\n",
       "       Target_Sum_Res_RY_0_KW_39  Netto_Sum_Aus_RY_0  Netto_Sum_Res_RY_0  \\\n",
       "count               18003.000000        18003.000000        18003.000000   \n",
       "mean                    0.023380            0.266975            0.259632   \n",
       "std                     0.118754            0.284604            0.284913   \n",
       "min                     0.000000            0.000000            0.000000   \n",
       "25%                     0.000000            0.000000            0.000000   \n",
       "50%                     0.000000            0.000000            0.000000   \n",
       "75%                     0.000000            0.540298            0.540294   \n",
       "max                     1.000000            1.000000            1.000000   \n",
       "\n",
       "       Netto_Sum_Aus_RY_1  Netto_Sum_Res_RY_1  Netto_Sum_Aus_RY_2  \\\n",
       "count        18003.000000        18003.000000        18003.000000   \n",
       "mean             0.267759            0.262583            0.279641   \n",
       "std              0.276718            0.281474            0.280691   \n",
       "min              0.000000            0.000000            0.000000   \n",
       "25%              0.000000            0.000000            0.000000   \n",
       "50%              0.000000            0.000000            0.371506   \n",
       "75%              0.526841            0.533050            0.537117   \n",
       "max              1.000000            1.000000            1.000000   \n",
       "\n",
       "       Netto_Sum_Res_RY_2  Netto_Sum_Aus_RY_3  Netto_Sum_Res_RY_3  \n",
       "count        18003.000000        18003.000000        18003.000000  \n",
       "mean             0.271942            0.279279            0.278762  \n",
       "std              0.279344            0.291397            0.290046  \n",
       "min              0.000000            0.000000            0.000000  \n",
       "25%              0.000000            0.000000            0.000000  \n",
       "50%              0.317957            0.000000            0.000000  \n",
       "75%              0.532386            0.553616            0.551227  \n",
       "max              1.000000            1.000000            1.000000  \n",
       "\n",
       "[8 rows x 222 columns]"
      ]
     },
     "execution_count": 6,
     "metadata": {},
     "output_type": "execute_result"
    }
   ],
   "source": [
    "training_all.describe()"
   ]
  },
  {
   "cell_type": "code",
   "execution_count": 7,
   "metadata": {},
   "outputs": [],
   "source": [
    "#desc_col(training_all)"
   ]
  },
  {
   "cell_type": "code",
   "execution_count": 8,
   "metadata": {},
   "outputs": [
    {
     "name": "stdout",
     "output_type": "stream",
     "text": [
      "Target_Res_flg == False\n"
     ]
    },
    {
     "data": {
      "image/png": "[encoded data removed]",
      "text/plain": [
       "<Figure size 1080x720 with 2 Axes>"
      ]
     },
     "metadata": {},
     "output_type": "display_data"
    },
    {
     "name": "stdout",
     "output_type": "stream",
     "text": [
      "Target_Res_flg == True\n"
     ]
    },
    {
     "data": {
      "image/png": "[encoded data removed]",
      "text/plain": [
       "<Figure size 1080x720 with 2 Axes>"
      ]
     },
     "metadata": {},
     "output_type": "display_data"
    },
    {
     "name": "stdout",
     "output_type": "stream",
     "text": [
      "Target_Res_flg == False\n"
     ]
    },
    {
     "data": {
      "image/png": "[encoded data removed]",
      "text/plain": [
       "<Figure size 1080x720 with 2 Axes>"
      ]
     },
     "metadata": {},
     "output_type": "display_data"
    },
    {
     "name": "stdout",
     "output_type": "stream",
     "text": [
      "Target_Res_flg == True\n"
     ]
    },
    {
     "data": {
      "image/png": "[encoded data removed]",
      "text/plain": [
       "<Figure size 1080x720 with 2 Axes>"
      ]
     },
     "metadata": {},
     "output_type": "display_data"
    },
    {
     "name": "stdout",
     "output_type": "stream",
     "text": [
      "Target_Res_flg == False\n"
     ]
    },
    {
     "data": {
      "image/png": "[encoded data removed]",
      "text/plain": [
       "<Figure size 1080x720 with 2 Axes>"
      ]
     },
     "metadata": {},
     "output_type": "display_data"
    },
    {
     "name": "stdout",
     "output_type": "stream",
     "text": [
      "Target_Res_flg == True\n"
     ]
    },
    {
     "data": {
      "image/png": "[encoded data removed]",
      "text/plain": [
       "<Figure size 1080x720 with 2 Axes>"
      ]
     },
     "metadata": {},
     "output_type": "display_data"
    }
   ],
   "source": [
    "temp_df = training_all\n",
    "print(\"Target_Res_flg == False\")\n",
    "boxplot_histogram(temp_df.loc[ temp_df.Target_Res_flg == False ,\"Erste_Buchung_Delta\"])\n",
    "print(\"Target_Res_flg == True\")\n",
    "boxplot_histogram(temp_df.loc[ temp_df.Target_Res_flg == True ,\"Erste_Buchung_Delta\"])\n",
    "\n",
    "print(\"Target_Res_flg == False\")\n",
    "boxplot_histogram(temp_df.loc[ temp_df.Target_Res_flg == False ,\"Letzte_Buchung_Delta\"])\n",
    "print(\"Target_Res_flg == True\")\n",
    "boxplot_histogram(temp_df.loc[ temp_df.Target_Res_flg == True ,\"Letzte_Buchung_Delta\"])\n",
    "\n",
    "\n",
    "print(\"Target_Res_flg == False\")\n",
    "boxplot_histogram(temp_df.loc[ temp_df.Target_Res_flg == False ,\"Erste_Letzte_Buchung_Delta\"])\n",
    "print(\"Target_Res_flg == True\")\n",
    "boxplot_histogram(temp_df.loc[ temp_df.Target_Res_flg == True ,\"Erste_Letzte_Buchung_Delta\"])"
   ]
  },
  {
   "cell_type": "markdown",
   "metadata": {
    "toc-hr-collapsed": false
   },
   "source": [
    "# Modeling"
   ]
  },
  {
   "cell_type": "markdown",
   "metadata": {},
   "source": [
    "## Define Columns: Features versus Targets"
   ]
  },
  {
   "cell_type": "code",
   "execution_count": 9,
   "metadata": {},
   "outputs": [],
   "source": [
    "from itertools import compress\n",
    "features = feature_colnames_bd + feature_colnames_dates\n",
    "#feature_columns = list(compress(features,[\"Target\" not in s for s in features]))\n",
    "\n",
    "feature_columns_boolean = pd.Series(features).str.match('^Target')\n",
    "feature_columns = pd.Series(features).loc[~feature_columns_boolean]\n",
    "\n",
    "feature_columns_boolean = pd.Series(training_all.columns).str.match('^Target')\n",
    "target_columns = pd.Series(training_all.columns).loc[feature_columns_boolean]\n",
    "\n",
    "del feature_columns_boolean\n",
    "\n",
    "#target_columns  = list(compress(training_all.columns,[\"Target\" in s for s in training_all.columns]))"
   ]
  },
  {
   "cell_type": "code",
   "execution_count": 10,
   "metadata": {},
   "outputs": [
    {
     "name": "stdout",
     "output_type": "stream",
     "text": [
      "214               Target_Aus_flg\n",
      "215               Target_Res_flg\n",
      "216    Target_Sum_Aus_RY_0_KW_39\n",
      "217    Target_Sum_Res_RY_0_KW_39\n",
      "dtype: object\n"
     ]
    }
   ],
   "source": [
    "len(feature_columns)\n",
    "print(target_columns)"
   ]
  },
  {
   "cell_type": "code",
   "execution_count": 11,
   "metadata": {},
   "outputs": [
    {
     "data": {
      "text/plain": [
       "['Netto_Sum_Aus_RY_0_KW_1',\n",
       " 'Netto_Sum_Aus_RY_0_KW_11',\n",
       " 'Netto_Sum_Aus_RY_0_KW_13',\n",
       " 'Netto_Sum_Aus_RY_0_KW_15',\n",
       " 'Netto_Sum_Aus_RY_0_KW_17',\n",
       " 'Netto_Sum_Aus_RY_0_KW_19',\n",
       " 'Netto_Sum_Aus_RY_0_KW_21',\n",
       " 'Netto_Sum_Aus_RY_0_KW_23',\n",
       " 'Netto_Sum_Aus_RY_0_KW_25',\n",
       " 'Netto_Sum_Aus_RY_0_KW_27',\n",
       " 'Netto_Sum_Aus_RY_0_KW_29',\n",
       " 'Netto_Sum_Aus_RY_0_KW_3',\n",
       " 'Netto_Sum_Aus_RY_0_KW_31',\n",
       " 'Netto_Sum_Aus_RY_0_KW_33',\n",
       " 'Netto_Sum_Aus_RY_0_KW_35',\n",
       " 'Netto_Sum_Aus_RY_0_KW_37',\n",
       " 'Netto_Sum_Aus_RY_0_KW_5',\n",
       " 'Netto_Sum_Aus_RY_0_KW_7',\n",
       " 'Netto_Sum_Aus_RY_0_KW_9',\n",
       " 'Netto_Sum_Aus_RY_1_KW_1',\n",
       " 'Netto_Sum_Aus_RY_1_KW_11',\n",
       " 'Netto_Sum_Aus_RY_1_KW_13',\n",
       " 'Netto_Sum_Aus_RY_1_KW_15',\n",
       " 'Netto_Sum_Aus_RY_1_KW_17',\n",
       " 'Netto_Sum_Aus_RY_1_KW_19',\n",
       " 'Netto_Sum_Aus_RY_1_KW_21',\n",
       " 'Netto_Sum_Aus_RY_1_KW_23',\n",
       " 'Netto_Sum_Aus_RY_1_KW_25',\n",
       " 'Netto_Sum_Aus_RY_1_KW_27',\n",
       " 'Netto_Sum_Aus_RY_1_KW_29',\n",
       " 'Netto_Sum_Aus_RY_1_KW_3',\n",
       " 'Netto_Sum_Aus_RY_1_KW_31',\n",
       " 'Netto_Sum_Aus_RY_1_KW_33',\n",
       " 'Netto_Sum_Aus_RY_1_KW_35',\n",
       " 'Netto_Sum_Aus_RY_1_KW_37',\n",
       " 'Netto_Sum_Aus_RY_1_KW_39',\n",
       " 'Netto_Sum_Aus_RY_1_KW_41',\n",
       " 'Netto_Sum_Aus_RY_1_KW_43',\n",
       " 'Netto_Sum_Aus_RY_1_KW_45',\n",
       " 'Netto_Sum_Aus_RY_1_KW_47',\n",
       " 'Netto_Sum_Aus_RY_1_KW_49',\n",
       " 'Netto_Sum_Aus_RY_1_KW_5',\n",
       " 'Netto_Sum_Aus_RY_1_KW_51',\n",
       " 'Netto_Sum_Aus_RY_1_KW_7',\n",
       " 'Netto_Sum_Aus_RY_1_KW_9',\n",
       " 'Netto_Sum_Aus_RY_2_KW_1',\n",
       " 'Netto_Sum_Aus_RY_2_KW_11',\n",
       " 'Netto_Sum_Aus_RY_2_KW_13',\n",
       " 'Netto_Sum_Aus_RY_2_KW_15',\n",
       " 'Netto_Sum_Aus_RY_2_KW_17',\n",
       " 'Netto_Sum_Aus_RY_2_KW_19',\n",
       " 'Netto_Sum_Aus_RY_2_KW_21',\n",
       " 'Netto_Sum_Aus_RY_2_KW_23',\n",
       " 'Netto_Sum_Aus_RY_2_KW_25',\n",
       " 'Netto_Sum_Aus_RY_2_KW_27',\n",
       " 'Netto_Sum_Aus_RY_2_KW_29',\n",
       " 'Netto_Sum_Aus_RY_2_KW_3',\n",
       " 'Netto_Sum_Aus_RY_2_KW_31',\n",
       " 'Netto_Sum_Aus_RY_2_KW_33',\n",
       " 'Netto_Sum_Aus_RY_2_KW_35',\n",
       " 'Netto_Sum_Aus_RY_2_KW_37',\n",
       " 'Netto_Sum_Aus_RY_2_KW_39',\n",
       " 'Netto_Sum_Aus_RY_2_KW_41',\n",
       " 'Netto_Sum_Aus_RY_2_KW_43',\n",
       " 'Netto_Sum_Aus_RY_2_KW_45',\n",
       " 'Netto_Sum_Aus_RY_2_KW_47',\n",
       " 'Netto_Sum_Aus_RY_2_KW_49',\n",
       " 'Netto_Sum_Aus_RY_2_KW_5',\n",
       " 'Netto_Sum_Aus_RY_2_KW_51',\n",
       " 'Netto_Sum_Aus_RY_2_KW_7',\n",
       " 'Netto_Sum_Aus_RY_2_KW_9',\n",
       " 'Netto_Sum_Aus_RY_3_KW_1',\n",
       " 'Netto_Sum_Aus_RY_3_KW_11',\n",
       " 'Netto_Sum_Aus_RY_3_KW_13',\n",
       " 'Netto_Sum_Aus_RY_3_KW_15',\n",
       " 'Netto_Sum_Aus_RY_3_KW_17',\n",
       " 'Netto_Sum_Aus_RY_3_KW_19',\n",
       " 'Netto_Sum_Aus_RY_3_KW_21',\n",
       " 'Netto_Sum_Aus_RY_3_KW_23',\n",
       " 'Netto_Sum_Aus_RY_3_KW_25',\n",
       " 'Netto_Sum_Aus_RY_3_KW_27',\n",
       " 'Netto_Sum_Aus_RY_3_KW_29',\n",
       " 'Netto_Sum_Aus_RY_3_KW_3',\n",
       " 'Netto_Sum_Aus_RY_3_KW_31',\n",
       " 'Netto_Sum_Aus_RY_3_KW_33',\n",
       " 'Netto_Sum_Aus_RY_3_KW_35',\n",
       " 'Netto_Sum_Aus_RY_3_KW_37',\n",
       " 'Netto_Sum_Aus_RY_3_KW_39',\n",
       " 'Netto_Sum_Aus_RY_3_KW_41',\n",
       " 'Netto_Sum_Aus_RY_3_KW_43',\n",
       " 'Netto_Sum_Aus_RY_3_KW_45',\n",
       " 'Netto_Sum_Aus_RY_3_KW_47',\n",
       " 'Netto_Sum_Aus_RY_3_KW_49',\n",
       " 'Netto_Sum_Aus_RY_3_KW_5',\n",
       " 'Netto_Sum_Aus_RY_3_KW_51',\n",
       " 'Netto_Sum_Aus_RY_3_KW_7',\n",
       " 'Netto_Sum_Aus_RY_3_KW_9',\n",
       " 'Netto_Sum_Aus_RY_4_KW_39',\n",
       " 'Netto_Sum_Aus_RY_4_KW_41',\n",
       " 'Netto_Sum_Aus_RY_4_KW_43',\n",
       " 'Netto_Sum_Aus_RY_4_KW_45',\n",
       " 'Netto_Sum_Aus_RY_4_KW_47',\n",
       " 'Netto_Sum_Aus_RY_4_KW_49',\n",
       " 'Netto_Sum_Aus_RY_4_KW_51',\n",
       " 'Netto_Sum_Res_RY_0_KW_1',\n",
       " 'Netto_Sum_Res_RY_0_KW_11',\n",
       " 'Netto_Sum_Res_RY_0_KW_13',\n",
       " 'Netto_Sum_Res_RY_0_KW_15',\n",
       " 'Netto_Sum_Res_RY_0_KW_17',\n",
       " 'Netto_Sum_Res_RY_0_KW_19',\n",
       " 'Netto_Sum_Res_RY_0_KW_21',\n",
       " 'Netto_Sum_Res_RY_0_KW_23',\n",
       " 'Netto_Sum_Res_RY_0_KW_25',\n",
       " 'Netto_Sum_Res_RY_0_KW_27',\n",
       " 'Netto_Sum_Res_RY_0_KW_29',\n",
       " 'Netto_Sum_Res_RY_0_KW_3',\n",
       " 'Netto_Sum_Res_RY_0_KW_31',\n",
       " 'Netto_Sum_Res_RY_0_KW_33',\n",
       " 'Netto_Sum_Res_RY_0_KW_35',\n",
       " 'Netto_Sum_Res_RY_0_KW_37',\n",
       " 'Netto_Sum_Res_RY_0_KW_5',\n",
       " 'Netto_Sum_Res_RY_0_KW_7',\n",
       " 'Netto_Sum_Res_RY_0_KW_9',\n",
       " 'Netto_Sum_Res_RY_1_KW_1',\n",
       " 'Netto_Sum_Res_RY_1_KW_11',\n",
       " 'Netto_Sum_Res_RY_1_KW_13',\n",
       " 'Netto_Sum_Res_RY_1_KW_15',\n",
       " 'Netto_Sum_Res_RY_1_KW_17',\n",
       " 'Netto_Sum_Res_RY_1_KW_19',\n",
       " 'Netto_Sum_Res_RY_1_KW_21',\n",
       " 'Netto_Sum_Res_RY_1_KW_23',\n",
       " 'Netto_Sum_Res_RY_1_KW_25',\n",
       " 'Netto_Sum_Res_RY_1_KW_27',\n",
       " 'Netto_Sum_Res_RY_1_KW_29',\n",
       " 'Netto_Sum_Res_RY_1_KW_3',\n",
       " 'Netto_Sum_Res_RY_1_KW_31',\n",
       " 'Netto_Sum_Res_RY_1_KW_33',\n",
       " 'Netto_Sum_Res_RY_1_KW_35',\n",
       " 'Netto_Sum_Res_RY_1_KW_37',\n",
       " 'Netto_Sum_Res_RY_1_KW_39',\n",
       " 'Netto_Sum_Res_RY_1_KW_41',\n",
       " 'Netto_Sum_Res_RY_1_KW_43',\n",
       " 'Netto_Sum_Res_RY_1_KW_45',\n",
       " 'Netto_Sum_Res_RY_1_KW_47',\n",
       " 'Netto_Sum_Res_RY_1_KW_49',\n",
       " 'Netto_Sum_Res_RY_1_KW_5',\n",
       " 'Netto_Sum_Res_RY_1_KW_51',\n",
       " 'Netto_Sum_Res_RY_1_KW_7',\n",
       " 'Netto_Sum_Res_RY_1_KW_9',\n",
       " 'Netto_Sum_Res_RY_2_KW_1',\n",
       " 'Netto_Sum_Res_RY_2_KW_11',\n",
       " 'Netto_Sum_Res_RY_2_KW_13',\n",
       " 'Netto_Sum_Res_RY_2_KW_15',\n",
       " 'Netto_Sum_Res_RY_2_KW_17',\n",
       " 'Netto_Sum_Res_RY_2_KW_19',\n",
       " 'Netto_Sum_Res_RY_2_KW_21',\n",
       " 'Netto_Sum_Res_RY_2_KW_23',\n",
       " 'Netto_Sum_Res_RY_2_KW_25',\n",
       " 'Netto_Sum_Res_RY_2_KW_27',\n",
       " 'Netto_Sum_Res_RY_2_KW_29',\n",
       " 'Netto_Sum_Res_RY_2_KW_3',\n",
       " 'Netto_Sum_Res_RY_2_KW_31',\n",
       " 'Netto_Sum_Res_RY_2_KW_33',\n",
       " 'Netto_Sum_Res_RY_2_KW_35',\n",
       " 'Netto_Sum_Res_RY_2_KW_37',\n",
       " 'Netto_Sum_Res_RY_2_KW_39',\n",
       " 'Netto_Sum_Res_RY_2_KW_41',\n",
       " 'Netto_Sum_Res_RY_2_KW_43',\n",
       " 'Netto_Sum_Res_RY_2_KW_45',\n",
       " 'Netto_Sum_Res_RY_2_KW_47',\n",
       " 'Netto_Sum_Res_RY_2_KW_49',\n",
       " 'Netto_Sum_Res_RY_2_KW_5',\n",
       " 'Netto_Sum_Res_RY_2_KW_51',\n",
       " 'Netto_Sum_Res_RY_2_KW_7',\n",
       " 'Netto_Sum_Res_RY_2_KW_9',\n",
       " 'Netto_Sum_Res_RY_3_KW_1',\n",
       " 'Netto_Sum_Res_RY_3_KW_11',\n",
       " 'Netto_Sum_Res_RY_3_KW_13',\n",
       " 'Netto_Sum_Res_RY_3_KW_15',\n",
       " 'Netto_Sum_Res_RY_3_KW_17',\n",
       " 'Netto_Sum_Res_RY_3_KW_19',\n",
       " 'Netto_Sum_Res_RY_3_KW_21',\n",
       " 'Netto_Sum_Res_RY_3_KW_23',\n",
       " 'Netto_Sum_Res_RY_3_KW_25',\n",
       " 'Netto_Sum_Res_RY_3_KW_27',\n",
       " 'Netto_Sum_Res_RY_3_KW_29',\n",
       " 'Netto_Sum_Res_RY_3_KW_3',\n",
       " 'Netto_Sum_Res_RY_3_KW_31',\n",
       " 'Netto_Sum_Res_RY_3_KW_33',\n",
       " 'Netto_Sum_Res_RY_3_KW_35',\n",
       " 'Netto_Sum_Res_RY_3_KW_37',\n",
       " 'Netto_Sum_Res_RY_3_KW_39',\n",
       " 'Netto_Sum_Res_RY_3_KW_41',\n",
       " 'Netto_Sum_Res_RY_3_KW_43',\n",
       " 'Netto_Sum_Res_RY_3_KW_45',\n",
       " 'Netto_Sum_Res_RY_3_KW_47',\n",
       " 'Netto_Sum_Res_RY_3_KW_49',\n",
       " 'Netto_Sum_Res_RY_3_KW_5',\n",
       " 'Netto_Sum_Res_RY_3_KW_51',\n",
       " 'Netto_Sum_Res_RY_3_KW_7',\n",
       " 'Netto_Sum_Res_RY_3_KW_9',\n",
       " 'Netto_Sum_Res_RY_4_KW_39',\n",
       " 'Netto_Sum_Res_RY_4_KW_41',\n",
       " 'Netto_Sum_Res_RY_4_KW_43',\n",
       " 'Netto_Sum_Res_RY_4_KW_45',\n",
       " 'Netto_Sum_Res_RY_4_KW_47',\n",
       " 'Netto_Sum_Res_RY_4_KW_49',\n",
       " 'Netto_Sum_Res_RY_4_KW_51',\n",
       " 'Target_Sum_Aus_RY_0_KW_39',\n",
       " 'Target_Sum_Res_RY_0_KW_39',\n",
       " 'Netto_Sum_Aus_RY_0',\n",
       " 'Netto_Sum_Res_RY_0',\n",
       " 'Netto_Sum_Aus_RY_1',\n",
       " 'Netto_Sum_Res_RY_1',\n",
       " 'Netto_Sum_Aus_RY_2',\n",
       " 'Netto_Sum_Res_RY_2',\n",
       " 'Netto_Sum_Aus_RY_3',\n",
       " 'Netto_Sum_Res_RY_3',\n",
       " 'Erste_Buchung_Delta',\n",
       " 'Letzte_Buchung_Delta',\n",
       " 'Erste_Letzte_Buchung_Delta']"
      ]
     },
     "execution_count": 11,
     "metadata": {},
     "output_type": "execute_result"
    }
   ],
   "source": [
    "#[\"Target\" not in s for s in features]\n",
    "features\n",
    "#feature_columns"
   ]
  },
  {
   "cell_type": "markdown",
   "metadata": {},
   "source": [
    "## Split ``training_all`` into training-set (``X_train``,``y_train``) and test-set (``X_test``,``y_test``)"
   ]
  },
  {
   "cell_type": "code",
   "execution_count": 12,
   "metadata": {},
   "outputs": [],
   "source": [
    "df_features = training_all.loc[:,feature_columns].to_numpy()\n",
    "df_target   = training_all.loc[:, \"Target_Res_flg\"].to_numpy()"
   ]
  },
  {
   "cell_type": "code",
   "execution_count": 13,
   "metadata": {},
   "outputs": [],
   "source": [
    "from sklearn.model_selection import train_test_split\n",
    "\n",
    "X_train, X_test, y_train, y_test = train_test_split(\n",
    "    #df_features, df_target, train_size=0.80, random_state=42)\n",
    "    df_features, df_target, train_size=0.75, random_state=42)"
   ]
  },
  {
   "cell_type": "code",
   "execution_count": 14,
   "metadata": {},
   "outputs": [
    {
     "name": "stdout",
     "output_type": "stream",
     "text": [
      "Shape:\n",
      "X_train: (13502, 219)\n",
      "y_train: (13502,)\n",
      "X_test: (4501, 219)\n",
      "y_test: (4501,)\n"
     ]
    }
   ],
   "source": [
    "print(\"Shape:\")\n",
    "print(\"X_train:\", X_train.shape)\n",
    "print(\"y_train:\", y_train.shape)\n",
    "print(\"X_test:\", X_test.shape)\n",
    "print(\"y_test:\", y_test.shape)"
   ]
  },
  {
   "cell_type": "code",
   "execution_count": 15,
   "metadata": {},
   "outputs": [
    {
     "name": "stdout",
     "output_type": "stream",
     "text": [
      "y_train:\n",
      "0\n",
      "False    12994\n",
      "True       508\n",
      "Name: 0, dtype: int64\n",
      "DescribeResult(nobs=13502, minmax=(False, True), mean=0.037624055695452525, variance=0.0362111680399015, skewness=4.859818425043071, kurtosis=21.617835124388115)\n",
      "\n",
      "y_test:\n",
      "0\n",
      "False    4318\n",
      "True      183\n",
      "Name: 0, dtype: int64\n",
      "DescribeResult(nobs=4501, minmax=(False, True), mean=0.040657631637413906, variance=0.03901325631341183, skewness=4.651667351296826, kurtosis=19.638009147120837)\n"
     ]
    }
   ],
   "source": [
    "from scipy import stats\n",
    "print('y_train:')\n",
    "print(pd.DataFrame(y_train).groupby(0)[0].count())\n",
    "print(stats.describe(y_train))\n",
    "\n",
    "print('\\ny_test:')\n",
    "print(pd.DataFrame(y_test).groupby(0)[0].count())\n",
    "print(stats.describe(y_test))"
   ]
  },
  {
   "cell_type": "markdown",
   "metadata": {},
   "source": [
    "## Balance Training Dataset"
   ]
  },
  {
   "cell_type": "code",
   "execution_count": 16,
   "metadata": {},
   "outputs": [],
   "source": [
    "from imblearn.over_sampling import SMOTE\n",
    "#ros = RandomOverSampler(random_state=42)\n",
    "sm  = SMOTE(random_state=42)\n",
    "\n",
    "X_train_balanced, y_train_balanced = sm.fit_resample(X_train, y_train)"
   ]
  },
  {
   "cell_type": "code",
   "execution_count": 17,
   "metadata": {},
   "outputs": [
    {
     "name": "stdout",
     "output_type": "stream",
     "text": [
      "y_train_balanced:\n",
      "0\n",
      "False    12994\n",
      "True     12994\n",
      "Name: 0, dtype: int64\n",
      "DescribeResult(nobs=25988, minmax=(False, True), mean=0.5, variance=0.25000962019471273, skewness=0.0, kurtosis=-2.0)\n"
     ]
    }
   ],
   "source": [
    "print('y_train_balanced:')\n",
    "print(pd.DataFrame(y_train_balanced).groupby(0)[0].count())\n",
    "print(stats.describe(y_train_balanced))"
   ]
  },
  {
   "cell_type": "markdown",
   "metadata": {
    "toc-hr-collapsed": false
   },
   "source": [
    "## Model Training"
   ]
  },
  {
   "cell_type": "markdown",
   "metadata": {
    "toc-hr-collapsed": false
   },
   "source": [
    "### Logistic Regression (base model)"
   ]
  },
  {
   "cell_type": "code",
   "execution_count": 18,
   "metadata": {},
   "outputs": [],
   "source": [
    "from sklearn.linear_model import LogisticRegression"
   ]
  },
  {
   "cell_type": "code",
   "execution_count": 19,
   "metadata": {},
   "outputs": [
    {
     "name": "stdout",
     "output_type": "stream",
     "text": [
      "Training set score: 0.869\n",
      "Test set score: 0.902\n",
      "Wall time: 1min 14s\n"
     ]
    }
   ],
   "source": [
    "%%time\n",
    "# Wall time: 1min 13s\n",
    "logreg_C1000 = LogisticRegression(n_jobs=-1,\n",
    "                               solver=\"sag\",\n",
    "                               max_iter=100000,\n",
    "                               C=1000 #adjustable, bigger mean less restriction on coefficients\n",
    "                              ).fit(X_train_balanced, y_train_balanced) # bigger C\n",
    "\n",
    "print(\"Training set score: {:.3f}\".format(logreg_C1000.score(X_train_balanced, y_train_balanced)))\n",
    "print(\"Test set score: {:.3f}\".format(logreg_C1000.score(X_test, y_test)))"
   ]
  },
  {
   "cell_type": "code",
   "execution_count": null,
   "metadata": {},
   "outputs": [],
   "source": [
    "%%time\n",
    "# Wall time: 543 ms\n",
    "logreg_C0001 = LogisticRegression(n_jobs=-1,\n",
    "                               solver=\"sag\",\n",
    "                               max_iter=100000,\n",
    "                               C=0.001 #adjustable, bigger mean less restriction on coefficients\n",
    "                              ).fit(X_train_balanced, y_train_balanced) # bigger C\n",
    "\n",
    "print(\"Training set score: {:.3f}\".format(logreg_C0001.score(X_train_balanced, y_train_balanced)))\n",
    "print(\"Test set score: {:.3f}\".format(logreg_C0001.score(X_test, y_test)))"
   ]
  },
  {
   "cell_type": "markdown",
   "metadata": {},
   "source": [
    "#### Plot Coefficients"
   ]
  },
  {
   "cell_type": "code",
   "execution_count": null,
   "metadata": {},
   "outputs": [],
   "source": [
    "# %% Plot: Compare LogReg-coefficients for different C (1000, 0.001)\n",
    "plt.figure(figsize=(70,10))\n",
    "plt.grid()\n",
    "plt.plot(logreg_C0001.coef_.T, '^', label=\"C=0.001\")\n",
    "plt.plot(logreg_C1000.coef_.T,    'o', label=\"C=1000\")\n",
    "plt.xticks(range(len(feature_columns)), feature_columns, rotation=90)\n",
    "plt.hlines(0, 0, len(feature_columns))\n",
    "plt.ylim(min(logreg_C1000.coef_.T), max(logreg_C1000.coef_.T))\n",
    "plt.xlabel(\"Feature\")\n",
    "plt.ylabel(\"Coefficient magnitude\")\n",
    "plt.legend()\n",
    "plt.savefig('this_is_a_test.png')"
   ]
  },
  {
   "cell_type": "code",
   "execution_count": null,
   "metadata": {},
   "outputs": [],
   "source": [
    "test_df = pd.DataFrame(data={'feature': pd.Series(feature_columns), \n",
    "                             'C1000': list(logreg_C1000.coef_.T),\n",
    "                            'C0001': list(logreg_C0001.coef_.T)})\n",
    "test_df = test_df.sort_values(by=['C1000']).reset_index()\n",
    "\n",
    "# %% Plot: Compare LogReg-coefficients for different C (1000, 0.001)\n",
    "plt.figure(figsize=(70,10))\n",
    "plt.grid()\n",
    "plt.plot(test_df.loc[:,'C0001'], '^', label=\"C=0.001\")\n",
    "plt.plot(test_df.loc[:,'C1000'], 'o', label=\"C=1000\")\n",
    "plt.xticks(range(len(feature_columns)), test_df.loc[:,'feature'], rotation=90)\n",
    "plt.hlines(0, 0, len(feature_columns))\n",
    "plt.ylim(min(logreg_C1000.coef_.T), max(logreg_C1000.coef_.T))\n",
    "plt.xlabel(\"Feature\")\n",
    "plt.ylabel(\"Coefficient magnitude\")\n",
    "plt.legend()\n",
    "plt.savefig('this_is_a_test.png')"
   ]
  },
  {
   "cell_type": "markdown",
   "metadata": {},
   "source": [
    "### Model Training: Random Forest"
   ]
  },
  {
   "cell_type": "code",
   "execution_count": null,
   "metadata": {},
   "outputs": [],
   "source": [
    "from sklearn.ensemble import RandomForestClassifier"
   ]
  },
  {
   "cell_type": "code",
   "execution_count": null,
   "metadata": {},
   "outputs": [],
   "source": [
    "%%time \n",
    "# Wall time: 1min 50s\n",
    "forest_01 = RandomForestClassifier(n_estimators=10000,\n",
    "                                max_depth=15,\n",
    "                                random_state=42,\n",
    "                                n_jobs=-1)\n",
    "forest_01.fit(X_train_balanced, y_train_balanced)\n",
    "\n",
    "# %% Validate Accuracy\n",
    "print(\"Accuracy on training set: {:.3f}\".format(forest_01.score(X_train_balanced,y_train_balanced)))\n",
    "print(\"Accuracy on test set: {:.3f}\".format(forest_01.score(X_test,     y_test)))"
   ]
  },
  {
   "cell_type": "code",
   "execution_count": null,
   "metadata": {},
   "outputs": [],
   "source": [
    "# %% Plot: Feature importance\n",
    "def plot_feature_importances(model,feature_columns,figsize=(20,100)):\n",
    "    from operator import itemgetter\n",
    "    dict_feature_importance = sorted(dict(zip(feature_columns,model.feature_importances_)).items(), key=itemgetter(1))\n",
    "    n_features              = len(feature_columns)\n",
    "    \n",
    "    plt.figure(figsize=figsize)\n",
    "    plt.grid()\n",
    "    plt.barh(np.arange(n_features),\n",
    "             [y for (x,y) in dict_feature_importance],\n",
    "             align='center')\n",
    "    plt.yticks(np.arange(n_features), [x for (x,y) in dict_feature_importance])\n",
    "    plt.xlabel(\"Feature importance\")\n",
    "    plt.ylabel(\"Feature\")\n",
    "    plt.ylim(-1, n_features)\n",
    "    plt.show()"
   ]
  },
  {
   "cell_type": "code",
   "execution_count": null,
   "metadata": {},
   "outputs": [],
   "source": [
    "plot_feature_importances(forest_01,feature_columns)"
   ]
  },
  {
   "cell_type": "markdown",
   "metadata": {
    "toc-hr-collapsed": false
   },
   "source": [
    "# Model Validation"
   ]
  },
  {
   "cell_type": "markdown",
   "metadata": {},
   "source": [
    "## Confusion Matrix"
   ]
  },
  {
   "cell_type": "code",
   "execution_count": null,
   "metadata": {},
   "outputs": [],
   "source": [
    "from sklearn.metrics import confusion_matrix"
   ]
  },
  {
   "cell_type": "code",
   "execution_count": null,
   "metadata": {},
   "outputs": [],
   "source": [
    "pred_forest_01          = forest_01.predict(X_test)\n",
    "pred_logreg_C0001       = logreg_C0001.predict(X_test)\n",
    "pred_logreg_C1000       = logreg_C1000.predict(X_test)"
   ]
  },
  {
   "cell_type": "code",
   "execution_count": null,
   "metadata": {},
   "outputs": [],
   "source": [
    "%%time\n",
    "# Wall time: 20.9ms\n",
    "\n",
    "confusion_logreg_C0001       = confusion_matrix(y_test, pred_logreg_C0001)\n",
    "df_confusion_logreg_C0001    = pd.DataFrame(confusion_logreg_C0001, index=[\"Fact 0\", \"Fact 1\"], columns=[\"Pred 0\",\"Pred 1\"])\n",
    "\n",
    "confusion_logreg_C1000       = confusion_matrix(y_test, pred_logreg_C1000)\n",
    "df_confusion_logreg_C1000    = pd.DataFrame(confusion_logreg_C1000, index=[\"Fact 0\", \"Fact 1\"], columns=[\"Pred 0\",\"Pred 1\"])\n",
    "\n",
    "confusion_forest_01          = confusion_matrix(y_test, pred_forest_01)\n",
    "df_confusion_forest_01       = pd.DataFrame(confusion_forest_01, index=[\"Fact 0\", \"Fact 1\"], columns=[\"Pred 0\",\"Pred 1\"])\n",
    "\n",
    "print(\"Test set balance:\")\n",
    "print(pd.Series(y_test).value_counts())\n",
    "\n",
    "print(\"\\nConfusion Matrices:\")\n",
    "\n",
    "print(\"\\nRandom Forest (forest_01):\")\n",
    "display(df_confusion_forest_01)\n",
    "\n",
    "print(\"\\nLogistic Regression C=0.001:\")\n",
    "display(df_confusion_logreg_C0001)\n",
    "\n",
    "print(\"\\nLogistic Regression C=1000:\")\n",
    "display(df_confusion_logreg_C1000)"
   ]
  },
  {
   "cell_type": "markdown",
   "metadata": {},
   "source": [
    "1. $Precision =\\frac{TP}{TP+FP}$\n",
    "2. $Recall =\\frac{TP}{TP+FN}$ <-- Optimising target!\n",
    "3. $f_{1} = 2 \\cdot \\frac{precision \\cdot recall}{precision + recall} = \\frac{2 \\cdot TP}{2 \\cdot TP + (FN + FP)}$\n",
    "4. $Accuracy = \\frac{TP + TN}{TP + TN + FP + FN}$ KPI combines Precision and Recall\n"
   ]
  },
  {
   "cell_type": "markdown",
   "metadata": {},
   "source": [
    "## Classification Report"
   ]
  },
  {
   "cell_type": "code",
   "execution_count": null,
   "metadata": {},
   "outputs": [],
   "source": [
    "from sklearn.metrics import classification_report"
   ]
  },
  {
   "cell_type": "code",
   "execution_count": null,
   "metadata": {},
   "outputs": [],
   "source": [
    "%%time\n",
    "## Wall time: 9.94ms\n",
    "\n",
    "print(\"\\n\")\n",
    "print(\"Logistic Regression C=0.001:\")\n",
    "print(classification_report(y_test,\n",
    "                            pred_logreg_C0001,\n",
    "                            target_names=[\"not booking = 0\", \"booking = 1\"]))\n",
    "\n",
    "print(\"Logistic Regression C=1000:\")\n",
    "print(classification_report(y_test,\n",
    "                            pred_logreg_C1000,\n",
    "                            target_names=[\"not booking = 0\", \"booking = 1\"]))\n",
    "\n",
    "print(\"Random Forest:\")\n",
    "print(classification_report(y_test,\n",
    "                            pred_forest_01,\n",
    "                            target_names=[\"not booking = 0\", \"booking = 1\"]))"
   ]
  },
  {
   "cell_type": "markdown",
   "metadata": {},
   "source": [
    "## Precision-Recall Curve"
   ]
  },
  {
   "cell_type": "code",
   "execution_count": null,
   "metadata": {},
   "outputs": [],
   "source": [
    "logreg_C1000.predict_proba(X_test)[:,1]"
   ]
  },
  {
   "cell_type": "code",
   "execution_count": null,
   "metadata": {},
   "outputs": [],
   "source": [
    "from sklearn.metrics import precision_recall_curve\n",
    "\n",
    "def prec_rec_curve(X_test,y_test):\n",
    "    global precision_forest_01, recall_forest_01, thresholds_forest_01, precision_logreg_C0001, recall_logreg_C0001, thresholds_logreg_C0001,precision_logreg_C1000, recall_logreg_C1000, thresholds_logreg_C1000 \n",
    "    \n",
    "    # LogReg C=0.001\n",
    "    precision_logreg_C0001, recall_logreg_C0001, thresholds_logreg_C0001 = precision_recall_curve(\n",
    "        y_test, \n",
    "        logreg_C0001.predict_proba(X_test)[:,1])\n",
    "    \n",
    "    # LogReg C=1000\n",
    "    precision_logreg_C1000, recall_logreg_C1000, thresholds_logreg_C1000 = precision_recall_curve(\n",
    "        y_test, \n",
    "        logreg_C1000.predict_proba(X_test)[:,1])\n",
    "    \n",
    "    # RandomForestClassifier has predict_proba, but not decision_function\n",
    "    precision_forest_01, recall_forest_01, thresholds_forest_01 = precision_recall_curve(\n",
    "        y_test,\n",
    "        forest_01.predict_proba(X_test)[:, 1])\n",
    "    \n",
    "    "
   ]
  },
  {
   "cell_type": "code",
   "execution_count": null,
   "metadata": {},
   "outputs": [],
   "source": [
    "%%time\n",
    "# Wall time: 22.4s\n",
    "\n",
    "#prec_rec_curve(X_test,y_test)\n",
    "prec_rec_curve(X_train,y_train)"
   ]
  },
  {
   "cell_type": "code",
   "execution_count": null,
   "metadata": {},
   "outputs": [],
   "source": [
    "plt.figure(figsize=(20,15))\n",
    "plt.grid()\n",
    "\n",
    "close_zero = np.argmin(np.abs(thresholds_forest_01))\n",
    "plt.plot(precision_forest_01[close_zero],\n",
    "         recall_forest_01[close_zero],\n",
    "         'o',\n",
    "         markersize=10,\n",
    "         label=\"threshold zero forest_01\",\n",
    "         fillstyle=\"none\",\n",
    "         c='k',\n",
    "         mew=2)\n",
    "\n",
    "\n",
    "plt.plot(precision_logreg_C0001, recall_logreg_C0001, label=\"Logistic Regression, C=0.001\")\n",
    "plt.plot(precision_logreg_C1000, recall_logreg_C1000, label=\"Logistic Regression, C=1000\")\n",
    "plt.plot(precision_forest_01, recall_forest_01, label=\"Random Forest\")\n",
    "\n",
    "plt.xlabel(\"Precision\")\n",
    "plt.ylabel(\"Recall\")\n",
    "plt.legend(loc=\"best\")\n",
    "\n",
    "plt.show()"
   ]
  },
  {
   "cell_type": "code",
   "execution_count": null,
   "metadata": {},
   "outputs": [],
   "source": [
    "#boxplot_histogram(thresholds_logreg_C0001)"
   ]
  },
  {
   "cell_type": "code",
   "execution_count": null,
   "metadata": {},
   "outputs": [],
   "source": [
    "%%time\n",
    "#Wall time: 19.7 s\n",
    "\n",
    "from sklearn.metrics import average_precision_score # Area under the Recall/Precision-curves\n",
    "\n",
    "avg_precision_logreg_C0001 = average_precision_score(y_test,\n",
    "                                               logreg_C0001.predict_proba(X_test)[:, 1])\n",
    "\n",
    "avg_precision_logreg_C1000 = average_precision_score(y_test,\n",
    "                                               logreg_C1000.predict_proba(X_test)[:, 1])\n",
    "\n",
    "avg_precision_forest_01 = average_precision_score(y_test,\n",
    "                                               forest_01.predict_proba(X_test)[:, 1])\n",
    "\n",
    "\n",
    "print(\"Average Precision of LogReg C=0.001: {:.3f}\".format(avg_precision_logreg_C0001))\n",
    "print(\"Average Precision of LogReg C=1000:  {:.3f}\".format(avg_precision_logreg_C1000))\n",
    "print(\"Average Precision of forest_01:      {:.3f}\".format(avg_precision_forest_01))"
   ]
  },
  {
   "cell_type": "markdown",
   "metadata": {},
   "source": [
    "## Receiver Operating Characteristics (ROC) and AUC\n"
   ]
  },
  {
   "cell_type": "code",
   "execution_count": null,
   "metadata": {},
   "outputs": [],
   "source": [
    "%%time\n",
    "from sklearn.metrics import roc_curve\n",
    "\n",
    "fpr_logreg_C0001, tpr_logreg_C0001, thresholds_logreg_C0001 = roc_curve(y_test, logreg_C0001.predict_proba(X_test)[:, 1])\n",
    "fpr_logreg_C1000, tpr_logreg_C1000, thresholds_logreg_C1000 = roc_curve(y_test, logreg_C1000.predict_proba(X_test)[:, 1])\n",
    "fpr_forest_01, tpr_forest_01, thresholds_forest_01 = roc_curve(y_test, forest_01.predict_proba(X_test)[:, 1])"
   ]
  },
  {
   "cell_type": "code",
   "execution_count": null,
   "metadata": {},
   "outputs": [],
   "source": [
    "%%time\n",
    "# Wall time: 200 ms\n",
    "\n",
    "\n",
    "def threshold_dot_50perc(fpr_forest_01,tpr_forest_01,thresholds_forest_01,name,dot):\n",
    "    close_default_index_forest_01 = np.argmin(np.abs(thresholds_forest_01 - 0.5))\n",
    "    return plt.plot(fpr_forest_01[close_default_index_forest_01], tpr_forest_01[close_default_index_forest_01],\n",
    "             dot,\n",
    "             markersize=10,\n",
    "             label=f\"threshold 0.5, {name}\",\n",
    "             fillstyle=\"none\",\n",
    "             c='k',\n",
    "             mew=2)\n",
    "\n",
    "\n",
    "plt.figure(figsize=(15,12))\n",
    "plt.grid()\n",
    "\n",
    "plt.plot(fpr_forest_01,fpr_forest_01, linestyle='dotted', label=\"base line\")\n",
    "\n",
    "plt.plot(fpr_logreg_C0001, tpr_logreg_C0001, label=\"logreg_C0001\")\n",
    "plt.plot(fpr_logreg_C1000, tpr_logreg_C1000, label=\"logreg_C1000\")\n",
    "plt.plot(fpr_forest_01,    tpr_forest_01,    label=\"forest_01\")\n",
    "\n",
    "\n",
    "plt.xlabel(\"False-Postive Rate (FPR)\")\n",
    "plt.ylabel(\"True-Positive Rate (TPR) aka. Recall\")\n",
    "\n",
    "# find threshold closest to zero\n",
    "threshold_dot_50perc(fpr_forest_01,tpr_forest_01,     thresholds_forest_01,'forest_01',dot='^')\n",
    "threshold_dot_50perc(fpr_logreg_C0001, tpr_logreg_C0001, thresholds_logreg_C0001,'logreg_C0001',dot='x')\n",
    "threshold_dot_50perc(fpr_logreg_C1000,tpr_logreg_C1000,thresholds_logreg_C1000,'logreg_C1000',dot='+')\n",
    "\n",
    "plt.legend(loc=4)\n",
    "plt.show()"
   ]
  },
  {
   "cell_type": "code",
   "execution_count": null,
   "metadata": {},
   "outputs": [],
   "source": [
    "%%time\n",
    "# Wall time: 17.6s\n",
    "from sklearn.metrics import roc_auc_score\n",
    "forest_01_auc = roc_auc_score(y_test, forest_01.predict_proba(X_test)[:, 1])\n",
    "logreg_C0001_auc = roc_auc_score(y_test, logreg_C0001.predict_proba(X_test)[:, 1])\n",
    "logreg_C1000_auc = roc_auc_score(y_test, logreg_C1000.predict_proba(X_test)[:, 1])\n"
   ]
  },
  {
   "cell_type": "code",
   "execution_count": null,
   "metadata": {},
   "outputs": [],
   "source": [
    "print(\"AUC for forest_01:    {:.3f}\".format(forest_01_auc))\n",
    "print(\"AUC for logreg_C0001: {:.3f}\".format(logreg_C0001_auc))\n",
    "print(\"AUC for logreg_C1000: {:.3f}\".format(logreg_C1000_auc))"
   ]
  },
  {
   "cell_type": "markdown",
   "metadata": {},
   "source": [
    "## Recursive feature elimination with cross-validation"
   ]
  },
  {
   "cell_type": "code",
   "execution_count": null,
   "metadata": {},
   "outputs": [],
   "source": [
    "%%time\n",
    "print(__doc__)\n",
    "\n",
    "import matplotlib.pyplot as plt\n",
    "from sklearn.svm import SVC\n",
    "from sklearn.model_selection import StratifiedKFold\n",
    "from sklearn.feature_selection import RFECV\n",
    "\n",
    "\n",
    "# Create the RFE object and compute a cross-validated score.\n",
    "svc = SVC(kernel=\"linear\")\n",
    "# The \"accuracy\" scoring is proportional to the number of correct\n",
    "# classifications\n",
    "rfecv = RFECV(estimator=svc, step=1, cv=StratifiedKFold(2),\n",
    "              scoring='accuracy')\n",
    "rfecv.fit(X_train_balanced, y_train_balanced)\n",
    "\n",
    "print(\"Optimal number of features : %d\" % rfecv.n_features_)"
   ]
  },
  {
   "cell_type": "code",
   "execution_count": null,
   "metadata": {},
   "outputs": [],
   "source": [
    "%%time\n",
    "# Plot number of features VS. cross-validation scores\n",
    "plt.figure()\n",
    "plt.xlabel(\"Number of features selected\")\n",
    "plt.ylabel(\"Cross validation score (nb of correct classifications)\")\n",
    "plt.plot(range(1, len(rfecv.grid_scores_) + 1), rfecv.grid_scores_)\n",
    "plt.show()"
   ]
  },
  {
   "cell_type": "markdown",
   "metadata": {},
   "source": [
    "## Shapley values"
   ]
  },
  {
   "cell_type": "markdown",
   "metadata": {},
   "source": [
    "https://medium.com/@santiagof/model-interpretability-making-your-model-confess-shapley-values-5fb95a10a624"
   ]
  },
  {
   "cell_type": "code",
   "execution_count": null,
   "metadata": {},
   "outputs": [],
   "source": [
    "import shap"
   ]
  },
  {
   "cell_type": "code",
   "execution_count": null,
   "metadata": {},
   "outputs": [],
   "source": [
    "%%time\n",
    "#shap_values = shap.TreeExplainer(forest_01).shap_values(X_train_balanced)"
   ]
  },
  {
   "cell_type": "code",
   "execution_count": null,
   "metadata": {},
   "outputs": [],
   "source": [
    "#shap.summary_plot(shap_values, X_train_balanced, plot_type=\"bar\")"
   ]
  }
 ],
 "metadata": {
  "kernelspec": {
   "display_name": "Python 3",
   "language": "python",
   "name": "python3"
  },
  "language_info": {
   "codemirror_mode": {
    "name": "ipython",
    "version": 3
   },
   "file_extension": ".py",
   "mimetype": "text/x-python",
   "name": "python",
   "nbconvert_exporter": "python",
   "pygments_lexer": "ipython3",
   "version": "3.7.4"
  }
 },
 "nbformat": 4,
 "nbformat_minor": 4
}
