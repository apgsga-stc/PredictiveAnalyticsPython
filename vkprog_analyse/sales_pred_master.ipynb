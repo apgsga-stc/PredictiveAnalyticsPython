{
 "cells": [
  {
   "cell_type": "markdown",
   "metadata": {},
   "source": [
    "# Master File"
   ]
  },
  {
   "cell_type": "markdown",
   "metadata": {},
   "source": [
    "# Tools & Libraries"
   ]
  },
  {
   "cell_type": "code",
   "execution_count": 1,
   "metadata": {},
   "outputs": [
    {
     "name": "stdout",
     "output_type": "stream",
     "text": [
      "C:\\Users\\stc\\Documents\\GitHub\\PredictiveAnalyticsPython\\vkprog_analyse\n",
      "C:\\Users\\stc\\Documents\\GitHub\\PredictiveAnalyticsPython\n"
     ]
    }
   ],
   "source": [
    "# make imports from pa_lib possible (parent directory of file's directory)\n",
    "import sys\n",
    "from pathlib import Path\n",
    "\n",
    "file_dir = Path.cwd()\n",
    "print(file_dir)\n",
    "parent_dir = file_dir.parent\n",
    "print(parent_dir)\n",
    "sys.path.append(str(parent_dir))"
   ]
  },
  {
   "cell_type": "code",
   "execution_count": 2,
   "metadata": {},
   "outputs": [],
   "source": [
    "%load_ext autoreload\n",
    "%autoreload\n",
    "import pandas as pd\n",
    "import seaborn as sns\n",
    "import matplotlib.pyplot as plt\n",
    "import numpy as np\n",
    "from pa_lib.data import boxplot_histogram"
   ]
  },
  {
   "cell_type": "code",
   "execution_count": 3,
   "metadata": {},
   "outputs": [],
   "source": [
    "from pa_lib.data import desc_col"
   ]
  },
  {
   "cell_type": "markdown",
   "metadata": {},
   "source": [
    "# Load Dataset (Data Preparation)"
   ]
  },
  {
   "cell_type": "code",
   "execution_count": 4,
   "metadata": {},
   "outputs": [],
   "source": [
    "from vkprog_data_prep import bd_train_scoring"
   ]
  },
  {
   "cell_type": "code",
   "execution_count": 5,
   "metadata": {},
   "outputs": [
    {
     "name": "stderr",
     "output_type": "stream",
     "text": [
      "2019-10-09 11:03:10 [INFO] Started loading binary file\n",
      "2019-10-09 11:03:10 [INFO] Reading from file C:\\Users\\stc\\data\\vkprog\\bd_data.feather\n",
      "2019-10-09 11:03:10 [INFO] Finished loading binary file in 0.18s (0.92s CPU)\n",
      "2019-10-09 11:03:12 [INFO] Period: KW_2\n",
      "2019-10-09 11:03:12 [INFO] Calculate Reservation...\n",
      "2019-10-09 11:03:12 [INFO] Calculate Aushang...\n",
      "2019-10-09 11:03:12 [INFO] Merge Results...\n",
      "2019-10-09 11:03:13 [INFO] aggregate_bookings: Done.\n",
      "2019-10-09 11:03:13 [INFO] current_yyyykw: 201939\n",
      "2019-10-09 11:03:13 [INFO] training_yyyykw:201839\n",
      "2019-10-09 11:03:13 [INFO] Computing: Pivot Table\n",
      "2019-10-09 11:03:13 [INFO] Running: booking_yearly_totals(YYYYKW, year_span) \n",
      "2019-10-09 11:03:13 [INFO] Computing: Yearly total sums\n",
      "2019-10-09 11:03:13 [INFO] Merging: Left-Join to Container dataframe\n",
      "2019-10-09 11:03:13 [INFO] Merging: Left-Join to Container dataframe\n",
      "2019-10-09 11:03:13 [INFO] Merging: Left-Join to Container dataframe\n",
      "2019-10-09 11:03:13 [INFO] Merging: Left-Join to Container dataframe\n",
      "2019-10-09 11:03:13 [INFO] Final merge\n",
      "2019-10-09 11:03:13 [INFO] Computing: Pivot Table\n",
      "2019-10-09 11:03:14 [INFO] Running: booking_yearly_totals(YYYYKW, year_span) \n",
      "2019-10-09 11:03:14 [INFO] Computing: Yearly total sums\n",
      "2019-10-09 11:03:14 [INFO] Merging: Left-Join to Container dataframe\n",
      "2019-10-09 11:03:14 [INFO] Merging: Left-Join to Container dataframe\n",
      "2019-10-09 11:03:14 [INFO] Merging: Left-Join to Container dataframe\n",
      "2019-10-09 11:03:14 [INFO] Merging: Left-Join to Container dataframe\n",
      "2019-10-09 11:03:14 [INFO] Final merge\n",
      "2019-10-09 11:03:42 [INFO] Scaling features\n",
      "2019-10-09 11:03:45 [INFO] Finished.\n"
     ]
    },
    {
     "name": "stdout",
     "output_type": "stream",
     "text": [
      "Wall time: 35 s\n"
     ]
    }
   ],
   "source": [
    "%%time\n",
    "# Wall time: 35.2 s\n",
    "\n",
    "\n",
    "(training_all, scoring_all, feature_colnames_bd, feature_colnames_dates,feature_colnames_branchen) = bd_train_scoring(\n",
    "    day=23,\n",
    "    month=9,\n",
    "    year_score=2019,\n",
    "    year_train=2018,\n",
    "    year_span=4,\n",
    "    scale_features=True)"
   ]
  },
  {
   "cell_type": "code",
   "execution_count": 7,
   "metadata": {},
   "outputs": [
    {
     "name": "stdout",
     "output_type": "stream",
     "text": [
      "\n",
      "training_all\n",
      "\n"
     ]
    },
    {
     "data": {
      "text/html": [
       "<div>\n",
       "<style scoped>\n",
       "    .dataframe tbody tr th:only-of-type {\n",
       "        vertical-align: middle;\n",
       "    }\n",
       "\n",
       "    .dataframe tbody tr th {\n",
       "        vertical-align: top;\n",
       "    }\n",
       "\n",
       "    .dataframe thead th {\n",
       "        text-align: right;\n",
       "    }\n",
       "</style>\n",
       "<table border=\"1\" class=\"dataframe\">\n",
       "  <thead>\n",
       "    <tr style=\"text-align: right;\">\n",
       "      <th></th>\n",
       "      <th>Endkunde_NR</th>\n",
       "      <th>Erste_Buchung_Delta</th>\n",
       "      <th>Letzte_Buchung_Delta</th>\n",
       "      <th>Erste_Letzte_Buchung_Delta</th>\n",
       "      <th>Netto_Sum_Aus_RY_0_KW_1</th>\n",
       "      <th>Netto_Sum_Aus_RY_0_KW_11</th>\n",
       "      <th>Netto_Sum_Aus_RY_0_KW_13</th>\n",
       "      <th>Netto_Sum_Aus_RY_0_KW_15</th>\n",
       "      <th>Netto_Sum_Aus_RY_0_KW_17</th>\n",
       "      <th>Netto_Sum_Aus_RY_0_KW_19</th>\n",
       "      <th>...</th>\n",
       "      <th>B765</th>\n",
       "      <th>B780</th>\n",
       "      <th>B795</th>\n",
       "      <th>B800</th>\n",
       "      <th>B901</th>\n",
       "      <th>B950</th>\n",
       "      <th>B960</th>\n",
       "      <th>B970</th>\n",
       "      <th>B980</th>\n",
       "      <th>B990</th>\n",
       "    </tr>\n",
       "  </thead>\n",
       "  <tbody>\n",
       "    <tr>\n",
       "      <th>count</th>\n",
       "      <td>18003.000000</td>\n",
       "      <td>18003.000000</td>\n",
       "      <td>18003.000000</td>\n",
       "      <td>18003.000000</td>\n",
       "      <td>18003.000000</td>\n",
       "      <td>18003.000000</td>\n",
       "      <td>18003.000000</td>\n",
       "      <td>18003.000000</td>\n",
       "      <td>18003.000000</td>\n",
       "      <td>18003.000000</td>\n",
       "      <td>...</td>\n",
       "      <td>18003.000000</td>\n",
       "      <td>18003.000000</td>\n",
       "      <td>18003.000000</td>\n",
       "      <td>18003.000000</td>\n",
       "      <td>18003.000000</td>\n",
       "      <td>18003.000000</td>\n",
       "      <td>18003.000000</td>\n",
       "      <td>18003.000000</td>\n",
       "      <td>18003.000000</td>\n",
       "      <td>18003.00000</td>\n",
       "    </tr>\n",
       "    <tr>\n",
       "      <th>mean</th>\n",
       "      <td>485050.424096</td>\n",
       "      <td>0.391571</td>\n",
       "      <td>0.135616</td>\n",
       "      <td>0.292941</td>\n",
       "      <td>0.032810</td>\n",
       "      <td>0.018464</td>\n",
       "      <td>0.028818</td>\n",
       "      <td>0.017104</td>\n",
       "      <td>0.030254</td>\n",
       "      <td>0.017269</td>\n",
       "      <td>...</td>\n",
       "      <td>0.002666</td>\n",
       "      <td>0.041549</td>\n",
       "      <td>0.015275</td>\n",
       "      <td>0.022552</td>\n",
       "      <td>0.034994</td>\n",
       "      <td>0.019330</td>\n",
       "      <td>0.104260</td>\n",
       "      <td>0.005777</td>\n",
       "      <td>0.031717</td>\n",
       "      <td>0.17386</td>\n",
       "    </tr>\n",
       "    <tr>\n",
       "      <th>std</th>\n",
       "      <td>186662.811738</td>\n",
       "      <td>0.289579</td>\n",
       "      <td>0.152127</td>\n",
       "      <td>0.307696</td>\n",
       "      <td>0.143494</td>\n",
       "      <td>0.107028</td>\n",
       "      <td>0.129294</td>\n",
       "      <td>0.102330</td>\n",
       "      <td>0.135663</td>\n",
       "      <td>0.104390</td>\n",
       "      <td>...</td>\n",
       "      <td>0.051568</td>\n",
       "      <td>0.199561</td>\n",
       "      <td>0.122649</td>\n",
       "      <td>0.148474</td>\n",
       "      <td>0.183770</td>\n",
       "      <td>0.137686</td>\n",
       "      <td>0.305607</td>\n",
       "      <td>0.075788</td>\n",
       "      <td>0.175250</td>\n",
       "      <td>0.37900</td>\n",
       "    </tr>\n",
       "    <tr>\n",
       "      <th>min</th>\n",
       "      <td>100034.000000</td>\n",
       "      <td>0.000000</td>\n",
       "      <td>0.000000</td>\n",
       "      <td>0.000000</td>\n",
       "      <td>0.000000</td>\n",
       "      <td>0.000000</td>\n",
       "      <td>0.000000</td>\n",
       "      <td>0.000000</td>\n",
       "      <td>0.000000</td>\n",
       "      <td>0.000000</td>\n",
       "      <td>...</td>\n",
       "      <td>0.000000</td>\n",
       "      <td>0.000000</td>\n",
       "      <td>0.000000</td>\n",
       "      <td>0.000000</td>\n",
       "      <td>0.000000</td>\n",
       "      <td>0.000000</td>\n",
       "      <td>0.000000</td>\n",
       "      <td>0.000000</td>\n",
       "      <td>0.000000</td>\n",
       "      <td>0.00000</td>\n",
       "    </tr>\n",
       "    <tr>\n",
       "      <th>25%</th>\n",
       "      <td>472931.500000</td>\n",
       "      <td>0.181818</td>\n",
       "      <td>0.000000</td>\n",
       "      <td>0.000000</td>\n",
       "      <td>0.000000</td>\n",
       "      <td>0.000000</td>\n",
       "      <td>0.000000</td>\n",
       "      <td>0.000000</td>\n",
       "      <td>0.000000</td>\n",
       "      <td>0.000000</td>\n",
       "      <td>...</td>\n",
       "      <td>0.000000</td>\n",
       "      <td>0.000000</td>\n",
       "      <td>0.000000</td>\n",
       "      <td>0.000000</td>\n",
       "      <td>0.000000</td>\n",
       "      <td>0.000000</td>\n",
       "      <td>0.000000</td>\n",
       "      <td>0.000000</td>\n",
       "      <td>0.000000</td>\n",
       "      <td>0.00000</td>\n",
       "    </tr>\n",
       "    <tr>\n",
       "      <th>50%</th>\n",
       "      <td>574381.000000</td>\n",
       "      <td>0.272727</td>\n",
       "      <td>0.125000</td>\n",
       "      <td>0.181818</td>\n",
       "      <td>0.000000</td>\n",
       "      <td>0.000000</td>\n",
       "      <td>0.000000</td>\n",
       "      <td>0.000000</td>\n",
       "      <td>0.000000</td>\n",
       "      <td>0.000000</td>\n",
       "      <td>...</td>\n",
       "      <td>0.000000</td>\n",
       "      <td>0.000000</td>\n",
       "      <td>0.000000</td>\n",
       "      <td>0.000000</td>\n",
       "      <td>0.000000</td>\n",
       "      <td>0.000000</td>\n",
       "      <td>0.000000</td>\n",
       "      <td>0.000000</td>\n",
       "      <td>0.000000</td>\n",
       "      <td>0.00000</td>\n",
       "    </tr>\n",
       "    <tr>\n",
       "      <th>75%</th>\n",
       "      <td>614320.500000</td>\n",
       "      <td>0.727273</td>\n",
       "      <td>0.250000</td>\n",
       "      <td>0.545455</td>\n",
       "      <td>0.000000</td>\n",
       "      <td>0.000000</td>\n",
       "      <td>0.000000</td>\n",
       "      <td>0.000000</td>\n",
       "      <td>0.000000</td>\n",
       "      <td>0.000000</td>\n",
       "      <td>...</td>\n",
       "      <td>0.000000</td>\n",
       "      <td>0.000000</td>\n",
       "      <td>0.000000</td>\n",
       "      <td>0.000000</td>\n",
       "      <td>0.000000</td>\n",
       "      <td>0.000000</td>\n",
       "      <td>0.000000</td>\n",
       "      <td>0.000000</td>\n",
       "      <td>0.000000</td>\n",
       "      <td>0.00000</td>\n",
       "    </tr>\n",
       "    <tr>\n",
       "      <th>max</th>\n",
       "      <td>651482.000000</td>\n",
       "      <td>1.000000</td>\n",
       "      <td>1.000000</td>\n",
       "      <td>1.000000</td>\n",
       "      <td>1.000000</td>\n",
       "      <td>1.000000</td>\n",
       "      <td>1.000000</td>\n",
       "      <td>1.000000</td>\n",
       "      <td>1.000000</td>\n",
       "      <td>1.000000</td>\n",
       "      <td>...</td>\n",
       "      <td>1.000000</td>\n",
       "      <td>1.000000</td>\n",
       "      <td>1.000000</td>\n",
       "      <td>1.000000</td>\n",
       "      <td>1.000000</td>\n",
       "      <td>1.000000</td>\n",
       "      <td>1.000000</td>\n",
       "      <td>1.000000</td>\n",
       "      <td>1.000000</td>\n",
       "      <td>1.00000</td>\n",
       "    </tr>\n",
       "  </tbody>\n",
       "</table>\n",
       "<p>8 rows × 305 columns</p>\n",
       "</div>"
      ],
      "text/plain": [
       "         Endkunde_NR  Erste_Buchung_Delta  Letzte_Buchung_Delta  \\\n",
       "count   18003.000000         18003.000000          18003.000000   \n",
       "mean   485050.424096             0.391571              0.135616   \n",
       "std    186662.811738             0.289579              0.152127   \n",
       "min    100034.000000             0.000000              0.000000   \n",
       "25%    472931.500000             0.181818              0.000000   \n",
       "50%    574381.000000             0.272727              0.125000   \n",
       "75%    614320.500000             0.727273              0.250000   \n",
       "max    651482.000000             1.000000              1.000000   \n",
       "\n",
       "       Erste_Letzte_Buchung_Delta  Netto_Sum_Aus_RY_0_KW_1  \\\n",
       "count                18003.000000             18003.000000   \n",
       "mean                     0.292941                 0.032810   \n",
       "std                      0.307696                 0.143494   \n",
       "min                      0.000000                 0.000000   \n",
       "25%                      0.000000                 0.000000   \n",
       "50%                      0.181818                 0.000000   \n",
       "75%                      0.545455                 0.000000   \n",
       "max                      1.000000                 1.000000   \n",
       "\n",
       "       Netto_Sum_Aus_RY_0_KW_11  Netto_Sum_Aus_RY_0_KW_13  \\\n",
       "count              18003.000000              18003.000000   \n",
       "mean                   0.018464                  0.028818   \n",
       "std                    0.107028                  0.129294   \n",
       "min                    0.000000                  0.000000   \n",
       "25%                    0.000000                  0.000000   \n",
       "50%                    0.000000                  0.000000   \n",
       "75%                    0.000000                  0.000000   \n",
       "max                    1.000000                  1.000000   \n",
       "\n",
       "       Netto_Sum_Aus_RY_0_KW_15  Netto_Sum_Aus_RY_0_KW_17  \\\n",
       "count              18003.000000              18003.000000   \n",
       "mean                   0.017104                  0.030254   \n",
       "std                    0.102330                  0.135663   \n",
       "min                    0.000000                  0.000000   \n",
       "25%                    0.000000                  0.000000   \n",
       "50%                    0.000000                  0.000000   \n",
       "75%                    0.000000                  0.000000   \n",
       "max                    1.000000                  1.000000   \n",
       "\n",
       "       Netto_Sum_Aus_RY_0_KW_19  ...          B765          B780  \\\n",
       "count              18003.000000  ...  18003.000000  18003.000000   \n",
       "mean                   0.017269  ...      0.002666      0.041549   \n",
       "std                    0.104390  ...      0.051568      0.199561   \n",
       "min                    0.000000  ...      0.000000      0.000000   \n",
       "25%                    0.000000  ...      0.000000      0.000000   \n",
       "50%                    0.000000  ...      0.000000      0.000000   \n",
       "75%                    0.000000  ...      0.000000      0.000000   \n",
       "max                    1.000000  ...      1.000000      1.000000   \n",
       "\n",
       "               B795          B800          B901          B950          B960  \\\n",
       "count  18003.000000  18003.000000  18003.000000  18003.000000  18003.000000   \n",
       "mean       0.015275      0.022552      0.034994      0.019330      0.104260   \n",
       "std        0.122649      0.148474      0.183770      0.137686      0.305607   \n",
       "min        0.000000      0.000000      0.000000      0.000000      0.000000   \n",
       "25%        0.000000      0.000000      0.000000      0.000000      0.000000   \n",
       "50%        0.000000      0.000000      0.000000      0.000000      0.000000   \n",
       "75%        0.000000      0.000000      0.000000      0.000000      0.000000   \n",
       "max        1.000000      1.000000      1.000000      1.000000      1.000000   \n",
       "\n",
       "               B970          B980         B990  \n",
       "count  18003.000000  18003.000000  18003.00000  \n",
       "mean       0.005777      0.031717      0.17386  \n",
       "std        0.075788      0.175250      0.37900  \n",
       "min        0.000000      0.000000      0.00000  \n",
       "25%        0.000000      0.000000      0.00000  \n",
       "50%        0.000000      0.000000      0.00000  \n",
       "75%        0.000000      0.000000      0.00000  \n",
       "max        1.000000      1.000000      1.00000  \n",
       "\n",
       "[8 rows x 305 columns]"
      ]
     },
     "metadata": {},
     "output_type": "display_data"
    },
    {
     "name": "stdout",
     "output_type": "stream",
     "text": [
      "\n",
      "scoring_all\n",
      "\n"
     ]
    },
    {
     "data": {
      "text/html": [
       "<div>\n",
       "<style scoped>\n",
       "    .dataframe tbody tr th:only-of-type {\n",
       "        vertical-align: middle;\n",
       "    }\n",
       "\n",
       "    .dataframe tbody tr th {\n",
       "        vertical-align: top;\n",
       "    }\n",
       "\n",
       "    .dataframe thead th {\n",
       "        text-align: right;\n",
       "    }\n",
       "</style>\n",
       "<table border=\"1\" class=\"dataframe\">\n",
       "  <thead>\n",
       "    <tr style=\"text-align: right;\">\n",
       "      <th></th>\n",
       "      <th>Endkunde_NR</th>\n",
       "      <th>Erste_Buchung_Delta</th>\n",
       "      <th>Letzte_Buchung_Delta</th>\n",
       "      <th>Erste_Letzte_Buchung_Delta</th>\n",
       "      <th>Netto_Sum_Aus_RY_0_KW_1</th>\n",
       "      <th>Netto_Sum_Aus_RY_0_KW_11</th>\n",
       "      <th>Netto_Sum_Aus_RY_0_KW_13</th>\n",
       "      <th>Netto_Sum_Aus_RY_0_KW_15</th>\n",
       "      <th>Netto_Sum_Aus_RY_0_KW_17</th>\n",
       "      <th>Netto_Sum_Aus_RY_0_KW_19</th>\n",
       "      <th>...</th>\n",
       "      <th>B765</th>\n",
       "      <th>B780</th>\n",
       "      <th>B795</th>\n",
       "      <th>B800</th>\n",
       "      <th>B901</th>\n",
       "      <th>B950</th>\n",
       "      <th>B960</th>\n",
       "      <th>B970</th>\n",
       "      <th>B980</th>\n",
       "      <th>B990</th>\n",
       "    </tr>\n",
       "  </thead>\n",
       "  <tbody>\n",
       "    <tr>\n",
       "      <th>count</th>\n",
       "      <td>18043.000000</td>\n",
       "      <td>18043.000000</td>\n",
       "      <td>18043.000000</td>\n",
       "      <td>18043.000000</td>\n",
       "      <td>18043.000000</td>\n",
       "      <td>18043.000000</td>\n",
       "      <td>18043.000000</td>\n",
       "      <td>18043.000000</td>\n",
       "      <td>18043.000000</td>\n",
       "      <td>18043.000000</td>\n",
       "      <td>...</td>\n",
       "      <td>18043.000000</td>\n",
       "      <td>18043.000000</td>\n",
       "      <td>18043.000000</td>\n",
       "      <td>18043.000000</td>\n",
       "      <td>18043.000000</td>\n",
       "      <td>18043.000000</td>\n",
       "      <td>18043.000000</td>\n",
       "      <td>18043.000000</td>\n",
       "      <td>18043.000000</td>\n",
       "      <td>18043.00000</td>\n",
       "    </tr>\n",
       "    <tr>\n",
       "      <th>mean</th>\n",
       "      <td>498008.869201</td>\n",
       "      <td>0.385122</td>\n",
       "      <td>0.218744</td>\n",
       "      <td>0.320704</td>\n",
       "      <td>0.029308</td>\n",
       "      <td>0.016562</td>\n",
       "      <td>0.029451</td>\n",
       "      <td>0.015312</td>\n",
       "      <td>0.028634</td>\n",
       "      <td>0.016268</td>\n",
       "      <td>...</td>\n",
       "      <td>0.002827</td>\n",
       "      <td>0.042066</td>\n",
       "      <td>0.014798</td>\n",
       "      <td>0.021781</td>\n",
       "      <td>0.033697</td>\n",
       "      <td>0.020728</td>\n",
       "      <td>0.112842</td>\n",
       "      <td>0.005487</td>\n",
       "      <td>0.032755</td>\n",
       "      <td>0.17680</td>\n",
       "    </tr>\n",
       "    <tr>\n",
       "      <th>std</th>\n",
       "      <td>187832.419957</td>\n",
       "      <td>0.294898</td>\n",
       "      <td>0.248461</td>\n",
       "      <td>0.340630</td>\n",
       "      <td>0.133487</td>\n",
       "      <td>0.102479</td>\n",
       "      <td>0.134181</td>\n",
       "      <td>0.097394</td>\n",
       "      <td>0.131965</td>\n",
       "      <td>0.098747</td>\n",
       "      <td>...</td>\n",
       "      <td>0.053092</td>\n",
       "      <td>0.200746</td>\n",
       "      <td>0.120747</td>\n",
       "      <td>0.145973</td>\n",
       "      <td>0.180454</td>\n",
       "      <td>0.142477</td>\n",
       "      <td>0.316408</td>\n",
       "      <td>0.073872</td>\n",
       "      <td>0.178000</td>\n",
       "      <td>0.38151</td>\n",
       "    </tr>\n",
       "    <tr>\n",
       "      <th>min</th>\n",
       "      <td>100034.000000</td>\n",
       "      <td>0.000000</td>\n",
       "      <td>0.000000</td>\n",
       "      <td>0.000000</td>\n",
       "      <td>0.000000</td>\n",
       "      <td>0.000000</td>\n",
       "      <td>0.000000</td>\n",
       "      <td>0.000000</td>\n",
       "      <td>0.000000</td>\n",
       "      <td>0.000000</td>\n",
       "      <td>...</td>\n",
       "      <td>0.000000</td>\n",
       "      <td>0.000000</td>\n",
       "      <td>0.000000</td>\n",
       "      <td>0.000000</td>\n",
       "      <td>0.000000</td>\n",
       "      <td>0.000000</td>\n",
       "      <td>0.000000</td>\n",
       "      <td>0.000000</td>\n",
       "      <td>0.000000</td>\n",
       "      <td>0.00000</td>\n",
       "    </tr>\n",
       "    <tr>\n",
       "      <th>25%</th>\n",
       "      <td>478437.000000</td>\n",
       "      <td>0.166667</td>\n",
       "      <td>0.000000</td>\n",
       "      <td>0.000000</td>\n",
       "      <td>0.000000</td>\n",
       "      <td>0.000000</td>\n",
       "      <td>0.000000</td>\n",
       "      <td>0.000000</td>\n",
       "      <td>0.000000</td>\n",
       "      <td>0.000000</td>\n",
       "      <td>...</td>\n",
       "      <td>0.000000</td>\n",
       "      <td>0.000000</td>\n",
       "      <td>0.000000</td>\n",
       "      <td>0.000000</td>\n",
       "      <td>0.000000</td>\n",
       "      <td>0.000000</td>\n",
       "      <td>0.000000</td>\n",
       "      <td>0.000000</td>\n",
       "      <td>0.000000</td>\n",
       "      <td>0.00000</td>\n",
       "    </tr>\n",
       "    <tr>\n",
       "      <th>50%</th>\n",
       "      <td>586672.000000</td>\n",
       "      <td>0.333333</td>\n",
       "      <td>0.200000</td>\n",
       "      <td>0.181818</td>\n",
       "      <td>0.000000</td>\n",
       "      <td>0.000000</td>\n",
       "      <td>0.000000</td>\n",
       "      <td>0.000000</td>\n",
       "      <td>0.000000</td>\n",
       "      <td>0.000000</td>\n",
       "      <td>...</td>\n",
       "      <td>0.000000</td>\n",
       "      <td>0.000000</td>\n",
       "      <td>0.000000</td>\n",
       "      <td>0.000000</td>\n",
       "      <td>0.000000</td>\n",
       "      <td>0.000000</td>\n",
       "      <td>0.000000</td>\n",
       "      <td>0.000000</td>\n",
       "      <td>0.000000</td>\n",
       "      <td>0.00000</td>\n",
       "    </tr>\n",
       "    <tr>\n",
       "      <th>75%</th>\n",
       "      <td>627169.000000</td>\n",
       "      <td>0.666667</td>\n",
       "      <td>0.400000</td>\n",
       "      <td>0.636364</td>\n",
       "      <td>0.000000</td>\n",
       "      <td>0.000000</td>\n",
       "      <td>0.000000</td>\n",
       "      <td>0.000000</td>\n",
       "      <td>0.000000</td>\n",
       "      <td>0.000000</td>\n",
       "      <td>...</td>\n",
       "      <td>0.000000</td>\n",
       "      <td>0.000000</td>\n",
       "      <td>0.000000</td>\n",
       "      <td>0.000000</td>\n",
       "      <td>0.000000</td>\n",
       "      <td>0.000000</td>\n",
       "      <td>0.000000</td>\n",
       "      <td>0.000000</td>\n",
       "      <td>0.000000</td>\n",
       "      <td>0.00000</td>\n",
       "    </tr>\n",
       "    <tr>\n",
       "      <th>max</th>\n",
       "      <td>659388.000000</td>\n",
       "      <td>1.000000</td>\n",
       "      <td>1.000000</td>\n",
       "      <td>1.000000</td>\n",
       "      <td>1.000000</td>\n",
       "      <td>1.000000</td>\n",
       "      <td>1.000000</td>\n",
       "      <td>1.000000</td>\n",
       "      <td>1.000000</td>\n",
       "      <td>1.000000</td>\n",
       "      <td>...</td>\n",
       "      <td>1.000000</td>\n",
       "      <td>1.000000</td>\n",
       "      <td>1.000000</td>\n",
       "      <td>1.000000</td>\n",
       "      <td>1.000000</td>\n",
       "      <td>1.000000</td>\n",
       "      <td>1.000000</td>\n",
       "      <td>1.000000</td>\n",
       "      <td>1.000000</td>\n",
       "      <td>1.00000</td>\n",
       "    </tr>\n",
       "  </tbody>\n",
       "</table>\n",
       "<p>8 rows × 305 columns</p>\n",
       "</div>"
      ],
      "text/plain": [
       "         Endkunde_NR  Erste_Buchung_Delta  Letzte_Buchung_Delta  \\\n",
       "count   18043.000000         18043.000000          18043.000000   \n",
       "mean   498008.869201             0.385122              0.218744   \n",
       "std    187832.419957             0.294898              0.248461   \n",
       "min    100034.000000             0.000000              0.000000   \n",
       "25%    478437.000000             0.166667              0.000000   \n",
       "50%    586672.000000             0.333333              0.200000   \n",
       "75%    627169.000000             0.666667              0.400000   \n",
       "max    659388.000000             1.000000              1.000000   \n",
       "\n",
       "       Erste_Letzte_Buchung_Delta  Netto_Sum_Aus_RY_0_KW_1  \\\n",
       "count                18043.000000             18043.000000   \n",
       "mean                     0.320704                 0.029308   \n",
       "std                      0.340630                 0.133487   \n",
       "min                      0.000000                 0.000000   \n",
       "25%                      0.000000                 0.000000   \n",
       "50%                      0.181818                 0.000000   \n",
       "75%                      0.636364                 0.000000   \n",
       "max                      1.000000                 1.000000   \n",
       "\n",
       "       Netto_Sum_Aus_RY_0_KW_11  Netto_Sum_Aus_RY_0_KW_13  \\\n",
       "count              18043.000000              18043.000000   \n",
       "mean                   0.016562                  0.029451   \n",
       "std                    0.102479                  0.134181   \n",
       "min                    0.000000                  0.000000   \n",
       "25%                    0.000000                  0.000000   \n",
       "50%                    0.000000                  0.000000   \n",
       "75%                    0.000000                  0.000000   \n",
       "max                    1.000000                  1.000000   \n",
       "\n",
       "       Netto_Sum_Aus_RY_0_KW_15  Netto_Sum_Aus_RY_0_KW_17  \\\n",
       "count              18043.000000              18043.000000   \n",
       "mean                   0.015312                  0.028634   \n",
       "std                    0.097394                  0.131965   \n",
       "min                    0.000000                  0.000000   \n",
       "25%                    0.000000                  0.000000   \n",
       "50%                    0.000000                  0.000000   \n",
       "75%                    0.000000                  0.000000   \n",
       "max                    1.000000                  1.000000   \n",
       "\n",
       "       Netto_Sum_Aus_RY_0_KW_19  ...          B765          B780  \\\n",
       "count              18043.000000  ...  18043.000000  18043.000000   \n",
       "mean                   0.016268  ...      0.002827      0.042066   \n",
       "std                    0.098747  ...      0.053092      0.200746   \n",
       "min                    0.000000  ...      0.000000      0.000000   \n",
       "25%                    0.000000  ...      0.000000      0.000000   \n",
       "50%                    0.000000  ...      0.000000      0.000000   \n",
       "75%                    0.000000  ...      0.000000      0.000000   \n",
       "max                    1.000000  ...      1.000000      1.000000   \n",
       "\n",
       "               B795          B800          B901          B950          B960  \\\n",
       "count  18043.000000  18043.000000  18043.000000  18043.000000  18043.000000   \n",
       "mean       0.014798      0.021781      0.033697      0.020728      0.112842   \n",
       "std        0.120747      0.145973      0.180454      0.142477      0.316408   \n",
       "min        0.000000      0.000000      0.000000      0.000000      0.000000   \n",
       "25%        0.000000      0.000000      0.000000      0.000000      0.000000   \n",
       "50%        0.000000      0.000000      0.000000      0.000000      0.000000   \n",
       "75%        0.000000      0.000000      0.000000      0.000000      0.000000   \n",
       "max        1.000000      1.000000      1.000000      1.000000      1.000000   \n",
       "\n",
       "               B970          B980         B990  \n",
       "count  18043.000000  18043.000000  18043.00000  \n",
       "mean       0.005487      0.032755      0.17680  \n",
       "std        0.073872      0.178000      0.38151  \n",
       "min        0.000000      0.000000      0.00000  \n",
       "25%        0.000000      0.000000      0.00000  \n",
       "50%        0.000000      0.000000      0.00000  \n",
       "75%        0.000000      0.000000      0.00000  \n",
       "max        1.000000      1.000000      1.00000  \n",
       "\n",
       "[8 rows x 305 columns]"
      ]
     },
     "metadata": {},
     "output_type": "display_data"
    }
   ],
   "source": [
    "print(\"\\ntraining_all\\n\")\n",
    "display(training_all.describe())\n",
    "print(\"\\nscoring_all\\n\")\n",
    "display(scoring_all.describe())"
   ]
  },
  {
   "cell_type": "code",
   "execution_count": 9,
   "metadata": {},
   "outputs": [
    {
     "data": {
      "text/html": [
       "<div>\n",
       "<style scoped>\n",
       "    .dataframe tbody tr th:only-of-type {\n",
       "        vertical-align: middle;\n",
       "    }\n",
       "\n",
       "    .dataframe tbody tr th {\n",
       "        vertical-align: top;\n",
       "    }\n",
       "\n",
       "    .dataframe thead th {\n",
       "        text-align: right;\n",
       "    }\n",
       "</style>\n",
       "<table border=\"1\" class=\"dataframe\">\n",
       "  <thead>\n",
       "    <tr style=\"text-align: right;\">\n",
       "      <th></th>\n",
       "      <th>DTYPE</th>\n",
       "      <th>NULLS</th>\n",
       "      <th>UNIQUE</th>\n",
       "    </tr>\n",
       "  </thead>\n",
       "  <tbody>\n",
       "    <tr>\n",
       "      <th>B105</th>\n",
       "      <td>int64</td>\n",
       "      <td>0/18043</td>\n",
       "      <td>2</td>\n",
       "    </tr>\n",
       "    <tr>\n",
       "      <th>B110</th>\n",
       "      <td>int64</td>\n",
       "      <td>0/18043</td>\n",
       "      <td>2</td>\n",
       "    </tr>\n",
       "    <tr>\n",
       "      <th>B115</th>\n",
       "      <td>int64</td>\n",
       "      <td>0/18043</td>\n",
       "      <td>2</td>\n",
       "    </tr>\n",
       "    <tr>\n",
       "      <th>B116</th>\n",
       "      <td>int64</td>\n",
       "      <td>0/18043</td>\n",
       "      <td>2</td>\n",
       "    </tr>\n",
       "    <tr>\n",
       "      <th>B120</th>\n",
       "      <td>int64</td>\n",
       "      <td>0/18043</td>\n",
       "      <td>2</td>\n",
       "    </tr>\n",
       "    <tr>\n",
       "      <th>B125</th>\n",
       "      <td>int64</td>\n",
       "      <td>0/18043</td>\n",
       "      <td>2</td>\n",
       "    </tr>\n",
       "    <tr>\n",
       "      <th>B130</th>\n",
       "      <td>int64</td>\n",
       "      <td>0/18043</td>\n",
       "      <td>2</td>\n",
       "    </tr>\n",
       "    <tr>\n",
       "      <th>B135</th>\n",
       "      <td>int64</td>\n",
       "      <td>0/18043</td>\n",
       "      <td>2</td>\n",
       "    </tr>\n",
       "    <tr>\n",
       "      <th>B140</th>\n",
       "      <td>int64</td>\n",
       "      <td>0/18043</td>\n",
       "      <td>2</td>\n",
       "    </tr>\n",
       "    <tr>\n",
       "      <th>B145</th>\n",
       "      <td>int64</td>\n",
       "      <td>0/18043</td>\n",
       "      <td>2</td>\n",
       "    </tr>\n",
       "    <tr>\n",
       "      <th>B150</th>\n",
       "      <td>int64</td>\n",
       "      <td>0/18043</td>\n",
       "      <td>2</td>\n",
       "    </tr>\n",
       "    <tr>\n",
       "      <th>B155</th>\n",
       "      <td>int64</td>\n",
       "      <td>0/18043</td>\n",
       "      <td>2</td>\n",
       "    </tr>\n",
       "    <tr>\n",
       "      <th>B160</th>\n",
       "      <td>int64</td>\n",
       "      <td>0/18043</td>\n",
       "      <td>2</td>\n",
       "    </tr>\n",
       "    <tr>\n",
       "      <th>B165</th>\n",
       "      <td>int64</td>\n",
       "      <td>0/18043</td>\n",
       "      <td>2</td>\n",
       "    </tr>\n",
       "    <tr>\n",
       "      <th>B170</th>\n",
       "      <td>int64</td>\n",
       "      <td>0/18043</td>\n",
       "      <td>2</td>\n",
       "    </tr>\n",
       "    <tr>\n",
       "      <th>B185</th>\n",
       "      <td>int64</td>\n",
       "      <td>0/18043</td>\n",
       "      <td>2</td>\n",
       "    </tr>\n",
       "    <tr>\n",
       "      <th>B195</th>\n",
       "      <td>int64</td>\n",
       "      <td>0/18043</td>\n",
       "      <td>2</td>\n",
       "    </tr>\n",
       "    <tr>\n",
       "      <th>B225</th>\n",
       "      <td>int64</td>\n",
       "      <td>0/18043</td>\n",
       "      <td>2</td>\n",
       "    </tr>\n",
       "    <tr>\n",
       "      <th>B230</th>\n",
       "      <td>int64</td>\n",
       "      <td>0/18043</td>\n",
       "      <td>2</td>\n",
       "    </tr>\n",
       "    <tr>\n",
       "      <th>B240</th>\n",
       "      <td>int64</td>\n",
       "      <td>0/18043</td>\n",
       "      <td>2</td>\n",
       "    </tr>\n",
       "    <tr>\n",
       "      <th>B241</th>\n",
       "      <td>int64</td>\n",
       "      <td>0/18043</td>\n",
       "      <td>2</td>\n",
       "    </tr>\n",
       "    <tr>\n",
       "      <th>B290</th>\n",
       "      <td>int64</td>\n",
       "      <td>0/18043</td>\n",
       "      <td>2</td>\n",
       "    </tr>\n",
       "    <tr>\n",
       "      <th>B295</th>\n",
       "      <td>int64</td>\n",
       "      <td>0/18043</td>\n",
       "      <td>2</td>\n",
       "    </tr>\n",
       "    <tr>\n",
       "      <th>B325</th>\n",
       "      <td>int64</td>\n",
       "      <td>0/18043</td>\n",
       "      <td>2</td>\n",
       "    </tr>\n",
       "    <tr>\n",
       "      <th>B330</th>\n",
       "      <td>int64</td>\n",
       "      <td>0/18043</td>\n",
       "      <td>2</td>\n",
       "    </tr>\n",
       "    <tr>\n",
       "      <th>B332</th>\n",
       "      <td>int64</td>\n",
       "      <td>0/18043</td>\n",
       "      <td>2</td>\n",
       "    </tr>\n",
       "    <tr>\n",
       "      <th>B334</th>\n",
       "      <td>int64</td>\n",
       "      <td>0/18043</td>\n",
       "      <td>2</td>\n",
       "    </tr>\n",
       "    <tr>\n",
       "      <th>B339</th>\n",
       "      <td>int64</td>\n",
       "      <td>0/18043</td>\n",
       "      <td>2</td>\n",
       "    </tr>\n",
       "    <tr>\n",
       "      <th>B349</th>\n",
       "      <td>int64</td>\n",
       "      <td>0/18043</td>\n",
       "      <td>2</td>\n",
       "    </tr>\n",
       "    <tr>\n",
       "      <th>B350</th>\n",
       "      <td>int64</td>\n",
       "      <td>0/18043</td>\n",
       "      <td>2</td>\n",
       "    </tr>\n",
       "    <tr>\n",
       "      <th>...</th>\n",
       "      <td>...</td>\n",
       "      <td>...</td>\n",
       "      <td>...</td>\n",
       "    </tr>\n",
       "    <tr>\n",
       "      <th>B460</th>\n",
       "      <td>int64</td>\n",
       "      <td>0/18043</td>\n",
       "      <td>2</td>\n",
       "    </tr>\n",
       "    <tr>\n",
       "      <th>B464</th>\n",
       "      <td>int64</td>\n",
       "      <td>0/18043</td>\n",
       "      <td>2</td>\n",
       "    </tr>\n",
       "    <tr>\n",
       "      <th>B465</th>\n",
       "      <td>int64</td>\n",
       "      <td>0/18043</td>\n",
       "      <td>2</td>\n",
       "    </tr>\n",
       "    <tr>\n",
       "      <th>B466</th>\n",
       "      <td>int64</td>\n",
       "      <td>0/18043</td>\n",
       "      <td>2</td>\n",
       "    </tr>\n",
       "    <tr>\n",
       "      <th>B468</th>\n",
       "      <td>int64</td>\n",
       "      <td>0/18043</td>\n",
       "      <td>2</td>\n",
       "    </tr>\n",
       "    <tr>\n",
       "      <th>B469</th>\n",
       "      <td>int64</td>\n",
       "      <td>0/18043</td>\n",
       "      <td>2</td>\n",
       "    </tr>\n",
       "    <tr>\n",
       "      <th>B470</th>\n",
       "      <td>int64</td>\n",
       "      <td>0/18043</td>\n",
       "      <td>2</td>\n",
       "    </tr>\n",
       "    <tr>\n",
       "      <th>B475</th>\n",
       "      <td>int64</td>\n",
       "      <td>0/18043</td>\n",
       "      <td>2</td>\n",
       "    </tr>\n",
       "    <tr>\n",
       "      <th>B503</th>\n",
       "      <td>int64</td>\n",
       "      <td>0/18043</td>\n",
       "      <td>2</td>\n",
       "    </tr>\n",
       "    <tr>\n",
       "      <th>B504</th>\n",
       "      <td>int64</td>\n",
       "      <td>0/18043</td>\n",
       "      <td>2</td>\n",
       "    </tr>\n",
       "    <tr>\n",
       "      <th>B508</th>\n",
       "      <td>int64</td>\n",
       "      <td>0/18043</td>\n",
       "      <td>2</td>\n",
       "    </tr>\n",
       "    <tr>\n",
       "      <th>B509</th>\n",
       "      <td>int64</td>\n",
       "      <td>0/18043</td>\n",
       "      <td>2</td>\n",
       "    </tr>\n",
       "    <tr>\n",
       "      <th>B535</th>\n",
       "      <td>int64</td>\n",
       "      <td>0/18043</td>\n",
       "      <td>2</td>\n",
       "    </tr>\n",
       "    <tr>\n",
       "      <th>B555</th>\n",
       "      <td>int64</td>\n",
       "      <td>0/18043</td>\n",
       "      <td>2</td>\n",
       "    </tr>\n",
       "    <tr>\n",
       "      <th>B556</th>\n",
       "      <td>int64</td>\n",
       "      <td>0/18043</td>\n",
       "      <td>2</td>\n",
       "    </tr>\n",
       "    <tr>\n",
       "      <th>B575</th>\n",
       "      <td>int64</td>\n",
       "      <td>0/18043</td>\n",
       "      <td>2</td>\n",
       "    </tr>\n",
       "    <tr>\n",
       "      <th>B610</th>\n",
       "      <td>int64</td>\n",
       "      <td>0/18043</td>\n",
       "      <td>2</td>\n",
       "    </tr>\n",
       "    <tr>\n",
       "      <th>B695</th>\n",
       "      <td>int64</td>\n",
       "      <td>0/18043</td>\n",
       "      <td>2</td>\n",
       "    </tr>\n",
       "    <tr>\n",
       "      <th>B705</th>\n",
       "      <td>int64</td>\n",
       "      <td>0/18043</td>\n",
       "      <td>2</td>\n",
       "    </tr>\n",
       "    <tr>\n",
       "      <th>B720</th>\n",
       "      <td>int64</td>\n",
       "      <td>0/18043</td>\n",
       "      <td>2</td>\n",
       "    </tr>\n",
       "    <tr>\n",
       "      <th>B765</th>\n",
       "      <td>int64</td>\n",
       "      <td>0/18043</td>\n",
       "      <td>2</td>\n",
       "    </tr>\n",
       "    <tr>\n",
       "      <th>B780</th>\n",
       "      <td>int64</td>\n",
       "      <td>0/18043</td>\n",
       "      <td>2</td>\n",
       "    </tr>\n",
       "    <tr>\n",
       "      <th>B795</th>\n",
       "      <td>int64</td>\n",
       "      <td>0/18043</td>\n",
       "      <td>2</td>\n",
       "    </tr>\n",
       "    <tr>\n",
       "      <th>B800</th>\n",
       "      <td>int64</td>\n",
       "      <td>0/18043</td>\n",
       "      <td>2</td>\n",
       "    </tr>\n",
       "    <tr>\n",
       "      <th>B901</th>\n",
       "      <td>int64</td>\n",
       "      <td>0/18043</td>\n",
       "      <td>2</td>\n",
       "    </tr>\n",
       "    <tr>\n",
       "      <th>B950</th>\n",
       "      <td>int64</td>\n",
       "      <td>0/18043</td>\n",
       "      <td>2</td>\n",
       "    </tr>\n",
       "    <tr>\n",
       "      <th>B960</th>\n",
       "      <td>int64</td>\n",
       "      <td>0/18043</td>\n",
       "      <td>2</td>\n",
       "    </tr>\n",
       "    <tr>\n",
       "      <th>B970</th>\n",
       "      <td>int64</td>\n",
       "      <td>0/18043</td>\n",
       "      <td>2</td>\n",
       "    </tr>\n",
       "    <tr>\n",
       "      <th>B980</th>\n",
       "      <td>int64</td>\n",
       "      <td>0/18043</td>\n",
       "      <td>2</td>\n",
       "    </tr>\n",
       "    <tr>\n",
       "      <th>B990</th>\n",
       "      <td>int64</td>\n",
       "      <td>0/18043</td>\n",
       "      <td>2</td>\n",
       "    </tr>\n",
       "  </tbody>\n",
       "</table>\n",
       "<p>83 rows × 3 columns</p>\n",
       "</div>"
      ],
      "text/plain": [
       "      DTYPE    NULLS UNIQUE\n",
       "B105  int64  0/18043      2\n",
       "B110  int64  0/18043      2\n",
       "B115  int64  0/18043      2\n",
       "B116  int64  0/18043      2\n",
       "B120  int64  0/18043      2\n",
       "B125  int64  0/18043      2\n",
       "B130  int64  0/18043      2\n",
       "B135  int64  0/18043      2\n",
       "B140  int64  0/18043      2\n",
       "B145  int64  0/18043      2\n",
       "B150  int64  0/18043      2\n",
       "B155  int64  0/18043      2\n",
       "B160  int64  0/18043      2\n",
       "B165  int64  0/18043      2\n",
       "B170  int64  0/18043      2\n",
       "B185  int64  0/18043      2\n",
       "B195  int64  0/18043      2\n",
       "B225  int64  0/18043      2\n",
       "B230  int64  0/18043      2\n",
       "B240  int64  0/18043      2\n",
       "B241  int64  0/18043      2\n",
       "B290  int64  0/18043      2\n",
       "B295  int64  0/18043      2\n",
       "B325  int64  0/18043      2\n",
       "B330  int64  0/18043      2\n",
       "B332  int64  0/18043      2\n",
       "B334  int64  0/18043      2\n",
       "B339  int64  0/18043      2\n",
       "B349  int64  0/18043      2\n",
       "B350  int64  0/18043      2\n",
       "...     ...      ...    ...\n",
       "B460  int64  0/18043      2\n",
       "B464  int64  0/18043      2\n",
       "B465  int64  0/18043      2\n",
       "B466  int64  0/18043      2\n",
       "B468  int64  0/18043      2\n",
       "B469  int64  0/18043      2\n",
       "B470  int64  0/18043      2\n",
       "B475  int64  0/18043      2\n",
       "B503  int64  0/18043      2\n",
       "B504  int64  0/18043      2\n",
       "B508  int64  0/18043      2\n",
       "B509  int64  0/18043      2\n",
       "B535  int64  0/18043      2\n",
       "B555  int64  0/18043      2\n",
       "B556  int64  0/18043      2\n",
       "B575  int64  0/18043      2\n",
       "B610  int64  0/18043      2\n",
       "B695  int64  0/18043      2\n",
       "B705  int64  0/18043      2\n",
       "B720  int64  0/18043      2\n",
       "B765  int64  0/18043      2\n",
       "B780  int64  0/18043      2\n",
       "B795  int64  0/18043      2\n",
       "B800  int64  0/18043      2\n",
       "B901  int64  0/18043      2\n",
       "B950  int64  0/18043      2\n",
       "B960  int64  0/18043      2\n",
       "B970  int64  0/18043      2\n",
       "B980  int64  0/18043      2\n",
       "B990  int64  0/18043      2\n",
       "\n",
       "[83 rows x 3 columns]"
      ]
     },
     "execution_count": 9,
     "metadata": {},
     "output_type": "execute_result"
    }
   ],
   "source": [
    "#desc_col(training_all.loc[:,feature_colnames_branchen])\n",
    "#desc_col(scoring_all.loc[:,feature_colnames_branchen])"
   ]
  },
  {
   "cell_type": "code",
   "execution_count": null,
   "metadata": {},
   "outputs": [],
   "source": [
    "temp_df = training_all\n",
    "print(\"Target_Res_flg == False\")\n",
    "boxplot_histogram(temp_df.loc[ temp_df.Target_Res_flg == False ,\"Erste_Buchung_Delta\"])\n",
    "print(\"Target_Res_flg == True\")\n",
    "boxplot_histogram(temp_df.loc[ temp_df.Target_Res_flg == True ,\"Erste_Buchung_Delta\"])\n",
    "\n",
    "print(\"Target_Res_flg == False\")\n",
    "boxplot_histogram(temp_df.loc[ temp_df.Target_Res_flg == False ,\"Letzte_Buchung_Delta\"])\n",
    "print(\"Target_Res_flg == True\")\n",
    "boxplot_histogram(temp_df.loc[ temp_df.Target_Res_flg == True ,\"Letzte_Buchung_Delta\"])\n",
    "\n",
    "\n",
    "print(\"Target_Res_flg == False\")\n",
    "boxplot_histogram(temp_df.loc[ temp_df.Target_Res_flg == False ,\"Erste_Letzte_Buchung_Delta\"])\n",
    "print(\"Target_Res_flg == True\")\n",
    "boxplot_histogram(temp_df.loc[ temp_df.Target_Res_flg == True ,\"Erste_Letzte_Buchung_Delta\"])"
   ]
  },
  {
   "cell_type": "markdown",
   "metadata": {
    "toc-hr-collapsed": false
   },
   "source": [
    "# Modeling"
   ]
  },
  {
   "cell_type": "markdown",
   "metadata": {},
   "source": [
    "## Define Columns: Features versus Targets"
   ]
  },
  {
   "cell_type": "code",
   "execution_count": 10,
   "metadata": {},
   "outputs": [],
   "source": [
    "from itertools import compress\n",
    "features = feature_colnames_bd + feature_colnames_dates + feature_colnames_branchen\n",
    "#feature_columns = list(compress(features,[\"Target\" not in s for s in features]))\n",
    "\n",
    "feature_columns_boolean = pd.Series(features).str.match('^Target')\n",
    "feature_columns = pd.Series(features).loc[~feature_columns_boolean]\n",
    "\n",
    "feature_columns_boolean = pd.Series(training_all.columns).str.match('^Target')\n",
    "target_columns = pd.Series(training_all.columns).loc[feature_columns_boolean]\n",
    "\n",
    "del feature_columns_boolean\n",
    "\n",
    "#target_columns  = list(compress(training_all.columns,[\"Target\" in s for s in training_all.columns]))"
   ]
  },
  {
   "cell_type": "code",
   "execution_count": 12,
   "metadata": {},
   "outputs": [
    {
     "name": "stdout",
     "output_type": "stream",
     "text": [
      "302\n",
      "214               Target_Aus_flg\n",
      "215               Target_Res_flg\n",
      "216    Target_Sum_Aus_RY_0_KW_39\n",
      "217    Target_Sum_Res_RY_0_KW_39\n",
      "dtype: object\n"
     ]
    }
   ],
   "source": [
    "print(len(feature_columns))\n",
    "print(target_columns)"
   ]
  },
  {
   "cell_type": "code",
   "execution_count": 13,
   "metadata": {},
   "outputs": [],
   "source": [
    "#[\"Target\" not in s for s in features]\n",
    "#features\n",
    "#feature_columns"
   ]
  },
  {
   "cell_type": "markdown",
   "metadata": {},
   "source": [
    "## Split ``training_all`` into training-set (``X_train``,``y_train``) and test-set (``X_test``,``y_test``)"
   ]
  },
  {
   "cell_type": "code",
   "execution_count": 14,
   "metadata": {},
   "outputs": [],
   "source": [
    "df_features = training_all.loc[:,feature_columns].to_numpy()\n",
    "df_target   = training_all.loc[:, \"Target_Res_flg\"].to_numpy()\n",
    "\n",
    "df_scoring_features = scoring_all.loc[:,feature_columns].to_numpy()"
   ]
  },
  {
   "cell_type": "code",
   "execution_count": 15,
   "metadata": {},
   "outputs": [],
   "source": [
    "from sklearn.model_selection import train_test_split\n",
    "\n",
    "X_train, X_test, y_train, y_test = train_test_split(\n",
    "    #df_features, df_target, train_size=0.80, random_state=42)\n",
    "    df_features, df_target, train_size=0.75, random_state=42)"
   ]
  },
  {
   "cell_type": "code",
   "execution_count": 16,
   "metadata": {},
   "outputs": [
    {
     "name": "stdout",
     "output_type": "stream",
     "text": [
      "Shape:\n",
      "X_train: (13502, 302)\n",
      "y_train: (13502,)\n",
      "X_test: (4501, 302)\n",
      "y_test: (4501,)\n",
      "\n",
      "df_scoring_features (18043, 302)\n"
     ]
    }
   ],
   "source": [
    "print(\"Shape:\")\n",
    "print(\"X_train:\", X_train.shape)\n",
    "print(\"y_train:\", y_train.shape)\n",
    "print(\"X_test:\", X_test.shape)\n",
    "print(\"y_test:\", y_test.shape)\n",
    "print(\"\\ndf_scoring_features\", df_scoring_features.shape)"
   ]
  },
  {
   "cell_type": "code",
   "execution_count": 17,
   "metadata": {},
   "outputs": [
    {
     "name": "stdout",
     "output_type": "stream",
     "text": [
      "y_train:\n",
      "0\n",
      "False    12994\n",
      "True       508\n",
      "Name: 0, dtype: int64\n",
      "DescribeResult(nobs=13502, minmax=(False, True), mean=0.037624055695452525, variance=0.0362111680399015, skewness=4.859818425043071, kurtosis=21.617835124388115)\n",
      "\n",
      "y_test:\n",
      "0\n",
      "False    4318\n",
      "True      183\n",
      "Name: 0, dtype: int64\n",
      "DescribeResult(nobs=4501, minmax=(False, True), mean=0.040657631637413906, variance=0.03901325631341183, skewness=4.651667351296826, kurtosis=19.638009147120837)\n"
     ]
    }
   ],
   "source": [
    "from scipy import stats\n",
    "print('y_train:')\n",
    "print(pd.DataFrame(y_train).groupby(0)[0].count())\n",
    "print(stats.describe(y_train))\n",
    "\n",
    "print('\\ny_test:')\n",
    "print(pd.DataFrame(y_test).groupby(0)[0].count())\n",
    "print(stats.describe(y_test))\n"
   ]
  },
  {
   "cell_type": "markdown",
   "metadata": {},
   "source": [
    "## Balance Training Dataset"
   ]
  },
  {
   "cell_type": "code",
   "execution_count": 18,
   "metadata": {},
   "outputs": [],
   "source": [
    "from imblearn.over_sampling import SMOTE\n",
    "#ros = RandomOverSampler(random_state=42)\n",
    "sm  = SMOTE(random_state=42)\n",
    "\n",
    "X_train_balanced, y_train_balanced = sm.fit_resample(X_train, y_train)"
   ]
  },
  {
   "cell_type": "code",
   "execution_count": 19,
   "metadata": {},
   "outputs": [
    {
     "name": "stdout",
     "output_type": "stream",
     "text": [
      "y_train_balanced:\n",
      "0\n",
      "False    12994\n",
      "True     12994\n",
      "Name: 0, dtype: int64\n",
      "DescribeResult(nobs=25988, minmax=(False, True), mean=0.5, variance=0.25000962019471273, skewness=0.0, kurtosis=-2.0)\n"
     ]
    }
   ],
   "source": [
    "print('y_train_balanced:')\n",
    "print(pd.DataFrame(y_train_balanced).groupby(0)[0].count())\n",
    "print(stats.describe(y_train_balanced))"
   ]
  },
  {
   "cell_type": "markdown",
   "metadata": {},
   "source": [
    "## Feature selection: SelectkBest"
   ]
  },
  {
   "cell_type": "markdown",
   "metadata": {},
   "source": [
    "``SelectPercentile`` removes all but a user-specified highest scoring percentage of features.\n",
    "\n",
    "https://scikit-learn.org/stable/modules/generated/sklearn.feature_selection.SelectPercentile.html"
   ]
  },
  {
   "cell_type": "code",
   "execution_count": 20,
   "metadata": {},
   "outputs": [],
   "source": [
    "#from sklearn.feature_selection import SelectPercentile\n",
    "from sklearn.feature_selection import SelectKBest\n",
    "from sklearn.feature_selection import f_classif # ANOVA F-value\n",
    "from sklearn.feature_selection import mutual_info_classif\n",
    "from itertools import compress"
   ]
  },
  {
   "cell_type": "code",
   "execution_count": 21,
   "metadata": {},
   "outputs": [
    {
     "name": "stdout",
     "output_type": "stream",
     "text": [
      "Wall time: 49.1 s\n"
     ]
    }
   ],
   "source": [
    "%%time\n",
    "#Wall time: 38.1 s\n",
    "\n",
    "# use f_classif (the default) and SelectPercentile to select 50% of features\n",
    "\"\"\"\n",
    "select = SelectPercentile(score_func=mutual_info_classif,\n",
    "                          percentile=100)\n",
    "\"\"\"\n",
    "select = SelectKBest(score_func=mutual_info_classif,\n",
    "            k=100 # How many features? (currently 219 is max)\n",
    "            )\n",
    "select.fit(X_train_balanced, y_train_balanced)\n",
    "\n",
    "mask = select.get_support() # boolean array."
   ]
  },
  {
   "cell_type": "code",
   "execution_count": 22,
   "metadata": {},
   "outputs": [
    {
     "name": "stdout",
     "output_type": "stream",
     "text": [
      "X_train_balanced.shape: (25988, 302)\n",
      "X_train_balanced[:,mask].shape: (25988, 100)\n"
     ]
    }
   ],
   "source": [
    "print(\"X_train_balanced.shape: {}\".format(X_train_balanced.shape))\n",
    "print(\"X_train_balanced[:,mask].shape: {}\".format(X_train_balanced[:,mask].shape))"
   ]
  },
  {
   "cell_type": "code",
   "execution_count": 23,
   "metadata": {},
   "outputs": [],
   "source": [
    "feature_columns  = feature_columns.loc[mask]\n",
    "X_train_balanced = X_train_balanced[:,mask]\n",
    "X_train          = X_train[:,mask]\n",
    "X_test           = X_test[:,mask]\n",
    "X_scoring        = df_scoring_features[:,mask]"
   ]
  },
  {
   "cell_type": "code",
   "execution_count": 24,
   "metadata": {},
   "outputs": [
    {
     "name": "stdout",
     "output_type": "stream",
     "text": [
      "X_scoring: (18043, 100)\n"
     ]
    }
   ],
   "source": [
    "print(\"X_scoring:\",X_scoring.shape)"
   ]
  },
  {
   "cell_type": "markdown",
   "metadata": {
    "toc-hr-collapsed": false
   },
   "source": [
    "## Model Training"
   ]
  },
  {
   "cell_type": "markdown",
   "metadata": {
    "toc-hr-collapsed": false
   },
   "source": [
    "### Logistic Regression (base model)"
   ]
  },
  {
   "cell_type": "code",
   "execution_count": 25,
   "metadata": {},
   "outputs": [],
   "source": [
    "from sklearn.linear_model import LogisticRegression"
   ]
  },
  {
   "cell_type": "code",
   "execution_count": 26,
   "metadata": {},
   "outputs": [
    {
     "name": "stdout",
     "output_type": "stream",
     "text": [
      "Training set score: 0.853\n",
      "Test set score: 0.914\n",
      "Wall time: 533 ms\n"
     ]
    }
   ],
   "source": [
    "%%time\n",
    "# Wall time: 1min 13s\n",
    "logreg_C1000 = LogisticRegression(n_jobs=-1,\n",
    "                               solver=\"sag\",\n",
    "                               max_iter=100000,\n",
    "                               C=1000 #adjustable, bigger mean less restriction on coefficients\n",
    "                              ).fit(X_train_balanced, y_train_balanced) # bigger C\n",
    "\n",
    "print(\"Training set score: {:.3f}\".format(logreg_C1000.score(X_train_balanced, y_train_balanced)))\n",
    "print(\"Test set score: {:.3f}\".format(logreg_C1000.score(X_test, y_test)))"
   ]
  },
  {
   "cell_type": "code",
   "execution_count": 27,
   "metadata": {},
   "outputs": [
    {
     "name": "stdout",
     "output_type": "stream",
     "text": [
      "Training set score: 0.811\n",
      "Test set score: 0.913\n",
      "Wall time: 326 ms\n"
     ]
    }
   ],
   "source": [
    "%%time\n",
    "# Wall time: 543 ms\n",
    "logreg_C0001 = LogisticRegression(n_jobs=-1,\n",
    "                               solver=\"sag\",\n",
    "                               max_iter=100000,\n",
    "                               C=0.001 #adjustable, bigger mean less restriction on coefficients\n",
    "                              ).fit(X_train_balanced, y_train_balanced) # bigger C\n",
    "\n",
    "print(\"Training set score: {:.3f}\".format(logreg_C0001.score(X_train_balanced, y_train_balanced)))\n",
    "print(\"Test set score: {:.3f}\".format(logreg_C0001.score(X_test, y_test)))"
   ]
  },
  {
   "cell_type": "markdown",
   "metadata": {},
   "source": [
    "#### Plot Coefficients"
   ]
  },
  {
   "cell_type": "code",
   "execution_count": 28,
   "metadata": {},
   "outputs": [
    {
     "data": {
      "image/png": "[encoded data removed]",
      "text/plain": [
       "<Figure size 5040x720 with 1 Axes>"
      ]
     },
     "metadata": {
      "needs_background": "light"
     },
     "output_type": "display_data"
    }
   ],
   "source": [
    "# %% Plot: Compare LogReg-coefficients for different C (1000, 0.001)\n",
    "plt.figure(figsize=(70,10))\n",
    "plt.grid()\n",
    "plt.plot(logreg_C0001.coef_.T, '^', label=\"C=0.001\")\n",
    "plt.plot(logreg_C1000.coef_.T,    'o', label=\"C=1000\")\n",
    "plt.xticks(range(len(feature_columns)), feature_columns, rotation=90)\n",
    "plt.hlines(0, 0, len(feature_columns))\n",
    "plt.ylim(min(logreg_C1000.coef_.T), max(logreg_C1000.coef_.T))\n",
    "plt.xlabel(\"Feature\")\n",
    "plt.ylabel(\"Coefficient magnitude\")\n",
    "plt.legend()\n",
    "plt.savefig('this_is_a_test.png')"
   ]
  },
  {
   "cell_type": "code",
   "execution_count": 29,
   "metadata": {},
   "outputs": [
    {
     "data": {
      "image/png": "[encoded data removed]",
      "text/plain": [
       "<Figure size 5040x720 with 1 Axes>"
      ]
     },
     "metadata": {
      "needs_background": "light"
     },
     "output_type": "display_data"
    }
   ],
   "source": [
    "test_df = pd.DataFrame(data={'feature': pd.Series(feature_columns), \n",
    "                             'C1000': list(logreg_C1000.coef_.T),\n",
    "                            'C0001': list(logreg_C0001.coef_.T)})\n",
    "test_df = test_df.sort_values(by=['C1000']).reset_index()\n",
    "\n",
    "# %% Plot: Compare LogReg-coefficients for different C (1000, 0.001)\n",
    "plt.figure(figsize=(70,10))\n",
    "plt.grid()\n",
    "plt.plot(test_df.loc[:,'C0001'], '^', label=\"C=0.001\")\n",
    "plt.plot(test_df.loc[:,'C1000'], 'o', label=\"C=1000\")\n",
    "plt.xticks(range(len(feature_columns)), test_df.loc[:,'feature'], rotation=90)\n",
    "plt.hlines(0, 0, len(feature_columns))\n",
    "plt.ylim(min(logreg_C1000.coef_.T), max(logreg_C1000.coef_.T))\n",
    "plt.xlabel(\"Feature\")\n",
    "plt.ylabel(\"Coefficient magnitude\")\n",
    "plt.legend()\n",
    "plt.savefig('this_is_a_test.png')"
   ]
  },
  {
   "cell_type": "markdown",
   "metadata": {},
   "source": [
    "### Model Training: Random Forest"
   ]
  },
  {
   "cell_type": "code",
   "execution_count": 30,
   "metadata": {},
   "outputs": [],
   "source": [
    "from sklearn.ensemble import RandomForestClassifier"
   ]
  },
  {
   "cell_type": "code",
   "execution_count": null,
   "metadata": {},
   "outputs": [],
   "source": [
    "%%time \n",
    "# Wall time: 1min 50s\n",
    "forest_01 = RandomForestClassifier(n_estimators=10000,\n",
    "                                max_depth=10,\n",
    "                                random_state=42,\n",
    "                                n_jobs=-1)\n",
    "forest_01.fit(X_train_balanced, y_train_balanced)\n",
    "\n",
    "# %% Validate Accuracy\n",
    "print(\"Accuracy on training set: {:.3f}\".format(forest_01.score(X_train_balanced,y_train_balanced)))\n",
    "print(\"Accuracy on test set: {:.3f}\".format(forest_01.score(X_test,     y_test)))"
   ]
  },
  {
   "cell_type": "code",
   "execution_count": null,
   "metadata": {},
   "outputs": [],
   "source": [
    "# %% Plot: Feature importance\n",
    "def plot_feature_importances(model,feature_columns,figsize=(20,100)):\n",
    "    from operator import itemgetter\n",
    "    dict_feature_importance = sorted(dict(zip(feature_columns,model.feature_importances_)).items(), key=itemgetter(1))\n",
    "    n_features              = len(feature_columns)\n",
    "    \n",
    "    plt.figure(figsize=figsize)\n",
    "    plt.grid()\n",
    "    plt.barh(np.arange(n_features),\n",
    "             [y for (x,y) in dict_feature_importance],\n",
    "             align='center')\n",
    "    plt.yticks(np.arange(n_features), [x for (x,y) in dict_feature_importance])\n",
    "    plt.xlabel(\"Feature importance\")\n",
    "    plt.ylabel(\"Feature\")\n",
    "    plt.ylim(-1, n_features)\n",
    "    plt.show()"
   ]
  },
  {
   "cell_type": "code",
   "execution_count": null,
   "metadata": {},
   "outputs": [],
   "source": [
    "plot_feature_importances(forest_01,feature_columns)"
   ]
  },
  {
   "cell_type": "markdown",
   "metadata": {
    "toc-hr-collapsed": false
   },
   "source": [
    "# Model Validation"
   ]
  },
  {
   "cell_type": "markdown",
   "metadata": {},
   "source": [
    "## Confusion Matrix"
   ]
  },
  {
   "cell_type": "code",
   "execution_count": null,
   "metadata": {},
   "outputs": [],
   "source": [
    "from sklearn.metrics import confusion_matrix"
   ]
  },
  {
   "cell_type": "code",
   "execution_count": null,
   "metadata": {},
   "outputs": [],
   "source": [
    "%%time\n",
    "\n",
    "def confusion_matrices(X_test,y_test):\n",
    "    global pred_forest_01, pred_logreg_C0001, pred_logreg_C1000\n",
    "    \n",
    "    pred_forest_01          = forest_01.predict(X_test)\n",
    "    pred_logreg_C0001       = logreg_C0001.predict(X_test)\n",
    "    pred_logreg_C1000       = logreg_C1000.predict(X_test)\n",
    "\n",
    "\n",
    "    # Wall time: 20.9ms\n",
    "\n",
    "    confusion_logreg_C0001       = confusion_matrix(y_test, pred_logreg_C0001)\n",
    "    df_confusion_logreg_C0001    = pd.DataFrame(confusion_logreg_C0001, index=[\"Fact 0\", \"Fact 1\"], columns=[\"Pred 0\",\"Pred 1\"])\n",
    "\n",
    "    confusion_logreg_C1000       = confusion_matrix(y_test, pred_logreg_C1000)\n",
    "    df_confusion_logreg_C1000    = pd.DataFrame(confusion_logreg_C1000, index=[\"Fact 0\", \"Fact 1\"], columns=[\"Pred 0\",\"Pred 1\"])\n",
    "\n",
    "    confusion_forest_01          = confusion_matrix(y_test, pred_forest_01)\n",
    "    df_confusion_forest_01       = pd.DataFrame(confusion_forest_01, index=[\"Fact 0\", \"Fact 1\"], columns=[\"Pred 0\",\"Pred 1\"])\n",
    "\n",
    "    print(\"Test set balance:\")\n",
    "    print(pd.Series(y_test).value_counts())\n",
    "\n",
    "    print(\"\\nConfusion Matrices:\")\n",
    "\n",
    "    print(\"\\nRandom Forest (forest_01):\")\n",
    "    display(df_confusion_forest_01)\n",
    "\n",
    "    print(\"\\nLogistic Regression C=0.001:\")\n",
    "    display(df_confusion_logreg_C0001)\n",
    "\n",
    "    print(\"\\nLogistic Regression C=1000:\")\n",
    "    display(df_confusion_logreg_C1000)"
   ]
  },
  {
   "cell_type": "code",
   "execution_count": null,
   "metadata": {},
   "outputs": [],
   "source": [
    "confusion_matrices(X_train_balanced,y_train_balanced)"
   ]
  },
  {
   "cell_type": "code",
   "execution_count": null,
   "metadata": {},
   "outputs": [],
   "source": [
    "confusion_matrices(X_train,y_train)"
   ]
  },
  {
   "cell_type": "code",
   "execution_count": null,
   "metadata": {},
   "outputs": [],
   "source": [
    "confusion_matrices(X_test,y_test)"
   ]
  },
  {
   "cell_type": "markdown",
   "metadata": {},
   "source": [
    "1. $Precision =\\frac{TP}{TP+FP}$\n",
    "2. $Recall =\\frac{TP}{TP+FN}$ <-- Optimising target!\n",
    "3. $f_{1} = 2 \\cdot \\frac{precision \\cdot recall}{precision + recall} = \\frac{2 \\cdot TP}{2 \\cdot TP + (FN + FP)}$\n",
    "4. $Accuracy = \\frac{TP + TN}{TP + TN + FP + FN}$ KPI combines Precision and Recall\n"
   ]
  },
  {
   "cell_type": "markdown",
   "metadata": {},
   "source": [
    "## Classification Report"
   ]
  },
  {
   "cell_type": "code",
   "execution_count": null,
   "metadata": {},
   "outputs": [],
   "source": [
    "from sklearn.metrics import classification_report"
   ]
  },
  {
   "cell_type": "code",
   "execution_count": null,
   "metadata": {},
   "outputs": [],
   "source": [
    "%%time\n",
    "## Wall time: 9.94ms\n",
    "\n",
    "print(\"\\n\")\n",
    "print(\"Logistic Regression C=0.001:\")\n",
    "print(classification_report(y_test,\n",
    "                            pred_logreg_C0001,\n",
    "                            target_names=[\"not booking = 0\", \"booking = 1\"]))\n",
    "\n",
    "print(\"Logistic Regression C=1000:\")\n",
    "print(classification_report(y_test,\n",
    "                            pred_logreg_C1000,\n",
    "                            target_names=[\"not booking = 0\", \"booking = 1\"]))\n",
    "\n",
    "print(\"Random Forest:\")\n",
    "print(classification_report(y_test,\n",
    "                            pred_forest_01,\n",
    "                            target_names=[\"not booking = 0\", \"booking = 1\"]))"
   ]
  },
  {
   "cell_type": "markdown",
   "metadata": {},
   "source": [
    "## Precision-Recall Curve"
   ]
  },
  {
   "cell_type": "code",
   "execution_count": null,
   "metadata": {},
   "outputs": [],
   "source": [
    "logreg_C1000.predict_proba(X_test)[:,1]"
   ]
  },
  {
   "cell_type": "code",
   "execution_count": null,
   "metadata": {},
   "outputs": [],
   "source": [
    "from sklearn.metrics import precision_recall_curve\n",
    "\n",
    "def prec_rec_values(X_test,y_test):\n",
    "    global precision_forest_01, recall_forest_01, thresholds_forest_01, precision_logreg_C0001, recall_logreg_C0001, thresholds_logreg_C0001,precision_logreg_C1000, recall_logreg_C1000, thresholds_logreg_C1000 \n",
    "    \n",
    "    # LogReg C=0.001\n",
    "    precision_logreg_C0001, recall_logreg_C0001, thresholds_logreg_C0001 = precision_recall_curve(\n",
    "        y_test, \n",
    "        logreg_C0001.predict_proba(X_test)[:,1])\n",
    "    \n",
    "    # LogReg C=1000\n",
    "    precision_logreg_C1000, recall_logreg_C1000, thresholds_logreg_C1000 = precision_recall_curve(\n",
    "        y_test, \n",
    "        logreg_C1000.predict_proba(X_test)[:,1])\n",
    "    \n",
    "    # RandomForestClassifier has predict_proba, but not decision_function\n",
    "    precision_forest_01, recall_forest_01, thresholds_forest_01 = precision_recall_curve(\n",
    "        y_test,\n",
    "        forest_01.predict_proba(X_test)[:, 1])\n",
    "    \n",
    "    "
   ]
  },
  {
   "cell_type": "code",
   "execution_count": null,
   "metadata": {},
   "outputs": [],
   "source": [
    "%%time\n",
    "# Wall time: 22.4s\n",
    "\n",
    "def prec_rec_curve(X_train,y_train):\n",
    "    prec_rec_values(X_train,y_train)\n",
    "\n",
    "    plt.figure(figsize=(15,12))\n",
    "    plt.grid()\n",
    "\n",
    "    def optimum_point(precision_forest_01,recall_forest_01,thresholds_forest_01,name,dot):\n",
    "        optimum_idx = pd.Series.idxmin(np.power(1-pd.Series(precision_forest_01),2)+np.power(1-pd.Series(recall_forest_01),2))\n",
    "        return plt.plot(precision_forest_01[optimum_idx],\n",
    "                     recall_forest_01[optimum_idx],\n",
    "                     dot,\n",
    "                     markersize=10,\n",
    "                     label=f\"{name}: threshold {thresholds_forest_01[optimum_idx]}\",\n",
    "                     fillstyle=\"none\",\n",
    "                     c='k',\n",
    "                     mew=2)\n",
    "\n",
    "    optimum_point(precision_forest_01,recall_forest_01,thresholds_forest_01,name=\"forest_01\",dot='o')\n",
    "    optimum_point(precision_logreg_C0001,recall_logreg_C0001,thresholds_logreg_C0001,name=\"logreg_C0001\",dot='x')\n",
    "    optimum_point(precision_logreg_C1000,recall_logreg_C1000,thresholds_logreg_C1000,name=\"logreg_C1000\",dot='+')\n",
    "\n",
    "    plt.plot(precision_logreg_C0001, recall_logreg_C0001, label=\"Logistic Regression, C=0.001\")\n",
    "    plt.plot(precision_logreg_C1000, recall_logreg_C1000, label=\"Logistic Regression, C=1000\")\n",
    "    plt.plot(precision_forest_01, recall_forest_01, label=\"Random Forest\")\n",
    "\n",
    "    plt.xlabel(\"Precision\")\n",
    "    plt.ylabel(\"Recall\")\n",
    "    plt.legend(loc=\"best\")\n",
    "\n",
    "    plt.show()"
   ]
  },
  {
   "cell_type": "code",
   "execution_count": null,
   "metadata": {},
   "outputs": [],
   "source": [
    "prec_rec_curve(X_train_balanced,y_train_balanced)"
   ]
  },
  {
   "cell_type": "code",
   "execution_count": null,
   "metadata": {},
   "outputs": [],
   "source": [
    "prec_rec_curve(X_train,y_train)"
   ]
  },
  {
   "cell_type": "code",
   "execution_count": null,
   "metadata": {},
   "outputs": [],
   "source": [
    "prec_rec_curve(X_test,y_test)"
   ]
  },
  {
   "cell_type": "code",
   "execution_count": null,
   "metadata": {},
   "outputs": [],
   "source": [
    "#boxplot_histogram(thresholds_logreg_C0001)"
   ]
  },
  {
   "cell_type": "code",
   "execution_count": null,
   "metadata": {},
   "outputs": [],
   "source": [
    "%%time\n",
    "#Wall time: 19.7 s\n",
    "\n",
    "from sklearn.metrics import average_precision_score # Area under the Recall/Precision-curves\n",
    "\n",
    "avg_precision_logreg_C0001 = average_precision_score(y_test,\n",
    "                                               logreg_C0001.predict_proba(X_test)[:, 1])\n",
    "\n",
    "avg_precision_logreg_C1000 = average_precision_score(y_test,\n",
    "                                               logreg_C1000.predict_proba(X_test)[:, 1])\n",
    "\n",
    "avg_precision_forest_01 = average_precision_score(y_test,\n",
    "                                               forest_01.predict_proba(X_test)[:, 1])\n",
    "\n",
    "\n",
    "print(\"Average Precision of LogReg C=0.001: {:.3f}\".format(avg_precision_logreg_C0001))\n",
    "print(\"Average Precision of LogReg C=1000:  {:.3f}\".format(avg_precision_logreg_C1000))\n",
    "print(\"Average Precision of forest_01:      {:.3f}\".format(avg_precision_forest_01))"
   ]
  },
  {
   "cell_type": "markdown",
   "metadata": {},
   "source": [
    "## Receiver Operating Characteristics (ROC) and AUC\n"
   ]
  },
  {
   "cell_type": "code",
   "execution_count": null,
   "metadata": {},
   "outputs": [],
   "source": [
    "%%time\n",
    "from sklearn.metrics import roc_curve\n",
    "def roc_curve_graph(X_test,y_test):\n",
    "    global fpr_logreg_C0001, tpr_logreg_C0001, thresholds_logreg_C0001, fpr_logreg_C1000, tpr_logreg_C1000, thresholds_logreg_C1000, fpr_forest_01, tpr_forest_01, thresholds_forest_01\n",
    "    fpr_logreg_C0001, tpr_logreg_C0001, thresholds_logreg_C0001 = roc_curve(y_test, logreg_C0001.predict_proba(X_test)[:, 1])\n",
    "    fpr_logreg_C1000, tpr_logreg_C1000, thresholds_logreg_C1000 = roc_curve(y_test, logreg_C1000.predict_proba(X_test)[:, 1])\n",
    "    fpr_forest_01, tpr_forest_01, thresholds_forest_01 = roc_curve(y_test, forest_01.predict_proba(X_test)[:, 1])\n",
    "\n",
    "    def threshold_dot_50perc(fpr_forest_01,tpr_forest_01,thresholds_forest_01,name,dot):\n",
    "\n",
    "        close_default_index_forest_01 = pd.Series.idxmin(np.power(1-pd.Series(tpr_forest_01),2)+np.power(pd.Series(fpr_forest_01),2))\n",
    "        return plt.plot(fpr_forest_01[close_default_index_forest_01], tpr_forest_01[close_default_index_forest_01],\n",
    "                 dot,\n",
    "                 markersize=10,\n",
    "                 label=f\"{name} threshold: {thresholds_forest_01[close_default_index_forest_01]}\",\n",
    "                 fillstyle=\"none\",\n",
    "                 c='k',\n",
    "                 mew=2)\n",
    "\n",
    "\n",
    "    plt.figure(figsize=(15,12))\n",
    "    plt.grid()\n",
    "\n",
    "    plt.plot(fpr_forest_01,fpr_forest_01, linestyle='dotted', label=\"base line\")\n",
    "\n",
    "    plt.plot(fpr_logreg_C0001, tpr_logreg_C0001, label=\"logreg_C0001\")\n",
    "    plt.plot(fpr_logreg_C1000, tpr_logreg_C1000, label=\"logreg_C1000\")\n",
    "    plt.plot(fpr_forest_01,    tpr_forest_01,    label=\"forest_01\")\n",
    "\n",
    "\n",
    "    plt.xlabel(\"False-Postive Rate (FPR)\")\n",
    "    plt.ylabel(\"True-Positive Rate (TPR) aka. Recall\")\n",
    "\n",
    "    # find threshold closest to zero\n",
    "    threshold_dot_50perc(fpr_forest_01,tpr_forest_01,     thresholds_forest_01,'forest_01',dot='^')\n",
    "    threshold_dot_50perc(fpr_logreg_C0001, tpr_logreg_C0001, thresholds_logreg_C0001,'logreg_C0001',dot='x')\n",
    "    threshold_dot_50perc(fpr_logreg_C1000,tpr_logreg_C1000,thresholds_logreg_C1000,'logreg_C1000',dot='+')\n",
    "\n",
    "    plt.legend(loc=4)\n",
    "    plt.show()"
   ]
  },
  {
   "cell_type": "code",
   "execution_count": null,
   "metadata": {},
   "outputs": [],
   "source": [
    "%%time\n",
    "# Wall time: 17.6s\n",
    "from sklearn.metrics import roc_auc_score\n",
    "\n",
    "def roc_auc(X_test,y_test):\n",
    "    forest_01_auc    = roc_auc_score(y_test,    forest_01.predict_proba(X_test)[:, 1])\n",
    "    logreg_C0001_auc = roc_auc_score(y_test, logreg_C0001.predict_proba(X_test)[:, 1])\n",
    "    logreg_C1000_auc = roc_auc_score(y_test, logreg_C1000.predict_proba(X_test)[:, 1])\n",
    "\n",
    "\n",
    "    print(\"AUC for forest_01:    {:.3f}\".format(forest_01_auc))\n",
    "    print(\"AUC for logreg_C0001: {:.3f}\".format(logreg_C0001_auc))\n",
    "    print(\"AUC for logreg_C1000: {:.3f}\".format(logreg_C1000_auc))"
   ]
  },
  {
   "cell_type": "code",
   "execution_count": null,
   "metadata": {},
   "outputs": [],
   "source": [
    "%%time\n",
    "#Wall time: 10.6 s\n",
    "roc_curve_graph(X_train_balanced,y_train_balanced)\n",
    "roc_auc(X_train_balanced,y_train_balanced)"
   ]
  },
  {
   "cell_type": "code",
   "execution_count": null,
   "metadata": {},
   "outputs": [],
   "source": [
    "%%time\n",
    "#Wall time: 10.6 s\n",
    "roc_curve_graph(X_train,y_train)\n",
    "roc_auc(X_train,y_train)"
   ]
  },
  {
   "cell_type": "code",
   "execution_count": null,
   "metadata": {},
   "outputs": [],
   "source": [
    "%%time\n",
    "roc_curve_graph(X_test,y_test)\n",
    "roc_auc(X_test,y_test)"
   ]
  },
  {
   "cell_type": "markdown",
   "metadata": {},
   "source": [
    "## Recursive feature elimination with cross-validation"
   ]
  },
  {
   "cell_type": "raw",
   "metadata": {},
   "source": [
    "%%time\n",
    "# Wall time: 2h 35min 26s\n",
    "\n",
    "print(__doc__)\n",
    "\n",
    "import matplotlib.pyplot as plt\n",
    "from sklearn.svm import SVC\n",
    "from sklearn.model_selection import StratifiedKFold\n",
    "from sklearn.feature_selection import RFECV\n",
    "\n",
    "\n",
    "# Create the RFE object and compute a cross-validated score.\n",
    "svc = SVC(kernel=\"linear\")\n",
    "# The \"accuracy\" scoring is proportional to the number of correct\n",
    "# classifications\n",
    "rfecv = RFECV(estimator=svc, step=1, cv=StratifiedKFold(2),\n",
    "              scoring='accuracy')\n",
    "rfecv.fit(X_train_balanced, y_train_balanced)\n",
    "\n",
    "print(\"Optimal number of features : %d\" % rfecv.n_features_)"
   ]
  },
  {
   "cell_type": "raw",
   "metadata": {},
   "source": [
    "%%time\n",
    "# Plot number of features VS. cross-validation scores\n",
    "plt.figure()\n",
    "plt.figure(figsize=(15,12))\n",
    "plt.grid()\n",
    "plt.xlabel(\"Number of features selected\")\n",
    "plt.ylabel(\"Cross validation score (nb of correct classifications)\")\n",
    "plt.plot(range(1, len(rfecv.grid_scores_) + 1), rfecv.grid_scores_)\n",
    "plt.show()"
   ]
  },
  {
   "cell_type": "markdown",
   "metadata": {},
   "source": [
    "## Shapley values"
   ]
  },
  {
   "cell_type": "markdown",
   "metadata": {},
   "source": [
    "https://medium.com/@santiagof/model-interpretability-making-your-model-confess-shapley-values-5fb95a10a624"
   ]
  },
  {
   "cell_type": "code",
   "execution_count": null,
   "metadata": {},
   "outputs": [],
   "source": [
    "import shap"
   ]
  },
  {
   "cell_type": "code",
   "execution_count": null,
   "metadata": {},
   "outputs": [],
   "source": [
    "%%time\n",
    "#Wall time: OVER9000!!!\n",
    "#shap_values = shap.TreeExplainer(forest_01).shap_values(X_train_balanced)"
   ]
  },
  {
   "cell_type": "code",
   "execution_count": null,
   "metadata": {},
   "outputs": [],
   "source": [
    "#shap.summary_plot(shap_values, X_train_balanced, plot_type=\"bar\")"
   ]
  },
  {
   "cell_type": "markdown",
   "metadata": {},
   "source": [
    "# Scoring"
   ]
  },
  {
   "cell_type": "markdown",
   "metadata": {},
   "source": [
    "## Score Class Probabilities (Booking: No/Yes)"
   ]
  },
  {
   "cell_type": "code",
   "execution_count": null,
   "metadata": {},
   "outputs": [],
   "source": [
    "scoring_prob     = forest_01.predict_proba(X_scoring)\n",
    "scoring_prob_df  = pd.DataFrame(scoring_prob, columns=[\"Prob_0\",\"Prob_1\"])\n",
    "scoring_all_prob = (pd.merge(scoring_all,\n",
    "                             scoring_prob_df,\n",
    "                             left_index=True,\n",
    "                             right_index=True\n",
    "                            ).sort_values(\"Prob_1\",ascending=False)\n",
    "                   )"
   ]
  },
  {
   "cell_type": "code",
   "execution_count": null,
   "metadata": {},
   "outputs": [],
   "source": [
    "scoring_all_prob.head()"
   ]
  },
  {
   "cell_type": "markdown",
   "metadata": {},
   "source": [
    "## Cutoff"
   ]
  },
  {
   "cell_type": "code",
   "execution_count": null,
   "metadata": {},
   "outputs": [],
   "source": [
    "boxplot_histogram(scoring_all_prob.loc[:,\"Prob_1\"])"
   ]
  },
  {
   "cell_type": "code",
   "execution_count": null,
   "metadata": {},
   "outputs": [],
   "source": [
    "boxplot_histogram(np.log(scoring_all_prob.loc[:,\"Prob_1\"]),bins=60)"
   ]
  },
  {
   "cell_type": "code",
   "execution_count": null,
   "metadata": {},
   "outputs": [],
   "source": [
    "np.exp(-2.1)"
   ]
  },
  {
   "cell_type": "code",
   "execution_count": null,
   "metadata": {},
   "outputs": [],
   "source": [
    "scoring_all_prob.loc[scoring_all_prob.loc[:,\"Prob_1\"]>0.166,:].shape[0]"
   ]
  },
  {
   "cell_type": "code",
   "execution_count": null,
   "metadata": {},
   "outputs": [],
   "source": [
    "training_all.loc[:,[\"Target_Res_flg\",\"Endkunde_NR\"]].groupby(\"Target_Res_flg\").count()"
   ]
  },
  {
   "cell_type": "code",
   "execution_count": null,
   "metadata": {},
   "outputs": [],
   "source": [
    "691/17312\n"
   ]
  },
  {
   "cell_type": "markdown",
   "metadata": {},
   "source": [
    "# Appendix"
   ]
  },
  {
   "cell_type": "markdown",
   "metadata": {},
   "source": [
    "## Mutual Information"
   ]
  },
  {
   "cell_type": "code",
   "execution_count": null,
   "metadata": {},
   "outputs": [],
   "source": [
    "%%time\n",
    "mu_in = mutual_info_classif(X_train_balanced,y_train_balanced) / mutual_info_classif(y_train_balanced.reshape(-1,1),y_train_balanced)"
   ]
  },
  {
   "cell_type": "code",
   "execution_count": null,
   "metadata": {},
   "outputs": [],
   "source": [
    "print(mu_in.shape)\n",
    "print(feature_columns.shape)"
   ]
  },
  {
   "cell_type": "code",
   "execution_count": null,
   "metadata": {},
   "outputs": [],
   "source": [
    " mu_in_df = (pd.DataFrame({'Feature':            feature_columns,\n",
    "                           'Mutual_Information': mu_in})\n",
    "             .sort_values(by='Mutual_Information',\n",
    "                          ascending=False)\n",
    "             .reset_index(drop=True)\n",
    "            )"
   ]
  },
  {
   "cell_type": "code",
   "execution_count": null,
   "metadata": {},
   "outputs": [],
   "source": [
    "display(mu_in_df.head(50))"
   ]
  },
  {
   "cell_type": "code",
   "execution_count": null,
   "metadata": {},
   "outputs": [],
   "source": [
    "boxplot_histogram(mu_in_df.loc[:,'Mutual_Information'])"
   ]
  },
  {
   "cell_type": "code",
   "execution_count": null,
   "metadata": {},
   "outputs": [],
   "source": [
    "def mu_in_cutoff(cutoff):\n",
    "    display(mu_in_df.loc[mu_in_df.loc[:,'Mutual_Information'] >= cutoff,:])"
   ]
  },
  {
   "cell_type": "code",
   "execution_count": null,
   "metadata": {},
   "outputs": [],
   "source": [
    "mu_in_cutoff(0.07)"
   ]
  },
  {
   "cell_type": "code",
   "execution_count": null,
   "metadata": {},
   "outputs": [],
   "source": [
    "mu_in_df['scaled'] = mu_in_df['Mutual_Information'] / mu_in_df['Mutual_Information'].sum()"
   ]
  },
  {
   "cell_type": "code",
   "execution_count": null,
   "metadata": {},
   "outputs": [],
   "source": [
    "mu_in_df['cum'] = mu_in_df['scaled'].cumsum()"
   ]
  },
  {
   "cell_type": "code",
   "execution_count": null,
   "metadata": {},
   "outputs": [],
   "source": [
    "plt.figure(figsize=(15,40))\n",
    "sns.barplot(x   = 'Mutual_Information',\n",
    "            y   = 'Feature',\n",
    "            data= mu_in_df)"
   ]
  },
  {
   "cell_type": "markdown",
   "metadata": {},
   "source": [
    "## Bivariate Analysis"
   ]
  },
  {
   "cell_type": "code",
   "execution_count": null,
   "metadata": {},
   "outputs": [],
   "source": [
    "training_all.describe()"
   ]
  },
  {
   "cell_type": "code",
   "execution_count": null,
   "metadata": {},
   "outputs": [],
   "source": [
    "print(training_all.columns)"
   ]
  },
  {
   "cell_type": "code",
   "execution_count": null,
   "metadata": {},
   "outputs": [],
   "source": [
    "def hexbin(dataset, first_feature,second_feature,gridsize=25):\n",
    "    dataset.plot.hexbin(x=first_feature, y=second_feature , gridsize=gridsize, figsize=(12,8))"
   ]
  },
  {
   "cell_type": "code",
   "execution_count": null,
   "metadata": {},
   "outputs": [],
   "source": [
    "def hexbin(x, y, color, **kwargs):\n",
    "    cmap = sns.light_palette(color, as_cmap=True)\n",
    "    plt.hexbin(x, y, gridsize=10, cmap=cmap, **kwargs)\n",
    "\n",
    "with sns.axes_style(\"dark\"):\n",
    "    g = sns.FacetGrid(training_all,\n",
    "                      hue=\"Target_Res_flg\",\n",
    "                      col=\"Target_Res_flg\",\n",
    "                      height=10\n",
    "                     )\n",
    "\n",
    "g.map(hexbin,\n",
    "      \"Netto_Sum_Aus_RY_0_KW_1\",\n",
    "      \"Erste_Buchung_Delta\",\n",
    "      extent=[0, 1, 0, 1]\n",
    "     )"
   ]
  },
  {
   "cell_type": "code",
   "execution_count": null,
   "metadata": {},
   "outputs": [],
   "source": [
    "sns.axes_style(\"darkgrid\")\n",
    "\n",
    "sns.pairplot(data   = training_all.loc[:,[\"Target_Res_flg\"]+list(mu_in_df.head(20).loc[:,\"Feature\"])],\n",
    "             diag_kind=\"kde\",\n",
    "             hue    = \"Target_Res_flg\",\n",
    "             height =5\n",
    "            ).savefig(\"derp.png\")\n"
   ]
  },
  {
   "cell_type": "code",
   "execution_count": null,
   "metadata": {},
   "outputs": [],
   "source": []
  }
 ],
 "metadata": {
  "kernelspec": {
   "display_name": "Python 3",
   "language": "python",
   "name": "python3"
  },
  "language_info": {
   "codemirror_mode": {
    "name": "ipython",
    "version": 3
   },
   "file_extension": ".py",
   "mimetype": "text/x-python",
   "name": "python",
   "nbconvert_exporter": "python",
   "pygments_lexer": "ipython3",
   "version": "3.7.4"
  },
  "toc-autonumbering": true
 },
 "nbformat": 4,
 "nbformat_minor": 4
}
