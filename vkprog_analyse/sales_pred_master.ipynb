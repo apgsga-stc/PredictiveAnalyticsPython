{
 "cells": [
  {
   "cell_type": "markdown",
   "metadata": {},
   "source": [
    "# Master File"
   ]
  },
  {
   "cell_type": "markdown",
   "metadata": {},
   "source": [
    "# Tools & Libraries"
   ]
  },
  {
   "cell_type": "code",
   "execution_count": 1,
   "metadata": {},
   "outputs": [
    {
     "name": "stdout",
     "output_type": "stream",
     "text": [
      "C:\\Users\\stc\\Documents\\GitHub\\PredictiveAnalyticsPython\\vkprog_analyse\n",
      "C:\\Users\\stc\\Documents\\GitHub\\PredictiveAnalyticsPython\n"
     ]
    }
   ],
   "source": [
    "# make imports from pa_lib possible (parent directory of file's directory)\n",
    "import sys\n",
    "from pathlib import Path\n",
    "\n",
    "file_dir = Path.cwd()\n",
    "print(file_dir)\n",
    "parent_dir = file_dir.parent\n",
    "print(parent_dir)\n",
    "sys.path.append(str(parent_dir))"
   ]
  },
  {
   "cell_type": "code",
   "execution_count": 2,
   "metadata": {},
   "outputs": [],
   "source": [
    "%load_ext autoreload\n",
    "%autoreload\n",
    "import pandas as pd\n",
    "import seaborn as sns\n",
    "import matplotlib.pyplot as plt\n",
    "import numpy as np\n",
    "from pa_lib.data import boxplot_histogram"
   ]
  },
  {
   "cell_type": "code",
   "execution_count": 3,
   "metadata": {},
   "outputs": [],
   "source": [
    "from pa_lib.data import desc_col"
   ]
  },
  {
   "cell_type": "markdown",
   "metadata": {},
   "source": [
    "# Load Dataset (Data Preparation)"
   ]
  },
  {
   "cell_type": "code",
   "execution_count": 4,
   "metadata": {},
   "outputs": [],
   "source": [
    "from vkprog_data_prep import bd_train_scoring\n"
   ]
  },
  {
   "cell_type": "code",
   "execution_count": 5,
   "metadata": {},
   "outputs": [
    {
     "name": "stderr",
     "output_type": "stream",
     "text": [
      "2019-10-10 12:00:08 [INFO] Started loading binary file\n",
      "2019-10-10 12:00:08 [INFO] Reading from file C:\\Users\\stc\\data\\vkprog\\bd_data.feather\n",
      "2019-10-10 12:00:08 [INFO] Finished loading binary file in 0.18s (0.86s CPU)\n",
      "2019-10-10 12:00:10 [INFO] Period: KW_2\n",
      "2019-10-10 12:00:10 [INFO] Calculate Reservation...\n",
      "2019-10-10 12:00:10 [INFO] Calculate Aushang...\n",
      "2019-10-10 12:00:10 [INFO] Merge Results...\n",
      "2019-10-10 12:00:10 [INFO] aggregate_bookings: Done.\n",
      "2019-10-10 12:00:10 [INFO] current_yyyykw: 201941\n",
      "2019-10-10 12:00:10 [INFO] training_yyyykw:201841\n",
      "2019-10-10 12:00:10 [INFO] Computing: Pivot Table\n",
      "2019-10-10 12:00:11 [INFO] Running: booking_yearly_totals(YYYYKW, year_span) \n",
      "2019-10-10 12:00:11 [INFO] Computing: Yearly total sums\n",
      "2019-10-10 12:00:11 [INFO] Merging: Left-Join to Container dataframe\n",
      "2019-10-10 12:00:11 [INFO] Merging: Left-Join to Container dataframe\n",
      "2019-10-10 12:00:11 [INFO] Merging: Left-Join to Container dataframe\n",
      "2019-10-10 12:00:11 [INFO] Merging: Left-Join to Container dataframe\n",
      "2019-10-10 12:00:11 [INFO] Final merge\n",
      "2019-10-10 12:00:11 [INFO] Computing: Pivot Table\n",
      "2019-10-10 12:00:12 [INFO] Running: booking_yearly_totals(YYYYKW, year_span) \n",
      "2019-10-10 12:00:12 [INFO] Computing: Yearly total sums\n",
      "2019-10-10 12:00:12 [INFO] Merging: Left-Join to Container dataframe\n",
      "2019-10-10 12:00:12 [INFO] Merging: Left-Join to Container dataframe\n",
      "2019-10-10 12:00:12 [INFO] Merging: Left-Join to Container dataframe\n",
      "2019-10-10 12:00:12 [INFO] Merging: Left-Join to Container dataframe\n",
      "2019-10-10 12:00:12 [INFO] Final merge\n",
      "2019-10-10 12:00:41 [INFO] Scaling features\n",
      "2019-10-10 12:00:43 [INFO] Finished.\n"
     ]
    },
    {
     "name": "stdout",
     "output_type": "stream",
     "text": [
      "Wall time: 35.3 s\n"
     ]
    }
   ],
   "source": [
    "%%time\n",
    "# Wall time: 38.5 s\n",
    "\n",
    "(training_all, scoring_all, feature_colnames_bd, feature_colnames_dates,feature_colnames_branchen) = bd_train_scoring(\n",
    "    day=7,\n",
    "    month=10,\n",
    "    year_score=2019,\n",
    "    year_train=2018,\n",
    "    year_span=4,\n",
    "    scale_features=True)"
   ]
  },
  {
   "cell_type": "code",
   "execution_count": 6,
   "metadata": {},
   "outputs": [
    {
     "name": "stdout",
     "output_type": "stream",
     "text": [
      "\n",
      "training_all\n",
      "\n"
     ]
    },
    {
     "data": {
      "text/html": [
       "<div>\n",
       "<style scoped>\n",
       "    .dataframe tbody tr th:only-of-type {\n",
       "        vertical-align: middle;\n",
       "    }\n",
       "\n",
       "    .dataframe tbody tr th {\n",
       "        vertical-align: top;\n",
       "    }\n",
       "\n",
       "    .dataframe thead th {\n",
       "        text-align: right;\n",
       "    }\n",
       "</style>\n",
       "<table border=\"1\" class=\"dataframe\">\n",
       "  <thead>\n",
       "    <tr style=\"text-align: right;\">\n",
       "      <th></th>\n",
       "      <th>Endkunde_NR</th>\n",
       "      <th>Erste_Buchung_Delta</th>\n",
       "      <th>Letzte_Buchung_Delta</th>\n",
       "      <th>Erste_Letzte_Buchung_Delta</th>\n",
       "      <th>Netto_Sum_Aus_RY_0_KW_1</th>\n",
       "      <th>Netto_Sum_Aus_RY_0_KW_11</th>\n",
       "      <th>Netto_Sum_Aus_RY_0_KW_13</th>\n",
       "      <th>Netto_Sum_Aus_RY_0_KW_15</th>\n",
       "      <th>Netto_Sum_Aus_RY_0_KW_17</th>\n",
       "      <th>Netto_Sum_Aus_RY_0_KW_19</th>\n",
       "      <th>...</th>\n",
       "      <th>B765</th>\n",
       "      <th>B780</th>\n",
       "      <th>B795</th>\n",
       "      <th>B800</th>\n",
       "      <th>B901</th>\n",
       "      <th>B950</th>\n",
       "      <th>B960</th>\n",
       "      <th>B970</th>\n",
       "      <th>B980</th>\n",
       "      <th>B990</th>\n",
       "    </tr>\n",
       "  </thead>\n",
       "  <tbody>\n",
       "    <tr>\n",
       "      <th>count</th>\n",
       "      <td>17625.000000</td>\n",
       "      <td>17625.000000</td>\n",
       "      <td>17625.000000</td>\n",
       "      <td>17625.000000</td>\n",
       "      <td>17625.000000</td>\n",
       "      <td>17625.00000</td>\n",
       "      <td>17625.000000</td>\n",
       "      <td>17625.000000</td>\n",
       "      <td>17625.000000</td>\n",
       "      <td>17625.000000</td>\n",
       "      <td>...</td>\n",
       "      <td>17625.000000</td>\n",
       "      <td>17625.000000</td>\n",
       "      <td>17625.000000</td>\n",
       "      <td>17625.000000</td>\n",
       "      <td>17625.000000</td>\n",
       "      <td>17625.000000</td>\n",
       "      <td>17625.000000</td>\n",
       "      <td>17625.000000</td>\n",
       "      <td>17625.000000</td>\n",
       "      <td>17625.000000</td>\n",
       "    </tr>\n",
       "    <tr>\n",
       "      <th>mean</th>\n",
       "      <td>488297.122553</td>\n",
       "      <td>0.388230</td>\n",
       "      <td>0.124154</td>\n",
       "      <td>0.286649</td>\n",
       "      <td>0.020102</td>\n",
       "      <td>0.01744</td>\n",
       "      <td>0.028720</td>\n",
       "      <td>0.016663</td>\n",
       "      <td>0.029912</td>\n",
       "      <td>0.016486</td>\n",
       "      <td>...</td>\n",
       "      <td>0.002723</td>\n",
       "      <td>0.041816</td>\n",
       "      <td>0.014752</td>\n",
       "      <td>0.022128</td>\n",
       "      <td>0.033759</td>\n",
       "      <td>0.020085</td>\n",
       "      <td>0.106723</td>\n",
       "      <td>0.005617</td>\n",
       "      <td>0.031773</td>\n",
       "      <td>0.177191</td>\n",
       "    </tr>\n",
       "    <tr>\n",
       "      <th>std</th>\n",
       "      <td>185376.971988</td>\n",
       "      <td>0.289709</td>\n",
       "      <td>0.137267</td>\n",
       "      <td>0.306056</td>\n",
       "      <td>0.112674</td>\n",
       "      <td>0.10343</td>\n",
       "      <td>0.131644</td>\n",
       "      <td>0.100853</td>\n",
       "      <td>0.136364</td>\n",
       "      <td>0.101141</td>\n",
       "      <td>...</td>\n",
       "      <td>0.052117</td>\n",
       "      <td>0.200173</td>\n",
       "      <td>0.120561</td>\n",
       "      <td>0.147103</td>\n",
       "      <td>0.180613</td>\n",
       "      <td>0.140295</td>\n",
       "      <td>0.308770</td>\n",
       "      <td>0.074738</td>\n",
       "      <td>0.175400</td>\n",
       "      <td>0.381842</td>\n",
       "    </tr>\n",
       "    <tr>\n",
       "      <th>min</th>\n",
       "      <td>100034.000000</td>\n",
       "      <td>0.000000</td>\n",
       "      <td>0.000000</td>\n",
       "      <td>0.000000</td>\n",
       "      <td>0.000000</td>\n",
       "      <td>0.00000</td>\n",
       "      <td>0.000000</td>\n",
       "      <td>0.000000</td>\n",
       "      <td>0.000000</td>\n",
       "      <td>0.000000</td>\n",
       "      <td>...</td>\n",
       "      <td>0.000000</td>\n",
       "      <td>0.000000</td>\n",
       "      <td>0.000000</td>\n",
       "      <td>0.000000</td>\n",
       "      <td>0.000000</td>\n",
       "      <td>0.000000</td>\n",
       "      <td>0.000000</td>\n",
       "      <td>0.000000</td>\n",
       "      <td>0.000000</td>\n",
       "      <td>0.000000</td>\n",
       "    </tr>\n",
       "    <tr>\n",
       "      <th>25%</th>\n",
       "      <td>475501.000000</td>\n",
       "      <td>0.181818</td>\n",
       "      <td>0.000000</td>\n",
       "      <td>0.000000</td>\n",
       "      <td>0.000000</td>\n",
       "      <td>0.00000</td>\n",
       "      <td>0.000000</td>\n",
       "      <td>0.000000</td>\n",
       "      <td>0.000000</td>\n",
       "      <td>0.000000</td>\n",
       "      <td>...</td>\n",
       "      <td>0.000000</td>\n",
       "      <td>0.000000</td>\n",
       "      <td>0.000000</td>\n",
       "      <td>0.000000</td>\n",
       "      <td>0.000000</td>\n",
       "      <td>0.000000</td>\n",
       "      <td>0.000000</td>\n",
       "      <td>0.000000</td>\n",
       "      <td>0.000000</td>\n",
       "      <td>0.000000</td>\n",
       "    </tr>\n",
       "    <tr>\n",
       "      <th>50%</th>\n",
       "      <td>577160.000000</td>\n",
       "      <td>0.272727</td>\n",
       "      <td>0.111111</td>\n",
       "      <td>0.181818</td>\n",
       "      <td>0.000000</td>\n",
       "      <td>0.00000</td>\n",
       "      <td>0.000000</td>\n",
       "      <td>0.000000</td>\n",
       "      <td>0.000000</td>\n",
       "      <td>0.000000</td>\n",
       "      <td>...</td>\n",
       "      <td>0.000000</td>\n",
       "      <td>0.000000</td>\n",
       "      <td>0.000000</td>\n",
       "      <td>0.000000</td>\n",
       "      <td>0.000000</td>\n",
       "      <td>0.000000</td>\n",
       "      <td>0.000000</td>\n",
       "      <td>0.000000</td>\n",
       "      <td>0.000000</td>\n",
       "      <td>0.000000</td>\n",
       "    </tr>\n",
       "    <tr>\n",
       "      <th>75%</th>\n",
       "      <td>615353.000000</td>\n",
       "      <td>0.636364</td>\n",
       "      <td>0.222222</td>\n",
       "      <td>0.545455</td>\n",
       "      <td>0.000000</td>\n",
       "      <td>0.00000</td>\n",
       "      <td>0.000000</td>\n",
       "      <td>0.000000</td>\n",
       "      <td>0.000000</td>\n",
       "      <td>0.000000</td>\n",
       "      <td>...</td>\n",
       "      <td>0.000000</td>\n",
       "      <td>0.000000</td>\n",
       "      <td>0.000000</td>\n",
       "      <td>0.000000</td>\n",
       "      <td>0.000000</td>\n",
       "      <td>0.000000</td>\n",
       "      <td>0.000000</td>\n",
       "      <td>0.000000</td>\n",
       "      <td>0.000000</td>\n",
       "      <td>0.000000</td>\n",
       "    </tr>\n",
       "    <tr>\n",
       "      <th>max</th>\n",
       "      <td>651482.000000</td>\n",
       "      <td>1.000000</td>\n",
       "      <td>1.000000</td>\n",
       "      <td>1.000000</td>\n",
       "      <td>1.000000</td>\n",
       "      <td>1.00000</td>\n",
       "      <td>1.000000</td>\n",
       "      <td>1.000000</td>\n",
       "      <td>1.000000</td>\n",
       "      <td>1.000000</td>\n",
       "      <td>...</td>\n",
       "      <td>1.000000</td>\n",
       "      <td>1.000000</td>\n",
       "      <td>1.000000</td>\n",
       "      <td>1.000000</td>\n",
       "      <td>1.000000</td>\n",
       "      <td>1.000000</td>\n",
       "      <td>1.000000</td>\n",
       "      <td>1.000000</td>\n",
       "      <td>1.000000</td>\n",
       "      <td>1.000000</td>\n",
       "    </tr>\n",
       "  </tbody>\n",
       "</table>\n",
       "<p>8 rows × 305 columns</p>\n",
       "</div>"
      ],
      "text/plain": [
       "         Endkunde_NR  Erste_Buchung_Delta  Letzte_Buchung_Delta  \\\n",
       "count   17625.000000         17625.000000          17625.000000   \n",
       "mean   488297.122553             0.388230              0.124154   \n",
       "std    185376.971988             0.289709              0.137267   \n",
       "min    100034.000000             0.000000              0.000000   \n",
       "25%    475501.000000             0.181818              0.000000   \n",
       "50%    577160.000000             0.272727              0.111111   \n",
       "75%    615353.000000             0.636364              0.222222   \n",
       "max    651482.000000             1.000000              1.000000   \n",
       "\n",
       "       Erste_Letzte_Buchung_Delta  Netto_Sum_Aus_RY_0_KW_1  \\\n",
       "count                17625.000000             17625.000000   \n",
       "mean                     0.286649                 0.020102   \n",
       "std                      0.306056                 0.112674   \n",
       "min                      0.000000                 0.000000   \n",
       "25%                      0.000000                 0.000000   \n",
       "50%                      0.181818                 0.000000   \n",
       "75%                      0.545455                 0.000000   \n",
       "max                      1.000000                 1.000000   \n",
       "\n",
       "       Netto_Sum_Aus_RY_0_KW_11  Netto_Sum_Aus_RY_0_KW_13  \\\n",
       "count               17625.00000              17625.000000   \n",
       "mean                    0.01744                  0.028720   \n",
       "std                     0.10343                  0.131644   \n",
       "min                     0.00000                  0.000000   \n",
       "25%                     0.00000                  0.000000   \n",
       "50%                     0.00000                  0.000000   \n",
       "75%                     0.00000                  0.000000   \n",
       "max                     1.00000                  1.000000   \n",
       "\n",
       "       Netto_Sum_Aus_RY_0_KW_15  Netto_Sum_Aus_RY_0_KW_17  \\\n",
       "count              17625.000000              17625.000000   \n",
       "mean                   0.016663                  0.029912   \n",
       "std                    0.100853                  0.136364   \n",
       "min                    0.000000                  0.000000   \n",
       "25%                    0.000000                  0.000000   \n",
       "50%                    0.000000                  0.000000   \n",
       "75%                    0.000000                  0.000000   \n",
       "max                    1.000000                  1.000000   \n",
       "\n",
       "       Netto_Sum_Aus_RY_0_KW_19  ...          B765          B780  \\\n",
       "count              17625.000000  ...  17625.000000  17625.000000   \n",
       "mean                   0.016486  ...      0.002723      0.041816   \n",
       "std                    0.101141  ...      0.052117      0.200173   \n",
       "min                    0.000000  ...      0.000000      0.000000   \n",
       "25%                    0.000000  ...      0.000000      0.000000   \n",
       "50%                    0.000000  ...      0.000000      0.000000   \n",
       "75%                    0.000000  ...      0.000000      0.000000   \n",
       "max                    1.000000  ...      1.000000      1.000000   \n",
       "\n",
       "               B795          B800          B901          B950          B960  \\\n",
       "count  17625.000000  17625.000000  17625.000000  17625.000000  17625.000000   \n",
       "mean       0.014752      0.022128      0.033759      0.020085      0.106723   \n",
       "std        0.120561      0.147103      0.180613      0.140295      0.308770   \n",
       "min        0.000000      0.000000      0.000000      0.000000      0.000000   \n",
       "25%        0.000000      0.000000      0.000000      0.000000      0.000000   \n",
       "50%        0.000000      0.000000      0.000000      0.000000      0.000000   \n",
       "75%        0.000000      0.000000      0.000000      0.000000      0.000000   \n",
       "max        1.000000      1.000000      1.000000      1.000000      1.000000   \n",
       "\n",
       "               B970          B980          B990  \n",
       "count  17625.000000  17625.000000  17625.000000  \n",
       "mean       0.005617      0.031773      0.177191  \n",
       "std        0.074738      0.175400      0.381842  \n",
       "min        0.000000      0.000000      0.000000  \n",
       "25%        0.000000      0.000000      0.000000  \n",
       "50%        0.000000      0.000000      0.000000  \n",
       "75%        0.000000      0.000000      0.000000  \n",
       "max        1.000000      1.000000      1.000000  \n",
       "\n",
       "[8 rows x 305 columns]"
      ]
     },
     "metadata": {},
     "output_type": "display_data"
    },
    {
     "name": "stdout",
     "output_type": "stream",
     "text": [
      "\n",
      "scoring_all\n",
      "\n"
     ]
    },
    {
     "data": {
      "text/html": [
       "<div>\n",
       "<style scoped>\n",
       "    .dataframe tbody tr th:only-of-type {\n",
       "        vertical-align: middle;\n",
       "    }\n",
       "\n",
       "    .dataframe tbody tr th {\n",
       "        vertical-align: top;\n",
       "    }\n",
       "\n",
       "    .dataframe thead th {\n",
       "        text-align: right;\n",
       "    }\n",
       "</style>\n",
       "<table border=\"1\" class=\"dataframe\">\n",
       "  <thead>\n",
       "    <tr style=\"text-align: right;\">\n",
       "      <th></th>\n",
       "      <th>Endkunde_NR</th>\n",
       "      <th>Erste_Buchung_Delta</th>\n",
       "      <th>Letzte_Buchung_Delta</th>\n",
       "      <th>Erste_Letzte_Buchung_Delta</th>\n",
       "      <th>Netto_Sum_Aus_RY_0_KW_1</th>\n",
       "      <th>Netto_Sum_Aus_RY_0_KW_11</th>\n",
       "      <th>Netto_Sum_Aus_RY_0_KW_13</th>\n",
       "      <th>Netto_Sum_Aus_RY_0_KW_15</th>\n",
       "      <th>Netto_Sum_Aus_RY_0_KW_17</th>\n",
       "      <th>Netto_Sum_Aus_RY_0_KW_19</th>\n",
       "      <th>...</th>\n",
       "      <th>B765</th>\n",
       "      <th>B780</th>\n",
       "      <th>B795</th>\n",
       "      <th>B800</th>\n",
       "      <th>B901</th>\n",
       "      <th>B950</th>\n",
       "      <th>B960</th>\n",
       "      <th>B970</th>\n",
       "      <th>B980</th>\n",
       "      <th>B990</th>\n",
       "    </tr>\n",
       "  </thead>\n",
       "  <tbody>\n",
       "    <tr>\n",
       "      <th>count</th>\n",
       "      <td>17488.000000</td>\n",
       "      <td>17488.000000</td>\n",
       "      <td>17488.000000</td>\n",
       "      <td>17488.000000</td>\n",
       "      <td>17488.000000</td>\n",
       "      <td>17488.000000</td>\n",
       "      <td>17488.000000</td>\n",
       "      <td>17488.000000</td>\n",
       "      <td>17488.000000</td>\n",
       "      <td>17488.000000</td>\n",
       "      <td>...</td>\n",
       "      <td>17488.000000</td>\n",
       "      <td>17488.000000</td>\n",
       "      <td>17488.000000</td>\n",
       "      <td>17488.000000</td>\n",
       "      <td>17488.000000</td>\n",
       "      <td>17488.000000</td>\n",
       "      <td>17488.000000</td>\n",
       "      <td>17488.000000</td>\n",
       "      <td>17488.000000</td>\n",
       "      <td>17488.000000</td>\n",
       "    </tr>\n",
       "    <tr>\n",
       "      <th>mean</th>\n",
       "      <td>501878.899531</td>\n",
       "      <td>0.379212</td>\n",
       "      <td>0.111608</td>\n",
       "      <td>0.312224</td>\n",
       "      <td>0.018213</td>\n",
       "      <td>0.015271</td>\n",
       "      <td>0.028311</td>\n",
       "      <td>0.015437</td>\n",
       "      <td>0.027897</td>\n",
       "      <td>0.016271</td>\n",
       "      <td>...</td>\n",
       "      <td>0.002973</td>\n",
       "      <td>0.042372</td>\n",
       "      <td>0.014925</td>\n",
       "      <td>0.022415</td>\n",
       "      <td>0.032823</td>\n",
       "      <td>0.021329</td>\n",
       "      <td>0.112134</td>\n",
       "      <td>0.005718</td>\n",
       "      <td>0.033452</td>\n",
       "      <td>0.175377</td>\n",
       "    </tr>\n",
       "    <tr>\n",
       "      <th>std</th>\n",
       "      <td>186253.366135</td>\n",
       "      <td>0.294295</td>\n",
       "      <td>0.124608</td>\n",
       "      <td>0.337764</td>\n",
       "      <td>0.107383</td>\n",
       "      <td>0.097701</td>\n",
       "      <td>0.131551</td>\n",
       "      <td>0.099253</td>\n",
       "      <td>0.131370</td>\n",
       "      <td>0.100786</td>\n",
       "      <td>...</td>\n",
       "      <td>0.054450</td>\n",
       "      <td>0.201442</td>\n",
       "      <td>0.121254</td>\n",
       "      <td>0.148034</td>\n",
       "      <td>0.178177</td>\n",
       "      <td>0.144482</td>\n",
       "      <td>0.315540</td>\n",
       "      <td>0.075404</td>\n",
       "      <td>0.179818</td>\n",
       "      <td>0.380300</td>\n",
       "    </tr>\n",
       "    <tr>\n",
       "      <th>min</th>\n",
       "      <td>100034.000000</td>\n",
       "      <td>0.000000</td>\n",
       "      <td>0.000000</td>\n",
       "      <td>0.000000</td>\n",
       "      <td>0.000000</td>\n",
       "      <td>0.000000</td>\n",
       "      <td>0.000000</td>\n",
       "      <td>0.000000</td>\n",
       "      <td>0.000000</td>\n",
       "      <td>0.000000</td>\n",
       "      <td>...</td>\n",
       "      <td>0.000000</td>\n",
       "      <td>0.000000</td>\n",
       "      <td>0.000000</td>\n",
       "      <td>0.000000</td>\n",
       "      <td>0.000000</td>\n",
       "      <td>0.000000</td>\n",
       "      <td>0.000000</td>\n",
       "      <td>0.000000</td>\n",
       "      <td>0.000000</td>\n",
       "      <td>0.000000</td>\n",
       "    </tr>\n",
       "    <tr>\n",
       "      <th>25%</th>\n",
       "      <td>482334.750000</td>\n",
       "      <td>0.166667</td>\n",
       "      <td>0.000000</td>\n",
       "      <td>0.000000</td>\n",
       "      <td>0.000000</td>\n",
       "      <td>0.000000</td>\n",
       "      <td>0.000000</td>\n",
       "      <td>0.000000</td>\n",
       "      <td>0.000000</td>\n",
       "      <td>0.000000</td>\n",
       "      <td>...</td>\n",
       "      <td>0.000000</td>\n",
       "      <td>0.000000</td>\n",
       "      <td>0.000000</td>\n",
       "      <td>0.000000</td>\n",
       "      <td>0.000000</td>\n",
       "      <td>0.000000</td>\n",
       "      <td>0.000000</td>\n",
       "      <td>0.000000</td>\n",
       "      <td>0.000000</td>\n",
       "      <td>0.000000</td>\n",
       "    </tr>\n",
       "    <tr>\n",
       "      <th>50%</th>\n",
       "      <td>590102.000000</td>\n",
       "      <td>0.250000</td>\n",
       "      <td>0.100000</td>\n",
       "      <td>0.181818</td>\n",
       "      <td>0.000000</td>\n",
       "      <td>0.000000</td>\n",
       "      <td>0.000000</td>\n",
       "      <td>0.000000</td>\n",
       "      <td>0.000000</td>\n",
       "      <td>0.000000</td>\n",
       "      <td>...</td>\n",
       "      <td>0.000000</td>\n",
       "      <td>0.000000</td>\n",
       "      <td>0.000000</td>\n",
       "      <td>0.000000</td>\n",
       "      <td>0.000000</td>\n",
       "      <td>0.000000</td>\n",
       "      <td>0.000000</td>\n",
       "      <td>0.000000</td>\n",
       "      <td>0.000000</td>\n",
       "      <td>0.000000</td>\n",
       "    </tr>\n",
       "    <tr>\n",
       "      <th>75%</th>\n",
       "      <td>628230.250000</td>\n",
       "      <td>0.666667</td>\n",
       "      <td>0.200000</td>\n",
       "      <td>0.636364</td>\n",
       "      <td>0.000000</td>\n",
       "      <td>0.000000</td>\n",
       "      <td>0.000000</td>\n",
       "      <td>0.000000</td>\n",
       "      <td>0.000000</td>\n",
       "      <td>0.000000</td>\n",
       "      <td>...</td>\n",
       "      <td>0.000000</td>\n",
       "      <td>0.000000</td>\n",
       "      <td>0.000000</td>\n",
       "      <td>0.000000</td>\n",
       "      <td>0.000000</td>\n",
       "      <td>0.000000</td>\n",
       "      <td>0.000000</td>\n",
       "      <td>0.000000</td>\n",
       "      <td>0.000000</td>\n",
       "      <td>0.000000</td>\n",
       "    </tr>\n",
       "    <tr>\n",
       "      <th>max</th>\n",
       "      <td>660017.000000</td>\n",
       "      <td>1.000000</td>\n",
       "      <td>1.000000</td>\n",
       "      <td>1.000000</td>\n",
       "      <td>1.000000</td>\n",
       "      <td>1.000000</td>\n",
       "      <td>1.000000</td>\n",
       "      <td>1.000000</td>\n",
       "      <td>1.000000</td>\n",
       "      <td>1.000000</td>\n",
       "      <td>...</td>\n",
       "      <td>1.000000</td>\n",
       "      <td>1.000000</td>\n",
       "      <td>1.000000</td>\n",
       "      <td>1.000000</td>\n",
       "      <td>1.000000</td>\n",
       "      <td>1.000000</td>\n",
       "      <td>1.000000</td>\n",
       "      <td>1.000000</td>\n",
       "      <td>1.000000</td>\n",
       "      <td>1.000000</td>\n",
       "    </tr>\n",
       "  </tbody>\n",
       "</table>\n",
       "<p>8 rows × 305 columns</p>\n",
       "</div>"
      ],
      "text/plain": [
       "         Endkunde_NR  Erste_Buchung_Delta  Letzte_Buchung_Delta  \\\n",
       "count   17488.000000         17488.000000          17488.000000   \n",
       "mean   501878.899531             0.379212              0.111608   \n",
       "std    186253.366135             0.294295              0.124608   \n",
       "min    100034.000000             0.000000              0.000000   \n",
       "25%    482334.750000             0.166667              0.000000   \n",
       "50%    590102.000000             0.250000              0.100000   \n",
       "75%    628230.250000             0.666667              0.200000   \n",
       "max    660017.000000             1.000000              1.000000   \n",
       "\n",
       "       Erste_Letzte_Buchung_Delta  Netto_Sum_Aus_RY_0_KW_1  \\\n",
       "count                17488.000000             17488.000000   \n",
       "mean                     0.312224                 0.018213   \n",
       "std                      0.337764                 0.107383   \n",
       "min                      0.000000                 0.000000   \n",
       "25%                      0.000000                 0.000000   \n",
       "50%                      0.181818                 0.000000   \n",
       "75%                      0.636364                 0.000000   \n",
       "max                      1.000000                 1.000000   \n",
       "\n",
       "       Netto_Sum_Aus_RY_0_KW_11  Netto_Sum_Aus_RY_0_KW_13  \\\n",
       "count              17488.000000              17488.000000   \n",
       "mean                   0.015271                  0.028311   \n",
       "std                    0.097701                  0.131551   \n",
       "min                    0.000000                  0.000000   \n",
       "25%                    0.000000                  0.000000   \n",
       "50%                    0.000000                  0.000000   \n",
       "75%                    0.000000                  0.000000   \n",
       "max                    1.000000                  1.000000   \n",
       "\n",
       "       Netto_Sum_Aus_RY_0_KW_15  Netto_Sum_Aus_RY_0_KW_17  \\\n",
       "count              17488.000000              17488.000000   \n",
       "mean                   0.015437                  0.027897   \n",
       "std                    0.099253                  0.131370   \n",
       "min                    0.000000                  0.000000   \n",
       "25%                    0.000000                  0.000000   \n",
       "50%                    0.000000                  0.000000   \n",
       "75%                    0.000000                  0.000000   \n",
       "max                    1.000000                  1.000000   \n",
       "\n",
       "       Netto_Sum_Aus_RY_0_KW_19  ...          B765          B780  \\\n",
       "count              17488.000000  ...  17488.000000  17488.000000   \n",
       "mean                   0.016271  ...      0.002973      0.042372   \n",
       "std                    0.100786  ...      0.054450      0.201442   \n",
       "min                    0.000000  ...      0.000000      0.000000   \n",
       "25%                    0.000000  ...      0.000000      0.000000   \n",
       "50%                    0.000000  ...      0.000000      0.000000   \n",
       "75%                    0.000000  ...      0.000000      0.000000   \n",
       "max                    1.000000  ...      1.000000      1.000000   \n",
       "\n",
       "               B795          B800          B901          B950          B960  \\\n",
       "count  17488.000000  17488.000000  17488.000000  17488.000000  17488.000000   \n",
       "mean       0.014925      0.022415      0.032823      0.021329      0.112134   \n",
       "std        0.121254      0.148034      0.178177      0.144482      0.315540   \n",
       "min        0.000000      0.000000      0.000000      0.000000      0.000000   \n",
       "25%        0.000000      0.000000      0.000000      0.000000      0.000000   \n",
       "50%        0.000000      0.000000      0.000000      0.000000      0.000000   \n",
       "75%        0.000000      0.000000      0.000000      0.000000      0.000000   \n",
       "max        1.000000      1.000000      1.000000      1.000000      1.000000   \n",
       "\n",
       "               B970          B980          B990  \n",
       "count  17488.000000  17488.000000  17488.000000  \n",
       "mean       0.005718      0.033452      0.175377  \n",
       "std        0.075404      0.179818      0.380300  \n",
       "min        0.000000      0.000000      0.000000  \n",
       "25%        0.000000      0.000000      0.000000  \n",
       "50%        0.000000      0.000000      0.000000  \n",
       "75%        0.000000      0.000000      0.000000  \n",
       "max        1.000000      1.000000      1.000000  \n",
       "\n",
       "[8 rows x 305 columns]"
      ]
     },
     "metadata": {},
     "output_type": "display_data"
    }
   ],
   "source": [
    "print(\"\\ntraining_all\\n\")\n",
    "display(training_all.describe())\n",
    "print(\"\\nscoring_all\\n\")\n",
    "display(scoring_all.describe())"
   ]
  },
  {
   "cell_type": "code",
   "execution_count": null,
   "metadata": {},
   "outputs": [],
   "source": []
  },
  {
   "cell_type": "code",
   "execution_count": 7,
   "metadata": {},
   "outputs": [],
   "source": [
    "#desc_col(training_all.loc[:,feature_colnames_branchen])\n",
    "#desc_col(scoring_all.loc[:,feature_colnames_branchen])"
   ]
  },
  {
   "cell_type": "code",
   "execution_count": 8,
   "metadata": {
    "collapsed": true,
    "jupyter": {
     "outputs_hidden": true
    }
   },
   "outputs": [
    {
     "name": "stdout",
     "output_type": "stream",
     "text": [
      "Target_Res_flg == False\n"
     ]
    },
    {
     "data": {
      "image/png": "[encoded data removed]",
      "text/plain": [
       "<Figure size 1080x720 with 2 Axes>"
      ]
     },
     "metadata": {},
     "output_type": "display_data"
    },
    {
     "name": "stdout",
     "output_type": "stream",
     "text": [
      "Target_Res_flg == True\n"
     ]
    },
    {
     "data": {
      "image/png": "[encoded data removed]",
      "text/plain": [
       "<Figure size 1080x720 with 2 Axes>"
      ]
     },
     "metadata": {},
     "output_type": "display_data"
    },
    {
     "name": "stdout",
     "output_type": "stream",
     "text": [
      "Target_Res_flg == False\n"
     ]
    },
    {
     "data": {
      "image/png": "[encoded data removed]",
      "text/plain": [
       "<Figure size 1080x720 with 2 Axes>"
      ]
     },
     "metadata": {},
     "output_type": "display_data"
    },
    {
     "name": "stdout",
     "output_type": "stream",
     "text": [
      "Target_Res_flg == True\n"
     ]
    },
    {
     "data": {
      "image/png": "[encoded data removed]",
      "text/plain": [
       "<Figure size 1080x720 with 2 Axes>"
      ]
     },
     "metadata": {},
     "output_type": "display_data"
    },
    {
     "name": "stdout",
     "output_type": "stream",
     "text": [
      "Target_Res_flg == False\n"
     ]
    },
    {
     "data": {
      "image/png": "[encoded data removed]",
      "text/plain": [
       "<Figure size 1080x720 with 2 Axes>"
      ]
     },
     "metadata": {},
     "output_type": "display_data"
    },
    {
     "name": "stdout",
     "output_type": "stream",
     "text": [
      "Target_Res_flg == True\n"
     ]
    },
    {
     "data": {
      "image/png": "[encoded data removed]",
      "text/plain": [
       "<Figure size 1080x720 with 2 Axes>"
      ]
     },
     "metadata": {},
     "output_type": "display_data"
    }
   ],
   "source": [
    "temp_df = training_all\n",
    "print(\"Target_Res_flg == False\")\n",
    "boxplot_histogram(temp_df.loc[ temp_df.Target_Res_flg == False ,\"Erste_Buchung_Delta\"])\n",
    "print(\"Target_Res_flg == True\")\n",
    "boxplot_histogram(temp_df.loc[ temp_df.Target_Res_flg == True ,\"Erste_Buchung_Delta\"])\n",
    "\n",
    "print(\"Target_Res_flg == False\")\n",
    "boxplot_histogram(temp_df.loc[ temp_df.Target_Res_flg == False ,\"Letzte_Buchung_Delta\"])\n",
    "print(\"Target_Res_flg == True\")\n",
    "boxplot_histogram(temp_df.loc[ temp_df.Target_Res_flg == True ,\"Letzte_Buchung_Delta\"])\n",
    "\n",
    "\n",
    "print(\"Target_Res_flg == False\")\n",
    "boxplot_histogram(temp_df.loc[ temp_df.Target_Res_flg == False ,\"Erste_Letzte_Buchung_Delta\"])\n",
    "print(\"Target_Res_flg == True\")\n",
    "boxplot_histogram(temp_df.loc[ temp_df.Target_Res_flg == True ,\"Erste_Letzte_Buchung_Delta\"])"
   ]
  },
  {
   "cell_type": "markdown",
   "metadata": {},
   "source": [
    "## CRM Data"
   ]
  },
  {
   "cell_type": "code",
   "execution_count": 9,
   "metadata": {},
   "outputs": [],
   "source": [
    "from vkprog_crm_prep  import crm_train_scoring"
   ]
  },
  {
   "cell_type": "code",
   "execution_count": 10,
   "metadata": {},
   "outputs": [
    {
     "name": "stderr",
     "output_type": "stream",
     "text": [
      "2019-10-10 12:00:46 [INFO] Start.\n",
      "2019-10-10 12:00:46 [INFO] Started loading binary file\n",
      "2019-10-10 12:00:46 [INFO] Reading from file C:\\Users\\stc\\data\\vkprog\\crm_data_vkprog.feather\n",
      "2019-10-10 12:00:46 [INFO] Finished loading binary file in 0.2s (0.36s CPU)\n",
      "2019-10-10 12:00:57 [INFO] Finished.\n"
     ]
    }
   ],
   "source": [
    "(crm_train_df, crm_score_df) = crm_train_scoring(day=7,\n",
    "    month=10,\n",
    "    year_score=2019,\n",
    "    year_train=2018,\n",
    "    year_span=4)"
   ]
  },
  {
   "cell_type": "code",
   "execution_count": 14,
   "metadata": {},
   "outputs": [
    {
     "data": {
      "text/html": [
       "<div>\n",
       "<style scoped>\n",
       "    .dataframe tbody tr th:only-of-type {\n",
       "        vertical-align: middle;\n",
       "    }\n",
       "\n",
       "    .dataframe tbody tr th {\n",
       "        vertical-align: top;\n",
       "    }\n",
       "\n",
       "    .dataframe thead th {\n",
       "        text-align: right;\n",
       "    }\n",
       "</style>\n",
       "<table border=\"1\" class=\"dataframe\">\n",
       "  <thead>\n",
       "    <tr style=\"text-align: right;\">\n",
       "      <th></th>\n",
       "      <th>DTYPE</th>\n",
       "      <th>NULLS</th>\n",
       "      <th>UNIQUE</th>\n",
       "    </tr>\n",
       "  </thead>\n",
       "  <tbody>\n",
       "    <tr>\n",
       "      <th>Endkunde_NR</th>\n",
       "      <td>int64</td>\n",
       "      <td>0/45403</td>\n",
       "      <td>45403</td>\n",
       "    </tr>\n",
       "    <tr>\n",
       "      <th>RY_0_Anz_Besprechung</th>\n",
       "      <td>int64</td>\n",
       "      <td>0/45403</td>\n",
       "      <td>10</td>\n",
       "    </tr>\n",
       "    <tr>\n",
       "      <th>RY_1_Anz_Besprechung</th>\n",
       "      <td>int64</td>\n",
       "      <td>0/45403</td>\n",
       "      <td>18</td>\n",
       "    </tr>\n",
       "    <tr>\n",
       "      <th>RY_2_Anz_Besprechung</th>\n",
       "      <td>int64</td>\n",
       "      <td>0/45403</td>\n",
       "      <td>14</td>\n",
       "    </tr>\n",
       "    <tr>\n",
       "      <th>RY_3_Anz_Besprechung</th>\n",
       "      <td>int64</td>\n",
       "      <td>0/45403</td>\n",
       "      <td>7</td>\n",
       "    </tr>\n",
       "    <tr>\n",
       "      <th>RY_0_Anz_Besuch</th>\n",
       "      <td>int64</td>\n",
       "      <td>0/45403</td>\n",
       "      <td>29</td>\n",
       "    </tr>\n",
       "    <tr>\n",
       "      <th>RY_1_Anz_Besuch</th>\n",
       "      <td>int64</td>\n",
       "      <td>0/45403</td>\n",
       "      <td>30</td>\n",
       "    </tr>\n",
       "    <tr>\n",
       "      <th>RY_2_Anz_Besuch</th>\n",
       "      <td>int64</td>\n",
       "      <td>0/45403</td>\n",
       "      <td>30</td>\n",
       "    </tr>\n",
       "    <tr>\n",
       "      <th>RY_3_Anz_Besuch</th>\n",
       "      <td>int64</td>\n",
       "      <td>0/45403</td>\n",
       "      <td>29</td>\n",
       "    </tr>\n",
       "    <tr>\n",
       "      <th>RY_0_Anz_Brief_Dankeskarte</th>\n",
       "      <td>int64</td>\n",
       "      <td>0/45403</td>\n",
       "      <td>8</td>\n",
       "    </tr>\n",
       "    <tr>\n",
       "      <th>RY_1_Anz_Brief_Dankeskarte</th>\n",
       "      <td>int64</td>\n",
       "      <td>0/45403</td>\n",
       "      <td>8</td>\n",
       "    </tr>\n",
       "    <tr>\n",
       "      <th>RY_2_Anz_Brief_Dankeskarte</th>\n",
       "      <td>int64</td>\n",
       "      <td>0/45403</td>\n",
       "      <td>11</td>\n",
       "    </tr>\n",
       "    <tr>\n",
       "      <th>RY_3_Anz_Brief_Dankeskarte</th>\n",
       "      <td>int64</td>\n",
       "      <td>0/45403</td>\n",
       "      <td>14</td>\n",
       "    </tr>\n",
       "    <tr>\n",
       "      <th>RY_0_Anz_E-Mail</th>\n",
       "      <td>int64</td>\n",
       "      <td>0/45403</td>\n",
       "      <td>118</td>\n",
       "    </tr>\n",
       "    <tr>\n",
       "      <th>RY_1_Anz_E-Mail</th>\n",
       "      <td>int64</td>\n",
       "      <td>0/45403</td>\n",
       "      <td>107</td>\n",
       "    </tr>\n",
       "    <tr>\n",
       "      <th>RY_2_Anz_E-Mail</th>\n",
       "      <td>int64</td>\n",
       "      <td>0/45403</td>\n",
       "      <td>94</td>\n",
       "    </tr>\n",
       "    <tr>\n",
       "      <th>RY_3_Anz_E-Mail</th>\n",
       "      <td>int64</td>\n",
       "      <td>0/45403</td>\n",
       "      <td>87</td>\n",
       "    </tr>\n",
       "    <tr>\n",
       "      <th>RY_0_Anz_Event_Veranstaltung</th>\n",
       "      <td>int64</td>\n",
       "      <td>0/45403</td>\n",
       "      <td>6</td>\n",
       "    </tr>\n",
       "    <tr>\n",
       "      <th>RY_1_Anz_Event_Veranstaltung</th>\n",
       "      <td>int64</td>\n",
       "      <td>0/45403</td>\n",
       "      <td>5</td>\n",
       "    </tr>\n",
       "    <tr>\n",
       "      <th>RY_2_Anz_Event_Veranstaltung</th>\n",
       "      <td>int64</td>\n",
       "      <td>0/45403</td>\n",
       "      <td>10</td>\n",
       "    </tr>\n",
       "    <tr>\n",
       "      <th>RY_3_Anz_Event_Veranstaltung</th>\n",
       "      <td>int64</td>\n",
       "      <td>0/45403</td>\n",
       "      <td>9</td>\n",
       "    </tr>\n",
       "    <tr>\n",
       "      <th>RY_0_Anz_Telefon</th>\n",
       "      <td>int64</td>\n",
       "      <td>0/45403</td>\n",
       "      <td>20</td>\n",
       "    </tr>\n",
       "    <tr>\n",
       "      <th>RY_1_Anz_Telefon</th>\n",
       "      <td>int64</td>\n",
       "      <td>0/45403</td>\n",
       "      <td>24</td>\n",
       "    </tr>\n",
       "    <tr>\n",
       "      <th>RY_2_Anz_Telefon</th>\n",
       "      <td>int64</td>\n",
       "      <td>0/45403</td>\n",
       "      <td>27</td>\n",
       "    </tr>\n",
       "    <tr>\n",
       "      <th>RY_3_Anz_Telefon</th>\n",
       "      <td>int64</td>\n",
       "      <td>0/45403</td>\n",
       "      <td>30</td>\n",
       "    </tr>\n",
       "    <tr>\n",
       "      <th>RY_0_Anz_Anderes</th>\n",
       "      <td>int64</td>\n",
       "      <td>0/45403</td>\n",
       "      <td>8</td>\n",
       "    </tr>\n",
       "    <tr>\n",
       "      <th>RY_1_Anz_Anderes</th>\n",
       "      <td>int64</td>\n",
       "      <td>0/45403</td>\n",
       "      <td>8</td>\n",
       "    </tr>\n",
       "    <tr>\n",
       "      <th>RY_2_Anz_Anderes</th>\n",
       "      <td>int64</td>\n",
       "      <td>0/45403</td>\n",
       "      <td>7</td>\n",
       "    </tr>\n",
       "    <tr>\n",
       "      <th>RY_3_Anz_Anderes</th>\n",
       "      <td>int64</td>\n",
       "      <td>0/45403</td>\n",
       "      <td>7</td>\n",
       "    </tr>\n",
       "    <tr>\n",
       "      <th>Letzter_Kontakt_Delta_Anderes</th>\n",
       "      <td>float64</td>\n",
       "      <td>0/45403</td>\n",
       "      <td>206</td>\n",
       "    </tr>\n",
       "    <tr>\n",
       "      <th>Letzter_Kontakt_Delta_Besprechung</th>\n",
       "      <td>float64</td>\n",
       "      <td>0/45403</td>\n",
       "      <td>458</td>\n",
       "    </tr>\n",
       "    <tr>\n",
       "      <th>Letzter_Kontakt_Delta_Besuch</th>\n",
       "      <td>float64</td>\n",
       "      <td>0/45403</td>\n",
       "      <td>1387</td>\n",
       "    </tr>\n",
       "    <tr>\n",
       "      <th>Letzter_Kontakt_Delta_Brief_Dankeskarte</th>\n",
       "      <td>float64</td>\n",
       "      <td>0/45403</td>\n",
       "      <td>685</td>\n",
       "    </tr>\n",
       "    <tr>\n",
       "      <th>Letzter_Kontakt_Delta_E-Mail</th>\n",
       "      <td>float64</td>\n",
       "      <td>0/45403</td>\n",
       "      <td>1129</td>\n",
       "    </tr>\n",
       "    <tr>\n",
       "      <th>Letzter_Kontakt_Delta_Event_Veranstaltung</th>\n",
       "      <td>float64</td>\n",
       "      <td>0/45403</td>\n",
       "      <td>268</td>\n",
       "    </tr>\n",
       "    <tr>\n",
       "      <th>Letzter_Kontakt_Delta_Telefon</th>\n",
       "      <td>float64</td>\n",
       "      <td>0/45403</td>\n",
       "      <td>1225</td>\n",
       "    </tr>\n",
       "    <tr>\n",
       "      <th>Letzter_Kontakt_Delta_global</th>\n",
       "      <td>float64</td>\n",
       "      <td>0/45403</td>\n",
       "      <td>1256</td>\n",
       "    </tr>\n",
       "  </tbody>\n",
       "</table>\n",
       "</div>"
      ],
      "text/plain": [
       "                                             DTYPE    NULLS UNIQUE\n",
       "Endkunde_NR                                  int64  0/45403  45403\n",
       "RY_0_Anz_Besprechung                         int64  0/45403     10\n",
       "RY_1_Anz_Besprechung                         int64  0/45403     18\n",
       "RY_2_Anz_Besprechung                         int64  0/45403     14\n",
       "RY_3_Anz_Besprechung                         int64  0/45403      7\n",
       "RY_0_Anz_Besuch                              int64  0/45403     29\n",
       "RY_1_Anz_Besuch                              int64  0/45403     30\n",
       "RY_2_Anz_Besuch                              int64  0/45403     30\n",
       "RY_3_Anz_Besuch                              int64  0/45403     29\n",
       "RY_0_Anz_Brief_Dankeskarte                   int64  0/45403      8\n",
       "RY_1_Anz_Brief_Dankeskarte                   int64  0/45403      8\n",
       "RY_2_Anz_Brief_Dankeskarte                   int64  0/45403     11\n",
       "RY_3_Anz_Brief_Dankeskarte                   int64  0/45403     14\n",
       "RY_0_Anz_E-Mail                              int64  0/45403    118\n",
       "RY_1_Anz_E-Mail                              int64  0/45403    107\n",
       "RY_2_Anz_E-Mail                              int64  0/45403     94\n",
       "RY_3_Anz_E-Mail                              int64  0/45403     87\n",
       "RY_0_Anz_Event_Veranstaltung                 int64  0/45403      6\n",
       "RY_1_Anz_Event_Veranstaltung                 int64  0/45403      5\n",
       "RY_2_Anz_Event_Veranstaltung                 int64  0/45403     10\n",
       "RY_3_Anz_Event_Veranstaltung                 int64  0/45403      9\n",
       "RY_0_Anz_Telefon                             int64  0/45403     20\n",
       "RY_1_Anz_Telefon                             int64  0/45403     24\n",
       "RY_2_Anz_Telefon                             int64  0/45403     27\n",
       "RY_3_Anz_Telefon                             int64  0/45403     30\n",
       "RY_0_Anz_Anderes                             int64  0/45403      8\n",
       "RY_1_Anz_Anderes                             int64  0/45403      8\n",
       "RY_2_Anz_Anderes                             int64  0/45403      7\n",
       "RY_3_Anz_Anderes                             int64  0/45403      7\n",
       "Letzter_Kontakt_Delta_Anderes              float64  0/45403    206\n",
       "Letzter_Kontakt_Delta_Besprechung          float64  0/45403    458\n",
       "Letzter_Kontakt_Delta_Besuch               float64  0/45403   1387\n",
       "Letzter_Kontakt_Delta_Brief_Dankeskarte    float64  0/45403    685\n",
       "Letzter_Kontakt_Delta_E-Mail               float64  0/45403   1129\n",
       "Letzter_Kontakt_Delta_Event_Veranstaltung  float64  0/45403    268\n",
       "Letzter_Kontakt_Delta_Telefon              float64  0/45403   1225\n",
       "Letzter_Kontakt_Delta_global               float64  0/45403   1256"
      ]
     },
     "execution_count": 14,
     "metadata": {},
     "output_type": "execute_result"
    }
   ],
   "source": [
    "desc_col(crm_train_df)"
   ]
  },
  {
   "cell_type": "code",
   "execution_count": 18,
   "metadata": {},
   "outputs": [],
   "source": [
    "test_train_df = pd.merge(training_all.loc[:,\"Endkunde_NR\"], crm_train_df,how=\"left\", on=\"Endkunde_NR\")"
   ]
  },
  {
   "cell_type": "code",
   "execution_count": 19,
   "metadata": {},
   "outputs": [
    {
     "data": {
      "text/html": [
       "<div>\n",
       "<style scoped>\n",
       "    .dataframe tbody tr th:only-of-type {\n",
       "        vertical-align: middle;\n",
       "    }\n",
       "\n",
       "    .dataframe tbody tr th {\n",
       "        vertical-align: top;\n",
       "    }\n",
       "\n",
       "    .dataframe thead th {\n",
       "        text-align: right;\n",
       "    }\n",
       "</style>\n",
       "<table border=\"1\" class=\"dataframe\">\n",
       "  <thead>\n",
       "    <tr style=\"text-align: right;\">\n",
       "      <th></th>\n",
       "      <th>DTYPE</th>\n",
       "      <th>NULLS</th>\n",
       "      <th>UNIQUE</th>\n",
       "    </tr>\n",
       "  </thead>\n",
       "  <tbody>\n",
       "    <tr>\n",
       "      <th>Endkunde_NR</th>\n",
       "      <td>int64</td>\n",
       "      <td>0/17625</td>\n",
       "      <td>17625</td>\n",
       "    </tr>\n",
       "    <tr>\n",
       "      <th>RY_0_Anz_Besprechung</th>\n",
       "      <td>float64</td>\n",
       "      <td>2472/15153</td>\n",
       "      <td>8</td>\n",
       "    </tr>\n",
       "    <tr>\n",
       "      <th>RY_1_Anz_Besprechung</th>\n",
       "      <td>float64</td>\n",
       "      <td>2472/15153</td>\n",
       "      <td>18</td>\n",
       "    </tr>\n",
       "    <tr>\n",
       "      <th>RY_2_Anz_Besprechung</th>\n",
       "      <td>float64</td>\n",
       "      <td>2472/15153</td>\n",
       "      <td>13</td>\n",
       "    </tr>\n",
       "    <tr>\n",
       "      <th>RY_3_Anz_Besprechung</th>\n",
       "      <td>float64</td>\n",
       "      <td>2472/15153</td>\n",
       "      <td>6</td>\n",
       "    </tr>\n",
       "    <tr>\n",
       "      <th>RY_0_Anz_Besuch</th>\n",
       "      <td>float64</td>\n",
       "      <td>2472/15153</td>\n",
       "      <td>23</td>\n",
       "    </tr>\n",
       "    <tr>\n",
       "      <th>RY_1_Anz_Besuch</th>\n",
       "      <td>float64</td>\n",
       "      <td>2472/15153</td>\n",
       "      <td>25</td>\n",
       "    </tr>\n",
       "    <tr>\n",
       "      <th>RY_2_Anz_Besuch</th>\n",
       "      <td>float64</td>\n",
       "      <td>2472/15153</td>\n",
       "      <td>24</td>\n",
       "    </tr>\n",
       "    <tr>\n",
       "      <th>RY_3_Anz_Besuch</th>\n",
       "      <td>float64</td>\n",
       "      <td>2472/15153</td>\n",
       "      <td>23</td>\n",
       "    </tr>\n",
       "    <tr>\n",
       "      <th>RY_0_Anz_Brief_Dankeskarte</th>\n",
       "      <td>float64</td>\n",
       "      <td>2472/15153</td>\n",
       "      <td>8</td>\n",
       "    </tr>\n",
       "    <tr>\n",
       "      <th>RY_1_Anz_Brief_Dankeskarte</th>\n",
       "      <td>float64</td>\n",
       "      <td>2472/15153</td>\n",
       "      <td>8</td>\n",
       "    </tr>\n",
       "    <tr>\n",
       "      <th>RY_2_Anz_Brief_Dankeskarte</th>\n",
       "      <td>float64</td>\n",
       "      <td>2472/15153</td>\n",
       "      <td>10</td>\n",
       "    </tr>\n",
       "    <tr>\n",
       "      <th>RY_3_Anz_Brief_Dankeskarte</th>\n",
       "      <td>float64</td>\n",
       "      <td>2472/15153</td>\n",
       "      <td>12</td>\n",
       "    </tr>\n",
       "    <tr>\n",
       "      <th>RY_0_Anz_E-Mail</th>\n",
       "      <td>float64</td>\n",
       "      <td>2472/15153</td>\n",
       "      <td>95</td>\n",
       "    </tr>\n",
       "    <tr>\n",
       "      <th>RY_1_Anz_E-Mail</th>\n",
       "      <td>float64</td>\n",
       "      <td>2472/15153</td>\n",
       "      <td>80</td>\n",
       "    </tr>\n",
       "    <tr>\n",
       "      <th>RY_2_Anz_E-Mail</th>\n",
       "      <td>float64</td>\n",
       "      <td>2472/15153</td>\n",
       "      <td>70</td>\n",
       "    </tr>\n",
       "    <tr>\n",
       "      <th>RY_3_Anz_E-Mail</th>\n",
       "      <td>float64</td>\n",
       "      <td>2472/15153</td>\n",
       "      <td>65</td>\n",
       "    </tr>\n",
       "    <tr>\n",
       "      <th>RY_0_Anz_Event_Veranstaltung</th>\n",
       "      <td>float64</td>\n",
       "      <td>2472/15153</td>\n",
       "      <td>5</td>\n",
       "    </tr>\n",
       "    <tr>\n",
       "      <th>RY_1_Anz_Event_Veranstaltung</th>\n",
       "      <td>float64</td>\n",
       "      <td>2472/15153</td>\n",
       "      <td>5</td>\n",
       "    </tr>\n",
       "    <tr>\n",
       "      <th>RY_2_Anz_Event_Veranstaltung</th>\n",
       "      <td>float64</td>\n",
       "      <td>2472/15153</td>\n",
       "      <td>8</td>\n",
       "    </tr>\n",
       "    <tr>\n",
       "      <th>RY_3_Anz_Event_Veranstaltung</th>\n",
       "      <td>float64</td>\n",
       "      <td>2472/15153</td>\n",
       "      <td>7</td>\n",
       "    </tr>\n",
       "    <tr>\n",
       "      <th>RY_0_Anz_Telefon</th>\n",
       "      <td>float64</td>\n",
       "      <td>2472/15153</td>\n",
       "      <td>16</td>\n",
       "    </tr>\n",
       "    <tr>\n",
       "      <th>RY_1_Anz_Telefon</th>\n",
       "      <td>float64</td>\n",
       "      <td>2472/15153</td>\n",
       "      <td>19</td>\n",
       "    </tr>\n",
       "    <tr>\n",
       "      <th>RY_2_Anz_Telefon</th>\n",
       "      <td>float64</td>\n",
       "      <td>2472/15153</td>\n",
       "      <td>20</td>\n",
       "    </tr>\n",
       "    <tr>\n",
       "      <th>RY_3_Anz_Telefon</th>\n",
       "      <td>float64</td>\n",
       "      <td>2472/15153</td>\n",
       "      <td>24</td>\n",
       "    </tr>\n",
       "    <tr>\n",
       "      <th>RY_0_Anz_Anderes</th>\n",
       "      <td>float64</td>\n",
       "      <td>2472/15153</td>\n",
       "      <td>7</td>\n",
       "    </tr>\n",
       "    <tr>\n",
       "      <th>RY_1_Anz_Anderes</th>\n",
       "      <td>float64</td>\n",
       "      <td>2472/15153</td>\n",
       "      <td>8</td>\n",
       "    </tr>\n",
       "    <tr>\n",
       "      <th>RY_2_Anz_Anderes</th>\n",
       "      <td>float64</td>\n",
       "      <td>2472/15153</td>\n",
       "      <td>7</td>\n",
       "    </tr>\n",
       "    <tr>\n",
       "      <th>RY_3_Anz_Anderes</th>\n",
       "      <td>float64</td>\n",
       "      <td>2472/15153</td>\n",
       "      <td>7</td>\n",
       "    </tr>\n",
       "    <tr>\n",
       "      <th>Letzter_Kontakt_Delta_Anderes</th>\n",
       "      <td>float64</td>\n",
       "      <td>2472/15153</td>\n",
       "      <td>126</td>\n",
       "    </tr>\n",
       "    <tr>\n",
       "      <th>Letzter_Kontakt_Delta_Besprechung</th>\n",
       "      <td>float64</td>\n",
       "      <td>2472/15153</td>\n",
       "      <td>319</td>\n",
       "    </tr>\n",
       "    <tr>\n",
       "      <th>Letzter_Kontakt_Delta_Besuch</th>\n",
       "      <td>float64</td>\n",
       "      <td>2472/15153</td>\n",
       "      <td>1255</td>\n",
       "    </tr>\n",
       "    <tr>\n",
       "      <th>Letzter_Kontakt_Delta_Brief_Dankeskarte</th>\n",
       "      <td>float64</td>\n",
       "      <td>2472/15153</td>\n",
       "      <td>596</td>\n",
       "    </tr>\n",
       "    <tr>\n",
       "      <th>Letzter_Kontakt_Delta_E-Mail</th>\n",
       "      <td>float64</td>\n",
       "      <td>2472/15153</td>\n",
       "      <td>801</td>\n",
       "    </tr>\n",
       "    <tr>\n",
       "      <th>Letzter_Kontakt_Delta_Event_Veranstaltung</th>\n",
       "      <td>float64</td>\n",
       "      <td>2472/15153</td>\n",
       "      <td>188</td>\n",
       "    </tr>\n",
       "    <tr>\n",
       "      <th>Letzter_Kontakt_Delta_Telefon</th>\n",
       "      <td>float64</td>\n",
       "      <td>2472/15153</td>\n",
       "      <td>1125</td>\n",
       "    </tr>\n",
       "    <tr>\n",
       "      <th>Letzter_Kontakt_Delta_global</th>\n",
       "      <td>float64</td>\n",
       "      <td>2472/15153</td>\n",
       "      <td>845</td>\n",
       "    </tr>\n",
       "  </tbody>\n",
       "</table>\n",
       "</div>"
      ],
      "text/plain": [
       "                                             DTYPE       NULLS UNIQUE\n",
       "Endkunde_NR                                  int64     0/17625  17625\n",
       "RY_0_Anz_Besprechung                       float64  2472/15153      8\n",
       "RY_1_Anz_Besprechung                       float64  2472/15153     18\n",
       "RY_2_Anz_Besprechung                       float64  2472/15153     13\n",
       "RY_3_Anz_Besprechung                       float64  2472/15153      6\n",
       "RY_0_Anz_Besuch                            float64  2472/15153     23\n",
       "RY_1_Anz_Besuch                            float64  2472/15153     25\n",
       "RY_2_Anz_Besuch                            float64  2472/15153     24\n",
       "RY_3_Anz_Besuch                            float64  2472/15153     23\n",
       "RY_0_Anz_Brief_Dankeskarte                 float64  2472/15153      8\n",
       "RY_1_Anz_Brief_Dankeskarte                 float64  2472/15153      8\n",
       "RY_2_Anz_Brief_Dankeskarte                 float64  2472/15153     10\n",
       "RY_3_Anz_Brief_Dankeskarte                 float64  2472/15153     12\n",
       "RY_0_Anz_E-Mail                            float64  2472/15153     95\n",
       "RY_1_Anz_E-Mail                            float64  2472/15153     80\n",
       "RY_2_Anz_E-Mail                            float64  2472/15153     70\n",
       "RY_3_Anz_E-Mail                            float64  2472/15153     65\n",
       "RY_0_Anz_Event_Veranstaltung               float64  2472/15153      5\n",
       "RY_1_Anz_Event_Veranstaltung               float64  2472/15153      5\n",
       "RY_2_Anz_Event_Veranstaltung               float64  2472/15153      8\n",
       "RY_3_Anz_Event_Veranstaltung               float64  2472/15153      7\n",
       "RY_0_Anz_Telefon                           float64  2472/15153     16\n",
       "RY_1_Anz_Telefon                           float64  2472/15153     19\n",
       "RY_2_Anz_Telefon                           float64  2472/15153     20\n",
       "RY_3_Anz_Telefon                           float64  2472/15153     24\n",
       "RY_0_Anz_Anderes                           float64  2472/15153      7\n",
       "RY_1_Anz_Anderes                           float64  2472/15153      8\n",
       "RY_2_Anz_Anderes                           float64  2472/15153      7\n",
       "RY_3_Anz_Anderes                           float64  2472/15153      7\n",
       "Letzter_Kontakt_Delta_Anderes              float64  2472/15153    126\n",
       "Letzter_Kontakt_Delta_Besprechung          float64  2472/15153    319\n",
       "Letzter_Kontakt_Delta_Besuch               float64  2472/15153   1255\n",
       "Letzter_Kontakt_Delta_Brief_Dankeskarte    float64  2472/15153    596\n",
       "Letzter_Kontakt_Delta_E-Mail               float64  2472/15153    801\n",
       "Letzter_Kontakt_Delta_Event_Veranstaltung  float64  2472/15153    188\n",
       "Letzter_Kontakt_Delta_Telefon              float64  2472/15153   1125\n",
       "Letzter_Kontakt_Delta_global               float64  2472/15153    845"
      ]
     },
     "execution_count": 19,
     "metadata": {},
     "output_type": "execute_result"
    }
   ],
   "source": [
    "desc_col(test_train_df)"
   ]
  },
  {
   "cell_type": "markdown",
   "metadata": {
    "toc-hr-collapsed": false
   },
   "source": [
    "# Modeling"
   ]
  },
  {
   "cell_type": "markdown",
   "metadata": {},
   "source": [
    "## Define Columns: Features versus Targets"
   ]
  },
  {
   "cell_type": "code",
   "execution_count": null,
   "metadata": {},
   "outputs": [],
   "source": [
    "from itertools import compress\n",
    "features = feature_colnames_bd + feature_colnames_dates + feature_colnames_branchen\n",
    "#feature_columns = list(compress(features,[\"Target\" not in s for s in features]))\n",
    "\n",
    "feature_columns_boolean = pd.Series(features).str.match('^Target')\n",
    "feature_columns = pd.Series(features).loc[~feature_columns_boolean]\n",
    "\n",
    "feature_columns_boolean = pd.Series(training_all.columns).str.match('^Target')\n",
    "target_columns = pd.Series(training_all.columns).loc[feature_columns_boolean]\n",
    "\n",
    "del feature_columns_boolean\n",
    "\n",
    "#target_columns  = list(compress(training_all.columns,[\"Target\" in s for s in training_all.columns]))"
   ]
  },
  {
   "cell_type": "code",
   "execution_count": null,
   "metadata": {},
   "outputs": [],
   "source": [
    "print(len(feature_columns))\n",
    "print(target_columns)"
   ]
  },
  {
   "cell_type": "code",
   "execution_count": null,
   "metadata": {},
   "outputs": [],
   "source": [
    "#[\"Target\" not in s for s in features]\n",
    "#features\n",
    "#feature_columns"
   ]
  },
  {
   "cell_type": "markdown",
   "metadata": {},
   "source": [
    "## Split ``training_all`` into training-set (``X_train``,``y_train``) and test-set (``X_test``,``y_test``)"
   ]
  },
  {
   "cell_type": "code",
   "execution_count": null,
   "metadata": {},
   "outputs": [],
   "source": [
    "df_features = training_all.loc[:,feature_columns].to_numpy()\n",
    "df_target   = training_all.loc[:, \"Target_Res_flg\"].to_numpy()\n",
    "\n",
    "df_scoring_features = scoring_all.loc[:,feature_columns].to_numpy()"
   ]
  },
  {
   "cell_type": "code",
   "execution_count": null,
   "metadata": {},
   "outputs": [],
   "source": [
    "from sklearn.model_selection import train_test_split\n",
    "\n",
    "X_train, X_test, y_train, y_test = train_test_split(\n",
    "    #df_features, df_target, train_size=0.80, random_state=42)\n",
    "    df_features, df_target, train_size=0.75, random_state=42)"
   ]
  },
  {
   "cell_type": "code",
   "execution_count": null,
   "metadata": {},
   "outputs": [],
   "source": [
    "print(\"Shape:\")\n",
    "print(\"X_train:\", X_train.shape)\n",
    "print(\"y_train:\", y_train.shape)\n",
    "print(\"X_test:\", X_test.shape)\n",
    "print(\"y_test:\", y_test.shape)\n",
    "print(\"\\ndf_scoring_features\", df_scoring_features.shape)"
   ]
  },
  {
   "cell_type": "code",
   "execution_count": null,
   "metadata": {},
   "outputs": [],
   "source": [
    "from scipy import stats\n",
    "print('y_train:')\n",
    "print(pd.DataFrame(y_train).groupby(0)[0].count())\n",
    "print(stats.describe(y_train))\n",
    "\n",
    "print('\\ny_test:')\n",
    "print(pd.DataFrame(y_test).groupby(0)[0].count())\n",
    "print(stats.describe(y_test))\n"
   ]
  },
  {
   "cell_type": "markdown",
   "metadata": {},
   "source": [
    "## Balance Training Dataset"
   ]
  },
  {
   "cell_type": "code",
   "execution_count": null,
   "metadata": {},
   "outputs": [],
   "source": [
    "from imblearn.over_sampling import SMOTE\n",
    "#ros = RandomOverSampler(random_state=42)\n",
    "sm  = SMOTE(random_state=42)\n",
    "\n",
    "X_train_balanced, y_train_balanced = sm.fit_resample(X_train, y_train)"
   ]
  },
  {
   "cell_type": "code",
   "execution_count": null,
   "metadata": {},
   "outputs": [],
   "source": [
    "print('y_train_balanced:')\n",
    "print(pd.DataFrame(y_train_balanced).groupby(0)[0].count())\n",
    "print(stats.describe(y_train_balanced))"
   ]
  },
  {
   "cell_type": "markdown",
   "metadata": {},
   "source": [
    "## Feature selection: SelectkBest"
   ]
  },
  {
   "cell_type": "markdown",
   "metadata": {},
   "source": [
    "``SelectPercentile`` removes all but a user-specified highest scoring percentage of features.\n",
    "\n",
    "https://scikit-learn.org/stable/modules/generated/sklearn.feature_selection.SelectPercentile.html"
   ]
  },
  {
   "cell_type": "code",
   "execution_count": null,
   "metadata": {},
   "outputs": [],
   "source": [
    "#from sklearn.feature_selection import SelectPercentile\n",
    "from sklearn.feature_selection import SelectKBest\n",
    "from sklearn.feature_selection import f_classif # ANOVA F-value\n",
    "from sklearn.feature_selection import mutual_info_classif\n",
    "from itertools import compress"
   ]
  },
  {
   "cell_type": "code",
   "execution_count": null,
   "metadata": {},
   "outputs": [],
   "source": [
    "%%time\n",
    "#Wall time: 38.1 s\n",
    "\n",
    "# use f_classif (the default) and SelectPercentile to select 50% of features\n",
    "\"\"\"\n",
    "select = SelectPercentile(score_func=mutual_info_classif,\n",
    "                          percentile=100)\n",
    "\"\"\"\n",
    "select = SelectKBest(score_func=mutual_info_classif,\n",
    "            k=100 # How many features? (currently 219 is max)\n",
    "            )\n",
    "select.fit(X_train_balanced, y_train_balanced)\n",
    "\n",
    "mask = select.get_support() # boolean array."
   ]
  },
  {
   "cell_type": "code",
   "execution_count": null,
   "metadata": {},
   "outputs": [],
   "source": [
    "print(\"X_train_balanced.shape: {}\".format(X_train_balanced.shape))\n",
    "print(\"X_train_balanced[:,mask].shape: {}\".format(X_train_balanced[:,mask].shape))"
   ]
  },
  {
   "cell_type": "code",
   "execution_count": null,
   "metadata": {},
   "outputs": [],
   "source": [
    "feature_columns  = feature_columns.loc[mask]\n",
    "X_train_balanced = X_train_balanced[:,mask]\n",
    "X_train          = X_train[:,mask]\n",
    "X_test           = X_test[:,mask]\n",
    "X_scoring        = df_scoring_features[:,mask]"
   ]
  },
  {
   "cell_type": "code",
   "execution_count": null,
   "metadata": {},
   "outputs": [],
   "source": [
    "print(\"X_scoring:\",X_scoring.shape)"
   ]
  },
  {
   "cell_type": "markdown",
   "metadata": {
    "toc-hr-collapsed": false
   },
   "source": [
    "## Model Training"
   ]
  },
  {
   "cell_type": "markdown",
   "metadata": {
    "toc-hr-collapsed": false
   },
   "source": [
    "### Logistic Regression (base model)"
   ]
  },
  {
   "cell_type": "code",
   "execution_count": null,
   "metadata": {},
   "outputs": [],
   "source": [
    "from sklearn.linear_model import LogisticRegression"
   ]
  },
  {
   "cell_type": "code",
   "execution_count": null,
   "metadata": {},
   "outputs": [],
   "source": [
    "%%time\n",
    "# Wall time: 1min 13s\n",
    "logreg_C1000 = LogisticRegression(n_jobs=-1,\n",
    "                               solver=\"sag\",\n",
    "                               max_iter=100000,\n",
    "                               C=1000 #adjustable, bigger mean less restriction on coefficients\n",
    "                              ).fit(X_train_balanced, y_train_balanced) # bigger C\n",
    "\n",
    "print(\"Training set score: {:.3f}\".format(logreg_C1000.score(X_train_balanced, y_train_balanced)))\n",
    "print(\"Test set score: {:.3f}\".format(logreg_C1000.score(X_test, y_test)))"
   ]
  },
  {
   "cell_type": "code",
   "execution_count": null,
   "metadata": {},
   "outputs": [],
   "source": [
    "%%time\n",
    "# Wall time: 543 ms\n",
    "logreg_C0001 = LogisticRegression(n_jobs=-1,\n",
    "                               solver=\"sag\",\n",
    "                               max_iter=100000,\n",
    "                               C=0.001 #adjustable, bigger mean less restriction on coefficients\n",
    "                              ).fit(X_train_balanced, y_train_balanced) # bigger C\n",
    "\n",
    "print(\"Training set score: {:.3f}\".format(logreg_C0001.score(X_train_balanced, y_train_balanced)))\n",
    "print(\"Test set score: {:.3f}\".format(logreg_C0001.score(X_test, y_test)))"
   ]
  },
  {
   "cell_type": "markdown",
   "metadata": {},
   "source": [
    "#### Plot Coefficients"
   ]
  },
  {
   "cell_type": "code",
   "execution_count": null,
   "metadata": {},
   "outputs": [],
   "source": [
    "# %% Plot: Compare LogReg-coefficients for different C (1000, 0.001)\n",
    "plt.figure(figsize=(70,10))\n",
    "plt.grid()\n",
    "plt.plot(logreg_C0001.coef_.T, '^', label=\"C=0.001\")\n",
    "plt.plot(logreg_C1000.coef_.T,    'o', label=\"C=1000\")\n",
    "plt.xticks(range(len(feature_columns)), feature_columns, rotation=90)\n",
    "plt.hlines(0, 0, len(feature_columns))\n",
    "plt.ylim(min(logreg_C1000.coef_.T), max(logreg_C1000.coef_.T))\n",
    "plt.xlabel(\"Feature\")\n",
    "plt.ylabel(\"Coefficient magnitude\")\n",
    "plt.legend()\n",
    "plt.savefig('this_is_a_test.png')"
   ]
  },
  {
   "cell_type": "code",
   "execution_count": null,
   "metadata": {},
   "outputs": [],
   "source": [
    "test_df = pd.DataFrame(data={'feature': pd.Series(feature_columns), \n",
    "                             'C1000': list(logreg_C1000.coef_.T),\n",
    "                            'C0001': list(logreg_C0001.coef_.T)})\n",
    "test_df = test_df.sort_values(by=['C1000']).reset_index()\n",
    "\n",
    "# %% Plot: Compare LogReg-coefficients for different C (1000, 0.001)\n",
    "plt.figure(figsize=(70,10))\n",
    "plt.grid()\n",
    "plt.plot(test_df.loc[:,'C0001'], '^', label=\"C=0.001\")\n",
    "plt.plot(test_df.loc[:,'C1000'], 'o', label=\"C=1000\")\n",
    "plt.xticks(range(len(feature_columns)), test_df.loc[:,'feature'], rotation=90)\n",
    "plt.hlines(0, 0, len(feature_columns))\n",
    "plt.ylim(min(logreg_C1000.coef_.T), max(logreg_C1000.coef_.T))\n",
    "plt.xlabel(\"Feature\")\n",
    "plt.ylabel(\"Coefficient magnitude\")\n",
    "plt.legend()\n",
    "plt.savefig('this_is_a_test.png')"
   ]
  },
  {
   "cell_type": "markdown",
   "metadata": {},
   "source": [
    "### Model Training: Random Forest"
   ]
  },
  {
   "cell_type": "code",
   "execution_count": null,
   "metadata": {},
   "outputs": [],
   "source": [
    "from sklearn.ensemble import RandomForestClassifier"
   ]
  },
  {
   "cell_type": "code",
   "execution_count": null,
   "metadata": {},
   "outputs": [],
   "source": [
    "%%time \n",
    "# Wall time: 13min\n",
    "forest_01 = RandomForestClassifier(n_estimators=10**5,\n",
    "                                max_depth=8,\n",
    "                                random_state=42,\n",
    "                                n_jobs=-1)\n",
    "forest_01.fit(X_train_balanced, y_train_balanced)\n",
    "#forest_01.fit(X_train, y_train)"
   ]
  },
  {
   "cell_type": "code",
   "execution_count": null,
   "metadata": {},
   "outputs": [],
   "source": [
    "%%time\n",
    "# %% Validate Accuracy\n",
    "print(\"Accuracy on balanced training set: {:.3f}\".format(forest_01.score(X_train_balanced,y_train_balanced)))\n",
    "print(\"Accuracy on training set: {:.3f}\".format(forest_01.score(X_train,y_train)))\n",
    "print(\"Accuracy on test set: {:.3f}\".format(forest_01.score(X_test,     y_test)))"
   ]
  },
  {
   "cell_type": "code",
   "execution_count": null,
   "metadata": {},
   "outputs": [],
   "source": [
    "# %% Plot: Feature importance\n",
    "def plot_feature_importances(model,feature_columns,figsize=(20,100)):\n",
    "    from operator import itemgetter\n",
    "    dict_feature_importance = sorted(dict(zip(feature_columns,model.feature_importances_)).items(), key=itemgetter(1))\n",
    "    n_features              = len(feature_columns)\n",
    "    \n",
    "    plt.figure(figsize=figsize)\n",
    "    plt.grid()\n",
    "    plt.barh(np.arange(n_features),\n",
    "             [y for (x,y) in dict_feature_importance],\n",
    "             align='center')\n",
    "    plt.yticks(np.arange(n_features), [x for (x,y) in dict_feature_importance])\n",
    "    plt.xlabel(\"Feature importance\")\n",
    "    plt.ylabel(\"Feature\")\n",
    "    plt.ylim(-1, n_features)\n",
    "    plt.show()"
   ]
  },
  {
   "cell_type": "code",
   "execution_count": null,
   "metadata": {},
   "outputs": [],
   "source": [
    "plot_feature_importances(forest_01,feature_columns)"
   ]
  },
  {
   "cell_type": "markdown",
   "metadata": {
    "toc-hr-collapsed": false
   },
   "source": [
    "# Model Validation"
   ]
  },
  {
   "cell_type": "markdown",
   "metadata": {},
   "source": [
    "## Confusion Matrix"
   ]
  },
  {
   "cell_type": "code",
   "execution_count": null,
   "metadata": {},
   "outputs": [],
   "source": [
    "from sklearn.metrics import confusion_matrix"
   ]
  },
  {
   "cell_type": "code",
   "execution_count": null,
   "metadata": {},
   "outputs": [],
   "source": [
    "%%time\n",
    "\n",
    "def confusion_matrices(X_test,y_test):\n",
    "    global pred_forest_01, pred_logreg_C0001, pred_logreg_C1000\n",
    "    \n",
    "    pred_forest_01          = forest_01.predict(X_test)\n",
    "    pred_logreg_C0001       = logreg_C0001.predict(X_test)\n",
    "    pred_logreg_C1000       = logreg_C1000.predict(X_test)\n",
    "\n",
    "\n",
    "    # Wall time: 20.9ms\n",
    "\n",
    "    confusion_logreg_C0001       = confusion_matrix(y_test, pred_logreg_C0001)\n",
    "    df_confusion_logreg_C0001    = pd.DataFrame(confusion_logreg_C0001, index=[\"Fact 0\", \"Fact 1\"], columns=[\"Pred 0\",\"Pred 1\"])\n",
    "\n",
    "    confusion_logreg_C1000       = confusion_matrix(y_test, pred_logreg_C1000)\n",
    "    df_confusion_logreg_C1000    = pd.DataFrame(confusion_logreg_C1000, index=[\"Fact 0\", \"Fact 1\"], columns=[\"Pred 0\",\"Pred 1\"])\n",
    "\n",
    "    confusion_forest_01          = confusion_matrix(y_test, pred_forest_01)\n",
    "    df_confusion_forest_01       = pd.DataFrame(confusion_forest_01, index=[\"Fact 0\", \"Fact 1\"], columns=[\"Pred 0\",\"Pred 1\"])\n",
    "\n",
    "    print(\"Test set balance:\")\n",
    "    print(pd.Series(y_test).value_counts())\n",
    "\n",
    "    print(\"\\nConfusion Matrices:\")\n",
    "\n",
    "    print(\"\\nRandom Forest (forest_01):\")\n",
    "    display(df_confusion_forest_01)\n",
    "\n",
    "    print(\"\\nLogistic Regression C=0.001:\")\n",
    "    display(df_confusion_logreg_C0001)\n",
    "\n",
    "    print(\"\\nLogistic Regression C=1000:\")\n",
    "    display(df_confusion_logreg_C1000)"
   ]
  },
  {
   "cell_type": "code",
   "execution_count": null,
   "metadata": {},
   "outputs": [],
   "source": [
    "confusion_matrices(X_train_balanced,y_train_balanced)"
   ]
  },
  {
   "cell_type": "code",
   "execution_count": null,
   "metadata": {},
   "outputs": [],
   "source": [
    "confusion_matrices(X_train,y_train)"
   ]
  },
  {
   "cell_type": "code",
   "execution_count": null,
   "metadata": {},
   "outputs": [],
   "source": [
    "confusion_matrices(X_test,y_test)"
   ]
  },
  {
   "cell_type": "markdown",
   "metadata": {},
   "source": [
    "1. $Precision =\\frac{TP}{TP+FP}$\n",
    "2. $Recall =\\frac{TP}{TP+FN}$ <-- Optimising target!\n",
    "3. $f_{1} = 2 \\cdot \\frac{precision \\cdot recall}{precision + recall} = \\frac{2 \\cdot TP}{2 \\cdot TP + (FN + FP)}$\n",
    "4. $Accuracy = \\frac{TP + TN}{TP + TN + FP + FN}$ KPI combines Precision and Recall\n"
   ]
  },
  {
   "cell_type": "markdown",
   "metadata": {},
   "source": [
    "## Classification Report"
   ]
  },
  {
   "cell_type": "code",
   "execution_count": null,
   "metadata": {},
   "outputs": [],
   "source": [
    "from sklearn.metrics import classification_report"
   ]
  },
  {
   "cell_type": "code",
   "execution_count": null,
   "metadata": {},
   "outputs": [],
   "source": [
    "%%time\n",
    "## Wall time: 9.94ms\n",
    "\n",
    "print(\"\\n\")\n",
    "print(\"Logistic Regression C=0.001:\")\n",
    "print(classification_report(y_test,\n",
    "                            pred_logreg_C0001,\n",
    "                            target_names=[\"not booking = 0\", \"booking = 1\"]))\n",
    "\n",
    "print(\"Logistic Regression C=1000:\")\n",
    "print(classification_report(y_test,\n",
    "                            pred_logreg_C1000,\n",
    "                            target_names=[\"not booking = 0\", \"booking = 1\"]))\n",
    "\n",
    "print(\"Random Forest:\")\n",
    "print(classification_report(y_test,\n",
    "                            pred_forest_01,\n",
    "                            target_names=[\"not booking = 0\", \"booking = 1\"]))"
   ]
  },
  {
   "cell_type": "markdown",
   "metadata": {},
   "source": [
    "## Precision-Recall Curve"
   ]
  },
  {
   "cell_type": "code",
   "execution_count": null,
   "metadata": {},
   "outputs": [],
   "source": [
    "logreg_C1000.predict_proba(X_test)[:,1]"
   ]
  },
  {
   "cell_type": "code",
   "execution_count": null,
   "metadata": {},
   "outputs": [],
   "source": [
    "from sklearn.metrics import precision_recall_curve\n",
    "\n",
    "def prec_rec_values(X_test,y_test):\n",
    "    global precision_forest_01, recall_forest_01, thresholds_forest_01, precision_logreg_C0001, recall_logreg_C0001, thresholds_logreg_C0001,precision_logreg_C1000, recall_logreg_C1000, thresholds_logreg_C1000 \n",
    "    \n",
    "    # LogReg C=0.001\n",
    "    precision_logreg_C0001, recall_logreg_C0001, thresholds_logreg_C0001 = precision_recall_curve(\n",
    "        y_test, \n",
    "        logreg_C0001.predict_proba(X_test)[:,1])\n",
    "    \n",
    "    # LogReg C=1000\n",
    "    precision_logreg_C1000, recall_logreg_C1000, thresholds_logreg_C1000 = precision_recall_curve(\n",
    "        y_test, \n",
    "        logreg_C1000.predict_proba(X_test)[:,1])\n",
    "    \n",
    "    # RandomForestClassifier has predict_proba, but not decision_function\n",
    "    precision_forest_01, recall_forest_01, thresholds_forest_01 = precision_recall_curve(\n",
    "        y_test,\n",
    "        forest_01.predict_proba(X_test)[:, 1])\n",
    "    \n",
    "    "
   ]
  },
  {
   "cell_type": "code",
   "execution_count": null,
   "metadata": {},
   "outputs": [],
   "source": [
    "%%time\n",
    "# Wall time: 22.4s\n",
    "\n",
    "def prec_rec_curve(X_train,y_train):\n",
    "    prec_rec_values(X_train,y_train)\n",
    "\n",
    "    plt.figure(figsize=(15,12))\n",
    "    plt.grid()\n",
    "\n",
    "    def optimum_point(precision_forest_01,recall_forest_01,thresholds_forest_01,name,dot):\n",
    "        optimum_idx = pd.Series.idxmin(np.power(1-pd.Series(precision_forest_01),2)+np.power(1-pd.Series(recall_forest_01),2))\n",
    "        return plt.plot(precision_forest_01[optimum_idx],\n",
    "                     recall_forest_01[optimum_idx],\n",
    "                     dot,\n",
    "                     markersize=10,\n",
    "                     label=f\"{name}: threshold {thresholds_forest_01[optimum_idx]}\",\n",
    "                     fillstyle=\"none\",\n",
    "                     c='k',\n",
    "                     mew=2)\n",
    "\n",
    "    optimum_point(precision_forest_01,recall_forest_01,thresholds_forest_01,name=\"forest_01\",dot='o')\n",
    "    optimum_point(precision_logreg_C0001,recall_logreg_C0001,thresholds_logreg_C0001,name=\"logreg_C0001\",dot='x')\n",
    "    optimum_point(precision_logreg_C1000,recall_logreg_C1000,thresholds_logreg_C1000,name=\"logreg_C1000\",dot='+')\n",
    "\n",
    "    plt.plot(precision_logreg_C0001, recall_logreg_C0001, label=\"Logistic Regression, C=0.001\")\n",
    "    plt.plot(precision_logreg_C1000, recall_logreg_C1000, label=\"Logistic Regression, C=1000\")\n",
    "    plt.plot(precision_forest_01, recall_forest_01, label=\"Random Forest\")\n",
    "\n",
    "    plt.xlabel(\"Precision\")\n",
    "    plt.ylabel(\"Recall\")\n",
    "    plt.legend(loc=\"best\")\n",
    "\n",
    "    plt.show()"
   ]
  },
  {
   "cell_type": "code",
   "execution_count": null,
   "metadata": {},
   "outputs": [],
   "source": [
    "prec_rec_curve(X_train_balanced,y_train_balanced)"
   ]
  },
  {
   "cell_type": "code",
   "execution_count": null,
   "metadata": {},
   "outputs": [],
   "source": [
    "prec_rec_curve(X_train,y_train)"
   ]
  },
  {
   "cell_type": "code",
   "execution_count": null,
   "metadata": {},
   "outputs": [],
   "source": [
    "prec_rec_curve(X_test,y_test)"
   ]
  },
  {
   "cell_type": "code",
   "execution_count": null,
   "metadata": {},
   "outputs": [],
   "source": [
    "#boxplot_histogram(thresholds_logreg_C0001)"
   ]
  },
  {
   "cell_type": "code",
   "execution_count": null,
   "metadata": {},
   "outputs": [],
   "source": [
    "%%time\n",
    "#Wall time: 19.7 s\n",
    "\n",
    "from sklearn.metrics import average_precision_score # Area under the Recall/Precision-curves\n",
    "\n",
    "avg_precision_logreg_C0001 = average_precision_score(y_test,\n",
    "                                               logreg_C0001.predict_proba(X_test)[:, 1])\n",
    "\n",
    "avg_precision_logreg_C1000 = average_precision_score(y_test,\n",
    "                                               logreg_C1000.predict_proba(X_test)[:, 1])\n",
    "\n",
    "avg_precision_forest_01 = average_precision_score(y_test,\n",
    "                                               forest_01.predict_proba(X_test)[:, 1])\n",
    "\n",
    "\n",
    "print(\"Average Precision of LogReg C=0.001: {:.3f}\".format(avg_precision_logreg_C0001))\n",
    "print(\"Average Precision of LogReg C=1000:  {:.3f}\".format(avg_precision_logreg_C1000))\n",
    "print(\"Average Precision of forest_01:      {:.3f}\".format(avg_precision_forest_01))"
   ]
  },
  {
   "cell_type": "markdown",
   "metadata": {},
   "source": [
    "## Receiver Operating Characteristics (ROC) and AUC\n"
   ]
  },
  {
   "cell_type": "code",
   "execution_count": null,
   "metadata": {},
   "outputs": [],
   "source": [
    "%%time\n",
    "from sklearn.metrics import roc_curve\n",
    "def roc_curve_graph(X_test,y_test):\n",
    "    global fpr_logreg_C0001, tpr_logreg_C0001, thresholds_logreg_C0001, fpr_logreg_C1000, tpr_logreg_C1000, thresholds_logreg_C1000, fpr_forest_01, tpr_forest_01, thresholds_forest_01\n",
    "    fpr_logreg_C0001, tpr_logreg_C0001, thresholds_logreg_C0001 = roc_curve(y_test, logreg_C0001.predict_proba(X_test)[:, 1])\n",
    "    fpr_logreg_C1000, tpr_logreg_C1000, thresholds_logreg_C1000 = roc_curve(y_test, logreg_C1000.predict_proba(X_test)[:, 1])\n",
    "    fpr_forest_01, tpr_forest_01, thresholds_forest_01 = roc_curve(y_test, forest_01.predict_proba(X_test)[:, 1])\n",
    "\n",
    "    def threshold_dot_50perc(fpr_forest_01,tpr_forest_01,thresholds_forest_01,name,dot):\n",
    "\n",
    "        close_default_index_forest_01 = pd.Series.idxmin(np.power(1-pd.Series(tpr_forest_01),2)+np.power(pd.Series(fpr_forest_01),2))\n",
    "        return plt.plot(fpr_forest_01[close_default_index_forest_01], tpr_forest_01[close_default_index_forest_01],\n",
    "                 dot,\n",
    "                 markersize=10,\n",
    "                 label=f\"{name} threshold: {thresholds_forest_01[close_default_index_forest_01]}\",\n",
    "                 fillstyle=\"none\",\n",
    "                 c='k',\n",
    "                 mew=2)\n",
    "\n",
    "\n",
    "    plt.figure(figsize=(15,12))\n",
    "    plt.grid()\n",
    "\n",
    "    plt.plot(fpr_forest_01,fpr_forest_01, linestyle='dotted', label=\"base line\")\n",
    "\n",
    "    plt.plot(fpr_logreg_C0001, tpr_logreg_C0001, label=\"logreg_C0001\")\n",
    "    plt.plot(fpr_logreg_C1000, tpr_logreg_C1000, label=\"logreg_C1000\")\n",
    "    plt.plot(fpr_forest_01,    tpr_forest_01,    label=\"forest_01\")\n",
    "\n",
    "\n",
    "    plt.xlabel(\"False-Postive Rate (FPR)\")\n",
    "    plt.ylabel(\"True-Positive Rate (TPR) aka. Recall\")\n",
    "\n",
    "    # find threshold closest to zero\n",
    "    threshold_dot_50perc(fpr_forest_01,tpr_forest_01,     thresholds_forest_01,'forest_01',dot='^')\n",
    "    threshold_dot_50perc(fpr_logreg_C0001, tpr_logreg_C0001, thresholds_logreg_C0001,'logreg_C0001',dot='x')\n",
    "    threshold_dot_50perc(fpr_logreg_C1000,tpr_logreg_C1000,thresholds_logreg_C1000,'logreg_C1000',dot='+')\n",
    "\n",
    "    plt.legend(loc=4)\n",
    "    plt.show()"
   ]
  },
  {
   "cell_type": "code",
   "execution_count": null,
   "metadata": {},
   "outputs": [],
   "source": [
    "%%time\n",
    "# Wall time: 17.6s\n",
    "from sklearn.metrics import roc_auc_score\n",
    "\n",
    "def roc_auc(X_test,y_test):\n",
    "    forest_01_auc    = roc_auc_score(y_test,    forest_01.predict_proba(X_test)[:, 1])\n",
    "    logreg_C0001_auc = roc_auc_score(y_test, logreg_C0001.predict_proba(X_test)[:, 1])\n",
    "    logreg_C1000_auc = roc_auc_score(y_test, logreg_C1000.predict_proba(X_test)[:, 1])\n",
    "\n",
    "\n",
    "    print(\"AUC for forest_01:    {:.3f}\".format(forest_01_auc))\n",
    "    print(\"AUC for logreg_C0001: {:.3f}\".format(logreg_C0001_auc))\n",
    "    print(\"AUC for logreg_C1000: {:.3f}\".format(logreg_C1000_auc))"
   ]
  },
  {
   "cell_type": "code",
   "execution_count": null,
   "metadata": {},
   "outputs": [],
   "source": [
    "%%time\n",
    "#Wall time: 10.6 s\n",
    "roc_curve_graph(X_train_balanced,y_train_balanced)\n",
    "roc_auc(X_train_balanced,y_train_balanced)"
   ]
  },
  {
   "cell_type": "code",
   "execution_count": null,
   "metadata": {},
   "outputs": [],
   "source": [
    "%%time\n",
    "#Wall time: 10.6 s\n",
    "roc_curve_graph(X_train,y_train)\n",
    "roc_auc(X_train,y_train)"
   ]
  },
  {
   "cell_type": "code",
   "execution_count": null,
   "metadata": {},
   "outputs": [],
   "source": [
    "%%time\n",
    "roc_curve_graph(X_test,y_test)\n",
    "roc_auc(X_test,y_test)"
   ]
  },
  {
   "cell_type": "markdown",
   "metadata": {},
   "source": [
    "## Recursive feature elimination with cross-validation"
   ]
  },
  {
   "cell_type": "raw",
   "metadata": {},
   "source": [
    "%%time\n",
    "# Wall time: 2h 35min 26s\n",
    "\n",
    "print(__doc__)\n",
    "\n",
    "import matplotlib.pyplot as plt\n",
    "from sklearn.svm import SVC\n",
    "from sklearn.model_selection import StratifiedKFold\n",
    "from sklearn.feature_selection import RFECV\n",
    "\n",
    "\n",
    "# Create the RFE object and compute a cross-validated score.\n",
    "svc = SVC(kernel=\"linear\")\n",
    "# The \"accuracy\" scoring is proportional to the number of correct\n",
    "# classifications\n",
    "rfecv = RFECV(estimator=svc, step=1, cv=StratifiedKFold(2),\n",
    "              scoring='accuracy')\n",
    "rfecv.fit(X_train_balanced, y_train_balanced)\n",
    "\n",
    "print(\"Optimal number of features : %d\" % rfecv.n_features_)"
   ]
  },
  {
   "cell_type": "raw",
   "metadata": {},
   "source": [
    "%%time\n",
    "# Plot number of features VS. cross-validation scores\n",
    "plt.figure()\n",
    "plt.figure(figsize=(15,12))\n",
    "plt.grid()\n",
    "plt.xlabel(\"Number of features selected\")\n",
    "plt.ylabel(\"Cross validation score (nb of correct classifications)\")\n",
    "plt.plot(range(1, len(rfecv.grid_scores_) + 1), rfecv.grid_scores_)\n",
    "plt.show()"
   ]
  },
  {
   "cell_type": "markdown",
   "metadata": {},
   "source": [
    "## Shapley values"
   ]
  },
  {
   "cell_type": "markdown",
   "metadata": {},
   "source": [
    "https://medium.com/@santiagof/model-interpretability-making-your-model-confess-shapley-values-5fb95a10a624"
   ]
  },
  {
   "cell_type": "raw",
   "metadata": {},
   "source": [
    "import shap"
   ]
  },
  {
   "cell_type": "raw",
   "metadata": {},
   "source": [
    "%%time\n",
    "#Wall time: OVER9000!!!\n",
    "#shap_values = shap.TreeExplainer(forest_01).shap_values(X_train_balanced)"
   ]
  },
  {
   "cell_type": "raw",
   "metadata": {},
   "source": [
    "#shap.summary_plot(shap_values, X_train_balanced, plot_type=\"bar\")"
   ]
  },
  {
   "cell_type": "markdown",
   "metadata": {},
   "source": [
    "# Scoring"
   ]
  },
  {
   "cell_type": "markdown",
   "metadata": {},
   "source": [
    "## Score Class Probabilities (Booking: No/Yes)"
   ]
  },
  {
   "cell_type": "code",
   "execution_count": null,
   "metadata": {},
   "outputs": [],
   "source": [
    "scoring_prob     = forest_01.predict_proba(X_scoring)\n",
    "scoring_prob_df  = pd.DataFrame(scoring_prob, columns=[\"Prob_0\",\"Prob_1\"])\n",
    "scoring_all_prob = (pd.merge(scoring_all,\n",
    "                             scoring_prob_df,\n",
    "                             left_index=True,\n",
    "                             right_index=True\n",
    "                            ).sort_values(\"Prob_1\",ascending=False)\n",
    "                   )"
   ]
  },
  {
   "cell_type": "code",
   "execution_count": null,
   "metadata": {},
   "outputs": [],
   "source": [
    "scoring_all_prob.head()"
   ]
  },
  {
   "cell_type": "markdown",
   "metadata": {},
   "source": [
    "## Cutoff"
   ]
  },
  {
   "cell_type": "code",
   "execution_count": null,
   "metadata": {},
   "outputs": [],
   "source": [
    "boxplot_histogram(scoring_all_prob.loc[:,\"Prob_1\"])"
   ]
  },
  {
   "cell_type": "code",
   "execution_count": null,
   "metadata": {},
   "outputs": [],
   "source": [
    "boxplot_histogram(np.log(scoring_all_prob.loc[:,\"Prob_1\"]),bins=60)"
   ]
  },
  {
   "cell_type": "code",
   "execution_count": null,
   "metadata": {},
   "outputs": [],
   "source": [
    "np.exp(-2.1)"
   ]
  },
  {
   "cell_type": "code",
   "execution_count": null,
   "metadata": {},
   "outputs": [],
   "source": [
    "scoring_all_prob.loc[scoring_all_prob.loc[:,\"Prob_1\"]>0.166,:].shape[0]"
   ]
  },
  {
   "cell_type": "code",
   "execution_count": null,
   "metadata": {},
   "outputs": [],
   "source": [
    "training_all.loc[:,[\"Target_Res_flg\",\"Endkunde_NR\"]].groupby(\"Target_Res_flg\").count()"
   ]
  },
  {
   "cell_type": "code",
   "execution_count": null,
   "metadata": {},
   "outputs": [],
   "source": [
    "691/17312\n"
   ]
  },
  {
   "cell_type": "markdown",
   "metadata": {},
   "source": [
    "# Appendix"
   ]
  },
  {
   "cell_type": "markdown",
   "metadata": {},
   "source": [
    "## Mutual Information"
   ]
  },
  {
   "cell_type": "code",
   "execution_count": null,
   "metadata": {},
   "outputs": [],
   "source": [
    "%%time\n",
    "mu_in = mutual_info_classif(X_train_balanced,y_train_balanced) / mutual_info_classif(y_train_balanced.reshape(-1,1),y_train_balanced)"
   ]
  },
  {
   "cell_type": "code",
   "execution_count": null,
   "metadata": {},
   "outputs": [],
   "source": [
    "print(mu_in.shape)\n",
    "print(feature_columns.shape)"
   ]
  },
  {
   "cell_type": "code",
   "execution_count": null,
   "metadata": {},
   "outputs": [],
   "source": [
    " mu_in_df = (pd.DataFrame({'Feature':            feature_columns,\n",
    "                           'Mutual_Information': mu_in})\n",
    "             .sort_values(by='Mutual_Information',\n",
    "                          ascending=False)\n",
    "             .reset_index(drop=True)\n",
    "            )"
   ]
  },
  {
   "cell_type": "code",
   "execution_count": null,
   "metadata": {},
   "outputs": [],
   "source": [
    "display(mu_in_df.head(50))"
   ]
  },
  {
   "cell_type": "code",
   "execution_count": null,
   "metadata": {},
   "outputs": [],
   "source": [
    "boxplot_histogram(mu_in_df.loc[:,'Mutual_Information'])"
   ]
  },
  {
   "cell_type": "code",
   "execution_count": null,
   "metadata": {},
   "outputs": [],
   "source": [
    "def mu_in_cutoff(cutoff):\n",
    "    display(mu_in_df.loc[mu_in_df.loc[:,'Mutual_Information'] >= cutoff,:])"
   ]
  },
  {
   "cell_type": "code",
   "execution_count": null,
   "metadata": {},
   "outputs": [],
   "source": [
    "mu_in_cutoff(0.07)"
   ]
  },
  {
   "cell_type": "code",
   "execution_count": null,
   "metadata": {},
   "outputs": [],
   "source": [
    "mu_in_df['scaled'] = mu_in_df['Mutual_Information'] / mu_in_df['Mutual_Information'].sum()"
   ]
  },
  {
   "cell_type": "code",
   "execution_count": null,
   "metadata": {},
   "outputs": [],
   "source": [
    "mu_in_df['cum'] = mu_in_df['scaled'].cumsum()"
   ]
  },
  {
   "cell_type": "code",
   "execution_count": null,
   "metadata": {},
   "outputs": [],
   "source": [
    "plt.figure(figsize=(15,50))\n",
    "sns.barplot(x   = 'Mutual_Information',\n",
    "            y   = 'Feature',\n",
    "            data= mu_in_df)"
   ]
  },
  {
   "cell_type": "markdown",
   "metadata": {},
   "source": [
    "## Bivariate Analysis"
   ]
  },
  {
   "cell_type": "code",
   "execution_count": null,
   "metadata": {},
   "outputs": [],
   "source": [
    "training_all.describe()"
   ]
  },
  {
   "cell_type": "code",
   "execution_count": null,
   "metadata": {},
   "outputs": [],
   "source": [
    "print(training_all.columns)"
   ]
  },
  {
   "cell_type": "code",
   "execution_count": null,
   "metadata": {},
   "outputs": [],
   "source": [
    "def hexbin(dataset, first_feature,second_feature,gridsize=25):\n",
    "    dataset.plot.hexbin(x=first_feature, y=second_feature , gridsize=gridsize, figsize=(12,8))"
   ]
  },
  {
   "cell_type": "code",
   "execution_count": null,
   "metadata": {},
   "outputs": [],
   "source": [
    "def hexbin(x, y, color, **kwargs):\n",
    "    cmap = sns.light_palette(color, as_cmap=True)\n",
    "    plt.hexbin(x, y, gridsize=10, cmap=cmap, **kwargs)\n",
    "\n",
    "with sns.axes_style(\"dark\"):\n",
    "    g = sns.FacetGrid(training_all,\n",
    "                      hue=\"Target_Res_flg\",\n",
    "                      col=\"Target_Res_flg\",\n",
    "                      height=10\n",
    "                     )\n",
    "\n",
    "g.map(hexbin,\n",
    "      \"Netto_Sum_Aus_RY_0_KW_1\",\n",
    "      \"Erste_Buchung_Delta\",\n",
    "      extent=[0, 1, 0, 1]\n",
    "     )"
   ]
  },
  {
   "cell_type": "code",
   "execution_count": null,
   "metadata": {},
   "outputs": [],
   "source": [
    "sns.axes_style(\"darkgrid\")\n",
    "\n",
    "sns.pairplot(data   = training_all.loc[:,[\"Target_Res_flg\"]+list(mu_in_df.head(20).loc[:,\"Feature\"])],\n",
    "             diag_kind=\"kde\",\n",
    "             hue    = \"Target_Res_flg\",\n",
    "             height =5\n",
    "            ).savefig(\"derp.png\")\n"
   ]
  },
  {
   "cell_type": "code",
   "execution_count": null,
   "metadata": {},
   "outputs": [],
   "source": []
  }
 ],
 "metadata": {
  "kernelspec": {
   "display_name": "Python 3",
   "language": "python",
   "name": "python3"
  },
  "language_info": {
   "codemirror_mode": {
    "name": "ipython",
    "version": 3
   },
   "file_extension": ".py",
   "mimetype": "text/x-python",
   "name": "python",
   "nbconvert_exporter": "python",
   "pygments_lexer": "ipython3",
   "version": "3.7.4"
  },
  "toc-autonumbering": true
 },
 "nbformat": 4,
 "nbformat_minor": 4
}
