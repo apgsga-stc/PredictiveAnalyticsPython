{
 "cells": [
  {
   "cell_type": "markdown",
   "metadata": {},
   "source": [
    "# Net Zahlen Reservationen/Offerten (Vertrag = Ja) basierend auf erfassdatum"
   ]
  },
  {
   "cell_type": "code",
   "execution_count": 2,
   "metadata": {},
   "outputs": [],
   "source": [
    "\n",
    "import numpy as np\n",
    "import pandas as pd\n",
    "\n",
    "#######################\n",
    "## Datenaufbereitung ##\n",
    "#######################\n",
    "\n",
    "\n",
    "# make imports from pa_lib possible (parent directory of file's directory)\n",
    "import sys\n",
    "from pathlib import Path\n",
    "\n",
    "file_dir = Path.cwd()\n",
    "parent_dir = file_dir.parent\n",
    "sys.path.append(str(parent_dir))\n",
    "\n",
    "\n",
    "from IPython.display import display\n",
    "pd.options.display.max_columns = None\n",
    "pd.options.display.max_rows  = None\n",
    "\n",
    "## Libraries & Settings ##\n",
    "from pa_lib.file import load_bin\n",
    "from pa_lib.util import cap_words\n",
    "from pa_lib.log import time_log, info\n",
    "\n",
    "import datetime as dt\n",
    "from dateutil.relativedelta import relativedelta\n",
    "\n",
    "from pa_lib.data import (\n",
    "    clean_up_categoricals,\n",
    "    unfactorize,\n",
    ")"
   ]
  },
  {
   "cell_type": "code",
   "execution_count": 2,
   "metadata": {},
   "outputs": [],
   "source": [
    "def load_booking_data():\n",
    "    bd_raw = load_bin(\"vkprog\\\\bd_data.feather\").rename(\n",
    "        mapper=lambda name: cap_words(name, sep=\"_\"), axis=\"columns\"\n",
    "    )\n",
    "    bd = bd_raw.loc[(bd_raw.Netto > 0)].pipe(clean_up_categoricals)\n",
    "    return bd\n"
   ]
  },
  {
   "cell_type": "code",
   "execution_count": 3,
   "metadata": {},
   "outputs": [
    {
     "name": "stderr",
     "output_type": "stream",
     "text": [
      "2019-10-24 09:05:53 [INFO] Started loading binary file\n",
      "2019-10-24 09:05:53 [INFO] Reading from file C:\\Users\\stc\\data\\vkprog\\bd_data.feather\n",
      "2019-10-24 09:05:53 [INFO] Finished loading binary file in 0.18s (0.89s CPU)\n"
     ]
    }
   ],
   "source": [
    "raw_data_bookings = load_booking_data()"
   ]
  },
  {
   "cell_type": "code",
   "execution_count": 4,
   "metadata": {},
   "outputs": [
    {
     "data": {
      "text/html": [
       "<div>\n",
       "<style scoped>\n",
       "    .dataframe tbody tr th:only-of-type {\n",
       "        vertical-align: middle;\n",
       "    }\n",
       "\n",
       "    .dataframe tbody tr th {\n",
       "        vertical-align: top;\n",
       "    }\n",
       "\n",
       "    .dataframe thead th {\n",
       "        text-align: right;\n",
       "    }\n",
       "</style>\n",
       "<table border=\"1\" class=\"dataframe\">\n",
       "  <thead>\n",
       "    <tr style=\"text-align: right;\">\n",
       "      <th></th>\n",
       "      <th></th>\n",
       "      <th>Endkunde_NR</th>\n",
       "    </tr>\n",
       "    <tr>\n",
       "      <th>KV_NR</th>\n",
       "      <th>Agps_NR</th>\n",
       "      <th></th>\n",
       "    </tr>\n",
       "  </thead>\n",
       "  <tbody>\n",
       "    <tr>\n",
       "      <th>484261</th>\n",
       "      <th>857753</th>\n",
       "      <td>1</td>\n",
       "    </tr>\n",
       "  </tbody>\n",
       "</table>\n",
       "</div>"
      ],
      "text/plain": [
       "                Endkunde_NR\n",
       "KV_NR  Agps_NR             \n",
       "484261 857753             1"
      ]
     },
     "execution_count": 4,
     "metadata": {},
     "output_type": "execute_result"
    }
   ],
   "source": [
    "raw_data_bookings.loc[:,[\"KV_NR\",\"Agps_NR\",\"Endkunde_NR\"]].groupby([\"KV_NR\",\"Agps_NR\"]).count().sort_values(\"Endkunde_NR\", ascending= False).head(1)"
   ]
  }
 ],
 "metadata": {
  "kernelspec": {
   "display_name": "Python 3",
   "language": "python",
   "name": "python3"
  },
  "language_info": {
   "codemirror_mode": {
    "name": "ipython",
    "version": 3
   },
   "file_extension": ".py",
   "mimetype": "text/x-python",
   "name": "python",
   "nbconvert_exporter": "python",
   "pygments_lexer": "ipython3",
   "version": "3.7.4"
  }
 },
 "nbformat": 4,
 "nbformat_minor": 4
}
