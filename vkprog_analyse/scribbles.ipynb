{
 "cells": [
  {
   "cell_type": "code",
   "execution_count": 6,
   "metadata": {},
   "outputs": [],
   "source": [
    "from vkprog_data_prep import load_booking_data\n",
    "import datetime as dt\n",
    "import pandas as pd"
   ]
  },
  {
   "cell_type": "code",
   "execution_count": 7,
   "metadata": {},
   "outputs": [
    {
     "name": "stdout",
     "output_type": "stream",
     "text": [
      "Wall time: 0 ns\n"
     ]
    }
   ],
   "source": [
    "%%time\n",
    "date_view      = dt.datetime(2018,10,9) # only works for odd calendar weeks!!!\n",
    "\n",
    "def branchen_data(date_view):\n",
    "    \n",
    "    bd = load_booking_data()\n",
    "    \n",
    "    kunden_branchen_df  = bd.loc[:,[\"Endkunde_NR\",\n",
    "                                    \"Kampagne_Erfassungsdatum\",\n",
    "                                    \"Endkunde_Branchengruppe_ID\"] ]\n",
    "\n",
    "    auftrag_branchen_df = bd.loc[:,[\"Endkunde_NR\",\n",
    "                                    \"Kampagne_Erfassungsdatum\",\n",
    "                                    \"Auftrag_Branchengruppe_ID\"] ]\n",
    "\n",
    "    kunden_branchen_df.columns  = [\"Endkunde_NR\",\n",
    "                                   \"Kampagne_Erfassungsdatum\",\n",
    "                                   \"Branchen_ID\"]\n",
    "    \n",
    "    auftrag_branchen_df.columns = kunden_branchen_df.columns\n",
    "\n",
    "    branchen_df = (kunden_branchen_df.append(auftrag_branchen_df)\n",
    "                                     .dropna()\n",
    "                                     .drop_duplicates() )\n",
    "    \n",
    "    # Define filter (boolean pd.Series) based on view_date\n",
    "    filter_boolean = (bd.loc[:,\"Kampagne_Erfassungsdatum\"] < date_view)\n",
    "    \n",
    "    # Span pivot table with filter:\n",
    "    branchen_df = (branchen_df\n",
    "                   .loc[filter_boolean,:]\n",
    "                   .pivot_table(\n",
    "                        index      = [\"Endkunde_NR\"],\n",
    "                        columns    = [\"Branchen_ID\"],\n",
    "                        values     = [\"Branchen_ID\"],\n",
    "                        aggfunc    = \"count\",\n",
    "                        fill_value = 0) )\n",
    "    \n",
    "    #Flatten and rename:\n",
    "    branchen_df = pd.DataFrame(branchen_df.to_records(index=True))\n",
    "    new_col_names = [x.replace(\"('Kampagne_Erfassungsdatum',\",\"B\").replace(\" '\",\"\").replace(\"')\",\"\") for x in branchen_df.columns]\n",
    "    branchen_df.columns = new_col_names\n",
    "    \n",
    "    #Decode into 0/1:\n",
    "    for branche in branchen_df.columns[1:]:\n",
    "        branchen_df.loc[:,branche] = branchen_df.loc[:,branche].apply(lambda x: min(x,1))\n",
    "        \n",
    "    return branchen_df"
   ]
  },
  {
   "cell_type": "code",
   "execution_count": 10,
   "metadata": {},
   "outputs": [
    {
     "name": "stderr",
     "output_type": "stream",
     "text": [
      "2019-10-09 10:39:28 [INFO] Started loading binary file\n",
      "2019-10-09 10:39:28 [INFO] Reading from file C:\\Users\\stc\\data\\vkprog\\bd_data.feather\n",
      "2019-10-09 10:39:29 [INFO] Finished loading binary file in 0.16s (0.78s CPU)\n"
     ]
    },
    {
     "name": "stdout",
     "output_type": "stream",
     "text": [
      "Wall time: 13.8 s\n"
     ]
    }
   ],
   "source": [
    "%%time\n",
    "damn = branchen_data(date_view=date_view)"
   ]
  },
  {
   "cell_type": "code",
   "execution_count": 9,
   "metadata": {},
   "outputs": [
    {
     "data": {
      "text/plain": [
       "[1, 3, 5]"
      ]
     },
     "execution_count": 9,
     "metadata": {},
     "output_type": "execute_result"
    }
   ],
   "source": [
    "a = [1,2,3,4,5]\n",
    "b = [1,3,5,6]\n",
    "list(set(a) & set(b))"
   ]
  },
  {
   "cell_type": "code",
   "execution_count": 17,
   "metadata": {},
   "outputs": [
    {
     "data": {
      "text/plain": [
       "['B105']"
      ]
     },
     "execution_count": 17,
     "metadata": {},
     "output_type": "execute_result"
    }
   ],
   "source": [
    "list(set(damn.columns) & set(['B105']))"
   ]
  },
  {
   "cell_type": "code",
   "execution_count": null,
   "metadata": {},
   "outputs": [],
   "source": []
  }
 ],
 "metadata": {
  "kernelspec": {
   "display_name": "Python 3",
   "language": "python",
   "name": "python3"
  },
  "language_info": {
   "codemirror_mode": {
    "name": "ipython",
    "version": 3
   },
   "file_extension": ".py",
   "mimetype": "text/x-python",
   "name": "python",
   "nbconvert_exporter": "python",
   "pygments_lexer": "ipython3",
   "version": "3.7.4"
  }
 },
 "nbformat": 4,
 "nbformat_minor": 4
}
