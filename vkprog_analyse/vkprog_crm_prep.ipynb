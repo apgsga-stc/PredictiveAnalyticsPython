{
 "cells": [
  {
   "cell_type": "markdown",
   "metadata": {},
   "source": [
    "# Data-Prep: CRM Data"
   ]
  },
  {
   "cell_type": "markdown",
   "metadata": {},
   "source": [
    "# Load libs"
   ]
  },
  {
   "cell_type": "code",
   "execution_count": 1,
   "metadata": {},
   "outputs": [],
   "source": [
    "\n",
    "# make imports from pa_lib possible (parent directory of file's directory)\n",
    "import sys\n",
    "from pathlib import Path\n",
    "\n",
    "file_dir = Path.cwd()\n",
    "parent_dir = file_dir.parent\n",
    "sys.path.append(str(parent_dir))\n",
    "\n",
    "import pandas as pd\n",
    "pd.options.display.max_columns = None\n",
    "\n",
    "\n",
    "## Libraries & Settings ##\n",
    "from pa_lib.file import load_bin\n",
    "from pa_lib.util import cap_words\n",
    "from pa_lib.log import time_log, info\n",
    "\n",
    "import datetime as dt\n",
    "from dateutil.relativedelta import relativedelta\n",
    "\n",
    "from pa_lib.data import (\n",
    "    clean_up_categoricals,\n",
    "    unfactorize,\n",
    ")\n",
    "\n",
    "from pa_lib.data import desc_col"
   ]
  },
  {
   "cell_type": "code",
   "execution_count": 2,
   "metadata": {},
   "outputs": [],
   "source": [
    "from pa_lib.data import boxplot_histogram\n",
    "import numpy as np\n"
   ]
  },
  {
   "cell_type": "markdown",
   "metadata": {},
   "source": [
    "# Load CRM data"
   ]
  },
  {
   "cell_type": "code",
   "execution_count": null,
   "metadata": {},
   "outputs": [],
   "source": [
    "def load_crm_data():\n",
    "    raw_data = load_bin(\"vkprog\\\\crm_data_vkprog.feather\").rename(\n",
    "        mapper=lambda name: cap_words(name, sep=\"_\"), axis=\"columns\"\n",
    "    )\n",
    "    return raw_data.astype({\"Year\": \"int64\", \"KW_2\": \"int64\"})\n"
   ]
  },
  {
   "cell_type": "code",
   "execution_count": null,
   "metadata": {},
   "outputs": [],
   "source": [
    "raw_crm_data = load_crm_data()"
   ]
  },
  {
   "cell_type": "code",
   "execution_count": null,
   "metadata": {},
   "outputs": [],
   "source": [
    "#raw_crm_data.eval(\"YYYYKW_2 = Year * 100 + KW_2\", inplace=True)"
   ]
  },
  {
   "cell_type": "markdown",
   "metadata": {},
   "source": [
    "# View raw crm data"
   ]
  },
  {
   "cell_type": "raw",
   "metadata": {},
   "source": [
    "display(raw_crm_data.head())\n",
    "display(raw_crm_data.describe())\n",
    "display(desc_col(raw_crm_data))"
   ]
  },
  {
   "cell_type": "code",
   "execution_count": null,
   "metadata": {},
   "outputs": [],
   "source": [
    "display(raw_crm_data.pivot_table(\n",
    "    index=[\"Kanal\"],\n",
    "    columns=[\"Year\"],\n",
    "    values=[\"Endkunde_NR\"],\n",
    "    aggfunc=\"count\",\n",
    "    fill_value=0)\n",
    ")"
   ]
  },
  {
   "cell_type": "markdown",
   "metadata": {},
   "source": [
    "# Define Groups"
   ]
  },
  {
   "cell_type": "code",
   "execution_count": null,
   "metadata": {},
   "outputs": [],
   "source": [
    "from functools import reduce\n",
    "\n",
    "all_kanal =set(raw_crm_data.loc[:,\"Kanal\"])\n",
    "kanal_grps = {}\n",
    "\n",
    "kanal_grps[\"Besprechung\"]         = {\"Besprechung\"}\n",
    "kanal_grps[\"Besuch\"]              = {\"Besuch\"}\n",
    "kanal_grps[\"Brief_Dankeskarte\"]   = {\"Brief\",\"Dankeskarte\"}\n",
    "kanal_grps[\"E-Mail\"]              = {\"E-Mail\"}\n",
    "kanal_grps[\"Event_Veranstaltung\"] = {\"Event\",\"Veranstaltung\"}\n",
    "kanal_grps[\"Telefon\"]             = {\"Telefon\"}\n",
    "\n",
    "# Stuff all the rest into \"Anderes\":\n",
    "kanal_grps[\"Anderes\"]             =  all_kanal - reduce(set.union,kanal_grps.values())  "
   ]
  },
  {
   "cell_type": "markdown",
   "metadata": {},
   "source": [
    "# Yearly aggregation per ``Kanal`` group element"
   ]
  },
  {
   "cell_type": "code",
   "execution_count": null,
   "metadata": {},
   "outputs": [],
   "source": [
    "def contacts_grouped_yrly(date_view,kanal_grps,year_span):\n",
    "    ####\n",
    "    def yrl_kanal_contacts(date_view, group_name, rel_year):\n",
    "        return (raw_crm_data.loc[(raw_crm_data.loc[:,\"Kanal\"].isin(kanal_grps[group_name]) &     # adjust to key\n",
    "                         (raw_crm_data.loc[:,\"Datum\"] <  date_view  - relativedelta(years= rel_year   )) &\n",
    "                         (raw_crm_data.loc[:,\"Datum\"] >= date_view  - relativedelta(years= rel_year+1 )) # adjust years\n",
    "                         ),:]\n",
    "                    .groupby(\"Endkunde_NR\").count()\n",
    "                    .reset_index(inplace=False)\n",
    "                    .loc[:,[\"Endkunde_NR\",\"Kanal\"]]\n",
    "                    .rename(columns={\"Kanal\": f\"RY_{rel_year}_Anz_{group_name}\"})   # adjust \"Anzahl\"\n",
    "                    #.sort_values(\"Anzahl\", ascending=False)\n",
    "               )\n",
    "    #####\n",
    "    container_df = yrl_kanal_contacts(date_view=date_view,\n",
    "                                      group_name=list(kanal_grps.keys())[1],rel_year=0).loc[:,\"Endkunde_NR\"]\n",
    "    for name in kanal_grps.keys():\n",
    "        for i in range(year_span):\n",
    "            rel = yrl_kanal_contacts(date_view=date_view,\n",
    "                                     group_name=name,\n",
    "                                     rel_year=i)\n",
    "            container_df = pd.merge(container_df,\n",
    "                                    rel,\n",
    "                                    on=\"Endkunde_NR\",\n",
    "                                    how=\"inner\")\n",
    "    return container_df"
   ]
  },
  {
   "cell_type": "markdown",
   "metadata": {},
   "source": [
    "## Delta(view_date, last_contact)"
   ]
  },
  {
   "cell_type": "code",
   "execution_count": null,
   "metadata": {},
   "outputs": [],
   "source": [
    "def delta_contact(date_view,kanal_grps):\n",
    "    for name in kanal_grps.keys():\n",
    "        raw_crm_data.loc[raw_crm_data.Kanal.isin(kanal_grps[name]), \"Kanal_Grps\"] = name\n",
    "    \n",
    "    max_vertical_df = (raw_crm_data.loc[(raw_crm_data.loc[:,\"Datum\"] <  date_view) # adjust years\n",
    "                     ,:]\n",
    "                .groupby([\"Endkunde_NR\", \"Kanal_Grps\"])\n",
    "                .agg({\"Datum\": np.max})\n",
    "                .reset_index(inplace=False)\n",
    "                   )\n",
    "    max_vertical_df[\"delta_days\"] = (date_view - max_vertical_df.loc[:,\"Datum\"]).apply(lambda x: x.total_seconds()) / 86400  # delta in days\n",
    "    \n",
    "    flatten_df = max_vertical_df.pivot_table(\n",
    "        index   = \"Endkunde_NR\",\n",
    "        columns = [\"Kanal_Grps\"],\n",
    "        values  = [\"delta_days\"],\n",
    "        aggfunc = \"min\").reset_index(inplace=False)\n",
    "    \n",
    "    flatten_df  = pd.DataFrame(flatten_df.to_records(index=False))\n",
    "    flatten_df.columns = [\"Endkunde_NR\"]+[ \"Letzter_Kontakt_Delta_\"+x.replace(\"'\",\"\").replace(\"(\",\"\").replace(\"delta_days, \",\"\").replace(\",\",\"\").replace(\" \",\"\").replace(\")\",\"\") for x in flatten_df.columns[1:]]\n",
    "    \n",
    "    flatten_df[\"Letzter_Kontakt_Delta_global\"] = flatten_df.iloc[:,1:].min(axis = 1, skipna = True)\n",
    "    \n",
    "    #Letzte_Buchung_Delta\n",
    "    \n",
    "    return flatten_df"
   ]
  },
  {
   "cell_type": "markdown",
   "metadata": {},
   "source": [
    "# Wrapper Function, that does everything in one go!"
   ]
  },
  {
   "cell_type": "code",
   "execution_count": null,
   "metadata": {},
   "outputs": [],
   "source": [
    "def crm_train_scoring(day, month, year_score, year_train, year_span):\n",
    "    date_now      = dt.datetime(year_score,month,day) # only works for odd calendar weeks!!!\n",
    "    date_training = dt.datetime(year_train,month,day) # only works for odd calendar weeks!!!\n",
    "    \n",
    "    def crm_prep(date_view,year_span):\n",
    "        last_contacts_df      = delta_contact(date_view=date_view,\n",
    "                                              kanal_grps=kanal_grps)\n",
    "        grpd_yrly_contacts_df = contacts_grouped_yrly(date_view=date_view,\n",
    "                                                      kanal_grps=kanal_grps,\n",
    "                                                      year_span=year_span)\n",
    "\n",
    "        return pd.merge(grpd_yrly_contacts_df,last_contacts_df,on=\"Endkunde_NR\",how=\"inner\")\n",
    "    \n",
    "    crm_train_df = crm_prep(date_view=date_training, year_span=year_span)\n",
    "    crm_score_df = crm_prep(date_view=date_now,      year_span=year_span)\n",
    "    \n",
    "    return (crm_train_df, crm_score_df)\n",
    "    \n",
    "    "
   ]
  },
  {
   "cell_type": "markdown",
   "metadata": {},
   "source": [
    "# Testing Wrapper-Function"
   ]
  },
  {
   "cell_type": "code",
   "execution_count": null,
   "metadata": {},
   "outputs": [],
   "source": [
    "crm_train_df, crm_score_df = crm_train_scoring(day=23,\n",
    "                                               month=9,\n",
    "                                               year_score=2019,\n",
    "                                               year_train=2018,\n",
    "                                               year_span=4)"
   ]
  },
  {
   "cell_type": "code",
   "execution_count": null,
   "metadata": {},
   "outputs": [],
   "source": [
    "crm_train_df.head()"
   ]
  },
  {
   "cell_type": "code",
   "execution_count": null,
   "metadata": {},
   "outputs": [],
   "source": [
    "def lazy_bxplt_hstgrm(delta_contacts_df):\n",
    "    for name in delta_contacts_df.columns[1:]:\n",
    "        print(name)\n",
    "        boxplot_histogram(delta_contacts_df.loc[delta_contacts_df.loc[:,name] > 0, name])"
   ]
  },
  {
   "cell_type": "code",
   "execution_count": null,
   "metadata": {},
   "outputs": [],
   "source": [
    "desc_col(crm_train_df)"
   ]
  },
  {
   "cell_type": "code",
   "execution_count": null,
   "metadata": {},
   "outputs": [],
   "source": [
    "lazy_bxplt_hstgrm(crm_train_df)"
   ]
  },
  {
   "cell_type": "code",
   "execution_count": null,
   "metadata": {},
   "outputs": [],
   "source": [
    "crm_train_df.iloc[:,28:].describe()"
   ]
  },
  {
   "cell_type": "code",
   "execution_count": null,
   "metadata": {},
   "outputs": [],
   "source": [
    "2181/365"
   ]
  },
  {
   "cell_type": "code",
   "execution_count": null,
   "metadata": {},
   "outputs": [],
   "source": []
  }
 ],
 "metadata": {
  "kernelspec": {
   "display_name": "Python 3",
   "language": "python",
   "name": "python3"
  },
  "language_info": {
   "codemirror_mode": {
    "name": "ipython",
    "version": 3
   },
   "file_extension": ".py",
   "mimetype": "text/x-python",
   "name": "python",
   "nbconvert_exporter": "python",
   "pygments_lexer": "ipython3",
   "version": "3.7.4"
  }
 },
 "nbformat": 4,
 "nbformat_minor": 4
}
