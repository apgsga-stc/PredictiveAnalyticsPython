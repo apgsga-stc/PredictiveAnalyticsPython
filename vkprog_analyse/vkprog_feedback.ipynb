{
 "cells": [
  {
   "cell_type": "markdown",
   "metadata": {},
   "source": [
    "# Load Modules"
   ]
  },
  {
   "cell_type": "code",
   "execution_count": null,
   "metadata": {},
   "outputs": [],
   "source": [
    "# make imports from pa_lib possible (parent directory of file's directory)\n",
    "import sys\n",
    "from pathlib import Path\n",
    "\n",
    "file_dir = Path.cwd()\n",
    "print(\"file_dir: -> \", file_dir)\n",
    "\n",
    "parent_dir = file_dir.parent\n",
    "print(parent_dir)\n",
    "\n",
    "sys.path.append(str(parent_dir))"
   ]
  },
  {
   "cell_type": "code",
   "execution_count": null,
   "metadata": {},
   "outputs": [],
   "source": [
    "%load_ext autoreload\n",
    "%autoreload\n",
    "import pandas as pd\n",
    "import seaborn as sns\n",
    "import matplotlib.pyplot as plt\n",
    "import numpy as np\n",
    "from pa_lib.data import clean_up_categoricals, calc_col_partitioned, desc_col\n",
    "\n",
    "from pa_lib.vis import boxplot_histogram\n",
    "\n",
    "from pa_lib.file import project_dir, load_bin, load_csv, load_xlsx, store_xlsx\n",
    "from pa_lib.util import cap_words\n",
    "import os, fnmatch\n",
    "\n",
    "# Lazy Recursive Job Dependency Request:\n",
    "from pa_lib.job import request_job\n",
    "\n",
    "\n",
    "pd.set_option(\"display.max_rows\", min(raw_feedback.shape[0] + 1, 3000))\n",
    "pd.set_option(\"display.max_colwidth\", 500)\n",
    "\n",
    "from matplotlib.pyplot import show\n",
    "import altair as alt\n",
    "\n",
    "alt.data_transformers.disable_max_rows()"
   ]
  },
  {
   "cell_type": "markdown",
   "metadata": {},
   "source": [
    "https://stackabuse.com/python-list-files-in-a-directory/"
   ]
  },
  {
   "cell_type": "markdown",
   "metadata": {},
   "source": [
    "# Load Data"
   ]
  },
  {
   "cell_type": "markdown",
   "metadata": {},
   "source": [
    "## Load Feedback"
   ]
  },
  {
   "cell_type": "code",
   "execution_count": null,
   "metadata": {},
   "outputs": [],
   "source": [
    "def load_feedback(sales_folder):\n",
    "    sales_subfolder = os.listdir(sales_folder)\n",
    "    pattern = \"EK_LIST*.xlsx\"\n",
    "\n",
    "    container_df = pd.DataFrame()\n",
    "    columns_in_xlsx = [\n",
    "        \"Gepard-Nr. Endkunde\",\n",
    "        \"Endkunde\",\n",
    "        \"Chance\",\n",
    "        \"Feedback - bitte auswählen\",\n",
    "        \"falls nicht hilfreich, bitte hier einen kurzen Kommentar angeben - entweder pro Zeile oder für die Gesamt-Liste\",\n",
    "    ]\n",
    "    rename_columns = [\"Endkunde_NR\", \"Endkunde\", \"Prob_1\", \"Feedback\", \"Kommentar\"]\n",
    "\n",
    "    for kw_folder in sales_subfolder:\n",
    "\n",
    "        if kw_folder >= \"2019_07_15\":  # Begin of automatisation\n",
    "\n",
    "            all_files_list = os.listdir(sales_folder / kw_folder)\n",
    "\n",
    "            for file in all_files_list:\n",
    "\n",
    "                if fnmatch.fnmatch(file, pattern):\n",
    "                    # print(f\"{kw_folder}  ---- {file}\") # Check!\n",
    "                    vkber_df = load_xlsx(sales_folder / kw_folder / file).loc[\n",
    "                        :, columns_in_xlsx\n",
    "                    ]  # .iloc[:,[0,1,-3,-2,-1]])\n",
    "\n",
    "                    vkber_df.columns = rename_columns\n",
    "\n",
    "                    vkber_df.loc[:, \"folder\"] = kw_folder\n",
    "                    vkber_df.loc[:, \"file_name\"] = file\n",
    "\n",
    "                    container_df = container_df.append(vkber_df, ignore_index=False)\n",
    "\n",
    "    container_df.loc[:, \"Kuerzel\"] = container_df.loc[:, \"file_name\"].apply(\n",
    "        lambda x: x[19:22]\n",
    "    )\n",
    "\n",
    "    # Remove all redundant rows:\n",
    "    feedback_exists = (\n",
    "        #         (  # Feedback or Kommentar exists\n",
    "        #             ~container_df.loc[:, \"Feedback\"].isna()\n",
    "        #             | ~container_df.loc[:, \"Kommentar\"].isna()\n",
    "        #         )\n",
    "        #         &\n",
    "        ~container_df.loc[:, \"Endkunde_NR\"].isna()  # Endkunde_NR must exist\n",
    "    )\n",
    "    container_df.loc[:, \"Feedback\"] = container_df.Feedback.fillna(\"untouched\")\n",
    "\n",
    "    row_select = ~container_df.Kommentar.isna() & container_df.Feedback.isin(\n",
    "        {\"untouched\"}\n",
    "    )\n",
    "\n",
    "    container_df.loc[row_select, \"Feedback\"] = \"nur kommentiert\"\n",
    "\n",
    "    return container_df.loc[feedback_exists, :].sort_values(\n",
    "        [\"folder\", \"file_name\"], ascending=[False, True]\n",
    "    )"
   ]
  },
  {
   "cell_type": "code",
   "execution_count": null,
   "metadata": {},
   "outputs": [],
   "source": [
    "sales_folder = Path('P:\\Service\\Kennzahlen\\Verkauf\\PredictiveAnalytics')\n",
    "print(sales_folder)"
   ]
  },
  {
   "cell_type": "code",
   "execution_count": null,
   "metadata": {},
   "outputs": [],
   "source": [
    "%%capture\n",
    "raw_feedback = load_feedback(sales_folder=sales_folder)"
   ]
  },
  {
   "cell_type": "code",
   "execution_count": null,
   "metadata": {},
   "outputs": [],
   "source": [
    "display(raw_feedback.sample(5))"
   ]
  },
  {
   "cell_type": "markdown",
   "metadata": {},
   "source": [
    "## Load VB Information"
   ]
  },
  {
   "cell_type": "code",
   "execution_count": null,
   "metadata": {},
   "outputs": [],
   "source": [
    "request_job(job_name=\"vkber_prepare.py\", current=\"Today\")  # output: vkber_data.csv\n",
    "\n",
    "with project_dir(\"vkprog\"):\n",
    "    vb_list = load_csv(\"vkber_data.csv\", sep=\",\", encoding=\"UTF-8\")\n",
    "    \n",
    "display(vb_list.head(10))\n",
    "display(desc_col(vb_list))"
   ]
  },
  {
   "cell_type": "markdown",
   "metadata": {},
   "source": [
    "# Data Prep: `overview_kuerzel` = `raw_feedback` + `vb_list`"
   ]
  },
  {
   "cell_type": "code",
   "execution_count": null,
   "metadata": {},
   "outputs": [],
   "source": [
    "def lazy_replacer(string, to_replace, replaced_with):\n",
    "    for x in to_replace:\n",
    "        string = string.replace(x, replaced_with)\n",
    "    return string\n",
    "\n",
    "########################################################################################\n",
    "## Aggregate Data: Counts per Feedback kind\n",
    "\n",
    "kuerzel_bearbeitung = (\n",
    "    pd.pivot_table(\n",
    "        raw_feedback,\n",
    "        values=\"Endkunde_NR\",\n",
    "        index=[\"Kuerzel\", \"Feedback\", \"folder\"],\n",
    "        aggfunc=\"count\",\n",
    "    )\n",
    "    .reset_index()\n",
    "    .rename(columns={\"Endkunde_NR\": \"Anzahl\"})\n",
    "    .sort_values([\"folder\", \"Kuerzel\", \"Feedback\"])\n",
    ")\n",
    "\n",
    " \n",
    "########################################################################################\n",
    "## Compute \"Total\" given leads per VB\n",
    "\n",
    "kuerzel_total_leads = (\n",
    "    pd.pivot_table(\n",
    "        raw_feedback, values=\"Endkunde_NR\", index=[\"folder\", \"Kuerzel\"], aggfunc=\"count\"\n",
    "    )\n",
    "    .reset_index()\n",
    "    .rename(columns={\"Endkunde_NR\": \"Anzahl\"})\n",
    ")\n",
    "\n",
    "kuerzel_total_leads.loc[:, \"Feedback\"] = \"Total\"\n",
    "\n",
    "kuerzel_bearbeitung = pd.concat(\n",
    "    [kuerzel_bearbeitung, kuerzel_total_leads], sort=False\n",
    ").sort_values([\"folder\", \"Kuerzel\", \"Feedback\"])\n",
    "\n",
    "########################################################################################\n",
    "## Flatten data:\n",
    "\n",
    "kuerzel_overview = kuerzel_bearbeitung.pivot_table(\n",
    "    index=[\"folder\", \"Kuerzel\"],\n",
    "    columns=[\"Feedback\"],\n",
    "    values=[\"Anzahl\"],\n",
    "    aggfunc=\"sum\",\n",
    "    fill_value=0,\n",
    ").reset_index(inplace=False)\n",
    "\n",
    "########################################################################################\n",
    "## Compute \"touched\"\n",
    "\n",
    "list_rep = [\"' \", \" '\"] + \"' ( ) , Anzahl\".split()\n",
    "\n",
    "kuerzel_overview.columns = [\n",
    "    lazy_replacer(string=str(col), to_replace=list_rep, replaced_with=\"\")\n",
    "    for col in list(kuerzel_overview.columns)\n",
    "]\n",
    "kuerzel_overview.loc[:, \"touched\"] = kuerzel_overview.Total - kuerzel_overview.untouched\n",
    "\n",
    "########################################################################################\n",
    "## Add vb_list\n",
    "\n",
    "kuerzel_overview = (\n",
    "    pd.merge(\n",
    "        kuerzel_overview, vb_list, how=\"left\", left_on=\"Kuerzel\", right_on=\"KURZZEICHEN\"\n",
    "    )\n",
    "    .drop(columns=[\"MA_ID\", \"KURZZEICHEN\"])\n",
    "    .sort_values(\"FUNKTION\")\n",
    ")"
   ]
  },
  {
   "cell_type": "code",
   "execution_count": null,
   "metadata": {},
   "outputs": [],
   "source": [
    "display(kuerzel_overview.sample(5))"
   ]
  },
  {
   "cell_type": "markdown",
   "metadata": {},
   "source": []
  },
  {
   "cell_type": "markdown",
   "metadata": {},
   "source": [
    "## Summary: file description"
   ]
  },
  {
   "cell_type": "markdown",
   "metadata": {},
   "source": [
    "***\n",
    "> 1. `raw_feedback`: Raw data of all excels\n",
    "2. `overview_kuerzel`: Aggregated feedback, one line per VB per VKPROG\n",
    "\n",
    "``Total`` = ``hilfreich`` + ``nicht bearbeitet`` + ``nicht hilfreich`` + ``nur kommentiert`` + ``untouched``\n",
    "\n",
    "``Total`` = ``untouched`` + ``touched``\n",
    "\n",
    "***"
   ]
  },
  {
   "cell_type": "markdown",
   "metadata": {},
   "source": [
    "# Excel-Deployment"
   ]
  },
  {
   "cell_type": "code",
   "execution_count": null,
   "metadata": {},
   "outputs": [],
   "source": [
    "with pd.ExcelWriter(\"feedback_report_02.xlsx\") as writer:\n",
    "    kuerzel_overview.to_excel(writer, sheet_name=\"Overview\", index=False)\n",
    "    raw_feedback.loc[\n",
    "        :,\n",
    "        [\n",
    "            \"Endkunde_NR\",\n",
    "            \"Endkunde\",\n",
    "            \"Prob_1\",\n",
    "            \"Feedback\",\n",
    "            \"Kommentar\",\n",
    "            \"folder\",\n",
    "            \"Kuerzel\",\n",
    "        ],\n",
    "    ].to_excel(writer, sheet_name=\"Feedback\", index=False)\n",
    "    \n",
    "print(f\"Check file in folder: {file_dir}\")"
   ]
  },
  {
   "cell_type": "code",
   "execution_count": null,
   "metadata": {},
   "outputs": [],
   "source": [
    "store_xlsx(kuerzel_overview, \"test.xlsx\",index=False)"
   ]
  },
  {
   "cell_type": "code",
   "execution_count": null,
   "metadata": {},
   "outputs": [],
   "source": []
  },
  {
   "cell_type": "code",
   "execution_count": null,
   "metadata": {},
   "outputs": [],
   "source": []
  },
  {
   "cell_type": "code",
   "execution_count": null,
   "metadata": {},
   "outputs": [],
   "source": []
  },
  {
   "cell_type": "code",
   "execution_count": null,
   "metadata": {},
   "outputs": [],
   "source": []
  },
  {
   "cell_type": "code",
   "execution_count": null,
   "metadata": {},
   "outputs": [],
   "source": []
  },
  {
   "cell_type": "code",
   "execution_count": null,
   "metadata": {},
   "outputs": [],
   "source": []
  },
  {
   "cell_type": "markdown",
   "metadata": {},
   "source": [
    "# Remarks"
   ]
  },
  {
   "cell_type": "markdown",
   "metadata": {},
   "source": [
    "***\n",
    "> 1. Seit der Umstellung auf Random Forest `2019_11_18` ist die  Anzahl der `hilfreich` grösser als `nicht hilfreich`\n",
    "2. In den einzelnen Listen befinden sind politische Gruppierungen vorhanden. Nicht erwünscht.\n",
    "3. Einige der Endkunden sind aufgelöst (zb. Insolvenz)\n",
    "4. Einige Kunden buchen ausschliesslich über Agentur\n",
    "5. Kunden sind eigentlich bei anderem Verkausberater\n",
    "6. Einige Kunden haben für einmalige Events bei uns in der Vergangenheit gebucht. Keine Wiederholungen geplant (zb. Jubiläen)\n",
    "***"
   ]
  },
  {
   "cell_type": "markdown",
   "metadata": {},
   "source": [
    "# Feedback Count"
   ]
  },
  {
   "cell_type": "code",
   "execution_count": null,
   "metadata": {},
   "outputs": [],
   "source": [
    "raw_feedback.sample(5)"
   ]
  },
  {
   "cell_type": "markdown",
   "metadata": {
    "toc-hr-collapsed": true
   },
   "source": [
    "# Counts: Deployed Leads"
   ]
  },
  {
   "cell_type": "code",
   "execution_count": null,
   "metadata": {},
   "outputs": [],
   "source": [
    "(raw_feedback.groupby(\"folder\").agg({\"Endkunde_NR\": \"count\"})).tail(5)"
   ]
  },
  {
   "cell_type": "code",
   "execution_count": null,
   "metadata": {},
   "outputs": [],
   "source": [
    "sns.set(style=\"darkgrid\")\n",
    "plt.figure(figsize=(8,8))\n",
    "ax = (\n",
    "    sns.countplot(\n",
    "        x     = \"folder\",\n",
    "        #y    = \"Feedback\",\n",
    "        data  = raw_feedback,\n",
    "        alpha = 0.6,\n",
    "        #order = raw_feedback.loc[:,'Kuerzel'].value_counts().index\n",
    "        )\n",
    "    )\n",
    "\n",
    "plt.title(\"Total: Anzahl Kunden pro Verkaufsprognosen\")\n",
    "plt.xticks(rotation=30, ha=\"right\")\n",
    "plt.xlabel(\"Verkaufsprognosen\")\n",
    "plt.ylabel(\"Anzahl\")"
   ]
  },
  {
   "cell_type": "markdown",
   "metadata": {},
   "source": [
    "## Count Distribution by Feedback"
   ]
  },
  {
   "cell_type": "code",
   "execution_count": null,
   "metadata": {},
   "outputs": [],
   "source": [
    "sns.set(style=\"darkgrid\")\n",
    "plt.figure(figsize=(15,8))\n",
    "ax = (\n",
    "    sns.countplot(\n",
    "        x     = \"folder\",\n",
    "        hue   = \"Feedback\",\n",
    "        data  = raw_feedback,\n",
    "        alpha = 0.6,\n",
    "        )\n",
    "    )\n",
    "plt.legend(loc='best')\n",
    "\n",
    "plt.title(\"Anzahl Feedbacks pro Verkaufsprognose\")\n",
    "plt.xticks(rotation=30, ha=\"right\")\n",
    "plt.xlabel(\"Verkaufsprognosen\")\n",
    "plt.ylabel(\"Anzahl\")"
   ]
  },
  {
   "cell_type": "code",
   "execution_count": null,
   "metadata": {},
   "outputs": [],
   "source": [
    "raw_feedback.loc[:, \"test\"] = 1\n",
    "\n",
    "alt.Chart(\n",
    "    # raw_feedback.loc[raw_feedback.folder.isin(last_vkrpogs), :]\n",
    "    raw_feedback\n",
    ").mark_bar(opacity=0.6).encode(\n",
    "    y=alt.X(\"sum(test)\", stack=\"normalize\", title=\"Anteil\",),\n",
    "    x=alt.Y(\"folder\",title=\"Verkaufsprognose\"),\n",
    "    color=\"Feedback\",\n",
    "    order=alt.Order(\"Feedback\",sort=\"ascending\")\n",
    ").properties(\n",
    "    height=500, width=500\n",
    ")\n"
   ]
  },
  {
   "cell_type": "code",
   "execution_count": null,
   "metadata": {},
   "outputs": [],
   "source": [
    "last_vkrpogs = set(sorted(list(set(raw_feedback.folder)), reverse=True)[:4])\n",
    "\n",
    "display(last_vkrpogs)"
   ]
  },
  {
   "cell_type": "code",
   "execution_count": null,
   "metadata": {},
   "outputs": [],
   "source": [
    "yticks = range(0, 21)\n",
    "\n",
    "g = sns.catplot(\n",
    "    x=\"folder\",\n",
    "    hue=\"Feedback\",\n",
    "    col=\"Kuerzel\",\n",
    "    data=raw_feedback.loc[raw_feedback.folder.isin(last_vkrpogs), :],\n",
    "    kind=\"count\",\n",
    "    height=8,\n",
    "    aspect=1,\n",
    "    col_wrap=3,\n",
    "    alpha=0.6,\n",
    ")\n",
    "\n",
    "g.set(yticks=yticks)\n",
    "\n",
    "# plt.xticks(rotation=30, ha=\"right\")"
   ]
  },
  {
   "cell_type": "markdown",
   "metadata": {},
   "source": [
    "## Report: Bearbeitungsgrad pro VB"
   ]
  },
  {
   "cell_type": "code",
   "execution_count": null,
   "metadata": {},
   "outputs": [],
   "source": [
    "row_select = raw_feedback.folder.isin({\"2019_12_30\"})\n",
    "\n",
    "sns.set(style=\"darkgrid\")\n",
    "plt.figure(figsize=(10, 20))\n",
    "\n",
    "ax = sns.countplot(\n",
    "    y=\"Kuerzel\", hue=\"Feedback\", data=raw_feedback.loc[row_select, :], alpha=0.5\n",
    ")\n",
    "plt.legend(loc=\"best\")\n",
    "\n",
    "plt.title(\"Anzahl Feedbacks pro Verkaufsprognose\")\n",
    "plt.xticks(rotation=30, ha=\"right\")\n",
    "plt.ylabel(\"Kuerzel\")\n",
    "plt.xlabel(\"Anzahl\")"
   ]
  },
  {
   "cell_type": "markdown",
   "metadata": {},
   "source": [
    "## Remarks"
   ]
  },
  {
   "cell_type": "markdown",
   "metadata": {},
   "source": [
    "***\n",
    ">1. Vorsicht: Die Verkaufsberater erhalten jeweils eine unterschiedliche Anzahl Leads.\n",
    "***"
   ]
  },
  {
   "cell_type": "markdown",
   "metadata": {},
   "source": [
    "# Feedback so far: helpful? not helpful?"
   ]
  },
  {
   "cell_type": "code",
   "execution_count": null,
   "metadata": {},
   "outputs": [],
   "source": [
    "vkprog_set = {\"2019_12_30\", \"2019_12_16\"}\n",
    "(\n",
    "raw_feedback.loc[raw_feedback.folder.isin(vkprog_set),:]\n",
    "    .groupby([\"folder\",\"Feedback\"])\n",
    "    .agg({\"Endkunde\": \"count\"})\n",
    "    .sort_values(\"folder\",ascending=False)\n",
    ")"
   ]
  },
  {
   "cell_type": "markdown",
   "metadata": {},
   "source": [
    "# Scribbles (IGNORE)"
   ]
  },
  {
   "cell_type": "code",
   "execution_count": null,
   "metadata": {},
   "outputs": [],
   "source": [
    "sns.set(style=\"darkgrid\")\n",
    "plt.figure(figsize=(25,10))\n",
    "ax = (\n",
    "    sns.countplot(\n",
    "        x     = \"Kuerzel\",\n",
    "        #y    = \"Feedback\",\n",
    "        data  = raw_feedback,\n",
    "        alpha = 0.6,\n",
    "        order = raw_feedback.loc[:,'Kuerzel'].value_counts().index\n",
    "        )\n",
    "    )\n",
    "    \n",
    "plt.title(\"Total: Anzahl Leads pro Gruppe\")\n",
    "plt.xticks(rotation=30, ha=\"right\")\n",
    "plt.xlabel(\"Kuerzel\")\n",
    "plt.ylabel(\"Anzahl\")"
   ]
  },
  {
   "cell_type": "code",
   "execution_count": null,
   "metadata": {},
   "outputs": [],
   "source": [
    "heatmap_data = pd.pivot_table(\n",
    "    raw_feedback,\n",
    "    index      = \"folder\",\n",
    "    columns    = \"Kuerzel\",\n",
    "    values     = \"Endkunde_NR\",\n",
    "    aggfunc    = np.count_nonzero,\n",
    "    fill_value = 0\n",
    "    ).T\n",
    "\n",
    "plt.figure(figsize=(12,15))\n",
    "\n",
    "ax = sns.heatmap(\n",
    "    data       = heatmap_data,\n",
    "    linewidths = 0.5,\n",
    "    annot      = True,\n",
    "    annot_kws={\"size\": 15},\n",
    "    )\n",
    "\n",
    "ax.set_yticklabels(ax.get_yticklabels(), rotation=0, horizontalalignment='right')\n",
    "\n",
    "bottom, top = ax.get_ylim()\n",
    "ax.set_ylim(bottom + 0.5, top - 0.5)\n",
    "\n",
    "plt.title(\"Heatmap: Anzahl Kunden pro Verkaufsprognosen & Kuerzel\")\n",
    "plt.xlabel(\"Verkaufsprognosen\")\n",
    "plt.ylabel(\"Kuerzel\")"
   ]
  }
 ],
 "metadata": {
  "kernelspec": {
   "display_name": "Python 3",
   "language": "python",
   "name": "python3"
  },
  "language_info": {
   "codemirror_mode": {
    "name": "ipython",
    "version": 3
   },
   "file_extension": ".py",
   "mimetype": "text/x-python",
   "name": "python",
   "nbconvert_exporter": "python",
   "pygments_lexer": "ipython3",
   "version": "3.7.5"
  },
  "toc-autonumbering": true
 },
 "nbformat": 4,
 "nbformat_minor": 4
}
