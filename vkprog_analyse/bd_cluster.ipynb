{
 "cells": [
  {
   "cell_type": "markdown",
   "metadata": {},
   "source": [
    "# Libraries & Settings"
   ]
  },
  {
   "cell_type": "code",
   "execution_count": null,
   "metadata": {},
   "outputs": [],
   "source": [
    "# make imports from pa_lib possible (parent directory of file's directory)\n",
    "import sys\n",
    "from pathlib import Path\n",
    "\n",
    "file_dir = Path.cwd()\n",
    "parent_dir = file_dir.parent\n",
    "sys.path.append(str(parent_dir))"
   ]
  },
  {
   "cell_type": "code",
   "execution_count": null,
   "metadata": {},
   "outputs": [],
   "source": [
    "%load_ext autoreload\n",
    "%autoreload\n",
    "%matplotlib inline\n",
    "\n",
    "import pandas as pd\n",
    "import numpy as np\n",
    "import qgrid\n",
    "from datetime import datetime as dtt\n",
    "\n",
    "from pa_lib.file import (\n",
    "    data_files,\n",
    "    load_bin,\n",
    "    store_bin,\n",
    "    load_csv,\n",
    "    write_xlsx,\n",
    "    load_xlsx,\n",
    "    set_project_dir,\n",
    "    project_dir,\n",
    ")\n",
    "from pa_lib.data import (\n",
    "    calc_col_partitioned,\n",
    "    clean_up_categoricals,\n",
    "    unfactorize,\n",
    "    flatten,\n",
    "    replace_col,\n",
    "    cond_col,\n",
    "    desc_col,\n",
    "    unfactorize,\n",
    "    as_dtype,\n",
    "    flatten_multi_index_cols,\n",
    ")\n",
    "from pa_lib.util import obj_size, cap_words, normalize_rows, clear_row_max\n",
    "from pa_lib.log import time_log, info\n",
    "from pa_lib.vis import dive\n",
    "\n",
    "# display long columns completely, show more rows\n",
    "pd.set_option(\"display.max_colwidth\", 200)\n",
    "pd.set_option(\"display.max_rows\", 100)\n",
    "pd.set_option(\"display.max_columns\", 200)\n",
    "\n",
    "\n",
    "def qshow(df, fit_width=False):\n",
    "    return qgrid.show_grid(\n",
    "        df, grid_options={\"forceFitColumns\": fit_width, \"fullWidthRows\": False}\n",
    "    )"
   ]
  },
  {
   "cell_type": "markdown",
   "metadata": {},
   "source": [
    "# Load data"
   ]
  },
  {
   "cell_type": "code",
   "execution_count": null,
   "metadata": {},
   "outputs": [],
   "source": [
    "set_project_dir(\"vkprog\")"
   ]
  },
  {
   "cell_type": "markdown",
   "metadata": {},
   "source": [
    "## Buchungsdaten"
   ]
  },
  {
   "cell_type": "code",
   "execution_count": null,
   "metadata": {},
   "outputs": [],
   "source": [
    "bd_raw = load_bin(\"bd_data.feather\").rename(\n",
    "    mapper=lambda name: cap_words(name, sep=\"_\"), axis=\"columns\"\n",
    ")\n",
    "bd = bd_raw.loc[(bd_raw.Netto > 0)].pipe(clean_up_categoricals)"
   ]
  },
  {
   "cell_type": "code",
   "execution_count": null,
   "metadata": {},
   "outputs": [],
   "source": [
    "desc_col(bd)"
   ]
  },
  {
   "cell_type": "markdown",
   "metadata": {},
   "source": [
    "## Dispo dates"
   ]
  },
  {
   "cell_type": "code",
   "execution_count": null,
   "metadata": {},
   "outputs": [],
   "source": [
    "dispo = load_bin(\"dispo.feather\")"
   ]
  },
  {
   "cell_type": "code",
   "execution_count": null,
   "metadata": {},
   "outputs": [],
   "source": [
    "dispo.head()"
   ]
  },
  {
   "cell_type": "markdown",
   "metadata": {},
   "source": [
    "## Endkunden Information"
   ]
  },
  {
   "cell_type": "code",
   "execution_count": null,
   "metadata": {},
   "outputs": [],
   "source": [
    "with project_dir('vkprog'):\n",
    "    ek_info = load_bin('ek_info.feather').drop(columns='index')"
   ]
  },
  {
   "cell_type": "code",
   "execution_count": null,
   "metadata": {},
   "outputs": [],
   "source": [
    "desc_col(ek_info)"
   ]
  },
  {
   "cell_type": "code",
   "execution_count": null,
   "metadata": {},
   "outputs": [],
   "source": [
    "ek_info.head(10)"
   ]
  },
  {
   "cell_type": "markdown",
   "metadata": {},
   "source": [
    "### How many customers started or ended in which year?"
   ]
  },
  {
   "cell_type": "code",
   "execution_count": null,
   "metadata": {},
   "outputs": [],
   "source": [
    "pd.crosstab(\n",
    "    index=ek_info.First_Res_Year,\n",
    "    columns=ek_info.Last_Res_Year,\n",
    "    margins=True,\n",
    ")"
   ]
  },
  {
   "cell_type": "code",
   "execution_count": null,
   "metadata": {},
   "outputs": [],
   "source": [
    "import seaborn as sns\n",
    "import matplotlib.pyplot as plt\n",
    "\n",
    "plot_data = pd.crosstab(\n",
    "    index=ek_info.First_Res_Year, columns=ek_info.Last_Res_Year\n",
    ")\n",
    "\n",
    "plt.figure(figsize=(15, 10))\n",
    "sns.heatmap(data=plot_data, linewidths=0.3, vmax=1500, annot=True, fmt=\"d\")"
   ]
  },
  {
   "cell_type": "markdown",
   "metadata": {},
   "source": [
    "# Distribution of Auftragsart"
   ]
  },
  {
   "cell_type": "code",
   "execution_count": null,
   "metadata": {},
   "outputs": [],
   "source": [
    "display(\n",
    "    pd.crosstab(\n",
    "        index=[bd.Auftragsart, bd.Vertrag], columns=bd.Kamp_Erfass_Jahr, margins=True\n",
    "    )\n",
    ")\n",
    "display(\"Netto-Umsatz\")\n",
    "display(\n",
    "    bd.pivot_table(\n",
    "        index=[\"Auftragsart\", \"Vertrag\"],\n",
    "        columns=\"Kamp_Erfass_Jahr\",\n",
    "        values=\"Netto\",\n",
    "        aggfunc=\"sum\",\n",
    "        fill_value=0,\n",
    "        margins=True,\n",
    "    )\n",
    ")"
   ]
  },
  {
   "cell_type": "markdown",
   "metadata": {},
   "source": [
    "### Auftragsart vs. customers"
   ]
  },
  {
   "cell_type": "code",
   "execution_count": null,
   "metadata": {},
   "outputs": [],
   "source": [
    "%%time\n",
    "\n",
    "ek_auftragsart = pd.crosstab(columns=bd.Auftragsart, index=bd.Endkunde_NR)\n",
    "ek_auftragsart.mask(ek_auftragsart == 0, inplace=True)\n",
    "\n",
    "ek_auftragsart.head(10)"
   ]
  },
  {
   "cell_type": "markdown",
   "metadata": {},
   "source": [
    "How many **different** Auftragsart per customer?"
   ]
  },
  {
   "cell_type": "code",
   "execution_count": null,
   "metadata": {},
   "outputs": [],
   "source": [
    "ek_auftragsart.count(axis='columns').value_counts()"
   ]
  },
  {
   "cell_type": "markdown",
   "metadata": {},
   "source": [
    "How many **most frequent** Auftragsart per customer? "
   ]
  },
  {
   "cell_type": "code",
   "execution_count": null,
   "metadata": {},
   "outputs": [],
   "source": [
    "(ek_auftragsart.subtract(ek_auftragsart.max(axis='columns'), axis='index') == 0).sum(axis='columns').value_counts()"
   ]
  },
  {
   "cell_type": "markdown",
   "metadata": {},
   "source": [
    "Where is the a **clear favourite** Auftragsart for a customer?"
   ]
  },
  {
   "cell_type": "code",
   "execution_count": null,
   "metadata": {},
   "outputs": [],
   "source": [
    "%%time\n",
    "ek_auftragsart_scores = clear_row_max(ek_auftragsart)"
   ]
  },
  {
   "cell_type": "code",
   "execution_count": null,
   "metadata": {},
   "outputs": [],
   "source": [
    "ek_auftragsart_scoring = pd.DataFrame(\n",
    "    index=ek_auftragsart_scores.index,\n",
    "    data={\"AufArt\": ek_auftragsart_scores},\n",
    ")\n",
    "\n",
    "ek_auftragsart_scoring.dropna(inplace=True)"
   ]
  },
  {
   "cell_type": "markdown",
   "metadata": {},
   "source": [
    "# Branchen"
   ]
  },
  {
   "cell_type": "code",
   "execution_count": null,
   "metadata": {},
   "outputs": [],
   "source": [
    "ek_branchen = ek_info.loc[:,['Endkunde_NR', 'EK_BG_ID', 'Auftrag_BG_ID']]"
   ]
  },
  {
   "cell_type": "code",
   "execution_count": null,
   "metadata": {},
   "outputs": [],
   "source": [
    "def unique_list(lst):\n",
    "    return list(set(lst))\n",
    "\n",
    "\n",
    "ek_branchen[\"Auftrag_BG_list\"] = ek_branchen.Auftrag_BG_ID.str.split(\",\")\n",
    "ek_branchen[\"BG_list\"] = ek_branchen.apply(\n",
    "    lambda x: unique_list([x.EK_BG_ID] + x.Auftrag_BG_list), axis=\"columns\"\n",
    ")\n",
    "ek_branchen.drop(\n",
    "    [\"EK_BG_ID\", \"Auftrag_BG_ID\", \"Auftrag_BG_list\"], axis=\"columns\", inplace=True\n",
    ")"
   ]
  },
  {
   "cell_type": "code",
   "execution_count": null,
   "metadata": {},
   "outputs": [],
   "source": [
    "display(ek_branchen.head())\n",
    "\n",
    "ek_branchen_scoring = ek_branchen.explode(column=\"BG_list\").rename(\n",
    "    columns={\"BG_list\": \"BG\"}\n",
    ")\n",
    "\n",
    "display(ek_branchen_scoring.head())"
   ]
  },
  {
   "cell_type": "markdown",
   "metadata": {},
   "source": [
    "# Auftragsart vs. Branchen"
   ]
  },
  {
   "cell_type": "code",
   "execution_count": null,
   "metadata": {},
   "outputs": [],
   "source": [
    "AufArt_BG = ek_auftragsart_scoring.merge(ek_branchen_scoring, how='inner', on='Endkunde_NR')"
   ]
  },
  {
   "cell_type": "code",
   "execution_count": null,
   "metadata": {},
   "outputs": [],
   "source": [
    "plt.figure(figsize=(20, 32))\n",
    "sns.heatmap(\n",
    "    data=np.log1p(\n",
    "        pd.crosstab(columns=AufArt_BG.AufArt, index=AufArt_BG.BG, margins=True)\n",
    "        .sort_values(\"All\", ascending=False)\n",
    "        .sort_values(\"All\", axis=\"columns\", ascending=False)\n",
    "    ).iloc[1:,1:]\n",
    ")"
   ]
  },
  {
   "cell_type": "code",
   "execution_count": null,
   "metadata": {},
   "outputs": [],
   "source": [
    "display(\n",
    "    normalize_rows(\n",
    "        pd.crosstab(columns=AufArt_BG.AufArt, index=AufArt_BG.BG, margins=True)\n",
    "        .sort_values(\"All\", ascending=False)\n",
    "        .sort_values(\"All\", axis=\"columns\", ascending=False)\n",
    "        .iloc[1:, 1:]\n",
    "    )\n",
    ")"
   ]
  },
  {
   "cell_type": "markdown",
   "metadata": {},
   "source": [
    "# Restrict bookings to interesting customers (current & long-term)"
   ]
  },
  {
   "cell_type": "markdown",
   "metadata": {},
   "source": [
    "### List of current long-time customers\n",
    "\n",
    "* \"Current\" means that their last booking was not more than two years back. \n",
    "* \"Long-time\" means that they had at least two years of bookings."
   ]
  },
  {
   "cell_type": "code",
   "execution_count": null,
   "metadata": {},
   "outputs": [],
   "source": [
    "limit_year = pd.Timestamp.today().year - 2\n",
    "\n",
    "ek_nr_current = ek_info.loc[\n",
    "    (ek_info.Last_Res_Year >= limit_year)\n",
    "    & (ek_info.First_Res_Year < limit_year - 2),\n",
    "    \"Endkunde_NR\"\n",
    "]"
   ]
  },
  {
   "cell_type": "code",
   "execution_count": null,
   "metadata": {},
   "outputs": [],
   "source": [
    "bd_current = bd.loc[bd.Endkunde_NR.isin(ek_nr_current)].pipe(clean_up_categoricals)\n",
    "\n",
    "print(f'Keeping {bd_current.shape[0]} of {bd.shape[0]} records')"
   ]
  },
  {
   "cell_type": "code",
   "execution_count": null,
   "metadata": {},
   "outputs": [],
   "source": [
    "ek_info_current = ek_info.loc[ek_info.Endkunde_NR.isin(ek_nr_current)]\n",
    "\n",
    "print(f'Keeping {ek_info_current.shape[0]} of {ek_info.shape[0]} records')"
   ]
  },
  {
   "cell_type": "markdown",
   "metadata": {},
   "source": [
    "# Aggregate bookings per customer, year, and KW_2 / KW_4 period\n",
    "\n",
    "Both by Reservation and Aushang."
   ]
  },
  {
   "cell_type": "code",
   "execution_count": null,
   "metadata": {},
   "outputs": [],
   "source": [
    "def sum_calc(df, col_year, col_week):\n",
    "    return (\n",
    "        df.loc[:, [\"Endkunde_NR\", col_year, col_week, \"Netto\"]]\n",
    "        .pipe(unfactorize)\n",
    "        .groupby([\"Endkunde_NR\", col_year, col_week], observed=True, as_index=False)\n",
    "        .agg({\"Netto\": [\"sum\"]})\n",
    "        .set_axis(\n",
    "            f\"Endkunde_NR {col_year} {col_week} Netto_Sum\".split(),\n",
    "            axis=\"columns\",\n",
    "            inplace=False,\n",
    "        )\n",
    "    )\n",
    "\n",
    "\n",
    "def aggregate_bookings(df, period):\n",
    "    info(f\"Period: {period}\")\n",
    "    info(\"Calculate Reservation...\")\n",
    "    df_res = sum_calc(df, \"Kamp_Erfass_Jahr\", f\"Kamp_Erfass_{period}\")\n",
    "    info(\"Calculate Aushang...\")\n",
    "    df_aus = sum_calc(df, \"Kamp_Beginn_Jahr\", f\"Kamp_Beginn_{period}\")\n",
    "\n",
    "    info(\"Merge Results...\")\n",
    "    df_aggr = df_res.merge(\n",
    "        right=df_aus,\n",
    "        left_on=[\"Endkunde_NR\", \"Kamp_Erfass_Jahr\", f\"Kamp_Erfass_{period}\"],\n",
    "        right_on=[\"Endkunde_NR\", \"Kamp_Beginn_Jahr\", f\"Kamp_Beginn_{period}\"],\n",
    "        how=\"outer\",\n",
    "        suffixes=(\"_Res\", \"_Aus\"),\n",
    "    ).rename(\n",
    "        {\"Kamp_Erfass_Jahr\": \"Jahr\", f\"Kamp_Erfass_{period}\": period}, axis=\"columns\"\n",
    "    )\n",
    "\n",
    "    df_aggr = (\n",
    "        df_aggr.fillna(\n",
    "            {\n",
    "                \"Jahr\": df_aggr.Kamp_Beginn_Jahr,\n",
    "                period: df_aggr[f\"Kamp_Beginn_{period}\"],\n",
    "                \"Netto_Sum_Res\": 0,\n",
    "                \"Netto_Sum_Aus\": 0,\n",
    "            }\n",
    "        )\n",
    "        .drop([\"Kamp_Beginn_Jahr\", f\"Kamp_Beginn_{period}\"], axis=\"columns\")\n",
    "        .astype({\"Jahr\": \"int16\"})\n",
    "        .astype({period: \"int8\"})\n",
    "        .sort_values([\"Jahr\", \"Endkunde_NR\", period])\n",
    "        .reset_index(drop=True)\n",
    "    )\n",
    "\n",
    "    return df_aggr"
   ]
  },
  {
   "cell_type": "code",
   "execution_count": null,
   "metadata": {},
   "outputs": [],
   "source": [
    "bd_aggr_2w = aggregate_bookings(bd_current, 'KW_2')\n",
    "bd_aggr_4w = aggregate_bookings(bd_current, 'KW_4')"
   ]
  },
  {
   "cell_type": "code",
   "execution_count": null,
   "metadata": {},
   "outputs": [],
   "source": [
    "bd_aggr_2w.head(10)"
   ]
  },
  {
   "cell_type": "markdown",
   "metadata": {},
   "source": [
    "# Netto by customer / year"
   ]
  },
  {
   "cell_type": "code",
   "execution_count": null,
   "metadata": {},
   "outputs": [],
   "source": [
    "bd_aggr_yr = bd_aggr_2w.groupby([\"Endkunde_NR\", \"Jahr\"]).agg(\n",
    "    {\"Netto_Sum_Res\": \"sum\", \"Netto_Sum_Aus\": \"sum\"}\n",
    ")\n",
    "\n",
    "bd_aggr_yr.head(15)"
   ]
  },
  {
   "cell_type": "code",
   "execution_count": null,
   "metadata": {},
   "outputs": [],
   "source": [
    "bd_aggr_yr_ek = bd_aggr_yr.groupby(\"Endkunde_NR\").agg([\"min\", \"max\", \"mean\", \"median\"])\n",
    "\n",
    "bd_aggr_yr_ek.head()"
   ]
  },
  {
   "cell_type": "code",
   "execution_count": null,
   "metadata": {},
   "outputs": [],
   "source": [
    "np.log1p(bd_aggr_yr_ek[('Netto_Sum_Res', 'mean')]).hist()"
   ]
  },
  {
   "cell_type": "markdown",
   "metadata": {},
   "source": [
    "### Find good category borders for 5 categories"
   ]
  },
  {
   "cell_type": "code",
   "execution_count": null,
   "metadata": {},
   "outputs": [],
   "source": [
    "pd.qcut(bd_aggr_yr_ek[('Netto_Sum_Res', 'mean')].values, q=5).categories"
   ]
  },
  {
   "cell_type": "markdown",
   "metadata": {},
   "source": [
    "### Cut the net values, label categories, merge back into ``ek_info_current`` "
   ]
  },
  {
   "cell_type": "code",
   "execution_count": null,
   "metadata": {},
   "outputs": [],
   "source": [
    "_netto_cat = pd.cut(\n",
    "    bd_aggr_yr_ek[(\"Netto_Sum_Res\", \"mean\")],\n",
    "    bins=(0, 4000, 10000, 50000, 500000, 7000000),\n",
    "    labels=\"<4k 4k-10k 10k-50k 50k-500k >500k\".split(),\n",
    ").rename(\"netto_cat\")\n",
    "\n",
    "ek_info_current.loc[:,'Netto_Cat'] = ek_info_current.merge(_netto_cat, on='Endkunde_NR')['netto_cat'].values"
   ]
  },
  {
   "cell_type": "code",
   "execution_count": null,
   "metadata": {},
   "outputs": [],
   "source": [
    "ek_info_current.Netto_Cat.value_counts()"
   ]
  },
  {
   "cell_type": "markdown",
   "metadata": {},
   "source": [
    "# Calculate sum curve per customer * year, over periods"
   ]
  },
  {
   "cell_type": "code",
   "execution_count": null,
   "metadata": {},
   "outputs": [],
   "source": [
    "def make_year_grp_sumcurve(df, year_col, grp_col, data_col, prefix=\"\"):\n",
    "    # build new columns with sum/cumsum per year/grp\n",
    "    df = df.pipe(\n",
    "        calc_col_partitioned,\n",
    "        f\"{prefix}sumJahr\",\n",
    "        fun=\"sum\",\n",
    "        on=data_col,\n",
    "        part_by=[year_col, grp_col],\n",
    "    ).pipe(\n",
    "        calc_col_partitioned,\n",
    "        f\"{prefix}cumJahr\",\n",
    "        fun=\"cumsum\",\n",
    "        on=data_col,\n",
    "        part_by=[year_col, grp_col],\n",
    "    )\n",
    "\n",
    "    # divide data_col by sum to get scaled amounts, show in %\n",
    "    df = (\n",
    "        df.eval(f\"{prefix}prcJahr = ({data_col} / {prefix}sumJahr) * 100 + 0.5\")\n",
    "        .fillna({f\"{prefix}prcJahr\": 0})\n",
    "        .astype({f\"{prefix}prcJahr\": \"int\"})\n",
    "    )\n",
    "\n",
    "    # divide cumsum by sum to get sum curve [0, 1], show in %\n",
    "    df = (\n",
    "        df.eval(f\"{prefix}crvJahr = ({prefix}cumJahr / {prefix}sumJahr) * 100 + 0.5\")\n",
    "        .fillna({f\"{prefix}crvJahr\": 0})\n",
    "        .astype({f\"{prefix}crvJahr\": \"int\"})\n",
    "    )\n",
    "    return df"
   ]
  },
  {
   "cell_type": "code",
   "execution_count": null,
   "metadata": {},
   "outputs": [],
   "source": [
    "bd_aggr_2w = (\n",
    "    bd_aggr_2w.pipe(\n",
    "        make_year_grp_sumcurve,\n",
    "        year_col=\"Jahr\",\n",
    "        grp_col=\"Endkunde_NR\",\n",
    "        data_col=\"Netto_Sum_Res\",\n",
    "        prefix=\"Res_\",\n",
    "    )\n",
    "    .pipe(\n",
    "        make_year_grp_sumcurve,\n",
    "        year_col=\"Jahr\",\n",
    "        grp_col=\"Endkunde_NR\",\n",
    "        data_col=\"Netto_Sum_Aus\",\n",
    "        prefix=\"Aus_\",\n",
    "    )\n",
    "    .sort_values([\"Endkunde_NR\", \"Jahr\", \"KW_2\"])\n",
    "    .reset_index(drop=True)\n",
    ")\n",
    "\n",
    "bd_aggr_4w = (\n",
    "    bd_aggr_4w.pipe(\n",
    "        make_year_grp_sumcurve,\n",
    "        year_col=\"Jahr\",\n",
    "        grp_col=\"Endkunde_NR\",\n",
    "        data_col=\"Netto_Sum_Res\",\n",
    "        prefix=\"Res_\",\n",
    "    )\n",
    "    .pipe(\n",
    "        make_year_grp_sumcurve,\n",
    "        year_col=\"Jahr\",\n",
    "        grp_col=\"Endkunde_NR\",\n",
    "        data_col=\"Netto_Sum_Aus\",\n",
    "        prefix=\"Aus_\",\n",
    "    )\n",
    "    .sort_values([\"Endkunde_NR\", \"Jahr\", \"KW_4\"])\n",
    "    .reset_index(drop=True)\n",
    ")"
   ]
  },
  {
   "cell_type": "code",
   "execution_count": null,
   "metadata": {},
   "outputs": [],
   "source": [
    "bd_aggr_2w.head(10)"
   ]
  },
  {
   "cell_type": "code",
   "execution_count": null,
   "metadata": {},
   "outputs": [],
   "source": [
    "bd_aggr_4w.head(10)"
   ]
  },
  {
   "cell_type": "markdown",
   "metadata": {},
   "source": [
    "### Store and reload results"
   ]
  },
  {
   "cell_type": "code",
   "execution_count": null,
   "metadata": {},
   "outputs": [],
   "source": [
    "store_bin(bd_aggr_2w, 'bd_cluster_aggr_2w.feather')\n",
    "store_bin(bd_aggr_4w, 'bd_cluster_aggr_4w.feather')"
   ]
  },
  {
   "cell_type": "code",
   "execution_count": null,
   "metadata": {},
   "outputs": [],
   "source": [
    "bd_aggr_2w = load_bin('bd_cluster_aggr_2w.feather')\n",
    "bd_aggr_4w = load_bin('bd_cluster_aggr_4w.feather')"
   ]
  },
  {
   "cell_type": "markdown",
   "metadata": {
    "toc-hr-collapsed": false
   },
   "source": [
    "# Clustering Customers by Reservation"
   ]
  },
  {
   "cell_type": "markdown",
   "metadata": {},
   "source": [
    "### Drop incomplete years\n",
    "\n",
    "We have data for the last 10 years, the current year is incomplete"
   ]
  },
  {
   "cell_type": "code",
   "execution_count": null,
   "metadata": {},
   "outputs": [],
   "source": [
    "current_year = pd.Timestamp.today().year\n",
    "valid_years = list(range(current_year - 10, current_year))\n",
    "valid_years"
   ]
  },
  {
   "cell_type": "markdown",
   "metadata": {},
   "source": [
    "### Pivot prc values by period"
   ]
  },
  {
   "cell_type": "code",
   "execution_count": null,
   "metadata": {},
   "outputs": [],
   "source": [
    "bd_res_prc_2w_data = bd_aggr_2w.loc[(bd_aggr_2w.Jahr.isin(valid_years))].pivot_table(\n",
    "    index=[\"Endkunde_NR\", \"Jahr\"],\n",
    "    columns=\"KW_2\",\n",
    "    values=\"Res_prcJahr\",\n",
    "    aggfunc=\"sum\",\n",
    "    fill_value=0,\n",
    ")\n",
    "\n",
    "# drop years with no reservations\n",
    "bd_res_prc_2w_data = bd_res_prc_2w_data.loc[bd_res_prc_2w_data.sum(axis=\"columns\") > 0]\n",
    "\n",
    "bd_res_prc_2w_data.head(12)"
   ]
  },
  {
   "cell_type": "markdown",
   "metadata": {},
   "source": [
    "### Prepare data: Aggregate over years by customer"
   ]
  },
  {
   "cell_type": "code",
   "execution_count": null,
   "metadata": {},
   "outputs": [],
   "source": [
    "ek_2w_prc_mean = (\n",
    "    bd_res_prc_2w_data.reset_index()\n",
    "    .drop(\"Jahr\", axis=\"columns\")\n",
    "    .groupby(\"Endkunde_NR\")\n",
    "    .agg(\"mean\")\n",
    ")\n",
    "\n",
    "# correct rowsums to 100\n",
    "ek_2w_prc_mean = (normalize_rows(ek_2w_prc_mean) * 100)\n",
    "\n",
    "ek_2w_prc_mean_stack = (\n",
    "    ek_2w_prc_mean.stack()\n",
    "    .reset_index()\n",
    "    .set_axis([\"Endkunde_NR\", \"KW_2\", \"prc_mean\"], axis=\"columns\", inplace=False)\n",
    ")\n",
    "\n",
    "display(ek_2w_prc_mean.round(1).head(10))"
   ]
  },
  {
   "cell_type": "markdown",
   "metadata": {},
   "source": [
    "### Pivot crv values by period"
   ]
  },
  {
   "cell_type": "code",
   "execution_count": null,
   "metadata": {},
   "outputs": [],
   "source": [
    "bd_res_crv_2w_data = (\n",
    "    bd_aggr_2w.loc[(bd_aggr_2w.Jahr.isin(valid_years))]\n",
    "    .pivot_table(\n",
    "        index=[\"Endkunde_NR\", \"Jahr\"],\n",
    "        columns=\"KW_2\",\n",
    "        values=\"Res_crvJahr\",\n",
    "        aggfunc=\"sum\",\n",
    "    )\n",
    "    .fillna(method=\"ffill\", axis=1)\n",
    "    .fillna(0)\n",
    ")\n",
    "\n",
    "# drop years with no reservations\n",
    "bd_res_crv_2w_data = bd_res_crv_2w_data.loc[bd_res_crv_2w_data.sum(axis=\"columns\") > 0]"
   ]
  },
  {
   "cell_type": "markdown",
   "metadata": {},
   "source": [
    "### Aggregate over years by customer"
   ]
  },
  {
   "cell_type": "code",
   "execution_count": null,
   "metadata": {},
   "outputs": [],
   "source": [
    "ek_2w_crv_mean = (\n",
    "    bd_res_crv_2w_data.reset_index()\n",
    "    .drop(\"Jahr\", axis=\"columns\")\n",
    "    .groupby(\"Endkunde_NR\")\n",
    "    .agg(\"mean\")\n",
    ")\n",
    "\n",
    "ek_2w_crv_mean_stack = (\n",
    "    ek_2w_crv_mean.stack()\n",
    "    .reset_index()\n",
    "    .set_axis([\"Endkunde_NR\", \"KW_2\", \"crv_mean\"], axis=\"columns\", inplace=False)\n",
    ")\n",
    "\n",
    "display(bd_res_crv_2w_data.head())\n",
    "display(ek_2w_crv_mean.head())\n",
    "ek_2w_crv_mean_stack.head()"
   ]
  },
  {
   "cell_type": "markdown",
   "metadata": {},
   "source": [
    "### Plot customer booking patterns (global)"
   ]
  },
  {
   "cell_type": "code",
   "execution_count": null,
   "metadata": {},
   "outputs": [],
   "source": [
    "import seaborn as sns\n",
    "%matplotlib inline\n",
    "\n",
    "sns.set()\n",
    "sns.catplot(\n",
    "    data=ek_2w_prc_mean_stack, x=\"KW_2\", y=\"prc_mean\", aspect=2.5, kind=\"boxen\"\n",
    ")"
   ]
  },
  {
   "cell_type": "code",
   "execution_count": null,
   "metadata": {},
   "outputs": [],
   "source": [
    "sns.catplot(\n",
    "    data=ek_2w_crv_mean_stack, x=\"KW_2\", y=\"crv_mean\", aspect=2.5, kind=\"boxen\"\n",
    ")"
   ]
  },
  {
   "cell_type": "markdown",
   "metadata": {
    "toc-hr-collapsed": false
   },
   "source": [
    "### Cluster booking patterns (percentage of yearly sum)\n",
    "\n",
    "Prepare data"
   ]
  },
  {
   "cell_type": "code",
   "execution_count": null,
   "metadata": {},
   "outputs": [],
   "source": [
    "X = ek_2w_prc_mean.to_numpy()\n",
    "\n",
    "X_columns = ek_2w_prc_mean.columns"
   ]
  },
  {
   "cell_type": "markdown",
   "metadata": {},
   "source": [
    "#### Normal KMeans"
   ]
  },
  {
   "cell_type": "code",
   "execution_count": null,
   "metadata": {},
   "outputs": [],
   "source": [
    "from sklearn.cluster import KMeans\n",
    "from sklearn.metrics import silhouette_score, calinski_harabasz_score"
   ]
  },
  {
   "cell_type": "code",
   "execution_count": null,
   "metadata": {},
   "outputs": [],
   "source": [
    "for n_clusters in range(5, 21):\n",
    "    kmeans_ = KMeans(\n",
    "        n_clusters=n_clusters,\n",
    "        random_state=0,\n",
    "        n_jobs=-1\n",
    "    )\n",
    "    cluster_labels_ = kmeans_.fit_predict(X)\n",
    "    ch_score = calinski_harabasz_score(X, cluster_labels_)\n",
    "    sil_score = silhouette_score(X, cluster_labels_)\n",
    "    print(\n",
    "        f\"For n_clusters = {n_clusters}: Silhouette_score = {sil_score},  CH score = {ch_score}\"\n",
    "    )"
   ]
  },
  {
   "cell_type": "code",
   "execution_count": null,
   "metadata": {},
   "outputs": [],
   "source": [
    "nkmeans = KMeans(n_clusters=15, random_state=0, verbose=1, n_jobs=-1)\n",
    "\n",
    "prc_nkmeans_labels = nkmeans.fit_predict(X)"
   ]
  },
  {
   "cell_type": "markdown",
   "metadata": {},
   "source": [
    "Show cluster centroids sorted by cluster size (number of rows)"
   ]
  },
  {
   "cell_type": "code",
   "execution_count": null,
   "metadata": {},
   "outputs": [],
   "source": [
    "import seaborn as sns\n",
    "import matplotlib.pyplot as plt\n",
    "\n",
    "nkmeans_clusters = pd.DataFrame(data=nkmeans.cluster_centers_, columns=X_columns).loc[\n",
    "    pd.Series(prc_nkmeans_labels).value_counts().index\n",
    "]\n",
    "\n",
    "plt.figure(figsize=(20, 10))\n",
    "sns.heatmap(nkmeans_clusters, annot=True, vmin=1, vmax=5)"
   ]
  },
  {
   "cell_type": "markdown",
   "metadata": {},
   "source": [
    "Cluster sizes"
   ]
  },
  {
   "cell_type": "code",
   "execution_count": null,
   "metadata": {},
   "outputs": [],
   "source": [
    "pd.Series(prc_nkmeans_labels).value_counts()"
   ]
  },
  {
   "cell_type": "markdown",
   "metadata": {},
   "source": [
    "Plot scaled bookings by cluster"
   ]
  },
  {
   "cell_type": "code",
   "execution_count": null,
   "metadata": {},
   "outputs": [],
   "source": [
    "plot_data = ek_2w_prc_mean_stack.merge(\n",
    "    pd.Series(data=prc_nkmeans_labels, index=ek_2w_prc_mean.index, name=\"cluster\"),\n",
    "    on=\"Endkunde_NR\",\n",
    ")\n",
    "\n",
    "sns.catplot(\n",
    "    data=plot_data,\n",
    "    x=\"KW_2\",\n",
    "    y=\"prc_mean\",\n",
    "    aspect=1.1,\n",
    "    kind=\"boxen\",\n",
    "    col=\"cluster\",\n",
    "    col_wrap=4,\n",
    "    col_order=pd.Series(prc_nkmeans_labels).value_counts().index,  # order by cluster size\n",
    "    height=4,\n",
    ")"
   ]
  },
  {
   "cell_type": "markdown",
   "metadata": {
    "toc-hr-collapsed": false
   },
   "source": [
    "### Cluster booking patterns (cumulative percentage of yearly sum)\n",
    "\n",
    "Prepare data"
   ]
  },
  {
   "cell_type": "code",
   "execution_count": null,
   "metadata": {},
   "outputs": [],
   "source": [
    "X = ek_2w_crv_mean.to_numpy()\n",
    "\n",
    "X_columns = ek_2w_crv_mean.columns"
   ]
  },
  {
   "cell_type": "markdown",
   "metadata": {},
   "source": [
    "#### Normal KMeans"
   ]
  },
  {
   "cell_type": "code",
   "execution_count": null,
   "metadata": {},
   "outputs": [],
   "source": [
    "from sklearn.cluster import KMeans\n",
    "from sklearn.metrics import silhouette_score, calinski_harabasz_score"
   ]
  },
  {
   "cell_type": "code",
   "execution_count": null,
   "metadata": {},
   "outputs": [],
   "source": [
    "for n_clusters in range(3, 21):\n",
    "    kmeans_ = KMeans(\n",
    "        n_clusters=n_clusters,\n",
    "        random_state=0,\n",
    "        n_jobs=-1\n",
    "    )\n",
    "    cluster_labels_ = kmeans_.fit_predict(X)\n",
    "    ch_score = calinski_harabasz_score(X, cluster_labels_)\n",
    "    sil_score = silhouette_score(X, cluster_labels_)\n",
    "    print(\n",
    "        f\"For n_clusters = {n_clusters}: Silhouette_score = {sil_score},  CH score = {ch_score}\"\n",
    "    )"
   ]
  },
  {
   "cell_type": "code",
   "execution_count": null,
   "metadata": {},
   "outputs": [],
   "source": [
    "nkmeans = KMeans(n_clusters=15, random_state=0, verbose=1, n_jobs=-1)\n",
    "\n",
    "crv_nkmeans_labels = nkmeans.fit_predict(X)"
   ]
  },
  {
   "cell_type": "markdown",
   "metadata": {},
   "source": [
    "Show cluster centroids sorted by cluster size (number of rows)"
   ]
  },
  {
   "cell_type": "code",
   "execution_count": null,
   "metadata": {},
   "outputs": [],
   "source": [
    "import seaborn as sns\n",
    "import matplotlib.pyplot as plt\n",
    "\n",
    "nkmeans_clusters = pd.DataFrame(data=nkmeans.cluster_centers_, columns=X_columns).loc[\n",
    "    pd.Series(crv_nkmeans_labels).value_counts().index\n",
    "]\n",
    "\n",
    "plt.figure(figsize=(20, 10))\n",
    "sns.heatmap(nkmeans_clusters, annot=True)"
   ]
  },
  {
   "cell_type": "markdown",
   "metadata": {},
   "source": [
    "Cluster sizes"
   ]
  },
  {
   "cell_type": "code",
   "execution_count": null,
   "metadata": {},
   "outputs": [],
   "source": [
    "pd.Series(crv_nkmeans_labels).value_counts()"
   ]
  },
  {
   "cell_type": "markdown",
   "metadata": {},
   "source": [
    "Plot scaled bookings by cluster"
   ]
  },
  {
   "cell_type": "code",
   "execution_count": null,
   "metadata": {},
   "outputs": [],
   "source": [
    "plot_data = ek_2w_prc_mean_stack.merge(\n",
    "    pd.Series(data=crv_nkmeans_labels, index=ek_2w_crv_mean.index, name=\"cluster\"),\n",
    "    on=\"Endkunde_NR\",\n",
    ")\n",
    "\n",
    "sns.catplot(\n",
    "    data=plot_data,\n",
    "    x=\"KW_2\",\n",
    "    y=\"prc_mean\",\n",
    "    aspect=1.5,\n",
    "    kind=\"boxen\",\n",
    "    col=\"cluster\",\n",
    "    col_wrap=3,\n",
    "    col_order=pd.Series(crv_nkmeans_labels).value_counts().index, # order by cluster size\n",
    "    height=4,\n",
    ")"
   ]
  },
  {
   "cell_type": "markdown",
   "metadata": {},
   "source": [
    "# PCA on Customers"
   ]
  },
  {
   "cell_type": "markdown",
   "metadata": {},
   "source": [
    "### Prepare Data"
   ]
  },
  {
   "cell_type": "code",
   "execution_count": null,
   "metadata": {},
   "outputs": [],
   "source": [
    "X = ek_2w_crv_mean.to_numpy()\n",
    "X_columns = ek_2w_crv_mean.columns\n",
    "X_index = ek_2w_crv_mean.index\n",
    "\n",
    "y = crv_nkmeans_labels"
   ]
  },
  {
   "cell_type": "markdown",
   "metadata": {},
   "source": [
    "### Calculate standard PCA with 4 components"
   ]
  },
  {
   "cell_type": "code",
   "execution_count": null,
   "metadata": {},
   "outputs": [],
   "source": [
    "from sklearn.decomposition import PCA\n",
    "\n",
    "pca = PCA(n_components=4, random_state=0)\n",
    "X_pca = pca.fit_transform(X)"
   ]
  },
  {
   "cell_type": "code",
   "execution_count": null,
   "metadata": {},
   "outputs": [],
   "source": [
    "pca.explained_variance_ratio_"
   ]
  },
  {
   "cell_type": "code",
   "execution_count": null,
   "metadata": {},
   "outputs": [],
   "source": [
    "pca.components_"
   ]
  },
  {
   "cell_type": "markdown",
   "metadata": {},
   "source": [
    "### Plot K-means clusters against principal components"
   ]
  },
  {
   "cell_type": "code",
   "execution_count": null,
   "metadata": {},
   "outputs": [],
   "source": [
    "plot_data = pd.DataFrame(X_pca, index=X_index, columns=range(1, pca.n_components + 1))\n",
    "plot_data[\"clusters\"] = y\n",
    "sns.set(style=\"ticks\")\n",
    "sns.pairplot(data=plot_data, hue=\"clusters\", plot_kws={\"alpha\": 0.4})"
   ]
  },
  {
   "cell_type": "markdown",
   "metadata": {},
   "source": [
    "# Clustering Customer Booking Years"
   ]
  },
  {
   "cell_type": "markdown",
   "metadata": {},
   "source": [
    "### Prepare data: Pivot prc values by period"
   ]
  },
  {
   "cell_type": "code",
   "execution_count": null,
   "metadata": {},
   "outputs": [],
   "source": [
    "bd_res_prc_2w_data = bd_aggr_2w.loc[(bd_aggr_2w.Jahr.isin(valid_years))].pivot_table(\n",
    "    index=[\"Endkunde_NR\", \"Jahr\"],\n",
    "    columns=\"KW_2\",\n",
    "    values=\"Res_prcJahr\",\n",
    "    aggfunc=\"sum\",\n",
    "    fill_value=0,\n",
    ")\n",
    "\n",
    "# drop years with no reservations\n",
    "bd_res_prc_2w_data = bd_res_prc_2w_data.loc[bd_res_prc_2w_data.sum(axis=\"columns\") > 0]\n",
    "\n",
    "bd_res_prc_2w_data_stack = bd_res_prc_2w_data.stack()\n",
    "\n",
    "bd_res_prc_2w_data.head(12)"
   ]
  },
  {
   "cell_type": "code",
   "execution_count": null,
   "metadata": {},
   "outputs": [],
   "source": [
    "X = bd_res_prc_2w_data.to_numpy()\n",
    "\n",
    "X_columns = bd_res_prc_2w_data.columns\n",
    "X_index = bd_res_prc_2w_data.index"
   ]
  },
  {
   "cell_type": "markdown",
   "metadata": {},
   "source": [
    "#### Normal KMeans"
   ]
  },
  {
   "cell_type": "code",
   "execution_count": null,
   "metadata": {},
   "outputs": [],
   "source": [
    "from sklearn.cluster import KMeans\n",
    "from sklearn.metrics import silhouette_score, calinski_harabasz_score"
   ]
  },
  {
   "cell_type": "code",
   "execution_count": null,
   "metadata": {},
   "outputs": [],
   "source": [
    "for n_clusters in range(25, 31):\n",
    "    kmeans_ = KMeans(\n",
    "        n_clusters=n_clusters,\n",
    "        random_state=0,\n",
    "        n_jobs=-1\n",
    "    )\n",
    "    cluster_labels_ = kmeans_.fit_predict(X)\n",
    "    ch_score = calinski_harabasz_score(X, cluster_labels_)\n",
    "    sil_score = silhouette_score(X, cluster_labels_)\n",
    "    print(\n",
    "        f\"For n_clusters = {n_clusters}: Silhouette_score = {sil_score},  CH score = {ch_score}\"\n",
    "    )"
   ]
  },
  {
   "cell_type": "code",
   "execution_count": null,
   "metadata": {},
   "outputs": [],
   "source": [
    "nkmeans = KMeans(n_clusters=27, random_state=0, verbose=1, n_jobs=-1)\n",
    "\n",
    "yr_prc_nkmeans_labels = nkmeans.fit_predict(X)"
   ]
  },
  {
   "cell_type": "code",
   "execution_count": null,
   "metadata": {},
   "outputs": [],
   "source": [
    "import seaborn as sns\n",
    "import matplotlib.pyplot as plt\n",
    "\n",
    "yr_prc_nkmeans_clusters = pd.DataFrame(data=nkmeans.cluster_centers_, columns=X_columns).loc[\n",
    "    pd.Series(yr_prc_nkmeans_labels).value_counts().index\n",
    "]\n",
    "\n",
    "plt.figure(figsize=(25, 16))\n",
    "sns.heatmap(yr_prc_nkmeans_clusters, annot=True, vmin=0, vmax=7)"
   ]
  },
  {
   "cell_type": "code",
   "execution_count": null,
   "metadata": {},
   "outputs": [],
   "source": [
    "pd.Series(yr_prc_nkmeans_labels).value_counts() # / yr_prc_nkmeans_labels.shape[0]"
   ]
  },
  {
   "cell_type": "code",
   "execution_count": null,
   "metadata": {},
   "outputs": [],
   "source": [
    "plot_data = (\n",
    "    pd.DataFrame.from_dict({\"prc\": bd_res_prc_2w_data_stack})\n",
    "    .reset_index()\n",
    "    .merge(\n",
    "        pd.Series(\n",
    "            data=yr_prc_nkmeans_labels, index=bd_res_prc_2w_data.index, name=\"cluster\"\n",
    "        ),\n",
    "        on=[\"Endkunde_NR\", \"Jahr\"],\n",
    "    )\n",
    ")\n",
    "\n",
    "sns.catplot(\n",
    "    data=plot_data,\n",
    "    x=\"KW_2\",\n",
    "    y=\"prc\",\n",
    "    aspect=1.5,\n",
    "    kind=\"boxen\",\n",
    "    col=\"cluster\",\n",
    "    col_wrap=3,\n",
    "    height=4,\n",
    ")"
   ]
  },
  {
   "cell_type": "markdown",
   "metadata": {},
   "source": [
    "### Clusters matched to customers"
   ]
  },
  {
   "cell_type": "code",
   "execution_count": null,
   "metadata": {},
   "outputs": [],
   "source": [
    "ek_prc_cls = pd.crosstab(\n",
    "    index=bd_res_prc_2w_data.reset_index()[\"Endkunde_NR\"],\n",
    "    columns=pd.Series(yr_prc_nkmeans_labels, name=\"cluster\"),\n",
    ")\n",
    "\n",
    "ek_prc_cls_yr_cnt_ = ek_prc_cls.copy()\n",
    "\n",
    "\n",
    "def cls_list(s):\n",
    "    return list(s.loc[s > 0].index.values)\n",
    "\n",
    "\n",
    "def main_cls_list(s):\n",
    "    return list(s.loc[s == np.max(s)].index.values)\n",
    "\n",
    "\n",
    "ek_prc_cls = ek_prc_cls.assign(\n",
    "    n_yr=ek_prc_cls_yr_cnt_.sum(axis=\"columns\"),\n",
    "    n_cls=ek_prc_cls_yr_cnt_.where(ek_prc_cls > 0).count(axis=\"columns\"),\n",
    "    cls=ek_prc_cls_yr_cnt_.apply(cls_list, axis=\"columns\"),\n",
    "    main_cls=ek_prc_cls_yr_cnt_.apply(main_cls_list, axis=\"columns\"),\n",
    ")\n",
    "ek_prc_cls[\"n_main_cls\"] = ek_prc_cls[\"main_cls\"].apply(len)\n",
    "\n",
    "ek_prc_cls"
   ]
  },
  {
   "cell_type": "markdown",
   "metadata": {},
   "source": [
    "### Customers that can be related to 1 or 2 clusters"
   ]
  },
  {
   "cell_type": "code",
   "execution_count": null,
   "metadata": {},
   "outputs": [],
   "source": [
    "max_main_cls = 2\n",
    "\n",
    "ek_clust_scoring = ek_prc_cls.query('n_main_cls < n_cls and n_main_cls <= @max_main_cls')[['main_cls']]"
   ]
  },
  {
   "cell_type": "markdown",
   "metadata": {},
   "source": [
    "### Prepare data: Pivot crv values by period"
   ]
  },
  {
   "cell_type": "code",
   "execution_count": null,
   "metadata": {},
   "outputs": [],
   "source": [
    "bd_res_crv_2w_data = (\n",
    "    bd_aggr_2w.loc[(bd_aggr_2w.Jahr.isin(valid_years))]\n",
    "    .pivot_table(\n",
    "        index=[\"Endkunde_NR\", \"Jahr\"],\n",
    "        columns=\"KW_2\",\n",
    "        values=\"Res_crvJahr\",\n",
    "        aggfunc=\"sum\",\n",
    "    )\n",
    "    .fillna(method=\"ffill\", axis=1)\n",
    "    .fillna(0)\n",
    ")\n",
    "\n",
    "# drop years with no reservations\n",
    "bd_res_crv_2w_data = bd_res_crv_2w_data.loc[bd_res_crv_2w_data.sum(axis=\"columns\") > 0]\n",
    "\n",
    "bd_res_crv_2w_data_stack = bd_res_crv_2w_data.stack()\n",
    "\n",
    "bd_res_crv_2w_data.head(12)"
   ]
  },
  {
   "cell_type": "markdown",
   "metadata": {},
   "source": [
    "### Prepare for clustering"
   ]
  },
  {
   "cell_type": "code",
   "execution_count": null,
   "metadata": {},
   "outputs": [],
   "source": [
    "X = bd_res_crv_2w_data.to_numpy()\n",
    "\n",
    "X_columns = bd_res_crv_2w_data.columns\n",
    "X_index = bd_res_crv_2w_data.index"
   ]
  },
  {
   "cell_type": "markdown",
   "metadata": {},
   "source": [
    "#### Normal KMeans"
   ]
  },
  {
   "cell_type": "code",
   "execution_count": null,
   "metadata": {},
   "outputs": [],
   "source": [
    "from sklearn.cluster import KMeans\n",
    "from sklearn.metrics import silhouette_score, calinski_harabasz_score"
   ]
  },
  {
   "cell_type": "code",
   "execution_count": null,
   "metadata": {},
   "outputs": [],
   "source": [
    "for n_clusters in [15, 25, 35, 40]:\n",
    "    kmeans_ = KMeans(\n",
    "        n_clusters=n_clusters,\n",
    "        random_state=0,\n",
    "        n_jobs=-1\n",
    "    )\n",
    "    cluster_labels_ = kmeans_.fit_predict(X)\n",
    "    ch_score = calinski_harabasz_score(X, cluster_labels_)\n",
    "    sil_score = silhouette_score(X, cluster_labels_)\n",
    "    print(\n",
    "        f\"For n_clusters = {n_clusters}: Silhouette_score = {sil_score},  CH score = {ch_score}\"\n",
    "    )"
   ]
  },
  {
   "cell_type": "markdown",
   "metadata": {},
   "source": [
    "```\n",
    "For n_clusters = 5: Silhouette_score = 0.3049945347740261,  CH score = 29630.89896114061\n",
    "For n_clusters = 10: Silhouette_score = 0.366230862992324,  CH score = 26973.062027368196\n",
    "For n_clusters = 15: Silhouette_score = 0.40334656127747526,  CH score = 25417.006073311764\n",
    "For n_clusters = 20: Silhouette_score = 0.44202548618962784,  CH score = 24818.708849953175\n",
    "For n_clusters = 25: Silhouette_score = 0.5033501558327148,  CH score = 24748.31007457299\n",
    "For n_clusters = 30: Silhouette_score = 0.5602936199726821,  CH score = 25025.39923837368\n",
    "For n_clusters = 35: Silhouette_score = 0.6095264482491675,  CH score = 26642.345879735167\n",
    "For n_clusters = 40: Silhouette_score = 0.6171105582735361,  CH score = 26586.30470955651\n",
    "```"
   ]
  },
  {
   "cell_type": "code",
   "execution_count": null,
   "metadata": {},
   "outputs": [],
   "source": [
    "nkmeans = KMeans(n_clusters=27, random_state=0, verbose=1, n_jobs=-1)\n",
    "\n",
    "yr_crv_nkmeans_labels = nkmeans.fit_predict(X)"
   ]
  },
  {
   "cell_type": "markdown",
   "metadata": {},
   "source": [
    "### Show cluster centroids"
   ]
  },
  {
   "cell_type": "code",
   "execution_count": null,
   "metadata": {},
   "outputs": [],
   "source": [
    "import seaborn as sns\n",
    "import matplotlib.pyplot as plt\n",
    "\n",
    "yr_nkmeans_clusters = pd.DataFrame(data=nkmeans.cluster_centers_, columns=X_columns)\n",
    "\n",
    "plt.figure(figsize=(25, 16))\n",
    "sns.heatmap(yr_nkmeans_clusters, annot=True, vmin=5)"
   ]
  },
  {
   "cell_type": "markdown",
   "metadata": {},
   "source": [
    "### Cluster sizes"
   ]
  },
  {
   "cell_type": "code",
   "execution_count": null,
   "metadata": {},
   "outputs": [],
   "source": [
    "pd.Series(yr_crv_nkmeans_labels).value_counts()"
   ]
  },
  {
   "cell_type": "code",
   "execution_count": null,
   "metadata": {},
   "outputs": [],
   "source": [
    "plot_data = (\n",
    "    pd.DataFrame.from_dict({\"prc\": bd_res_prc_2w_data_stack})\n",
    "    .reset_index()\n",
    "    .merge(\n",
    "        pd.Series(\n",
    "            data=yr_crv_nkmeans_labels, index=bd_res_crv_2w_data.index, name=\"cluster\"\n",
    "        ),\n",
    "        on=[\"Endkunde_NR\", \"Jahr\"],\n",
    "    )\n",
    ")\n",
    "\n",
    "sns.catplot(\n",
    "    data=plot_data,\n",
    "    x=\"KW_2\",\n",
    "    y=\"prc\",\n",
    "    aspect=1.5,\n",
    "    kind=\"boxen\",\n",
    "    col=\"cluster\",\n",
    "    col_wrap=3,\n",
    "    height=4,\n",
    ")"
   ]
  },
  {
   "cell_type": "markdown",
   "metadata": {},
   "source": [
    "### Clusters matched to customers"
   ]
  },
  {
   "cell_type": "code",
   "execution_count": null,
   "metadata": {},
   "outputs": [],
   "source": [
    "ek_cls = pd.crosstab(\n",
    "    index=bd_res_crv_2w_data.reset_index()[\"Endkunde_NR\"],\n",
    "    columns=pd.Series(yr_crv_nkmeans_labels, name=\"cluster\"),\n",
    ")\n",
    "\n",
    "ek_cls_yr_cnt_ = ek_cls.copy()\n",
    "\n",
    "\n",
    "def cls_list(s):\n",
    "    return list(s.loc[s > 0].index.values)\n",
    "\n",
    "\n",
    "def main_cls_list(s):\n",
    "    return list(s.loc[s == np.max(s)].index.values)\n",
    "\n",
    "\n",
    "ek_cls = ek_cls.assign(\n",
    "    n_yr=ek_cls_yr_cnt_.sum(axis=\"columns\"),\n",
    "    n_cls=ek_cls_yr_cnt_.where(ek_cls > 0).count(axis=\"columns\"),\n",
    "    cls=ek_cls_yr_cnt_.apply(cls_list, axis=\"columns\"),\n",
    "    main_cls=ek_cls_yr_cnt_.apply(main_cls_list, axis=\"columns\"),\n",
    ")\n",
    "ek_cls[\"n_main_cls\"] = ek_cls[\"main_cls\"].apply(len)\n",
    "\n",
    "ek_cls"
   ]
  },
  {
   "cell_type": "markdown",
   "metadata": {},
   "source": [
    "### Customers that can be assigned to 1 or 2 clusters"
   ]
  },
  {
   "cell_type": "code",
   "execution_count": null,
   "metadata": {},
   "outputs": [],
   "source": [
    "max_main_cls = 2\n",
    "\n",
    "yr_clust_scoring = ek_cls.query('n_main_cls < n_cls and n_main_cls <= @max_main_cls')[['main_cls']]"
   ]
  },
  {
   "cell_type": "markdown",
   "metadata": {},
   "source": [
    "# Compare scoring between customer layer and year layer"
   ]
  },
  {
   "cell_type": "code",
   "execution_count": null,
   "metadata": {},
   "outputs": [],
   "source": [
    "len(np.unique(ek_clust_scoring.index.values))"
   ]
  },
  {
   "cell_type": "code",
   "execution_count": null,
   "metadata": {},
   "outputs": [],
   "source": [
    "len(np.unique(yr_clust_scoring.index.values))"
   ]
  },
  {
   "cell_type": "code",
   "execution_count": null,
   "metadata": {},
   "outputs": [],
   "source": [
    "pd.DataFrame({\"ek\": np.unique(ek_clust_scoring.index.values)}).merge(\n",
    "    pd.DataFrame({\"ek\": np.unique(yr_clust_scoring.index.values)}),\n",
    "    how=\"outer\",\n",
    "    on=\"ek\",\n",
    "    indicator=True,\n",
    ")[\"_merge\"].value_counts()"
   ]
  },
  {
   "cell_type": "markdown",
   "metadata": {},
   "source": [
    "# Cluster Scoring vs. Auftragsart"
   ]
  },
  {
   "cell_type": "code",
   "execution_count": null,
   "metadata": {},
   "outputs": [],
   "source": [
    "AufArt_Clust = (\n",
    "    ek_auftragsart_scoring.merge(yr_clust_scoring.explode(column=\"main_cls\"), how=\"inner\", on=\"Endkunde_NR\")\n",
    "    .rename(columns={\"main_cls\": \"Clust\"})\n",
    ")"
   ]
  },
  {
   "cell_type": "code",
   "execution_count": null,
   "metadata": {},
   "outputs": [],
   "source": [
    "pd.crosstab(columns=AufArt_Clust.AufArt, index=AufArt_Clust.Clust)"
   ]
  },
  {
   "cell_type": "code",
   "execution_count": null,
   "metadata": {},
   "outputs": [],
   "source": [
    "plt.figure(figsize=(16, 20))\n",
    "sns.heatmap(\n",
    "    data=np.log1p(pd.crosstab(columns=AufArt_Clust.AufArt, index=AufArt_Clust.Clust)),\n",
    "    annot=pd.crosstab(columns=AufArt_Clust.AufArt, index=AufArt_Clust.Clust),\n",
    "    fmt=\"d\"\n",
    ")"
   ]
  },
  {
   "cell_type": "markdown",
   "metadata": {},
   "source": [
    "# Cluster Scoring vs. Branchengruppe"
   ]
  },
  {
   "cell_type": "code",
   "execution_count": null,
   "metadata": {},
   "outputs": [],
   "source": [
    "BG_Clust = (\n",
    "    ek_branchen_scoring.merge(yr_clust_scoring.explode(column=\"main_cls\"), how=\"inner\", on=\"Endkunde_NR\")\n",
    "    .rename(columns={\"main_cls\": \"Clust\"})\n",
    ")"
   ]
  },
  {
   "cell_type": "code",
   "execution_count": null,
   "metadata": {},
   "outputs": [],
   "source": [
    "pd.crosstab(columns=BG_Clust.Clust, index=BG_Clust.BG, margins=True)"
   ]
  },
  {
   "cell_type": "code",
   "execution_count": null,
   "metadata": {},
   "outputs": [],
   "source": [
    "plt.figure(figsize=(16, 32))\n",
    "sns.heatmap(\n",
    "    data=normalize_rows(pd.crosstab(columns=BG_Clust.Clust, index=BG_Clust.BG)),\n",
    "    annot=pd.crosstab(columns=BG_Clust.Clust, index=BG_Clust.BG),\n",
    "    fmt=\"d\",\n",
    "    vmax=0.4\n",
    ")"
   ]
  },
  {
   "cell_type": "markdown",
   "metadata": {},
   "source": [
    "# Cluster Scoring vs. Kanton"
   ]
  },
  {
   "cell_type": "code",
   "execution_count": null,
   "metadata": {},
   "outputs": [],
   "source": [
    "with project_dir('Raumgliederung'):\n",
    "    ek_region = load_bin('ek_region.feather')"
   ]
  },
  {
   "cell_type": "code",
   "execution_count": null,
   "metadata": {},
   "outputs": [],
   "source": [
    "ek_region.head()"
   ]
  },
  {
   "cell_type": "code",
   "execution_count": null,
   "metadata": {},
   "outputs": [],
   "source": [
    "Kt_Clust = (\n",
    "    ek_region[[\"Endkunde_NR\", \"KANTON\"]]\n",
    "    .merge(yr_clust_scoring.explode(column=\"main_cls\"), how=\"inner\", on=\"Endkunde_NR\")\n",
    "    .rename(columns={\"main_cls\": \"Clust\"})\n",
    ")"
   ]
  },
  {
   "cell_type": "code",
   "execution_count": null,
   "metadata": {},
   "outputs": [],
   "source": [
    "plt.figure(figsize=(16, 16))\n",
    "sns.heatmap(\n",
    "    data=normalize_rows(pd.crosstab(columns=Kt_Clust.Clust, index=Kt_Clust.KANTON)),\n",
    "    annot=pd.crosstab(columns=Kt_Clust.Clust, index=Kt_Clust.KANTON),\n",
    "    fmt=\"d\",\n",
    "    #vmax=0.4\n",
    ")"
   ]
  },
  {
   "cell_type": "markdown",
   "metadata": {},
   "source": [
    "# Cluster Scoring vs. Grossregion"
   ]
  },
  {
   "cell_type": "code",
   "execution_count": null,
   "metadata": {},
   "outputs": [],
   "source": [
    "GrReg_Clust = (\n",
    "    ek_region[[\"Endkunde_NR\", \"GROSSREGION\"]]\n",
    "    .merge(yr_clust_scoring.explode(column=\"main_cls\"), how=\"inner\", on=\"Endkunde_NR\")\n",
    "    .rename(columns={\"main_cls\": \"Clust\"})\n",
    ")"
   ]
  },
  {
   "cell_type": "code",
   "execution_count": null,
   "metadata": {},
   "outputs": [],
   "source": [
    "plt.figure(figsize=(16, 12))\n",
    "sns.heatmap(\n",
    "    data=normalize_rows(pd.crosstab(columns=GrReg_Clust.Clust, index=GrReg_Clust.GROSSREGION)),\n",
    "    annot=pd.crosstab(columns=GrReg_Clust.Clust, index=GrReg_Clust.GROSSREGION),\n",
    "    fmt=\"d\",\n",
    ")"
   ]
  },
  {
   "cell_type": "markdown",
   "metadata": {},
   "source": [
    "# Cluster Scoring vs. Region"
   ]
  },
  {
   "cell_type": "code",
   "execution_count": null,
   "metadata": {},
   "outputs": [],
   "source": [
    "Reg_Clust = (\n",
    "    ek_region[[\"Endkunde_NR\", \"REGION\"]]\n",
    "    .merge(yr_clust_scoring.explode(column=\"main_cls\"), how=\"inner\", on=\"Endkunde_NR\")\n",
    "    .rename(columns={\"main_cls\": \"Clust\"})\n",
    ")"
   ]
  },
  {
   "cell_type": "code",
   "execution_count": null,
   "metadata": {},
   "outputs": [],
   "source": [
    "plt.figure(figsize=(16, 32))\n",
    "sns.heatmap(\n",
    "    data=normalize_rows(pd.crosstab(columns=Reg_Clust.Clust, index=Reg_Clust.REGION)),\n",
    "    annot=pd.crosstab(columns=Reg_Clust.Clust, index=Reg_Clust.REGION),\n",
    "    fmt=\"d\",\n",
    ")"
   ]
  },
  {
   "cell_type": "markdown",
   "metadata": {},
   "source": [
    "# Cluster Scoring vs. Netto-Umsatz"
   ]
  },
  {
   "cell_type": "code",
   "execution_count": null,
   "metadata": {},
   "outputs": [],
   "source": [
    "Netto_Clust = (\n",
    "    ek_info_current[[\"Endkunde_NR\", \"netto_cat\"]]\n",
    "    .merge(yr_clust_scoring.explode(column=\"main_cls\"), how=\"inner\", on=\"Endkunde_NR\")\n",
    "    .rename(columns={\"main_cls\": \"Clust\"})\n",
    ")"
   ]
  },
  {
   "cell_type": "code",
   "execution_count": null,
   "metadata": {},
   "outputs": [],
   "source": [
    "plt.figure(figsize=(16, 8))\n",
    "sns.heatmap(\n",
    "    data=normalize_rows(pd.crosstab(columns=Netto_Clust.Clust, index=Netto_Clust.netto_cat)),\n",
    "    annot=pd.crosstab(columns=Netto_Clust.Clust, index=Netto_Clust.netto_cat),\n",
    "    fmt=\"d\",\n",
    ")"
   ]
  },
  {
   "cell_type": "markdown",
   "metadata": {},
   "source": [
    "# Map cluster scorings to periods, where appropriate"
   ]
  },
  {
   "cell_type": "markdown",
   "metadata": {},
   "source": [
    "## Years, clustered by prc"
   ]
  },
  {
   "cell_type": "code",
   "execution_count": null,
   "metadata": {},
   "outputs": [],
   "source": [
    "ek_clusters = (pd.DataFrame.from_dict({\"prc\": bd_res_prc_2w_data_stack})\n",
    "    .reset_index()\n",
    "    .merge(\n",
    "        pd.Series(\n",
    "            data=yr_prc_nkmeans_labels, index=bd_res_prc_2w_data.index, name=\"yr_prc_clust\"\n",
    "        ),\n",
    "        on=[\"Endkunde_NR\", \"Jahr\"],\n",
    "    ))\n",
    "\n",
    "ek_clusters.head()"
   ]
  }
 ],
 "metadata": {
  "kernelspec": {
   "display_name": "Python 3",
   "language": "python",
   "name": "python3"
  },
  "language_info": {
   "codemirror_mode": {
    "name": "ipython",
    "version": 3
   },
   "file_extension": ".py",
   "mimetype": "text/x-python",
   "name": "python",
   "nbconvert_exporter": "python",
   "pygments_lexer": "ipython3",
   "version": "3.7.4"
  },
  "toc-autonumbering": false,
  "toc-showcode": false,
  "toc-showmarkdowntxt": false
 },
 "nbformat": 4,
 "nbformat_minor": 4
}
