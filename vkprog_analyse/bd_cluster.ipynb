{
 "cells": [
  {
   "cell_type": "markdown",
   "metadata": {},
   "source": [
    "# Libraries & Settings"
   ]
  },
  {
   "cell_type": "code",
   "execution_count": 1,
   "metadata": {},
   "outputs": [],
   "source": [
    "# make imports from pa_lib possible (parent directory of file's directory)\n",
    "import sys\n",
    "from pathlib import Path\n",
    "\n",
    "file_dir = Path.cwd()\n",
    "parent_dir = file_dir.parent\n",
    "sys.path.append(str(parent_dir))"
   ]
  },
  {
   "cell_type": "code",
   "execution_count": 2,
   "metadata": {},
   "outputs": [],
   "source": [
    "%load_ext autoreload\n",
    "%autoreload\n",
    "%matplotlib inline\n",
    "\n",
    "import pandas as pd\n",
    "import numpy as np\n",
    "import qgrid\n",
    "from datetime import datetime as dtt\n",
    "\n",
    "from pa_lib.file import (\n",
    "    data_files,\n",
    "    load_bin,\n",
    "    store_bin,\n",
    "    load_csv,\n",
    "    write_xlsx,\n",
    "    load_xlsx,\n",
    "    set_project_dir,\n",
    "    project_dir,\n",
    ")\n",
    "from pa_lib.data import (\n",
    "    calc_col_partitioned,\n",
    "    clean_up_categoricals,\n",
    "    unfactorize,\n",
    "    flatten,\n",
    "    replace_col,\n",
    "    cond_col,\n",
    "    desc_col,\n",
    "    unfactorize,\n",
    "    as_dtype,\n",
    "    flatten_multi_index_cols,\n",
    ")\n",
    "from pa_lib.util import obj_size, cap_words, normalize_rows, clear_row_max\n",
    "from pa_lib.log import time_log, info\n",
    "from pa_lib.vis import dive\n",
    "\n",
    "# display long columns completely, show more rows\n",
    "pd.set_option(\"display.max_colwidth\", 200)\n",
    "pd.set_option(\"display.max_rows\", 100)\n",
    "pd.set_option(\"display.max_columns\", 200)\n",
    "\n",
    "\n",
    "def qshow(df, fit_width=False):\n",
    "    return qgrid.show_grid(\n",
    "        df, grid_options={\"forceFitColumns\": fit_width, \"fullWidthRows\": False}\n",
    "    )"
   ]
  },
  {
   "cell_type": "markdown",
   "metadata": {},
   "source": [
    "# Load data"
   ]
  },
  {
   "cell_type": "code",
   "execution_count": 3,
   "metadata": {},
   "outputs": [],
   "source": [
    "set_project_dir(\"vkprog\")"
   ]
  },
  {
   "cell_type": "markdown",
   "metadata": {},
   "source": [
    "## Buchungsdaten"
   ]
  },
  {
   "cell_type": "code",
   "execution_count": 4,
   "metadata": {},
   "outputs": [
    {
     "name": "stderr",
     "output_type": "stream",
     "text": [
      "2019-09-12 17:58:22 [INFO] Reading from file C:\\Users\\kpf\\data\\vkprog\\bd_data.feather\n",
      "2019-09-12 17:58:22 [INFO] Finished loading binary file in 0.18s (0.8s CPU)\n"
     ]
    }
   ],
   "source": [
    "bd_raw = load_bin(\"bd_data.feather\").rename(\n",
    "    mapper=lambda name: cap_words(name, sep=\"_\"), axis=\"columns\"\n",
    ")\n",
    "bd = bd_raw.loc[(bd_raw.Netto > 0)].pipe(clean_up_categoricals)"
   ]
  },
  {
   "cell_type": "code",
   "execution_count": 5,
   "metadata": {},
   "outputs": [
    {
     "data": {
      "text/html": [
       "<div>\n",
       "<style scoped>\n",
       "    .dataframe tbody tr th:only-of-type {\n",
       "        vertical-align: middle;\n",
       "    }\n",
       "\n",
       "    .dataframe tbody tr th {\n",
       "        vertical-align: top;\n",
       "    }\n",
       "\n",
       "    .dataframe thead th {\n",
       "        text-align: right;\n",
       "    }\n",
       "</style>\n",
       "<table border=\"1\" class=\"dataframe\">\n",
       "  <thead>\n",
       "    <tr style=\"text-align: right;\">\n",
       "      <th></th>\n",
       "      <th>DTYPE</th>\n",
       "      <th>NULLS</th>\n",
       "      <th>UNIQUE</th>\n",
       "    </tr>\n",
       "  </thead>\n",
       "  <tbody>\n",
       "    <tr>\n",
       "      <td>Endkunde_NR</td>\n",
       "      <td>int64</td>\n",
       "      <td>0/668346</td>\n",
       "      <td>31966</td>\n",
       "    </tr>\n",
       "    <tr>\n",
       "      <td>Endkunde</td>\n",
       "      <td>category</td>\n",
       "      <td>0/668346</td>\n",
       "      <td>30050</td>\n",
       "    </tr>\n",
       "    <tr>\n",
       "      <td>EK_Abc</td>\n",
       "      <td>category</td>\n",
       "      <td>1155/667191</td>\n",
       "      <td>8</td>\n",
       "    </tr>\n",
       "    <tr>\n",
       "      <td>EK_Boni</td>\n",
       "      <td>category</td>\n",
       "      <td>76/668270</td>\n",
       "      <td>3</td>\n",
       "    </tr>\n",
       "    <tr>\n",
       "      <td>EK_Plz</td>\n",
       "      <td>category</td>\n",
       "      <td>165/668181</td>\n",
       "      <td>2954</td>\n",
       "    </tr>\n",
       "    <tr>\n",
       "      <td>EK_Ort</td>\n",
       "      <td>category</td>\n",
       "      <td>165/668181</td>\n",
       "      <td>3006</td>\n",
       "    </tr>\n",
       "    <tr>\n",
       "      <td>EK_Land</td>\n",
       "      <td>category</td>\n",
       "      <td>165/668181</td>\n",
       "      <td>45</td>\n",
       "    </tr>\n",
       "    <tr>\n",
       "      <td>EK_HB_Apg_Kurzz</td>\n",
       "      <td>category</td>\n",
       "      <td>27659/640687</td>\n",
       "      <td>90</td>\n",
       "    </tr>\n",
       "    <tr>\n",
       "      <td>EK_Kam_Betreut</td>\n",
       "      <td>int64</td>\n",
       "      <td>0/668346</td>\n",
       "      <td>2</td>\n",
       "    </tr>\n",
       "    <tr>\n",
       "      <td>EK_Aktiv</td>\n",
       "      <td>int64</td>\n",
       "      <td>0/668346</td>\n",
       "      <td>2</td>\n",
       "    </tr>\n",
       "    <tr>\n",
       "      <td>Agentur</td>\n",
       "      <td>category</td>\n",
       "      <td>319382/348964</td>\n",
       "      <td>3946</td>\n",
       "    </tr>\n",
       "    <tr>\n",
       "      <td>AG_Hauptbetreuer</td>\n",
       "      <td>category</td>\n",
       "      <td>320948/347398</td>\n",
       "      <td>89</td>\n",
       "    </tr>\n",
       "    <tr>\n",
       "      <td>Verkaufsberater</td>\n",
       "      <td>category</td>\n",
       "      <td>0/668346</td>\n",
       "      <td>160</td>\n",
       "    </tr>\n",
       "    <tr>\n",
       "      <td>Endkunde_Branchengruppe_ID</td>\n",
       "      <td>category</td>\n",
       "      <td>5622/662724</td>\n",
       "      <td>83</td>\n",
       "    </tr>\n",
       "    <tr>\n",
       "      <td>Endkunde_Branchengruppe</td>\n",
       "      <td>category</td>\n",
       "      <td>5622/662724</td>\n",
       "      <td>83</td>\n",
       "    </tr>\n",
       "    <tr>\n",
       "      <td>Endkunde_Nbranchengruppe_ID</td>\n",
       "      <td>category</td>\n",
       "      <td>555375/112971</td>\n",
       "      <td>57</td>\n",
       "    </tr>\n",
       "    <tr>\n",
       "      <td>Endkunde_Nbranchengruppe</td>\n",
       "      <td>category</td>\n",
       "      <td>555375/112971</td>\n",
       "      <td>57</td>\n",
       "    </tr>\n",
       "    <tr>\n",
       "      <td>Endkunde_Branchenkat_ID</td>\n",
       "      <td>category</td>\n",
       "      <td>5622/662724</td>\n",
       "      <td>22</td>\n",
       "    </tr>\n",
       "    <tr>\n",
       "      <td>Endkunde_Branchenkat</td>\n",
       "      <td>category</td>\n",
       "      <td>5622/662724</td>\n",
       "      <td>22</td>\n",
       "    </tr>\n",
       "    <tr>\n",
       "      <td>Endkunde_Nbranchenkat_ID</td>\n",
       "      <td>category</td>\n",
       "      <td>555375/112971</td>\n",
       "      <td>22</td>\n",
       "    </tr>\n",
       "    <tr>\n",
       "      <td>Endkunde_Nbranchenkat</td>\n",
       "      <td>category</td>\n",
       "      <td>555375/112971</td>\n",
       "      <td>22</td>\n",
       "    </tr>\n",
       "    <tr>\n",
       "      <td>Auftrag_Branchengruppe_ID</td>\n",
       "      <td>category</td>\n",
       "      <td>0/668346</td>\n",
       "      <td>83</td>\n",
       "    </tr>\n",
       "    <tr>\n",
       "      <td>Auftrag_Branchengruppe</td>\n",
       "      <td>category</td>\n",
       "      <td>0/668346</td>\n",
       "      <td>83</td>\n",
       "    </tr>\n",
       "    <tr>\n",
       "      <td>Auftrag_Nbranchengruppe_ID</td>\n",
       "      <td>category</td>\n",
       "      <td>611780/56566</td>\n",
       "      <td>72</td>\n",
       "    </tr>\n",
       "    <tr>\n",
       "      <td>Auftrag_Nbranchengruppe</td>\n",
       "      <td>category</td>\n",
       "      <td>611780/56566</td>\n",
       "      <td>72</td>\n",
       "    </tr>\n",
       "    <tr>\n",
       "      <td>Auftrag_Branchenkat_ID</td>\n",
       "      <td>category</td>\n",
       "      <td>0/668346</td>\n",
       "      <td>22</td>\n",
       "    </tr>\n",
       "    <tr>\n",
       "      <td>Auftrag_Branchenkat</td>\n",
       "      <td>category</td>\n",
       "      <td>0/668346</td>\n",
       "      <td>22</td>\n",
       "    </tr>\n",
       "    <tr>\n",
       "      <td>Auftrag_Nbranchenkat_ID</td>\n",
       "      <td>category</td>\n",
       "      <td>611796/56550</td>\n",
       "      <td>22</td>\n",
       "    </tr>\n",
       "    <tr>\n",
       "      <td>Auftrag_Nbranchenkat</td>\n",
       "      <td>category</td>\n",
       "      <td>611796/56550</td>\n",
       "      <td>22</td>\n",
       "    </tr>\n",
       "    <tr>\n",
       "      <td>Agps_NR</td>\n",
       "      <td>int64</td>\n",
       "      <td>0/668346</td>\n",
       "      <td>668346</td>\n",
       "    </tr>\n",
       "    <tr>\n",
       "      <td>Segment</td>\n",
       "      <td>category</td>\n",
       "      <td>0/668346</td>\n",
       "      <td>8</td>\n",
       "    </tr>\n",
       "    <tr>\n",
       "      <td>KV_NR</td>\n",
       "      <td>int64</td>\n",
       "      <td>0/668346</td>\n",
       "      <td>237762</td>\n",
       "    </tr>\n",
       "    <tr>\n",
       "      <td>KV_Typ</td>\n",
       "      <td>category</td>\n",
       "      <td>0/668346</td>\n",
       "      <td>3</td>\n",
       "    </tr>\n",
       "    <tr>\n",
       "      <td>Kampagnen_Status</td>\n",
       "      <td>int64</td>\n",
       "      <td>0/668346</td>\n",
       "      <td>5</td>\n",
       "    </tr>\n",
       "    <tr>\n",
       "      <td>Kampagne_Erfassungsdatum</td>\n",
       "      <td>datetime64[ns]</td>\n",
       "      <td>0/668346</td>\n",
       "      <td>3280</td>\n",
       "    </tr>\n",
       "    <tr>\n",
       "      <td>Kampagne_Beginn</td>\n",
       "      <td>datetime64[ns]</td>\n",
       "      <td>58/668288</td>\n",
       "      <td>2342</td>\n",
       "    </tr>\n",
       "    <tr>\n",
       "      <td>Auftragsart</td>\n",
       "      <td>category</td>\n",
       "      <td>0/668346</td>\n",
       "      <td>12</td>\n",
       "    </tr>\n",
       "    <tr>\n",
       "      <td>Res_Dat</td>\n",
       "      <td>datetime64[ns]</td>\n",
       "      <td>0/668346</td>\n",
       "      <td>3315</td>\n",
       "    </tr>\n",
       "    <tr>\n",
       "      <td>Annullation_Datum</td>\n",
       "      <td>datetime64[ns]</td>\n",
       "      <td>668287/59</td>\n",
       "      <td>2</td>\n",
       "    </tr>\n",
       "    <tr>\n",
       "      <td>Aush_Von</td>\n",
       "      <td>datetime64[ns]</td>\n",
       "      <td>0/668346</td>\n",
       "      <td>2640</td>\n",
       "    </tr>\n",
       "    <tr>\n",
       "      <td>Dauer</td>\n",
       "      <td>int64</td>\n",
       "      <td>0/668346</td>\n",
       "      <td>385</td>\n",
       "    </tr>\n",
       "    <tr>\n",
       "      <td>Vertrag</td>\n",
       "      <td>category</td>\n",
       "      <td>0/668346</td>\n",
       "      <td>2</td>\n",
       "    </tr>\n",
       "    <tr>\n",
       "      <td>Brutto</td>\n",
       "      <td>int64</td>\n",
       "      <td>0/668346</td>\n",
       "      <td>38008</td>\n",
       "    </tr>\n",
       "    <tr>\n",
       "      <td>Netto</td>\n",
       "      <td>int64</td>\n",
       "      <td>0/668346</td>\n",
       "      <td>32029</td>\n",
       "    </tr>\n",
       "    <tr>\n",
       "      <td>Agglo</td>\n",
       "      <td>category</td>\n",
       "      <td>42853/625493</td>\n",
       "      <td>5642</td>\n",
       "    </tr>\n",
       "    <tr>\n",
       "      <td>PF</td>\n",
       "      <td>category</td>\n",
       "      <td>642/667704</td>\n",
       "      <td>6314</td>\n",
       "    </tr>\n",
       "    <tr>\n",
       "      <td>Kamp_Beginn_Jahr</td>\n",
       "      <td>category</td>\n",
       "      <td>58/668288</td>\n",
       "      <td>14</td>\n",
       "    </tr>\n",
       "    <tr>\n",
       "      <td>Kamp_Beginn_KW</td>\n",
       "      <td>category</td>\n",
       "      <td>58/668288</td>\n",
       "      <td>53</td>\n",
       "    </tr>\n",
       "    <tr>\n",
       "      <td>Kamp_Beginn_KW_2</td>\n",
       "      <td>category</td>\n",
       "      <td>58/668288</td>\n",
       "      <td>26</td>\n",
       "    </tr>\n",
       "    <tr>\n",
       "      <td>Kamp_Beginn_KW_4</td>\n",
       "      <td>category</td>\n",
       "      <td>58/668288</td>\n",
       "      <td>13</td>\n",
       "    </tr>\n",
       "    <tr>\n",
       "      <td>Kamp_Erfass_Jahr</td>\n",
       "      <td>category</td>\n",
       "      <td>0/668346</td>\n",
       "      <td>13</td>\n",
       "    </tr>\n",
       "    <tr>\n",
       "      <td>Kamp_Erfass_KW</td>\n",
       "      <td>category</td>\n",
       "      <td>0/668346</td>\n",
       "      <td>53</td>\n",
       "    </tr>\n",
       "    <tr>\n",
       "      <td>Kamp_Erfass_KW_2</td>\n",
       "      <td>category</td>\n",
       "      <td>0/668346</td>\n",
       "      <td>26</td>\n",
       "    </tr>\n",
       "    <tr>\n",
       "      <td>Kamp_Erfass_KW_4</td>\n",
       "      <td>category</td>\n",
       "      <td>0/668346</td>\n",
       "      <td>13</td>\n",
       "    </tr>\n",
       "  </tbody>\n",
       "</table>\n",
       "</div>"
      ],
      "text/plain": [
       "                                      DTYPE          NULLS  UNIQUE\n",
       "Endkunde_NR                           int64       0/668346   31966\n",
       "Endkunde                           category       0/668346   30050\n",
       "EK_Abc                             category    1155/667191       8\n",
       "EK_Boni                            category      76/668270       3\n",
       "EK_Plz                             category     165/668181    2954\n",
       "EK_Ort                             category     165/668181    3006\n",
       "EK_Land                            category     165/668181      45\n",
       "EK_HB_Apg_Kurzz                    category   27659/640687      90\n",
       "EK_Kam_Betreut                        int64       0/668346       2\n",
       "EK_Aktiv                              int64       0/668346       2\n",
       "Agentur                            category  319382/348964    3946\n",
       "AG_Hauptbetreuer                   category  320948/347398      89\n",
       "Verkaufsberater                    category       0/668346     160\n",
       "Endkunde_Branchengruppe_ID         category    5622/662724      83\n",
       "Endkunde_Branchengruppe            category    5622/662724      83\n",
       "Endkunde_Nbranchengruppe_ID        category  555375/112971      57\n",
       "Endkunde_Nbranchengruppe           category  555375/112971      57\n",
       "Endkunde_Branchenkat_ID            category    5622/662724      22\n",
       "Endkunde_Branchenkat               category    5622/662724      22\n",
       "Endkunde_Nbranchenkat_ID           category  555375/112971      22\n",
       "Endkunde_Nbranchenkat              category  555375/112971      22\n",
       "Auftrag_Branchengruppe_ID          category       0/668346      83\n",
       "Auftrag_Branchengruppe             category       0/668346      83\n",
       "Auftrag_Nbranchengruppe_ID         category   611780/56566      72\n",
       "Auftrag_Nbranchengruppe            category   611780/56566      72\n",
       "Auftrag_Branchenkat_ID             category       0/668346      22\n",
       "Auftrag_Branchenkat                category       0/668346      22\n",
       "Auftrag_Nbranchenkat_ID            category   611796/56550      22\n",
       "Auftrag_Nbranchenkat               category   611796/56550      22\n",
       "Agps_NR                               int64       0/668346  668346\n",
       "Segment                            category       0/668346       8\n",
       "KV_NR                                 int64       0/668346  237762\n",
       "KV_Typ                             category       0/668346       3\n",
       "Kampagnen_Status                      int64       0/668346       5\n",
       "Kampagne_Erfassungsdatum     datetime64[ns]       0/668346    3280\n",
       "Kampagne_Beginn              datetime64[ns]      58/668288    2342\n",
       "Auftragsart                        category       0/668346      12\n",
       "Res_Dat                      datetime64[ns]       0/668346    3315\n",
       "Annullation_Datum            datetime64[ns]      668287/59       2\n",
       "Aush_Von                     datetime64[ns]       0/668346    2640\n",
       "Dauer                                 int64       0/668346     385\n",
       "Vertrag                            category       0/668346       2\n",
       "Brutto                                int64       0/668346   38008\n",
       "Netto                                 int64       0/668346   32029\n",
       "Agglo                              category   42853/625493    5642\n",
       "PF                                 category     642/667704    6314\n",
       "Kamp_Beginn_Jahr                   category      58/668288      14\n",
       "Kamp_Beginn_KW                     category      58/668288      53\n",
       "Kamp_Beginn_KW_2                   category      58/668288      26\n",
       "Kamp_Beginn_KW_4                   category      58/668288      13\n",
       "Kamp_Erfass_Jahr                   category       0/668346      13\n",
       "Kamp_Erfass_KW                     category       0/668346      53\n",
       "Kamp_Erfass_KW_2                   category       0/668346      26\n",
       "Kamp_Erfass_KW_4                   category       0/668346      13"
      ]
     },
     "execution_count": 5,
     "metadata": {},
     "output_type": "execute_result"
    }
   ],
   "source": [
    "desc_col(bd)"
   ]
  },
  {
   "cell_type": "markdown",
   "metadata": {},
   "source": [
    "## Dispo dates"
   ]
  },
  {
   "cell_type": "code",
   "execution_count": 6,
   "metadata": {},
   "outputs": [
    {
     "name": "stderr",
     "output_type": "stream",
     "text": [
      "2019-09-12 17:58:30 [INFO] Reading from file C:\\Users\\kpf\\data\\vkprog\\dispo.feather\n",
      "2019-09-12 17:58:30 [INFO] Finished loading binary file in 0.0s (0.02s CPU)\n"
     ]
    },
    {
     "data": {
      "text/html": [
       "<div>\n",
       "<style scoped>\n",
       "    .dataframe tbody tr th:only-of-type {\n",
       "        vertical-align: middle;\n",
       "    }\n",
       "\n",
       "    .dataframe tbody tr th {\n",
       "        vertical-align: top;\n",
       "    }\n",
       "\n",
       "    .dataframe thead th {\n",
       "        text-align: right;\n",
       "    }\n",
       "</style>\n",
       "<table border=\"1\" class=\"dataframe\">\n",
       "  <thead>\n",
       "    <tr style=\"text-align: right;\">\n",
       "      <th></th>\n",
       "      <th>KAM_open_date</th>\n",
       "      <th>open_date</th>\n",
       "      <th>Jahr</th>\n",
       "      <th>KAM_KW_2</th>\n",
       "      <th>KW_2</th>\n",
       "    </tr>\n",
       "    <tr>\n",
       "      <th>Dispo</th>\n",
       "      <th></th>\n",
       "      <th></th>\n",
       "      <th></th>\n",
       "      <th></th>\n",
       "      <th></th>\n",
       "    </tr>\n",
       "  </thead>\n",
       "  <tbody>\n",
       "    <tr>\n",
       "      <td>2006-2</td>\n",
       "      <td>2006-04-03</td>\n",
       "      <td>2006-04-10</td>\n",
       "      <td>2006</td>\n",
       "      <td>13</td>\n",
       "      <td>15</td>\n",
       "    </tr>\n",
       "    <tr>\n",
       "      <td>2007-1</td>\n",
       "      <td>2006-10-02</td>\n",
       "      <td>2006-10-09</td>\n",
       "      <td>2006</td>\n",
       "      <td>39</td>\n",
       "      <td>41</td>\n",
       "    </tr>\n",
       "    <tr>\n",
       "      <td>2007-2</td>\n",
       "      <td>2007-04-02</td>\n",
       "      <td>2007-04-09</td>\n",
       "      <td>2007</td>\n",
       "      <td>13</td>\n",
       "      <td>15</td>\n",
       "    </tr>\n",
       "    <tr>\n",
       "      <td>2008-1</td>\n",
       "      <td>2007-10-08</td>\n",
       "      <td>2007-10-15</td>\n",
       "      <td>2007</td>\n",
       "      <td>41</td>\n",
       "      <td>41</td>\n",
       "    </tr>\n",
       "    <tr>\n",
       "      <td>2008-2</td>\n",
       "      <td>2008-04-07</td>\n",
       "      <td>2008-04-14</td>\n",
       "      <td>2008</td>\n",
       "      <td>15</td>\n",
       "      <td>15</td>\n",
       "    </tr>\n",
       "  </tbody>\n",
       "</table>\n",
       "</div>"
      ],
      "text/plain": [
       "       KAM_open_date  open_date  Jahr KAM_KW_2 KW_2\n",
       "Dispo                                              \n",
       "2006-2    2006-04-03 2006-04-10  2006       13   15\n",
       "2007-1    2006-10-02 2006-10-09  2006       39   41\n",
       "2007-2    2007-04-02 2007-04-09  2007       13   15\n",
       "2008-1    2007-10-08 2007-10-15  2007       41   41\n",
       "2008-2    2008-04-07 2008-04-14  2008       15   15"
      ]
     },
     "execution_count": 6,
     "metadata": {},
     "output_type": "execute_result"
    }
   ],
   "source": [
    "dispo = load_bin(\"dispo.feather\").set_index('Dispo')\n",
    "dispo.head()"
   ]
  },
  {
   "cell_type": "code",
   "execution_count": 7,
   "metadata": {},
   "outputs": [
    {
     "name": "stderr",
     "output_type": "stream",
     "text": [
      "2019-09-12 17:58:34 [INFO] Reading from file C:\\Users\\kpf\\data\\vkprog\\dispo_periods.feather\n",
      "2019-09-12 17:58:34 [INFO] Finished loading binary file in 0.0s (0.0s CPU)\n"
     ]
    },
    {
     "data": {
      "text/html": [
       "<div>\n",
       "<style scoped>\n",
       "    .dataframe tbody tr th:only-of-type {\n",
       "        vertical-align: middle;\n",
       "    }\n",
       "\n",
       "    .dataframe tbody tr th {\n",
       "        vertical-align: top;\n",
       "    }\n",
       "\n",
       "    .dataframe thead th {\n",
       "        text-align: right;\n",
       "    }\n",
       "</style>\n",
       "<table border=\"1\" class=\"dataframe\">\n",
       "  <thead>\n",
       "    <tr style=\"text-align: right;\">\n",
       "      <th></th>\n",
       "      <th>KAM_1</th>\n",
       "      <th>Alle_1</th>\n",
       "      <th>KAM_2</th>\n",
       "      <th>Alle_2</th>\n",
       "    </tr>\n",
       "    <tr>\n",
       "      <th>Jahr</th>\n",
       "      <th></th>\n",
       "      <th></th>\n",
       "      <th></th>\n",
       "      <th></th>\n",
       "    </tr>\n",
       "  </thead>\n",
       "  <tbody>\n",
       "    <tr>\n",
       "      <td>2006</td>\n",
       "      <td>13</td>\n",
       "      <td>15</td>\n",
       "      <td>39</td>\n",
       "      <td>41</td>\n",
       "    </tr>\n",
       "    <tr>\n",
       "      <td>2007</td>\n",
       "      <td>13</td>\n",
       "      <td>15</td>\n",
       "      <td>41</td>\n",
       "      <td>41</td>\n",
       "    </tr>\n",
       "    <tr>\n",
       "      <td>2008</td>\n",
       "      <td>15</td>\n",
       "      <td>15</td>\n",
       "      <td>41</td>\n",
       "      <td>41</td>\n",
       "    </tr>\n",
       "    <tr>\n",
       "      <td>2009</td>\n",
       "      <td>15</td>\n",
       "      <td>15</td>\n",
       "      <td>41</td>\n",
       "      <td>41</td>\n",
       "    </tr>\n",
       "    <tr>\n",
       "      <td>2010</td>\n",
       "      <td>13</td>\n",
       "      <td>15</td>\n",
       "      <td>39</td>\n",
       "      <td>41</td>\n",
       "    </tr>\n",
       "    <tr>\n",
       "      <td>2011</td>\n",
       "      <td>7</td>\n",
       "      <td>9</td>\n",
       "      <td>39</td>\n",
       "      <td>41</td>\n",
       "    </tr>\n",
       "    <tr>\n",
       "      <td>2012</td>\n",
       "      <td>13</td>\n",
       "      <td>15</td>\n",
       "      <td>39</td>\n",
       "      <td>41</td>\n",
       "    </tr>\n",
       "    <tr>\n",
       "      <td>2013</td>\n",
       "      <td>13</td>\n",
       "      <td>15</td>\n",
       "      <td>39</td>\n",
       "      <td>41</td>\n",
       "    </tr>\n",
       "    <tr>\n",
       "      <td>2014</td>\n",
       "      <td>13</td>\n",
       "      <td>15</td>\n",
       "      <td>39</td>\n",
       "      <td>41</td>\n",
       "    </tr>\n",
       "    <tr>\n",
       "      <td>2015</td>\n",
       "      <td>7</td>\n",
       "      <td>9</td>\n",
       "      <td>39</td>\n",
       "      <td>41</td>\n",
       "    </tr>\n",
       "    <tr>\n",
       "      <td>2016</td>\n",
       "      <td>13</td>\n",
       "      <td>15</td>\n",
       "      <td>39</td>\n",
       "      <td>41</td>\n",
       "    </tr>\n",
       "    <tr>\n",
       "      <td>2017</td>\n",
       "      <td>11</td>\n",
       "      <td>13</td>\n",
       "      <td>39</td>\n",
       "      <td>41</td>\n",
       "    </tr>\n",
       "    <tr>\n",
       "      <td>2018</td>\n",
       "      <td>15</td>\n",
       "      <td>15</td>\n",
       "      <td>39</td>\n",
       "      <td>41</td>\n",
       "    </tr>\n",
       "    <tr>\n",
       "      <td>2019</td>\n",
       "      <td>7</td>\n",
       "      <td>9</td>\n",
       "      <td>39</td>\n",
       "      <td>41</td>\n",
       "    </tr>\n",
       "  </tbody>\n",
       "</table>\n",
       "</div>"
      ],
      "text/plain": [
       "     KAM_1 Alle_1 KAM_2 Alle_2\n",
       "Jahr                          \n",
       "2006    13     15    39     41\n",
       "2007    13     15    41     41\n",
       "2008    15     15    41     41\n",
       "2009    15     15    41     41\n",
       "2010    13     15    39     41\n",
       "2011     7      9    39     41\n",
       "2012    13     15    39     41\n",
       "2013    13     15    39     41\n",
       "2014    13     15    39     41\n",
       "2015     7      9    39     41\n",
       "2016    13     15    39     41\n",
       "2017    11     13    39     41\n",
       "2018    15     15    39     41\n",
       "2019     7      9    39     41"
      ]
     },
     "execution_count": 7,
     "metadata": {},
     "output_type": "execute_result"
    }
   ],
   "source": [
    "dispo_periods = load_bin(\"dispo_periods.feather\").set_index('Jahr')\n",
    "dispo_periods"
   ]
  },
  {
   "cell_type": "markdown",
   "metadata": {},
   "source": [
    "## Endkunden Information"
   ]
  },
  {
   "cell_type": "code",
   "execution_count": 8,
   "metadata": {},
   "outputs": [
    {
     "name": "stderr",
     "output_type": "stream",
     "text": [
      "2019-09-12 17:58:40 [INFO] Reading from file C:\\Users\\kpf\\data\\vkprog\\ek_info.feather\n",
      "2019-09-12 17:58:40 [INFO] Finished loading binary file in 0.03s (0.03s CPU)\n"
     ]
    }
   ],
   "source": [
    "ek_info = load_bin('ek_info.feather').drop(columns='index')"
   ]
  },
  {
   "cell_type": "code",
   "execution_count": 9,
   "metadata": {},
   "outputs": [
    {
     "data": {
      "text/html": [
       "<div>\n",
       "<style scoped>\n",
       "    .dataframe tbody tr th:only-of-type {\n",
       "        vertical-align: middle;\n",
       "    }\n",
       "\n",
       "    .dataframe tbody tr th {\n",
       "        vertical-align: top;\n",
       "    }\n",
       "\n",
       "    .dataframe thead th {\n",
       "        text-align: right;\n",
       "    }\n",
       "</style>\n",
       "<table border=\"1\" class=\"dataframe\">\n",
       "  <thead>\n",
       "    <tr style=\"text-align: right;\">\n",
       "      <th></th>\n",
       "      <th>DTYPE</th>\n",
       "      <th>NULLS</th>\n",
       "      <th>UNIQUE</th>\n",
       "    </tr>\n",
       "  </thead>\n",
       "  <tbody>\n",
       "    <tr>\n",
       "      <td>Endkunde_NR</td>\n",
       "      <td>int64</td>\n",
       "      <td>0/31966</td>\n",
       "      <td>31966</td>\n",
       "    </tr>\n",
       "    <tr>\n",
       "      <td>Endkunde</td>\n",
       "      <td>object</td>\n",
       "      <td>0/31966</td>\n",
       "      <td>30050</td>\n",
       "    </tr>\n",
       "    <tr>\n",
       "      <td>EK_Aktiv</td>\n",
       "      <td>int64</td>\n",
       "      <td>0/31966</td>\n",
       "      <td>2</td>\n",
       "    </tr>\n",
       "    <tr>\n",
       "      <td>EK_Kam_Betreut</td>\n",
       "      <td>int64</td>\n",
       "      <td>0/31966</td>\n",
       "      <td>2</td>\n",
       "    </tr>\n",
       "    <tr>\n",
       "      <td>EK_Land</td>\n",
       "      <td>object</td>\n",
       "      <td>49/31917</td>\n",
       "      <td>45</td>\n",
       "    </tr>\n",
       "    <tr>\n",
       "      <td>PLZ</td>\n",
       "      <td>int64</td>\n",
       "      <td>0/31966</td>\n",
       "      <td>2865</td>\n",
       "    </tr>\n",
       "    <tr>\n",
       "      <td>NAME</td>\n",
       "      <td>object</td>\n",
       "      <td>49/31917</td>\n",
       "      <td>2993</td>\n",
       "    </tr>\n",
       "    <tr>\n",
       "      <td>Agentur</td>\n",
       "      <td>object</td>\n",
       "      <td>20828/11138</td>\n",
       "      <td>3222</td>\n",
       "    </tr>\n",
       "    <tr>\n",
       "      <td>EK_BG</td>\n",
       "      <td>object</td>\n",
       "      <td>1804/30162</td>\n",
       "      <td>83</td>\n",
       "    </tr>\n",
       "    <tr>\n",
       "      <td>EK_BG_ID</td>\n",
       "      <td>object</td>\n",
       "      <td>1804/30162</td>\n",
       "      <td>83</td>\n",
       "    </tr>\n",
       "    <tr>\n",
       "      <td>Auftrag_BG_ID</td>\n",
       "      <td>object</td>\n",
       "      <td>0/31966</td>\n",
       "      <td>1958</td>\n",
       "    </tr>\n",
       "    <tr>\n",
       "      <td>Auftrag_BG_Anz</td>\n",
       "      <td>int64</td>\n",
       "      <td>0/31966</td>\n",
       "      <td>19</td>\n",
       "    </tr>\n",
       "    <tr>\n",
       "      <td>Last_Res_Date</td>\n",
       "      <td>datetime64[ns]</td>\n",
       "      <td>0/31966</td>\n",
       "      <td>2987</td>\n",
       "    </tr>\n",
       "    <tr>\n",
       "      <td>First_Res_Year</td>\n",
       "      <td>int16</td>\n",
       "      <td>0/31966</td>\n",
       "      <td>13</td>\n",
       "    </tr>\n",
       "    <tr>\n",
       "      <td>Last_Res_Year</td>\n",
       "      <td>int16</td>\n",
       "      <td>0/31966</td>\n",
       "      <td>12</td>\n",
       "    </tr>\n",
       "    <tr>\n",
       "      <td>Last_Aus_Date</td>\n",
       "      <td>datetime64[ns]</td>\n",
       "      <td>2/31964</td>\n",
       "      <td>1399</td>\n",
       "    </tr>\n",
       "    <tr>\n",
       "      <td>KANTON</td>\n",
       "      <td>object</td>\n",
       "      <td>1164/30802</td>\n",
       "      <td>26</td>\n",
       "    </tr>\n",
       "    <tr>\n",
       "      <td>BEZIRK</td>\n",
       "      <td>object</td>\n",
       "      <td>1164/30802</td>\n",
       "      <td>143</td>\n",
       "    </tr>\n",
       "    <tr>\n",
       "      <td>REGION</td>\n",
       "      <td>object</td>\n",
       "      <td>1164/30802</td>\n",
       "      <td>101</td>\n",
       "    </tr>\n",
       "    <tr>\n",
       "      <td>GROSSREGION</td>\n",
       "      <td>object</td>\n",
       "      <td>1164/30802</td>\n",
       "      <td>16</td>\n",
       "    </tr>\n",
       "  </tbody>\n",
       "</table>\n",
       "</div>"
      ],
      "text/plain": [
       "                         DTYPE        NULLS UNIQUE\n",
       "Endkunde_NR              int64      0/31966  31966\n",
       "Endkunde                object      0/31966  30050\n",
       "EK_Aktiv                 int64      0/31966      2\n",
       "EK_Kam_Betreut           int64      0/31966      2\n",
       "EK_Land                 object     49/31917     45\n",
       "PLZ                      int64      0/31966   2865\n",
       "NAME                    object     49/31917   2993\n",
       "Agentur                 object  20828/11138   3222\n",
       "EK_BG                   object   1804/30162     83\n",
       "EK_BG_ID                object   1804/30162     83\n",
       "Auftrag_BG_ID           object      0/31966   1958\n",
       "Auftrag_BG_Anz           int64      0/31966     19\n",
       "Last_Res_Date   datetime64[ns]      0/31966   2987\n",
       "First_Res_Year           int16      0/31966     13\n",
       "Last_Res_Year            int16      0/31966     12\n",
       "Last_Aus_Date   datetime64[ns]      2/31964   1399\n",
       "KANTON                  object   1164/30802     26\n",
       "BEZIRK                  object   1164/30802    143\n",
       "REGION                  object   1164/30802    101\n",
       "GROSSREGION             object   1164/30802     16"
      ]
     },
     "execution_count": 9,
     "metadata": {},
     "output_type": "execute_result"
    }
   ],
   "source": [
    "desc_col(ek_info)"
   ]
  },
  {
   "cell_type": "code",
   "execution_count": 10,
   "metadata": {},
   "outputs": [
    {
     "data": {
      "text/html": [
       "<div>\n",
       "<style scoped>\n",
       "    .dataframe tbody tr th:only-of-type {\n",
       "        vertical-align: middle;\n",
       "    }\n",
       "\n",
       "    .dataframe tbody tr th {\n",
       "        vertical-align: top;\n",
       "    }\n",
       "\n",
       "    .dataframe thead th {\n",
       "        text-align: right;\n",
       "    }\n",
       "</style>\n",
       "<table border=\"1\" class=\"dataframe\">\n",
       "  <thead>\n",
       "    <tr style=\"text-align: right;\">\n",
       "      <th></th>\n",
       "      <th>Endkunde_NR</th>\n",
       "      <th>Endkunde</th>\n",
       "      <th>EK_Aktiv</th>\n",
       "      <th>EK_Kam_Betreut</th>\n",
       "      <th>EK_Land</th>\n",
       "      <th>PLZ</th>\n",
       "      <th>NAME</th>\n",
       "      <th>Agentur</th>\n",
       "      <th>EK_BG</th>\n",
       "      <th>EK_BG_ID</th>\n",
       "      <th>Auftrag_BG_ID</th>\n",
       "      <th>Auftrag_BG_Anz</th>\n",
       "      <th>Last_Res_Date</th>\n",
       "      <th>First_Res_Year</th>\n",
       "      <th>Last_Res_Year</th>\n",
       "      <th>Last_Aus_Date</th>\n",
       "      <th>KANTON</th>\n",
       "      <th>BEZIRK</th>\n",
       "      <th>REGION</th>\n",
       "      <th>GROSSREGION</th>\n",
       "    </tr>\n",
       "  </thead>\n",
       "  <tbody>\n",
       "    <tr>\n",
       "      <td>0</td>\n",
       "      <td>100034</td>\n",
       "      <td>Maurer + Salzmann AG</td>\n",
       "      <td>1</td>\n",
       "      <td>0</td>\n",
       "      <td>SCHWEIZ</td>\n",
       "      <td>8408</td>\n",
       "      <td>Winterthur</td>\n",
       "      <td>ACE 2 ACE outdoor media ag</td>\n",
       "      <td>WG - Dienstleistung</td>\n",
       "      <td>720</td>\n",
       "      <td>720,405,400,295</td>\n",
       "      <td>4</td>\n",
       "      <td>2018-10-31</td>\n",
       "      <td>2009</td>\n",
       "      <td>2018</td>\n",
       "      <td>2018-11-12</td>\n",
       "      <td>ZH</td>\n",
       "      <td>Winterthur</td>\n",
       "      <td>Winterthur</td>\n",
       "      <td>Region Zürich</td>\n",
       "    </tr>\n",
       "    <tr>\n",
       "      <td>1</td>\n",
       "      <td>100039</td>\n",
       "      <td>Bank BSU Genossenschaft</td>\n",
       "      <td>1</td>\n",
       "      <td>0</td>\n",
       "      <td>SCHWEIZ</td>\n",
       "      <td>8610</td>\n",
       "      <td>Uster</td>\n",
       "      <td>walder, werber werbeagentur ag</td>\n",
       "      <td>WG - Finanzwirtschaft</td>\n",
       "      <td>470</td>\n",
       "      <td>470,720</td>\n",
       "      <td>2</td>\n",
       "      <td>2019-09-01</td>\n",
       "      <td>2009</td>\n",
       "      <td>2019</td>\n",
       "      <td>2019-12-01</td>\n",
       "      <td>ZH</td>\n",
       "      <td>Uster</td>\n",
       "      <td>Uster–Dübendorf</td>\n",
       "      <td>Region Zürich</td>\n",
       "    </tr>\n",
       "    <tr>\n",
       "      <td>2</td>\n",
       "      <td>100061</td>\n",
       "      <td>Mundwiler Juwelen AG</td>\n",
       "      <td>1</td>\n",
       "      <td>0</td>\n",
       "      <td>SCHWEIZ</td>\n",
       "      <td>8400</td>\n",
       "      <td>Winterthur</td>\n",
       "      <td>None</td>\n",
       "      <td>WG - Persönlicher Bedarf</td>\n",
       "      <td>555</td>\n",
       "      <td>555</td>\n",
       "      <td>1</td>\n",
       "      <td>2009-09-16</td>\n",
       "      <td>2009</td>\n",
       "      <td>2009</td>\n",
       "      <td>2009-10-12</td>\n",
       "      <td>ZH</td>\n",
       "      <td>Winterthur</td>\n",
       "      <td>Winterthur</td>\n",
       "      <td>Region Zürich</td>\n",
       "    </tr>\n",
       "    <tr>\n",
       "      <td>3</td>\n",
       "      <td>100064</td>\n",
       "      <td>Senn Communication</td>\n",
       "      <td>1</td>\n",
       "      <td>0</td>\n",
       "      <td>SCHWEIZ</td>\n",
       "      <td>8610</td>\n",
       "      <td>Uster</td>\n",
       "      <td>None</td>\n",
       "      <td>WG - Dienstleistung</td>\n",
       "      <td>720</td>\n",
       "      <td>901,960</td>\n",
       "      <td>2</td>\n",
       "      <td>2017-03-09</td>\n",
       "      <td>2009</td>\n",
       "      <td>2017</td>\n",
       "      <td>2017-07-01</td>\n",
       "      <td>ZH</td>\n",
       "      <td>Uster</td>\n",
       "      <td>Uster–Dübendorf</td>\n",
       "      <td>Region Zürich</td>\n",
       "    </tr>\n",
       "    <tr>\n",
       "      <td>4</td>\n",
       "      <td>100066</td>\n",
       "      <td>walder, werber werbeagentur ag</td>\n",
       "      <td>1</td>\n",
       "      <td>0</td>\n",
       "      <td>SCHWEIZ</td>\n",
       "      <td>8610</td>\n",
       "      <td>Uster</td>\n",
       "      <td>None</td>\n",
       "      <td>WG - Dienstleistung</td>\n",
       "      <td>720</td>\n",
       "      <td>780,720</td>\n",
       "      <td>2</td>\n",
       "      <td>2018-09-13</td>\n",
       "      <td>2013</td>\n",
       "      <td>2018</td>\n",
       "      <td>2018-10-01</td>\n",
       "      <td>ZH</td>\n",
       "      <td>Uster</td>\n",
       "      <td>Uster–Dübendorf</td>\n",
       "      <td>Region Zürich</td>\n",
       "    </tr>\n",
       "    <tr>\n",
       "      <td>5</td>\n",
       "      <td>100083</td>\n",
       "      <td>Goodyear Dunlop Tires Suisse SA</td>\n",
       "      <td>1</td>\n",
       "      <td>0</td>\n",
       "      <td>SCHWEIZ</td>\n",
       "      <td>8604</td>\n",
       "      <td>Volketswil</td>\n",
       "      <td>a.ha GmbH</td>\n",
       "      <td>WG - Fahrzeugzubehör</td>\n",
       "      <td>390</td>\n",
       "      <td>390</td>\n",
       "      <td>1</td>\n",
       "      <td>2019-06-12</td>\n",
       "      <td>2011</td>\n",
       "      <td>2019</td>\n",
       "      <td>2019-09-30</td>\n",
       "      <td>ZH</td>\n",
       "      <td>Uster</td>\n",
       "      <td>Uster–Dübendorf</td>\n",
       "      <td>Region Zürich</td>\n",
       "    </tr>\n",
       "    <tr>\n",
       "      <td>6</td>\n",
       "      <td>100092</td>\n",
       "      <td>Navyboot AG</td>\n",
       "      <td>1</td>\n",
       "      <td>1</td>\n",
       "      <td>SCHWEIZ</td>\n",
       "      <td>8001</td>\n",
       "      <td>Zürich</td>\n",
       "      <td>Kinetic Worldwide Switzerland AG</td>\n",
       "      <td>WG - Bekleidung / Wäsche</td>\n",
       "      <td>195</td>\n",
       "      <td>195</td>\n",
       "      <td>1</td>\n",
       "      <td>2015-12-09</td>\n",
       "      <td>2009</td>\n",
       "      <td>2015</td>\n",
       "      <td>2016-03-28</td>\n",
       "      <td>ZH</td>\n",
       "      <td>Zürich</td>\n",
       "      <td>Zürich</td>\n",
       "      <td>Region Zürich</td>\n",
       "    </tr>\n",
       "    <tr>\n",
       "      <td>7</td>\n",
       "      <td>100095</td>\n",
       "      <td>Zomag AG</td>\n",
       "      <td>1</td>\n",
       "      <td>0</td>\n",
       "      <td>SCHWEIZ</td>\n",
       "      <td>8620</td>\n",
       "      <td>Wetzikon ZH</td>\n",
       "      <td>ACE 2 ACE outdoor media ag</td>\n",
       "      <td>WG - Dienstleistung</td>\n",
       "      <td>720</td>\n",
       "      <td>720</td>\n",
       "      <td>1</td>\n",
       "      <td>2019-08-02</td>\n",
       "      <td>2009</td>\n",
       "      <td>2019</td>\n",
       "      <td>2019-08-12</td>\n",
       "      <td>ZH</td>\n",
       "      <td>Hinwil</td>\n",
       "      <td>Wetzikon (ZH)</td>\n",
       "      <td>Region Zürich</td>\n",
       "    </tr>\n",
       "    <tr>\n",
       "      <td>8</td>\n",
       "      <td>100097</td>\n",
       "      <td>Biomed AG</td>\n",
       "      <td>1</td>\n",
       "      <td>1</td>\n",
       "      <td>SCHWEIZ</td>\n",
       "      <td>8600</td>\n",
       "      <td>Dübendorf</td>\n",
       "      <td>mediaschneider ag</td>\n",
       "      <td>WG - Pharma Produkte</td>\n",
       "      <td>366</td>\n",
       "      <td>366,800,720</td>\n",
       "      <td>3</td>\n",
       "      <td>2018-12-14</td>\n",
       "      <td>2009</td>\n",
       "      <td>2018</td>\n",
       "      <td>2019-01-16</td>\n",
       "      <td>ZH</td>\n",
       "      <td>Uster</td>\n",
       "      <td>Uster–Dübendorf</td>\n",
       "      <td>Region Zürich</td>\n",
       "    </tr>\n",
       "    <tr>\n",
       "      <td>9</td>\n",
       "      <td>100098</td>\n",
       "      <td>Maison Astor Coiffure GmbH</td>\n",
       "      <td>1</td>\n",
       "      <td>0</td>\n",
       "      <td>SCHWEIZ</td>\n",
       "      <td>8304</td>\n",
       "      <td>Wallisellen</td>\n",
       "      <td>None</td>\n",
       "      <td>WG - Haarpflege</td>\n",
       "      <td>332</td>\n",
       "      <td>332,334</td>\n",
       "      <td>2</td>\n",
       "      <td>2018-10-01</td>\n",
       "      <td>2008</td>\n",
       "      <td>2018</td>\n",
       "      <td>2018-12-31</td>\n",
       "      <td>ZH</td>\n",
       "      <td>Bülach</td>\n",
       "      <td>Uster–Dübendorf</td>\n",
       "      <td>Region Zürich</td>\n",
       "    </tr>\n",
       "  </tbody>\n",
       "</table>\n",
       "</div>"
      ],
      "text/plain": [
       "   Endkunde_NR                         Endkunde  EK_Aktiv  EK_Kam_Betreut  \\\n",
       "0       100034             Maurer + Salzmann AG         1               0   \n",
       "1       100039          Bank BSU Genossenschaft         1               0   \n",
       "2       100061             Mundwiler Juwelen AG         1               0   \n",
       "3       100064               Senn Communication         1               0   \n",
       "4       100066   walder, werber werbeagentur ag         1               0   \n",
       "5       100083  Goodyear Dunlop Tires Suisse SA         1               0   \n",
       "6       100092                      Navyboot AG         1               1   \n",
       "7       100095                         Zomag AG         1               0   \n",
       "8       100097                        Biomed AG         1               1   \n",
       "9       100098       Maison Astor Coiffure GmbH         1               0   \n",
       "\n",
       "   EK_Land   PLZ         NAME                           Agentur  \\\n",
       "0  SCHWEIZ  8408   Winterthur        ACE 2 ACE outdoor media ag   \n",
       "1  SCHWEIZ  8610        Uster    walder, werber werbeagentur ag   \n",
       "2  SCHWEIZ  8400   Winterthur                              None   \n",
       "3  SCHWEIZ  8610        Uster                              None   \n",
       "4  SCHWEIZ  8610        Uster                              None   \n",
       "5  SCHWEIZ  8604   Volketswil                         a.ha GmbH   \n",
       "6  SCHWEIZ  8001       Zürich  Kinetic Worldwide Switzerland AG   \n",
       "7  SCHWEIZ  8620  Wetzikon ZH        ACE 2 ACE outdoor media ag   \n",
       "8  SCHWEIZ  8600    Dübendorf                 mediaschneider ag   \n",
       "9  SCHWEIZ  8304  Wallisellen                              None   \n",
       "\n",
       "                      EK_BG EK_BG_ID    Auftrag_BG_ID  Auftrag_BG_Anz  \\\n",
       "0       WG - Dienstleistung      720  720,405,400,295               4   \n",
       "1     WG - Finanzwirtschaft      470          470,720               2   \n",
       "2  WG - Persönlicher Bedarf      555              555               1   \n",
       "3       WG - Dienstleistung      720          901,960               2   \n",
       "4       WG - Dienstleistung      720          780,720               2   \n",
       "5      WG - Fahrzeugzubehör      390              390               1   \n",
       "6  WG - Bekleidung / Wäsche      195              195               1   \n",
       "7       WG - Dienstleistung      720              720               1   \n",
       "8      WG - Pharma Produkte      366      366,800,720               3   \n",
       "9           WG - Haarpflege      332          332,334               2   \n",
       "\n",
       "  Last_Res_Date  First_Res_Year  Last_Res_Year Last_Aus_Date KANTON  \\\n",
       "0    2018-10-31            2009           2018    2018-11-12     ZH   \n",
       "1    2019-09-01            2009           2019    2019-12-01     ZH   \n",
       "2    2009-09-16            2009           2009    2009-10-12     ZH   \n",
       "3    2017-03-09            2009           2017    2017-07-01     ZH   \n",
       "4    2018-09-13            2013           2018    2018-10-01     ZH   \n",
       "5    2019-06-12            2011           2019    2019-09-30     ZH   \n",
       "6    2015-12-09            2009           2015    2016-03-28     ZH   \n",
       "7    2019-08-02            2009           2019    2019-08-12     ZH   \n",
       "8    2018-12-14            2009           2018    2019-01-16     ZH   \n",
       "9    2018-10-01            2008           2018    2018-12-31     ZH   \n",
       "\n",
       "       BEZIRK           REGION    GROSSREGION  \n",
       "0  Winterthur       Winterthur  Region Zürich  \n",
       "1       Uster  Uster–Dübendorf  Region Zürich  \n",
       "2  Winterthur       Winterthur  Region Zürich  \n",
       "3       Uster  Uster–Dübendorf  Region Zürich  \n",
       "4       Uster  Uster–Dübendorf  Region Zürich  \n",
       "5       Uster  Uster–Dübendorf  Region Zürich  \n",
       "6      Zürich           Zürich  Region Zürich  \n",
       "7      Hinwil    Wetzikon (ZH)  Region Zürich  \n",
       "8       Uster  Uster–Dübendorf  Region Zürich  \n",
       "9      Bülach  Uster–Dübendorf  Region Zürich  "
      ]
     },
     "execution_count": 10,
     "metadata": {},
     "output_type": "execute_result"
    }
   ],
   "source": [
    "ek_info.head(10)"
   ]
  },
  {
   "cell_type": "markdown",
   "metadata": {},
   "source": [
    "### How many customers started or ended in which year?"
   ]
  },
  {
   "cell_type": "code",
   "execution_count": null,
   "metadata": {},
   "outputs": [],
   "source": [
    "pd.crosstab(\n",
    "    index=ek_info.First_Res_Year,\n",
    "    columns=ek_info.Last_Res_Year,\n",
    "    margins=True,\n",
    ")"
   ]
  },
  {
   "cell_type": "code",
   "execution_count": null,
   "metadata": {},
   "outputs": [],
   "source": [
    "import seaborn as sns\n",
    "import matplotlib.pyplot as plt\n",
    "\n",
    "plot_data = pd.crosstab(\n",
    "    index=ek_info.First_Res_Year, columns=ek_info.Last_Res_Year\n",
    ")\n",
    "\n",
    "plt.figure(figsize=(15, 10))\n",
    "sns.heatmap(data=plot_data, linewidths=0.3, vmax=1500, annot=True, fmt=\"d\")"
   ]
  },
  {
   "cell_type": "markdown",
   "metadata": {},
   "source": [
    "# Distribution of Auftragsart"
   ]
  },
  {
   "cell_type": "code",
   "execution_count": null,
   "metadata": {},
   "outputs": [],
   "source": [
    "display(\n",
    "    pd.crosstab(\n",
    "        index=[bd.Auftragsart, bd.Vertrag], columns=bd.Kamp_Erfass_Jahr, margins=True\n",
    "    )\n",
    ")\n",
    "display(\"Netto-Umsatz\")\n",
    "display(\n",
    "    bd.pivot_table(\n",
    "        index=[\"Auftragsart\", \"Vertrag\"],\n",
    "        columns=\"Kamp_Erfass_Jahr\",\n",
    "        values=\"Netto\",\n",
    "        aggfunc=\"sum\",\n",
    "        fill_value=0,\n",
    "        margins=True,\n",
    "    )\n",
    ")"
   ]
  },
  {
   "cell_type": "markdown",
   "metadata": {},
   "source": [
    "### Auftragsart vs. customers"
   ]
  },
  {
   "cell_type": "code",
   "execution_count": null,
   "metadata": {},
   "outputs": [],
   "source": [
    "%%time\n",
    "\n",
    "ek_auftragsart = pd.crosstab(columns=bd.Auftragsart, index=bd.Endkunde_NR)\n",
    "ek_auftragsart.mask(ek_auftragsart == 0, inplace=True)\n",
    "\n",
    "ek_auftragsart.head(10)"
   ]
  },
  {
   "cell_type": "markdown",
   "metadata": {},
   "source": [
    "How many **different** Auftragsart per customer?"
   ]
  },
  {
   "cell_type": "code",
   "execution_count": null,
   "metadata": {},
   "outputs": [],
   "source": [
    "ek_auftragsart.count(axis='columns').value_counts()"
   ]
  },
  {
   "cell_type": "markdown",
   "metadata": {},
   "source": [
    "How many **most frequent** Auftragsart per customer? "
   ]
  },
  {
   "cell_type": "code",
   "execution_count": null,
   "metadata": {},
   "outputs": [],
   "source": [
    "(ek_auftragsart.subtract(ek_auftragsart.max(axis='columns'), axis='index') == 0).sum(axis='columns').value_counts()"
   ]
  },
  {
   "cell_type": "markdown",
   "metadata": {},
   "source": [
    "Where is the a **clear favourite** Auftragsart for a customer?"
   ]
  },
  {
   "cell_type": "code",
   "execution_count": null,
   "metadata": {},
   "outputs": [],
   "source": [
    "%%time\n",
    "ek_auftragsart_scores = clear_row_max(ek_auftragsart)"
   ]
  },
  {
   "cell_type": "code",
   "execution_count": null,
   "metadata": {},
   "outputs": [],
   "source": [
    "ek_auftragsart_scoring = pd.DataFrame(\n",
    "    index=ek_auftragsart_scores.index,\n",
    "    data={\"AufArt\": ek_auftragsart_scores},\n",
    ")\n",
    "\n",
    "ek_auftragsart_scoring.dropna(inplace=True)"
   ]
  },
  {
   "cell_type": "markdown",
   "metadata": {},
   "source": [
    "# Branchen"
   ]
  },
  {
   "cell_type": "code",
   "execution_count": null,
   "metadata": {},
   "outputs": [],
   "source": [
    "ek_branchen = ek_info.loc[:,['Endkunde_NR', 'EK_BG_ID', 'Auftrag_BG_ID']]"
   ]
  },
  {
   "cell_type": "code",
   "execution_count": null,
   "metadata": {},
   "outputs": [],
   "source": [
    "def unique_list(lst):\n",
    "    return list(set(lst))\n",
    "\n",
    "\n",
    "ek_branchen[\"Auftrag_BG_list\"] = ek_branchen.Auftrag_BG_ID.str.split(\",\")\n",
    "ek_branchen[\"BG_list\"] = ek_branchen.apply(\n",
    "    lambda x: unique_list([x.EK_BG_ID] + x.Auftrag_BG_list), axis=\"columns\"\n",
    ")\n",
    "ek_branchen.drop(\n",
    "    [\"EK_BG_ID\", \"Auftrag_BG_ID\", \"Auftrag_BG_list\"], axis=\"columns\", inplace=True\n",
    ")"
   ]
  },
  {
   "cell_type": "code",
   "execution_count": null,
   "metadata": {},
   "outputs": [],
   "source": [
    "display(ek_branchen.head())\n",
    "\n",
    "ek_branchen_scoring = ek_branchen.explode(column=\"BG_list\").rename(\n",
    "    columns={\"BG_list\": \"BG\"}\n",
    ")\n",
    "\n",
    "display(ek_branchen_scoring.head())"
   ]
  },
  {
   "cell_type": "markdown",
   "metadata": {},
   "source": [
    "# Auftragsart vs. Branchen"
   ]
  },
  {
   "cell_type": "code",
   "execution_count": null,
   "metadata": {},
   "outputs": [],
   "source": [
    "AufArt_BG = ek_auftragsart_scoring.merge(ek_branchen_scoring, how='inner', on='Endkunde_NR')"
   ]
  },
  {
   "cell_type": "code",
   "execution_count": null,
   "metadata": {},
   "outputs": [],
   "source": [
    "plt.figure(figsize=(20, 32))\n",
    "sns.heatmap(\n",
    "    data=np.log1p(\n",
    "        pd.crosstab(columns=AufArt_BG.AufArt, index=AufArt_BG.BG, margins=True)\n",
    "        .sort_values(\"All\", ascending=False)\n",
    "        .sort_values(\"All\", axis=\"columns\", ascending=False)\n",
    "    ).iloc[1:,1:]\n",
    ")"
   ]
  },
  {
   "cell_type": "code",
   "execution_count": null,
   "metadata": {},
   "outputs": [],
   "source": [
    "display(\n",
    "    normalize_rows(\n",
    "        pd.crosstab(columns=AufArt_BG.AufArt, index=AufArt_BG.BG, margins=True)\n",
    "        .sort_values(\"All\", ascending=False)\n",
    "        .sort_values(\"All\", axis=\"columns\", ascending=False)\n",
    "        .iloc[1:, 1:]\n",
    "    )\n",
    ")"
   ]
  },
  {
   "cell_type": "markdown",
   "metadata": {},
   "source": [
    "# Restrict bookings to interesting customers (current & long-term)"
   ]
  },
  {
   "cell_type": "markdown",
   "metadata": {},
   "source": [
    "### List of current long-time customers\n",
    "\n",
    "* \"Current\" means that their last booking was not more than two years back. \n",
    "* \"Long-time\" means that they had at least two years of bookings."
   ]
  },
  {
   "cell_type": "code",
   "execution_count": null,
   "metadata": {},
   "outputs": [],
   "source": [
    "limit_year = pd.Timestamp.today().year - 2\n",
    "\n",
    "ek_nr_current = ek_info.loc[\n",
    "    (ek_info.Last_Res_Year >= limit_year)\n",
    "    & (ek_info.First_Res_Year < limit_year - 2),\n",
    "    \"Endkunde_NR\"\n",
    "]"
   ]
  },
  {
   "cell_type": "code",
   "execution_count": null,
   "metadata": {},
   "outputs": [],
   "source": [
    "bd_current = (\n",
    "    bd.loc[bd.Endkunde_NR.isin(ek_nr_current)].pipe(clean_up_categoricals).copy()\n",
    ")\n",
    "\n",
    "print(f\"Keeping {bd_current.shape[0]} of {bd.shape[0]} records\")"
   ]
  },
  {
   "cell_type": "code",
   "execution_count": null,
   "metadata": {},
   "outputs": [],
   "source": [
    "ek_info_current = ek_info.loc[ek_info.Endkunde_NR.isin(ek_nr_current)].copy()\n",
    "\n",
    "print(f\"Keeping {ek_info_current.shape[0]} of {ek_info.shape[0]} records\")"
   ]
  },
  {
   "cell_type": "markdown",
   "metadata": {},
   "source": [
    "# Aggregate bookings per customer, year, and KW_2 / KW_4 period\n",
    "\n",
    "Both by Reservation and Aushang."
   ]
  },
  {
   "cell_type": "code",
   "execution_count": null,
   "metadata": {},
   "outputs": [],
   "source": [
    "def sum_calc(df, col_year, col_week):\n",
    "    return (\n",
    "        df.loc[:, [\"Endkunde_NR\", col_year, col_week, \"Netto\"]]\n",
    "        .pipe(unfactorize)\n",
    "        .groupby([\"Endkunde_NR\", col_year, col_week], observed=True, as_index=False)\n",
    "        .agg({\"Netto\": [\"sum\"]})\n",
    "        .set_axis(\n",
    "            f\"Endkunde_NR {col_year} {col_week} Netto_Sum\".split(),\n",
    "            axis=\"columns\",\n",
    "            inplace=False,\n",
    "        )\n",
    "    )\n",
    "\n",
    "\n",
    "def aggregate_bookings(df, period):\n",
    "    info(f\"Period: {period}\")\n",
    "    info(\"Calculate Reservation...\")\n",
    "    df_res = sum_calc(df, \"Kamp_Erfass_Jahr\", f\"Kamp_Erfass_{period}\")\n",
    "    info(\"Calculate Aushang...\")\n",
    "    df_aus = sum_calc(df, \"Kamp_Beginn_Jahr\", f\"Kamp_Beginn_{period}\")\n",
    "\n",
    "    info(\"Merge Results...\")\n",
    "    df_aggr = df_res.merge(\n",
    "        right=df_aus,\n",
    "        left_on=[\"Endkunde_NR\", \"Kamp_Erfass_Jahr\", f\"Kamp_Erfass_{period}\"],\n",
    "        right_on=[\"Endkunde_NR\", \"Kamp_Beginn_Jahr\", f\"Kamp_Beginn_{period}\"],\n",
    "        how=\"outer\",\n",
    "        suffixes=(\"_Res\", \"_Aus\"),\n",
    "    ).rename(\n",
    "        {\"Kamp_Erfass_Jahr\": \"Jahr\", f\"Kamp_Erfass_{period}\": period}, axis=\"columns\"\n",
    "    )\n",
    "\n",
    "    df_aggr = (\n",
    "        df_aggr.fillna(\n",
    "            {\n",
    "                \"Jahr\": df_aggr.Kamp_Beginn_Jahr,\n",
    "                period: df_aggr[f\"Kamp_Beginn_{period}\"],\n",
    "                \"Netto_Sum_Res\": 0,\n",
    "                \"Netto_Sum_Aus\": 0,\n",
    "            }\n",
    "        )\n",
    "        .drop([\"Kamp_Beginn_Jahr\", f\"Kamp_Beginn_{period}\"], axis=\"columns\")\n",
    "        .astype({\"Jahr\": \"int16\"})\n",
    "        .astype({period: \"int8\"})\n",
    "        .sort_values([\"Jahr\", \"Endkunde_NR\", period])\n",
    "        .reset_index(drop=True)\n",
    "    )\n",
    "\n",
    "    return df_aggr"
   ]
  },
  {
   "cell_type": "code",
   "execution_count": null,
   "metadata": {},
   "outputs": [],
   "source": [
    "bd_aggr_2w = aggregate_bookings(bd_current, 'KW_2')\n",
    "bd_aggr_4w = aggregate_bookings(bd_current, 'KW_4')"
   ]
  },
  {
   "cell_type": "code",
   "execution_count": null,
   "metadata": {},
   "outputs": [],
   "source": [
    "bd_aggr_2w.head(10)"
   ]
  },
  {
   "cell_type": "markdown",
   "metadata": {},
   "source": [
    "# Netto by customer / year"
   ]
  },
  {
   "cell_type": "code",
   "execution_count": null,
   "metadata": {},
   "outputs": [],
   "source": [
    "bd_aggr_yr = bd_aggr_2w.groupby([\"Endkunde_NR\", \"Jahr\"]).agg(\n",
    "    {\"Netto_Sum_Res\": \"sum\", \"Netto_Sum_Aus\": \"sum\"}\n",
    ")\n",
    "\n",
    "bd_aggr_yr.head(15)"
   ]
  },
  {
   "cell_type": "code",
   "execution_count": null,
   "metadata": {},
   "outputs": [],
   "source": [
    "bd_aggr_yr_ek = bd_aggr_yr.groupby(\"Endkunde_NR\").agg([\"min\", \"max\", \"mean\", \"median\"])\n",
    "\n",
    "bd_aggr_yr_ek.head()"
   ]
  },
  {
   "cell_type": "code",
   "execution_count": null,
   "metadata": {},
   "outputs": [],
   "source": [
    "np.log1p(bd_aggr_yr_ek[('Netto_Sum_Res', 'mean')]).hist()"
   ]
  },
  {
   "cell_type": "markdown",
   "metadata": {},
   "source": [
    "### Find good category borders for 5 categories"
   ]
  },
  {
   "cell_type": "code",
   "execution_count": null,
   "metadata": {},
   "outputs": [],
   "source": [
    "pd.qcut(bd_aggr_yr_ek[('Netto_Sum_Res', 'mean')].values, q=5).categories"
   ]
  },
  {
   "cell_type": "markdown",
   "metadata": {},
   "source": [
    "### Cut the net values, label categories, merge back into ``ek_info_current`` "
   ]
  },
  {
   "cell_type": "code",
   "execution_count": null,
   "metadata": {},
   "outputs": [],
   "source": [
    "_netto_cat = pd.cut(\n",
    "    bd_aggr_yr_ek[(\"Netto_Sum_Res\", \"mean\")],\n",
    "    bins=(0, 4000, 10000, 50000, 500000, 7000000),\n",
    "    labels=\"<4k 4k-10k 10k-50k 50k-500k >500k\".split(),\n",
    ").rename(\"netto_cat\")\n",
    "\n",
    "ek_info_current.loc[:,'Netto_Cat'] = ek_info_current.merge(_netto_cat, on='Endkunde_NR')['netto_cat'].values"
   ]
  },
  {
   "cell_type": "code",
   "execution_count": null,
   "metadata": {},
   "outputs": [],
   "source": [
    "ek_info_current.Netto_Cat.value_counts()"
   ]
  },
  {
   "cell_type": "markdown",
   "metadata": {},
   "source": [
    "# Calculate sum curve per customer * year, over periods"
   ]
  },
  {
   "cell_type": "code",
   "execution_count": null,
   "metadata": {},
   "outputs": [],
   "source": [
    "def make_year_grp_sumcurve(df, year_col, grp_col, data_col, prefix=\"\"):\n",
    "    # build new columns with sum/cumsum per year/grp\n",
    "    df = df.pipe(\n",
    "        calc_col_partitioned,\n",
    "        f\"{prefix}sumJahr\",\n",
    "        fun=\"sum\",\n",
    "        on=data_col,\n",
    "        part_by=[year_col, grp_col],\n",
    "    ).pipe(\n",
    "        calc_col_partitioned,\n",
    "        f\"{prefix}cumJahr\",\n",
    "        fun=\"cumsum\",\n",
    "        on=data_col,\n",
    "        part_by=[year_col, grp_col],\n",
    "    )\n",
    "\n",
    "    # divide data_col by sum to get scaled amounts, show in %\n",
    "    df = (\n",
    "        df.eval(f\"{prefix}prcJahr = ({data_col} / {prefix}sumJahr) * 100 + 0.5\")\n",
    "        .fillna({f\"{prefix}prcJahr\": 0})\n",
    "        .astype({f\"{prefix}prcJahr\": \"int\"})\n",
    "    )\n",
    "\n",
    "    # divide cumsum by sum to get sum curve [0, 1], show in %\n",
    "    df = (\n",
    "        df.eval(f\"{prefix}crvJahr = ({prefix}cumJahr / {prefix}sumJahr) * 100 + 0.5\")\n",
    "        .fillna({f\"{prefix}crvJahr\": 0})\n",
    "        .astype({f\"{prefix}crvJahr\": \"int\"})\n",
    "    )\n",
    "    return df"
   ]
  },
  {
   "cell_type": "code",
   "execution_count": null,
   "metadata": {},
   "outputs": [],
   "source": [
    "bd_aggr_2w = (\n",
    "    bd_aggr_2w.pipe(\n",
    "        make_year_grp_sumcurve,\n",
    "        year_col=\"Jahr\",\n",
    "        grp_col=\"Endkunde_NR\",\n",
    "        data_col=\"Netto_Sum_Res\",\n",
    "        prefix=\"Res_\",\n",
    "    )\n",
    "    .pipe(\n",
    "        make_year_grp_sumcurve,\n",
    "        year_col=\"Jahr\",\n",
    "        grp_col=\"Endkunde_NR\",\n",
    "        data_col=\"Netto_Sum_Aus\",\n",
    "        prefix=\"Aus_\",\n",
    "    )\n",
    "    .sort_values([\"Endkunde_NR\", \"Jahr\", \"KW_2\"])\n",
    "    .reset_index(drop=True)\n",
    ")\n",
    "\n",
    "bd_aggr_4w = (\n",
    "    bd_aggr_4w.pipe(\n",
    "        make_year_grp_sumcurve,\n",
    "        year_col=\"Jahr\",\n",
    "        grp_col=\"Endkunde_NR\",\n",
    "        data_col=\"Netto_Sum_Res\",\n",
    "        prefix=\"Res_\",\n",
    "    )\n",
    "    .pipe(\n",
    "        make_year_grp_sumcurve,\n",
    "        year_col=\"Jahr\",\n",
    "        grp_col=\"Endkunde_NR\",\n",
    "        data_col=\"Netto_Sum_Aus\",\n",
    "        prefix=\"Aus_\",\n",
    "    )\n",
    "    .sort_values([\"Endkunde_NR\", \"Jahr\", \"KW_4\"])\n",
    "    .reset_index(drop=True)\n",
    ")"
   ]
  },
  {
   "cell_type": "code",
   "execution_count": null,
   "metadata": {},
   "outputs": [],
   "source": [
    "bd_aggr_2w.head(10)"
   ]
  },
  {
   "cell_type": "code",
   "execution_count": null,
   "metadata": {},
   "outputs": [],
   "source": [
    "bd_aggr_4w.head(10)"
   ]
  },
  {
   "cell_type": "markdown",
   "metadata": {},
   "source": [
    "### Store and reload results"
   ]
  },
  {
   "cell_type": "code",
   "execution_count": null,
   "metadata": {},
   "outputs": [],
   "source": [
    "store_bin(bd_aggr_2w, 'bd_cluster_aggr_2w.feather')\n",
    "store_bin(bd_aggr_4w, 'bd_cluster_aggr_4w.feather')"
   ]
  },
  {
   "cell_type": "code",
   "execution_count": null,
   "metadata": {},
   "outputs": [],
   "source": [
    "bd_aggr_2w = load_bin('bd_cluster_aggr_2w.feather')\n",
    "bd_aggr_4w = load_bin('bd_cluster_aggr_4w.feather')"
   ]
  },
  {
   "cell_type": "markdown",
   "metadata": {
    "toc-hr-collapsed": false
   },
   "source": [
    "# Clustering Customers by Reservation"
   ]
  },
  {
   "cell_type": "markdown",
   "metadata": {},
   "source": [
    "### Drop incomplete years\n",
    "\n",
    "We have data for the last 10 years, the current year is incomplete"
   ]
  },
  {
   "cell_type": "code",
   "execution_count": null,
   "metadata": {},
   "outputs": [],
   "source": [
    "current_year = pd.Timestamp.today().year\n",
    "valid_years = list(range(current_year - 10, current_year))\n",
    "valid_years"
   ]
  },
  {
   "cell_type": "markdown",
   "metadata": {},
   "source": [
    "### Pivot prc values by period"
   ]
  },
  {
   "cell_type": "code",
   "execution_count": null,
   "metadata": {},
   "outputs": [],
   "source": [
    "bd_res_prc_2w_data = bd_aggr_2w.loc[(bd_aggr_2w.Jahr.isin(valid_years))].pivot_table(\n",
    "    index=[\"Endkunde_NR\", \"Jahr\"],\n",
    "    columns=\"KW_2\",\n",
    "    values=\"Res_prcJahr\",\n",
    "    aggfunc=\"sum\",\n",
    "    fill_value=0,\n",
    ")\n",
    "\n",
    "# drop years with no reservations\n",
    "bd_res_prc_2w_data = bd_res_prc_2w_data.loc[bd_res_prc_2w_data.sum(axis=\"columns\") > 0]\n",
    "\n",
    "bd_res_prc_2w_data.head(12)"
   ]
  },
  {
   "cell_type": "markdown",
   "metadata": {},
   "source": [
    "### Prepare data: Aggregate over years by customer"
   ]
  },
  {
   "cell_type": "code",
   "execution_count": null,
   "metadata": {},
   "outputs": [],
   "source": [
    "ek_2w_prc_mean = (\n",
    "    bd_res_prc_2w_data.reset_index()\n",
    "    .drop(\"Jahr\", axis=\"columns\")\n",
    "    .groupby(\"Endkunde_NR\")\n",
    "    .agg(\"mean\")\n",
    ")\n",
    "\n",
    "# correct rowsums to 100\n",
    "ek_2w_prc_mean = (normalize_rows(ek_2w_prc_mean) * 100)\n",
    "\n",
    "ek_2w_prc_mean_stack = (\n",
    "    ek_2w_prc_mean.stack()\n",
    "    .reset_index()\n",
    "    .set_axis([\"Endkunde_NR\", \"KW_2\", \"prc_mean\"], axis=\"columns\", inplace=False)\n",
    ")\n",
    "\n",
    "display(ek_2w_prc_mean.round(1).head(10))"
   ]
  },
  {
   "cell_type": "markdown",
   "metadata": {},
   "source": [
    "### Pivot crv values by period"
   ]
  },
  {
   "cell_type": "code",
   "execution_count": null,
   "metadata": {},
   "outputs": [],
   "source": [
    "bd_res_crv_2w_data = (\n",
    "    bd_aggr_2w.loc[(bd_aggr_2w.Jahr.isin(valid_years))]\n",
    "    .pivot_table(\n",
    "        index=[\"Endkunde_NR\", \"Jahr\"],\n",
    "        columns=\"KW_2\",\n",
    "        values=\"Res_crvJahr\",\n",
    "        aggfunc=\"sum\",\n",
    "    )\n",
    "    .fillna(method=\"ffill\", axis=1)\n",
    "    .fillna(0)\n",
    ")\n",
    "\n",
    "# drop years with no reservations\n",
    "bd_res_crv_2w_data = bd_res_crv_2w_data.loc[bd_res_crv_2w_data.sum(axis=\"columns\") > 0]"
   ]
  },
  {
   "cell_type": "markdown",
   "metadata": {},
   "source": [
    "### Aggregate over years by customer"
   ]
  },
  {
   "cell_type": "code",
   "execution_count": null,
   "metadata": {},
   "outputs": [],
   "source": [
    "ek_2w_crv_mean = (\n",
    "    bd_res_crv_2w_data.reset_index()\n",
    "    .drop(\"Jahr\", axis=\"columns\")\n",
    "    .groupby(\"Endkunde_NR\")\n",
    "    .agg(\"mean\")\n",
    ")\n",
    "\n",
    "ek_2w_crv_mean_stack = (\n",
    "    ek_2w_crv_mean.stack()\n",
    "    .reset_index()\n",
    "    .set_axis([\"Endkunde_NR\", \"KW_2\", \"crv_mean\"], axis=\"columns\", inplace=False)\n",
    ")\n",
    "\n",
    "display(bd_res_crv_2w_data.head())\n",
    "display(ek_2w_crv_mean.head())\n",
    "ek_2w_crv_mean_stack.head()"
   ]
  },
  {
   "cell_type": "markdown",
   "metadata": {},
   "source": [
    "### Plot customer booking patterns (global)"
   ]
  },
  {
   "cell_type": "code",
   "execution_count": null,
   "metadata": {},
   "outputs": [],
   "source": [
    "import seaborn as sns\n",
    "%matplotlib inline\n",
    "\n",
    "sns.set()\n",
    "sns.catplot(\n",
    "    data=ek_2w_prc_mean_stack, x=\"KW_2\", y=\"prc_mean\", aspect=2.5, kind=\"boxen\"\n",
    ")"
   ]
  },
  {
   "cell_type": "code",
   "execution_count": null,
   "metadata": {},
   "outputs": [],
   "source": [
    "sns.catplot(\n",
    "    data=ek_2w_crv_mean_stack, x=\"KW_2\", y=\"crv_mean\", aspect=2.5, kind=\"boxen\"\n",
    ")"
   ]
  },
  {
   "cell_type": "markdown",
   "metadata": {
    "toc-hr-collapsed": false
   },
   "source": [
    "### Cluster booking patterns (percentage of yearly sum)\n",
    "\n",
    "Prepare data"
   ]
  },
  {
   "cell_type": "code",
   "execution_count": null,
   "metadata": {},
   "outputs": [],
   "source": [
    "X = ek_2w_prc_mean.to_numpy()\n",
    "\n",
    "X_columns = ek_2w_prc_mean.columns"
   ]
  },
  {
   "cell_type": "markdown",
   "metadata": {},
   "source": [
    "#### Normal KMeans"
   ]
  },
  {
   "cell_type": "code",
   "execution_count": null,
   "metadata": {},
   "outputs": [],
   "source": [
    "from sklearn.cluster import KMeans\n",
    "from sklearn.metrics import silhouette_score, calinski_harabasz_score"
   ]
  },
  {
   "cell_type": "code",
   "execution_count": null,
   "metadata": {},
   "outputs": [],
   "source": [
    "for n_clusters in range(5, 21):\n",
    "    kmeans_ = KMeans(\n",
    "        n_clusters=n_clusters,\n",
    "        random_state=0,\n",
    "        n_jobs=-1\n",
    "    )\n",
    "    cluster_labels_ = kmeans_.fit_predict(X)\n",
    "    ch_score = calinski_harabasz_score(X, cluster_labels_)\n",
    "    sil_score = silhouette_score(X, cluster_labels_)\n",
    "    print(\n",
    "        f\"For n_clusters = {n_clusters}: Silhouette_score = {sil_score},  CH score = {ch_score}\"\n",
    "    )"
   ]
  },
  {
   "cell_type": "code",
   "execution_count": null,
   "metadata": {},
   "outputs": [],
   "source": [
    "nkmeans = KMeans(n_clusters=15, random_state=0, verbose=1, n_jobs=-1)\n",
    "\n",
    "prc_nkmeans_labels = nkmeans.fit_predict(X)"
   ]
  },
  {
   "cell_type": "markdown",
   "metadata": {},
   "source": [
    "Show cluster centroids sorted by cluster size (number of rows)"
   ]
  },
  {
   "cell_type": "code",
   "execution_count": null,
   "metadata": {},
   "outputs": [],
   "source": [
    "import seaborn as sns\n",
    "import matplotlib.pyplot as plt\n",
    "\n",
    "nkmeans_clusters = pd.DataFrame(data=nkmeans.cluster_centers_, columns=X_columns).loc[\n",
    "    pd.Series(prc_nkmeans_labels).value_counts().index\n",
    "]\n",
    "\n",
    "plt.figure(figsize=(20, 10))\n",
    "sns.heatmap(nkmeans_clusters, annot=True, vmin=1, vmax=5)"
   ]
  },
  {
   "cell_type": "markdown",
   "metadata": {},
   "source": [
    "Cluster sizes"
   ]
  },
  {
   "cell_type": "code",
   "execution_count": null,
   "metadata": {},
   "outputs": [],
   "source": [
    "pd.Series(prc_nkmeans_labels).value_counts()"
   ]
  },
  {
   "cell_type": "markdown",
   "metadata": {},
   "source": [
    "Plot scaled bookings by cluster"
   ]
  },
  {
   "cell_type": "code",
   "execution_count": null,
   "metadata": {},
   "outputs": [],
   "source": [
    "plot_data = ek_2w_prc_mean_stack.merge(\n",
    "    pd.Series(data=prc_nkmeans_labels, index=ek_2w_prc_mean.index, name=\"cluster\"),\n",
    "    on=\"Endkunde_NR\",\n",
    ")\n",
    "\n",
    "sns.catplot(\n",
    "    data=plot_data,\n",
    "    x=\"KW_2\",\n",
    "    y=\"prc_mean\",\n",
    "    aspect=1.1,\n",
    "    kind=\"boxen\",\n",
    "    col=\"cluster\",\n",
    "    col_wrap=4,\n",
    "    col_order=pd.Series(prc_nkmeans_labels).value_counts().index,  # order by cluster size\n",
    "    height=4,\n",
    ")"
   ]
  },
  {
   "cell_type": "markdown",
   "metadata": {
    "toc-hr-collapsed": false
   },
   "source": [
    "### Cluster booking patterns (cumulative percentage of yearly sum)\n",
    "\n",
    "Prepare data"
   ]
  },
  {
   "cell_type": "code",
   "execution_count": null,
   "metadata": {},
   "outputs": [],
   "source": [
    "X = ek_2w_crv_mean.to_numpy()\n",
    "\n",
    "X_columns = ek_2w_crv_mean.columns"
   ]
  },
  {
   "cell_type": "markdown",
   "metadata": {},
   "source": [
    "#### Normal KMeans"
   ]
  },
  {
   "cell_type": "code",
   "execution_count": null,
   "metadata": {},
   "outputs": [],
   "source": [
    "from sklearn.cluster import KMeans\n",
    "from sklearn.metrics import silhouette_score, calinski_harabasz_score"
   ]
  },
  {
   "cell_type": "code",
   "execution_count": null,
   "metadata": {},
   "outputs": [],
   "source": [
    "for n_clusters in range(3, 21):\n",
    "    kmeans_ = KMeans(\n",
    "        n_clusters=n_clusters,\n",
    "        random_state=0,\n",
    "        n_jobs=-1\n",
    "    )\n",
    "    cluster_labels_ = kmeans_.fit_predict(X)\n",
    "    ch_score = calinski_harabasz_score(X, cluster_labels_)\n",
    "    sil_score = silhouette_score(X, cluster_labels_)\n",
    "    print(\n",
    "        f\"For n_clusters = {n_clusters}: Silhouette_score = {sil_score},  CH score = {ch_score}\"\n",
    "    )"
   ]
  },
  {
   "cell_type": "code",
   "execution_count": null,
   "metadata": {},
   "outputs": [],
   "source": [
    "nkmeans = KMeans(n_clusters=15, random_state=0, verbose=1, n_jobs=-1)\n",
    "\n",
    "crv_nkmeans_labels = nkmeans.fit_predict(X)"
   ]
  },
  {
   "cell_type": "markdown",
   "metadata": {},
   "source": [
    "Show cluster centroids sorted by cluster size (number of rows)"
   ]
  },
  {
   "cell_type": "code",
   "execution_count": null,
   "metadata": {},
   "outputs": [],
   "source": [
    "import seaborn as sns\n",
    "import matplotlib.pyplot as plt\n",
    "\n",
    "nkmeans_clusters = pd.DataFrame(data=nkmeans.cluster_centers_, columns=X_columns).loc[\n",
    "    pd.Series(crv_nkmeans_labels).value_counts().index\n",
    "]\n",
    "\n",
    "plt.figure(figsize=(20, 10))\n",
    "sns.heatmap(nkmeans_clusters, annot=True)"
   ]
  },
  {
   "cell_type": "markdown",
   "metadata": {},
   "source": [
    "Cluster sizes"
   ]
  },
  {
   "cell_type": "code",
   "execution_count": null,
   "metadata": {},
   "outputs": [],
   "source": [
    "pd.Series(crv_nkmeans_labels).value_counts()"
   ]
  },
  {
   "cell_type": "markdown",
   "metadata": {},
   "source": [
    "Plot scaled bookings by cluster"
   ]
  },
  {
   "cell_type": "code",
   "execution_count": null,
   "metadata": {},
   "outputs": [],
   "source": [
    "plot_data = ek_2w_prc_mean_stack.merge(\n",
    "    pd.Series(data=crv_nkmeans_labels, index=ek_2w_crv_mean.index, name=\"cluster\"),\n",
    "    on=\"Endkunde_NR\",\n",
    ")\n",
    "\n",
    "sns.catplot(\n",
    "    data=plot_data,\n",
    "    x=\"KW_2\",\n",
    "    y=\"prc_mean\",\n",
    "    aspect=1.5,\n",
    "    kind=\"boxen\",\n",
    "    col=\"cluster\",\n",
    "    col_wrap=3,\n",
    "    col_order=pd.Series(crv_nkmeans_labels).value_counts().index, # order by cluster size\n",
    "    height=4,\n",
    ")"
   ]
  },
  {
   "cell_type": "markdown",
   "metadata": {},
   "source": [
    "# PCA on Customers"
   ]
  },
  {
   "cell_type": "markdown",
   "metadata": {},
   "source": [
    "### Prepare Data"
   ]
  },
  {
   "cell_type": "code",
   "execution_count": null,
   "metadata": {},
   "outputs": [],
   "source": [
    "X = ek_2w_crv_mean.to_numpy()\n",
    "X_columns = ek_2w_crv_mean.columns\n",
    "X_index = ek_2w_crv_mean.index\n",
    "\n",
    "y = crv_nkmeans_labels"
   ]
  },
  {
   "cell_type": "markdown",
   "metadata": {},
   "source": [
    "### Calculate standard PCA with 4 components"
   ]
  },
  {
   "cell_type": "code",
   "execution_count": null,
   "metadata": {},
   "outputs": [],
   "source": [
    "from sklearn.decomposition import PCA\n",
    "\n",
    "pca = PCA(n_components=4, random_state=0)\n",
    "X_pca = pca.fit_transform(X)"
   ]
  },
  {
   "cell_type": "code",
   "execution_count": null,
   "metadata": {},
   "outputs": [],
   "source": [
    "pca.explained_variance_ratio_"
   ]
  },
  {
   "cell_type": "code",
   "execution_count": null,
   "metadata": {},
   "outputs": [],
   "source": [
    "pca.components_"
   ]
  },
  {
   "cell_type": "markdown",
   "metadata": {},
   "source": [
    "### Plot K-means clusters against principal components"
   ]
  },
  {
   "cell_type": "code",
   "execution_count": null,
   "metadata": {},
   "outputs": [],
   "source": [
    "plot_data = pd.DataFrame(X_pca, index=X_index, columns=range(1, pca.n_components + 1))\n",
    "plot_data[\"clusters\"] = y\n",
    "sns.set(style=\"ticks\")\n",
    "sns.pairplot(data=plot_data, hue=\"clusters\", plot_kws={\"alpha\": 0.4})"
   ]
  },
  {
   "cell_type": "markdown",
   "metadata": {},
   "source": [
    "# Clustering Customer Booking Years"
   ]
  },
  {
   "cell_type": "markdown",
   "metadata": {},
   "source": [
    "### Prepare data: Pivot prc values by period"
   ]
  },
  {
   "cell_type": "code",
   "execution_count": null,
   "metadata": {},
   "outputs": [],
   "source": [
    "bd_res_prc_2w_data = bd_aggr_2w.loc[(bd_aggr_2w.Jahr.isin(valid_years))].pivot_table(\n",
    "    index=[\"Endkunde_NR\", \"Jahr\"],\n",
    "    columns=\"KW_2\",\n",
    "    values=\"Res_prcJahr\",\n",
    "    aggfunc=\"sum\",\n",
    "    fill_value=0,\n",
    ")\n",
    "\n",
    "# drop years with no reservations\n",
    "bd_res_prc_2w_data = bd_res_prc_2w_data.loc[bd_res_prc_2w_data.sum(axis=\"columns\") > 0]\n",
    "\n",
    "bd_res_prc_2w_data_stack = bd_res_prc_2w_data.stack()\n",
    "\n",
    "bd_res_prc_2w_data.head(12)"
   ]
  },
  {
   "cell_type": "code",
   "execution_count": null,
   "metadata": {},
   "outputs": [],
   "source": [
    "X = bd_res_prc_2w_data.to_numpy()\n",
    "\n",
    "X_columns = bd_res_prc_2w_data.columns\n",
    "X_index = bd_res_prc_2w_data.index"
   ]
  },
  {
   "cell_type": "markdown",
   "metadata": {},
   "source": [
    "#### Normal KMeans"
   ]
  },
  {
   "cell_type": "code",
   "execution_count": null,
   "metadata": {},
   "outputs": [],
   "source": [
    "from sklearn.cluster import KMeans\n",
    "from sklearn.metrics import silhouette_score, calinski_harabasz_score"
   ]
  },
  {
   "cell_type": "code",
   "execution_count": null,
   "metadata": {},
   "outputs": [],
   "source": [
    "for n_clusters in range(25, 31):\n",
    "    kmeans_ = KMeans(\n",
    "        n_clusters=n_clusters,\n",
    "        random_state=0,\n",
    "        n_jobs=-1\n",
    "    )\n",
    "    cluster_labels_ = kmeans_.fit_predict(X)\n",
    "    ch_score = calinski_harabasz_score(X, cluster_labels_)\n",
    "    sil_score = silhouette_score(X, cluster_labels_)\n",
    "    print(\n",
    "        f\"For n_clusters = {n_clusters}: Silhouette_score = {sil_score},  CH score = {ch_score}\"\n",
    "    )"
   ]
  },
  {
   "cell_type": "code",
   "execution_count": null,
   "metadata": {},
   "outputs": [],
   "source": [
    "nkmeans = KMeans(n_clusters=27, random_state=0, verbose=1, n_jobs=-1)\n",
    "\n",
    "yr_prc_nkmeans_labels = nkmeans.fit_predict(X)"
   ]
  },
  {
   "cell_type": "code",
   "execution_count": null,
   "metadata": {},
   "outputs": [],
   "source": [
    "import seaborn as sns\n",
    "import matplotlib.pyplot as plt\n",
    "\n",
    "yr_prc_nkmeans_clusters = pd.DataFrame(data=nkmeans.cluster_centers_, columns=X_columns).loc[\n",
    "    pd.Series(yr_prc_nkmeans_labels).value_counts().index\n",
    "]\n",
    "\n",
    "plt.figure(figsize=(25, 16))\n",
    "sns.heatmap(yr_prc_nkmeans_clusters, annot=True, vmin=0, vmax=7)"
   ]
  },
  {
   "cell_type": "code",
   "execution_count": null,
   "metadata": {},
   "outputs": [],
   "source": [
    "pd.Series(yr_prc_nkmeans_labels).value_counts() # / yr_prc_nkmeans_labels.shape[0]"
   ]
  },
  {
   "cell_type": "code",
   "execution_count": null,
   "metadata": {},
   "outputs": [],
   "source": [
    "plot_data = (\n",
    "    pd.DataFrame.from_dict({\"prc\": bd_res_prc_2w_data_stack})\n",
    "    .reset_index()\n",
    "    .merge(\n",
    "        pd.Series(\n",
    "            data=yr_prc_nkmeans_labels, index=bd_res_prc_2w_data.index, name=\"cluster\"\n",
    "        ),\n",
    "        on=[\"Endkunde_NR\", \"Jahr\"],\n",
    "    )\n",
    ")\n",
    "\n",
    "sns.catplot(\n",
    "    data=plot_data,\n",
    "    x=\"KW_2\",\n",
    "    y=\"prc\",\n",
    "    aspect=1.5,\n",
    "    kind=\"boxen\",\n",
    "    col=\"cluster\",\n",
    "    col_wrap=3,\n",
    "    height=4,\n",
    ")"
   ]
  },
  {
   "cell_type": "markdown",
   "metadata": {},
   "source": [
    "### Clusters matched to customers"
   ]
  },
  {
   "cell_type": "code",
   "execution_count": null,
   "metadata": {},
   "outputs": [],
   "source": [
    "ek_prc_cls = pd.crosstab(\n",
    "    index=bd_res_prc_2w_data.reset_index()[\"Endkunde_NR\"],\n",
    "    columns=pd.Series(yr_prc_nkmeans_labels, name=\"cluster\"),\n",
    ")\n",
    "\n",
    "ek_prc_cls_yr_cnt_ = ek_prc_cls.copy()\n",
    "\n",
    "\n",
    "def cls_list(s):\n",
    "    return list(s.loc[s > 0].index.values)\n",
    "\n",
    "\n",
    "def main_cls_list(s):\n",
    "    return list(s.loc[s == np.max(s)].index.values)\n",
    "\n",
    "\n",
    "ek_prc_cls = ek_prc_cls.assign(\n",
    "    n_yr=ek_prc_cls_yr_cnt_.sum(axis=\"columns\"),\n",
    "    n_cls=ek_prc_cls_yr_cnt_.where(ek_prc_cls > 0).count(axis=\"columns\"),\n",
    "    cls=ek_prc_cls_yr_cnt_.apply(cls_list, axis=\"columns\"),\n",
    "    main_cls=ek_prc_cls_yr_cnt_.apply(main_cls_list, axis=\"columns\"),\n",
    ")\n",
    "ek_prc_cls[\"n_main_cls\"] = ek_prc_cls[\"main_cls\"].apply(len)\n",
    "\n",
    "ek_prc_cls"
   ]
  },
  {
   "cell_type": "markdown",
   "metadata": {},
   "source": [
    "### Customers that can be related to 1 or 2 clusters"
   ]
  },
  {
   "cell_type": "code",
   "execution_count": null,
   "metadata": {},
   "outputs": [],
   "source": [
    "max_main_cls = 2\n",
    "\n",
    "ek_clust_scoring = ek_prc_cls.query('n_main_cls < n_cls and n_main_cls <= @max_main_cls')[['main_cls']]"
   ]
  },
  {
   "cell_type": "markdown",
   "metadata": {},
   "source": [
    "### Prepare data: Pivot crv values by period"
   ]
  },
  {
   "cell_type": "code",
   "execution_count": null,
   "metadata": {},
   "outputs": [],
   "source": [
    "bd_res_crv_2w_data = (\n",
    "    bd_aggr_2w.loc[(bd_aggr_2w.Jahr.isin(valid_years))]\n",
    "    .pivot_table(\n",
    "        index=[\"Endkunde_NR\", \"Jahr\"],\n",
    "        columns=\"KW_2\",\n",
    "        values=\"Res_crvJahr\",\n",
    "        aggfunc=\"sum\",\n",
    "    )\n",
    "    .fillna(method=\"ffill\", axis=1)\n",
    "    .fillna(0)\n",
    ")\n",
    "\n",
    "# drop years with no reservations\n",
    "bd_res_crv_2w_data = bd_res_crv_2w_data.loc[bd_res_crv_2w_data.sum(axis=\"columns\") > 0]\n",
    "\n",
    "bd_res_crv_2w_data_stack = bd_res_crv_2w_data.stack()\n",
    "\n",
    "bd_res_crv_2w_data.head(12)"
   ]
  },
  {
   "cell_type": "markdown",
   "metadata": {},
   "source": [
    "### Prepare for clustering"
   ]
  },
  {
   "cell_type": "code",
   "execution_count": null,
   "metadata": {},
   "outputs": [],
   "source": [
    "X = bd_res_crv_2w_data.to_numpy()\n",
    "\n",
    "X_columns = bd_res_crv_2w_data.columns\n",
    "X_index = bd_res_crv_2w_data.index"
   ]
  },
  {
   "cell_type": "markdown",
   "metadata": {},
   "source": [
    "#### Normal KMeans"
   ]
  },
  {
   "cell_type": "code",
   "execution_count": null,
   "metadata": {},
   "outputs": [],
   "source": [
    "from sklearn.cluster import KMeans\n",
    "from sklearn.metrics import silhouette_score, calinski_harabasz_score"
   ]
  },
  {
   "cell_type": "code",
   "execution_count": null,
   "metadata": {},
   "outputs": [],
   "source": [
    "for n_clusters in [15, 25, 35, 40]:\n",
    "    kmeans_ = KMeans(\n",
    "        n_clusters=n_clusters,\n",
    "        random_state=0,\n",
    "        n_jobs=-1\n",
    "    )\n",
    "    cluster_labels_ = kmeans_.fit_predict(X)\n",
    "    ch_score = calinski_harabasz_score(X, cluster_labels_)\n",
    "    sil_score = silhouette_score(X, cluster_labels_)\n",
    "    print(\n",
    "        f\"For n_clusters = {n_clusters}: Silhouette_score = {sil_score},  CH score = {ch_score}\"\n",
    "    )"
   ]
  },
  {
   "cell_type": "markdown",
   "metadata": {},
   "source": [
    "```\n",
    "For n_clusters = 5: Silhouette_score = 0.3049945347740261,  CH score = 29630.89896114061\n",
    "For n_clusters = 10: Silhouette_score = 0.366230862992324,  CH score = 26973.062027368196\n",
    "For n_clusters = 15: Silhouette_score = 0.40334656127747526,  CH score = 25417.006073311764\n",
    "For n_clusters = 20: Silhouette_score = 0.44202548618962784,  CH score = 24818.708849953175\n",
    "For n_clusters = 25: Silhouette_score = 0.5033501558327148,  CH score = 24748.31007457299\n",
    "For n_clusters = 30: Silhouette_score = 0.5602936199726821,  CH score = 25025.39923837368\n",
    "For n_clusters = 35: Silhouette_score = 0.6095264482491675,  CH score = 26642.345879735167\n",
    "For n_clusters = 40: Silhouette_score = 0.6171105582735361,  CH score = 26586.30470955651\n",
    "```"
   ]
  },
  {
   "cell_type": "code",
   "execution_count": null,
   "metadata": {},
   "outputs": [],
   "source": [
    "nkmeans = KMeans(n_clusters=27, random_state=0, verbose=1, n_jobs=-1)\n",
    "\n",
    "yr_crv_nkmeans_labels = nkmeans.fit_predict(X)"
   ]
  },
  {
   "cell_type": "markdown",
   "metadata": {},
   "source": [
    "### Show cluster centroids"
   ]
  },
  {
   "cell_type": "code",
   "execution_count": null,
   "metadata": {},
   "outputs": [],
   "source": [
    "import seaborn as sns\n",
    "import matplotlib.pyplot as plt\n",
    "\n",
    "yr_nkmeans_clusters = pd.DataFrame(data=nkmeans.cluster_centers_, columns=X_columns)\n",
    "\n",
    "plt.figure(figsize=(25, 16))\n",
    "sns.heatmap(yr_nkmeans_clusters, annot=True, vmin=5)"
   ]
  },
  {
   "cell_type": "markdown",
   "metadata": {},
   "source": [
    "### Cluster sizes"
   ]
  },
  {
   "cell_type": "code",
   "execution_count": null,
   "metadata": {},
   "outputs": [],
   "source": [
    "pd.Series(yr_crv_nkmeans_labels).value_counts()"
   ]
  },
  {
   "cell_type": "code",
   "execution_count": null,
   "metadata": {},
   "outputs": [],
   "source": [
    "plot_data = (\n",
    "    pd.DataFrame.from_dict({\"prc\": bd_res_prc_2w_data_stack})\n",
    "    .reset_index()\n",
    "    .merge(\n",
    "        pd.Series(\n",
    "            data=yr_crv_nkmeans_labels, index=bd_res_crv_2w_data.index, name=\"cluster\"\n",
    "        ),\n",
    "        on=[\"Endkunde_NR\", \"Jahr\"],\n",
    "    )\n",
    ")\n",
    "\n",
    "sns.catplot(\n",
    "    data=plot_data,\n",
    "    x=\"KW_2\",\n",
    "    y=\"prc\",\n",
    "    aspect=1.5,\n",
    "    kind=\"boxen\",\n",
    "    col=\"cluster\",\n",
    "    col_wrap=3,\n",
    "    height=4,\n",
    ")"
   ]
  },
  {
   "cell_type": "markdown",
   "metadata": {},
   "source": [
    "### Clusters matched to customers"
   ]
  },
  {
   "cell_type": "code",
   "execution_count": null,
   "metadata": {},
   "outputs": [],
   "source": [
    "ek_cls = pd.crosstab(\n",
    "    index=bd_res_crv_2w_data.reset_index()[\"Endkunde_NR\"],\n",
    "    columns=pd.Series(yr_crv_nkmeans_labels, name=\"cluster\"),\n",
    ")\n",
    "\n",
    "ek_cls_yr_cnt_ = ek_cls.copy()\n",
    "\n",
    "\n",
    "def cls_list(s):\n",
    "    return list(s.loc[s > 0].index.values)\n",
    "\n",
    "\n",
    "def main_cls_list(s):\n",
    "    return list(s.loc[s == np.max(s)].index.values)\n",
    "\n",
    "\n",
    "ek_cls = ek_cls.assign(\n",
    "    n_yr=ek_cls_yr_cnt_.sum(axis=\"columns\"),\n",
    "    n_cls=ek_cls_yr_cnt_.where(ek_cls > 0).count(axis=\"columns\"),\n",
    "    cls=ek_cls_yr_cnt_.apply(cls_list, axis=\"columns\"),\n",
    "    main_cls=ek_cls_yr_cnt_.apply(main_cls_list, axis=\"columns\"),\n",
    ")\n",
    "ek_cls[\"n_main_cls\"] = ek_cls[\"main_cls\"].apply(len)\n",
    "\n",
    "ek_cls"
   ]
  },
  {
   "cell_type": "markdown",
   "metadata": {},
   "source": [
    "### Customers that can be assigned to 1 or 2 clusters"
   ]
  },
  {
   "cell_type": "code",
   "execution_count": null,
   "metadata": {},
   "outputs": [],
   "source": [
    "max_main_cls = 2\n",
    "\n",
    "yr_clust_scoring = ek_cls.query('n_main_cls < n_cls and n_main_cls <= @max_main_cls')[['main_cls']]"
   ]
  },
  {
   "cell_type": "markdown",
   "metadata": {},
   "source": [
    "# Compare scoring between customer layer and year layer"
   ]
  },
  {
   "cell_type": "code",
   "execution_count": null,
   "metadata": {},
   "outputs": [],
   "source": [
    "len(np.unique(ek_clust_scoring.index.values))"
   ]
  },
  {
   "cell_type": "code",
   "execution_count": null,
   "metadata": {},
   "outputs": [],
   "source": [
    "len(np.unique(yr_clust_scoring.index.values))"
   ]
  },
  {
   "cell_type": "code",
   "execution_count": null,
   "metadata": {},
   "outputs": [],
   "source": [
    "pd.DataFrame({\"ek\": np.unique(ek_clust_scoring.index.values)}).merge(\n",
    "    pd.DataFrame({\"ek\": np.unique(yr_clust_scoring.index.values)}),\n",
    "    how=\"outer\",\n",
    "    on=\"ek\",\n",
    "    indicator=True,\n",
    ")[\"_merge\"].value_counts()"
   ]
  },
  {
   "cell_type": "markdown",
   "metadata": {},
   "source": [
    "# Cluster Scoring vs. Auftragsart"
   ]
  },
  {
   "cell_type": "code",
   "execution_count": null,
   "metadata": {},
   "outputs": [],
   "source": [
    "AufArt_Clust = (\n",
    "    ek_auftragsart_scoring.merge(yr_clust_scoring.explode(column=\"main_cls\"), how=\"inner\", on=\"Endkunde_NR\")\n",
    "    .rename(columns={\"main_cls\": \"Clust\"})\n",
    ")"
   ]
  },
  {
   "cell_type": "code",
   "execution_count": null,
   "metadata": {},
   "outputs": [],
   "source": [
    "pd.crosstab(columns=AufArt_Clust.AufArt, index=AufArt_Clust.Clust)"
   ]
  },
  {
   "cell_type": "code",
   "execution_count": null,
   "metadata": {},
   "outputs": [],
   "source": [
    "plt.figure(figsize=(16, 20))\n",
    "sns.heatmap(\n",
    "    data=np.log1p(pd.crosstab(columns=AufArt_Clust.AufArt, index=AufArt_Clust.Clust)),\n",
    "    annot=pd.crosstab(columns=AufArt_Clust.AufArt, index=AufArt_Clust.Clust),\n",
    "    fmt=\"d\"\n",
    ")"
   ]
  },
  {
   "cell_type": "markdown",
   "metadata": {},
   "source": [
    "# Cluster Scoring vs. Branchengruppe"
   ]
  },
  {
   "cell_type": "code",
   "execution_count": null,
   "metadata": {},
   "outputs": [],
   "source": [
    "BG_Clust = (\n",
    "    ek_branchen_scoring.merge(yr_clust_scoring.explode(column=\"main_cls\"), how=\"inner\", on=\"Endkunde_NR\")\n",
    "    .rename(columns={\"main_cls\": \"Clust\"})\n",
    ")"
   ]
  },
  {
   "cell_type": "code",
   "execution_count": null,
   "metadata": {},
   "outputs": [],
   "source": [
    "pd.crosstab(columns=BG_Clust.Clust, index=BG_Clust.BG, margins=True)"
   ]
  },
  {
   "cell_type": "code",
   "execution_count": null,
   "metadata": {},
   "outputs": [],
   "source": [
    "plt.figure(figsize=(16, 32))\n",
    "sns.heatmap(\n",
    "    data=normalize_rows(pd.crosstab(columns=BG_Clust.Clust, index=BG_Clust.BG)),\n",
    "    annot=pd.crosstab(columns=BG_Clust.Clust, index=BG_Clust.BG),\n",
    "    fmt=\"d\",\n",
    "    vmax=0.4\n",
    ")"
   ]
  },
  {
   "cell_type": "markdown",
   "metadata": {},
   "source": [
    "# Cluster Scoring vs. Kanton"
   ]
  },
  {
   "cell_type": "code",
   "execution_count": null,
   "metadata": {},
   "outputs": [],
   "source": [
    "with project_dir('Raumgliederung'):\n",
    "    ek_region = load_bin('ek_region.feather')"
   ]
  },
  {
   "cell_type": "code",
   "execution_count": null,
   "metadata": {},
   "outputs": [],
   "source": [
    "ek_region.head()"
   ]
  },
  {
   "cell_type": "code",
   "execution_count": null,
   "metadata": {},
   "outputs": [],
   "source": [
    "Kt_Clust = (\n",
    "    ek_region[[\"Endkunde_NR\", \"KANTON\"]]\n",
    "    .merge(yr_clust_scoring.explode(column=\"main_cls\"), how=\"inner\", on=\"Endkunde_NR\")\n",
    "    .rename(columns={\"main_cls\": \"Clust\"})\n",
    ")"
   ]
  },
  {
   "cell_type": "code",
   "execution_count": null,
   "metadata": {},
   "outputs": [],
   "source": [
    "plt.figure(figsize=(16, 16))\n",
    "sns.heatmap(\n",
    "    data=normalize_rows(pd.crosstab(columns=Kt_Clust.Clust, index=Kt_Clust.KANTON)),\n",
    "    annot=pd.crosstab(columns=Kt_Clust.Clust, index=Kt_Clust.KANTON),\n",
    "    fmt=\"d\",\n",
    "    #vmax=0.4\n",
    ")"
   ]
  },
  {
   "cell_type": "markdown",
   "metadata": {},
   "source": [
    "# Cluster Scoring vs. Grossregion"
   ]
  },
  {
   "cell_type": "code",
   "execution_count": null,
   "metadata": {},
   "outputs": [],
   "source": [
    "GrReg_Clust = (\n",
    "    ek_region[[\"Endkunde_NR\", \"GROSSREGION\"]]\n",
    "    .merge(yr_clust_scoring.explode(column=\"main_cls\"), how=\"inner\", on=\"Endkunde_NR\")\n",
    "    .rename(columns={\"main_cls\": \"Clust\"})\n",
    ")"
   ]
  },
  {
   "cell_type": "code",
   "execution_count": null,
   "metadata": {},
   "outputs": [],
   "source": [
    "plt.figure(figsize=(16, 12))\n",
    "sns.heatmap(\n",
    "    data=normalize_rows(pd.crosstab(columns=GrReg_Clust.Clust, index=GrReg_Clust.GROSSREGION)),\n",
    "    annot=pd.crosstab(columns=GrReg_Clust.Clust, index=GrReg_Clust.GROSSREGION),\n",
    "    fmt=\"d\",\n",
    ")"
   ]
  },
  {
   "cell_type": "markdown",
   "metadata": {},
   "source": [
    "# Cluster Scoring vs. Region"
   ]
  },
  {
   "cell_type": "code",
   "execution_count": null,
   "metadata": {},
   "outputs": [],
   "source": [
    "Reg_Clust = (\n",
    "    ek_region[[\"Endkunde_NR\", \"REGION\"]]\n",
    "    .merge(yr_clust_scoring.explode(column=\"main_cls\"), how=\"inner\", on=\"Endkunde_NR\")\n",
    "    .rename(columns={\"main_cls\": \"Clust\"})\n",
    ")"
   ]
  },
  {
   "cell_type": "code",
   "execution_count": null,
   "metadata": {},
   "outputs": [],
   "source": [
    "plt.figure(figsize=(16, 32))\n",
    "sns.heatmap(\n",
    "    data=normalize_rows(pd.crosstab(columns=Reg_Clust.Clust, index=Reg_Clust.REGION)),\n",
    "    annot=pd.crosstab(columns=Reg_Clust.Clust, index=Reg_Clust.REGION),\n",
    "    fmt=\"d\",\n",
    ")"
   ]
  },
  {
   "cell_type": "markdown",
   "metadata": {},
   "source": [
    "# Cluster Scoring vs. Netto-Umsatz"
   ]
  },
  {
   "cell_type": "code",
   "execution_count": null,
   "metadata": {},
   "outputs": [],
   "source": [
    "Netto_Clust = (\n",
    "    ek_info_current[[\"Endkunde_NR\", \"netto_cat\"]]\n",
    "    .merge(yr_clust_scoring.explode(column=\"main_cls\"), how=\"inner\", on=\"Endkunde_NR\")\n",
    "    .rename(columns={\"main_cls\": \"Clust\"})\n",
    ")"
   ]
  },
  {
   "cell_type": "code",
   "execution_count": null,
   "metadata": {},
   "outputs": [],
   "source": [
    "plt.figure(figsize=(16, 8))\n",
    "sns.heatmap(\n",
    "    data=normalize_rows(pd.crosstab(columns=Netto_Clust.Clust, index=Netto_Clust.netto_cat)),\n",
    "    annot=pd.crosstab(columns=Netto_Clust.Clust, index=Netto_Clust.netto_cat),\n",
    "    fmt=\"d\",\n",
    ")"
   ]
  },
  {
   "cell_type": "markdown",
   "metadata": {},
   "source": [
    "# Map cluster scorings to periods, where appropriate"
   ]
  },
  {
   "cell_type": "markdown",
   "metadata": {},
   "source": [
    "## Years, clustered by prc"
   ]
  },
  {
   "cell_type": "code",
   "execution_count": null,
   "metadata": {},
   "outputs": [],
   "source": [
    "ek_clusters = (pd.DataFrame.from_dict({\"prc\": bd_res_prc_2w_data_stack})\n",
    "    .reset_index()\n",
    "    .merge(\n",
    "        pd.Series(\n",
    "            data=yr_prc_nkmeans_labels, index=bd_res_prc_2w_data.index, name=\"yr_prc_clust\"\n",
    "        ),\n",
    "        on=[\"Endkunde_NR\", \"Jahr\"],\n",
    "    ))\n",
    "\n",
    "ek_clusters.head()"
   ]
  }
 ],
 "metadata": {
  "kernelspec": {
   "display_name": "Python 3",
   "language": "python",
   "name": "python3"
  },
  "language_info": {
   "codemirror_mode": {
    "name": "ipython",
    "version": 3
   },
   "file_extension": ".py",
   "mimetype": "text/x-python",
   "name": "python",
   "nbconvert_exporter": "python",
   "pygments_lexer": "ipython3",
   "version": "3.7.4"
  },
  "toc-autonumbering": false,
  "toc-showcode": false,
  "toc-showmarkdowntxt": false
 },
 "nbformat": 4,
 "nbformat_minor": 4
}
