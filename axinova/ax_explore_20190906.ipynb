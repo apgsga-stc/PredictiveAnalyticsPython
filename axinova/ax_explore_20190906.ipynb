{
 "cells": [
  {
   "cell_type": "code",
   "execution_count": 11,
   "metadata": {
    "pycharm": {
     "is_executing": false
    }
   },
   "outputs": [
    {
     "name": "stdout",
     "output_type": "stream",
     "text": [
      "The autoreload extension is already loaded. To reload it, use:\n",
      "  %reload_ext autoreload\n"
     ]
    }
   ],
   "source": [
    "# make imports from pa_lib possible (parent directory of file's directory)\n",
    "import sys\n",
    "from pathlib import Path\n",
    "\n",
    "file_dir = Path.cwd()\n",
    "parent_dir = file_dir.parent\n",
    "sys.path.append(str(parent_dir))\n",
    "\n",
    "%load_ext autoreload\n",
    "%autoreload\n",
    "\n",
    "import pandas as pd\n",
    "import numpy as np\n",
    "\n",
    "from collections import namedtuple\n",
    "\n",
    "from pa_lib.file import (\n",
    "    project_dir,\n",
    "    load_bin,\n",
    "    write_xlsx,\n",
    "    store_bin,\n",
    ")\n",
    "from pa_lib.data import as_dtype, dtFactor, desc_col, lookup, clean_up_categoricals\n",
    "from pa_lib.util import collect, value, flatten, normalize_rows, list_items\n",
    "from pa_lib.log import time_log\n",
    "\n",
    "# display long columns completely, show more rows\n",
    "pd.set_option(\"display.max_colwidth\", 300)\n",
    "pd.set_option(\"display.max_rows\", 200)\n",
    "pd.set_option(\"display.max_columns\", 200)"
   ]
  },
  {
   "cell_type": "markdown",
   "metadata": {},
   "source": [
    "# Load data"
   ]
  },
  {
   "cell_type": "code",
   "execution_count": 12,
   "metadata": {
    "pycharm": {
     "is_executing": false
    }
   },
   "outputs": [
    {
     "name": "stdout",
     "output_type": "stream",
     "text": [
      "16:48:11 [INFO] Started loading binary file ...\n",
      "16:48:11 [INFO] Reading from file C:\\Users\\kpf\\data\\axinova\\ax_data.feather\n",
      "16:48:11 [INFO] ... finished loading binary file in 0.23s (0.73s CPU)\n",
      "16:48:11 [INFO] Started loading binary file ...\n",
      "16:48:11 [INFO] Reading from file C:\\Users\\kpf\\data\\axinova\\ax_var_struct.feather\n",
      "16:48:11 [INFO] ... finished loading binary file in 0.0s (0.0s CPU)\n",
      "16:48:11 [INFO] Started merging code numbers to data ...\n",
      "16:48:27 [INFO] ... finished merging code numbers to data in 16.29s (16.3s CPU)\n"
     ]
    }
   ],
   "source": [
    "with project_dir(\"axinova\"):\n",
    "    ax_data = load_bin(\"ax_data.feather\")\n",
    "    ax_var_struct = load_bin(\"ax_var_struct.feather\")\n",
    "\n",
    "with time_log(\"merging code numbers to data\"):\n",
    "    ax_data[\"Label_Nr\"] = lookup(\n",
    "        target_df=ax_var_struct,\n",
    "        target_col_name=\"Label_Nr\",\n",
    "        match_col=ax_data[[\"Variable\", \"Code\"]],\n",
    "        target_match_col_name=[\"Variable\", \"Label\"],\n",
    "    )"
   ]
  },
  {
   "cell_type": "code",
   "execution_count": 13,
   "metadata": {
    "pycharm": {
     "is_executing": false
    }
   },
   "outputs": [],
   "source": [
    "Variable = namedtuple(\"Variable\", [\"Label\", \"Codes\", \"Order\"])\n",
    "\n",
    "var_info = {}\n",
    "for var, data in ax_var_struct.groupby(\"Variable\"):\n",
    "    var_info[var] = Variable(\n",
    "        data[\"Variable_Label\"].max(),\n",
    "        data[\"Label\"].to_list(),\n",
    "        data[\"Label_Nr\"].to_list(),\n",
    "    )"
   ]
  },
  {
   "cell_type": "markdown",
   "metadata": {},
   "source": [
    "## Variable/Code table for output"
   ]
  },
  {
   "cell_type": "code",
   "execution_count": 14,
   "metadata": {
    "pycharm": {
     "is_executing": false
    }
   },
   "outputs": [],
   "source": [
    "var_info_tab = pd.DataFrame.from_records(\n",
    "    columns=[\"Variable\", \"Label\", \"Codes\", \"Order\"],\n",
    "    data=[\n",
    "        (\n",
    "            var,\n",
    "            var_info[var].Label,\n",
    "            \",\".join(var_info[var].Codes),\n",
    "            \",\".join(map(str, var_info[var].Order)),\n",
    "        )\n",
    "        for var in var_info\n",
    "    ],\n",
    "    index=\"Variable\",\n",
    ")"
   ]
  },
  {
   "cell_type": "code",
   "execution_count": 5,
   "metadata": {
    "pycharm": {
     "is_executing": false
    }
   },
   "outputs": [
    {
     "name": "stdout",
     "output_type": "stream",
     "text": [
      "16:02:52 [INFO] Started storing xlsx file ...\n",
      "16:02:52 [INFO] Writing to file C:\\Users\\kpf\\data\\axinova\\variable_info.xlsx\n",
      "16:02:52 [INFO] Written 11.2 KB\n",
      "16:02:52 [INFO] ... finished storing xlsx file in 0.07s (0.05s CPU)\n"
     ]
    }
   ],
   "source": [
    "with project_dir(\"axinova\"):\n",
    "    write_xlsx(var_info_tab, \"variable_info.xlsx\", sheet_name=\"Variables\")"
   ]
  },
  {
   "cell_type": "code",
   "execution_count": 15,
   "metadata": {
    "pycharm": {
     "is_executing": false
    }
   },
   "outputs": [],
   "source": [
    "def var_label(variable):\n",
    "    return var_info[variable].Label\n",
    "\n",
    "\n",
    "def var_codes(variable):\n",
    "    return var_info[variable].Codes"
   ]
  },
  {
   "cell_type": "code",
   "execution_count": 16,
   "metadata": {
    "pycharm": {
     "is_executing": false
    }
   },
   "outputs": [],
   "source": [
    "weekday_order = ax_data[\"DayOfWeek\"].cat.categories.to_list()\n",
    "workdays = weekday_order[:5]\n",
    "weekend = weekday_order[5:]\n",
    "ax_data[\"is_weekend\"] = ax_data[\"DayOfWeek\"].isin(weekend)\n",
    "\n",
    "timeSlot_order = ax_data[\"TimeSlot\"].cat.categories.to_list()\n",
    "day = timeSlot_order[1:]\n",
    "rush_hours = list_items(timeSlot_order, [1, 5])\n",
    "day_no_rush = list_items(timeSlot_order, [2, 3, 4, 6])\n",
    "ax_data[\"is_day\"] = ax_data[\"TimeSlot\"].isin(day)\n",
    "ax_data[\"is_rush\"] = ax_data[\"TimeSlot\"].isin(rush_hours)\n",
    "ax_data[\"is_day_no_rush\"] = ax_data[\"TimeSlot\"].isin(day_no_rush)\n",
    "\n",
    "ax_data.loc[ax_data[\"is_rush\"], \"TimeSlot_cat\"] = \"Day: Rush Hours\"\n",
    "ax_data.loc[ax_data[\"is_day_no_rush\"], \"TimeSlot_cat\"] = \"Day: no Rush Hours\"\n",
    "ax_data[\"TimeSlot_cat\"].fillna(\"Night\", inplace=True)\n",
    "\n",
    "stations_d = [\n",
    "    \"Aarau\",\n",
    "    \"Basel SBB\",\n",
    "    \"Bern\",\n",
    "    \"Biel/Bienne\",\n",
    "    \"Brig\",\n",
    "    \"Chur\",\n",
    "    \"Luzern\",\n",
    "    \"Olten\",\n",
    "    \"St. Gallen\",\n",
    "    \"Winterthur\",\n",
    "    \"Zug\",\n",
    "    \"Zürich Enge\",\n",
    "    \"Zürich Flughafen\",\n",
    "    \"Zürich Flughafen - Airside\",\n",
    "    \"Zürich Flughafen - Landside\",\n",
    "    \"Zürich HB\",\n",
    "    \"Zürich Hardbrücke\",\n",
    "    \"Zürich Oerlikon\",\n",
    "    \"Zürich Stadelhofen\",\n",
    "]\n",
    "stations_f = [\n",
    "    \"Biel/Bienne\",\n",
    "    \"Fribourg\",\n",
    "    \"Genève Aéroport\",\n",
    "    \"Genève Cornavin\",\n",
    "    \"Lausanne\",\n",
    "    \"M2\",\n",
    "    \"Neuchatel\",\n",
    "]\n",
    "stations_i = [\"Bellinzona\", \"Lugano\"]\n",
    "ax_data.loc[ax_data[\"Station\"].isin(stations_f), \"StationSprache\"] = \"Französisch\"\n",
    "ax_data.loc[ax_data[\"Station\"].isin(stations_i), \"StationSprache\"] = \"Italienisch\"\n",
    "ax_data.loc[ax_data[\"Station\"].isin(stations_d), \"StationSprache\"] = \"Deutsch\"\n",
    "\n",
    "ax_data = as_dtype(ax_data, dtFactor, incl_dtype=[\"bool\", \"object\"])"
   ]
  },
  {
   "cell_type": "code",
   "execution_count": 17,
   "metadata": {
    "pycharm": {
     "is_executing": false
    }
   },
   "outputs": [],
   "source": [
    "with value(ax_data[\"DayOfWeek\"].isin(weekend)) as weekend_rows:\n",
    "    ax_data_weekends = (\n",
    "        ax_data.loc[weekend_rows].pipe(clean_up_categoricals).reset_index(drop=True)\n",
    "    )\n",
    "    ax_data_workdays = (\n",
    "        ax_data.loc[~weekend_rows].pipe(clean_up_categoricals).reset_index(drop=True)\n",
    "    )"
   ]
  },
  {
   "cell_type": "code",
   "execution_count": 18,
   "metadata": {
    "pycharm": {
     "is_executing": false
    }
   },
   "outputs": [
    {
     "data": {
      "text/html": [
       "<div>\n",
       "<style scoped>\n",
       "    .dataframe tbody tr th:only-of-type {\n",
       "        vertical-align: middle;\n",
       "    }\n",
       "\n",
       "    .dataframe tbody tr th {\n",
       "        vertical-align: top;\n",
       "    }\n",
       "\n",
       "    .dataframe thead th {\n",
       "        text-align: right;\n",
       "    }\n",
       "</style>\n",
       "<table border=\"1\" class=\"dataframe\">\n",
       "  <thead>\n",
       "    <tr style=\"text-align: right;\">\n",
       "      <th></th>\n",
       "      <th>DTYPE</th>\n",
       "      <th>NULLS</th>\n",
       "      <th>UNIQUE</th>\n",
       "      <th>MEM</th>\n",
       "      <th>RANGE</th>\n",
       "    </tr>\n",
       "  </thead>\n",
       "  <tbody>\n",
       "    <tr>\n",
       "      <th>Station</th>\n",
       "      <td>category</td>\n",
       "      <td>0/9180072</td>\n",
       "      <td>27</td>\n",
       "      <td>8.8 MB</td>\n",
       "      <td>[Aarau,Zürich Stadelhofen]</td>\n",
       "    </tr>\n",
       "    <tr>\n",
       "      <th>DayOfWeek</th>\n",
       "      <td>category</td>\n",
       "      <td>0/9180072</td>\n",
       "      <td>7</td>\n",
       "      <td>8.8 MB</td>\n",
       "      <td>[Monday,Sunday]</td>\n",
       "    </tr>\n",
       "    <tr>\n",
       "      <th>Time</th>\n",
       "      <td>category</td>\n",
       "      <td>0/9180072</td>\n",
       "      <td>96</td>\n",
       "      <td>8.8 MB</td>\n",
       "      <td>[00:00 - 00:15,23:45 - 00:00]</td>\n",
       "    </tr>\n",
       "    <tr>\n",
       "      <th>Variable</th>\n",
       "      <td>category</td>\n",
       "      <td>0/9180072</td>\n",
       "      <td>117</td>\n",
       "      <td>8.8 MB</td>\n",
       "      <td>[g_220,nat_ausland]</td>\n",
       "    </tr>\n",
       "    <tr>\n",
       "      <th>Code</th>\n",
       "      <td>category</td>\n",
       "      <td>0/9180072</td>\n",
       "      <td>156</td>\n",
       "      <td>17.5 MB</td>\n",
       "      <td>[1 - 4 Flüge,Über den lokalen TV-Kabelanbieter (nicht Cablecom)]</td>\n",
       "    </tr>\n",
       "    <tr>\n",
       "      <th>Value</th>\n",
       "      <td>float64</td>\n",
       "      <td>0/9180072</td>\n",
       "      <td>495186</td>\n",
       "      <td>70.0 MB</td>\n",
       "      <td>[0.47903999999999997,58.059993773]</td>\n",
       "    </tr>\n",
       "    <tr>\n",
       "      <th>Year</th>\n",
       "      <td>category</td>\n",
       "      <td>0/9180072</td>\n",
       "      <td>1</td>\n",
       "      <td>8.8 MB</td>\n",
       "      <td>[2019,2019]</td>\n",
       "    </tr>\n",
       "    <tr>\n",
       "      <th>Month</th>\n",
       "      <td>category</td>\n",
       "      <td>0/9180072</td>\n",
       "      <td>6</td>\n",
       "      <td>8.8 MB</td>\n",
       "      <td>[05,10]</td>\n",
       "    </tr>\n",
       "    <tr>\n",
       "      <th>logValue</th>\n",
       "      <td>float64</td>\n",
       "      <td>0/9180072</td>\n",
       "      <td>495186</td>\n",
       "      <td>70.0 MB</td>\n",
       "      <td>[-0.7359711777508736,4.0614768513453585]</td>\n",
       "    </tr>\n",
       "    <tr>\n",
       "      <th>VarDesc</th>\n",
       "      <td>category</td>\n",
       "      <td>0/9180072</td>\n",
       "      <td>117</td>\n",
       "      <td>8.8 MB</td>\n",
       "      <td>[Abteilungs-/Teamleitung,kein Mobiltelefon]</td>\n",
       "    </tr>\n",
       "    <tr>\n",
       "      <th>TimeSlot</th>\n",
       "      <td>category</td>\n",
       "      <td>0/9180072</td>\n",
       "      <td>7</td>\n",
       "      <td>8.8 MB</td>\n",
       "      <td>[Nacht,Abend]</td>\n",
       "    </tr>\n",
       "    <tr>\n",
       "      <th>Hour</th>\n",
       "      <td>category</td>\n",
       "      <td>0/9180072</td>\n",
       "      <td>24</td>\n",
       "      <td>8.8 MB</td>\n",
       "      <td>[00,23]</td>\n",
       "    </tr>\n",
       "    <tr>\n",
       "      <th>is_weekend</th>\n",
       "      <td>category</td>\n",
       "      <td>0/9180072</td>\n",
       "      <td>2</td>\n",
       "      <td>8.8 MB</td>\n",
       "      <td>[False,True]</td>\n",
       "    </tr>\n",
       "    <tr>\n",
       "      <th>is_day</th>\n",
       "      <td>category</td>\n",
       "      <td>0/9180072</td>\n",
       "      <td>2</td>\n",
       "      <td>8.8 MB</td>\n",
       "      <td>[False,True]</td>\n",
       "    </tr>\n",
       "    <tr>\n",
       "      <th>is_rush</th>\n",
       "      <td>category</td>\n",
       "      <td>0/9180072</td>\n",
       "      <td>2</td>\n",
       "      <td>8.8 MB</td>\n",
       "      <td>[False,True]</td>\n",
       "    </tr>\n",
       "    <tr>\n",
       "      <th>is_day_no_rush</th>\n",
       "      <td>category</td>\n",
       "      <td>0/9180072</td>\n",
       "      <td>2</td>\n",
       "      <td>8.8 MB</td>\n",
       "      <td>[False,True]</td>\n",
       "    </tr>\n",
       "    <tr>\n",
       "      <th>TimeSlot_cat</th>\n",
       "      <td>category</td>\n",
       "      <td>0/9180072</td>\n",
       "      <td>3</td>\n",
       "      <td>8.8 MB</td>\n",
       "      <td>[Day: Rush Hours,Night]</td>\n",
       "    </tr>\n",
       "    <tr>\n",
       "      <th>StationSprache</th>\n",
       "      <td>category</td>\n",
       "      <td>0/9180072</td>\n",
       "      <td>3</td>\n",
       "      <td>8.8 MB</td>\n",
       "      <td>[Deutsch,Italienisch]</td>\n",
       "    </tr>\n",
       "    <tr>\n",
       "      <th>Label_Nr</th>\n",
       "      <td>int32</td>\n",
       "      <td>0/9180072</td>\n",
       "      <td>30</td>\n",
       "      <td>35.0 MB</td>\n",
       "      <td>[-2,27]</td>\n",
       "    </tr>\n",
       "  </tbody>\n",
       "</table>\n",
       "</div>"
      ],
      "text/plain": [
       "                   DTYPE      NULLS  UNIQUE      MEM  \\\n",
       "Station         category  0/9180072      27   8.8 MB   \n",
       "DayOfWeek       category  0/9180072       7   8.8 MB   \n",
       "Time            category  0/9180072      96   8.8 MB   \n",
       "Variable        category  0/9180072     117   8.8 MB   \n",
       "Code            category  0/9180072     156  17.5 MB   \n",
       "Value            float64  0/9180072  495186  70.0 MB   \n",
       "Year            category  0/9180072       1   8.8 MB   \n",
       "Month           category  0/9180072       6   8.8 MB   \n",
       "logValue         float64  0/9180072  495186  70.0 MB   \n",
       "VarDesc         category  0/9180072     117   8.8 MB   \n",
       "TimeSlot        category  0/9180072       7   8.8 MB   \n",
       "Hour            category  0/9180072      24   8.8 MB   \n",
       "is_weekend      category  0/9180072       2   8.8 MB   \n",
       "is_day          category  0/9180072       2   8.8 MB   \n",
       "is_rush         category  0/9180072       2   8.8 MB   \n",
       "is_day_no_rush  category  0/9180072       2   8.8 MB   \n",
       "TimeSlot_cat    category  0/9180072       3   8.8 MB   \n",
       "StationSprache  category  0/9180072       3   8.8 MB   \n",
       "Label_Nr           int32  0/9180072      30  35.0 MB   \n",
       "\n",
       "                                                                           RANGE  \n",
       "Station                                               [Aarau,Zürich Stadelhofen]  \n",
       "DayOfWeek                                                        [Monday,Sunday]  \n",
       "Time                                               [00:00 - 00:15,23:45 - 00:00]  \n",
       "Variable                                                     [g_220,nat_ausland]  \n",
       "Code            [1 - 4 Flüge,Über den lokalen TV-Kabelanbieter (nicht Cablecom)]  \n",
       "Value                                         [0.47903999999999997,58.059993773]  \n",
       "Year                                                                 [2019,2019]  \n",
       "Month                                                                    [05,10]  \n",
       "logValue                                [-0.7359711777508736,4.0614768513453585]  \n",
       "VarDesc                              [Abteilungs-/Teamleitung,kein Mobiltelefon]  \n",
       "TimeSlot                                                           [Nacht,Abend]  \n",
       "Hour                                                                     [00,23]  \n",
       "is_weekend                                                          [False,True]  \n",
       "is_day                                                              [False,True]  \n",
       "is_rush                                                             [False,True]  \n",
       "is_day_no_rush                                                      [False,True]  \n",
       "TimeSlot_cat                                             [Day: Rush Hours,Night]  \n",
       "StationSprache                                             [Deutsch,Italienisch]  \n",
       "Label_Nr                                                                 [-2,27]  "
      ]
     },
     "execution_count": 18,
     "metadata": {},
     "output_type": "execute_result"
    }
   ],
   "source": [
    "desc_col(ax_data, det=True)"
   ]
  },
  {
   "cell_type": "code",
   "execution_count": null,
   "metadata": {
    "pycharm": {
     "is_executing": false
    }
   },
   "outputs": [],
   "source": [
    "desc_col(ax_data_workdays, det=True)"
   ]
  },
  {
   "cell_type": "code",
   "execution_count": null,
   "metadata": {
    "pycharm": {
     "is_executing": false
    }
   },
   "outputs": [],
   "source": [
    "desc_col(ax_data_weekends, det=True)"
   ]
  },
  {
   "cell_type": "markdown",
   "metadata": {},
   "source": [
    "### Write out enriched data"
   ]
  },
  {
   "cell_type": "code",
   "execution_count": 10,
   "metadata": {},
   "outputs": [
    {
     "name": "stdout",
     "output_type": "stream",
     "text": [
      "16:03:12 [INFO] Started storing feather file ...\n",
      "16:03:12 [INFO] Writing to file C:\\Users\\kpf\\data\\axinova\\ax_data_enriched.feather\n",
      "16:03:13 [INFO] Written 323.9 MB\n",
      "16:03:13 [INFO] ... finished storing feather file in 0.54s (0.67s CPU)\n"
     ]
    }
   ],
   "source": [
    "with project_dir(\"axinova\"):\n",
    "    store_bin(ax_data, \"ax_data_enriched.feather\")"
   ]
  },
  {
   "cell_type": "markdown",
   "metadata": {},
   "source": [
    "## Select data by any column(s)"
   ]
  },
  {
   "cell_type": "code",
   "execution_count": 21,
   "metadata": {
    "pycharm": {
     "is_executing": false
    }
   },
   "outputs": [],
   "source": [
    "def _check_selection(data, selection, allowed_columns):\n",
    "    allowed_values = {}\n",
    "    for column in allowed_columns:\n",
    "        allowed_values[column] = data[column].cat.categories\n",
    "    if set(selection.keys()) - set(allowed_columns) != set():\n",
    "        raise NameError(f\"Unknown column name in selection: {selection.keys()}\")\n",
    "    clean_selection = {}\n",
    "    for column in allowed_columns:\n",
    "        if column in selection:\n",
    "            col_values = list(flatten(selection[column]))\n",
    "            if set(col_values) - set(allowed_values[column]) != set():\n",
    "                raise ValueError(\n",
    "                    f\"Illegal value(s) in parameter {column}: {col_values}\"\n",
    "                )\n",
    "            clean_selection[column] = col_values\n",
    "        else:\n",
    "            clean_selection[column] = None\n",
    "    return clean_selection\n",
    "\n",
    "\n",
    "def select_data(all_data, **selection):\n",
    "    select_columns = \"DayOfWeek Station Variable Month TimeSlot Hour Time TimeSlot_cat StationSprache\".split()\n",
    "    selection = _check_selection(all_data, selection, allowed_columns=select_columns)\n",
    "    row_mask = pd.Series([True] * all_data.shape[0])\n",
    "    for col in select_columns:\n",
    "        if selection[col] is not None:\n",
    "            row_mask &= all_data[col].isin(selection[col])\n",
    "    return all_data.loc[row_mask].pipe(clean_up_categoricals).reset_index(drop=True)"
   ]
  },
  {
   "cell_type": "markdown",
   "metadata": {
    "toc-hr-collapsed": false
   },
   "source": [
    "# Check distributions"
   ]
  },
  {
   "cell_type": "code",
   "execution_count": 22,
   "metadata": {
    "pycharm": {
     "is_executing": false
    }
   },
   "outputs": [],
   "source": [
    "import seaborn as sns\n",
    "import matplotlib.pyplot as plt\n",
    "\n",
    "sns.set()"
   ]
  },
  {
   "cell_type": "markdown",
   "metadata": {
    "toc-hr-collapsed": true,
    "toc-nb-collapsed": true
   },
   "source": [
    "## Time"
   ]
  },
  {
   "cell_type": "code",
   "execution_count": null,
   "metadata": {
    "pycharm": {
     "is_executing": false
    }
   },
   "outputs": [],
   "source": [
    "fig, (ax_weekend, ax_workdays) = plt.subplots(\n",
    "    nrows=1, ncols=2, sharey=\"all\", figsize=(30, 12)\n",
    ")\n",
    "plt.tight_layout()\n",
    "sns.barplot(\n",
    "    data=ax_data_weekends.eval(\"Value = Value / 2\"),  # average weekend day\n",
    "    x=\"Time\",\n",
    "    y=\"Value\",\n",
    "    ci=None,\n",
    "    estimator=np.sum,\n",
    "    ax=ax_weekend,\n",
    ")\n",
    "sns.barplot(\n",
    "    data=ax_data_workdays.eval(\"Value = Value / 5\"),  # average workday\n",
    "    x=\"Time\",\n",
    "    y=\"Value\",\n",
    "    ci=None,\n",
    "    estimator=np.sum,\n",
    "    ax=ax_workdays,\n",
    ")\n",
    "fig.autofmt_xdate(rotation=90, ha=\"left\")"
   ]
  },
  {
   "cell_type": "markdown",
   "metadata": {},
   "source": [
    "### Time by Weekday"
   ]
  },
  {
   "cell_type": "code",
   "execution_count": null,
   "metadata": {
    "pycharm": {
     "is_executing": false
    }
   },
   "outputs": [],
   "source": [
    "sns.catplot(\n",
    "    data=ax_data,\n",
    "    kind=\"bar\",\n",
    "    x=\"Time\",\n",
    "    y=\"Value\",\n",
    "    row=\"DayOfWeek\",\n",
    "    row_order=weekday_order,\n",
    "    ci=None,\n",
    "    estimator=np.sum,\n",
    "    height=6,\n",
    "    aspect=2,\n",
    ")"
   ]
  },
  {
   "cell_type": "markdown",
   "metadata": {},
   "source": [
    "## Hours"
   ]
  },
  {
   "cell_type": "code",
   "execution_count": null,
   "metadata": {
    "pycharm": {
     "is_executing": false
    }
   },
   "outputs": [],
   "source": [
    "import seaborn as sns\n",
    "import matplotlib.pyplot as plt\n",
    "\n",
    "sns.set()\n",
    "\n",
    "fig, (ax_weekend, ax_workdays) = plt.subplots(\n",
    "    nrows=2, ncols=1, sharey=\"all\", figsize=(16, 20)\n",
    ")\n",
    "plt.tight_layout()\n",
    "sns.barplot(\n",
    "    data=ax_data_workdays.eval(\"Value = Value / 5\"),  # average workday\n",
    "    x=\"Hour\",\n",
    "    y=\"Value\",\n",
    "    estimator=np.sum,\n",
    "    ci=None,\n",
    "    ax=ax_workdays,\n",
    ")\n",
    "sns.barplot(\n",
    "    data=ax_data_weekends.eval(\"Value = Value / 2\"),  # average weekend day\n",
    "    x=\"Hour\",\n",
    "    y=\"Value\",\n",
    "    estimator=np.sum,\n",
    "    ci=None,\n",
    "    ax=ax_weekend,\n",
    ")"
   ]
  },
  {
   "cell_type": "markdown",
   "metadata": {
    "toc-hr-collapsed": true,
    "toc-nb-collapsed": true
   },
   "source": [
    "## Time Slots"
   ]
  },
  {
   "cell_type": "code",
   "execution_count": null,
   "metadata": {},
   "outputs": [],
   "source": [
    "ax_data[\"TimeSlot\"].value_counts()"
   ]
  },
  {
   "cell_type": "markdown",
   "metadata": {},
   "source": [
    "### Plot sum(value) per time slot, scaled to one day"
   ]
  },
  {
   "cell_type": "code",
   "execution_count": null,
   "metadata": {
    "pycharm": {
     "is_executing": false
    }
   },
   "outputs": [],
   "source": [
    "fig, (ax_weekend, ax_workdays) = plt.subplots(\n",
    "    nrows=1, ncols=2, sharey=\"all\", figsize=(16, 6)\n",
    ")\n",
    "plt.tight_layout()\n",
    "sns.barplot(\n",
    "    data=ax_data_weekends.eval(\"Value = Value / 2\"),\n",
    "    x=\"TimeSlot\",\n",
    "    y=\"Value\",\n",
    "    estimator=np.sum,\n",
    "    ci=None,\n",
    "    ax=ax_weekend,\n",
    ")\n",
    "sns.barplot(\n",
    "    data=ax_data_workdays.eval(\"Value = Value / 5\"),\n",
    "    x=\"TimeSlot\",\n",
    "    y=\"Value\",\n",
    "    estimator=np.sum,\n",
    "    ci=None,\n",
    "    ax=ax_workdays,\n",
    ")"
   ]
  },
  {
   "cell_type": "code",
   "execution_count": null,
   "metadata": {},
   "outputs": [],
   "source": [
    "ax_data.groupby(\"TimeSlot\").agg({\"Hour\": collect})"
   ]
  },
  {
   "cell_type": "markdown",
   "metadata": {},
   "source": [
    "## Stations"
   ]
  },
  {
   "cell_type": "code",
   "execution_count": null,
   "metadata": {},
   "outputs": [],
   "source": [
    "ax_data.Station.value_counts()"
   ]
  },
  {
   "cell_type": "code",
   "execution_count": null,
   "metadata": {
    "pycharm": {
     "is_executing": false
    }
   },
   "outputs": [],
   "source": [
    "plt.figure(figsize=(10, 6))\n",
    "plt.xticks(rotation=90)\n",
    "\n",
    "sns.barplot(data=ax_data, x=\"Station\", y=\"Value\", ci=None, estimator=np.sum)"
   ]
  },
  {
   "cell_type": "code",
   "execution_count": null,
   "metadata": {},
   "outputs": [],
   "source": [
    "plt.figure(figsize=(16, 10))\n",
    "plt.xticks(rotation=90)\n",
    "\n",
    "sns.boxenplot(data=ax_data, x=\"Station\", y=\"Value\")"
   ]
  },
  {
   "cell_type": "markdown",
   "metadata": {},
   "source": [
    "## Weekdays"
   ]
  },
  {
   "cell_type": "code",
   "execution_count": null,
   "metadata": {},
   "outputs": [],
   "source": [
    "ax_data.DayOfWeek.value_counts()"
   ]
  },
  {
   "cell_type": "code",
   "execution_count": null,
   "metadata": {
    "pycharm": {
     "is_executing": false
    }
   },
   "outputs": [],
   "source": [
    "plt.figure(figsize=(10, 6))\n",
    "\n",
    "sns.barplot(\n",
    "    data=ax_data,\n",
    "    x=\"DayOfWeek\",\n",
    "    y=\"Value\",\n",
    "    ci=\"sd\",\n",
    "    estimator=np.sum,\n",
    "    order=weekday_order,\n",
    ")"
   ]
  },
  {
   "cell_type": "markdown",
   "metadata": {},
   "source": [
    "## Months"
   ]
  },
  {
   "cell_type": "code",
   "execution_count": null,
   "metadata": {},
   "outputs": [],
   "source": [
    "ax_data.Month.value_counts()"
   ]
  },
  {
   "cell_type": "code",
   "execution_count": null,
   "metadata": {
    "pycharm": {
     "is_executing": false
    }
   },
   "outputs": [],
   "source": [
    "plt.figure(figsize=(16, 10))\n",
    "\n",
    "sns.barplot(\n",
    "    data=ax_data,\n",
    "    x=\"Month\",\n",
    "    y=\"Value\",\n",
    "    estimator=np.sum,\n",
    "    ci=None\n",
    ");"
   ]
  },
  {
   "cell_type": "markdown",
   "metadata": {},
   "source": [
    "## Variables (Questions)"
   ]
  },
  {
   "cell_type": "code",
   "execution_count": null,
   "metadata": {},
   "outputs": [],
   "source": [
    "ax_data.Variable.value_counts()"
   ]
  },
  {
   "cell_type": "code",
   "execution_count": null,
   "metadata": {
    "pycharm": {
     "is_executing": false
    }
   },
   "outputs": [],
   "source": [
    "plt.figure(figsize=(20, 6))\n",
    "plt.xticks(rotation=90)\n",
    "\n",
    "sns.barplot(\n",
    "    data=select_data(\n",
    "        ax_data,\n",
    "        Month=\"09\",\n",
    "        DayOfWeek=\"Monday\",\n",
    "        Station=\"Zürich HB\",\n",
    "        Time=\"21:00 - 21:15\",\n",
    "    ),\n",
    "    x=\"Variable\",\n",
    "    y=\"Value\",\n",
    "    estimator=np.sum,\n",
    "    ci=None,\n",
    ")"
   ]
  },
  {
   "cell_type": "code",
   "execution_count": null,
   "metadata": {
    "pycharm": {
     "is_executing": false
    }
   },
   "outputs": [],
   "source": [
    "plt.figure(figsize=(20, 6))\n",
    "plt.xticks(rotation=90)\n",
    "\n",
    "sns.barplot(\n",
    "    data=select_data(\n",
    "        ax_data,\n",
    "        #Month=\"09\",\n",
    "        #DayOfWeek=\"Monday\",\n",
    "        #Station=\"Zürich HB\",\n",
    "        #Time=\"21:00 - 21:15\",\n",
    "    ),\n",
    "    x=\"Variable\",\n",
    "    y=\"Value\",\n",
    "    estimator=np.sum,\n",
    "    ci=None,\n",
    ")"
   ]
  },
  {
   "cell_type": "markdown",
   "metadata": {
    "toc-hr-collapsed": false
   },
   "source": [
    "# Tests for Independence"
   ]
  },
  {
   "cell_type": "code",
   "execution_count": null,
   "metadata": {},
   "outputs": [],
   "source": [
    "from scipy.stats import chi2_contingency\n",
    "\n",
    "\n",
    "def var_factor_dependance(data, variable, factor, partitions):\n",
    "    subset = data.loc[data.Variable == variable].pipe(clean_up_categoricals)\n",
    "    result = pd.DataFrame(columns=[\"Var\", \"Label\", f\"p_{factor}\"])\n",
    "    for label, partition in subset.groupby(partitions, observed=True):\n",
    "        result_row = {\"Var\": variable, \"Label\": label}\n",
    "        contingency_tab = partition.pivot_table(\n",
    "            index=\"Code\", columns=factor, aggfunc=\"size\", fill_value=0, observed=True\n",
    "        )\n",
    "        p_factor = chi2_contingency(contingency_tab)[1]\n",
    "        result_row[f\"p_{factor}\"] = p_factor\n",
    "        result = result.append(result_row, ignore_index=True, sort=False)\n",
    "    return result\n",
    "\n",
    "\n",
    "def factor_dependance(data, factor, partitions):\n",
    "    all_var_assoc = pd.DataFrame(columns=[\"Var\", \"Label\", f\"p_{factor}\"])\n",
    "    for v in var_info.keys():\n",
    "        var_assoc = var_factor_dependance(\n",
    "            data=data, variable=v, factor=factor, partitions=partitions\n",
    "        ).query(f\"p_{factor} <= 0.05\")\n",
    "        all_var_assoc = all_var_assoc.append(var_assoc, ignore_index=True, sort=False)\n",
    "    all_var_assoc[\"VarDesc\"] = all_var_assoc[\"Var\"].apply(var_label)\n",
    "    return all_var_assoc"
   ]
  },
  {
   "cell_type": "markdown",
   "metadata": {
    "toc-hr-collapsed": true,
    "toc-nb-collapsed": true
   },
   "source": [
    "## For all variables, find stations where the distribution of codes is dependent on day time / time slot"
   ]
  },
  {
   "cell_type": "code",
   "execution_count": null,
   "metadata": {},
   "outputs": [],
   "source": [
    "%%time\n",
    "# around 1min 40sec\n",
    "all_var_assoc_time = factor_dependance(\n",
    "    data=ax_data, factor=\"Time\", partitions=[\"Station\"]\n",
    ")\n",
    "all_var_assoc_timeslot = factor_dependance(\n",
    "    data=ax_data, factor=\"TimeSlot\", partitions=[\"Station\"]\n",
    ")"
   ]
  },
  {
   "cell_type": "code",
   "execution_count": null,
   "metadata": {},
   "outputs": [],
   "source": [
    "var_stations_time = pd.crosstab(\n",
    "    index=all_var_assoc_time[\"VarDesc\"].str.cat(all_var_assoc_time[\"Var\"], sep=\" [\")\n",
    "    + \"]\",\n",
    "    columns=all_var_assoc_time[\"Label\"],\n",
    "    margins=True,\n",
    ")\n",
    "\n",
    "with project_dir(\"axinova\"):\n",
    "    write_xlsx(\n",
    "        var_stations_time, \"var_by_station_vs_time.xlsx\", sheet_name=\"contigency tab\"\n",
    "    )"
   ]
  },
  {
   "cell_type": "code",
   "execution_count": null,
   "metadata": {},
   "outputs": [],
   "source": [
    "var_stations_timeslot = pd.crosstab(\n",
    "    index=all_var_assoc_timeslot[\"VarDesc\"].str.cat(\n",
    "        all_var_assoc_timeslot[\"Var\"], sep=\" [\"\n",
    "    ) + ']',\n",
    "    columns=all_var_assoc_timeslot[\"Label\"],\n",
    "    margins=True,\n",
    ")\n",
    "\n",
    "with project_dir(\"axinova\"):\n",
    "    write_xlsx(\n",
    "        var_stations_timeslot,\n",
    "        \"var_by_station_vs_timeslot.xlsx\",\n",
    "        sheet_name=\"contigency tab\",\n",
    "    )"
   ]
  },
  {
   "cell_type": "markdown",
   "metadata": {},
   "source": [
    "### Which variables have the most stations where their codes are time-dependent?"
   ]
  },
  {
   "cell_type": "code",
   "execution_count": null,
   "metadata": {},
   "outputs": [],
   "source": [
    "all_var_assoc_time.groupby(\"Var\", as_index=False).agg(\n",
    "    {\"VarDesc\": \"max\", \"Label\": [\"count\", collect]}\n",
    ").set_axis(\n",
    "    [\"Variable\", \"VarDesc\", \"#\", \"Stations\"], axis=\"columns\", inplace=False\n",
    ").sort_values(\n",
    "    \"#\", ascending=False\n",
    ").set_index(\n",
    "    \"Variable\"\n",
    ")"
   ]
  },
  {
   "cell_type": "markdown",
   "metadata": {},
   "source": [
    "### Which stations have the most variables whose codes are time-dependent?"
   ]
  },
  {
   "cell_type": "code",
   "execution_count": null,
   "metadata": {},
   "outputs": [],
   "source": [
    "all_var_assoc_time.groupby(\"Label\", as_index=False).agg(\n",
    "    {\"Var\": [\"size\", collect]}\n",
    ").set_axis([\"Station\", \"#\", \"Variables\"], axis=\"columns\", inplace=False).sort_values(\n",
    "    \"#\", ascending=False\n",
    ").set_index(\n",
    "    \"Station\"\n",
    ")"
   ]
  },
  {
   "cell_type": "markdown",
   "metadata": {},
   "source": [
    "## For a single variable, show distribution of codes over time"
   ]
  },
  {
   "cell_type": "code",
   "execution_count": null,
   "metadata": {},
   "outputs": [],
   "source": [
    "import altair as alt\n",
    "\n",
    "alt.data_transformers.enable(\"default\", max_rows=None)\n",
    "\n",
    "time_order = {\"DayOfWeek\": weekday_order, \"TimeSlot\": timeSlot_order}\n",
    "\n",
    "\n",
    "def plot_var_time_dist(data, var, over, station, as_percent=False):\n",
    "    subset = (\n",
    "        data.query(\"Station == @station and Variable == @var\")\n",
    "        .pipe(clean_up_categoricals)\n",
    "        .copy()\n",
    "    )\n",
    "    chart = (\n",
    "        alt.Chart(subset)\n",
    "        .mark_bar()\n",
    "        .encode(\n",
    "            x=alt.X(\"sum(Value)\", stack=\"normalize\") if as_percent else \"sum(Value)\",\n",
    "            y=alt.Y(over, sort=time_order.get(over, \"ascending\")),\n",
    "            color=alt.Color(\n",
    "                \"Code\", scale=alt.Scale(scheme=\"spectral\"), sort=var_info[var].Codes\n",
    "            ),\n",
    "            order=alt.Order(\"Label_Nr\"),\n",
    "        )\n",
    "        .configure_view(width=800)\n",
    "        .properties(\n",
    "            title=f\"{var_label(var)} | {over} [{station}]\"\n",
    "            + (\", Prozent\" if as_percent else \"\")\n",
    "        )\n",
    "    )\n",
    "    return chart"
   ]
  },
  {
   "cell_type": "code",
   "execution_count": null,
   "metadata": {},
   "outputs": [],
   "source": [
    "plot_var_time_dist(\n",
    "    data=ax_data_workdays,\n",
    "    var='md_ek',\n",
    "    over=\"TimeSlot\",\n",
    "    station=\"Basel SBB\",\n",
    "    as_percent=True,\n",
    ")"
   ]
  },
  {
   "cell_type": "markdown",
   "metadata": {},
   "source": [
    "## Does time-dependance of variables change between months?"
   ]
  },
  {
   "cell_type": "code",
   "execution_count": null,
   "metadata": {},
   "outputs": [],
   "source": [
    "%%time\n",
    "# ca. 1min 40sec\n",
    "all_var_assoc_timeslot_month = factor_dependance(\n",
    "    data=ax_data, factor=\"TimeSlot\", partitions=[\"Station\", \"Month\"]\n",
    ")"
   ]
  },
  {
   "cell_type": "code",
   "execution_count": null,
   "metadata": {},
   "outputs": [],
   "source": [
    "pd.crosstab(\n",
    "    index=all_var_assoc_timeslot_month[\"Var\"],\n",
    "    columns=all_var_assoc_timeslot_month[\"Label\"],\n",
    ")"
   ]
  },
  {
   "cell_type": "markdown",
   "metadata": {
    "toc-hr-collapsed": false
   },
   "source": [
    "# ANOVA"
   ]
  },
  {
   "cell_type": "code",
   "execution_count": null,
   "metadata": {},
   "outputs": [],
   "source": [
    "import statsmodels.formula.api as smf\n",
    "from statsmodels.stats.anova import anova_lm"
   ]
  },
  {
   "cell_type": "code",
   "execution_count": null,
   "metadata": {},
   "outputs": [],
   "source": [
    "def anova_table(aov):\n",
    "    \"\"\"Calculate ANOVA table\"\"\"\n",
    "    aov[\"mean_sq\"] = aov[:][\"sum_sq\"] / aov[:][\"df\"]\n",
    "    aov[\"eta_sq\"] = aov[:-1][\"sum_sq\"] / sum(aov[\"sum_sq\"])\n",
    "    aov[\"omega_sq\"] = (aov[:-1][\"sum_sq\"] - (aov[:-1][\"df\"] * aov[\"mean_sq\"][-1])) / (\n",
    "        sum(aov[\"sum_sq\"]) + aov[\"mean_sq\"][-1]\n",
    "    )\n",
    "    cols = [\"sum_sq\", \"df\", \"mean_sq\", \"F\", \"PR(>F)\", \"eta_sq\", \"omega_sq\"]\n",
    "    aov = aov[cols]\n",
    "    return aov\n",
    "\n",
    "\n",
    "def calc_anova(data, variable, formula=\"logValue ~ Code + Station + DayOfWeek\"):\n",
    "    subset = data.loc[data.Variable == variable].pipe(clean_up_categoricals)\n",
    "    subset = subset.assign(\n",
    "        label=subset.Station.str.cat([subset.DayOfWeek.str[:3], subset.Code], sep=\"|\")\n",
    "    )\n",
    "    subset.set_index(\"label\", inplace=True)\n",
    "    mod = smf.ols(formula=formula, data=subset)\n",
    "    res = mod.fit()\n",
    "    print(f\"Variable: {var_label(variable)}\")\n",
    "    display(anova_table(anova_lm(res, typ=2)))\n",
    "    print(res.summary())\n",
    "\n",
    "\n",
    "def anova_stats(data, variable):\n",
    "    \"\"\"ANOVA statistics\"\"\"\n",
    "    subset = data.loc[data.Variable == variable].pipe(clean_up_categoricals)\n",
    "\n",
    "    lm_base = smf.ols(formula=\"logValue ~ Code:TimeSlot:DayOfWeek\", data=subset).fit()\n",
    "    lm_base_station = smf.ols(\n",
    "        formula=\"logValue ~ Code:TimeSlot:DayOfWeek + Station\", data=subset\n",
    "    ).fit()\n",
    "    lm_base_station_month = smf.ols(\n",
    "        formula=\"logValue ~ Code:TimeSlot:DayOfWeek + Station + Month\", data=subset\n",
    "    ).fit()\n",
    "    return {\n",
    "        \"var\": variable,\n",
    "        \"base\": lm_base.rsquared,\n",
    "        \"base+station\": lm_base_station.rsquared,\n",
    "        \"base+station+month\": lm_base_station_month.rsquared,\n",
    "    }"
   ]
  },
  {
   "cell_type": "code",
   "execution_count": null,
   "metadata": {},
   "outputs": [],
   "source": [
    "calc_anova(ax_data_workdays, var.g_220, formula='logValue ~ Code:TimeSlot:DayOfWeek + Station + Month')"
   ]
  },
  {
   "cell_type": "code",
   "execution_count": null,
   "metadata": {},
   "outputs": [],
   "source": [
    "%%time\n",
    "all_var_stats = pd.DataFrame.from_records(\n",
    "    columns=\"var base base+station base+station+month\".split(),\n",
    "    data=[anova_stats(ax_data_workdays, v) for v in var.keys()],\n",
    "    index=\"var\",\n",
    ")\n",
    "\n",
    "all_var_stats = all_var_stats.assign(\n",
    "    **{\n",
    "        \"plus_station\": all_var_stats[\"base+station\"] - all_var_stats[\"base\"],\n",
    "        \"plus_month\": all_var_stats[\"base+station+month\"]\n",
    "        - all_var_stats[\"base+station\"],\n",
    "        \"plus_station_month\": all_var_stats[\"base+station+month\"]\n",
    "        - all_var_stats[\"base\"],\n",
    "    }\n",
    ")"
   ]
  },
  {
   "cell_type": "code",
   "execution_count": null,
   "metadata": {},
   "outputs": [],
   "source": [
    "all_var_stats.sort_values(\"base+station+month\", ascending=False).loc[\n",
    "    :, \"base plus_station plus_month base+station+month\".split()\n",
    "]"
   ]
  },
  {
   "cell_type": "markdown",
   "metadata": {},
   "source": [
    "# Estimation and Confidence Intervals for Target Groups"
   ]
  },
  {
   "cell_type": "markdown",
   "metadata": {},
   "source": [
    "## Display selection as pivot table (Codes vs. Time)"
   ]
  },
  {
   "cell_type": "code",
   "execution_count": 19,
   "metadata": {},
   "outputs": [],
   "source": [
    "from scipy.stats import chi2_contingency\n",
    "\n",
    "\n",
    "def _cont_table(var, data, index_by, aggfunc):\n",
    "    all_codes = var_codes(var)\n",
    "    observed_codes = (\n",
    "        pd.Series(all_codes)\n",
    "        .loc[pd.Series(all_codes).isin(data[\"Code\"].unique())]\n",
    "        .values\n",
    "    )\n",
    "    cont_table = data.pivot_table(\n",
    "        index=index_by,\n",
    "        columns=\"Code\",\n",
    "        values=\"Value\",\n",
    "        aggfunc=aggfunc,\n",
    "        margins=False,\n",
    "        fill_value=0,\n",
    "    ).loc[:, observed_codes]\n",
    "    return cont_table\n",
    "\n",
    "\n",
    "def _show_chisq(var, actual, counts, resid_type):\n",
    "    (_, p_val, _, expected) = chi2_contingency(actual)\n",
    "    if resid_type == \"absolute\":\n",
    "        residuals = actual - expected\n",
    "    elif resid_type == \"percent\":\n",
    "        residuals = (actual / expected * 100) - 100\n",
    "    else:\n",
    "        raise ValueError(\n",
    "            f\"Parameter resid_type not in ('absolute', 'percent') ('{resid_type}')\"\n",
    "        )\n",
    "    (plot_rows, plot_cols) = residuals.shape\n",
    "    plt.figure(figsize=(plot_cols * 2, plot_rows))\n",
    "    plt.title(f\"Abweichung: {var_label(var)} ({var}), p={round(p_val, 4)}\", pad=12)\n",
    "    annotations = residuals.round(1).values\n",
    "    sns.heatmap(\n",
    "        data=residuals,\n",
    "        center=0,\n",
    "        annot=annotations,\n",
    "        linewidths=0,\n",
    "        robust=True,\n",
    "        fmt=\".1f\",\n",
    "    )\n",
    "\n",
    "\n",
    "def show_code_cont_tables(\n",
    "    selection,\n",
    "    index_by,\n",
    "    aggfunc=\"sum\",\n",
    "    show_agg=True,\n",
    "    show_normal=False,\n",
    "    show_chisq=False,\n",
    "    chisq_resid=\"absolute\",\n",
    "):\n",
    "    data = select_data(ax_data, **selection)\n",
    "    for var, subset in data.groupby(\"Variable\"):\n",
    "        # calculate contingency table\n",
    "        prop_table = _cont_table(var, subset, index_by, aggfunc)\n",
    "        count_table = _cont_table(var, subset, index_by, aggfunc=\"size\")\n",
    "\n",
    "        # show results\n",
    "        if show_agg or show_normal:\n",
    "            print(f\"Variable: {var_label(var)} ({var})\")\n",
    "            print(\n",
    "                \"Selection: \"\n",
    "                + \", \".join(f\"{col} = {values}\" for col, values in selection.items())\n",
    "            )\n",
    "        if show_agg:\n",
    "            display(prop_table.round(1))\n",
    "        if show_normal:\n",
    "            print(\"Code percentages:\")\n",
    "            display(normalize_rows(prop_table).round(3) * 100)\n",
    "        if show_chisq:\n",
    "            _show_chisq(\n",
    "                var, actual=prop_table, counts=count_table, resid_type=chisq_resid,\n",
    "            )"
   ]
  },
  {
   "cell_type": "markdown",
   "metadata": {},
   "source": [
    "## Calculate code proportions"
   ]
  },
  {
   "cell_type": "code",
   "execution_count": 23,
   "metadata": {},
   "outputs": [
    {
     "name": "stdout",
     "output_type": "stream",
     "text": [
      "Variable: Haushaltsbruttoeinkommen pro Monat (md_ek)\n",
      "Selection: DayOfWeek = ['Monday', 'Tuesday', 'Wednesday', 'Thursday', 'Friday'], Station = Lausanne, Variable = ['md_ek']\n"
     ]
    },
    {
     "data": {
      "text/html": [
       "<div>\n",
       "<style scoped>\n",
       "    .dataframe tbody tr th:only-of-type {\n",
       "        vertical-align: middle;\n",
       "    }\n",
       "\n",
       "    .dataframe tbody tr th {\n",
       "        vertical-align: top;\n",
       "    }\n",
       "\n",
       "    .dataframe thead th {\n",
       "        text-align: right;\n",
       "    }\n",
       "</style>\n",
       "<table border=\"1\" class=\"dataframe\">\n",
       "  <thead>\n",
       "    <tr style=\"text-align: right;\">\n",
       "      <th>Code</th>\n",
       "      <th>Keine Angabe</th>\n",
       "      <th>Weniger als 3'000 CHF</th>\n",
       "      <th>Zwischen 3'000 und 4'500 CHF</th>\n",
       "      <th>Zwischen 4'501 und 6'000 CHF</th>\n",
       "      <th>Zwischen 6'001 und 9'000 CHF</th>\n",
       "      <th>Zwischen 9'001 und 12'000 CHF</th>\n",
       "      <th>Mehr als 12'000 CHF</th>\n",
       "    </tr>\n",
       "    <tr>\n",
       "      <th>TimeSlot</th>\n",
       "      <th></th>\n",
       "      <th></th>\n",
       "      <th></th>\n",
       "      <th></th>\n",
       "      <th></th>\n",
       "      <th></th>\n",
       "      <th></th>\n",
       "    </tr>\n",
       "  </thead>\n",
       "  <tbody>\n",
       "    <tr>\n",
       "      <th>Nacht</th>\n",
       "      <td>88.7</td>\n",
       "      <td>20.8</td>\n",
       "      <td>41.2</td>\n",
       "      <td>64.4</td>\n",
       "      <td>72.2</td>\n",
       "      <td>39.6</td>\n",
       "      <td>152.5</td>\n",
       "    </tr>\n",
       "    <tr>\n",
       "      <th>Morgen-Rush</th>\n",
       "      <td>336.0</td>\n",
       "      <td>80.9</td>\n",
       "      <td>254.1</td>\n",
       "      <td>495.5</td>\n",
       "      <td>1101.1</td>\n",
       "      <td>730.6</td>\n",
       "      <td>722.4</td>\n",
       "    </tr>\n",
       "    <tr>\n",
       "      <th>Morgen</th>\n",
       "      <td>172.8</td>\n",
       "      <td>51.0</td>\n",
       "      <td>39.5</td>\n",
       "      <td>208.3</td>\n",
       "      <td>209.4</td>\n",
       "      <td>180.6</td>\n",
       "      <td>156.9</td>\n",
       "    </tr>\n",
       "    <tr>\n",
       "      <th>Mittag</th>\n",
       "      <td>129.2</td>\n",
       "      <td>74.5</td>\n",
       "      <td>220.3</td>\n",
       "      <td>216.4</td>\n",
       "      <td>200.5</td>\n",
       "      <td>316.5</td>\n",
       "      <td>230.9</td>\n",
       "    </tr>\n",
       "    <tr>\n",
       "      <th>Nachmittag</th>\n",
       "      <td>301.1</td>\n",
       "      <td>79.8</td>\n",
       "      <td>220.8</td>\n",
       "      <td>283.4</td>\n",
       "      <td>330.5</td>\n",
       "      <td>418.0</td>\n",
       "      <td>342.7</td>\n",
       "    </tr>\n",
       "    <tr>\n",
       "      <th>Abend-Rush</th>\n",
       "      <td>503.6</td>\n",
       "      <td>124.1</td>\n",
       "      <td>242.8</td>\n",
       "      <td>548.8</td>\n",
       "      <td>1125.0</td>\n",
       "      <td>866.7</td>\n",
       "      <td>925.6</td>\n",
       "    </tr>\n",
       "    <tr>\n",
       "      <th>Abend</th>\n",
       "      <td>228.1</td>\n",
       "      <td>57.2</td>\n",
       "      <td>127.9</td>\n",
       "      <td>268.8</td>\n",
       "      <td>310.3</td>\n",
       "      <td>209.2</td>\n",
       "      <td>262.3</td>\n",
       "    </tr>\n",
       "  </tbody>\n",
       "</table>\n",
       "</div>"
      ],
      "text/plain": [
       "Code         Keine Angabe  Weniger als 3'000 CHF  \\\n",
       "TimeSlot                                           \n",
       "Nacht                88.7                   20.8   \n",
       "Morgen-Rush         336.0                   80.9   \n",
       "Morgen              172.8                   51.0   \n",
       "Mittag              129.2                   74.5   \n",
       "Nachmittag          301.1                   79.8   \n",
       "Abend-Rush          503.6                  124.1   \n",
       "Abend               228.1                   57.2   \n",
       "\n",
       "Code         Zwischen 3'000 und 4'500 CHF  Zwischen 4'501 und 6'000 CHF  \\\n",
       "TimeSlot                                                                  \n",
       "Nacht                                41.2                          64.4   \n",
       "Morgen-Rush                         254.1                         495.5   \n",
       "Morgen                               39.5                         208.3   \n",
       "Mittag                              220.3                         216.4   \n",
       "Nachmittag                          220.8                         283.4   \n",
       "Abend-Rush                          242.8                         548.8   \n",
       "Abend                               127.9                         268.8   \n",
       "\n",
       "Code         Zwischen 6'001 und 9'000 CHF  Zwischen 9'001 und 12'000 CHF  \\\n",
       "TimeSlot                                                                   \n",
       "Nacht                                72.2                           39.6   \n",
       "Morgen-Rush                        1101.1                          730.6   \n",
       "Morgen                              209.4                          180.6   \n",
       "Mittag                              200.5                          316.5   \n",
       "Nachmittag                          330.5                          418.0   \n",
       "Abend-Rush                         1125.0                          866.7   \n",
       "Abend                               310.3                          209.2   \n",
       "\n",
       "Code         Mehr als 12'000 CHF  \n",
       "TimeSlot                          \n",
       "Nacht                      152.5  \n",
       "Morgen-Rush                722.4  \n",
       "Morgen                     156.9  \n",
       "Mittag                     230.9  \n",
       "Nachmittag                 342.7  \n",
       "Abend-Rush                 925.6  \n",
       "Abend                      262.3  "
      ]
     },
     "metadata": {},
     "output_type": "display_data"
    },
    {
     "data": {
      "image/png": "[encoded data removed]",
      "text/plain": [
       "<Figure size 1008x504 with 2 Axes>"
      ]
     },
     "metadata": {
      "needs_background": "light"
     },
     "output_type": "display_data"
    }
   ],
   "source": [
    "def _per_quarter(s):\n",
    "    return s.sum() / s.size\n",
    "\n",
    "def _extrapolate(s):\n",
    "    return _per_quarter(s) * 4250 \n",
    "\n",
    "show_code_cont_tables(\n",
    "    selection=dict(\n",
    "        DayOfWeek=workdays,\n",
    "        Station=\"Lausanne\",\n",
    "        Variable=[\"md_ek\"],\n",
    "    ),\n",
    "    index_by=[\"TimeSlot\"],\n",
    "    aggfunc=\"sum\",\n",
    "    show_chisq=True,\n",
    "    chisq_resid=\"absolute\",\n",
    ")"
   ]
  },
  {
   "cell_type": "markdown",
   "metadata": {},
   "source": [
    "## Estimate cell median and confidence intervals (quantiles)"
   ]
  },
  {
   "cell_type": "code",
   "execution_count": null,
   "metadata": {},
   "outputs": [],
   "source": [
    "from scipy.stats import chi2_contingency\n",
    "\n",
    "\n",
    "def var_factor_dependance(data, variable, factor, partitions):\n",
    "    subset = data.loc[data.Variable == variable].pipe(clean_up_categoricals)\n",
    "    result = pd.DataFrame(columns=[\"Var\", \"Label\", f\"p_{factor}\"])\n",
    "    for label, partition in subset.groupby(partitions, observed=True):\n",
    "        result_row = {\"Var\": variable, \"Label\": label}\n",
    "        contingency_tab = partition.pivot_table(\n",
    "            index=\"Code\", columns=factor, aggfunc=\"size\", fill_value=0, observed=True\n",
    "        )\n",
    "        p_factor = chi2_contingency(contingency_tab)[1]\n",
    "        result_row[f\"p_{factor}\"] = p_factor\n",
    "        result = result.append(result_row, ignore_index=True, sort=False)\n",
    "    return result"
   ]
  },
  {
   "cell_type": "code",
   "execution_count": null,
   "metadata": {},
   "outputs": [],
   "source": [
    "def estimate(s):\n",
    "    try:\n",
    "        (q25, med, q75) = np.percentile(s, [25, 50, 75])\n",
    "        iqr = q75 - q25\n",
    "        #return [q25 - 1.5 * iqr, med, q75 + 1.5 * iqr]  # Tukey's outlier limits\n",
    "        return [q25, med, q75]  # quartiles\n",
    "    except:\n",
    "        return -1"
   ]
  },
  {
   "cell_type": "code",
   "execution_count": null,
   "metadata": {},
   "outputs": [],
   "source": [
    "selection = dict(\n",
    "    #DayOfWeek=[\"Saturday\", \"Sunday\"],\n",
    "    Variable=[\"md_ek\"],\n",
    "    #Station=[\"Basel SBB\", \"Zürich HB\"],\n",
    ")\n",
    "\n",
    "show_code_cont_tables(selection, index_by=\"TimeSlot\", aggfunc=estimate)"
   ]
  }
 ],
 "metadata": {
  "file_extension": ".py",
  "kernelspec": {
   "display_name": "Python 3",
   "language": "python",
   "name": "python3"
  },
  "language_info": {
   "codemirror_mode": {
    "name": "ipython",
    "version": 3
   },
   "file_extension": ".py",
   "mimetype": "text/x-python",
   "name": "python",
   "nbconvert_exporter": "python",
   "pygments_lexer": "ipython3",
   "version": "3.7.5"
  },
  "mimetype": "text/x-python",
  "name": "python",
  "npconvert_exporter": "python",
  "pycharm": {
   "stem_cell": {
    "cell_type": "raw",
    "metadata": {
     "collapsed": false
    },
    "source": []
   }
  },
  "pygments_lexer": "ipython3",
  "toc-autonumbering": true,
  "version": 3
 },
 "nbformat": 4,
 "nbformat_minor": 4
}
