{
 "cells": [
  {
   "cell_type": "code",
   "execution_count": 1,
   "metadata": {},
   "outputs": [],
   "source": [
    "# make imports from pa_lib possible (parent directory of file's directory)\n",
    "import sys\n",
    "from pathlib import Path\n",
    "\n",
    "file_dir = Path.cwd()\n",
    "parent_dir = file_dir.parent\n",
    "sys.path.append(str(parent_dir))\n",
    "\n",
    "%load_ext autoreload\n",
    "%autoreload\n",
    "\n",
    "import pandas as pd\n",
    "import numpy as np\n",
    "\n",
    "from pa_lib.file import store_bin, project_dir, data_files, load_csv, load_bin, write_xlsx\n",
    "from pa_lib.data import as_dtype, dtFactor, desc_col, lookup, clean_up_categoricals\n",
    "from pa_lib.util import collect, value\n",
    "from pa_lib.log import time_log\n",
    "from pa_lib.types import Record\n",
    "\n",
    "# display long columns completely, show more rows\n",
    "pd.set_option(\"display.max_colwidth\", 300)\n",
    "pd.set_option(\"display.max_rows\", 200)\n",
    "pd.set_option(\"display.max_columns\", 200)"
   ]
  },
  {
   "cell_type": "markdown",
   "metadata": {},
   "source": [
    "# Load data"
   ]
  },
  {
   "cell_type": "code",
   "execution_count": 2,
   "metadata": {},
   "outputs": [
    {
     "name": "stderr",
     "output_type": "stream",
     "text": [
      "2019-09-30 16:58:34 [INFO] Reading from file C:\\Users\\kpf\\data\\axinova\\ax_data.feather\n",
      "2019-09-30 16:58:34 [INFO] Finished loading binary file in 0.12s (0.47s CPU)\n",
      "2019-09-30 16:58:34 [INFO] Reading from file C:\\Users\\kpf\\data\\axinova\\ax_var_labels.feather\n",
      "2019-09-30 16:58:34 [INFO] Finished loading binary file in 0.0s (0.0s CPU)\n"
     ]
    }
   ],
   "source": [
    "with project_dir(\"axinova\"):\n",
    "    ax_data = load_bin(\"ax_data.feather\")\n",
    "    ax_var_labels = load_bin(\"ax_var_labels.feather\")\n",
    "\n",
    "var = Record(**{v: v for v in ax_data['Variable'].unique()})\n",
    "stat = Record(**{s: s for s in ax_data['Station'].unique()})"
   ]
  },
  {
   "cell_type": "code",
   "execution_count": 3,
   "metadata": {},
   "outputs": [],
   "source": [
    "def var_label(variable):\n",
    "    return ax_var_labels.set_index(\"Variable\").at[variable, \"Label\"]"
   ]
  },
  {
   "cell_type": "code",
   "execution_count": 4,
   "metadata": {},
   "outputs": [],
   "source": [
    "weekday_order = ax_data.DayOfWeek.cat.categories.to_list()\n",
    "timeSlot_order = ax_data.TimeSlot.cat.categories.to_list()\n",
    "\n",
    "with value(ax_data.DayOfWeek.isin([\"Saturday\", \"Sunday\"])) as weekend_rows:\n",
    "    ax_data_weekends = ax_data.loc[weekend_rows].pipe(clean_up_categoricals)\n",
    "    ax_data_workdays = ax_data.loc[~weekend_rows].pipe(clean_up_categoricals)"
   ]
  },
  {
   "cell_type": "code",
   "execution_count": 5,
   "metadata": {},
   "outputs": [
    {
     "data": {
      "text/html": [
       "<div>\n",
       "<style scoped>\n",
       "    .dataframe tbody tr th:only-of-type {\n",
       "        vertical-align: middle;\n",
       "    }\n",
       "\n",
       "    .dataframe tbody tr th {\n",
       "        vertical-align: top;\n",
       "    }\n",
       "\n",
       "    .dataframe thead th {\n",
       "        text-align: right;\n",
       "    }\n",
       "</style>\n",
       "<table border=\"1\" class=\"dataframe\">\n",
       "  <thead>\n",
       "    <tr style=\"text-align: right;\">\n",
       "      <th></th>\n",
       "      <th>DTYPE</th>\n",
       "      <th>NULLS</th>\n",
       "      <th>UNIQUE</th>\n",
       "      <th>MEM</th>\n",
       "      <th>RANGE</th>\n",
       "    </tr>\n",
       "  </thead>\n",
       "  <tbody>\n",
       "    <tr>\n",
       "      <td>Station</td>\n",
       "      <td>category</td>\n",
       "      <td>0/6172735</td>\n",
       "      <td>27</td>\n",
       "      <td>5.9 MB</td>\n",
       "      <td>[Aarau,Zürich Stadelhofen]</td>\n",
       "    </tr>\n",
       "    <tr>\n",
       "      <td>DayOfWeek</td>\n",
       "      <td>category</td>\n",
       "      <td>0/6172735</td>\n",
       "      <td>7</td>\n",
       "      <td>5.9 MB</td>\n",
       "      <td>[Monday,Sunday]</td>\n",
       "    </tr>\n",
       "    <tr>\n",
       "      <td>Time</td>\n",
       "      <td>category</td>\n",
       "      <td>0/6172735</td>\n",
       "      <td>96</td>\n",
       "      <td>5.9 MB</td>\n",
       "      <td>[00:00 - 00:15,23:45 - 00:00]</td>\n",
       "    </tr>\n",
       "    <tr>\n",
       "      <td>Variable</td>\n",
       "      <td>category</td>\n",
       "      <td>0/6172735</td>\n",
       "      <td>117</td>\n",
       "      <td>5.9 MB</td>\n",
       "      <td>[g_220,nat_ausland]</td>\n",
       "    </tr>\n",
       "    <tr>\n",
       "      <td>Code</td>\n",
       "      <td>category</td>\n",
       "      <td>0/6172735</td>\n",
       "      <td>155</td>\n",
       "      <td>11.8 MB</td>\n",
       "      <td>[1 - 4 Flüge,Über den lokalen TV-Kabelanbieter (nicht Cablecom)]</td>\n",
       "    </tr>\n",
       "    <tr>\n",
       "      <td>Value</td>\n",
       "      <td>float64</td>\n",
       "      <td>0/6172735</td>\n",
       "      <td>343130</td>\n",
       "      <td>47.1 MB</td>\n",
       "      <td>[0.47903999999999997,58.059993773]</td>\n",
       "    </tr>\n",
       "    <tr>\n",
       "      <td>Year</td>\n",
       "      <td>category</td>\n",
       "      <td>0/6172735</td>\n",
       "      <td>1</td>\n",
       "      <td>5.9 MB</td>\n",
       "      <td>[2019,2019]</td>\n",
       "    </tr>\n",
       "    <tr>\n",
       "      <td>Month</td>\n",
       "      <td>category</td>\n",
       "      <td>0/6172735</td>\n",
       "      <td>4</td>\n",
       "      <td>5.9 MB</td>\n",
       "      <td>[05,08]</td>\n",
       "    </tr>\n",
       "    <tr>\n",
       "      <td>logValue</td>\n",
       "      <td>float64</td>\n",
       "      <td>0/6172735</td>\n",
       "      <td>343130</td>\n",
       "      <td>47.1 MB</td>\n",
       "      <td>[-0.7359711777508736,4.0614768513453585]</td>\n",
       "    </tr>\n",
       "    <tr>\n",
       "      <td>VarDesc</td>\n",
       "      <td>category</td>\n",
       "      <td>0/6172735</td>\n",
       "      <td>117</td>\n",
       "      <td>5.9 MB</td>\n",
       "      <td>[Abteilungs-/Teamleitung,kein Mobiltelefon]</td>\n",
       "    </tr>\n",
       "    <tr>\n",
       "      <td>TimeSlot</td>\n",
       "      <td>category</td>\n",
       "      <td>0/6172735</td>\n",
       "      <td>7</td>\n",
       "      <td>5.9 MB</td>\n",
       "      <td>[Nacht,Abend]</td>\n",
       "    </tr>\n",
       "    <tr>\n",
       "      <td>Hour</td>\n",
       "      <td>category</td>\n",
       "      <td>0/6172735</td>\n",
       "      <td>24</td>\n",
       "      <td>5.9 MB</td>\n",
       "      <td>[00,23]</td>\n",
       "    </tr>\n",
       "  </tbody>\n",
       "</table>\n",
       "</div>"
      ],
      "text/plain": [
       "              DTYPE      NULLS  UNIQUE      MEM  \\\n",
       "Station    category  0/6172735      27   5.9 MB   \n",
       "DayOfWeek  category  0/6172735       7   5.9 MB   \n",
       "Time       category  0/6172735      96   5.9 MB   \n",
       "Variable   category  0/6172735     117   5.9 MB   \n",
       "Code       category  0/6172735     155  11.8 MB   \n",
       "Value       float64  0/6172735  343130  47.1 MB   \n",
       "Year       category  0/6172735       1   5.9 MB   \n",
       "Month      category  0/6172735       4   5.9 MB   \n",
       "logValue    float64  0/6172735  343130  47.1 MB   \n",
       "VarDesc    category  0/6172735     117   5.9 MB   \n",
       "TimeSlot   category  0/6172735       7   5.9 MB   \n",
       "Hour       category  0/6172735      24   5.9 MB   \n",
       "\n",
       "                                                                      RANGE  \n",
       "Station                                          [Aarau,Zürich Stadelhofen]  \n",
       "DayOfWeek                                                   [Monday,Sunday]  \n",
       "Time                                          [00:00 - 00:15,23:45 - 00:00]  \n",
       "Variable                                                [g_220,nat_ausland]  \n",
       "Code       [1 - 4 Flüge,Über den lokalen TV-Kabelanbieter (nicht Cablecom)]  \n",
       "Value                                    [0.47903999999999997,58.059993773]  \n",
       "Year                                                            [2019,2019]  \n",
       "Month                                                               [05,08]  \n",
       "logValue                           [-0.7359711777508736,4.0614768513453585]  \n",
       "VarDesc                         [Abteilungs-/Teamleitung,kein Mobiltelefon]  \n",
       "TimeSlot                                                      [Nacht,Abend]  \n",
       "Hour                                                                [00,23]  "
      ]
     },
     "execution_count": 5,
     "metadata": {},
     "output_type": "execute_result"
    }
   ],
   "source": [
    "desc_col(ax_data, det=True)"
   ]
  },
  {
   "cell_type": "markdown",
   "metadata": {},
   "source": [
    "## Define code order, where necessary"
   ]
  },
  {
   "cell_type": "code",
   "execution_count": 6,
   "metadata": {},
   "outputs": [],
   "source": [
    "var_code_order = {\n",
    "    \"md_agenatrep\": {\n",
    "        \"14-29 Jahre\": 1,\n",
    "        \"30-45 Jahre\": 2,\n",
    "        \"46-60 Jahre\": 3,\n",
    "        \"61+ Jahre\": 4,\n",
    "    },\n",
    "    \"md_bildung3\": {\n",
    "        \"niedrig (kein Abschluss, obligat. Schule, HH-Lehrjahr, Handelsschule, Anlehre)\": 1,\n",
    "        \"mittel (Diplommittelschule, allg. Schule, Berufslehre, Vollzeitberufsschule, Maturität, Lehrerseminar)\": 2,\n",
    "        \"hoch (Universität, ETH, FH, PH, höhere Berufsausbildung)\": 3,\n",
    "    },\n",
    "    \"md_hhgr3\": {\"1 Person\": 1, \"2 Personen\": 2, \"3+ Personen\": 3},\n",
    "    \"g_privatetrainuse\": {\n",
    "        \"Nie\": 1,\n",
    "        \"1-2 Mal jährlich\": 2,\n",
    "        \"3-12 Mal jährlich\": 3,\n",
    "        \"2-5 Mal pro Monat\": 4,\n",
    "        \"6 Mal pro Monat oder häufiger\": 5,\n",
    "    },\n",
    "    \"md_203\": {  # Bahnnutzung beruflich\n",
    "        \"Nie\": 1,\n",
    "        \"Seltener\": 2,\n",
    "        \"Etwa zu einem Viertel\": 3,\n",
    "        \"Etwa zur Hälfte\": 4,\n",
    "        \"Meistens\": 5,\n",
    "        \"Immer\": 6,\n",
    "    },\n",
    "    \"g_220\": {  # Autos im Haushalt\n",
    "        \"Keines\": 1,\n",
    "        \"1 Auto\": 2,\n",
    "        \"2 Autos\": 3,\n",
    "        \"3 Autos\": 4,\n",
    "        \"Mehr als 3 Autos\": 5,\n",
    "    },\n",
    "    \"md_410\": {  # Internetnutzung\n",
    "        \"seltener\": 1,\n",
    "        \"mehrmals pro Monat\": 2,\n",
    "        \"einmal pro Woche\": 3,\n",
    "        \"mehrmals pro Woche\": 4,\n",
    "        \"täglich/fast täglich\": 5,\n",
    "    },\n",
    "    # Div.Internet-Nutzungsarten (md_421 bis md_411)\n",
    "    \"md_421\": {\"nie\": 1, \"gelegentlich\": 2, \"regelmässig\": 3},\n",
    "    \"md_419\": {\"nie\": 1, \"gelegentlich\": 2, \"regelmässig\": 3},\n",
    "    \"md_417\": {\"nie\": 1, \"gelegentlich\": 2, \"regelmässig\": 3},\n",
    "    \"md_416\": {\"nie\": 1, \"gelegentlich\": 2, \"regelmässig\": 3},\n",
    "    \"md_415\": {\"nie\": 1, \"gelegentlich\": 2, \"regelmässig\": 3},\n",
    "    \"md_414\": {\"nie\": 1, \"gelegentlich\": 2, \"regelmässig\": 3},\n",
    "    \"md_413\": {\"nie\": 1, \"gelegentlich\": 2, \"regelmässig\": 3},\n",
    "    \"md_412\": {\"nie\": 1, \"gelegentlich\": 2, \"regelmässig\": 3},\n",
    "    \"md_411\": {\"nie\": 1, \"gelegentlich\": 2, \"regelmässig\": 3},\n",
    "    \"md_early\": {\n",
    "        \"Ich bin immer einer/eine der ersten, der/die neue Technologien und Geräte kauft resp. einsetzt.\": 1,\n",
    "        \"Ich fange erst dann an, neue Technologien und Geräte zu verwenden, wenn ich weiss, welche Erfahrungen andere mit ihnen gemacht haben.\": 2,\n",
    "        \"Ich übernehme neue Technologien und Geräte erst dann, wenn es für mich persönlich oder beruflich unerlässlich ist.\": 3,\n",
    "    },\n",
    "    \"md_tv\": {\"kein TV-Gerät\": 1, \"1 oder mehrere TV-Geräte\": 2},\n",
    "    \"g_TvChannelsgroup\": {\n",
    "        \"keine Sender\": 1,\n",
    "        \"1-4 Sender\": 2,\n",
    "        \"5-9 Sender\": 3,\n",
    "        \"10++ Sender\": 4,\n",
    "    },\n",
    "    \"g_flug\": {\"keine Flüge\": 1, \"1 - 4 Flüge\": 2, \"5 - 9 Flüge\": 3, \"10++ Flüge\": 4},\n",
    "    \"g_flugBusiness\": {\n",
    "        \"keine Flüge\": 1,\n",
    "        \"1 - 4 Flüge\": 2,\n",
    "        \"5 - 9 Flüge\": 3,\n",
    "        \"10++ Flüge\": 4,\n",
    "    },\n",
    "    \"md_ek\": {\n",
    "        \"Keine Angabe\": 0,\n",
    "        \"Weniger als 3'000 CHF\": 1,\n",
    "        \"Zwischen 3'000 und 4'500 CHF\": 2,\n",
    "        \"Zwischen 4'501 und 6'000 CHF\": 3,\n",
    "        \"Zwischen 6'001 und 9'000 CHF\": 4,\n",
    "        \"Zwischen 9'001 und 12'000 CHF\": 5,\n",
    "        \"Mehr als 12'000 CHF\": 6,\n",
    "    },\n",
    "    \"md_hhverm\": {\n",
    "        \"Keine Angabe\": 0,\n",
    "        \"Weniger als CHF 50 000\": 1,\n",
    "        \"Zwischen CHF 50 000 und CHF 100 000\": 2,\n",
    "        \"Zwischen CHF 100 000 und CHF 250 000\": 3,\n",
    "        \"Zwischen CHF 250 000 und CHF 500 000\": 4,\n",
    "        \"Zwischen CHF 500 000 und CHF 1 Mio.\": 5,\n",
    "        \"Zwischen CHF 1 Mio. und CHF 5 Mio.\": 6,\n",
    "        \"Mehr als CHF 5 Mio.\": 7,\n",
    "    },\n",
    "}"
   ]
  },
  {
   "cell_type": "markdown",
   "metadata": {
    "toc-hr-collapsed": false
   },
   "source": [
    "# Check distributions"
   ]
  },
  {
   "cell_type": "markdown",
   "metadata": {
    "toc-hr-collapsed": true
   },
   "source": [
    "## Time"
   ]
  },
  {
   "cell_type": "code",
   "execution_count": 7,
   "metadata": {
    "collapsed": true,
    "jupyter": {
     "outputs_hidden": true
    }
   },
   "outputs": [
    {
     "data": {
      "image/png": "[encoded data removed]",
      "text/plain": [
       "<Figure size 1152x1440 with 2 Axes>"
      ]
     },
     "metadata": {},
     "output_type": "display_data"
    }
   ],
   "source": [
    "import seaborn as sns\n",
    "import matplotlib.pyplot as plt\n",
    "\n",
    "sns.set()\n",
    "\n",
    "fig, (ax_weekend, ax_workdays) = plt.subplots(\n",
    "    nrows=2, ncols=1, sharey=\"all\", figsize=(16, 20)\n",
    ")\n",
    "plt.tight_layout()\n",
    "sns.barplot(\n",
    "    data=ax_data_workdays.eval(\"Value = Value / 5\"), # average workday\n",
    "    x=\"Time\",\n",
    "    y=\"Value\",\n",
    "    ci=None,\n",
    "    estimator=np.sum,\n",
    "    ax=ax_workdays,\n",
    ")\n",
    "sns.barplot(\n",
    "    data=ax_data_weekends.eval(\"Value = Value / 2\"), # average weekend day\n",
    "    x=\"Time\",\n",
    "    y=\"Value\",\n",
    "    ci=None,\n",
    "    estimator=np.sum,\n",
    "    ax=ax_weekend,\n",
    ")\n",
    "fig.autofmt_xdate(rotation=90, ha=\"left\")"
   ]
  },
  {
   "cell_type": "markdown",
   "metadata": {},
   "source": [
    "### Time by Weekday"
   ]
  },
  {
   "cell_type": "code",
   "execution_count": null,
   "metadata": {},
   "outputs": [],
   "source": [
    "sns.catplot(\n",
    "    data=ax_data,\n",
    "    kind=\"bar\",\n",
    "    x=\"Time\",\n",
    "    y=\"Value\",\n",
    "    row=\"DayOfWeek\",\n",
    "    row_order=weekday_order,\n",
    "    ci=None,\n",
    "    estimator=np.sum,\n",
    "    height=6,\n",
    "    aspect=2,\n",
    ")"
   ]
  },
  {
   "cell_type": "markdown",
   "metadata": {},
   "source": [
    "## Hours"
   ]
  },
  {
   "cell_type": "code",
   "execution_count": 10,
   "metadata": {},
   "outputs": [
    {
     "data": {
      "text/plain": [
       "<matplotlib.axes._subplots.AxesSubplot at 0x1fe97e3d508>"
      ]
     },
     "execution_count": 10,
     "metadata": {},
     "output_type": "execute_result"
    },
    {
     "data": {
      "image/png": "[encoded data removed]",
      "text/plain": [
       "<Figure size 1152x1440 with 2 Axes>"
      ]
     },
     "metadata": {},
     "output_type": "display_data"
    }
   ],
   "source": [
    "import seaborn as sns\n",
    "import matplotlib.pyplot as plt\n",
    "\n",
    "sns.set()\n",
    "\n",
    "fig, (ax_weekend, ax_workdays) = plt.subplots(\n",
    "    nrows=2, ncols=1, sharey=\"all\", figsize=(16, 20)\n",
    ")\n",
    "plt.tight_layout()\n",
    "sns.barplot(\n",
    "    data=ax_data_workdays.eval(\"Value = Value / 5\"),  # average workday\n",
    "    x=\"Hour\",\n",
    "    y=\"Value\",\n",
    "    estimator=np.sum,\n",
    "    ci=None,\n",
    "    ax=ax_workdays,\n",
    ")\n",
    "sns.barplot(\n",
    "    data=ax_data_weekends.eval(\"Value = Value / 2\"),  # average weekend day\n",
    "    x=\"Hour\",\n",
    "    y=\"Value\",\n",
    "    estimator=np.sum,\n",
    "    ci=None,\n",
    "    ax=ax_weekend,\n",
    ")"
   ]
  },
  {
   "cell_type": "markdown",
   "metadata": {
    "toc-hr-collapsed": true
   },
   "source": [
    "## Time Slots"
   ]
  },
  {
   "cell_type": "code",
   "execution_count": null,
   "metadata": {},
   "outputs": [],
   "source": [
    "ax_data[\"TimeSlot\"].value_counts()"
   ]
  },
  {
   "cell_type": "markdown",
   "metadata": {},
   "source": [
    "### Plot sum(value) per time slot, scaled to one day"
   ]
  },
  {
   "cell_type": "code",
   "execution_count": null,
   "metadata": {},
   "outputs": [],
   "source": [
    "fig, (ax_weekend, ax_workdays) = plt.subplots(\n",
    "    nrows=2, ncols=1, sharey=\"all\", figsize=(10, 12)\n",
    ")\n",
    "plt.tight_layout()\n",
    "sns.barplot(\n",
    "    data=ax_data_weekends.eval(\"Value = Value / 2\"),\n",
    "    x=\"TimeSlot\",\n",
    "    y=\"Value\",\n",
    "    estimator=np.sum,\n",
    "    ci=None,\n",
    "    ax=ax_weekend,\n",
    ")\n",
    "sns.barplot(\n",
    "    data=ax_data_workdays.eval(\"Value = Value / 5\"),\n",
    "    x=\"TimeSlot\",\n",
    "    y=\"Value\",\n",
    "    estimator=np.sum,\n",
    "    ci=None,\n",
    "    ax=ax_workdays,\n",
    ")"
   ]
  },
  {
   "cell_type": "markdown",
   "metadata": {},
   "source": [
    "## Stations"
   ]
  },
  {
   "cell_type": "code",
   "execution_count": null,
   "metadata": {},
   "outputs": [],
   "source": [
    "ax_data.Station.value_counts()"
   ]
  },
  {
   "cell_type": "code",
   "execution_count": null,
   "metadata": {},
   "outputs": [],
   "source": [
    "plt.figure(figsize=(16, 10))\n",
    "plt.xticks(rotation=90)\n",
    "\n",
    "sns.barplot(data=ax_data, x=\"Station\", y=\"Value\", ci=None, estimator=np.sum)"
   ]
  },
  {
   "cell_type": "markdown",
   "metadata": {},
   "source": [
    "## Weekdays"
   ]
  },
  {
   "cell_type": "code",
   "execution_count": null,
   "metadata": {},
   "outputs": [],
   "source": [
    "ax_data.DayOfWeek.value_counts()"
   ]
  },
  {
   "cell_type": "code",
   "execution_count": null,
   "metadata": {},
   "outputs": [],
   "source": [
    "plt.figure(figsize=(16, 10))\n",
    "\n",
    "sns.barplot(\n",
    "    data=ax_data,\n",
    "    x=\"DayOfWeek\",\n",
    "    y=\"Value\",\n",
    "    ci=\"sd\",\n",
    "    estimator=np.sum,\n",
    "    order=weekday_order,\n",
    ")"
   ]
  },
  {
   "cell_type": "markdown",
   "metadata": {},
   "source": [
    "## Months"
   ]
  },
  {
   "cell_type": "code",
   "execution_count": null,
   "metadata": {},
   "outputs": [],
   "source": [
    "ax_data.Month.value_counts()"
   ]
  },
  {
   "cell_type": "code",
   "execution_count": null,
   "metadata": {},
   "outputs": [],
   "source": [
    "plt.figure(figsize=(16, 10))\n",
    "\n",
    "sns.barplot(\n",
    "    data=ax_data,\n",
    "    x=\"Month\",\n",
    "    y=\"Value\",\n",
    "    estimator=np.sum,\n",
    ")"
   ]
  },
  {
   "cell_type": "markdown",
   "metadata": {
    "toc-hr-collapsed": true
   },
   "source": [
    "# Tests for Independence"
   ]
  },
  {
   "cell_type": "code",
   "execution_count": null,
   "metadata": {},
   "outputs": [],
   "source": [
    "from scipy.stats import chi2_contingency\n",
    "\n",
    "def factor_dependance(variable, factor, partitions):\n",
    "    data = ax_data.loc[ax_data.Variable == variable]\n",
    "    result = pd.DataFrame(columns=[\"Var\", \"Label\", f\"p_{factor}\"])\n",
    "    for label, subset in data.groupby(partitions):\n",
    "        result_row = {\"Var\": variable, \"Label\": label}\n",
    "        contingency_tab = subset.pivot_table(\n",
    "            index=\"Code\", columns=factor, aggfunc=\"size\", fill_value=0, observed=True\n",
    "        )\n",
    "        p_factor = chi2_contingency(contingency_tab)[1]\n",
    "        result_row[f\"p_{factor}\"] = p_factor\n",
    "        result = result.append(result_row, ignore_index=True, sort=False)\n",
    "    return result"
   ]
  },
  {
   "cell_type": "markdown",
   "metadata": {
    "toc-hr-collapsed": true
   },
   "source": [
    "## For all variables, find stations where the distribution of codes is dependent on day time"
   ]
  },
  {
   "cell_type": "code",
   "execution_count": null,
   "metadata": {},
   "outputs": [],
   "source": [
    "%%time\n",
    "factor = \"Time\"\n",
    "partitions = [\"Station\"]\n",
    "\n",
    "all_var_assoc_time = pd.DataFrame(columns=[\"Var\", \"Label\", f\"p_{factor}\"])\n",
    "for v in var:\n",
    "    var_assoc = (factor_dependance(v, factor=factor, partitions=partitions)\n",
    "                 .query(f\"p_{factor} <= 0.05\"))\n",
    "    all_var_assoc_time = all_var_assoc_time.append(\n",
    "        var_assoc, ignore_index=True, sort=False\n",
    "    )\n",
    "\n",
    "all_var_assoc_time[\"VarDesc\"] = lookup(\n",
    "    ax_var_labels, \n",
    "    target_col_name=\"Label\", \n",
    "    match_col=all_var_assoc_time[\"Var\"], \n",
    "    target_match_col_name=\"Variable\",\n",
    ")"
   ]
  },
  {
   "cell_type": "code",
   "execution_count": null,
   "metadata": {},
   "outputs": [],
   "source": [
    "%%time\n",
    "factor = \"TimeSlot\"\n",
    "partitions = [\"Station\"]\n",
    "\n",
    "all_var_assoc_timeslot = pd.DataFrame(columns=[\"Var\", \"Label\", f\"p_{factor}\"])\n",
    "for v in var:\n",
    "    var_assoc = (table_stats(v, factor=factor, partitions=partitions)\n",
    "                 .query(f\"p_{factor} <= 0.05\"))\n",
    "    all_var_assoc_timeslot = all_var_assoc_timeslot.append(\n",
    "        var_assoc, ignore_index=True, sort=False\n",
    "    )\n",
    "\n",
    "all_var_assoc_timeslot[\"VarDesc\"] = lookup(\n",
    "    ax_var_labels, \n",
    "    target_col_name=\"Label\", \n",
    "    match_col=all_var_assoc_timeslot[\"Var\"], \n",
    "    target_match_col_name=\"Variable\",\n",
    ")"
   ]
  },
  {
   "cell_type": "code",
   "execution_count": null,
   "metadata": {},
   "outputs": [],
   "source": [
    "var_stations_time = pd.crosstab(\n",
    "    index=all_var_assoc_time.VarDesc, columns=all_var_assoc_time.Label, margins=True\n",
    ")\n",
    "\n",
    "with project_dir(\"axinova\"):\n",
    "    write_xlsx(var_stations_time, \"var_by_station_vs_time.xlsx\", \"contigency tab\")"
   ]
  },
  {
   "cell_type": "code",
   "execution_count": null,
   "metadata": {},
   "outputs": [],
   "source": [
    "var_stations_timeslot = pd.crosstab(\n",
    "    index=all_var_assoc_timeslot.VarDesc, columns=all_var_assoc_timeslot.Label, margins=True\n",
    ")\n",
    "\n",
    "with project_dir(\"axinova\"):\n",
    "    write_xlsx(var_stations_timeslot, \"var_by_station_vs_timeslot.xlsx\", \"contigency tab\")"
   ]
  },
  {
   "cell_type": "markdown",
   "metadata": {},
   "source": [
    "### Which variables have the most stations where their codes are time-dependent?"
   ]
  },
  {
   "cell_type": "code",
   "execution_count": null,
   "metadata": {},
   "outputs": [],
   "source": [
    "all_var_assoc_time.groupby(\"Var\", as_index=False).agg(\n",
    "    {\"VarDesc\": \"max\", \"Label\": [\"count\", collect]}\n",
    ").set_axis(\n",
    "    [\"Variable\", \"VarDesc\", \"#\", \"Stations\"], axis=\"columns\", inplace=False\n",
    ").sort_values(\n",
    "    \"#\", ascending=False\n",
    ").set_index(\n",
    "    \"Variable\"\n",
    ")"
   ]
  },
  {
   "cell_type": "markdown",
   "metadata": {},
   "source": [
    "### Which stations have the most variables whose codes are time-dependent?"
   ]
  },
  {
   "cell_type": "code",
   "execution_count": null,
   "metadata": {},
   "outputs": [],
   "source": [
    "all_var_assoc_time.groupby(\"Label\", as_index=False).agg(\n",
    "    {\"Var\": [\"size\", collect]}\n",
    ").set_axis([\"Station\", \"#\", \"Variables\"], axis=\"columns\", inplace=False).sort_values(\n",
    "    \"#\", ascending=False\n",
    ").set_index(\n",
    "    \"Station\"\n",
    ")"
   ]
  },
  {
   "cell_type": "markdown",
   "metadata": {},
   "source": [
    "## For a single variable, show distribution of codes over time"
   ]
  },
  {
   "cell_type": "code",
   "execution_count": null,
   "metadata": {},
   "outputs": [],
   "source": [
    "import altair as alt\n",
    "\n",
    "alt.data_transformers.enable(\"default\", max_rows=None)\n",
    "\n",
    "time_order = {\"DayOfWeek\": weekday_order, \"TimeSlot\": timeSlot_order}\n",
    "\n",
    "def plot_var_time_dist(data, variable, over, station, as_percent=False):\n",
    "    subset = (\n",
    "        data.query(\"Station == @station and Variable == @variable\")\n",
    "        .pipe(clean_up_categoricals)\n",
    "        .copy()\n",
    "    )\n",
    "    codes_sorted = variable in var_code_order\n",
    "    if codes_sorted:\n",
    "        subset[\"Code_order\"] = subset[\"Code\"].replace(var_code_order[variable])\n",
    "        code_list_sorted = list(var_code_order[variable])\n",
    "    chart = (\n",
    "        alt.Chart(subset)\n",
    "        .mark_bar()\n",
    "        .encode(\n",
    "            x=alt.X(\"sum(Value)\", stack=\"normalize\") if as_percent else \"sum(Value)\",\n",
    "            y=alt.Y(\n",
    "                over,\n",
    "                sort=time_order.get(over, \"ascending\"),\n",
    "            ),\n",
    "            color=alt.Color(\n",
    "                \"Code\",\n",
    "                sort=code_list_sorted if codes_sorted else \"ascending\",\n",
    "                scale=alt.Scale(scheme=\"spectral\" if codes_sorted else \"category20\"),\n",
    "            ),\n",
    "            order=alt.Order(\"Code_order\") if codes_sorted else alt.Order(\"Code\"),\n",
    "        )\n",
    "        .configure_view(width=800)\n",
    "        .properties(\n",
    "            title=f\"{var_label(variable)} | {over} [{station}]\"\n",
    "            + (\", Prozent\" if as_percent else \"\")\n",
    "        )\n",
    "    )\n",
    "    return chart"
   ]
  },
  {
   "cell_type": "code",
   "execution_count": null,
   "metadata": {},
   "outputs": [],
   "source": [
    "plot_var_time_dist(\n",
    "    data=ax_data_weekends,\n",
    "    variable=var.md_hhverm,\n",
    "    over=\"Month\",\n",
    "    station=\"Zürich Oerlikon\",\n",
    "    as_percent=False,\n",
    ")"
   ]
  },
  {
   "cell_type": "markdown",
   "metadata": {
    "toc-hr-collapsed": false
   },
   "source": [
    "# ANOVA"
   ]
  },
  {
   "cell_type": "code",
   "execution_count": null,
   "metadata": {},
   "outputs": [],
   "source": [
    "import statsmodels.formula.api as smf\n",
    "from statsmodels.stats.anova import anova_lm"
   ]
  },
  {
   "cell_type": "code",
   "execution_count": null,
   "metadata": {},
   "outputs": [],
   "source": [
    "def anova_table(aov):\n",
    "    \"\"\"Calculate ANOVA table\"\"\"\n",
    "    aov[\"mean_sq\"] = aov[:][\"sum_sq\"] / aov[:][\"df\"]\n",
    "    aov[\"eta_sq\"] = aov[:-1][\"sum_sq\"] / sum(aov[\"sum_sq\"])\n",
    "    aov[\"omega_sq\"] = (aov[:-1][\"sum_sq\"] - (aov[:-1][\"df\"] * aov[\"mean_sq\"][-1])) / (\n",
    "        sum(aov[\"sum_sq\"]) + aov[\"mean_sq\"][-1]\n",
    "    )\n",
    "    cols = [\"sum_sq\", \"df\", \"mean_sq\", \"F\", \"PR(>F)\", \"eta_sq\", \"omega_sq\"]\n",
    "    aov = aov[cols]\n",
    "    return aov\n",
    "\n",
    "\n",
    "def calc_anova(data, variable, formula=\"logValue ~ Code + Station + DayOfWeek\"):\n",
    "    subset = data.loc[data.Variable == variable].pipe(clean_up_categoricals)\n",
    "    subset = subset.assign(\n",
    "        label=subset.Station.str.cat([subset.DayOfWeek.str[:3], subset.Code], sep=\"|\")\n",
    "    )\n",
    "    subset.set_index(\"label\", inplace=True)\n",
    "    mod = smf.ols(formula=formula, data=subset)\n",
    "    res = mod.fit()\n",
    "    print(f\"Variable: {var_label(variable)}\")\n",
    "    display(anova_table(anova_lm(res, typ=2)))\n",
    "    print(res.summary())\n",
    "\n",
    "\n",
    "def anova_stats(data, variable):\n",
    "    \"\"\"ANOVA statistics\"\"\"\n",
    "    subset = data.loc[data.Variable == variable].pipe(clean_up_categoricals)\n",
    "\n",
    "    lm_base = smf.ols(formula=\"logValue ~ Code:TimeSlot:DayOfWeek\", data=subset).fit()\n",
    "    lm_base_station = smf.ols(\n",
    "        formula=\"logValue ~ Code:TimeSlot:DayOfWeek + Station\", data=subset\n",
    "    ).fit()\n",
    "    lm_base_station_month = smf.ols(\n",
    "        formula=\"logValue ~ Code:TimeSlot:DayOfWeek + Station + Month\", data=subset\n",
    "    ).fit()\n",
    "    return {\n",
    "        \"var\": variable,\n",
    "        \"base\": lm_base.rsquared,\n",
    "        \"base+station\": lm_base_station.rsquared,\n",
    "        \"base+station+month\": lm_base_station_month.rsquared,\n",
    "    }"
   ]
  },
  {
   "cell_type": "code",
   "execution_count": null,
   "metadata": {},
   "outputs": [],
   "source": [
    "%%time\n",
    "all_var_stats = pd.DataFrame.from_records(\n",
    "    columns=\"var base base+station base+station+month\".split(),\n",
    "    data=[anova_stats(ax_data_workdays, v) for v in var.keys()],\n",
    "    index=\"var\",\n",
    ")\n",
    "\n",
    "all_var_stats = all_var_stats.assign(\n",
    "    **{\n",
    "        \"plus_station\": all_var_stats[\"base+station\"] - all_var_stats[\"base\"],\n",
    "        \"plus_month\": all_var_stats[\"base+station+month\"]\n",
    "        - all_var_stats[\"base+station\"],\n",
    "        \"plus_station_month\": all_var_stats[\"base+station+month\"]\n",
    "        - all_var_stats[\"base\"],\n",
    "    }\n",
    ")"
   ]
  },
  {
   "cell_type": "code",
   "execution_count": null,
   "metadata": {},
   "outputs": [],
   "source": [
    "all_var_stats.sort_values(\"base+station+month\", ascending=False).loc[\n",
    "    :, \"base plus_station plus_month base+station+month\".split()\n",
    "]"
   ]
  },
  {
   "cell_type": "code",
   "execution_count": null,
   "metadata": {},
   "outputs": [],
   "source": [
    "calc_anova(ax_data_workdays, var.g_220, formula='logValue ~ Code:TimeSlot:DayOfWeek + Station + Month')"
   ]
  }
 ],
 "metadata": {
  "kernelspec": {
   "display_name": "Python 3",
   "language": "python",
   "name": "python3"
  },
  "language_info": {
   "codemirror_mode": {
    "name": "ipython",
    "version": 3
   },
   "file_extension": ".py",
   "mimetype": "text/x-python",
   "name": "python",
   "nbconvert_exporter": "python",
   "pygments_lexer": "ipython3",
   "version": "3.7.4"
  }
 },
 "nbformat": 4,
 "nbformat_minor": 4
}
