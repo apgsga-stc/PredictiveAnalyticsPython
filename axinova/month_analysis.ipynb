{
 "cells": [
  {
   "cell_type": "code",
   "execution_count": 1,
   "metadata": {
    "pycharm": {
     "is_executing": false
    }
   },
   "outputs": [],
   "source": [
    "# make imports from pa_lib possible (parent directory of file's directory)\n",
    "import sys\n",
    "from pathlib import Path\n",
    "\n",
    "file_dir = Path.cwd()\n",
    "parent_dir = file_dir.parent\n",
    "sys.path.append(str(parent_dir))\n",
    "\n",
    "%load_ext autoreload\n",
    "%autoreload\n",
    "\n",
    "import pandas as pd\n",
    "import numpy as np\n",
    "import altair as alt\n",
    "\n",
    "from collections import namedtuple\n",
    "\n",
    "from pa_lib.file import (\n",
    "    project_dir,\n",
    "    load_bin,\n",
    "    store_bin,\n",
    ")\n",
    "\n",
    "# display long columns completely, show more rows\n",
    "pd.set_option(\"display.max_colwidth\", 300)\n",
    "pd.set_option(\"display.max_rows\", 200)\n",
    "pd.set_option(\"display.max_columns\", 200)"
   ]
  },
  {
   "cell_type": "markdown",
   "metadata": {},
   "source": [
    "# Load data"
   ]
  },
  {
   "cell_type": "code",
   "execution_count": 2,
   "metadata": {},
   "outputs": [
    {
     "name": "stdout",
     "output_type": "stream",
     "text": [
      "15:25:18 [INFO] Started loading binary file ...\n",
      "15:25:18 [INFO] Reading from file C:\\Users\\kpf\\data\\axinova\\ax_data.feather\n",
      "15:25:19 [INFO] ... finished loading binary file in 0.44s (1.41s CPU)\n",
      "15:25:19 [INFO] Started loading binary file ...\n",
      "15:25:19 [INFO] Reading from file C:\\Users\\kpf\\data\\axinova\\ax_var_struct.feather\n",
      "15:25:19 [INFO] ... finished loading binary file in 0.0s (0.0s CPU)\n"
     ]
    }
   ],
   "source": [
    "with project_dir(\"axinova\"):\n",
    "    ax_data = load_bin(\"ax_data.feather\")\n",
    "    ax_var_struct = load_bin(\"ax_var_struct.feather\")\n",
    "\n",
    "Variable = namedtuple(\"Variable\", [\"Label\", \"Codes\", \"Order\"])\n",
    "\n",
    "var_info = {}\n",
    "for var, data in ax_var_struct.groupby(\"Variable\"):\n",
    "    var_info[var] = Variable(\n",
    "        data[\"Variable_Label\"].max(),\n",
    "        data[\"Label\"].to_list(),\n",
    "        data[\"Label_Nr\"].to_list(),\n",
    "    )"
   ]
  },
  {
   "cell_type": "markdown",
   "metadata": {},
   "source": [
    "# Summarize per Year / Month"
   ]
  },
  {
   "cell_type": "code",
   "execution_count": 3,
   "metadata": {},
   "outputs": [
    {
     "data": {
      "text/plain": [
       "Index(['Station', 'DayOfWeek', 'Time', 'Variable', 'Code', 'Value', 'Year',\n",
       "       'Month', 'logValue', 'VarDesc', 'TimeSlot', 'ShortTime', 'Hour',\n",
       "       'is_weekend', 'is_day', 'is_rush', 'is_day_no_rush', 'TimeSlot_cat',\n",
       "       'StationSprache'],\n",
       "      dtype='object')"
      ]
     },
     "execution_count": 3,
     "metadata": {},
     "output_type": "execute_result"
    }
   ],
   "source": [
    "ax_data.columns"
   ]
  },
  {
   "cell_type": "code",
   "execution_count": 4,
   "metadata": {},
   "outputs": [],
   "source": [
    "ax_data.loc[:, \"YearMonth\"] = ax_data[\"Year\"].astype(\"str\").str.cat(ax_data[\"Month\"], sep=\".\")"
   ]
  },
  {
   "cell_type": "code",
   "execution_count": 17,
   "metadata": {},
   "outputs": [],
   "source": [
    "ax_months = ax_data.groupby([\"YearMonth\", \"Station\"], observed=True, as_index=False)[\"Value\"].agg(\"sum\")"
   ]
  },
  {
   "cell_type": "markdown",
   "metadata": {},
   "source": [
    "## Correct for changing panel size"
   ]
  },
  {
   "cell_type": "code",
   "execution_count": 18,
   "metadata": {},
   "outputs": [],
   "source": [
    "panel_size = {\n",
    "    \"2019.05\": 1980,\n",
    "    \"2019.06\": 1991,\n",
    "    \"2019.07\": 1975,\n",
    "    \"2019.08\": 2025,\n",
    "    \"2019.09\": 1936,\n",
    "    \"2019.10\": 1935,\n",
    "    \"2019.11\": 1938,\n",
    "    \"2019.12\": 2218,\n",
    "    \"2020.01\": 3039,\n",
    "    \"2020.02\": 3069,\n",
    "}"
   ]
  },
  {
   "cell_type": "code",
   "execution_count": 19,
   "metadata": {},
   "outputs": [],
   "source": [
    "# Scale all months to a panel size of 2000\n",
    "for month, size in panel_size.items():\n",
    "    ax_months.loc[ax_months[\"YearMonth\"] == month, \"Value\"] *= (2000 / panel_size[month])"
   ]
  },
  {
   "cell_type": "code",
   "execution_count": 20,
   "metadata": {},
   "outputs": [
    {
     "data": {
      "text/html": [
       "<div>\n",
       "<style scoped>\n",
       "    .dataframe tbody tr th:only-of-type {\n",
       "        vertical-align: middle;\n",
       "    }\n",
       "\n",
       "    .dataframe tbody tr th {\n",
       "        vertical-align: top;\n",
       "    }\n",
       "\n",
       "    .dataframe thead th {\n",
       "        text-align: right;\n",
       "    }\n",
       "</style>\n",
       "<table border=\"1\" class=\"dataframe\">\n",
       "  <thead>\n",
       "    <tr style=\"text-align: right;\">\n",
       "      <th>YearMonth</th>\n",
       "      <th>2019.05</th>\n",
       "      <th>2019.06</th>\n",
       "      <th>2019.07</th>\n",
       "      <th>2019.08</th>\n",
       "      <th>2019.09</th>\n",
       "      <th>2019.10</th>\n",
       "      <th>2019.11</th>\n",
       "      <th>2019.12</th>\n",
       "      <th>2020.01</th>\n",
       "      <th>2020.02</th>\n",
       "    </tr>\n",
       "    <tr>\n",
       "      <th>Station</th>\n",
       "      <th></th>\n",
       "      <th></th>\n",
       "      <th></th>\n",
       "      <th></th>\n",
       "      <th></th>\n",
       "      <th></th>\n",
       "      <th></th>\n",
       "      <th></th>\n",
       "      <th></th>\n",
       "      <th></th>\n",
       "    </tr>\n",
       "  </thead>\n",
       "  <tbody>\n",
       "    <tr>\n",
       "      <th>Aarau</th>\n",
       "      <td>136013</td>\n",
       "      <td>134825</td>\n",
       "      <td>104607</td>\n",
       "      <td>119895</td>\n",
       "      <td>129874</td>\n",
       "      <td>121120</td>\n",
       "      <td>118078</td>\n",
       "      <td>93602</td>\n",
       "      <td>105152</td>\n",
       "      <td>120005</td>\n",
       "    </tr>\n",
       "    <tr>\n",
       "      <th>Basel SBB</th>\n",
       "      <td>199353</td>\n",
       "      <td>181986</td>\n",
       "      <td>168060</td>\n",
       "      <td>180375</td>\n",
       "      <td>216389</td>\n",
       "      <td>202165</td>\n",
       "      <td>210597</td>\n",
       "      <td>188709</td>\n",
       "      <td>162059</td>\n",
       "      <td>161039</td>\n",
       "    </tr>\n",
       "    <tr>\n",
       "      <th>Bellinzona</th>\n",
       "      <td>34645</td>\n",
       "      <td>35747</td>\n",
       "      <td>46461</td>\n",
       "      <td>33993</td>\n",
       "      <td>36074</td>\n",
       "      <td>40490</td>\n",
       "      <td>28931</td>\n",
       "      <td>29515</td>\n",
       "      <td>24762</td>\n",
       "      <td>33958</td>\n",
       "    </tr>\n",
       "    <tr>\n",
       "      <th>Bern</th>\n",
       "      <td>541136</td>\n",
       "      <td>344326</td>\n",
       "      <td>355315</td>\n",
       "      <td>359135</td>\n",
       "      <td>380102</td>\n",
       "      <td>388117</td>\n",
       "      <td>388270</td>\n",
       "      <td>325601</td>\n",
       "      <td>271793</td>\n",
       "      <td>308105</td>\n",
       "    </tr>\n",
       "    <tr>\n",
       "      <th>Biel/Bienne</th>\n",
       "      <td>131282</td>\n",
       "      <td>116941</td>\n",
       "      <td>111797</td>\n",
       "      <td>124152</td>\n",
       "      <td>123531</td>\n",
       "      <td>100344</td>\n",
       "      <td>121308</td>\n",
       "      <td>99065</td>\n",
       "      <td>67173</td>\n",
       "      <td>81789</td>\n",
       "    </tr>\n",
       "    <tr>\n",
       "      <th>Brig</th>\n",
       "      <td>26010</td>\n",
       "      <td>27369</td>\n",
       "      <td>32817</td>\n",
       "      <td>35154</td>\n",
       "      <td>26695</td>\n",
       "      <td>23918</td>\n",
       "      <td>28054</td>\n",
       "      <td>31748</td>\n",
       "      <td>29544</td>\n",
       "      <td>44948</td>\n",
       "    </tr>\n",
       "    <tr>\n",
       "      <th>Chur</th>\n",
       "      <td>49494</td>\n",
       "      <td>40824</td>\n",
       "      <td>32115</td>\n",
       "      <td>38985</td>\n",
       "      <td>37769</td>\n",
       "      <td>30215</td>\n",
       "      <td>31171</td>\n",
       "      <td>38207</td>\n",
       "      <td>45483</td>\n",
       "      <td>53289</td>\n",
       "    </tr>\n",
       "    <tr>\n",
       "      <th>Fribourg</th>\n",
       "      <td>159315</td>\n",
       "      <td>120269</td>\n",
       "      <td>120406</td>\n",
       "      <td>96882</td>\n",
       "      <td>152840</td>\n",
       "      <td>143818</td>\n",
       "      <td>161161</td>\n",
       "      <td>143237</td>\n",
       "      <td>96632</td>\n",
       "      <td>120506</td>\n",
       "    </tr>\n",
       "    <tr>\n",
       "      <th>Genève Aéroport</th>\n",
       "      <td>58313</td>\n",
       "      <td>25311</td>\n",
       "      <td>67573</td>\n",
       "      <td>52543</td>\n",
       "      <td>55237</td>\n",
       "      <td>50889</td>\n",
       "      <td>36190</td>\n",
       "      <td>28392</td>\n",
       "      <td>29434</td>\n",
       "      <td>33888</td>\n",
       "    </tr>\n",
       "    <tr>\n",
       "      <th>Genève Cornavin</th>\n",
       "      <td>151485</td>\n",
       "      <td>137372</td>\n",
       "      <td>141667</td>\n",
       "      <td>126347</td>\n",
       "      <td>129530</td>\n",
       "      <td>139469</td>\n",
       "      <td>163519</td>\n",
       "      <td>142737</td>\n",
       "      <td>121331</td>\n",
       "      <td>143874</td>\n",
       "    </tr>\n",
       "    <tr>\n",
       "      <th>Lausanne</th>\n",
       "      <td>265863</td>\n",
       "      <td>246129</td>\n",
       "      <td>266723</td>\n",
       "      <td>229114</td>\n",
       "      <td>290013</td>\n",
       "      <td>237286</td>\n",
       "      <td>282471</td>\n",
       "      <td>277475</td>\n",
       "      <td>225907</td>\n",
       "      <td>231571</td>\n",
       "    </tr>\n",
       "    <tr>\n",
       "      <th>Lugano</th>\n",
       "      <td>86211</td>\n",
       "      <td>79491</td>\n",
       "      <td>80898</td>\n",
       "      <td>66636</td>\n",
       "      <td>86606</td>\n",
       "      <td>75476</td>\n",
       "      <td>61827</td>\n",
       "      <td>57356</td>\n",
       "      <td>38825</td>\n",
       "      <td>48412</td>\n",
       "    </tr>\n",
       "    <tr>\n",
       "      <th>Luzern</th>\n",
       "      <td>168987</td>\n",
       "      <td>156264</td>\n",
       "      <td>157243</td>\n",
       "      <td>143040</td>\n",
       "      <td>165428</td>\n",
       "      <td>168143</td>\n",
       "      <td>170640</td>\n",
       "      <td>194088</td>\n",
       "      <td>153954</td>\n",
       "      <td>170322</td>\n",
       "    </tr>\n",
       "    <tr>\n",
       "      <th>M2</th>\n",
       "      <td>0</td>\n",
       "      <td>0</td>\n",
       "      <td>29131</td>\n",
       "      <td>67474</td>\n",
       "      <td>87996</td>\n",
       "      <td>75708</td>\n",
       "      <td>97065</td>\n",
       "      <td>111271</td>\n",
       "      <td>119467</td>\n",
       "      <td>103034</td>\n",
       "    </tr>\n",
       "    <tr>\n",
       "      <th>Neuchatel</th>\n",
       "      <td>17736</td>\n",
       "      <td>74917</td>\n",
       "      <td>65298</td>\n",
       "      <td>67274</td>\n",
       "      <td>102327</td>\n",
       "      <td>94952</td>\n",
       "      <td>99208</td>\n",
       "      <td>82235</td>\n",
       "      <td>56049</td>\n",
       "      <td>58885</td>\n",
       "    </tr>\n",
       "    <tr>\n",
       "      <th>Olten</th>\n",
       "      <td>165854</td>\n",
       "      <td>131502</td>\n",
       "      <td>135227</td>\n",
       "      <td>130070</td>\n",
       "      <td>163482</td>\n",
       "      <td>169097</td>\n",
       "      <td>172161</td>\n",
       "      <td>135529</td>\n",
       "      <td>112266</td>\n",
       "      <td>134837</td>\n",
       "    </tr>\n",
       "    <tr>\n",
       "      <th>St. Gallen</th>\n",
       "      <td>147323</td>\n",
       "      <td>101505</td>\n",
       "      <td>71456</td>\n",
       "      <td>83022</td>\n",
       "      <td>95062</td>\n",
       "      <td>87698</td>\n",
       "      <td>80212</td>\n",
       "      <td>70156</td>\n",
       "      <td>73825</td>\n",
       "      <td>106534</td>\n",
       "    </tr>\n",
       "    <tr>\n",
       "      <th>Winterthur</th>\n",
       "      <td>192603</td>\n",
       "      <td>176111</td>\n",
       "      <td>150681</td>\n",
       "      <td>147665</td>\n",
       "      <td>170049</td>\n",
       "      <td>141301</td>\n",
       "      <td>161589</td>\n",
       "      <td>143352</td>\n",
       "      <td>153886</td>\n",
       "      <td>160245</td>\n",
       "    </tr>\n",
       "    <tr>\n",
       "      <th>Zug</th>\n",
       "      <td>149129</td>\n",
       "      <td>120127</td>\n",
       "      <td>118707</td>\n",
       "      <td>130195</td>\n",
       "      <td>101909</td>\n",
       "      <td>94008</td>\n",
       "      <td>88528</td>\n",
       "      <td>80841</td>\n",
       "      <td>90647</td>\n",
       "      <td>98483</td>\n",
       "    </tr>\n",
       "    <tr>\n",
       "      <th>Zürich Enge</th>\n",
       "      <td>44265</td>\n",
       "      <td>38751</td>\n",
       "      <td>45968</td>\n",
       "      <td>48003</td>\n",
       "      <td>47409</td>\n",
       "      <td>40080</td>\n",
       "      <td>43575</td>\n",
       "      <td>42879</td>\n",
       "      <td>54818</td>\n",
       "      <td>50271</td>\n",
       "    </tr>\n",
       "    <tr>\n",
       "      <th>Zürich Flughafen</th>\n",
       "      <td>120558</td>\n",
       "      <td>101724</td>\n",
       "      <td>117717</td>\n",
       "      <td>50475</td>\n",
       "      <td>0</td>\n",
       "      <td>0</td>\n",
       "      <td>0</td>\n",
       "      <td>0</td>\n",
       "      <td>0</td>\n",
       "      <td>0</td>\n",
       "    </tr>\n",
       "    <tr>\n",
       "      <th>Zürich Flughafen - Airside</th>\n",
       "      <td>0</td>\n",
       "      <td>0</td>\n",
       "      <td>0</td>\n",
       "      <td>65990</td>\n",
       "      <td>142414</td>\n",
       "      <td>109353</td>\n",
       "      <td>94279</td>\n",
       "      <td>99874</td>\n",
       "      <td>72802</td>\n",
       "      <td>69436</td>\n",
       "    </tr>\n",
       "    <tr>\n",
       "      <th>Zürich Flughafen - Landside</th>\n",
       "      <td>0</td>\n",
       "      <td>0</td>\n",
       "      <td>0</td>\n",
       "      <td>63931</td>\n",
       "      <td>162651</td>\n",
       "      <td>135178</td>\n",
       "      <td>114893</td>\n",
       "      <td>132581</td>\n",
       "      <td>89597</td>\n",
       "      <td>102920</td>\n",
       "    </tr>\n",
       "    <tr>\n",
       "      <th>Zürich HB</th>\n",
       "      <td>752006</td>\n",
       "      <td>700130</td>\n",
       "      <td>696690</td>\n",
       "      <td>664564</td>\n",
       "      <td>716876</td>\n",
       "      <td>675139</td>\n",
       "      <td>726794</td>\n",
       "      <td>714445</td>\n",
       "      <td>571978</td>\n",
       "      <td>645110</td>\n",
       "    </tr>\n",
       "    <tr>\n",
       "      <th>Zürich Hardbrücke</th>\n",
       "      <td>175967</td>\n",
       "      <td>153051</td>\n",
       "      <td>162758</td>\n",
       "      <td>155575</td>\n",
       "      <td>151222</td>\n",
       "      <td>123838</td>\n",
       "      <td>128618</td>\n",
       "      <td>128757</td>\n",
       "      <td>102094</td>\n",
       "      <td>132689</td>\n",
       "    </tr>\n",
       "    <tr>\n",
       "      <th>Zürich Oerlikon</th>\n",
       "      <td>200812</td>\n",
       "      <td>164103</td>\n",
       "      <td>148027</td>\n",
       "      <td>163390</td>\n",
       "      <td>164838</td>\n",
       "      <td>145316</td>\n",
       "      <td>158630</td>\n",
       "      <td>164396</td>\n",
       "      <td>147681</td>\n",
       "      <td>186852</td>\n",
       "    </tr>\n",
       "    <tr>\n",
       "      <th>Zürich Stadelhofen</th>\n",
       "      <td>257828</td>\n",
       "      <td>221056</td>\n",
       "      <td>222238</td>\n",
       "      <td>194121</td>\n",
       "      <td>212498</td>\n",
       "      <td>178746</td>\n",
       "      <td>188885</td>\n",
       "      <td>197086</td>\n",
       "      <td>141536</td>\n",
       "      <td>179724</td>\n",
       "    </tr>\n",
       "  </tbody>\n",
       "</table>\n",
       "</div>"
      ],
      "text/plain": [
       "YearMonth                    2019.05  2019.06  2019.07  2019.08  2019.09  \\\n",
       "Station                                                                    \n",
       "Aarau                         136013   134825   104607   119895   129874   \n",
       "Basel SBB                     199353   181986   168060   180375   216389   \n",
       "Bellinzona                     34645    35747    46461    33993    36074   \n",
       "Bern                          541136   344326   355315   359135   380102   \n",
       "Biel/Bienne                   131282   116941   111797   124152   123531   \n",
       "Brig                           26010    27369    32817    35154    26695   \n",
       "Chur                           49494    40824    32115    38985    37769   \n",
       "Fribourg                      159315   120269   120406    96882   152840   \n",
       "Genève Aéroport                58313    25311    67573    52543    55237   \n",
       "Genève Cornavin               151485   137372   141667   126347   129530   \n",
       "Lausanne                      265863   246129   266723   229114   290013   \n",
       "Lugano                         86211    79491    80898    66636    86606   \n",
       "Luzern                        168987   156264   157243   143040   165428   \n",
       "M2                                 0        0    29131    67474    87996   \n",
       "Neuchatel                      17736    74917    65298    67274   102327   \n",
       "Olten                         165854   131502   135227   130070   163482   \n",
       "St. Gallen                    147323   101505    71456    83022    95062   \n",
       "Winterthur                    192603   176111   150681   147665   170049   \n",
       "Zug                           149129   120127   118707   130195   101909   \n",
       "Zürich Enge                    44265    38751    45968    48003    47409   \n",
       "Zürich Flughafen              120558   101724   117717    50475        0   \n",
       "Zürich Flughafen - Airside         0        0        0    65990   142414   \n",
       "Zürich Flughafen - Landside        0        0        0    63931   162651   \n",
       "Zürich HB                     752006   700130   696690   664564   716876   \n",
       "Zürich Hardbrücke             175967   153051   162758   155575   151222   \n",
       "Zürich Oerlikon               200812   164103   148027   163390   164838   \n",
       "Zürich Stadelhofen            257828   221056   222238   194121   212498   \n",
       "\n",
       "YearMonth                    2019.10  2019.11  2019.12  2020.01  2020.02  \n",
       "Station                                                                   \n",
       "Aarau                         121120   118078    93602   105152   120005  \n",
       "Basel SBB                     202165   210597   188709   162059   161039  \n",
       "Bellinzona                     40490    28931    29515    24762    33958  \n",
       "Bern                          388117   388270   325601   271793   308105  \n",
       "Biel/Bienne                   100344   121308    99065    67173    81789  \n",
       "Brig                           23918    28054    31748    29544    44948  \n",
       "Chur                           30215    31171    38207    45483    53289  \n",
       "Fribourg                      143818   161161   143237    96632   120506  \n",
       "Genève Aéroport                50889    36190    28392    29434    33888  \n",
       "Genève Cornavin               139469   163519   142737   121331   143874  \n",
       "Lausanne                      237286   282471   277475   225907   231571  \n",
       "Lugano                         75476    61827    57356    38825    48412  \n",
       "Luzern                        168143   170640   194088   153954   170322  \n",
       "M2                             75708    97065   111271   119467   103034  \n",
       "Neuchatel                      94952    99208    82235    56049    58885  \n",
       "Olten                         169097   172161   135529   112266   134837  \n",
       "St. Gallen                     87698    80212    70156    73825   106534  \n",
       "Winterthur                    141301   161589   143352   153886   160245  \n",
       "Zug                            94008    88528    80841    90647    98483  \n",
       "Zürich Enge                    40080    43575    42879    54818    50271  \n",
       "Zürich Flughafen                   0        0        0        0        0  \n",
       "Zürich Flughafen - Airside    109353    94279    99874    72802    69436  \n",
       "Zürich Flughafen - Landside   135178   114893   132581    89597   102920  \n",
       "Zürich HB                     675139   726794   714445   571978   645110  \n",
       "Zürich Hardbrücke             123838   128618   128757   102094   132689  \n",
       "Zürich Oerlikon               145316   158630   164396   147681   186852  \n",
       "Zürich Stadelhofen            178746   188885   197086   141536   179724  "
      ]
     },
     "execution_count": 20,
     "metadata": {},
     "output_type": "execute_result"
    }
   ],
   "source": [
    "ax_month_table = ax_months.pivot_table(values=\"Value\", index=\"Station\", columns=\"YearMonth\").fillna(0).round(0).astype(\"int\")\n",
    "\n",
    "ax_month_table"
   ]
  },
  {
   "cell_type": "markdown",
   "metadata": {},
   "source": [
    "# Graph"
   ]
  },
  {
   "cell_type": "code",
   "execution_count": 35,
   "metadata": {},
   "outputs": [
    {
     "data": {
      "application/vnd.vegalite.v3+json": {
       "$schema": "https://vega.github.io/schema/vega-lite/v3.4.0.json",
       "config": {
        "mark": {
         "tooltip": null
        },
        "view": {
         "height": 300,
         "width": 400
        }
       },
       "data": {
        "name": "data-6626fdf50fcd347386157f8a466cfeb7"
       },
       "datasets": {
        "data-6626fdf50fcd347386157f8a466cfeb7": [
         {
          "Station": "Aarau",
          "Value": 136012.64995795983,
          "YearMonth": "2019.05"
         },
         {
          "Station": "Basel SBB",
          "Value": 199353.3028201563,
          "YearMonth": "2019.05"
         },
         {
          "Station": "Bellinzona",
          "Value": 34644.955690876275,
          "YearMonth": "2019.05"
         },
         {
          "Station": "Bern",
          "Value": 541136.3028122153,
          "YearMonth": "2019.05"
         },
         {
          "Station": "Biel/Bienne",
          "Value": 131281.70973790155,
          "YearMonth": "2019.05"
         },
         {
          "Station": "Brig",
          "Value": 26009.550932948583,
          "YearMonth": "2019.05"
         },
         {
          "Station": "Chur",
          "Value": 49493.96415158937,
          "YearMonth": "2019.05"
         },
         {
          "Station": "Fribourg",
          "Value": 159315.32160663663,
          "YearMonth": "2019.05"
         },
         {
          "Station": "Genève Aéroport",
          "Value": 58313.15870880514,
          "YearMonth": "2019.05"
         },
         {
          "Station": "Genève Cornavin",
          "Value": 151485.49051159006,
          "YearMonth": "2019.05"
         },
         {
          "Station": "Lausanne",
          "Value": 265862.5490427572,
          "YearMonth": "2019.05"
         },
         {
          "Station": "Lugano",
          "Value": 86211.08223935652,
          "YearMonth": "2019.05"
         },
         {
          "Station": "Luzern",
          "Value": 168986.83727376498,
          "YearMonth": "2019.05"
         },
         {
          "Station": "Neuchatel",
          "Value": 17736.0794129185,
          "YearMonth": "2019.05"
         },
         {
          "Station": "Olten",
          "Value": 165853.77200180638,
          "YearMonth": "2019.05"
         },
         {
          "Station": "St. Gallen",
          "Value": 147322.9211534325,
          "YearMonth": "2019.05"
         },
         {
          "Station": "Winterthur",
          "Value": 192602.7109438426,
          "YearMonth": "2019.05"
         },
         {
          "Station": "Zug",
          "Value": 149128.54885981625,
          "YearMonth": "2019.05"
         },
         {
          "Station": "Zürich Enge",
          "Value": 44264.86075944555,
          "YearMonth": "2019.05"
         },
         {
          "Station": "Zürich Flughafen",
          "Value": 120558.11836537994,
          "YearMonth": "2019.05"
         },
         {
          "Station": "Zürich HB",
          "Value": 752006.233230307,
          "YearMonth": "2019.05"
         },
         {
          "Station": "Zürich Hardbrücke",
          "Value": 175966.67705473516,
          "YearMonth": "2019.05"
         },
         {
          "Station": "Zürich Oerlikon",
          "Value": 200812.30415961405,
          "YearMonth": "2019.05"
         },
         {
          "Station": "Zürich Stadelhofen",
          "Value": 257827.56624656604,
          "YearMonth": "2019.05"
         },
         {
          "Station": "Aarau",
          "Value": 134824.74918084743,
          "YearMonth": "2019.06"
         },
         {
          "Station": "Basel SBB",
          "Value": 181986.373252273,
          "YearMonth": "2019.06"
         },
         {
          "Station": "Bellinzona",
          "Value": 35746.52634375806,
          "YearMonth": "2019.06"
         },
         {
          "Station": "Bern",
          "Value": 344326.3723795866,
          "YearMonth": "2019.06"
         },
         {
          "Station": "Biel/Bienne",
          "Value": 116941.17858216808,
          "YearMonth": "2019.06"
         },
         {
          "Station": "Brig",
          "Value": 27368.537584567654,
          "YearMonth": "2019.06"
         },
         {
          "Station": "Chur",
          "Value": 40823.84720494086,
          "YearMonth": "2019.06"
         },
         {
          "Station": "Fribourg",
          "Value": 120268.7480396109,
          "YearMonth": "2019.06"
         },
         {
          "Station": "Genève Aéroport",
          "Value": 25310.807494874327,
          "YearMonth": "2019.06"
         },
         {
          "Station": "Genève Cornavin",
          "Value": 137372.4756919246,
          "YearMonth": "2019.06"
         },
         {
          "Station": "Lausanne",
          "Value": 246128.79053315212,
          "YearMonth": "2019.06"
         },
         {
          "Station": "Lugano",
          "Value": 79491.20424846411,
          "YearMonth": "2019.06"
         },
         {
          "Station": "Luzern",
          "Value": 156264.32884963657,
          "YearMonth": "2019.06"
         },
         {
          "Station": "Neuchatel",
          "Value": 74917.37577505768,
          "YearMonth": "2019.06"
         },
         {
          "Station": "Olten",
          "Value": 131502.42337104646,
          "YearMonth": "2019.06"
         },
         {
          "Station": "St. Gallen",
          "Value": 101504.98647217258,
          "YearMonth": "2019.06"
         },
         {
          "Station": "Winterthur",
          "Value": 176111.15616223754,
          "YearMonth": "2019.06"
         },
         {
          "Station": "Zug",
          "Value": 120127.15067400133,
          "YearMonth": "2019.06"
         },
         {
          "Station": "Zürich Enge",
          "Value": 38750.772408866374,
          "YearMonth": "2019.06"
         },
         {
          "Station": "Zürich Flughafen",
          "Value": 101724.00090128419,
          "YearMonth": "2019.06"
         },
         {
          "Station": "Zürich HB",
          "Value": 700129.6864910068,
          "YearMonth": "2019.06"
         },
         {
          "Station": "Zürich Hardbrücke",
          "Value": 153050.91929818413,
          "YearMonth": "2019.06"
         },
         {
          "Station": "Zürich Oerlikon",
          "Value": 164102.8421118389,
          "YearMonth": "2019.06"
         },
         {
          "Station": "Zürich Stadelhofen",
          "Value": 221056.04104315114,
          "YearMonth": "2019.06"
         },
         {
          "Station": "Aarau",
          "Value": 104606.76394746786,
          "YearMonth": "2019.07"
         },
         {
          "Station": "Basel SBB",
          "Value": 168059.73193000763,
          "YearMonth": "2019.07"
         },
         {
          "Station": "Bellinzona",
          "Value": 46461.28174985493,
          "YearMonth": "2019.07"
         },
         {
          "Station": "Bern",
          "Value": 355314.57195806125,
          "YearMonth": "2019.07"
         },
         {
          "Station": "Biel/Bienne",
          "Value": 111796.92986070778,
          "YearMonth": "2019.07"
         },
         {
          "Station": "Brig",
          "Value": 32817.0347984924,
          "YearMonth": "2019.07"
         },
         {
          "Station": "Chur",
          "Value": 32114.752882750487,
          "YearMonth": "2019.07"
         },
         {
          "Station": "Fribourg",
          "Value": 120406.46435510214,
          "YearMonth": "2019.07"
         },
         {
          "Station": "Genève Aéroport",
          "Value": 67573.2406704991,
          "YearMonth": "2019.07"
         },
         {
          "Station": "Genève Cornavin",
          "Value": 141667.0070675249,
          "YearMonth": "2019.07"
         },
         {
          "Station": "Lausanne",
          "Value": 266722.6134267628,
          "YearMonth": "2019.07"
         },
         {
          "Station": "Lugano",
          "Value": 80898.06363169102,
          "YearMonth": "2019.07"
         },
         {
          "Station": "Luzern",
          "Value": 157243.03480216395,
          "YearMonth": "2019.07"
         },
         {
          "Station": "M2",
          "Value": 29130.890508957782,
          "YearMonth": "2019.07"
         },
         {
          "Station": "Neuchatel",
          "Value": 65298.3780444985,
          "YearMonth": "2019.07"
         },
         {
          "Station": "Olten",
          "Value": 135227.2004191512,
          "YearMonth": "2019.07"
         },
         {
          "Station": "St. Gallen",
          "Value": 71456.29029957429,
          "YearMonth": "2019.07"
         },
         {
          "Station": "Winterthur",
          "Value": 150681.02218638852,
          "YearMonth": "2019.07"
         },
         {
          "Station": "Zug",
          "Value": 118707.32445737376,
          "YearMonth": "2019.07"
         },
         {
          "Station": "Zürich Enge",
          "Value": 45967.69030218971,
          "YearMonth": "2019.07"
         },
         {
          "Station": "Zürich Flughafen",
          "Value": 117716.88843987601,
          "YearMonth": "2019.07"
         },
         {
          "Station": "Zürich HB",
          "Value": 696689.6492950008,
          "YearMonth": "2019.07"
         },
         {
          "Station": "Zürich Hardbrücke",
          "Value": 162758.40836598777,
          "YearMonth": "2019.07"
         },
         {
          "Station": "Zürich Oerlikon",
          "Value": 148027.0197906206,
          "YearMonth": "2019.07"
         },
         {
          "Station": "Zürich Stadelhofen",
          "Value": 222237.9209990989,
          "YearMonth": "2019.07"
         },
         {
          "Station": "Aarau",
          "Value": 119895.29353647673,
          "YearMonth": "2019.08"
         },
         {
          "Station": "Basel SBB",
          "Value": 180374.52388166028,
          "YearMonth": "2019.08"
         },
         {
          "Station": "Bellinzona",
          "Value": 33992.768933816194,
          "YearMonth": "2019.08"
         },
         {
          "Station": "Bern",
          "Value": 359134.7562238026,
          "YearMonth": "2019.08"
         },
         {
          "Station": "Biel/Bienne",
          "Value": 124151.64399539736,
          "YearMonth": "2019.08"
         },
         {
          "Station": "Brig",
          "Value": 35154.07817955904,
          "YearMonth": "2019.08"
         },
         {
          "Station": "Chur",
          "Value": 38984.79591255028,
          "YearMonth": "2019.08"
         },
         {
          "Station": "Fribourg",
          "Value": 96881.70672197251,
          "YearMonth": "2019.08"
         },
         {
          "Station": "Genève Aéroport",
          "Value": 52542.97537377373,
          "YearMonth": "2019.08"
         },
         {
          "Station": "Genève Cornavin",
          "Value": 126346.79457223242,
          "YearMonth": "2019.08"
         },
         {
          "Station": "Lausanne",
          "Value": 229114.21273641835,
          "YearMonth": "2019.08"
         },
         {
          "Station": "Lugano",
          "Value": 66635.86269907228,
          "YearMonth": "2019.08"
         },
         {
          "Station": "Luzern",
          "Value": 143040.18694868876,
          "YearMonth": "2019.08"
         },
         {
          "Station": "M2",
          "Value": 67474.11725534624,
          "YearMonth": "2019.08"
         },
         {
          "Station": "Neuchatel",
          "Value": 67273.7616535147,
          "YearMonth": "2019.08"
         },
         {
          "Station": "Olten",
          "Value": 130069.6240827945,
          "YearMonth": "2019.08"
         },
         {
          "Station": "St. Gallen",
          "Value": 83021.98415624934,
          "YearMonth": "2019.08"
         },
         {
          "Station": "Winterthur",
          "Value": 147664.53117160124,
          "YearMonth": "2019.08"
         },
         {
          "Station": "Zug",
          "Value": 130195.35102947571,
          "YearMonth": "2019.08"
         },
         {
          "Station": "Zürich Enge",
          "Value": 48003.40203857383,
          "YearMonth": "2019.08"
         },
         {
          "Station": "Zürich Flughafen",
          "Value": 50474.63559864897,
          "YearMonth": "2019.08"
         },
         {
          "Station": "Zürich Flughafen - Airside",
          "Value": 65990.35543056886,
          "YearMonth": "2019.08"
         },
         {
          "Station": "Zürich Flughafen - Landside",
          "Value": 63931.11636134173,
          "YearMonth": "2019.08"
         },
         {
          "Station": "Zürich HB",
          "Value": 664564.1605237327,
          "YearMonth": "2019.08"
         },
         {
          "Station": "Zürich Hardbrücke",
          "Value": 155574.746944549,
          "YearMonth": "2019.08"
         },
         {
          "Station": "Zürich Oerlikon",
          "Value": 163389.52177798265,
          "YearMonth": "2019.08"
         },
         {
          "Station": "Zürich Stadelhofen",
          "Value": 194120.59797980817,
          "YearMonth": "2019.08"
         },
         {
          "Station": "Aarau",
          "Value": 129873.71737134703,
          "YearMonth": "2019.09"
         },
         {
          "Station": "Basel SBB",
          "Value": 216388.50407097797,
          "YearMonth": "2019.09"
         },
         {
          "Station": "Bellinzona",
          "Value": 36073.72308344563,
          "YearMonth": "2019.09"
         },
         {
          "Station": "Bern",
          "Value": 380102.11630745477,
          "YearMonth": "2019.09"
         },
         {
          "Station": "Biel/Bienne",
          "Value": 123530.87687493431,
          "YearMonth": "2019.09"
         },
         {
          "Station": "Brig",
          "Value": 26695.24298972876,
          "YearMonth": "2019.09"
         },
         {
          "Station": "Chur",
          "Value": 37769.23811910246,
          "YearMonth": "2019.09"
         },
         {
          "Station": "Fribourg",
          "Value": 152840.21350173448,
          "YearMonth": "2019.09"
         },
         {
          "Station": "Genève Aéroport",
          "Value": 55237.4858769731,
          "YearMonth": "2019.09"
         },
         {
          "Station": "Genève Cornavin",
          "Value": 129530.18067472898,
          "YearMonth": "2019.09"
         },
         {
          "Station": "Lausanne",
          "Value": 290013.1187500887,
          "YearMonth": "2019.09"
         },
         {
          "Station": "Lugano",
          "Value": 86605.86920838161,
          "YearMonth": "2019.09"
         },
         {
          "Station": "Luzern",
          "Value": 165428.2773596704,
          "YearMonth": "2019.09"
         },
         {
          "Station": "M2",
          "Value": 87995.79287818082,
          "YearMonth": "2019.09"
         },
         {
          "Station": "Neuchatel",
          "Value": 102326.91064011102,
          "YearMonth": "2019.09"
         },
         {
          "Station": "Olten",
          "Value": 163481.90401616614,
          "YearMonth": "2019.09"
         },
         {
          "Station": "St. Gallen",
          "Value": 95061.65859601102,
          "YearMonth": "2019.09"
         },
         {
          "Station": "Winterthur",
          "Value": 170048.56327919578,
          "YearMonth": "2019.09"
         },
         {
          "Station": "Zug",
          "Value": 101908.57360367659,
          "YearMonth": "2019.09"
         },
         {
          "Station": "Zürich Enge",
          "Value": 47408.78886939699,
          "YearMonth": "2019.09"
         },
         {
          "Station": "Zürich Flughafen - Airside",
          "Value": 142413.90022785155,
          "YearMonth": "2019.09"
         },
         {
          "Station": "Zürich Flughafen - Landside",
          "Value": 162651.28034835483,
          "YearMonth": "2019.09"
         },
         {
          "Station": "Zürich HB",
          "Value": 716876.1294046622,
          "YearMonth": "2019.09"
         },
         {
          "Station": "Zürich Hardbrücke",
          "Value": 151222.0137397279,
          "YearMonth": "2019.09"
         },
         {
          "Station": "Zürich Oerlikon",
          "Value": 164837.69094086107,
          "YearMonth": "2019.09"
         },
         {
          "Station": "Zürich Stadelhofen",
          "Value": 212498.37981458727,
          "YearMonth": "2019.09"
         },
         {
          "Station": "Aarau",
          "Value": 121120.20190627887,
          "YearMonth": "2019.10"
         },
         {
          "Station": "Basel SBB",
          "Value": 202165.33389882912,
          "YearMonth": "2019.10"
         },
         {
          "Station": "Bellinzona",
          "Value": 40489.741425800785,
          "YearMonth": "2019.10"
         },
         {
          "Station": "Bern",
          "Value": 388116.7553647783,
          "YearMonth": "2019.10"
         },
         {
          "Station": "Biel/Bienne",
          "Value": 100344.25013903528,
          "YearMonth": "2019.10"
         },
         {
          "Station": "Brig",
          "Value": 23918.361235783756,
          "YearMonth": "2019.10"
         },
         {
          "Station": "Chur",
          "Value": 30215.379882512487,
          "YearMonth": "2019.10"
         },
         {
          "Station": "Fribourg",
          "Value": 143818.44710126534,
          "YearMonth": "2019.10"
         },
         {
          "Station": "Genève Aéroport",
          "Value": 50889.341524510084,
          "YearMonth": "2019.10"
         },
         {
          "Station": "Genève Cornavin",
          "Value": 139468.95539287743,
          "YearMonth": "2019.10"
         },
         {
          "Station": "Lausanne",
          "Value": 237286.30957703665,
          "YearMonth": "2019.10"
         },
         {
          "Station": "Lugano",
          "Value": 75475.97317773885,
          "YearMonth": "2019.10"
         },
         {
          "Station": "Luzern",
          "Value": 168143.44469103226,
          "YearMonth": "2019.10"
         },
         {
          "Station": "M2",
          "Value": 75708.38781852313,
          "YearMonth": "2019.10"
         },
         {
          "Station": "Neuchatel",
          "Value": 94952.32260476501,
          "YearMonth": "2019.10"
         },
         {
          "Station": "Olten",
          "Value": 169097.36053198267,
          "YearMonth": "2019.10"
         },
         {
          "Station": "St. Gallen",
          "Value": 87697.92141508333,
          "YearMonth": "2019.10"
         },
         {
          "Station": "Winterthur",
          "Value": 141300.85517764188,
          "YearMonth": "2019.10"
         },
         {
          "Station": "Zug",
          "Value": 94008.14086909671,
          "YearMonth": "2019.10"
         },
         {
          "Station": "Zürich Enge",
          "Value": 40079.6282290038,
          "YearMonth": "2019.10"
         },
         {
          "Station": "Zürich Flughafen - Airside",
          "Value": 109353.36772391552,
          "YearMonth": "2019.10"
         },
         {
          "Station": "Zürich Flughafen - Landside",
          "Value": 135178.20849115268,
          "YearMonth": "2019.10"
         },
         {
          "Station": "Zürich HB",
          "Value": 675138.6542952687,
          "YearMonth": "2019.10"
         },
         {
          "Station": "Zürich Hardbrücke",
          "Value": 123838.33862056486,
          "YearMonth": "2019.10"
         },
         {
          "Station": "Zürich Oerlikon",
          "Value": 145315.8668427861,
          "YearMonth": "2019.10"
         },
         {
          "Station": "Zürich Stadelhofen",
          "Value": 178745.69370542024,
          "YearMonth": "2019.10"
         },
         {
          "Station": "Aarau",
          "Value": 118078.25789391219,
          "YearMonth": "2019.11"
         },
         {
          "Station": "Basel SBB",
          "Value": 210596.86604050064,
          "YearMonth": "2019.11"
         },
         {
          "Station": "Bellinzona",
          "Value": 28930.90693219122,
          "YearMonth": "2019.11"
         },
         {
          "Station": "Bern",
          "Value": 388270.0160897144,
          "YearMonth": "2019.11"
         },
         {
          "Station": "Biel/Bienne",
          "Value": 121308.35623409279,
          "YearMonth": "2019.11"
         },
         {
          "Station": "Brig",
          "Value": 28054.240680442294,
          "YearMonth": "2019.11"
         },
         {
          "Station": "Chur",
          "Value": 31170.559182068722,
          "YearMonth": "2019.11"
         },
         {
          "Station": "Fribourg",
          "Value": 161161.3834619786,
          "YearMonth": "2019.11"
         },
         {
          "Station": "Genève Aéroport",
          "Value": 36189.93342205341,
          "YearMonth": "2019.11"
         },
         {
          "Station": "Genève Cornavin",
          "Value": 163518.93917836604,
          "YearMonth": "2019.11"
         },
         {
          "Station": "Lausanne",
          "Value": 282471.2724190427,
          "YearMonth": "2019.11"
         },
         {
          "Station": "Lugano",
          "Value": 61826.790484258105,
          "YearMonth": "2019.11"
         },
         {
          "Station": "Luzern",
          "Value": 170639.91779651016,
          "YearMonth": "2019.11"
         },
         {
          "Station": "M2",
          "Value": 97065.12957646375,
          "YearMonth": "2019.11"
         },
         {
          "Station": "Neuchatel",
          "Value": 99208.26334889585,
          "YearMonth": "2019.11"
         },
         {
          "Station": "Olten",
          "Value": 172161.44304296857,
          "YearMonth": "2019.11"
         },
         {
          "Station": "St. Gallen",
          "Value": 80211.90355127088,
          "YearMonth": "2019.11"
         },
         {
          "Station": "Winterthur",
          "Value": 161588.8136895321,
          "YearMonth": "2019.11"
         },
         {
          "Station": "Zug",
          "Value": 88527.83726233488,
          "YearMonth": "2019.11"
         },
         {
          "Station": "Zürich Enge",
          "Value": 43575.36306720334,
          "YearMonth": "2019.11"
         },
         {
          "Station": "Zürich Flughafen - Airside",
          "Value": 94279.36313301283,
          "YearMonth": "2019.11"
         },
         {
          "Station": "Zürich Flughafen - Landside",
          "Value": 114892.755453192,
          "YearMonth": "2019.11"
         },
         {
          "Station": "Zürich HB",
          "Value": 726794.1368076565,
          "YearMonth": "2019.11"
         },
         {
          "Station": "Zürich Hardbrücke",
          "Value": 128618.23451604185,
          "YearMonth": "2019.11"
         },
         {
          "Station": "Zürich Oerlikon",
          "Value": 158629.57994034482,
          "YearMonth": "2019.11"
         },
         {
          "Station": "Zürich Stadelhofen",
          "Value": 188884.53808150403,
          "YearMonth": "2019.11"
         },
         {
          "Station": "Aarau",
          "Value": 93602.31820566526,
          "YearMonth": "2019.12"
         },
         {
          "Station": "Basel SBB",
          "Value": 188709.1968858308,
          "YearMonth": "2019.12"
         },
         {
          "Station": "Bellinzona",
          "Value": 29514.971507471546,
          "YearMonth": "2019.12"
         },
         {
          "Station": "Bern",
          "Value": 325601.0890522196,
          "YearMonth": "2019.12"
         },
         {
          "Station": "Biel/Bienne",
          "Value": 99064.88578817384,
          "YearMonth": "2019.12"
         },
         {
          "Station": "Brig",
          "Value": 31747.9902739669,
          "YearMonth": "2019.12"
         },
         {
          "Station": "Chur",
          "Value": 38207.38845430596,
          "YearMonth": "2019.12"
         },
         {
          "Station": "Fribourg",
          "Value": 143237.13771100956,
          "YearMonth": "2019.12"
         },
         {
          "Station": "Genève Aéroport",
          "Value": 28392.047924478855,
          "YearMonth": "2019.12"
         },
         {
          "Station": "Genève Cornavin",
          "Value": 142737.43244831864,
          "YearMonth": "2019.12"
         },
         {
          "Station": "Lausanne",
          "Value": 277474.975435155,
          "YearMonth": "2019.12"
         },
         {
          "Station": "Lugano",
          "Value": 57355.81239026181,
          "YearMonth": "2019.12"
         },
         {
          "Station": "Luzern",
          "Value": 194088.49535204985,
          "YearMonth": "2019.12"
         },
         {
          "Station": "M2",
          "Value": 111271.42331283072,
          "YearMonth": "2019.12"
         },
         {
          "Station": "Neuchatel",
          "Value": 82234.68547857512,
          "YearMonth": "2019.12"
         },
         {
          "Station": "Olten",
          "Value": 135528.5916958954,
          "YearMonth": "2019.12"
         },
         {
          "Station": "St. Gallen",
          "Value": 70155.57890734878,
          "YearMonth": "2019.12"
         },
         {
          "Station": "Winterthur",
          "Value": 143351.66251178665,
          "YearMonth": "2019.12"
         },
         {
          "Station": "Zug",
          "Value": 80840.54726348321,
          "YearMonth": "2019.12"
         },
         {
          "Station": "Zürich Enge",
          "Value": 42879.097337970656,
          "YearMonth": "2019.12"
         },
         {
          "Station": "Zürich Flughafen - Airside",
          "Value": 99873.6486554123,
          "YearMonth": "2019.12"
         },
         {
          "Station": "Zürich Flughafen - Landside",
          "Value": 132581.41493469448,
          "YearMonth": "2019.12"
         },
         {
          "Station": "Zürich HB",
          "Value": 714444.537273049,
          "YearMonth": "2019.12"
         },
         {
          "Station": "Zürich Hardbrücke",
          "Value": 128756.75522796321,
          "YearMonth": "2019.12"
         },
         {
          "Station": "Zürich Oerlikon",
          "Value": 164395.6763072116,
          "YearMonth": "2019.12"
         },
         {
          "Station": "Zürich Stadelhofen",
          "Value": 197086.28016862719,
          "YearMonth": "2019.12"
         },
         {
          "Station": "Aarau",
          "Value": 105151.89672189018,
          "YearMonth": "2020.01"
         },
         {
          "Station": "Basel SBB",
          "Value": 162058.76726777796,
          "YearMonth": "2020.01"
         },
         {
          "Station": "Bellinzona",
          "Value": 24761.832904844836,
          "YearMonth": "2020.01"
         },
         {
          "Station": "Bern",
          "Value": 271793.244023255,
          "YearMonth": "2020.01"
         },
         {
          "Station": "Biel/Bienne",
          "Value": 67172.63535812216,
          "YearMonth": "2020.01"
         },
         {
          "Station": "Brig",
          "Value": 29543.82110356206,
          "YearMonth": "2020.01"
         },
         {
          "Station": "Chur",
          "Value": 45482.7480548703,
          "YearMonth": "2020.01"
         },
         {
          "Station": "Fribourg",
          "Value": 96632.41555837759,
          "YearMonth": "2020.01"
         },
         {
          "Station": "Genève Aéroport",
          "Value": 29434.27884015567,
          "YearMonth": "2020.01"
         },
         {
          "Station": "Genève Cornavin",
          "Value": 121331.38917790199,
          "YearMonth": "2020.01"
         },
         {
          "Station": "Lausanne",
          "Value": 225907.1893501039,
          "YearMonth": "2020.01"
         },
         {
          "Station": "Lugano",
          "Value": 38825.25244794327,
          "YearMonth": "2020.01"
         },
         {
          "Station": "Luzern",
          "Value": 153954.42148251014,
          "YearMonth": "2020.01"
         },
         {
          "Station": "M2",
          "Value": 119466.58455907818,
          "YearMonth": "2020.01"
         },
         {
          "Station": "Neuchatel",
          "Value": 56049.29445794868,
          "YearMonth": "2020.01"
         },
         {
          "Station": "Olten",
          "Value": 112265.77224540303,
          "YearMonth": "2020.01"
         },
         {
          "Station": "St. Gallen",
          "Value": 73824.5799424967,
          "YearMonth": "2020.01"
         },
         {
          "Station": "Winterthur",
          "Value": 153886.43568357424,
          "YearMonth": "2020.01"
         },
         {
          "Station": "Zug",
          "Value": 90646.96450509819,
          "YearMonth": "2020.01"
         },
         {
          "Station": "Zürich Enge",
          "Value": 54817.666075690155,
          "YearMonth": "2020.01"
         },
         {
          "Station": "Zürich Flughafen - Airside",
          "Value": 72802.42146404332,
          "YearMonth": "2020.01"
         },
         {
          "Station": "Zürich Flughafen - Landside",
          "Value": 89597.44592193619,
          "YearMonth": "2020.01"
         },
         {
          "Station": "Zürich HB",
          "Value": 571977.5945638379,
          "YearMonth": "2020.01"
         },
         {
          "Station": "Zürich Hardbrücke",
          "Value": 102094.4002473458,
          "YearMonth": "2020.01"
         },
         {
          "Station": "Zürich Oerlikon",
          "Value": 147681.37724458415,
          "YearMonth": "2020.01"
         },
         {
          "Station": "Zürich Stadelhofen",
          "Value": 141536.29904576179,
          "YearMonth": "2020.01"
         },
         {
          "Station": "Aarau",
          "Value": 120005.44953272515,
          "YearMonth": "2020.02"
         },
         {
          "Station": "Basel SBB",
          "Value": 161039.36974635007,
          "YearMonth": "2020.02"
         },
         {
          "Station": "Bellinzona",
          "Value": 33958.36893684229,
          "YearMonth": "2020.02"
         },
         {
          "Station": "Bern",
          "Value": 308104.6477629507,
          "YearMonth": "2020.02"
         },
         {
          "Station": "Biel/Bienne",
          "Value": 81789.01639516387,
          "YearMonth": "2020.02"
         },
         {
          "Station": "Brig",
          "Value": 44947.67794918871,
          "YearMonth": "2020.02"
         },
         {
          "Station": "Chur",
          "Value": 53288.65632669987,
          "YearMonth": "2020.02"
         },
         {
          "Station": "Fribourg",
          "Value": 120505.56628552271,
          "YearMonth": "2020.02"
         },
         {
          "Station": "Genève Aéroport",
          "Value": 33888.14376162952,
          "YearMonth": "2020.02"
         },
         {
          "Station": "Genève Cornavin",
          "Value": 143874.15960476652,
          "YearMonth": "2020.02"
         },
         {
          "Station": "Lausanne",
          "Value": 231571.3559835061,
          "YearMonth": "2020.02"
         },
         {
          "Station": "Lugano",
          "Value": 48411.982056684166,
          "YearMonth": "2020.02"
         },
         {
          "Station": "Luzern",
          "Value": 170321.7320428485,
          "YearMonth": "2020.02"
         },
         {
          "Station": "M2",
          "Value": 103034.17275099763,
          "YearMonth": "2020.02"
         },
         {
          "Station": "Neuchatel",
          "Value": 58884.66005907306,
          "YearMonth": "2020.02"
         },
         {
          "Station": "Olten",
          "Value": 134836.9488432773,
          "YearMonth": "2020.02"
         },
         {
          "Station": "St. Gallen",
          "Value": 106534.49360826491,
          "YearMonth": "2020.02"
         },
         {
          "Station": "Winterthur",
          "Value": 160244.97305983808,
          "YearMonth": "2020.02"
         },
         {
          "Station": "Zug",
          "Value": 98482.95162810001,
          "YearMonth": "2020.02"
         },
         {
          "Station": "Zürich Enge",
          "Value": 50270.76790010849,
          "YearMonth": "2020.02"
         },
         {
          "Station": "Zürich Flughafen - Airside",
          "Value": 69436.40831930964,
          "YearMonth": "2020.02"
         },
         {
          "Station": "Zürich Flughafen - Landside",
          "Value": 102920.01866907881,
          "YearMonth": "2020.02"
         },
         {
          "Station": "Zürich HB",
          "Value": 645110.2326456653,
          "YearMonth": "2020.02"
         },
         {
          "Station": "Zürich Hardbrücke",
          "Value": 132689.41366641413,
          "YearMonth": "2020.02"
         },
         {
          "Station": "Zürich Oerlikon",
          "Value": 186852.0145064922,
          "YearMonth": "2020.02"
         },
         {
          "Station": "Zürich Stadelhofen",
          "Value": 179723.79027644574,
          "YearMonth": "2020.02"
         }
        ]
       },
       "encoding": {
        "color": {
         "field": "Station",
         "type": "nominal"
        },
        "tooltip": [
         {
          "field": "Station",
          "type": "nominal"
         },
         {
          "field": "YearMonth",
          "type": "nominal"
         },
         {
          "field": "Value",
          "type": "quantitative"
         }
        ],
        "x": {
         "field": "YearMonth",
         "type": "ordinal"
        },
        "y": {
         "field": "Value",
         "type": "quantitative"
        }
       },
       "height": 750,
       "mark": "line",
       "width": 500
      },
      "image/png": "[encoded data removed]",
      "text/plain": [
       "<VegaLite 3 object>\n",
       "\n",
       "If you see this message, it means the renderer has not been properly enabled\n",
       "for the frontend that you are using. For more information, see\n",
       "https://altair-viz.github.io/user_guide/troubleshooting.html\n"
      ]
     },
     "metadata": {},
     "output_type": "display_data"
    },
    {
     "data": {
      "application/vnd.vegalite.v3+json": {
       "$schema": "https://vega.github.io/schema/vega-lite/v3.4.0.json",
       "columns": 3,
       "config": {
        "mark": {
         "tooltip": null
        },
        "view": {
         "height": 300,
         "width": 400
        }
       },
       "data": {
        "name": "data-6626fdf50fcd347386157f8a466cfeb7"
       },
       "datasets": {
        "data-6626fdf50fcd347386157f8a466cfeb7": [
         {
          "Station": "Aarau",
          "Value": 136012.64995795983,
          "YearMonth": "2019.05"
         },
         {
          "Station": "Basel SBB",
          "Value": 199353.3028201563,
          "YearMonth": "2019.05"
         },
         {
          "Station": "Bellinzona",
          "Value": 34644.955690876275,
          "YearMonth": "2019.05"
         },
         {
          "Station": "Bern",
          "Value": 541136.3028122153,
          "YearMonth": "2019.05"
         },
         {
          "Station": "Biel/Bienne",
          "Value": 131281.70973790155,
          "YearMonth": "2019.05"
         },
         {
          "Station": "Brig",
          "Value": 26009.550932948583,
          "YearMonth": "2019.05"
         },
         {
          "Station": "Chur",
          "Value": 49493.96415158937,
          "YearMonth": "2019.05"
         },
         {
          "Station": "Fribourg",
          "Value": 159315.32160663663,
          "YearMonth": "2019.05"
         },
         {
          "Station": "Genève Aéroport",
          "Value": 58313.15870880514,
          "YearMonth": "2019.05"
         },
         {
          "Station": "Genève Cornavin",
          "Value": 151485.49051159006,
          "YearMonth": "2019.05"
         },
         {
          "Station": "Lausanne",
          "Value": 265862.5490427572,
          "YearMonth": "2019.05"
         },
         {
          "Station": "Lugano",
          "Value": 86211.08223935652,
          "YearMonth": "2019.05"
         },
         {
          "Station": "Luzern",
          "Value": 168986.83727376498,
          "YearMonth": "2019.05"
         },
         {
          "Station": "Neuchatel",
          "Value": 17736.0794129185,
          "YearMonth": "2019.05"
         },
         {
          "Station": "Olten",
          "Value": 165853.77200180638,
          "YearMonth": "2019.05"
         },
         {
          "Station": "St. Gallen",
          "Value": 147322.9211534325,
          "YearMonth": "2019.05"
         },
         {
          "Station": "Winterthur",
          "Value": 192602.7109438426,
          "YearMonth": "2019.05"
         },
         {
          "Station": "Zug",
          "Value": 149128.54885981625,
          "YearMonth": "2019.05"
         },
         {
          "Station": "Zürich Enge",
          "Value": 44264.86075944555,
          "YearMonth": "2019.05"
         },
         {
          "Station": "Zürich Flughafen",
          "Value": 120558.11836537994,
          "YearMonth": "2019.05"
         },
         {
          "Station": "Zürich HB",
          "Value": 752006.233230307,
          "YearMonth": "2019.05"
         },
         {
          "Station": "Zürich Hardbrücke",
          "Value": 175966.67705473516,
          "YearMonth": "2019.05"
         },
         {
          "Station": "Zürich Oerlikon",
          "Value": 200812.30415961405,
          "YearMonth": "2019.05"
         },
         {
          "Station": "Zürich Stadelhofen",
          "Value": 257827.56624656604,
          "YearMonth": "2019.05"
         },
         {
          "Station": "Aarau",
          "Value": 134824.74918084743,
          "YearMonth": "2019.06"
         },
         {
          "Station": "Basel SBB",
          "Value": 181986.373252273,
          "YearMonth": "2019.06"
         },
         {
          "Station": "Bellinzona",
          "Value": 35746.52634375806,
          "YearMonth": "2019.06"
         },
         {
          "Station": "Bern",
          "Value": 344326.3723795866,
          "YearMonth": "2019.06"
         },
         {
          "Station": "Biel/Bienne",
          "Value": 116941.17858216808,
          "YearMonth": "2019.06"
         },
         {
          "Station": "Brig",
          "Value": 27368.537584567654,
          "YearMonth": "2019.06"
         },
         {
          "Station": "Chur",
          "Value": 40823.84720494086,
          "YearMonth": "2019.06"
         },
         {
          "Station": "Fribourg",
          "Value": 120268.7480396109,
          "YearMonth": "2019.06"
         },
         {
          "Station": "Genève Aéroport",
          "Value": 25310.807494874327,
          "YearMonth": "2019.06"
         },
         {
          "Station": "Genève Cornavin",
          "Value": 137372.4756919246,
          "YearMonth": "2019.06"
         },
         {
          "Station": "Lausanne",
          "Value": 246128.79053315212,
          "YearMonth": "2019.06"
         },
         {
          "Station": "Lugano",
          "Value": 79491.20424846411,
          "YearMonth": "2019.06"
         },
         {
          "Station": "Luzern",
          "Value": 156264.32884963657,
          "YearMonth": "2019.06"
         },
         {
          "Station": "Neuchatel",
          "Value": 74917.37577505768,
          "YearMonth": "2019.06"
         },
         {
          "Station": "Olten",
          "Value": 131502.42337104646,
          "YearMonth": "2019.06"
         },
         {
          "Station": "St. Gallen",
          "Value": 101504.98647217258,
          "YearMonth": "2019.06"
         },
         {
          "Station": "Winterthur",
          "Value": 176111.15616223754,
          "YearMonth": "2019.06"
         },
         {
          "Station": "Zug",
          "Value": 120127.15067400133,
          "YearMonth": "2019.06"
         },
         {
          "Station": "Zürich Enge",
          "Value": 38750.772408866374,
          "YearMonth": "2019.06"
         },
         {
          "Station": "Zürich Flughafen",
          "Value": 101724.00090128419,
          "YearMonth": "2019.06"
         },
         {
          "Station": "Zürich HB",
          "Value": 700129.6864910068,
          "YearMonth": "2019.06"
         },
         {
          "Station": "Zürich Hardbrücke",
          "Value": 153050.91929818413,
          "YearMonth": "2019.06"
         },
         {
          "Station": "Zürich Oerlikon",
          "Value": 164102.8421118389,
          "YearMonth": "2019.06"
         },
         {
          "Station": "Zürich Stadelhofen",
          "Value": 221056.04104315114,
          "YearMonth": "2019.06"
         },
         {
          "Station": "Aarau",
          "Value": 104606.76394746786,
          "YearMonth": "2019.07"
         },
         {
          "Station": "Basel SBB",
          "Value": 168059.73193000763,
          "YearMonth": "2019.07"
         },
         {
          "Station": "Bellinzona",
          "Value": 46461.28174985493,
          "YearMonth": "2019.07"
         },
         {
          "Station": "Bern",
          "Value": 355314.57195806125,
          "YearMonth": "2019.07"
         },
         {
          "Station": "Biel/Bienne",
          "Value": 111796.92986070778,
          "YearMonth": "2019.07"
         },
         {
          "Station": "Brig",
          "Value": 32817.0347984924,
          "YearMonth": "2019.07"
         },
         {
          "Station": "Chur",
          "Value": 32114.752882750487,
          "YearMonth": "2019.07"
         },
         {
          "Station": "Fribourg",
          "Value": 120406.46435510214,
          "YearMonth": "2019.07"
         },
         {
          "Station": "Genève Aéroport",
          "Value": 67573.2406704991,
          "YearMonth": "2019.07"
         },
         {
          "Station": "Genève Cornavin",
          "Value": 141667.0070675249,
          "YearMonth": "2019.07"
         },
         {
          "Station": "Lausanne",
          "Value": 266722.6134267628,
          "YearMonth": "2019.07"
         },
         {
          "Station": "Lugano",
          "Value": 80898.06363169102,
          "YearMonth": "2019.07"
         },
         {
          "Station": "Luzern",
          "Value": 157243.03480216395,
          "YearMonth": "2019.07"
         },
         {
          "Station": "M2",
          "Value": 29130.890508957782,
          "YearMonth": "2019.07"
         },
         {
          "Station": "Neuchatel",
          "Value": 65298.3780444985,
          "YearMonth": "2019.07"
         },
         {
          "Station": "Olten",
          "Value": 135227.2004191512,
          "YearMonth": "2019.07"
         },
         {
          "Station": "St. Gallen",
          "Value": 71456.29029957429,
          "YearMonth": "2019.07"
         },
         {
          "Station": "Winterthur",
          "Value": 150681.02218638852,
          "YearMonth": "2019.07"
         },
         {
          "Station": "Zug",
          "Value": 118707.32445737376,
          "YearMonth": "2019.07"
         },
         {
          "Station": "Zürich Enge",
          "Value": 45967.69030218971,
          "YearMonth": "2019.07"
         },
         {
          "Station": "Zürich Flughafen",
          "Value": 117716.88843987601,
          "YearMonth": "2019.07"
         },
         {
          "Station": "Zürich HB",
          "Value": 696689.6492950008,
          "YearMonth": "2019.07"
         },
         {
          "Station": "Zürich Hardbrücke",
          "Value": 162758.40836598777,
          "YearMonth": "2019.07"
         },
         {
          "Station": "Zürich Oerlikon",
          "Value": 148027.0197906206,
          "YearMonth": "2019.07"
         },
         {
          "Station": "Zürich Stadelhofen",
          "Value": 222237.9209990989,
          "YearMonth": "2019.07"
         },
         {
          "Station": "Aarau",
          "Value": 119895.29353647673,
          "YearMonth": "2019.08"
         },
         {
          "Station": "Basel SBB",
          "Value": 180374.52388166028,
          "YearMonth": "2019.08"
         },
         {
          "Station": "Bellinzona",
          "Value": 33992.768933816194,
          "YearMonth": "2019.08"
         },
         {
          "Station": "Bern",
          "Value": 359134.7562238026,
          "YearMonth": "2019.08"
         },
         {
          "Station": "Biel/Bienne",
          "Value": 124151.64399539736,
          "YearMonth": "2019.08"
         },
         {
          "Station": "Brig",
          "Value": 35154.07817955904,
          "YearMonth": "2019.08"
         },
         {
          "Station": "Chur",
          "Value": 38984.79591255028,
          "YearMonth": "2019.08"
         },
         {
          "Station": "Fribourg",
          "Value": 96881.70672197251,
          "YearMonth": "2019.08"
         },
         {
          "Station": "Genève Aéroport",
          "Value": 52542.97537377373,
          "YearMonth": "2019.08"
         },
         {
          "Station": "Genève Cornavin",
          "Value": 126346.79457223242,
          "YearMonth": "2019.08"
         },
         {
          "Station": "Lausanne",
          "Value": 229114.21273641835,
          "YearMonth": "2019.08"
         },
         {
          "Station": "Lugano",
          "Value": 66635.86269907228,
          "YearMonth": "2019.08"
         },
         {
          "Station": "Luzern",
          "Value": 143040.18694868876,
          "YearMonth": "2019.08"
         },
         {
          "Station": "M2",
          "Value": 67474.11725534624,
          "YearMonth": "2019.08"
         },
         {
          "Station": "Neuchatel",
          "Value": 67273.7616535147,
          "YearMonth": "2019.08"
         },
         {
          "Station": "Olten",
          "Value": 130069.6240827945,
          "YearMonth": "2019.08"
         },
         {
          "Station": "St. Gallen",
          "Value": 83021.98415624934,
          "YearMonth": "2019.08"
         },
         {
          "Station": "Winterthur",
          "Value": 147664.53117160124,
          "YearMonth": "2019.08"
         },
         {
          "Station": "Zug",
          "Value": 130195.35102947571,
          "YearMonth": "2019.08"
         },
         {
          "Station": "Zürich Enge",
          "Value": 48003.40203857383,
          "YearMonth": "2019.08"
         },
         {
          "Station": "Zürich Flughafen",
          "Value": 50474.63559864897,
          "YearMonth": "2019.08"
         },
         {
          "Station": "Zürich Flughafen - Airside",
          "Value": 65990.35543056886,
          "YearMonth": "2019.08"
         },
         {
          "Station": "Zürich Flughafen - Landside",
          "Value": 63931.11636134173,
          "YearMonth": "2019.08"
         },
         {
          "Station": "Zürich HB",
          "Value": 664564.1605237327,
          "YearMonth": "2019.08"
         },
         {
          "Station": "Zürich Hardbrücke",
          "Value": 155574.746944549,
          "YearMonth": "2019.08"
         },
         {
          "Station": "Zürich Oerlikon",
          "Value": 163389.52177798265,
          "YearMonth": "2019.08"
         },
         {
          "Station": "Zürich Stadelhofen",
          "Value": 194120.59797980817,
          "YearMonth": "2019.08"
         },
         {
          "Station": "Aarau",
          "Value": 129873.71737134703,
          "YearMonth": "2019.09"
         },
         {
          "Station": "Basel SBB",
          "Value": 216388.50407097797,
          "YearMonth": "2019.09"
         },
         {
          "Station": "Bellinzona",
          "Value": 36073.72308344563,
          "YearMonth": "2019.09"
         },
         {
          "Station": "Bern",
          "Value": 380102.11630745477,
          "YearMonth": "2019.09"
         },
         {
          "Station": "Biel/Bienne",
          "Value": 123530.87687493431,
          "YearMonth": "2019.09"
         },
         {
          "Station": "Brig",
          "Value": 26695.24298972876,
          "YearMonth": "2019.09"
         },
         {
          "Station": "Chur",
          "Value": 37769.23811910246,
          "YearMonth": "2019.09"
         },
         {
          "Station": "Fribourg",
          "Value": 152840.21350173448,
          "YearMonth": "2019.09"
         },
         {
          "Station": "Genève Aéroport",
          "Value": 55237.4858769731,
          "YearMonth": "2019.09"
         },
         {
          "Station": "Genève Cornavin",
          "Value": 129530.18067472898,
          "YearMonth": "2019.09"
         },
         {
          "Station": "Lausanne",
          "Value": 290013.1187500887,
          "YearMonth": "2019.09"
         },
         {
          "Station": "Lugano",
          "Value": 86605.86920838161,
          "YearMonth": "2019.09"
         },
         {
          "Station": "Luzern",
          "Value": 165428.2773596704,
          "YearMonth": "2019.09"
         },
         {
          "Station": "M2",
          "Value": 87995.79287818082,
          "YearMonth": "2019.09"
         },
         {
          "Station": "Neuchatel",
          "Value": 102326.91064011102,
          "YearMonth": "2019.09"
         },
         {
          "Station": "Olten",
          "Value": 163481.90401616614,
          "YearMonth": "2019.09"
         },
         {
          "Station": "St. Gallen",
          "Value": 95061.65859601102,
          "YearMonth": "2019.09"
         },
         {
          "Station": "Winterthur",
          "Value": 170048.56327919578,
          "YearMonth": "2019.09"
         },
         {
          "Station": "Zug",
          "Value": 101908.57360367659,
          "YearMonth": "2019.09"
         },
         {
          "Station": "Zürich Enge",
          "Value": 47408.78886939699,
          "YearMonth": "2019.09"
         },
         {
          "Station": "Zürich Flughafen - Airside",
          "Value": 142413.90022785155,
          "YearMonth": "2019.09"
         },
         {
          "Station": "Zürich Flughafen - Landside",
          "Value": 162651.28034835483,
          "YearMonth": "2019.09"
         },
         {
          "Station": "Zürich HB",
          "Value": 716876.1294046622,
          "YearMonth": "2019.09"
         },
         {
          "Station": "Zürich Hardbrücke",
          "Value": 151222.0137397279,
          "YearMonth": "2019.09"
         },
         {
          "Station": "Zürich Oerlikon",
          "Value": 164837.69094086107,
          "YearMonth": "2019.09"
         },
         {
          "Station": "Zürich Stadelhofen",
          "Value": 212498.37981458727,
          "YearMonth": "2019.09"
         },
         {
          "Station": "Aarau",
          "Value": 121120.20190627887,
          "YearMonth": "2019.10"
         },
         {
          "Station": "Basel SBB",
          "Value": 202165.33389882912,
          "YearMonth": "2019.10"
         },
         {
          "Station": "Bellinzona",
          "Value": 40489.741425800785,
          "YearMonth": "2019.10"
         },
         {
          "Station": "Bern",
          "Value": 388116.7553647783,
          "YearMonth": "2019.10"
         },
         {
          "Station": "Biel/Bienne",
          "Value": 100344.25013903528,
          "YearMonth": "2019.10"
         },
         {
          "Station": "Brig",
          "Value": 23918.361235783756,
          "YearMonth": "2019.10"
         },
         {
          "Station": "Chur",
          "Value": 30215.379882512487,
          "YearMonth": "2019.10"
         },
         {
          "Station": "Fribourg",
          "Value": 143818.44710126534,
          "YearMonth": "2019.10"
         },
         {
          "Station": "Genève Aéroport",
          "Value": 50889.341524510084,
          "YearMonth": "2019.10"
         },
         {
          "Station": "Genève Cornavin",
          "Value": 139468.95539287743,
          "YearMonth": "2019.10"
         },
         {
          "Station": "Lausanne",
          "Value": 237286.30957703665,
          "YearMonth": "2019.10"
         },
         {
          "Station": "Lugano",
          "Value": 75475.97317773885,
          "YearMonth": "2019.10"
         },
         {
          "Station": "Luzern",
          "Value": 168143.44469103226,
          "YearMonth": "2019.10"
         },
         {
          "Station": "M2",
          "Value": 75708.38781852313,
          "YearMonth": "2019.10"
         },
         {
          "Station": "Neuchatel",
          "Value": 94952.32260476501,
          "YearMonth": "2019.10"
         },
         {
          "Station": "Olten",
          "Value": 169097.36053198267,
          "YearMonth": "2019.10"
         },
         {
          "Station": "St. Gallen",
          "Value": 87697.92141508333,
          "YearMonth": "2019.10"
         },
         {
          "Station": "Winterthur",
          "Value": 141300.85517764188,
          "YearMonth": "2019.10"
         },
         {
          "Station": "Zug",
          "Value": 94008.14086909671,
          "YearMonth": "2019.10"
         },
         {
          "Station": "Zürich Enge",
          "Value": 40079.6282290038,
          "YearMonth": "2019.10"
         },
         {
          "Station": "Zürich Flughafen - Airside",
          "Value": 109353.36772391552,
          "YearMonth": "2019.10"
         },
         {
          "Station": "Zürich Flughafen - Landside",
          "Value": 135178.20849115268,
          "YearMonth": "2019.10"
         },
         {
          "Station": "Zürich HB",
          "Value": 675138.6542952687,
          "YearMonth": "2019.10"
         },
         {
          "Station": "Zürich Hardbrücke",
          "Value": 123838.33862056486,
          "YearMonth": "2019.10"
         },
         {
          "Station": "Zürich Oerlikon",
          "Value": 145315.8668427861,
          "YearMonth": "2019.10"
         },
         {
          "Station": "Zürich Stadelhofen",
          "Value": 178745.69370542024,
          "YearMonth": "2019.10"
         },
         {
          "Station": "Aarau",
          "Value": 118078.25789391219,
          "YearMonth": "2019.11"
         },
         {
          "Station": "Basel SBB",
          "Value": 210596.86604050064,
          "YearMonth": "2019.11"
         },
         {
          "Station": "Bellinzona",
          "Value": 28930.90693219122,
          "YearMonth": "2019.11"
         },
         {
          "Station": "Bern",
          "Value": 388270.0160897144,
          "YearMonth": "2019.11"
         },
         {
          "Station": "Biel/Bienne",
          "Value": 121308.35623409279,
          "YearMonth": "2019.11"
         },
         {
          "Station": "Brig",
          "Value": 28054.240680442294,
          "YearMonth": "2019.11"
         },
         {
          "Station": "Chur",
          "Value": 31170.559182068722,
          "YearMonth": "2019.11"
         },
         {
          "Station": "Fribourg",
          "Value": 161161.3834619786,
          "YearMonth": "2019.11"
         },
         {
          "Station": "Genève Aéroport",
          "Value": 36189.93342205341,
          "YearMonth": "2019.11"
         },
         {
          "Station": "Genève Cornavin",
          "Value": 163518.93917836604,
          "YearMonth": "2019.11"
         },
         {
          "Station": "Lausanne",
          "Value": 282471.2724190427,
          "YearMonth": "2019.11"
         },
         {
          "Station": "Lugano",
          "Value": 61826.790484258105,
          "YearMonth": "2019.11"
         },
         {
          "Station": "Luzern",
          "Value": 170639.91779651016,
          "YearMonth": "2019.11"
         },
         {
          "Station": "M2",
          "Value": 97065.12957646375,
          "YearMonth": "2019.11"
         },
         {
          "Station": "Neuchatel",
          "Value": 99208.26334889585,
          "YearMonth": "2019.11"
         },
         {
          "Station": "Olten",
          "Value": 172161.44304296857,
          "YearMonth": "2019.11"
         },
         {
          "Station": "St. Gallen",
          "Value": 80211.90355127088,
          "YearMonth": "2019.11"
         },
         {
          "Station": "Winterthur",
          "Value": 161588.8136895321,
          "YearMonth": "2019.11"
         },
         {
          "Station": "Zug",
          "Value": 88527.83726233488,
          "YearMonth": "2019.11"
         },
         {
          "Station": "Zürich Enge",
          "Value": 43575.36306720334,
          "YearMonth": "2019.11"
         },
         {
          "Station": "Zürich Flughafen - Airside",
          "Value": 94279.36313301283,
          "YearMonth": "2019.11"
         },
         {
          "Station": "Zürich Flughafen - Landside",
          "Value": 114892.755453192,
          "YearMonth": "2019.11"
         },
         {
          "Station": "Zürich HB",
          "Value": 726794.1368076565,
          "YearMonth": "2019.11"
         },
         {
          "Station": "Zürich Hardbrücke",
          "Value": 128618.23451604185,
          "YearMonth": "2019.11"
         },
         {
          "Station": "Zürich Oerlikon",
          "Value": 158629.57994034482,
          "YearMonth": "2019.11"
         },
         {
          "Station": "Zürich Stadelhofen",
          "Value": 188884.53808150403,
          "YearMonth": "2019.11"
         },
         {
          "Station": "Aarau",
          "Value": 93602.31820566526,
          "YearMonth": "2019.12"
         },
         {
          "Station": "Basel SBB",
          "Value": 188709.1968858308,
          "YearMonth": "2019.12"
         },
         {
          "Station": "Bellinzona",
          "Value": 29514.971507471546,
          "YearMonth": "2019.12"
         },
         {
          "Station": "Bern",
          "Value": 325601.0890522196,
          "YearMonth": "2019.12"
         },
         {
          "Station": "Biel/Bienne",
          "Value": 99064.88578817384,
          "YearMonth": "2019.12"
         },
         {
          "Station": "Brig",
          "Value": 31747.9902739669,
          "YearMonth": "2019.12"
         },
         {
          "Station": "Chur",
          "Value": 38207.38845430596,
          "YearMonth": "2019.12"
         },
         {
          "Station": "Fribourg",
          "Value": 143237.13771100956,
          "YearMonth": "2019.12"
         },
         {
          "Station": "Genève Aéroport",
          "Value": 28392.047924478855,
          "YearMonth": "2019.12"
         },
         {
          "Station": "Genève Cornavin",
          "Value": 142737.43244831864,
          "YearMonth": "2019.12"
         },
         {
          "Station": "Lausanne",
          "Value": 277474.975435155,
          "YearMonth": "2019.12"
         },
         {
          "Station": "Lugano",
          "Value": 57355.81239026181,
          "YearMonth": "2019.12"
         },
         {
          "Station": "Luzern",
          "Value": 194088.49535204985,
          "YearMonth": "2019.12"
         },
         {
          "Station": "M2",
          "Value": 111271.42331283072,
          "YearMonth": "2019.12"
         },
         {
          "Station": "Neuchatel",
          "Value": 82234.68547857512,
          "YearMonth": "2019.12"
         },
         {
          "Station": "Olten",
          "Value": 135528.5916958954,
          "YearMonth": "2019.12"
         },
         {
          "Station": "St. Gallen",
          "Value": 70155.57890734878,
          "YearMonth": "2019.12"
         },
         {
          "Station": "Winterthur",
          "Value": 143351.66251178665,
          "YearMonth": "2019.12"
         },
         {
          "Station": "Zug",
          "Value": 80840.54726348321,
          "YearMonth": "2019.12"
         },
         {
          "Station": "Zürich Enge",
          "Value": 42879.097337970656,
          "YearMonth": "2019.12"
         },
         {
          "Station": "Zürich Flughafen - Airside",
          "Value": 99873.6486554123,
          "YearMonth": "2019.12"
         },
         {
          "Station": "Zürich Flughafen - Landside",
          "Value": 132581.41493469448,
          "YearMonth": "2019.12"
         },
         {
          "Station": "Zürich HB",
          "Value": 714444.537273049,
          "YearMonth": "2019.12"
         },
         {
          "Station": "Zürich Hardbrücke",
          "Value": 128756.75522796321,
          "YearMonth": "2019.12"
         },
         {
          "Station": "Zürich Oerlikon",
          "Value": 164395.6763072116,
          "YearMonth": "2019.12"
         },
         {
          "Station": "Zürich Stadelhofen",
          "Value": 197086.28016862719,
          "YearMonth": "2019.12"
         },
         {
          "Station": "Aarau",
          "Value": 105151.89672189018,
          "YearMonth": "2020.01"
         },
         {
          "Station": "Basel SBB",
          "Value": 162058.76726777796,
          "YearMonth": "2020.01"
         },
         {
          "Station": "Bellinzona",
          "Value": 24761.832904844836,
          "YearMonth": "2020.01"
         },
         {
          "Station": "Bern",
          "Value": 271793.244023255,
          "YearMonth": "2020.01"
         },
         {
          "Station": "Biel/Bienne",
          "Value": 67172.63535812216,
          "YearMonth": "2020.01"
         },
         {
          "Station": "Brig",
          "Value": 29543.82110356206,
          "YearMonth": "2020.01"
         },
         {
          "Station": "Chur",
          "Value": 45482.7480548703,
          "YearMonth": "2020.01"
         },
         {
          "Station": "Fribourg",
          "Value": 96632.41555837759,
          "YearMonth": "2020.01"
         },
         {
          "Station": "Genève Aéroport",
          "Value": 29434.27884015567,
          "YearMonth": "2020.01"
         },
         {
          "Station": "Genève Cornavin",
          "Value": 121331.38917790199,
          "YearMonth": "2020.01"
         },
         {
          "Station": "Lausanne",
          "Value": 225907.1893501039,
          "YearMonth": "2020.01"
         },
         {
          "Station": "Lugano",
          "Value": 38825.25244794327,
          "YearMonth": "2020.01"
         },
         {
          "Station": "Luzern",
          "Value": 153954.42148251014,
          "YearMonth": "2020.01"
         },
         {
          "Station": "M2",
          "Value": 119466.58455907818,
          "YearMonth": "2020.01"
         },
         {
          "Station": "Neuchatel",
          "Value": 56049.29445794868,
          "YearMonth": "2020.01"
         },
         {
          "Station": "Olten",
          "Value": 112265.77224540303,
          "YearMonth": "2020.01"
         },
         {
          "Station": "St. Gallen",
          "Value": 73824.5799424967,
          "YearMonth": "2020.01"
         },
         {
          "Station": "Winterthur",
          "Value": 153886.43568357424,
          "YearMonth": "2020.01"
         },
         {
          "Station": "Zug",
          "Value": 90646.96450509819,
          "YearMonth": "2020.01"
         },
         {
          "Station": "Zürich Enge",
          "Value": 54817.666075690155,
          "YearMonth": "2020.01"
         },
         {
          "Station": "Zürich Flughafen - Airside",
          "Value": 72802.42146404332,
          "YearMonth": "2020.01"
         },
         {
          "Station": "Zürich Flughafen - Landside",
          "Value": 89597.44592193619,
          "YearMonth": "2020.01"
         },
         {
          "Station": "Zürich HB",
          "Value": 571977.5945638379,
          "YearMonth": "2020.01"
         },
         {
          "Station": "Zürich Hardbrücke",
          "Value": 102094.4002473458,
          "YearMonth": "2020.01"
         },
         {
          "Station": "Zürich Oerlikon",
          "Value": 147681.37724458415,
          "YearMonth": "2020.01"
         },
         {
          "Station": "Zürich Stadelhofen",
          "Value": 141536.29904576179,
          "YearMonth": "2020.01"
         },
         {
          "Station": "Aarau",
          "Value": 120005.44953272515,
          "YearMonth": "2020.02"
         },
         {
          "Station": "Basel SBB",
          "Value": 161039.36974635007,
          "YearMonth": "2020.02"
         },
         {
          "Station": "Bellinzona",
          "Value": 33958.36893684229,
          "YearMonth": "2020.02"
         },
         {
          "Station": "Bern",
          "Value": 308104.6477629507,
          "YearMonth": "2020.02"
         },
         {
          "Station": "Biel/Bienne",
          "Value": 81789.01639516387,
          "YearMonth": "2020.02"
         },
         {
          "Station": "Brig",
          "Value": 44947.67794918871,
          "YearMonth": "2020.02"
         },
         {
          "Station": "Chur",
          "Value": 53288.65632669987,
          "YearMonth": "2020.02"
         },
         {
          "Station": "Fribourg",
          "Value": 120505.56628552271,
          "YearMonth": "2020.02"
         },
         {
          "Station": "Genève Aéroport",
          "Value": 33888.14376162952,
          "YearMonth": "2020.02"
         },
         {
          "Station": "Genève Cornavin",
          "Value": 143874.15960476652,
          "YearMonth": "2020.02"
         },
         {
          "Station": "Lausanne",
          "Value": 231571.3559835061,
          "YearMonth": "2020.02"
         },
         {
          "Station": "Lugano",
          "Value": 48411.982056684166,
          "YearMonth": "2020.02"
         },
         {
          "Station": "Luzern",
          "Value": 170321.7320428485,
          "YearMonth": "2020.02"
         },
         {
          "Station": "M2",
          "Value": 103034.17275099763,
          "YearMonth": "2020.02"
         },
         {
          "Station": "Neuchatel",
          "Value": 58884.66005907306,
          "YearMonth": "2020.02"
         },
         {
          "Station": "Olten",
          "Value": 134836.9488432773,
          "YearMonth": "2020.02"
         },
         {
          "Station": "St. Gallen",
          "Value": 106534.49360826491,
          "YearMonth": "2020.02"
         },
         {
          "Station": "Winterthur",
          "Value": 160244.97305983808,
          "YearMonth": "2020.02"
         },
         {
          "Station": "Zug",
          "Value": 98482.95162810001,
          "YearMonth": "2020.02"
         },
         {
          "Station": "Zürich Enge",
          "Value": 50270.76790010849,
          "YearMonth": "2020.02"
         },
         {
          "Station": "Zürich Flughafen - Airside",
          "Value": 69436.40831930964,
          "YearMonth": "2020.02"
         },
         {
          "Station": "Zürich Flughafen - Landside",
          "Value": 102920.01866907881,
          "YearMonth": "2020.02"
         },
         {
          "Station": "Zürich HB",
          "Value": 645110.2326456653,
          "YearMonth": "2020.02"
         },
         {
          "Station": "Zürich Hardbrücke",
          "Value": 132689.41366641413,
          "YearMonth": "2020.02"
         },
         {
          "Station": "Zürich Oerlikon",
          "Value": 186852.0145064922,
          "YearMonth": "2020.02"
         },
         {
          "Station": "Zürich Stadelhofen",
          "Value": 179723.79027644574,
          "YearMonth": "2020.02"
         }
        ]
       },
       "encoding": {
        "color": {
         "field": "Station",
         "type": "nominal"
        },
        "facet": {
         "field": "Station",
         "type": "nominal"
        },
        "tooltip": [
         {
          "field": "Station",
          "type": "nominal"
         },
         {
          "field": "YearMonth",
          "type": "nominal"
         },
         {
          "field": "Value",
          "type": "quantitative"
         }
        ],
        "x": {
         "field": "YearMonth",
         "type": "ordinal"
        },
        "y": {
         "field": "Value",
         "type": "quantitative"
        }
       },
       "height": 200,
       "mark": "line",
       "resolve": {
        "axis": {
         "x": "independent",
         "y": "independent"
        }
       },
       "width": 200
      },
      "image/png": "[encoded data removed]",
      "text/plain": [
       "<VegaLite 3 object>\n",
       "\n",
       "If you see this message, it means the renderer has not been properly enabled\n",
       "for the frontend that you are using. For more information, see\n",
       "https://altair-viz.github.io/user_guide/troubleshooting.html\n"
      ]
     },
     "metadata": {},
     "output_type": "display_data"
    }
   ],
   "source": [
    "chart_data = ax_months.copy()\n",
    "\n",
    "month_chart = alt.Chart(chart_data).mark_line().encode(\n",
    "    x=\"YearMonth:O\",\n",
    "    y=\"Value:Q\",\n",
    "    color=\"Station\",\n",
    "    tooltip=[\"Station\", 'YearMonth', 'Value']\n",
    ")\n",
    "single_chart = month_chart.properties(width=500, height=750)\n",
    "facets = (month_chart\n",
    "          .encode(facet=alt.Facet(\"Station:N\"))\n",
    "          .properties(width=200, height=200, columns=3)\n",
    "          .resolve_axis(y=\"independent\", x=\"independent\")\n",
    "         )\n",
    "\n",
    "single_chart.display()\n",
    "facets.display()"
   ]
  },
  {
   "cell_type": "code",
   "execution_count": null,
   "metadata": {},
   "outputs": [],
   "source": []
  }
 ],
 "metadata": {
  "kernelspec": {
   "display_name": "Python 3",
   "language": "python",
   "name": "python3"
  },
  "language_info": {
   "codemirror_mode": {
    "name": "ipython",
    "version": 3
   },
   "file_extension": ".py",
   "mimetype": "text/x-python",
   "name": "python",
   "nbconvert_exporter": "python",
   "pygments_lexer": "ipython3",
   "version": "3.7.6"
  }
 },
 "nbformat": 4,
 "nbformat_minor": 4
}
