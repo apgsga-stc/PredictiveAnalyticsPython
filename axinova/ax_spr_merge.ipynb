{
 "cells": [
  {
   "cell_type": "code",
   "execution_count": 2,
   "metadata": {},
   "outputs": [],
   "source": [
    "## make imports from pa_lib possible (parent directory of file's directory)\n",
    "import sys\n",
    "from pathlib import Path\n",
    "\n",
    "file_dir = Path.cwd()\n",
    "parent_dir = file_dir.parent\n",
    "sys.path.append(str(parent_dir))\n",
    "\n",
    "%load_ext autoreload\n",
    "%autoreload\n",
    "\n",
    "import pandas as pd\n",
    "import numpy as np\n",
    "from collections import namedtuple\n",
    "\n",
    "from pa_lib.file import (\n",
    "    project_dir,\n",
    "    load_bin,\n",
    "    load_pickle,\n",
    "    load_xlsx,\n",
    "    store_bin,\n",
    ")\n",
    "from pa_lib.data import as_dtype, dtFactor\n",
    "from pa_lib.util import cap_words, collect, value"
   ]
  },
  {
   "cell_type": "markdown",
   "metadata": {},
   "source": [
    "# Load data sets"
   ]
  },
  {
   "cell_type": "code",
   "execution_count": 3,
   "metadata": {},
   "outputs": [
    {
     "name": "stdout",
     "output_type": "stream",
     "text": [
      "10:34:35 [INFO] Started loading binary file ...\n",
      "10:34:35 [INFO] Reading from file C:\\Users\\kpf\\data\\axinova\\ax_data.feather\n",
      "10:34:36 [INFO] ... finished loading binary file in 1.07s (0.94s CPU)\n",
      "10:34:36 [INFO] Started loading pickle file ...\n",
      "10:34:36 [INFO] Reading from file C:\\Users\\kpf\\data\\axinova\\spr_data.pkl\n",
      "10:34:36 [INFO] ... finished loading pickle file in 0.08s (0.05s CPU)\n"
     ]
    }
   ],
   "source": [
    "with project_dir(\"axinova\"):\n",
    "    ax_data = load_bin(\"ax_data.feather\")\n",
    "    spr_data = load_pickle(\"spr_data.pkl\")"
   ]
  },
  {
   "cell_type": "markdown",
   "metadata": {},
   "source": [
    "# Filter data for merging"
   ]
  },
  {
   "cell_type": "code",
   "execution_count": 4,
   "metadata": {},
   "outputs": [],
   "source": [
    "spr_data.dropna(subset=[\"PF\"], inplace=True)"
   ]
  },
  {
   "cell_type": "markdown",
   "metadata": {},
   "source": [
    "# Find mapping of Flächen to Stations"
   ]
  },
  {
   "cell_type": "code",
   "execution_count": 5,
   "metadata": {},
   "outputs": [
    {
     "data": {
      "text/html": [
       "<div>\n",
       "<style scoped>\n",
       "    .dataframe tbody tr th:only-of-type {\n",
       "        vertical-align: middle;\n",
       "    }\n",
       "\n",
       "    .dataframe tbody tr th {\n",
       "        vertical-align: top;\n",
       "    }\n",
       "\n",
       "    .dataframe thead th {\n",
       "        text-align: right;\n",
       "    }\n",
       "</style>\n",
       "<table border=\"1\" class=\"dataframe\">\n",
       "  <thead>\n",
       "    <tr style=\"text-align: right;\">\n",
       "      <th></th>\n",
       "      <th>Station</th>\n",
       "    </tr>\n",
       "  </thead>\n",
       "  <tbody>\n",
       "    <tr>\n",
       "      <th>0</th>\n",
       "      <td>Aarau</td>\n",
       "    </tr>\n",
       "    <tr>\n",
       "      <th>1</th>\n",
       "      <td>Basel SBB</td>\n",
       "    </tr>\n",
       "    <tr>\n",
       "      <th>2</th>\n",
       "      <td>Bellinzona</td>\n",
       "    </tr>\n",
       "    <tr>\n",
       "      <th>3</th>\n",
       "      <td>Bern</td>\n",
       "    </tr>\n",
       "    <tr>\n",
       "      <th>4</th>\n",
       "      <td>Biel/Bienne</td>\n",
       "    </tr>\n",
       "    <tr>\n",
       "      <th>5</th>\n",
       "      <td>Brig</td>\n",
       "    </tr>\n",
       "    <tr>\n",
       "      <th>6</th>\n",
       "      <td>Chur</td>\n",
       "    </tr>\n",
       "    <tr>\n",
       "      <th>7</th>\n",
       "      <td>Fribourg</td>\n",
       "    </tr>\n",
       "    <tr>\n",
       "      <th>8</th>\n",
       "      <td>Genève Aéroport</td>\n",
       "    </tr>\n",
       "    <tr>\n",
       "      <th>9</th>\n",
       "      <td>Genève Cornavin</td>\n",
       "    </tr>\n",
       "    <tr>\n",
       "      <th>10</th>\n",
       "      <td>Lausanne</td>\n",
       "    </tr>\n",
       "    <tr>\n",
       "      <th>11</th>\n",
       "      <td>Lugano</td>\n",
       "    </tr>\n",
       "    <tr>\n",
       "      <th>12</th>\n",
       "      <td>Luzern</td>\n",
       "    </tr>\n",
       "    <tr>\n",
       "      <th>13</th>\n",
       "      <td>M2</td>\n",
       "    </tr>\n",
       "    <tr>\n",
       "      <th>14</th>\n",
       "      <td>Neuchatel</td>\n",
       "    </tr>\n",
       "    <tr>\n",
       "      <th>15</th>\n",
       "      <td>Olten</td>\n",
       "    </tr>\n",
       "    <tr>\n",
       "      <th>16</th>\n",
       "      <td>St. Gallen</td>\n",
       "    </tr>\n",
       "    <tr>\n",
       "      <th>17</th>\n",
       "      <td>Winterthur</td>\n",
       "    </tr>\n",
       "    <tr>\n",
       "      <th>18</th>\n",
       "      <td>Zug</td>\n",
       "    </tr>\n",
       "    <tr>\n",
       "      <th>19</th>\n",
       "      <td>Zürich Enge</td>\n",
       "    </tr>\n",
       "    <tr>\n",
       "      <th>20</th>\n",
       "      <td>Zürich Flughafen</td>\n",
       "    </tr>\n",
       "    <tr>\n",
       "      <th>21</th>\n",
       "      <td>Zürich Flughafen - Airside</td>\n",
       "    </tr>\n",
       "    <tr>\n",
       "      <th>22</th>\n",
       "      <td>Zürich Flughafen - Landside</td>\n",
       "    </tr>\n",
       "    <tr>\n",
       "      <th>23</th>\n",
       "      <td>Zürich HB</td>\n",
       "    </tr>\n",
       "    <tr>\n",
       "      <th>24</th>\n",
       "      <td>Zürich Hardbrücke</td>\n",
       "    </tr>\n",
       "    <tr>\n",
       "      <th>25</th>\n",
       "      <td>Zürich Oerlikon</td>\n",
       "    </tr>\n",
       "    <tr>\n",
       "      <th>26</th>\n",
       "      <td>Zürich Stadelhofen</td>\n",
       "    </tr>\n",
       "  </tbody>\n",
       "</table>\n",
       "</div>"
      ],
      "text/plain": [
       "                        Station\n",
       "0                         Aarau\n",
       "1                     Basel SBB\n",
       "2                    Bellinzona\n",
       "3                          Bern\n",
       "4                   Biel/Bienne\n",
       "5                          Brig\n",
       "6                          Chur\n",
       "7                      Fribourg\n",
       "8               Genève Aéroport\n",
       "9               Genève Cornavin\n",
       "10                     Lausanne\n",
       "11                       Lugano\n",
       "12                       Luzern\n",
       "13                           M2\n",
       "14                    Neuchatel\n",
       "15                        Olten\n",
       "16                   St. Gallen\n",
       "17                   Winterthur\n",
       "18                          Zug\n",
       "19                  Zürich Enge\n",
       "20             Zürich Flughafen\n",
       "21   Zürich Flughafen - Airside\n",
       "22  Zürich Flughafen - Landside\n",
       "23                    Zürich HB\n",
       "24            Zürich Hardbrücke\n",
       "25              Zürich Oerlikon\n",
       "26           Zürich Stadelhofen"
      ]
     },
     "execution_count": 5,
     "metadata": {},
     "output_type": "execute_result"
    }
   ],
   "source": [
    "pd.DataFrame(dict(Station=ax_data.Station.unique()))"
   ]
  },
  {
   "cell_type": "code",
   "execution_count": 6,
   "metadata": {},
   "outputs": [
    {
     "data": {
      "text/plain": [
       "Index(['index', 'WT', 'Flaeche_ID', 'Anbieter', 'Spr_Flaeche_ID', 'Time',\n",
       "       'Count', 'Nummer', 'PF', 'Position-Nr.', 'Gebiet', 'Gebietsbez.',\n",
       "       'Gebiet Code', 'Adresszusatz', 'STM', 'EN-Nr.', 'NG-Nr.'],\n",
       "      dtype='object')"
      ]
     },
     "execution_count": 6,
     "metadata": {},
     "output_type": "execute_result"
    }
   ],
   "source": [
    "spr_data.columns"
   ]
  },
  {
   "cell_type": "markdown",
   "metadata": {},
   "source": [
    "## Problem cantons: ZH, GE, VD, BE, TI (> 1 station each)"
   ]
  },
  {
   "cell_type": "code",
   "execution_count": 7,
   "metadata": {},
   "outputs": [],
   "source": [
    "def spr_list(column, cond, sep=\"\\n\"):\n",
    "    for var, value in cond.items():\n",
    "        print(f\"--- {var} = {value} ---\")\n",
    "        print(collect(spr_data.loc[spr_data[var] == value, column], sep=sep))"
   ]
  },
  {
   "cell_type": "code",
   "execution_count": 8,
   "metadata": {},
   "outputs": [
    {
     "name": "stdout",
     "output_type": "stream",
     "text": [
      "--- Gebiet Code = ZH ---\n",
      "Gleis 2, Sektor C, Fahrtreppenaufgang\n",
      "Gleis 3, Sektor C, Fahrtreppenaufgang\n",
      "Gleis 31/32, Sektor B, Aufgang Halle Löwenstrasse\n",
      "Gleis 31/32, Sektor B, Wartezone\n",
      "Gleis 33/34, Sektor B, Aufgang Halle Löwenstrasse\n",
      "Gleis 33/34, Sektor B, Wartezone\n",
      "Gleis 4, Sektor A, vis-à-vis Hausperron\n",
      "Gleis 4, Sektor B, vis-à-vis Hausperron\n",
      "Gleis 4, Sektor C, vis-à-vis Hausperron\n",
      "Gleis 41, Linien 5,6,7,9,12, Sektor B\n",
      "Gleis 41, Linien 5,6,7,9,12, Sektor C\n",
      "Gleis 44, Linien 5,6,7,9,12, Sektor B\n",
      "Gleis 44, Linien 5,6,7,9,12, Sektor C\n",
      "Halle Kopfperron\n",
      "Halle Landesmuseum, Abgänge S-Bahn Perron Gleis 41+42 / 43+44\n",
      "Halle Löwenstrasse, Aufgang Gleis 6\n",
      "Halle Löwenstrasse, Aufgang Gleis 7\n",
      "Halle Löwenstrasse, Aufgang Shopville\n",
      "Halle Museumstrasse, Passage Bahnhofstrasse\n",
      "Halle Museumstrasse, Passage Löwenstrasse\n",
      "Haupzugang, Kiosk\n",
      "Passage Löwenstrasse\n",
      "Passage Sihlquai, Liftschacht Gleis 10\n",
      "Passage Sihlquai, Liftschacht Gleis 11\n",
      "Passage Sihlquai, Liftschacht Gleis 6\n",
      "Passage Sihlquai, Liftschacht Gleis 7\n",
      "Passage, Zugang Perron, Gleis 2 - 3, Sektor B\n",
      "Passage, Zugang Perron, Gleis 2 - 3, Sektor C\n",
      "Passage, Zugang Stadelhoferplatz, Kreuzbühlstrasse\n",
      "Passage, Zugang Stadelhoferstrasse, Bellevue\n",
      "Perron Gleis 3, Sektor B\n",
      "Perron Gleis 3, Sektor C\n",
      "Perronpassage\n",
      "Perronpassage, Zugang Bahnhofplatz\n",
      "Perronpassage, Zugang Max Frisch Platz\n",
      "Zugang Passage\n",
      "Zugang Perronpassage frontal\n"
     ]
    }
   ],
   "source": [
    "spr_list(\"Adresszusatz\", {\"Gebiet Code\": \"ZH\"})"
   ]
  },
  {
   "cell_type": "code",
   "execution_count": 9,
   "metadata": {},
   "outputs": [],
   "source": [
    "from typing import Dict, NamedTuple\n",
    "\n",
    "NrRange = namedtuple(\"NrRange\", [\"low\", \"high\"], defaults=[None])\n",
    "StationMapping = Dict[NrRange, str]\n",
    "CantonMapping = Dict[str, str]\n",
    "\n",
    "\n",
    "def map_stations(\n",
    "    canton: str = None, cantons: CantonMapping = None, nr_ranges: StationMapping = None\n",
    ") -> None:\n",
    "    \"\"\"\n",
    "    Map spr_data records to Intervista Station names in-place, either per canton by \n",
    "    Flaechennummer ranges NrRange(low, high), or by directly mapping from canton \n",
    "    to station\n",
    "    \"\"\"\n",
    "    if nr_ranges is not None and canton is not None:\n",
    "        for nr_range, station_name in nr_ranges.items():\n",
    "            if nr_range.high is None:\n",
    "                nr_range = NrRange(nr_range.low, nr_range.low)\n",
    "            spr_data.loc[\n",
    "                (spr_data[\"Gebiet Code\"] == canton)\n",
    "                & (spr_data[\"Nummer\"].isin(range(nr_range.low, nr_range.high + 1))),\n",
    "                \"Station\",\n",
    "            ] = station_name\n",
    "    elif cantons is not None:\n",
    "        for canton, station_name in cantons.items():\n",
    "            spr_data.loc[spr_data[\"Gebiet Code\"] == canton, \"Station\"] = station_name\n",
    "    else:\n",
    "        raise ValueError(\"Either set parameters 'canton' and 'nr_ranges', or 'cantons'!\")"
   ]
  },
  {
   "cell_type": "markdown",
   "metadata": {},
   "source": [
    "### ZH"
   ]
  },
  {
   "cell_type": "code",
   "execution_count": 11,
   "metadata": {},
   "outputs": [
    {
     "name": "stdout",
     "output_type": "stream",
     "text": [
      "--- Gebiet Code = ZH ---\n",
      "680759.0 | 680760.0 | 680761.0 | 680763.0 | 680764.0 | 680765.0 | 680766.0 | 680767.0 | 680768.0 | 680769.0 | 680770.0 | 680776.0 | 680777.0 | 680814.0 | 680815.0 | 680816.0 | 680824.0 | 680827.0 | 680828.0 | 680829.0 | 680831.0 | 680846.0 | 680847.0 | 680848.0 | 680858.0 | 680873.0 | 680874.0 | 680875.0 | 680876.0 | 688299.0 | 688303.0 | 689938.0 | 689940.0 | 689942.0 | 689944.0 | 689946.0 | 689948.0 | 689950.0 | 690717.0 | 690723.0 | 690910.0 | 690914.0 | 690918.0 | 690922.0 | 705698.0 | 705699.0 | 705700.0 | 705701.0 | 705702.0 | 705703.0 | 705704.0 | 705705.0\n"
     ]
    }
   ],
   "source": [
    "spr_list(\"Nummer\", {\"Gebiet Code\": \"ZH\"}, sep=\" | \")"
   ]
  },
  {
   "cell_type": "code",
   "execution_count": 10,
   "metadata": {},
   "outputs": [],
   "source": [
    "map_stations(\n",
    "    canton=\"ZH\",\n",
    "    nr_ranges={\n",
    "        NrRange(680759, 680831): \"Zürich HB\",\n",
    "        NrRange(680846, 680848): \"Zürich Stadelhofen\",\n",
    "        NrRange(680858, 680858): \"Zürich Enge\",\n",
    "        NrRange(680873, 680876): \"Winterthur\",\n",
    "        NrRange(688299, 688303): \"Zürich Flughafen\",\n",
    "        NrRange(689938, 690717): \"Zürich HB\",  # Sihlquai-Bahnhof, Gleis-Unterführungen\n",
    "        NrRange(690723): \"Winterthur\",\n",
    "        NrRange(690910, 690922): \"Zürich HB\",  # Bahnhofplatz\n",
    "        NrRange(705698, 705701): \"Winterthur\",\n",
    "        NrRange(705702, 705703): \"Zürich Stadelhofen\",\n",
    "        NrRange(705704, 705705): \"Zürich Oerlikon\",\n",
    "    }\n",
    ")"
   ]
  },
  {
   "cell_type": "code",
   "execution_count": null,
   "metadata": {},
   "outputs": [],
   "source": [
    "spr_data.query(\"Station == 'Winterthur'\")"
   ]
  },
  {
   "cell_type": "markdown",
   "metadata": {},
   "source": [
    "### GE"
   ]
  },
  {
   "cell_type": "code",
   "execution_count": null,
   "metadata": {},
   "outputs": [],
   "source": [
    "spr_list(\"Nummer\", {\"Gebiet Code\": \"GE\"}, sep=\" | \")"
   ]
  },
  {
   "cell_type": "code",
   "execution_count": 12,
   "metadata": {},
   "outputs": [],
   "source": [
    "map_stations(\n",
    "    canton=\"GE\",\n",
    "    nr_ranges={\n",
    "        NrRange(680802, 690726): \"Genève Cornavin\",\n",
    "    }\n",
    ")"
   ]
  },
  {
   "cell_type": "code",
   "execution_count": null,
   "metadata": {},
   "outputs": [],
   "source": [
    "spr_data.query(\"Station == 'Genève Cornavin'\")"
   ]
  },
  {
   "cell_type": "markdown",
   "metadata": {},
   "source": [
    "### VD"
   ]
  },
  {
   "cell_type": "code",
   "execution_count": null,
   "metadata": {},
   "outputs": [],
   "source": [
    "spr_list(\"Nummer\", {\"Gebiet Code\": \"VD\"}, sep=\" | \")"
   ]
  },
  {
   "cell_type": "code",
   "execution_count": 13,
   "metadata": {},
   "outputs": [],
   "source": [
    "map_stations(\n",
    "    canton=\"VD\",\n",
    "    nr_ranges={\n",
    "        NrRange(680797, 711299): \"Lausanne\",\n",
    "        NrRange(711300, 711308): \"M2\", # M2 Gare Lausanne\n",
    "        NrRange(711309, 711314): \"M2\", # M2 Grancy\n",
    "    }\n",
    ")"
   ]
  },
  {
   "cell_type": "code",
   "execution_count": null,
   "metadata": {},
   "outputs": [],
   "source": [
    "spr_data.query(\"Station == 'M2'\")"
   ]
  },
  {
   "cell_type": "markdown",
   "metadata": {},
   "source": [
    "### BE"
   ]
  },
  {
   "cell_type": "code",
   "execution_count": null,
   "metadata": {},
   "outputs": [],
   "source": [
    "spr_list(\"Nummer\", {\"Gebiet Code\": \"BE\"}, sep=\" | \")"
   ]
  },
  {
   "cell_type": "code",
   "execution_count": 14,
   "metadata": {},
   "outputs": [],
   "source": [
    "map_stations(\n",
    "    canton=\"BE\",\n",
    "    nr_ranges={\n",
    "        NrRange(680778, 680862): \"Bern\",\n",
    "        NrRange(690699): \"Biel/Bienne\",\n",
    "        NrRange(691900, 691903): \"Bern\",\n",
    "        NrRange(711340, 711341): \"Biel/Bienne\",\n",
    "        NrRange(721646, 721700): \"Bern\",\n",
    "    }\n",
    ")"
   ]
  },
  {
   "cell_type": "code",
   "execution_count": null,
   "metadata": {},
   "outputs": [],
   "source": [
    "spr_data.query(\"Station == 'Biel/Bienne'\")"
   ]
  },
  {
   "cell_type": "markdown",
   "metadata": {},
   "source": [
    "### TI"
   ]
  },
  {
   "cell_type": "code",
   "execution_count": null,
   "metadata": {},
   "outputs": [],
   "source": [
    "spr_list(\"Nummer\", {\"Gebiet Code\": \"TI\"}, sep=\" | \")"
   ]
  },
  {
   "cell_type": "code",
   "execution_count": 15,
   "metadata": {},
   "outputs": [],
   "source": [
    "map_stations(\n",
    "    canton=\"TI\",\n",
    "    nr_ranges={\n",
    "        NrRange(711180): \"Bellinzona\",\n",
    "        NrRange(713103, 713106): \"Lugano\", \n",
    "    }\n",
    ")"
   ]
  },
  {
   "cell_type": "code",
   "execution_count": null,
   "metadata": {},
   "outputs": [],
   "source": [
    "spr_data.query(\"Station == 'Bellinzona'\")"
   ]
  },
  {
   "cell_type": "markdown",
   "metadata": {},
   "source": [
    "## Simple cases (one Station per canton)"
   ]
  },
  {
   "cell_type": "code",
   "execution_count": 16,
   "metadata": {},
   "outputs": [],
   "source": [
    "map_stations(\n",
    "    cantons={\n",
    "        \"AG\": \"Aarau\",\n",
    "        \"BS\": \"Basel SBB\",\n",
    "        \"FR\": \"Fribourg\",\n",
    "        \"GR\": \"Chur\",\n",
    "        \"LU\": \"Luzern\",\n",
    "        \"NE\": \"Neuchatel\",\n",
    "        \"SG\": \"St. Gallen\",\n",
    "        \"SO\": \"Olten\",\n",
    "        \"VS\": \"Brig\",\n",
    "        \"ZG\": \"Zug\",\n",
    "    }\n",
    ")"
   ]
  },
  {
   "cell_type": "code",
   "execution_count": null,
   "metadata": {},
   "outputs": [],
   "source": [
    "spr_data.query(\"Station == 'Olten'\")"
   ]
  },
  {
   "cell_type": "markdown",
   "metadata": {},
   "source": [
    "## Matched all of them?"
   ]
  },
  {
   "cell_type": "code",
   "execution_count": 17,
   "metadata": {},
   "outputs": [
    {
     "data": {
      "text/html": [
       "<div>\n",
       "<style scoped>\n",
       "    .dataframe tbody tr th:only-of-type {\n",
       "        vertical-align: middle;\n",
       "    }\n",
       "\n",
       "    .dataframe tbody tr th {\n",
       "        vertical-align: top;\n",
       "    }\n",
       "\n",
       "    .dataframe thead th {\n",
       "        text-align: right;\n",
       "    }\n",
       "</style>\n",
       "<table border=\"1\" class=\"dataframe\">\n",
       "  <thead>\n",
       "    <tr style=\"text-align: right;\">\n",
       "      <th></th>\n",
       "      <th>Records</th>\n",
       "      <th>Displays</th>\n",
       "    </tr>\n",
       "  </thead>\n",
       "  <tbody>\n",
       "    <tr>\n",
       "      <th>Bern</th>\n",
       "      <td>24864</td>\n",
       "      <td>37</td>\n",
       "    </tr>\n",
       "    <tr>\n",
       "      <th>Zürich HB</th>\n",
       "      <td>22176</td>\n",
       "      <td>33</td>\n",
       "    </tr>\n",
       "    <tr>\n",
       "      <th>M2</th>\n",
       "      <td>10080</td>\n",
       "      <td>15</td>\n",
       "    </tr>\n",
       "    <tr>\n",
       "      <th>Lausanne</th>\n",
       "      <td>9408</td>\n",
       "      <td>14</td>\n",
       "    </tr>\n",
       "    <tr>\n",
       "      <th>Luzern</th>\n",
       "      <td>6720</td>\n",
       "      <td>10</td>\n",
       "    </tr>\n",
       "    <tr>\n",
       "      <th>Basel SBB</th>\n",
       "      <td>6048</td>\n",
       "      <td>9</td>\n",
       "    </tr>\n",
       "    <tr>\n",
       "      <th>Genève Cornavin</th>\n",
       "      <td>6048</td>\n",
       "      <td>9</td>\n",
       "    </tr>\n",
       "    <tr>\n",
       "      <th>Winterthur</th>\n",
       "      <td>6048</td>\n",
       "      <td>9</td>\n",
       "    </tr>\n",
       "    <tr>\n",
       "      <th>Chur</th>\n",
       "      <td>4704</td>\n",
       "      <td>7</td>\n",
       "    </tr>\n",
       "    <tr>\n",
       "      <th>Zürich Stadelhofen</th>\n",
       "      <td>3360</td>\n",
       "      <td>5</td>\n",
       "    </tr>\n",
       "    <tr>\n",
       "      <th>St. Gallen</th>\n",
       "      <td>2688</td>\n",
       "      <td>4</td>\n",
       "    </tr>\n",
       "    <tr>\n",
       "      <th>Aarau</th>\n",
       "      <td>2688</td>\n",
       "      <td>4</td>\n",
       "    </tr>\n",
       "    <tr>\n",
       "      <th>Lugano</th>\n",
       "      <td>2688</td>\n",
       "      <td>4</td>\n",
       "    </tr>\n",
       "    <tr>\n",
       "      <th>Biel/Bienne</th>\n",
       "      <td>2016</td>\n",
       "      <td>3</td>\n",
       "    </tr>\n",
       "    <tr>\n",
       "      <th>Zürich Oerlikon</th>\n",
       "      <td>1344</td>\n",
       "      <td>2</td>\n",
       "    </tr>\n",
       "    <tr>\n",
       "      <th>Zürich Flughafen</th>\n",
       "      <td>1344</td>\n",
       "      <td>2</td>\n",
       "    </tr>\n",
       "    <tr>\n",
       "      <th>Zug</th>\n",
       "      <td>1344</td>\n",
       "      <td>2</td>\n",
       "    </tr>\n",
       "    <tr>\n",
       "      <th>Brig</th>\n",
       "      <td>672</td>\n",
       "      <td>1</td>\n",
       "    </tr>\n",
       "    <tr>\n",
       "      <th>Olten</th>\n",
       "      <td>672</td>\n",
       "      <td>1</td>\n",
       "    </tr>\n",
       "    <tr>\n",
       "      <th>Neuchatel</th>\n",
       "      <td>672</td>\n",
       "      <td>1</td>\n",
       "    </tr>\n",
       "    <tr>\n",
       "      <th>Fribourg</th>\n",
       "      <td>672</td>\n",
       "      <td>1</td>\n",
       "    </tr>\n",
       "    <tr>\n",
       "      <th>Zürich Enge</th>\n",
       "      <td>672</td>\n",
       "      <td>1</td>\n",
       "    </tr>\n",
       "    <tr>\n",
       "      <th>Bellinzona</th>\n",
       "      <td>672</td>\n",
       "      <td>1</td>\n",
       "    </tr>\n",
       "  </tbody>\n",
       "</table>\n",
       "</div>"
      ],
      "text/plain": [
       "                    Records  Displays\n",
       "Bern                  24864        37\n",
       "Zürich HB             22176        33\n",
       "M2                    10080        15\n",
       "Lausanne               9408        14\n",
       "Luzern                 6720        10\n",
       "Basel SBB              6048         9\n",
       "Genève Cornavin        6048         9\n",
       "Winterthur             6048         9\n",
       "Chur                   4704         7\n",
       "Zürich Stadelhofen     3360         5\n",
       "St. Gallen             2688         4\n",
       "Aarau                  2688         4\n",
       "Lugano                 2688         4\n",
       "Biel/Bienne            2016         3\n",
       "Zürich Oerlikon        1344         2\n",
       "Zürich Flughafen       1344         2\n",
       "Zug                    1344         2\n",
       "Brig                    672         1\n",
       "Olten                   672         1\n",
       "Neuchatel               672         1\n",
       "Fribourg                672         1\n",
       "Zürich Enge             672         1\n",
       "Bellinzona              672         1"
      ]
     },
     "metadata": {},
     "output_type": "display_data"
    }
   ],
   "source": [
    "with value(spr_data.Station.value_counts(dropna=False)) as records:\n",
    "    display(pd.DataFrame(dict(Records=records, Displays=records // 672)))"
   ]
  },
  {
   "cell_type": "markdown",
   "metadata": {},
   "source": [
    "## Look at distributions"
   ]
  },
  {
   "cell_type": "code",
   "execution_count": 18,
   "metadata": {},
   "outputs": [],
   "source": [
    "import seaborn as sns\n",
    "import matplotlib.pyplot as plt\n",
    "\n",
    "sns.set()"
   ]
  },
  {
   "cell_type": "code",
   "execution_count": 17,
   "metadata": {},
   "outputs": [
    {
     "data": {
      "text/plain": [
       "Index(['index', 'WT', 'Flaeche_ID', 'Anbieter', 'Spr_Flaeche_ID', 'Time',\n",
       "       'Count', 'Nummer', 'PF', 'Position-Nr.', 'Gebiet', 'Gebietsbez.',\n",
       "       'Gebiet Code', 'Adresszusatz', 'STM', 'EN-Nr.', 'NG-Nr.', 'Station'],\n",
       "      dtype='object')"
      ]
     },
     "execution_count": 17,
     "metadata": {},
     "output_type": "execute_result"
    }
   ],
   "source": [
    "spr_data.columns"
   ]
  },
  {
   "cell_type": "code",
   "execution_count": 19,
   "metadata": {},
   "outputs": [],
   "source": [
    "spr_workdays = \"Dienstag Donnerstag Freitag Mittwoch Montag\".split()\n",
    "spr_weekend = [\"Samstag\", \"Sonntag\"]"
   ]
  },
  {
   "cell_type": "code",
   "execution_count": 20,
   "metadata": {},
   "outputs": [
    {
     "data": {
      "text/plain": [
       "array(['Zürich HB', 'Bern', 'Basel SBB', 'Luzern', 'Lausanne',\n",
       "       'Genève Cornavin', 'Zürich Stadelhofen', 'Zürich Enge',\n",
       "       'Winterthur', 'Zug', 'Neuchatel', 'Zürich Flughafen', 'Aarau',\n",
       "       'Biel/Bienne', 'Brig', 'Chur', 'Fribourg', 'Olten',\n",
       "       'Zürich Oerlikon', 'St. Gallen', 'Bellinzona', 'M2', 'Lugano'],\n",
       "      dtype=object)"
      ]
     },
     "execution_count": 20,
     "metadata": {},
     "output_type": "execute_result"
    }
   ],
   "source": [
    "spr_data.Station.unique()"
   ]
  },
  {
   "cell_type": "code",
   "execution_count": 22,
   "metadata": {},
   "outputs": [
    {
     "data": {
      "image/png": "[encoded data removed]",
      "text/plain": [
       "<Figure size 1152x1440 with 2 Axes>"
      ]
     },
     "metadata": {
      "needs_background": "light"
     },
     "output_type": "display_data"
    }
   ],
   "source": [
    "fig, (weekend, workdays) = plt.subplots(\n",
    "    nrows=2, ncols=1, sharey=\"all\", figsize=(16, 20)\n",
    ")\n",
    "plt.tight_layout()\n",
    "sns.barplot(\n",
    "    data=spr_data.loc[(spr_data.WT.isin(spr_workdays)) & (spr_data.Station == \"Bellinzona\")],\n",
    "    x=\"Time\",\n",
    "    y=\"Count\",\n",
    "    estimator=np.mean,\n",
    "    ci=None,\n",
    "    ax=workdays,\n",
    ")\n",
    "sns.barplot(\n",
    "    data=spr_data.loc[(spr_data.WT.isin(spr_weekend)) & (spr_data.Station == \"Bellinzona\")],\n",
    "    x=\"Time\",\n",
    "    y=\"Count\",\n",
    "    estimator=np.mean,\n",
    "    ci=None,\n",
    "    ax=weekend,\n",
    ")\n",
    "fig.autofmt_xdate(rotation=90, ha=\"left\")"
   ]
  },
  {
   "cell_type": "markdown",
   "metadata": {},
   "source": [
    "# Store finished data"
   ]
  },
  {
   "cell_type": "code",
   "execution_count": 23,
   "metadata": {},
   "outputs": [
    {
     "name": "stdout",
     "output_type": "stream",
     "text": [
      "10:37:35 [INFO] Started storing feather file ...\n",
      "10:37:35 [INFO] Writing to file C:\\Users\\kpf\\data\\axinova\\spr_data_mapped.feather\n",
      "10:37:35 [INFO] Written 11.2 MB\n",
      "10:37:35 [INFO] ... finished storing feather file in 0.02s (0.02s CPU)\n"
     ]
    }
   ],
   "source": [
    "with project_dir(\"axinova\"):\n",
    "    store_bin(spr_data, \"spr_data_mapped.feather\")"
   ]
  }
 ],
 "metadata": {
  "kernelspec": {
   "display_name": "Python 3",
   "language": "python",
   "name": "python3"
  },
  "language_info": {
   "codemirror_mode": {
    "name": "ipython",
    "version": 3
   },
   "file_extension": ".py",
   "mimetype": "text/x-python",
   "name": "python",
   "nbconvert_exporter": "python",
   "pygments_lexer": "ipython3",
   "version": "3.7.5"
  },
  "toc-autonumbering": true
 },
 "nbformat": 4,
 "nbformat_minor": 4
}
