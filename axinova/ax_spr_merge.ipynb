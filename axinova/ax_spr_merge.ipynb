{
 "cells": [
  {
   "cell_type": "code",
   "execution_count": 8,
   "metadata": {},
   "outputs": [
    {
     "name": "stdout",
     "output_type": "stream",
     "text": [
      "The autoreload extension is already loaded. To reload it, use:\n",
      "  %reload_ext autoreload\n"
     ]
    }
   ],
   "source": [
    "## make imports from pa_lib possible (parent directory of file's directory)\n",
    "import sys\n",
    "from pathlib import Path\n",
    "\n",
    "file_dir = Path.cwd()\n",
    "parent_dir = file_dir.parent\n",
    "sys.path.append(str(parent_dir))\n",
    "\n",
    "%load_ext autoreload\n",
    "%autoreload\n",
    "\n",
    "import pandas as pd\n",
    "\n",
    "from pa_lib.file import (\n",
    "    project_dir,\n",
    "    load_bin,\n",
    "    load_xlsx,\n",
    "    store_bin,\n",
    ")\n",
    "from pa_lib.data import as_dtype, dtFactor\n",
    "from pa_lib.util import cap_words, collect"
   ]
  },
  {
   "cell_type": "markdown",
   "metadata": {},
   "source": [
    "# Load data sets"
   ]
  },
  {
   "cell_type": "code",
   "execution_count": 2,
   "metadata": {},
   "outputs": [
    {
     "name": "stdout",
     "output_type": "stream",
     "text": [
      "16:49:34 [INFO] Started loading binary file ...\n",
      "16:49:34 [INFO] Reading from file C:\\Users\\kpf\\data\\axinova\\ax_data.feather\n",
      "16:49:35 [INFO] ... finished loading binary file in 0.3s (1.02s CPU)\n",
      "16:49:35 [INFO] Started loading binary file ...\n",
      "16:49:35 [INFO] Reading from file C:\\Users\\kpf\\data\\axinova\\spr_data.feather\n",
      "16:49:35 [INFO] ... finished loading binary file in 0.01s (0.0s CPU)\n"
     ]
    }
   ],
   "source": [
    "with project_dir(\"axinova\"):\n",
    "    ax_data = load_bin(\"ax_data.feather\")\n",
    "    spr_data = load_bin(\"spr_data.feather\")"
   ]
  },
  {
   "cell_type": "markdown",
   "metadata": {},
   "source": [
    "# Filter data for merging"
   ]
  },
  {
   "cell_type": "code",
   "execution_count": 3,
   "metadata": {},
   "outputs": [],
   "source": [
    "spr_data.dropna(subset=[\"PF\"], inplace=True)"
   ]
  },
  {
   "cell_type": "markdown",
   "metadata": {},
   "source": [
    "# Find mapping of Flächen to Stations"
   ]
  },
  {
   "cell_type": "code",
   "execution_count": 11,
   "metadata": {},
   "outputs": [
    {
     "data": {
      "text/html": [
       "<div>\n",
       "<style scoped>\n",
       "    .dataframe tbody tr th:only-of-type {\n",
       "        vertical-align: middle;\n",
       "    }\n",
       "\n",
       "    .dataframe tbody tr th {\n",
       "        vertical-align: top;\n",
       "    }\n",
       "\n",
       "    .dataframe thead th {\n",
       "        text-align: right;\n",
       "    }\n",
       "</style>\n",
       "<table border=\"1\" class=\"dataframe\">\n",
       "  <thead>\n",
       "    <tr style=\"text-align: right;\">\n",
       "      <th></th>\n",
       "      <th>Station</th>\n",
       "    </tr>\n",
       "  </thead>\n",
       "  <tbody>\n",
       "    <tr>\n",
       "      <th>0</th>\n",
       "      <td>Aarau</td>\n",
       "    </tr>\n",
       "    <tr>\n",
       "      <th>1</th>\n",
       "      <td>Basel SBB</td>\n",
       "    </tr>\n",
       "    <tr>\n",
       "      <th>2</th>\n",
       "      <td>Bellinzona</td>\n",
       "    </tr>\n",
       "    <tr>\n",
       "      <th>3</th>\n",
       "      <td>Bern</td>\n",
       "    </tr>\n",
       "    <tr>\n",
       "      <th>4</th>\n",
       "      <td>Biel/Bienne</td>\n",
       "    </tr>\n",
       "    <tr>\n",
       "      <th>5</th>\n",
       "      <td>Brig</td>\n",
       "    </tr>\n",
       "    <tr>\n",
       "      <th>6</th>\n",
       "      <td>Chur</td>\n",
       "    </tr>\n",
       "    <tr>\n",
       "      <th>7</th>\n",
       "      <td>Fribourg</td>\n",
       "    </tr>\n",
       "    <tr>\n",
       "      <th>8</th>\n",
       "      <td>Genève Aéroport</td>\n",
       "    </tr>\n",
       "    <tr>\n",
       "      <th>9</th>\n",
       "      <td>Genève Cornavin</td>\n",
       "    </tr>\n",
       "    <tr>\n",
       "      <th>10</th>\n",
       "      <td>Lausanne</td>\n",
       "    </tr>\n",
       "    <tr>\n",
       "      <th>11</th>\n",
       "      <td>Lugano</td>\n",
       "    </tr>\n",
       "    <tr>\n",
       "      <th>12</th>\n",
       "      <td>Luzern</td>\n",
       "    </tr>\n",
       "    <tr>\n",
       "      <th>13</th>\n",
       "      <td>M2</td>\n",
       "    </tr>\n",
       "    <tr>\n",
       "      <th>14</th>\n",
       "      <td>Neuchatel</td>\n",
       "    </tr>\n",
       "    <tr>\n",
       "      <th>15</th>\n",
       "      <td>Olten</td>\n",
       "    </tr>\n",
       "    <tr>\n",
       "      <th>16</th>\n",
       "      <td>St. Gallen</td>\n",
       "    </tr>\n",
       "    <tr>\n",
       "      <th>17</th>\n",
       "      <td>Winterthur</td>\n",
       "    </tr>\n",
       "    <tr>\n",
       "      <th>18</th>\n",
       "      <td>Zug</td>\n",
       "    </tr>\n",
       "    <tr>\n",
       "      <th>19</th>\n",
       "      <td>Zürich Enge</td>\n",
       "    </tr>\n",
       "    <tr>\n",
       "      <th>20</th>\n",
       "      <td>Zürich Flughafen</td>\n",
       "    </tr>\n",
       "    <tr>\n",
       "      <th>21</th>\n",
       "      <td>Zürich Flughafen - Airside</td>\n",
       "    </tr>\n",
       "    <tr>\n",
       "      <th>22</th>\n",
       "      <td>Zürich Flughafen - Landside</td>\n",
       "    </tr>\n",
       "    <tr>\n",
       "      <th>23</th>\n",
       "      <td>Zürich HB</td>\n",
       "    </tr>\n",
       "    <tr>\n",
       "      <th>24</th>\n",
       "      <td>Zürich Hardbrücke</td>\n",
       "    </tr>\n",
       "    <tr>\n",
       "      <th>25</th>\n",
       "      <td>Zürich Oerlikon</td>\n",
       "    </tr>\n",
       "    <tr>\n",
       "      <th>26</th>\n",
       "      <td>Zürich Stadelhofen</td>\n",
       "    </tr>\n",
       "  </tbody>\n",
       "</table>\n",
       "</div>"
      ],
      "text/plain": [
       "                        Station\n",
       "0                         Aarau\n",
       "1                     Basel SBB\n",
       "2                    Bellinzona\n",
       "3                          Bern\n",
       "4                   Biel/Bienne\n",
       "5                          Brig\n",
       "6                          Chur\n",
       "7                      Fribourg\n",
       "8               Genève Aéroport\n",
       "9               Genève Cornavin\n",
       "10                     Lausanne\n",
       "11                       Lugano\n",
       "12                       Luzern\n",
       "13                           M2\n",
       "14                    Neuchatel\n",
       "15                        Olten\n",
       "16                   St. Gallen\n",
       "17                   Winterthur\n",
       "18                          Zug\n",
       "19                  Zürich Enge\n",
       "20             Zürich Flughafen\n",
       "21   Zürich Flughafen - Airside\n",
       "22  Zürich Flughafen - Landside\n",
       "23                    Zürich HB\n",
       "24            Zürich Hardbrücke\n",
       "25              Zürich Oerlikon\n",
       "26           Zürich Stadelhofen"
      ]
     },
     "execution_count": 11,
     "metadata": {},
     "output_type": "execute_result"
    }
   ],
   "source": [
    "pd.DataFrame(dict(Station=ax_data.Station.unique()))"
   ]
  },
  {
   "cell_type": "code",
   "execution_count": 5,
   "metadata": {},
   "outputs": [
    {
     "data": {
      "text/plain": [
       "Index(['index', 'WT', 'Flaeche_ID', 'Anbieter', 'Spr_Flaeche_ID', 'Time',\n",
       "       'Count', 'Nummer', 'PF', 'Position-Nr.', 'Gebiet', 'Gebietsbez.',\n",
       "       'Gebiet Code', 'Adresszusatz', 'STM', 'EN-Nr.', 'NG-Nr.'],\n",
       "      dtype='object')"
      ]
     },
     "execution_count": 5,
     "metadata": {},
     "output_type": "execute_result"
    }
   ],
   "source": [
    "spr_data.columns"
   ]
  },
  {
   "cell_type": "markdown",
   "metadata": {},
   "source": [
    "## Problem cases: ZH, GE, VD (> 1 station each)"
   ]
  },
  {
   "cell_type": "code",
   "execution_count": 6,
   "metadata": {},
   "outputs": [
    {
     "data": {
      "text/plain": [
       "'Gleis 2, Sektor C, Fahrtreppenaufgang | Gleis 3, Sektor C, Fahrtreppenaufgang | Gleis 31/32, Sektor B, Aufgang Halle Löwenstrasse | Gleis 31/32, Sektor B, Wartezone | Gleis 33/34, Sektor B, Aufgang Halle Löwenstrasse | Gleis 33/34, Sektor B, Wartezone | Gleis 4, Sektor A, vis-à-vis Hausperron | Gleis 4, Sektor B, vis-à-vis Hausperron | Gleis 4, Sektor C, vis-à-vis Hausperron | Gleis 41, Linien 5,6,7,9,12, Sektor B | Gleis 41, Linien 5,6,7,9,12, Sektor C | Gleis 44, Linien 5,6,7,9,12, Sektor B | Gleis 44, Linien 5,6,7,9,12, Sektor C | Halle Kopfperron | Halle Landesmuseum, Abgänge S-Bahn Perron Gleis 41+42 / 43+44 | Halle Löwenstrasse, Aufgang Gleis 6 | Halle Löwenstrasse, Aufgang Gleis 7 | Halle Löwenstrasse, Aufgang Shopville | Halle Museumstrasse, Passage Bahnhofstrasse | Halle Museumstrasse, Passage Löwenstrasse | Haupzugang, Kiosk | Passage Löwenstrasse | Passage Sihlquai, Liftschacht Gleis 10 | Passage Sihlquai, Liftschacht Gleis 11 | Passage Sihlquai, Liftschacht Gleis 6 | Passage Sihlquai, Liftschacht Gleis 7 | Passage, Zugang Perron, Gleis 2 - 3, Sektor B | Passage, Zugang Perron, Gleis 2 - 3, Sektor C | Passage, Zugang Stadelhoferplatz, Kreuzbühlstrasse | Passage, Zugang Stadelhoferstrasse, Bellevue | Perron Gleis 3, Sektor B | Perron Gleis 3, Sektor C | Perronpassage | Perronpassage, Zugang Bahnhofplatz | Perronpassage, Zugang Max Frisch Platz | Zugang Passage | Zugang Perronpassage frontal'"
      ]
     },
     "execution_count": 6,
     "metadata": {},
     "output_type": "execute_result"
    }
   ],
   "source": [
    "collect(spr_data.loc[spr_data[\"Gebiet Code\"] == \"ZH\", \"Adresszusatz\"], sep=\" | \")"
   ]
  },
  {
   "cell_type": "code",
   "execution_count": 15,
   "metadata": {},
   "outputs": [
    {
     "data": {
      "text/plain": [
       "'1DA01 | 1DC01 | 1DE01 | 1DH01 | 1DH02 | 8DO01 | 8DP01 | 8DQ01 | 8DR01 | DA01 | DB01 | DC01 | DD01 | DE01 | DE03 | DE11 | DF01 | DF03 | DF11 | DG01 | DG03 | DH01 | DL01 | DM01 | DN01 | DO01'"
      ]
     },
     "execution_count": 15,
     "metadata": {},
     "output_type": "execute_result"
    }
   ],
   "source": [
    "collect(spr_data.loc[spr_data[\"Gebiet Code\"] == \"ZH\", \"Position-Nr.\"], sep=\" | \")"
   ]
  },
  {
   "cell_type": "code",
   "execution_count": 10,
   "metadata": {},
   "outputs": [
    {
     "data": {
      "text/plain": [
       "'Accès hall central, accès Passage Aile Ouest, shopping | Accés Passage Aile Est, hall de la gare, shopping | Entrée/sortie hall de la gare, automate à billets | Hall de la gare, accès Passage Aile Est , shopping, automate à billets, (AG) | Passage Aile Est, voies 3 - 4 , shopping | Passage Aile Est, voies 6 - 7, shopping | Passage Aile Ouest, accès Metroshopping, shopping | Passage Aile Ouest, voies 1 - 2, kiosque, shopping'"
      ]
     },
     "execution_count": 10,
     "metadata": {},
     "output_type": "execute_result"
    }
   ],
   "source": [
    "collect(spr_data.loc[spr_data[\"Gebiet Code\"] == \"GE\", \"Adresszusatz\"], sep=\" | \")"
   ]
  },
  {
   "cell_type": "code",
   "execution_count": 19,
   "metadata": {},
   "outputs": [
    {
     "data": {
      "text/plain": [
       "'1680802 | 1680803 | 1680804 | 1680805 | 1680806 | 1680807 | 1680903 | 1680904 | 1690726'"
      ]
     },
     "execution_count": 19,
     "metadata": {},
     "output_type": "execute_result"
    }
   ],
   "source": [
    "collect(spr_data.loc[spr_data[\"Gebiet Code\"] == \"GE\", \"Spr_Flaeche_ID\"], sep=\" | \")"
   ]
  },
  {
   "cell_type": "code",
   "execution_count": 12,
   "metadata": {},
   "outputs": [
    {
     "data": {
      "text/plain": [
       "'Accès passage ouest, shop | Entrée est, accès passage est, kiosque, shop | Hall principal, accès quai, voie 1, kiosque, shop | Passage entrée est - hall principal, shop | Place de la Gare, entrée Quai direction Ouchy | Quai direction Croisettes, porte palière | Quai direction Croisettes, retour nord | Quai direction Ouchy, porte palière | Sortie est, kiosque, shop'"
      ]
     },
     "execution_count": 12,
     "metadata": {},
     "output_type": "execute_result"
    }
   ],
   "source": [
    "collect(spr_data.loc[spr_data[\"Gebiet Code\"] == \"VD\", \"Adresszusatz\"], sep=\" | \")"
   ]
  }
 ],
 "metadata": {
  "kernelspec": {
   "display_name": "Python 3",
   "language": "python",
   "name": "python3"
  },
  "language_info": {
   "codemirror_mode": {
    "name": "ipython",
    "version": 3
   },
   "file_extension": ".py",
   "mimetype": "text/x-python",
   "name": "python",
   "nbconvert_exporter": "python",
   "pygments_lexer": "ipython3",
   "version": "3.7.5"
  },
  "toc-autonumbering": true
 },
 "nbformat": 4,
 "nbformat_minor": 4
}
