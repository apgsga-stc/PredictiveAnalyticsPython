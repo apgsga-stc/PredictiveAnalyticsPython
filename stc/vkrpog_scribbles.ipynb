{
 "cells": [
  {
   "cell_type": "markdown",
   "metadata": {},
   "source": [
    "# Tools & Libraries"
   ]
  },
  {
   "cell_type": "code",
   "execution_count": 4,
   "metadata": {},
   "outputs": [
    {
     "name": "stdout",
     "output_type": "stream",
     "text": [
      "C:\\Users\\stc\\Documents\\GitHub\\PredictiveAnalyticsPython\\stc\n",
      "C:\\Users\\stc\\Documents\\GitHub\\PredictiveAnalyticsPython\n"
     ]
    }
   ],
   "source": [
    "# make imports from pa_lib possible (parent directory of file's directory)\n",
    "import sys\n",
    "from pathlib import Path\n",
    "\n",
    "file_dir = Path.cwd()\n",
    "print(file_dir)\n",
    "parent_dir = file_dir.parent\n",
    "print(parent_dir)\n",
    "sys.path.append(str(parent_dir))"
   ]
  },
  {
   "cell_type": "code",
   "execution_count": 77,
   "metadata": {},
   "outputs": [],
   "source": [
    "from pa_lib.job import request_job\n",
    "from pa_lib.file import project_dir, load_bin\n",
    "from pa_lib.data import desc_col\n",
    "from pa_lib.vis import boxplot_histogram"
   ]
  },
  {
   "cell_type": "code",
   "execution_count": 6,
   "metadata": {},
   "outputs": [],
   "source": [
    "import pandas as pd\n",
    "import numpy as np"
   ]
  },
  {
   "cell_type": "markdown",
   "metadata": {},
   "source": [
    "# Load and Prep"
   ]
  },
  {
   "cell_type": "code",
   "execution_count": 234,
   "metadata": {},
   "outputs": [
    {
     "name": "stdout",
     "output_type": "stream",
     "text": [
      "17:45:36 [INFO] Started loading binary file ...\n",
      "17:45:36 [INFO] Reading from file C:\\Users\\stc\\data\\vkprog\\predictions\\20200127_ek_list.feather\n",
      "17:45:36 [INFO] ... finished loading binary file in 0.01s (0.02s CPU)\n"
     ]
    }
   ],
   "source": [
    "########################################################################################\n",
    "## Load generated ek_list for VBs:\n",
    "\n",
    "with project_dir(\"vkprog/predictions\"):\n",
    "    ek_list = load_bin(\"20200127_ek_list.feather\")\n",
    "\n",
    "########################################################################################\n",
    "## Compute Net_Max:\n",
    "_net_columns_ = [col for col in ek_list.columns if \"Net\" in col]\n",
    "_net_max_ = ek_list.loc[:, _net_columns_].fillna(0).max(axis=\"columns\")\n",
    "\n",
    "ek_list.loc[:, \"Net_Max\"] = _net_max_\n",
    "\n",
    "del _net_columns_, _net_max_\n",
    "########################################################################################\n",
    "## Create technical Stand-In for HB_APG:\n",
    "\n",
    "ek_list.loc[:, \"_HB_APG_\"] = ek_list.HB_APG.fillna(\"NONE\")\n",
    "\n",
    "########################################################################################\n",
    "## Rank Net_Max per VB:\n",
    "\n",
    "_ranking_pro_vb_ = ek_list.groupby(\"_HB_APG_\")[\"Net_Max\"].rank(\n",
    "    ascending=True, method=\"dense\"\n",
    ")\n",
    "\n",
    "ek_list.loc[:, \"_ranking_01_\"] = _ranking_pro_vb_\n",
    "\n",
    "del _ranking_pro_vb_\n",
    "########################################################################################\n",
    "## Calculate the Max-Rank per VB and add it to ek_list:\n",
    "\n",
    "ek_list = pd.merge(\n",
    "    ek_list,\n",
    "    pd.DataFrame(ek_list.groupby(by=\"_HB_APG_\")[\"_ranking_01_\"].max())\n",
    "    .reset_index()\n",
    "    .rename(columns={\"_ranking_01_\": \"_max_rank_\"}),\n",
    "    on=\"_HB_APG_\",\n",
    "    how=\"left\",\n",
    ").drop(columns=\"_HB_APG_\")\n",
    "\n",
    "########################################################################################\n",
    "## Calculate f_score $\\exist in [0,1]:\n",
    "\n",
    "ek_list.loc[:, \"f_score\"] = ek_list._ranking_01_ / ek_list._max_rank_\n",
    "\n",
    "ek_list = ek_list.drop(columns={\"_ranking_01_\", \"_max_rank_\"})\n",
    "########################################################################################\n",
    "## Calculate prob_KW*f_score $\\exist in [0,1]:\n",
    "\n",
    "ek_list.loc[:, \"new_feature_pf\"] = ek_list.f_score * ek_list.prob_KW\n",
    "# ek_list.loc[:, \"pf_minus_prob_KW\"] = ek_list.new_feature_pf - ek_list.prob_KW"
   ]
  },
  {
   "cell_type": "code",
   "execution_count": null,
   "metadata": {},
   "outputs": [],
   "source": []
  },
  {
   "cell_type": "markdown",
   "metadata": {},
   "source": [
    "# Checks"
   ]
  },
  {
   "cell_type": "code",
   "execution_count": 235,
   "metadata": {},
   "outputs": [
    {
     "data": {
      "text/plain": [
       "Index(['index', 'Endkunde_NR', 'Endkunde', 'HB_APG', 'Agentur', 'HB_Agentur',\n",
       "       'PLZ', 'Ort', 'Net_2016', 'Net_2017', 'Net_2018', 'Net_2019',\n",
       "       'Net_2020', 'letzte_VBs', 'Datum_Letzter_Ktkt', 'letzter_Kontakt',\n",
       "       'Kanal', 'Betreff', 'letzte_Kamp_erfasst', 'letzte_Kamp_Beginn',\n",
       "       'Verkaufsgebiet', 'VB_VK_Geb', 'prob_KW', 'Insolvenz',\n",
       "       'last_CRM_Ktkt_date', 'VB_FILTER_VON', 'VB_FILTER_BIS', 'Net_Max',\n",
       "       'f_score', 'new_feature_pf'],\n",
       "      dtype='object')"
      ]
     },
     "execution_count": 235,
     "metadata": {},
     "output_type": "execute_result"
    }
   ],
   "source": [
    "ek_list.columns\n"
   ]
  },
  {
   "cell_type": "code",
   "execution_count": 237,
   "metadata": {},
   "outputs": [
    {
     "data": {
      "text/html": [
       "<div>\n",
       "<style scoped>\n",
       "    .dataframe tbody tr th:only-of-type {\n",
       "        vertical-align: middle;\n",
       "    }\n",
       "\n",
       "    .dataframe tbody tr th {\n",
       "        vertical-align: top;\n",
       "    }\n",
       "\n",
       "    .dataframe thead th {\n",
       "        text-align: right;\n",
       "    }\n",
       "</style>\n",
       "<table border=\"1\" class=\"dataframe\">\n",
       "  <thead>\n",
       "    <tr style=\"text-align: right;\">\n",
       "      <th></th>\n",
       "      <th>prob_KW</th>\n",
       "      <th>Net_Max</th>\n",
       "      <th>HB_APG</th>\n",
       "      <th>f_score</th>\n",
       "      <th>new_feature_pf</th>\n",
       "    </tr>\n",
       "  </thead>\n",
       "  <tbody>\n",
       "    <tr>\n",
       "      <th>5028</th>\n",
       "      <td>0.287904</td>\n",
       "      <td>2178.0</td>\n",
       "      <td>None</td>\n",
       "      <td>0.371212</td>\n",
       "      <td>0.106873</td>\n",
       "    </tr>\n",
       "    <tr>\n",
       "      <th>1084</th>\n",
       "      <td>0.443941</td>\n",
       "      <td>3449.0</td>\n",
       "      <td>MWY</td>\n",
       "      <td>0.509554</td>\n",
       "      <td>0.226212</td>\n",
       "    </tr>\n",
       "    <tr>\n",
       "      <th>3686</th>\n",
       "      <td>0.323294</td>\n",
       "      <td>3499.0</td>\n",
       "      <td>None</td>\n",
       "      <td>0.484848</td>\n",
       "      <td>0.156749</td>\n",
       "    </tr>\n",
       "  </tbody>\n",
       "</table>\n",
       "</div>"
      ],
      "text/plain": [
       "       prob_KW  Net_Max HB_APG   f_score  new_feature_pf\n",
       "5028  0.287904   2178.0   None  0.371212        0.106873\n",
       "1084  0.443941   3449.0    MWY  0.509554        0.226212\n",
       "3686  0.323294   3499.0   None  0.484848        0.156749"
      ]
     },
     "metadata": {},
     "output_type": "display_data"
    },
    {
     "data": {
      "text/html": [
       "<div>\n",
       "<style scoped>\n",
       "    .dataframe tbody tr th:only-of-type {\n",
       "        vertical-align: middle;\n",
       "    }\n",
       "\n",
       "    .dataframe tbody tr th {\n",
       "        vertical-align: top;\n",
       "    }\n",
       "\n",
       "    .dataframe thead th {\n",
       "        text-align: right;\n",
       "    }\n",
       "</style>\n",
       "<table border=\"1\" class=\"dataframe\">\n",
       "  <thead>\n",
       "    <tr style=\"text-align: right;\">\n",
       "      <th></th>\n",
       "      <th>DTYPE</th>\n",
       "      <th>NULLS</th>\n",
       "      <th>UNIQUE</th>\n",
       "    </tr>\n",
       "  </thead>\n",
       "  <tbody>\n",
       "    <tr>\n",
       "      <th>prob_KW</th>\n",
       "      <td>float64</td>\n",
       "      <td>0/12703</td>\n",
       "      <td>12608</td>\n",
       "    </tr>\n",
       "    <tr>\n",
       "      <th>Net_Max</th>\n",
       "      <td>float64</td>\n",
       "      <td>0/12703</td>\n",
       "      <td>8307</td>\n",
       "    </tr>\n",
       "    <tr>\n",
       "      <th>HB_APG</th>\n",
       "      <td>object</td>\n",
       "      <td>286/12417</td>\n",
       "      <td>61</td>\n",
       "    </tr>\n",
       "    <tr>\n",
       "      <th>f_score</th>\n",
       "      <td>float64</td>\n",
       "      <td>0/12703</td>\n",
       "      <td>10366</td>\n",
       "    </tr>\n",
       "    <tr>\n",
       "      <th>new_feature_pf</th>\n",
       "      <td>float64</td>\n",
       "      <td>0/12703</td>\n",
       "      <td>12701</td>\n",
       "    </tr>\n",
       "  </tbody>\n",
       "</table>\n",
       "</div>"
      ],
      "text/plain": [
       "                  DTYPE      NULLS UNIQUE\n",
       "prob_KW         float64    0/12703  12608\n",
       "Net_Max         float64    0/12703   8307\n",
       "HB_APG           object  286/12417     61\n",
       "f_score         float64    0/12703  10366\n",
       "new_feature_pf  float64    0/12703  12701"
      ]
     },
     "metadata": {},
     "output_type": "display_data"
    }
   ],
   "source": [
    "for x in [ek_list.loc[:,[\"prob_KW\",'Net_Max',\n",
    "       'HB_APG',\"f_score\",'new_feature_pf']]]:\n",
    "    \n",
    "    display(x.sample(3))\n",
    "    display(desc_col(x))"
   ]
  },
  {
   "cell_type": "code",
   "execution_count": null,
   "metadata": {},
   "outputs": [],
   "source": []
  },
  {
   "cell_type": "code",
   "execution_count": 232,
   "metadata": {},
   "outputs": [
    {
     "data": {
      "image/png": "[encoded data removed]",
      "text/plain": [
       "<Figure size 1080x72 with 1 Axes>"
      ]
     },
     "metadata": {},
     "output_type": "display_data"
    }
   ],
   "source": [
    "sns.palplot(sns.color_palette(palette='Blues',n_colors=15))"
   ]
  },
  {
   "cell_type": "code",
   "execution_count": null,
   "metadata": {},
   "outputs": [],
   "source": []
  }
 ],
 "metadata": {
  "kernelspec": {
   "display_name": "Python 3",
   "language": "python",
   "name": "python3"
  },
  "language_info": {
   "codemirror_mode": {
    "name": "ipython",
    "version": 3
   },
   "file_extension": ".py",
   "mimetype": "text/x-python",
   "name": "python",
   "nbconvert_exporter": "python",
   "pygments_lexer": "ipython3",
   "version": "3.7.5"
  }
 },
 "nbformat": 4,
 "nbformat_minor": 4
}
