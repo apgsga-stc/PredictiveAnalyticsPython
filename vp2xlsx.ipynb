{
 "cells": [
  {
   "cell_type": "markdown",
   "metadata": {},
   "source": [
    "# Verkaufsprognose to Excels (vp2xlsx)"
   ]
  },
  {
   "cell_type": "markdown",
   "metadata": {},
   "source": [
    "Für die Verkaufsprognose sollen automatisch Excel Files für die Verkaufsberater generiert werden. Dies soll in ``Python`` geschehen mit Hilfe des Moduls ``xlsxwriter``."
   ]
  },
  {
   "cell_type": "markdown",
   "metadata": {},
   "source": [
    "## Load general modules"
   ]
  },
  {
   "cell_type": "code",
   "execution_count": 28,
   "metadata": {},
   "outputs": [
    {
     "data": {
      "text/plain": [
       "WindowsPath('C:/Users/stc/data')"
      ]
     },
     "execution_count": 28,
     "metadata": {},
     "output_type": "execute_result"
    }
   ],
   "source": [
    "import pandas as pd\n",
    "import numpy as np\n",
    "import xlsxwriter as xlsx\n",
    "from datetime import datetime, date \n",
    "from pa_lib.file import load_csv\n",
    "from pa_lib.const import PA_DATA_DIR\n",
    "PA_DATA_DIR"
   ]
  },
  {
   "cell_type": "markdown",
   "metadata": {},
   "source": [
    "## Load Data"
   ]
  },
  {
   "cell_type": "markdown",
   "metadata": {},
   "source": [
    "Input files:\n",
    "\n",
    "- ``EK_LIST_KOMPLETT.csv``: Current deployment file with all computed leads.\n",
    "- ``vkber_data.csv``:       The new VB list, needs to be updated as well every 2 weeks before deployment."
   ]
  },
  {
   "cell_type": "code",
   "execution_count": 29,
   "metadata": {},
   "outputs": [
    {
     "name": "stderr",
     "output_type": "stream",
     "text": [
      "2019-07-15 10:00:28 [INFO] Reading from file C:\\Users\\stc\\data\\EK_LIST_2W_KOMPLETT.csv\n",
      "2019-07-15 10:00:28 [INFO] Finished loading CSV in 0.13s (0.12s CPU)\n"
     ]
    }
   ],
   "source": [
    "ek_list = load_csv('EK_LIST_2W_KOMPLETT.csv',sep=';', encoding='ANSI' )"
   ]
  },
  {
   "cell_type": "code",
   "execution_count": 30,
   "metadata": {},
   "outputs": [
    {
     "name": "stderr",
     "output_type": "stream",
     "text": [
      "2019-07-15 10:00:30 [INFO] Reading from file C:\\Users\\stc\\data\\vkber_data.csv\n",
      "2019-07-15 10:00:30 [INFO] Finished loading CSV in 0.0s (0.0s CPU)\n"
     ]
    }
   ],
   "source": [
    "gv_VB_KUERZ_new_raw             = load_csv('vkber_data.csv',sep=',', encoding='UTF-8' )\n",
    "gv_VB_KUERZ_new_raw['Vorname']  = [x.split(' ')[-1]            for x     in gv_VB_KUERZ_new_raw['KOMBI_NAME']]\n",
    "gv_VB_KUERZ_new_raw['Nachname'] = [' '.join(x.split(' ')[:-1]) for x     in gv_VB_KUERZ_new_raw['KOMBI_NAME']]"
   ]
  },
  {
   "cell_type": "code",
   "execution_count": 31,
   "metadata": {},
   "outputs": [],
   "source": [
    "\"\"\"gv_VB_KUERZ = {\"ACO\":[\"ACO\"], \"OSS\":[\"OSS\"], \"RIN\":[\"RIN\"], \n",
    "               \"FCO\":[\"FCO\", \"LPA\", \"TRA\"], \n",
    "               \"YAM\":[\"YAM\", \"ANS\"],\n",
    "               \"ADA\":[\"ADA\", \"LPA\", \"TRA\"],\n",
    "               \"CKT\":[\"CKT\"], \"LPA\":[\"LPA\"], \"JAN\":[\"JAN\"],\n",
    "               \"JCO\":[\"JCO\"], \"RFO\":[\"RFO\"], \"RPO\":[\"RPO\", \"ROF\"],\n",
    "               \"RUC\":[\"RUC\"], \"TRA\":[\"TRA\"], \"REM\":[\"REM\"],\n",
    "               \"AST\":[\"AST\"]} ## Mapping für die einzelnen Top 20 Excel Listen pro VB\"\"\"\n",
    "gv_VB_KUERZ = {x: [y] for (x,y) in zip(gv_VB_KUERZ_new_raw['KURZZEICHEN'],gv_VB_KUERZ_new_raw['KURZZEICHEN'])}\n"
   ]
  },
  {
   "cell_type": "markdown",
   "metadata": {},
   "source": [
    "## Spaltenauswahl & DType-Bereinigung"
   ]
  },
  {
   "cell_type": "code",
   "execution_count": 32,
   "metadata": {},
   "outputs": [],
   "source": [
    "ek_list_ultrakompakt = (ek_list.loc[(pd.isna(ek_list.Kleinkunde) & \n",
    "                                     pd.isna(ek_list.Neukunde) & \n",
    "                                     pd.isna(ek_list.Insolvenz) & \n",
    "                                     pd.isna(ek_list.Umsatz_erreicht) & \n",
    "                                     pd.isna(ek_list.kuerzlich_gebucht) & \n",
    "                                     pd.isna(ek_list.kuerzlich_im_aushang) & \n",
    "                                     pd.isna(ek_list.kuerzlich_im_kontakt) & \n",
    "                                     pd.isna(ek_list.VB_FILTER_AKTIV)), ## Zeilen-Bedinungen\n",
    "                                     \"ENDKUNDE_NR Endkunde HB_APG Agentur HB_Agentur PLZ Ort\".split() + \n",
    "                                     [col for col in ek_list.columns if 'Net_2'in col] +\n",
    "                                     \"letzte_VBs letzter_Kontakt KZ_letzter_Ktkt Kanal Betreff letzte_Kamp_erfasst letzte_Kamp_Beginn Verkaufsgebiet VB_VK_Geb\".split()+\n",
    "                                     [col for col in ek_list.columns if 'prob_KW' in col]]) ## Spalten-Auswahl\n"
   ]
  },
  {
   "cell_type": "code",
   "execution_count": 33,
   "metadata": {},
   "outputs": [],
   "source": [
    "ek_list_ultrakompakt[\"PLZ\"]                 = ek_list_ultrakompakt[\"PLZ\"].fillna(0).astype(np.int64)\n",
    "ek_list_ultrakompakt[\"ENDKUNDE_NR\"]         = ek_list_ultrakompakt[\"ENDKUNDE_NR\"].fillna(0).astype(np.int64) # Zur schoeneren Darstellung im Excel\n",
    "\n",
    "for x in ek_list_ultrakompakt.keys():\n",
    "    if 'Net_' in x:\n",
    "        ek_list_ultrakompakt[x] = ek_list_ultrakompakt[x].fillna(0).astype(np.int64)\n",
    "\n",
    "\n",
    "ek_list_ultrakompakt['letzter_Kontakt']     = pd.to_datetime(ek_list_ultrakompakt['letzter_Kontakt'],     format='%Y-%m-%d')\n",
    "ek_list_ultrakompakt['letzte_Kamp_erfasst'] = pd.to_datetime(ek_list_ultrakompakt['letzte_Kamp_erfasst'], format='%Y-%m-%d')\n",
    "ek_list_ultrakompakt['letzte_Kamp_Beginn']  = pd.to_datetime(ek_list_ultrakompakt['letzte_Kamp_Beginn'],  format='%Y-%m-%d')\n"
   ]
  },
  {
   "cell_type": "markdown",
   "metadata": {},
   "source": [
    "## Zuteilung und die einzelnen VBs\n"
   ]
  },
  {
   "cell_type": "code",
   "execution_count": 34,
   "metadata": {},
   "outputs": [],
   "source": [
    "gv_VB_TOP_N = 20  ## Die Top N = 20 Kunden, welche an die VBs geliefert werden"
   ]
  },
  {
   "cell_type": "code",
   "execution_count": 35,
   "metadata": {},
   "outputs": [],
   "source": [
    "ek_list_vb_dict = {}\n",
    "for x in gv_VB_KUERZ.keys():\n",
    "    ek_list_vb_dict[x] = (ek_list_ultrakompakt[ek_list_ultrakompakt.HB_APG.isin(gv_VB_KUERZ[x]) |\n",
    "                                               ek_list_ultrakompakt.HB_Agentur.isin(gv_VB_KUERZ[x])]\n",
    "                         .sort_values([col for col in ek_list.columns if 'prob_KW' in col], ascending=False) # highest probability first.\n",
    "                         .head(gv_VB_TOP_N)) ## Top 20 best leads per VB"
   ]
  },
  {
   "cell_type": "markdown",
   "metadata": {},
   "source": [
    "## XlsxWriter"
   ]
  },
  {
   "cell_type": "markdown",
   "metadata": {},
   "source": [
    "### Spezielle Spaltennamen und Info-Texte im Excel (definiert durch JLU)"
   ]
  },
  {
   "cell_type": "code",
   "execution_count": 36,
   "metadata": {},
   "outputs": [],
   "source": [
    "dict_jlu = dict(zip(ek_list_ultrakompakt.keys(),ek_list_ultrakompakt.keys())) # map all names on itself, then adjust those which need to be adjusted:\n",
    "dict_jlu['ENDKUNDE_NR']         = 'Gepard-Nr. Endkunde'\n",
    "dict_jlu['HB_APG']              = 'VB Endkunde'\n",
    "dict_jlu['HB_Agentur']          = 'VB Agentur'\n",
    "dict_jlu['letzte_VBs']          = 'VBs letzte Kampagnen'\n",
    "dict_jlu['letzter_Kontakt']     = 'Letzter CRM-Kontakt'\n",
    "dict_jlu['KZ_letzter_Ktkt']     = 'Kz letzter Kontakt'\n",
    "dict_jlu['letzte_Kamp_erfasst'] = 'Letzte Kampagne erfasst am'\n",
    "dict_jlu['letzte_Kamp_Beginn']  = 'Beginn letzte Kampagne'\n",
    "dict_jlu['VB_VK_Geb']           = 'Gebiets-VB'\n",
    "for x in dict_jlu.keys():\n",
    "    if 'prob_' in x:\n",
    "        dict_jlu[x]           = 'Chance'"
   ]
  },
  {
   "cell_type": "code",
   "execution_count": 37,
   "metadata": {},
   "outputs": [],
   "source": [
    "info_text = \"\"\"Liste von potenziell interessanten Kundenkontakten.\n",
    "Die Liste wird alle 2 Wochen bereitgestellt.\\n\n",
    "Bitte in den letzten 2 Spalten Feedback eintragen, auch Vorschläge für die Verbesserung der Liste sind willkommen. Vielen Dank.\"\"\""
   ]
  },
  {
   "cell_type": "code",
   "execution_count": 38,
   "metadata": {},
   "outputs": [],
   "source": [
    "def make_excel(dict_vb_df):\n",
    "    \"\"\"\n",
    "    Input: Dictionary mit VBs als Keys und Dataframes (Top20 pro VB) als value.\n",
    "    Output: Pro VB wird ein formartiertes Excel generiert.\n",
    "    \"\"\"\n",
    "    file_name_templ = 'EK_LIST_2W_KOMPAKT_{0}'\n",
    "    global no_leads\n",
    "    no_leads = []  # This will be filled with VBs without leads.\n",
    "    for vb in dict_vb_df.keys():\n",
    "        if len(dict_vb_df[vb]) == 0:\n",
    "            print('Verkaufsberater '+ vb +' hat keine Leads.')\n",
    "            no_leads += [vb]\n",
    "            continue\n",
    "        \n",
    "        ## Technical Definitions:\n",
    "        column_names = dict_vb_df[vb].keys()                                                    # Column names, titles\n",
    "        alphabet     = 'ABCDEFGHIJKLMNOPQRSTUVWXYZ'                                             # Alphabet\n",
    "        W            = alphabet[len(column_names)]                                              # Feedback-Spalte, sollte Spalte W sein\n",
    "        X            = alphabet[len(column_names)+1]                                            # Kommentar-Spalte, sollte Spalte X sein\n",
    "        lengths      = list(np.vectorize(len)(dict_vb_df[vb].values.astype(str)).max(axis=0))   # Maximal character length for each column\n",
    "        types        = dict(dict_vb_df[vb].dtypes.astype(str))                         # Types for each column\n",
    "        #excel_dict    = {letter: column  for (letter, column) in zip(letters, columns)}\n",
    "        excel_dict   = {alphabet[i]: column_names[i] for i in range(0, len(column_names))}      # Dictionary: Column to Name\n",
    "        excel_width  = {alphabet[i]: lengths[i]+1    for i in range(0, len(column_names))}      # Dictionary: Column to Widths\n",
    "        #dict(ek_list_vb_dict[\"ACO\"].astype('str').apply(lambda s: max(s.str.len())))\n",
    "        \n",
    "        ## Define feedback list for Drop-Down:\n",
    "        feedback = {'validate': 'list',\n",
    "                      'source': ['hilfreich', 'nicht hilfreich', 'nicht bearbeitet'],\n",
    "                 'input_title': 'Bitte beurteilen:',\n",
    "               'input_message': '- hilfreich\\n- nicht hilfreich\\n- nicht bearbeitet',\n",
    "                 'error_title': 'Eingabe ungültig',\n",
    "               'error_message': 'Bitte auswählen:\\n  - hilfreich\\n  - nicht hilfreich\\n  - nicht bearbeitet'}\n",
    "\n",
    "        ## Create a Pandas Excel writer using XlsxWriter as the engine:\n",
    "        writer = pd.ExcelWriter(file_name_templ.format(vb)+'.xlsx', engine='xlsxwriter', datetime_format=\"dd.mm.yyyy\")\n",
    "\n",
    "        ## Convert the dataframe to an XlsxWriter Excel object:\n",
    "        dict_vb_df[vb].to_excel(writer, sheet_name=file_name_templ.format(vb), index=False, freeze_panes=(1,5)) #, header=True)\n",
    "\n",
    "        ## Create xlsxwriter workbook object:\n",
    "        workbook  = writer.book\n",
    "        worksheet = writer.sheets[file_name_templ.format(vb)]\n",
    "        \n",
    "        ## Define column formats:\n",
    "        column_format_text     = workbook.add_format({'align': 'left',   'valign': 'bottom'})\n",
    "        column_format_txt_wrap = workbook.add_format({'align': 'left',   'valign': 'bottom', 'text_wrap': True})     # Commentary fields need\n",
    "        column_format_umsatz   = workbook.add_format({'align': 'right',  'valign': 'bottom', 'num_format': \"#,###\"}) # Netto-Umsatz!\n",
    "        column_format_prob     = workbook.add_format({'align': 'right',  'valign': 'bottom', 'num_format': \"#.0\"})   # Probability\n",
    "        column_format_integer  = workbook.add_format({'align': 'right',  'valign': 'bottom', 'num_format': \"#\"})     # Integers for PLZ and Gepard-Nr\n",
    "        column_format_right    = workbook.add_format({'align': 'right',  'valign': 'bottom'}) # \n",
    "        column_format_left     = workbook.add_format({'align': 'left',   'valign': 'bottom'}) # \n",
    "        column_format_dropdown = workbook.add_format({'align': 'left',   'valign': 'bottom', 'bg_color': '#EAEAEA'})\n",
    "        column_format_error    = workbook.add_format({'bg_color': 'black'})\n",
    "\n",
    "        ## Define templates for special cell formats:\n",
    "        cell_color_yellow      = workbook.add_format({'align': 'center', 'valign': 'bottom', 'bg_color': '#ffff00', 'bold': True,  'text_wrap' : True, 'rotation': 90})\n",
    "        cell_color_blue        = workbook.add_format({'align': 'right',  'valign': 'bottom', 'bg_color': '#bdd7ee', 'bold': False, 'text_wrap' : True})\n",
    "        cell_color_rotate      = workbook.add_format({'align': 'center', 'valign': 'bottom', 'bg_color': '#EAEAEA', 'bold': True,  'text_wrap' : True, 'rotation': 90})\n",
    "        cell_color_norot       = workbook.add_format({'align': 'left',   'valign': 'bottom', 'bg_color': '#EAEAEA', 'bold': True,  'text_wrap' : True})\n",
    "\n",
    "        ## Automised Setting/formating columns and top-row cells:\n",
    "        for i in excel_dict.keys():\n",
    "            # Write Columns:\n",
    "            if types[excel_dict[i]] == 'float64':\n",
    "                worksheet.set_column(i+':'+i, 5, column_format_prob) # Fixed length! Net values. \n",
    "                \n",
    "            elif types[excel_dict[i]] == 'int64':\n",
    "                if \"Net_\" in excel_dict[i]:\n",
    "                    worksheet.set_column(i+':'+i, excel_width[i], column_format_umsatz)\n",
    "                else:\n",
    "                    worksheet.set_column(i+':'+i, excel_width[i], column_format_integer) # Should only effect PLZ and Gepard-Nr.\n",
    "            \n",
    "            elif types[excel_dict[i]] == 'datetime64[ns]':\n",
    "                worksheet.set_column(i+':'+i, 10, column_format_text) # Fixed length!\n",
    "            \n",
    "            elif types[excel_dict[i]] == 'object':\n",
    "                if \"Betreff\" in excel_dict[i]:\n",
    "                    worksheet.set_column(i+':'+i, 40, column_format_text) # Fixed length, Betreff contains comments on last contact with customer. can be long\n",
    "                else:\n",
    "                    worksheet.set_column(i+':'+i, excel_width[i], column_format_text)\n",
    "            \n",
    "            else:\n",
    "                worksheet.set_column(i+':'+i, excel_width[i], column_format_error) # If this gets triggered, these cells are turned black\n",
    "            \n",
    "            \n",
    "            # Write Top-row cells:\n",
    "            if excel_width[i] - 10 < len(dict_jlu[excel_dict[i]]):\n",
    "                worksheet.write(i+'1',  dict_jlu[excel_dict[i]], cell_color_rotate)\n",
    "            else:\n",
    "                worksheet.write(i+'1',  dict_jlu[excel_dict[i]], cell_color_norot)\n",
    "\n",
    "\n",
    "        ## Manual Setting/formating columns and top-row cells:\n",
    "        \n",
    "        #Info-text box, should be vsible under the list on the left side:\n",
    "        worksheet.insert_textbox('B'+str(gv_VB_TOP_N+2+1),info_text, {'width': 480, 'height': 100, 'fill': {'color': '#ddd9c3'}, 'line': {'width': 3.25}})\n",
    "\n",
    "        #Feedback-column, W:\n",
    "        worksheet.set_column(W +':'+ W, 15, column_format_left)\n",
    "        worksheet.write(W+'1',  'Feedback - bitte auswählen', cell_color_yellow)\n",
    "        for i in range(2,gv_VB_TOP_N+2):\n",
    "            worksheet.write(W + str(i),'', column_format_dropdown)\n",
    "        worksheet.data_validation(W +'2:'+ W +str(gv_VB_TOP_N+2), feedback)\n",
    "        \n",
    "        # General feedback, below list, aligned with Feedback-column W:\n",
    "        worksheet.merge_range(alphabet[len(column_names)-5]+str(gv_VB_TOP_N+3)+':'+alphabet[len(column_names)-1]+str(gv_VB_TOP_N+3), 'hier ein generelles Feedback wählen:', cell_color_blue)\n",
    "        worksheet.data_validation(W + str(gv_VB_TOP_N+3), feedback)\n",
    "        worksheet.write(W + str(gv_VB_TOP_N+3),'', column_format_dropdown) # Leave empty cell, so VBs have to fill out.\n",
    "        \n",
    "        # Comment column, X:\n",
    "        worksheet.write(X + '1',  'falls nicht hilfreich, bitte hier einen kurzen Kommentar angeben - entweder pro Zeile oder für die Gesamt-Liste',cell_color_norot)\n",
    "        worksheet.set_column(X+':'+X, 44, column_format_txt_wrap)\n",
    "\n",
    "        # Write file into working folder\n",
    "        writer.save()"
   ]
  },
  {
   "cell_type": "code",
   "execution_count": 39,
   "metadata": {},
   "outputs": [
    {
     "name": "stdout",
     "output_type": "stream",
     "text": [
      "Verkaufsberater AST hat keine Leads.\n",
      "Verkaufsberater BBO hat keine Leads.\n",
      "Verkaufsberater BDJ hat keine Leads.\n",
      "Verkaufsberater BEB hat keine Leads.\n",
      "Verkaufsberater BNI hat keine Leads.\n",
      "Verkaufsberater BRA hat keine Leads.\n",
      "Verkaufsberater CBA hat keine Leads.\n",
      "Verkaufsberater CGE hat keine Leads.\n",
      "Verkaufsberater CHA hat keine Leads.\n",
      "Verkaufsberater CMA hat keine Leads.\n",
      "Verkaufsberater CSE hat keine Leads.\n",
      "Verkaufsberater DAZ hat keine Leads.\n",
      "Verkaufsberater DOG hat keine Leads.\n",
      "Verkaufsberater ERF hat keine Leads.\n",
      "Verkaufsberater HAY hat keine Leads.\n",
      "Verkaufsberater HKL hat keine Leads.\n",
      "Verkaufsberater ISI hat keine Leads.\n",
      "Verkaufsberater JEM hat keine Leads.\n",
      "Verkaufsberater KAH hat keine Leads.\n",
      "Verkaufsberater KWI hat keine Leads.\n",
      "Verkaufsberater LAH hat keine Leads.\n",
      "Verkaufsberater LSC hat keine Leads.\n",
      "Verkaufsberater LZA hat keine Leads.\n",
      "Verkaufsberater MBI hat keine Leads.\n",
      "Verkaufsberater MBU hat keine Leads.\n",
      "Verkaufsberater MFI hat keine Leads.\n",
      "Verkaufsberater MFU hat keine Leads.\n",
      "Verkaufsberater MRL hat keine Leads.\n",
      "Verkaufsberater MTO hat keine Leads.\n",
      "Verkaufsberater MWE hat keine Leads.\n",
      "Verkaufsberater MWY hat keine Leads.\n",
      "Verkaufsberater MYS hat keine Leads.\n",
      "Verkaufsberater NIM hat keine Leads.\n",
      "Verkaufsberater NME hat keine Leads.\n",
      "Verkaufsberater OLC hat keine Leads.\n",
      "Verkaufsberater OTT hat keine Leads.\n",
      "Verkaufsberater PDE hat keine Leads.\n",
      "Verkaufsberater PDI hat keine Leads.\n",
      "Verkaufsberater ROK hat keine Leads.\n",
      "Verkaufsberater SBA hat keine Leads.\n",
      "Verkaufsberater SBL hat keine Leads.\n",
      "Verkaufsberater SFA hat keine Leads.\n",
      "Verkaufsberater SOL hat keine Leads.\n",
      "Verkaufsberater STL hat keine Leads.\n",
      "Verkaufsberater VBI hat keine Leads.\n",
      "Verkaufsberater VME hat keine Leads.\n",
      "Verkaufsberater VRA hat keine Leads.\n",
      "Verkaufsberater WEP hat keine Leads.\n",
      "Verkaufsberater ZHU hat keine Leads.\n",
      "Verkaufsberater ZOL hat keine Leads.\n"
     ]
    }
   ],
   "source": [
    "make_excel(ek_list_vb_dict)"
   ]
  },
  {
   "cell_type": "code",
   "execution_count": 47,
   "metadata": {},
   "outputs": [
    {
     "data": {
      "text/plain": [
       "'AST/n BBO/n BDJ/n BEB/n BNI/n BRA/n CBA/n CGE/n CHA/n CMA/n CSE/n DAZ/n DOG/n ERF/n HAY/n HKL/n ISI/n JEM/n KAH/n KWI/n LAH/n LSC/n LZA/n MBI/n MBU/n MFI/n MFU/n MRL/n MTO/n MWE/n MWY/n MYS/n NIM/n NME/n OLC/n OTT/n PDE/n PDI/n ROK/n SBA/n SBL/n SFA/n SOL/n STL/n VBI/n VME/n VRA/n WEP/n ZHU/n ZOL'"
      ]
     },
     "execution_count": 47,
     "metadata": {},
     "output_type": "execute_result"
    }
   ],
   "source": [
    "'/n '.join(no_leads)"
   ]
  },
  {
   "cell_type": "code",
   "execution_count": 53,
   "metadata": {},
   "outputs": [
    {
     "ename": "AttributeError",
     "evalue": "'dict' object has no attribute 'sort'",
     "output_type": "error",
     "traceback": [
      "\u001b[1;31m---------------------------------------------------------------------------\u001b[0m",
      "\u001b[1;31mAttributeError\u001b[0m                            Traceback (most recent call last)",
      "\u001b[1;32m<ipython-input-53-78d36c441f99>\u001b[0m in \u001b[0;36m<module>\u001b[1;34m\u001b[0m\n\u001b[1;32m----> 1\u001b[1;33m \u001b[1;33m{\u001b[0m\u001b[0mx\u001b[0m \u001b[1;33m:\u001b[0m \u001b[0mek_list_vb_dict\u001b[0m\u001b[1;33m[\u001b[0m\u001b[0mx\u001b[0m\u001b[1;33m]\u001b[0m\u001b[1;33m.\u001b[0m\u001b[0mshape\u001b[0m\u001b[1;33m[\u001b[0m\u001b[1;36m0\u001b[0m\u001b[1;33m]\u001b[0m \u001b[1;32mfor\u001b[0m \u001b[0mx\u001b[0m \u001b[1;32min\u001b[0m \u001b[0mek_list_vb_dict\u001b[0m\u001b[1;33m.\u001b[0m\u001b[0mkeys\u001b[0m\u001b[1;33m(\u001b[0m\u001b[1;33m)\u001b[0m\u001b[1;33m}\u001b[0m\u001b[1;33m.\u001b[0m\u001b[0msort\u001b[0m\u001b[1;33m(\u001b[0m\u001b[1;33m)\u001b[0m\u001b[1;33m\u001b[0m\u001b[1;33m\u001b[0m\u001b[0m\n\u001b[0m",
      "\u001b[1;31mAttributeError\u001b[0m: 'dict' object has no attribute 'sort'"
     ]
    }
   ],
   "source": [
    "{x : ek_list_vb_dict[x].shape[0] for x in ek_list_vb_dict.keys()}.sort()"
   ]
  }
 ],
 "metadata": {
  "kernelspec": {
   "display_name": "Python 3",
   "language": "python",
   "name": "python3"
  },
  "language_info": {
   "codemirror_mode": {
    "name": "ipython",
    "version": 3
   },
   "file_extension": ".py",
   "mimetype": "text/x-python",
   "name": "python",
   "nbconvert_exporter": "python",
   "pygments_lexer": "ipython3",
   "version": "3.7.3"
  }
 },
 "nbformat": 4,
 "nbformat_minor": 2
}
